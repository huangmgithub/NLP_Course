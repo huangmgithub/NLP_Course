{
 "cells": [
  {
   "cell_type": "code",
   "execution_count": 1,
   "metadata": {},
   "outputs": [
    {
     "data": {
      "text/html": [
       "<div>\n",
       "<style scoped>\n",
       "    .dataframe tbody tr th:only-of-type {\n",
       "        vertical-align: middle;\n",
       "    }\n",
       "\n",
       "    .dataframe tbody tr th {\n",
       "        vertical-align: top;\n",
       "    }\n",
       "\n",
       "    .dataframe thead th {\n",
       "        text-align: right;\n",
       "    }\n",
       "</style>\n",
       "<table border=\"1\" class=\"dataframe\">\n",
       "  <thead>\n",
       "    <tr style=\"text-align: right;\">\n",
       "      <th></th>\n",
       "      <th>id</th>\n",
       "      <th>author</th>\n",
       "      <th>source</th>\n",
       "      <th>content</th>\n",
       "      <th>feature</th>\n",
       "      <th>title</th>\n",
       "      <th>url</th>\n",
       "    </tr>\n",
       "  </thead>\n",
       "  <tbody>\n",
       "    <tr>\n",
       "      <th>0</th>\n",
       "      <td>89617</td>\n",
       "      <td></td>\n",
       "      <td>快科技@http://www.kkj.cn/</td>\n",
       "      <td>此外，自本周（6月12日）起，除小米手机6等15款机型外，其余机型已暂停更新发布（含开发版/...</td>\n",
       "      <td>{\"type\":\"科技\",\"site\":\"cnbeta\",\"commentNum\":\"37\"...</td>\n",
       "      <td>小米MIUI 9首批机型曝光：共计15款</td>\n",
       "      <td>http://www.cnbeta.com/articles/tech/623597.htm</td>\n",
       "    </tr>\n",
       "    <tr>\n",
       "      <th>1</th>\n",
       "      <td>89616</td>\n",
       "      <td></td>\n",
       "      <td>快科技@http://www.kkj.cn/</td>\n",
       "      <td>骁龙835作为唯一通过Windows 10桌面平台认证的ARM处理器，高通强调，不会因为只考...</td>\n",
       "      <td>{\"type\":\"科技\",\"site\":\"cnbeta\",\"commentNum\":\"15\"...</td>\n",
       "      <td>骁龙835在Windows 10上的性能表现有望改善</td>\n",
       "      <td>http://www.cnbeta.com/articles/tech/623599.htm</td>\n",
       "    </tr>\n",
       "    <tr>\n",
       "      <th>2</th>\n",
       "      <td>89615</td>\n",
       "      <td></td>\n",
       "      <td>快科技@http://www.kkj.cn/</td>\n",
       "      <td>此前的一加3T搭载的是3400mAh电池，DashCharge快充规格为5V/4A。\\r\\n...</td>\n",
       "      <td>{\"type\":\"科技\",\"site\":\"cnbeta\",\"commentNum\":\"18\"...</td>\n",
       "      <td>一加手机5细节曝光：3300mAh、充半小时用1天</td>\n",
       "      <td>http://www.cnbeta.com/articles/tech/623601.htm</td>\n",
       "    </tr>\n",
       "    <tr>\n",
       "      <th>3</th>\n",
       "      <td>89614</td>\n",
       "      <td></td>\n",
       "      <td>新华社</td>\n",
       "      <td>这是6月18日在葡萄牙中部大佩德罗冈地区拍摄的被森林大火烧毁的汽车。新华社记者张立云摄\\r\\n</td>\n",
       "      <td>{\"type\":\"国际新闻\",\"site\":\"环球\",\"commentNum\":\"0\",\"j...</td>\n",
       "      <td>葡森林火灾造成至少62人死亡 政府宣布进入紧急状态（组图）</td>\n",
       "      <td>http://world.huanqiu.com/hot/2017-06/10866126....</td>\n",
       "    </tr>\n",
       "    <tr>\n",
       "      <th>4</th>\n",
       "      <td>89613</td>\n",
       "      <td>胡淑丽_MN7479</td>\n",
       "      <td>深圳大件事</td>\n",
       "      <td>（原标题：44岁女子跑深圳约会网友被拒，暴雨中裸身奔走……）\\r\\n@深圳交警微博称：昨日清...</td>\n",
       "      <td>{\"type\":\"新闻\",\"site\":\"网易热门\",\"commentNum\":\"978\",...</td>\n",
       "      <td>44岁女子约网友被拒暴雨中裸奔 交警为其披衣相随</td>\n",
       "      <td>http://news.163.com/17/0618/00/CN617P3Q0001875...</td>\n",
       "    </tr>\n",
       "  </tbody>\n",
       "</table>\n",
       "</div>"
      ],
      "text/plain": [
       "      id      author                  source  \\\n",
       "0  89617              快科技@http://www.kkj.cn/   \n",
       "1  89616              快科技@http://www.kkj.cn/   \n",
       "2  89615              快科技@http://www.kkj.cn/   \n",
       "3  89614                                 新华社   \n",
       "4  89613  胡淑丽_MN7479                   深圳大件事   \n",
       "\n",
       "                                             content  \\\n",
       "0  此外，自本周（6月12日）起，除小米手机6等15款机型外，其余机型已暂停更新发布（含开发版/...   \n",
       "1  骁龙835作为唯一通过Windows 10桌面平台认证的ARM处理器，高通强调，不会因为只考...   \n",
       "2  此前的一加3T搭载的是3400mAh电池，DashCharge快充规格为5V/4A。\\r\\n...   \n",
       "3    这是6月18日在葡萄牙中部大佩德罗冈地区拍摄的被森林大火烧毁的汽车。新华社记者张立云摄\\r\\n   \n",
       "4  （原标题：44岁女子跑深圳约会网友被拒，暴雨中裸身奔走……）\\r\\n@深圳交警微博称：昨日清...   \n",
       "\n",
       "                                             feature  \\\n",
       "0  {\"type\":\"科技\",\"site\":\"cnbeta\",\"commentNum\":\"37\"...   \n",
       "1  {\"type\":\"科技\",\"site\":\"cnbeta\",\"commentNum\":\"15\"...   \n",
       "2  {\"type\":\"科技\",\"site\":\"cnbeta\",\"commentNum\":\"18\"...   \n",
       "3  {\"type\":\"国际新闻\",\"site\":\"环球\",\"commentNum\":\"0\",\"j...   \n",
       "4  {\"type\":\"新闻\",\"site\":\"网易热门\",\"commentNum\":\"978\",...   \n",
       "\n",
       "                           title  \\\n",
       "0           小米MIUI 9首批机型曝光：共计15款   \n",
       "1     骁龙835在Windows 10上的性能表现有望改善   \n",
       "2      一加手机5细节曝光：3300mAh、充半小时用1天   \n",
       "3  葡森林火灾造成至少62人死亡 政府宣布进入紧急状态（组图）   \n",
       "4       44岁女子约网友被拒暴雨中裸奔 交警为其披衣相随   \n",
       "\n",
       "                                                 url  \n",
       "0     http://www.cnbeta.com/articles/tech/623597.htm  \n",
       "1     http://www.cnbeta.com/articles/tech/623599.htm  \n",
       "2     http://www.cnbeta.com/articles/tech/623601.htm  \n",
       "3  http://world.huanqiu.com/hot/2017-06/10866126....  \n",
       "4  http://news.163.com/17/0618/00/CN617P3Q0001875...  "
      ]
     },
     "execution_count": 1,
     "metadata": {},
     "output_type": "execute_result"
    }
   ],
   "source": [
    "import pandas as pd\n",
    "fname = 'C:/Users/huangm/Desktop/sqlResult_1558435.csv'\n",
    "data = pd.read_csv(fname, encoding='gb18030')\n",
    "data = data.fillna('') #将NaN转换为''\n",
    "data.head()"
   ]
  },
  {
   "cell_type": "markdown",
   "metadata": {},
   "source": [
    "## 正负样本量不平衡"
   ]
  },
  {
   "cell_type": "code",
   "execution_count": 2,
   "metadata": {},
   "outputs": [
    {
     "data": {
      "text/plain": [
       "(2665, 335)"
      ]
     },
     "execution_count": 2,
     "metadata": {},
     "output_type": "execute_result"
    }
   ],
   "source": [
    "data_sampled = data.sample(n=3000)\n",
    "data_pos = data_sampled[data_sampled['source'] == '新华社']\n",
    "data_neg = data_sampled[data_sampled['source'] != '新华社']\n",
    "len(data_pos), len(data_neg)"
   ]
  },
  {
   "cell_type": "markdown",
   "metadata": {},
   "source": [
    "## 直接选取样本，使之平衡（分类器设置class_weight也可以）"
   ]
  },
  {
   "cell_type": "code",
   "execution_count": 9,
   "metadata": {},
   "outputs": [
    {
     "data": {
      "text/plain": [
       "8000"
      ]
     },
     "execution_count": 9,
     "metadata": {},
     "output_type": "execute_result"
    }
   ],
   "source": [
    "data_pos = data[data['source'] == '新华社']\n",
    "data_neg = data[data['source'] != '新华社']\n",
    "\n",
    "N_samples = 8000\n",
    "data_pos = data_pos.sample(n = int(N_samples / 2))\n",
    "data_neg = data_neg.sample(n = int(N_samples / 2))\n",
    "\n",
    "data_sample = data_pos.append(data_neg)\n",
    "len(data_sample)"
   ]
  },
  {
   "cell_type": "markdown",
   "metadata": {},
   "source": [
    "## 数据预处理"
   ]
  },
  {
   "cell_type": "code",
   "execution_count": 10,
   "metadata": {},
   "outputs": [],
   "source": [
    "import jieba\n",
    "import re\n",
    "\n",
    "def cut(string):\n",
    "    \"\"\"切词\"\"\"\n",
    "    return ' '.join(jieba.cut(string))\n",
    "\n",
    "def token(string):\n",
    "    \"\"\"匹配文字\"\"\"\n",
    "    return re.findall(r'[\\d\\w]+', string)"
   ]
  },
  {
   "cell_type": "code",
   "execution_count": 11,
   "metadata": {},
   "outputs": [
    {
     "data": {
      "text/html": [
       "<div>\n",
       "<style scoped>\n",
       "    .dataframe tbody tr th:only-of-type {\n",
       "        vertical-align: middle;\n",
       "    }\n",
       "\n",
       "    .dataframe tbody tr th {\n",
       "        vertical-align: top;\n",
       "    }\n",
       "\n",
       "    .dataframe thead th {\n",
       "        text-align: right;\n",
       "    }\n",
       "</style>\n",
       "<table border=\"1\" class=\"dataframe\">\n",
       "  <thead>\n",
       "    <tr style=\"text-align: right;\">\n",
       "      <th></th>\n",
       "      <th>content</th>\n",
       "      <th>y</th>\n",
       "    </tr>\n",
       "  </thead>\n",
       "  <tbody>\n",
       "    <tr>\n",
       "      <th>0</th>\n",
       "      <td>新华社 照片 外代 2017 年 6 月 4 日 n 外代 二线 足球 欧冠 皇马 卫冕 成...</td>\n",
       "      <td>1</td>\n",
       "    </tr>\n",
       "    <tr>\n",
       "      <th>1</th>\n",
       "      <td>新华社 西安 6 月 3 日电 记者 蔺娟 记者 3 日 从 陕西省 人力资源 和 社会保障...</td>\n",
       "      <td>1</td>\n",
       "    </tr>\n",
       "    <tr>\n",
       "      <th>2</th>\n",
       "      <td>新华社 照片 外代 2017 年 4 月 16 日 n 外代 二线 法国 博 瓦尔 动物园 ...</td>\n",
       "      <td>1</td>\n",
       "    </tr>\n",
       "    <tr>\n",
       "      <th>3</th>\n",
       "      <td>n 新华社 上海 ５ 月 ２ 7 日电 题大 数据 提示 这个 端午节 你 怎么 过 n 新...</td>\n",
       "      <td>1</td>\n",
       "    </tr>\n",
       "    <tr>\n",
       "      <th>4</th>\n",
       "      <td>新华社 照片 陵水 海南 2017 年 5 月 28 日 n 体育 3 篮球 2017 中国...</td>\n",
       "      <td>1</td>\n",
       "    </tr>\n",
       "  </tbody>\n",
       "</table>\n",
       "</div>"
      ],
      "text/plain": [
       "                                             content  y\n",
       "0  新华社 照片 外代 2017 年 6 月 4 日 n 外代 二线 足球 欧冠 皇马 卫冕 成...  1\n",
       "1  新华社 西安 6 月 3 日电 记者 蔺娟 记者 3 日 从 陕西省 人力资源 和 社会保障...  1\n",
       "2  新华社 照片 外代 2017 年 4 月 16 日 n 外代 二线 法国 博 瓦尔 动物园 ...  1\n",
       "3  n 新华社 上海 ５ 月 ２ 7 日电 题大 数据 提示 这个 端午节 你 怎么 过 n 新...  1\n",
       "4  新华社 照片 陵水 海南 2017 年 5 月 28 日 n 体育 3 篮球 2017 中国...  1"
      ]
     },
     "execution_count": 11,
     "metadata": {},
     "output_type": "execute_result"
    }
   ],
   "source": [
    "content = [cut(''.join(token(content))) for content in data_sample['content'].tolist()]\n",
    "y = [1 if source == '新华社' else 0 for source in data_sample['source'].tolist()]\n",
    "new_data = pd.DataFrame([{'content':content_i,'y':y_i} for content_i, y_i in zip(content, y)])\n",
    "new_data.head()"
   ]
  },
  {
   "cell_type": "markdown",
   "metadata": {},
   "source": [
    "## TFIDF向量化"
   ]
  },
  {
   "cell_type": "code",
   "execution_count": 14,
   "metadata": {},
   "outputs": [
    {
     "data": {
      "text/plain": [
       "((8000, 8000), 8000)"
      ]
     },
     "execution_count": 14,
     "metadata": {},
     "output_type": "execute_result"
    }
   ],
   "source": [
    "from sklearn.feature_extraction.text import TfidfVectorizer # sklearn tfidf向量化\n",
    "import numpy as np\n",
    "\n",
    "vectorized = TfidfVectorizer(max_features=8000)\n",
    "news = new_data['content'].tolist()\n",
    "news_vectors = vectorized.fit_transform(news)\n",
    "news_vectors.shape, len(y)"
   ]
  },
  {
   "cell_type": "code",
   "execution_count": 15,
   "metadata": {},
   "outputs": [],
   "source": [
    "news_array = news_vectors.toarray()"
   ]
  },
  {
   "cell_type": "markdown",
   "metadata": {},
   "source": [
    "## 数据集分割"
   ]
  },
  {
   "cell_type": "code",
   "execution_count": 16,
   "metadata": {},
   "outputs": [
    {
     "data": {
      "text/plain": [
       "((6400, 8000), (1600, 8000), 6400, 1600)"
      ]
     },
     "execution_count": 16,
     "metadata": {},
     "output_type": "execute_result"
    }
   ],
   "source": [
    "from sklearn.model_selection import train_test_split # 划分数据集\n",
    "\n",
    "# 划分数据集\n",
    "X_train, X_test, Y_train, Y_test = train_test_split(news_array, y, test_size=0.2, random_state=42)\n",
    "X_train.shape, X_test.shape, len(Y_train), len(Y_test)"
   ]
  },
  {
   "cell_type": "markdown",
   "metadata": {},
   "source": [
    "## 构建模型"
   ]
  },
  {
   "cell_type": "code",
   "execution_count": 17,
   "metadata": {},
   "outputs": [],
   "source": [
    "from sklearn.metrics import precision_score, recall_score, f1_score, roc_auc_score\n",
    "\n",
    "def get_performance(y_valid, y_pred, y_pred_prob):\n",
    "    \"\"\"获得模型表现\"\"\"\n",
    "    # precision 查准率\n",
    "    print('precision score:{}'.format(precision_score(y_valid, y_pred)))\n",
    "    # recall 召回率\n",
    "    print('recall score:{}'.format(recall_score(y_valid, y_pred)))\n",
    "    # f1 score用来综合precision和recall作为一个评价指标\n",
    "    print('f1 score:{}'.format(f1_score(y_valid, y_pred)))\n",
    "    # roc_auc_score 判断二分类预测模型优劣的标准\n",
    "    print('roc_auc_score:{}'.format(roc_auc_score(y_valid, y_pred_prob[:,1])))"
   ]
  },
  {
   "cell_type": "code",
   "execution_count": 18,
   "metadata": {},
   "outputs": [],
   "source": [
    "# 将训练集数据划分为训练和验证集\n",
    "x_train, x_valid, y_train, y_valid = train_test_split(X_train, Y_train, test_size=0.2, random_state=52)"
   ]
  },
  {
   "cell_type": "code",
   "execution_count": 19,
   "metadata": {},
   "outputs": [],
   "source": [
    "# 假定在一个k分类问题中，验证集中共有n个样本\n",
    "# predict返回的是n个元素的一维数组，每个代表这每个样本得预测值\n",
    "# predict_proba返回是n行k列的二维数组，每一行代表每个样本在k个类别预测的概率，相加为1\n",
    "\n",
    "def get_prediction(model, x_valid, y_valid):\n",
    "    \"\"\"\n",
    "    获得模型预测结果\n",
    "    \"\"\"\n",
    "    print('score={}'.format(model.score(x_valid, y_valid)))\n",
    "    y_pred = model.predict(x_valid)\n",
    "    y_pred_prob = model.predict_proba(x_valid)\n",
    "    return y_pred, y_pred_prob"
   ]
  },
  {
   "cell_type": "markdown",
   "metadata": {},
   "source": [
    "### KNN"
   ]
  },
  {
   "cell_type": "code",
   "execution_count": 20,
   "metadata": {},
   "outputs": [],
   "source": [
    "from sklearn.neighbors import KNeighborsClassifier # KNN分类器\n",
    "\n",
    "def knn(n_neighbors, n_jobs, weights, x_train, y_train):\n",
    "    \"\"\"\n",
    "    n_neighbors 选择邻近点个数\n",
    "    n_jobs设定工作的core数量,为-1代表全部的CPU核进行工作\n",
    "    weights: 'uniform' or 'distance'\n",
    "    \"\"\"\n",
    "    knn_model = KNeighborsClassifier(n_neighbors=n_neighbors, n_jobs= n_jobs)\n",
    "    knn_model.fit(x_train, y_train)\n",
    "    return knn_model"
   ]
  },
  {
   "cell_type": "markdown",
   "metadata": {},
   "source": [
    "#### ① n_neighbors = 3    \n",
    "#### ② weights = 'uniform'"
   ]
  },
  {
   "cell_type": "code",
   "execution_count": 21,
   "metadata": {},
   "outputs": [
    {
     "name": "stdout",
     "output_type": "stream",
     "text": [
      "score=0.68671875\n",
      "precision score:0.9645669291338582\n",
      "recall score:0.38461538461538464\n",
      "f1 score:0.5499438832772167\n",
      "roc_auc_score:0.7606331682092624\n"
     ]
    }
   ],
   "source": [
    "knn_model_1 = knn(3, 2, 'uniform', x_train, y_train)\n",
    "y_pred, y_pred_prob = get_prediction(knn_model_1, x_valid, y_valid)\n",
    "get_performance(y_valid, y_pred, y_pred_prob)"
   ]
  },
  {
   "cell_type": "markdown",
   "metadata": {},
   "source": [
    "#### ① n_neighbors = 5    \n",
    "#### ② weights = 'uniform'"
   ]
  },
  {
   "cell_type": "code",
   "execution_count": 22,
   "metadata": {},
   "outputs": [
    {
     "name": "stdout",
     "output_type": "stream",
     "text": [
      "score=0.66484375\n",
      "precision score:0.9814814814814815\n",
      "recall score:0.3328100470957614\n",
      "f1 score:0.4970691676436108\n",
      "roc_auc_score:0.7605513793027678\n"
     ]
    }
   ],
   "source": [
    "# 使用上面划分好的训练集和测试集，保证前后数据一致\n",
    "\n",
    "knn_model_2 = knn(5, 2, 'uniform', x_train, y_train)\n",
    "y_pred, y_pred_prob = get_prediction(knn_model_2, x_valid, y_valid)\n",
    "get_performance(y_valid, y_pred, y_pred_prob)"
   ]
  },
  {
   "cell_type": "markdown",
   "metadata": {},
   "source": [
    "#### ① n_neighbors = 7   \n",
    "#### ② weights = 'uniform'"
   ]
  },
  {
   "cell_type": "code",
   "execution_count": 23,
   "metadata": {},
   "outputs": [
    {
     "name": "stdout",
     "output_type": "stream",
     "text": [
      "score=0.6484375\n",
      "precision score:0.9947089947089947\n",
      "recall score:0.29513343799058084\n",
      "f1 score:0.4552058111380145\n",
      "roc_auc_score:0.7600142581257888\n"
     ]
    }
   ],
   "source": [
    "# 使用上面划分好的训练集和测试集，保证前后数据一致\n",
    "\n",
    "knn_model_3 = knn(7, 2, 'uniform', x_train, y_train)\n",
    "y_pred, y_pred_prob = get_prediction(knn_model_3, x_valid, y_valid)\n",
    "get_performance(y_valid, y_pred, y_pred_prob)"
   ]
  },
  {
   "cell_type": "markdown",
   "metadata": {},
   "source": [
    "#### ① n_neighbors = 7\n",
    "#### ② weights = '‘distance’'"
   ]
  },
  {
   "cell_type": "code",
   "execution_count": 24,
   "metadata": {},
   "outputs": [
    {
     "name": "stdout",
     "output_type": "stream",
     "text": [
      "score=0.6484375\n",
      "precision score:0.9947089947089947\n",
      "recall score:0.29513343799058084\n",
      "f1 score:0.4552058111380145\n",
      "roc_auc_score:0.7600142581257888\n"
     ]
    }
   ],
   "source": [
    "# 使用上面划分好的训练集和测试集，保证前后数据一致\n",
    "\n",
    "knn_model_4 = knn(7, 2, 'distance', x_train, y_train)\n",
    "y_pred, y_pred_prob = get_prediction(knn_model_4, x_valid, y_valid)\n",
    "get_performance(y_valid, y_pred, y_pred_prob)"
   ]
  },
  {
   "cell_type": "markdown",
   "metadata": {},
   "source": [
    "### Gaussian Naive Bayes"
   ]
  },
  {
   "cell_type": "code",
   "execution_count": 25,
   "metadata": {},
   "outputs": [],
   "source": [
    "from sklearn.naive_bayes import GaussianNB\n",
    "\n",
    "def nb(x_train, y_train):\n",
    "    \"\"\"高斯朴素贝叶斯\"\"\"\n",
    "    NB_model = GaussianNB()\n",
    "    NB_model.fit(x_train, y_train)\n",
    "    return NB_model"
   ]
  },
  {
   "cell_type": "code",
   "execution_count": 27,
   "metadata": {},
   "outputs": [
    {
     "name": "stdout",
     "output_type": "stream",
     "text": [
      "score=0.778125\n",
      "precision score:0.7313237221494102\n",
      "recall score:0.8759811616954474\n",
      "f1 score:0.797142857142857\n",
      "roc_auc_score:0.7806189589126715\n"
     ]
    }
   ],
   "source": [
    "# 使用上面划分好的训练集和测试集，保证前后数据一致\n",
    "\n",
    "NB_model = nb(x_train, y_train)\n",
    "y_pred, y_pred_prob = get_prediction(NB_model, x_valid, y_valid)\n",
    "get_performance(y_valid, y_pred, y_pred_prob)"
   ]
  },
  {
   "cell_type": "markdown",
   "metadata": {},
   "source": [
    "### Logistic Regression"
   ]
  },
  {
   "cell_type": "code",
   "execution_count": 28,
   "metadata": {},
   "outputs": [],
   "source": [
    "from sklearn.linear_model import LogisticRegression\n",
    "\n",
    "def lr(x_train, y_train):\n",
    "    \"\"\"逻辑回归\"\"\"\n",
    "    lr_model = LogisticRegression(n_jobs=2)\n",
    "    lr_model.fit(x_train, y_train)\n",
    "    return lr_model"
   ]
  },
  {
   "cell_type": "code",
   "execution_count": 29,
   "metadata": {},
   "outputs": [
    {
     "name": "stderr",
     "output_type": "stream",
     "text": [
      "F:\\Anaconda3\\lib\\site-packages\\sklearn\\linear_model\\logistic.py:433: FutureWarning: Default solver will be changed to 'lbfgs' in 0.22. Specify a solver to silence this warning.\n",
      "  FutureWarning)\n",
      "F:\\Anaconda3\\lib\\site-packages\\sklearn\\linear_model\\logistic.py:1300: UserWarning: 'n_jobs' > 1 does not have any effect when 'solver' is set to 'liblinear'. Got 'n_jobs' = 2.\n",
      "  \" = {}.\".format(effective_n_jobs(self.n_jobs)))\n"
     ]
    },
    {
     "name": "stdout",
     "output_type": "stream",
     "text": [
      "score=0.93359375\n",
      "precision score:0.9876325088339223\n",
      "recall score:0.8775510204081632\n",
      "f1 score:0.9293433083956775\n",
      "roc_auc_score:0.9910691397027767\n"
     ]
    }
   ],
   "source": [
    "# 使用上面划分好的训练集和测试集，保证前后数据一致\n",
    "\n",
    "lr_model = lr(x_train, y_train)\n",
    "y_pred, y_pred_prob = get_prediction(lr_model, x_valid, y_valid)\n",
    "get_performance(y_valid, y_pred, y_pred_prob)"
   ]
  },
  {
   "cell_type": "markdown",
   "metadata": {},
   "source": [
    "### SVM"
   ]
  },
  {
   "cell_type": "code",
   "execution_count": 30,
   "metadata": {},
   "outputs": [],
   "source": [
    "from sklearn import svm\n",
    "\n",
    "def sv(x_train, y_train, C=1, kernel='rbf', gamma='auto',class_weight=None, probability=True):\n",
    "    \"\"\"SVM\"\"\"\n",
    "    sv_model = svm.SVC(C=C, kernel=kernel, gamma=gamma, class_weight=class_weight, probability=probability)\n",
    "    sv_model.fit(x_train, y_train)\n",
    "    return sv_model"
   ]
  },
  {
   "cell_type": "markdown",
   "metadata": {},
   "source": [
    "```\n",
    "C=1\n",
    "kernel = 'linear'\n",
    "gamma='auto'\n",
    "class_weight=None\n",
    "```"
   ]
  },
  {
   "cell_type": "code",
   "execution_count": null,
   "metadata": {},
   "outputs": [],
   "source": [
    "sv_model = sv(x_train, y_train, C=1, kernel='linear')\n",
    "y_pred, y_pred_prob = get_prediction(sv_model, x_valid, y_valid)\n",
    "get_performance(y_valid, y_pred, y_pred_prob)"
   ]
  },
  {
   "cell_type": "code",
   "execution_count": null,
   "metadata": {},
   "outputs": [],
   "source": [
    "sv_model = sv(x_train, y_train, C=100, kernel='linear')\n",
    "y_pred, y_pred_prob = get_prediction(sv_model, x_valid, y_valid)\n",
    "get_performance(y_valid, y_pred, y_pred_prob)"
   ]
  },
  {
   "cell_type": "code",
   "execution_count": null,
   "metadata": {},
   "outputs": [],
   "source": [
    "sv_model = sv(x_train, y_train, C=500, kernel='linear')\n",
    "y_pred, y_pred_prob = get_prediction(sv_model, x_valid, y_valid)\n",
    "get_performance(y_valid, y_pred, y_pred_prob)"
   ]
  },
  {
   "cell_type": "markdown",
   "metadata": {},
   "source": [
    "### Random Forest"
   ]
  },
  {
   "cell_type": "code",
   "execution_count": 32,
   "metadata": {},
   "outputs": [],
   "source": [
    "from sklearn.ensemble import RandomForestClassifier\n",
    "\n",
    "def rf(x_train, y_train, n_estimators=10, max_depth=None, random_state=None):\n",
    "    \"\"\"Random Forest\"\"\"\n",
    "    rf_model = RandomForestClassifier(n_estimators=100, max_depth=2, random_state=0)\n",
    "    rf_model.fit(x_train, y_train)\n",
    "    return rf_model"
   ]
  },
  {
   "cell_type": "code",
   "execution_count": 33,
   "metadata": {},
   "outputs": [
    {
     "name": "stdout",
     "output_type": "stream",
     "text": [
      "score=0.9\n",
      "precision score:0.9829222011385199\n",
      "recall score:0.8131868131868132\n",
      "f1 score:0.8900343642611684\n",
      "roc_auc_score:0.9445861847550363\n"
     ]
    }
   ],
   "source": [
    "rf_model = rf(x_train, y_train, n_estimators=100, max_depth=None, random_state=None)\n",
    "y_pred, y_pred_prob = get_prediction(rf_model, x_valid, y_valid)\n",
    "get_performance(y_valid, y_pred, y_pred_prob)"
   ]
  },
  {
   "cell_type": "code",
   "execution_count": null,
   "metadata": {},
   "outputs": [],
   "source": []
  }
 ],
 "metadata": {
  "kernelspec": {
   "display_name": "Python 3",
   "language": "python",
   "name": "python3"
  },
  "language_info": {
   "codemirror_mode": {
    "name": "ipython",
    "version": 3
   },
   "file_extension": ".py",
   "mimetype": "text/x-python",
   "name": "python",
   "nbconvert_exporter": "python",
   "pygments_lexer": "ipython3",
   "version": "3.7.3"
  }
 },
 "nbformat": 4,
 "nbformat_minor": 2
}
