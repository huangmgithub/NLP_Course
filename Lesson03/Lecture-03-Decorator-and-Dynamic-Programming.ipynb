{
 "cells": [
  {
   "cell_type": "markdown",
   "metadata": {},
   "source": [
    "## Dynamic Programming"
   ]
  },
  {
   "cell_type": "code",
   "execution_count": 272,
   "metadata": {},
   "outputs": [],
   "source": [
    "original_price = [1, 5, 8, 9, 10, 17, 17, 20, 24, 30, 35]"
   ]
  },
  {
   "cell_type": "code",
   "execution_count": 273,
   "metadata": {},
   "outputs": [],
   "source": [
    "from collections import defaultdict"
   ]
  },
  {
   "cell_type": "code",
   "execution_count": 274,
   "metadata": {},
   "outputs": [],
   "source": [
    "price = defaultdict(int)"
   ]
  },
  {
   "cell_type": "code",
   "execution_count": 275,
   "metadata": {},
   "outputs": [],
   "source": [
    "for i, p in enumerate(original_price): \n",
    "    price[i + 1] = p"
   ]
  },
  {
   "cell_type": "code",
   "execution_count": 276,
   "metadata": {},
   "outputs": [
    {
     "data": {
      "text/plain": [
       "35"
      ]
     },
     "execution_count": 276,
     "metadata": {},
     "output_type": "execute_result"
    }
   ],
   "source": [
    "price[11]"
   ]
  },
  {
   "cell_type": "markdown",
   "metadata": {},
   "source": [
    "## Get the max splitting by enumerate"
   ]
  },
  {
   "cell_type": "code",
   "execution_count": 30,
   "metadata": {},
   "outputs": [
    {
     "data": {
      "text/plain": [
       "4"
      ]
     },
     "execution_count": 30,
     "metadata": {},
     "output_type": "execute_result"
    }
   ],
   "source": [
    "max(1, 2, 3, 4)"
   ]
  },
  {
   "cell_type": "code",
   "execution_count": 47,
   "metadata": {},
   "outputs": [],
   "source": [
    "def example(f, arg):\n",
    "    return f(arg)"
   ]
  },
  {
   "cell_type": "code",
   "execution_count": 46,
   "metadata": {},
   "outputs": [],
   "source": [
    "def add_ten(num):\n",
    "    return num + 10"
   ]
  },
  {
   "cell_type": "code",
   "execution_count": 49,
   "metadata": {},
   "outputs": [],
   "source": [
    "def mul_ten(num):\n",
    "    return num * 10 "
   ]
  },
  {
   "cell_type": "code",
   "execution_count": 50,
   "metadata": {},
   "outputs": [
    {
     "name": "stdout",
     "output_type": "stream",
     "text": [
      "110\n",
      "1000\n"
     ]
    }
   ],
   "source": [
    "operations = [add_ten, mul_ten]\n",
    "\n",
    "for f in operations:\n",
    "    print(example(f, 100))"
   ]
  },
  {
   "cell_type": "code",
   "execution_count": 43,
   "metadata": {},
   "outputs": [],
   "source": [
    "called_time = defaultdict(int)\n",
    "\n",
    "def get_call_times(f):\n",
    "    result = f()\n",
    "    print('function: {} called once! '.format(f.__name__))\n",
    "    called_time[f.__name__] += 1\n",
    "    \n",
    "    return result"
   ]
  },
  {
   "cell_type": "code",
   "execution_count": 53,
   "metadata": {},
   "outputs": [],
   "source": [
    "def some_funcion_1(): print('I am function 1')"
   ]
  },
  {
   "cell_type": "code",
   "execution_count": 54,
   "metadata": {},
   "outputs": [
    {
     "name": "stdout",
     "output_type": "stream",
     "text": [
      "I am function 1\n",
      "function: some_funcion_1 called once! \n"
     ]
    }
   ],
   "source": [
    "get_call_times(some_funcion_1)"
   ]
  },
  {
   "cell_type": "code",
   "execution_count": 55,
   "metadata": {},
   "outputs": [
    {
     "data": {
      "text/plain": [
       "defaultdict(int, {'some_funcion_1': 2})"
      ]
     },
     "execution_count": 55,
     "metadata": {},
     "output_type": "execute_result"
    }
   ],
   "source": [
    "called_time"
   ]
  },
  {
   "cell_type": "code",
   "execution_count": 56,
   "metadata": {},
   "outputs": [],
   "source": [
    "call_time_with_arg = defaultdict(int)"
   ]
  },
  {
   "cell_type": "code",
   "execution_count": 120,
   "metadata": {},
   "outputs": [],
   "source": [
    "def r(n):\n",
    "    #fname = r.__name__\n",
    "    #call_time_with_arg[(fname, n)] += 1\n",
    "    \n",
    "    return max(\n",
    "        [price[n]] + [r(i) + r(n-i) for i in range(1, n)]\n",
    "    )"
   ]
  },
  {
   "cell_type": "code",
   "execution_count": 79,
   "metadata": {},
   "outputs": [],
   "source": [
    "del call_time_with_arg"
   ]
  },
  {
   "cell_type": "code",
   "execution_count": 141,
   "metadata": {},
   "outputs": [],
   "source": [
    "from functools import wraps"
   ]
  },
  {
   "cell_type": "code",
   "execution_count": 142,
   "metadata": {},
   "outputs": [],
   "source": [
    "called_time_with_arg = defaultdict(int)\n",
    "\n",
    "def get_call_time(f):\n",
    "    \"\"\"@param f is a function\"\"\"\n",
    "    @wraps(f)\n",
    "    def wrap(n):\n",
    "        \"\"\"Haha I am warp\"\"\"\n",
    "       # print('I can count')\n",
    "        result = f(n)\n",
    "        called_time_with_arg[(f.__name__, n)] += 1\n",
    "        return result\n",
    "    return wrap"
   ]
  },
  {
   "cell_type": "code",
   "execution_count": 104,
   "metadata": {},
   "outputs": [],
   "source": [
    "def add_ten(n): return n + 10"
   ]
  },
  {
   "cell_type": "code",
   "execution_count": 108,
   "metadata": {},
   "outputs": [
    {
     "data": {
      "text/plain": [
       "20"
      ]
     },
     "execution_count": 108,
     "metadata": {},
     "output_type": "execute_result"
    }
   ],
   "source": [
    "add_ten(10)"
   ]
  },
  {
   "cell_type": "code",
   "execution_count": 109,
   "metadata": {},
   "outputs": [],
   "source": [
    "add_ten = get_call_time(add_ten)"
   ]
  },
  {
   "cell_type": "code",
   "execution_count": 117,
   "metadata": {},
   "outputs": [],
   "source": [
    "@get_call_time\n",
    "def add_twenty(n): \n",
    "    return n + 20"
   ]
  },
  {
   "cell_type": "code",
   "execution_count": 119,
   "metadata": {},
   "outputs": [],
   "source": [
    "add_twenty = get_call_time(add_twenty)"
   ]
  },
  {
   "cell_type": "code",
   "execution_count": 118,
   "metadata": {},
   "outputs": [
    {
     "name": "stdout",
     "output_type": "stream",
     "text": [
      "I can count\n"
     ]
    },
    {
     "data": {
      "text/plain": [
       "29"
      ]
     },
     "execution_count": 118,
     "metadata": {},
     "output_type": "execute_result"
    }
   ],
   "source": [
    "add_twenty(9)"
   ]
  },
  {
   "cell_type": "code",
   "execution_count": 204,
   "metadata": {},
   "outputs": [],
   "source": [
    "called_time_with_arg = defaultdict(int)"
   ]
  },
  {
   "cell_type": "code",
   "execution_count": 220,
   "metadata": {},
   "outputs": [],
   "source": [
    "solution = {}"
   ]
  },
  {
   "cell_type": "code",
   "execution_count": 277,
   "metadata": {},
   "outputs": [],
   "source": [
    "memo.already_computed = {}"
   ]
  },
  {
   "cell_type": "code",
   "execution_count": 278,
   "metadata": {},
   "outputs": [],
   "source": [
    "#@get_call_time\n",
    "@memo\n",
    "def r(n):\n",
    "    \"\"\"\n",
    "    Args: n is the iron length\n",
    "    Return: the max revenue \n",
    "    \"\"\"\n",
    "    max_price, max_split = max(\n",
    "        [(price[n], 0)] + [(r(i) + r(n-i), i) for i in range(1, n)], key=lambda x: x[0]\n",
    "    )\n",
    "\n",
    "    solution[n] = (n - max_split, max_split)\n",
    "    \n",
    "    return max_price"
   ]
  },
  {
   "cell_type": "code",
   "execution_count": 279,
   "metadata": {},
   "outputs": [
    {
     "data": {
      "text/plain": [
       "118"
      ]
     },
     "execution_count": 279,
     "metadata": {},
     "output_type": "execute_result"
    }
   ],
   "source": [
    "r(38)"
   ]
  },
  {
   "cell_type": "code",
   "execution_count": 280,
   "metadata": {},
   "outputs": [
    {
     "data": {
      "text/plain": [
       "{1: (1, 0),\n",
       " 2: (2, 0),\n",
       " 3: (3, 0),\n",
       " 4: (2, 2),\n",
       " 5: (3, 2),\n",
       " 6: (6, 0),\n",
       " 7: (6, 1),\n",
       " 8: (6, 2),\n",
       " 9: (6, 3),\n",
       " 10: (10, 0),\n",
       " 11: (11, 0),\n",
       " 12: (11, 1),\n",
       " 13: (11, 2),\n",
       " 14: (11, 3),\n",
       " 15: (13, 2),\n",
       " 16: (14, 2),\n",
       " 17: (11, 6),\n",
       " 18: (17, 1),\n",
       " 19: (17, 2),\n",
       " 20: (17, 3),\n",
       " 21: (11, 10),\n",
       " 22: (11, 11),\n",
       " 23: (22, 1),\n",
       " 24: (22, 2),\n",
       " 25: (22, 3),\n",
       " 26: (24, 2),\n",
       " 27: (25, 2),\n",
       " 28: (22, 6),\n",
       " 29: (28, 1),\n",
       " 30: (28, 2),\n",
       " 31: (28, 3),\n",
       " 32: (22, 10),\n",
       " 33: (22, 11),\n",
       " 34: (33, 1),\n",
       " 35: (33, 2),\n",
       " 36: (33, 3),\n",
       " 37: (35, 2),\n",
       " 38: (36, 2),\n",
       " 39: (33, 6),\n",
       " 40: (39, 1),\n",
       " 41: (39, 2),\n",
       " 42: (39, 3),\n",
       " 43: (33, 10),\n",
       " 44: (33, 11),\n",
       " 45: (44, 1),\n",
       " 46: (44, 2),\n",
       " 47: (44, 3),\n",
       " 48: (46, 2),\n",
       " 49: (47, 2),\n",
       " 50: (44, 6),\n",
       " 51: (50, 1),\n",
       " 52: (50, 2),\n",
       " 53: (50, 3),\n",
       " 54: (44, 10),\n",
       " 55: (44, 11),\n",
       " 56: (55, 1),\n",
       " 57: (55, 2),\n",
       " 58: (55, 3),\n",
       " 59: (57, 2),\n",
       " 60: (58, 2),\n",
       " 61: (55, 6),\n",
       " 62: (61, 1),\n",
       " 63: (61, 2),\n",
       " 64: (61, 3),\n",
       " 65: (55, 10),\n",
       " 66: (55, 11),\n",
       " 67: (66, 1),\n",
       " 68: (66, 2),\n",
       " 69: (66, 3),\n",
       " 70: (68, 2),\n",
       " 71: (69, 2),\n",
       " 72: (66, 6),\n",
       " 73: (72, 1),\n",
       " 74: (72, 2),\n",
       " 75: (72, 3),\n",
       " 76: (66, 10),\n",
       " 77: (66, 11),\n",
       " 78: (77, 1),\n",
       " 79: (77, 2),\n",
       " 80: (77, 3),\n",
       " 81: (79, 2),\n",
       " 82: (80, 2),\n",
       " 83: (77, 6),\n",
       " 84: (83, 1),\n",
       " 85: (83, 2),\n",
       " 86: (83, 3),\n",
       " 87: (77, 10),\n",
       " 88: (77, 11),\n",
       " 89: (88, 1),\n",
       " 90: (88, 2),\n",
       " 91: (88, 3),\n",
       " 92: (90, 2),\n",
       " 93: (91, 2),\n",
       " 94: (88, 6),\n",
       " 95: (94, 1),\n",
       " 96: (94, 2),\n",
       " 97: (94, 3),\n",
       " 98: (88, 10),\n",
       " 99: (88, 11),\n",
       " 100: (99, 1),\n",
       " 101: (99, 2),\n",
       " 102: (99, 3),\n",
       " 103: (101, 2),\n",
       " 104: (102, 2),\n",
       " 105: (99, 6),\n",
       " 106: (105, 1),\n",
       " 107: (105, 2),\n",
       " 108: (105, 3),\n",
       " 109: (99, 10),\n",
       " 110: (99, 11),\n",
       " 111: (110, 1),\n",
       " 112: (110, 2),\n",
       " 113: (110, 3),\n",
       " 114: (112, 2),\n",
       " 115: (113, 2),\n",
       " 116: (110, 6),\n",
       " 117: (116, 1),\n",
       " 118: (116, 2),\n",
       " 119: (116, 3),\n",
       " 120: (110, 10),\n",
       " 121: (110, 11),\n",
       " 122: (121, 1),\n",
       " 123: (121, 2),\n",
       " 124: (121, 3),\n",
       " 125: (123, 2),\n",
       " 126: (124, 2),\n",
       " 127: (121, 6),\n",
       " 128: (127, 1),\n",
       " 129: (127, 2),\n",
       " 130: (127, 3),\n",
       " 131: (121, 10),\n",
       " 132: (121, 11),\n",
       " 133: (132, 1),\n",
       " 134: (132, 2),\n",
       " 135: (132, 3),\n",
       " 136: (134, 2),\n",
       " 137: (135, 2),\n",
       " 138: (132, 6),\n",
       " 139: (138, 1),\n",
       " 140: (138, 2),\n",
       " 141: (138, 3),\n",
       " 142: (132, 10),\n",
       " 143: (132, 11),\n",
       " 144: (143, 1),\n",
       " 145: (143, 2),\n",
       " 146: (143, 3),\n",
       " 147: (145, 2),\n",
       " 148: (146, 2),\n",
       " 149: (143, 6),\n",
       " 150: (149, 1),\n",
       " 151: (149, 2),\n",
       " 152: (149, 3),\n",
       " 153: (143, 10),\n",
       " 154: (143, 11),\n",
       " 155: (154, 1),\n",
       " 156: (154, 2),\n",
       " 157: (154, 3),\n",
       " 158: (156, 2),\n",
       " 159: (157, 2),\n",
       " 160: (154, 6),\n",
       " 161: (160, 1),\n",
       " 162: (160, 2),\n",
       " 163: (160, 3),\n",
       " 164: (154, 10),\n",
       " 165: (154, 11),\n",
       " 166: (165, 1),\n",
       " 167: (165, 2),\n",
       " 168: (165, 3),\n",
       " 169: (167, 2),\n",
       " 170: (168, 2),\n",
       " 171: (165, 6),\n",
       " 172: (171, 1),\n",
       " 173: (171, 2),\n",
       " 174: (171, 3),\n",
       " 175: (165, 10),\n",
       " 176: (165, 11),\n",
       " 177: (176, 1),\n",
       " 178: (176, 2),\n",
       " 179: (176, 3),\n",
       " 180: (178, 2),\n",
       " 181: (179, 2),\n",
       " 182: (176, 6),\n",
       " 183: (182, 1),\n",
       " 184: (182, 2),\n",
       " 185: (182, 3),\n",
       " 186: (176, 10),\n",
       " 187: (176, 11),\n",
       " 188: (187, 1),\n",
       " 189: (187, 2),\n",
       " 190: (187, 3),\n",
       " 191: (189, 2),\n",
       " 192: (190, 2),\n",
       " 193: (187, 6),\n",
       " 194: (193, 1),\n",
       " 195: (193, 2),\n",
       " 196: (193, 3),\n",
       " 197: (187, 10),\n",
       " 198: (187, 11),\n",
       " 199: (198, 1),\n",
       " 200: (198, 2),\n",
       " 201: (198, 3),\n",
       " 202: (200, 2),\n",
       " 203: (201, 2),\n",
       " 204: (198, 6),\n",
       " 205: (204, 1),\n",
       " 206: (204, 2),\n",
       " 207: (204, 3),\n",
       " 208: (198, 10),\n",
       " 209: (198, 11),\n",
       " 210: (209, 1),\n",
       " 211: (209, 2),\n",
       " 212: (209, 3),\n",
       " 213: (211, 2),\n",
       " 214: (212, 2),\n",
       " 215: (209, 6),\n",
       " 216: (215, 1),\n",
       " 217: (215, 2),\n",
       " 218: (215, 3),\n",
       " 219: (209, 10),\n",
       " 220: (209, 11),\n",
       " 221: (220, 1),\n",
       " 222: (220, 2),\n",
       " 223: (220, 3),\n",
       " 224: (222, 2),\n",
       " 225: (223, 2),\n",
       " 226: (220, 6),\n",
       " 227: (226, 1),\n",
       " 228: (226, 2),\n",
       " 229: (226, 3),\n",
       " 230: (220, 10),\n",
       " 231: (220, 11),\n",
       " 232: (231, 1),\n",
       " 233: (231, 2),\n",
       " 234: (231, 3),\n",
       " 235: (233, 2),\n",
       " 236: (230, 6),\n",
       " 237: (236, 1),\n",
       " 238: (236, 2),\n",
       " 239: (236, 3),\n",
       " 240: (230, 10),\n",
       " 241: (240, 1),\n",
       " 242: (240, 2),\n",
       " 243: (240, 3),\n",
       " 244: (242, 2),\n",
       " 245: (243, 2),\n",
       " 246: (240, 6),\n",
       " 247: (246, 1),\n",
       " 248: (246, 2),\n",
       " 249: (246, 3),\n",
       " 250: (240, 10),\n",
       " 251: (250, 1),\n",
       " 252: (250, 2),\n",
       " 253: (250, 3),\n",
       " 254: (252, 2),\n",
       " 255: (253, 2),\n",
       " 256: (250, 6),\n",
       " 257: (256, 1),\n",
       " 258: (256, 2),\n",
       " 259: (256, 3),\n",
       " 260: (250, 10),\n",
       " 261: (260, 1),\n",
       " 262: (260, 2),\n",
       " 263: (260, 3),\n",
       " 264: (262, 2),\n",
       " 265: (263, 2),\n",
       " 266: (260, 6),\n",
       " 267: (266, 1),\n",
       " 268: (266, 2),\n",
       " 269: (266, 3),\n",
       " 270: (260, 10),\n",
       " 271: (270, 1),\n",
       " 272: (270, 2),\n",
       " 273: (270, 3),\n",
       " 274: (272, 2),\n",
       " 275: (273, 2),\n",
       " 276: (270, 6),\n",
       " 277: (276, 1),\n",
       " 278: (276, 2),\n",
       " 279: (276, 3),\n",
       " 280: (270, 10),\n",
       " 281: (280, 1),\n",
       " 282: (280, 2),\n",
       " 283: (280, 3),\n",
       " 284: (282, 2),\n",
       " 285: (283, 2),\n",
       " 286: (280, 6),\n",
       " 287: (286, 1),\n",
       " 288: (286, 2),\n",
       " 289: (286, 3),\n",
       " 290: (280, 10),\n",
       " 291: (290, 1),\n",
       " 292: (290, 2),\n",
       " 293: (290, 3),\n",
       " 294: (292, 2),\n",
       " 295: (293, 2),\n",
       " 296: (290, 6),\n",
       " 297: (296, 1),\n",
       " 298: (296, 2),\n",
       " 299: (296, 3),\n",
       " 300: (290, 10),\n",
       " 301: (300, 1),\n",
       " 302: (300, 2),\n",
       " 303: (300, 3),\n",
       " 304: (302, 2),\n",
       " 305: (303, 2),\n",
       " 306: (300, 6),\n",
       " 307: (306, 1),\n",
       " 308: (306, 2),\n",
       " 309: (306, 3),\n",
       " 310: (300, 10),\n",
       " 311: (310, 1),\n",
       " 312: (310, 2),\n",
       " 313: (310, 3),\n",
       " 314: (312, 2),\n",
       " 315: (313, 2),\n",
       " 316: (310, 6),\n",
       " 317: (316, 1),\n",
       " 318: (316, 2),\n",
       " 319: (316, 3),\n",
       " 320: (310, 10),\n",
       " 321: (320, 1),\n",
       " 322: (320, 2),\n",
       " 323: (320, 3),\n",
       " 324: (322, 2),\n",
       " 325: (323, 2),\n",
       " 326: (320, 6),\n",
       " 327: (326, 1),\n",
       " 328: (326, 2),\n",
       " 329: (326, 3),\n",
       " 330: (320, 10),\n",
       " 331: (330, 1),\n",
       " 332: (330, 2),\n",
       " 333: (330, 3),\n",
       " 334: (332, 2),\n",
       " 335: (333, 2),\n",
       " 336: (330, 6),\n",
       " 337: (336, 1),\n",
       " 338: (336, 2),\n",
       " 339: (336, 3),\n",
       " 340: (330, 10),\n",
       " 341: (340, 1),\n",
       " 342: (340, 2)}"
      ]
     },
     "execution_count": 280,
     "metadata": {},
     "output_type": "execute_result"
    }
   ],
   "source": [
    "solution"
   ]
  },
  {
   "cell_type": "code",
   "execution_count": 232,
   "metadata": {},
   "outputs": [],
   "source": [
    "def parse_solution(n):\n",
    "    left_split, right_split = solution[n]\n",
    "    \n",
    "    if right_split == 0: return [left_split]\n",
    "    \n",
    "    return parse_solution(left_split) + parse_solution(right_split)"
   ]
  },
  {
   "cell_type": "code",
   "execution_count": 281,
   "metadata": {},
   "outputs": [
    {
     "data": {
      "text/plain": [
       "743"
      ]
     },
     "execution_count": 281,
     "metadata": {},
     "output_type": "execute_result"
    }
   ],
   "source": [
    "r(234)"
   ]
  },
  {
   "cell_type": "code",
   "execution_count": 284,
   "metadata": {},
   "outputs": [
    {
     "data": {
      "text/plain": [
       "[11,\n",
       " 11,\n",
       " 11,\n",
       " 11,\n",
       " 11,\n",
       " 11,\n",
       " 11,\n",
       " 11,\n",
       " 11,\n",
       " 11,\n",
       " 11,\n",
       " 11,\n",
       " 11,\n",
       " 11,\n",
       " 11,\n",
       " 11,\n",
       " 11,\n",
       " 11,\n",
       " 11,\n",
       " 11,\n",
       " 11,\n",
       " 3]"
      ]
     },
     "execution_count": 284,
     "metadata": {},
     "output_type": "execute_result"
    }
   ],
   "source": [
    "parse_solution(234)"
   ]
  },
  {
   "cell_type": "markdown",
   "metadata": {},
   "source": [
    "## Dynamic Programming"
   ]
  },
  {
   "cell_type": "markdown",
   "metadata": {},
   "source": [
    "+ 1. Overlapping Subproblems\n",
    "+ 2. Overlapping computing saved in a table\n",
    "+ 3. Parse solution"
   ]
  },
  {
   "cell_type": "code",
   "execution_count": 266,
   "metadata": {},
   "outputs": [],
   "source": [
    "def memo(f): \n",
    "    memo.already_computed = {}\n",
    "    @wraps(f)\n",
    "    def _wrap(arg):\n",
    "        result = None\n",
    "        \n",
    "        if arg in memo.already_computed: \n",
    "            result = memo.already_computed[arg]\n",
    "        else:\n",
    "            result = f(arg)\n",
    "            memo.already_computed[arg] = result\n",
    "        \n",
    "        return result\n",
    "    \n",
    "    return _wrap"
   ]
  },
  {
   "cell_type": "code",
   "execution_count": 214,
   "metadata": {},
   "outputs": [
    {
     "data": {
      "text/plain": [
       "60"
      ]
     },
     "execution_count": 214,
     "metadata": {},
     "output_type": "execute_result"
    }
   ],
   "source": [
    "r(20)"
   ]
  },
  {
   "cell_type": "code",
   "execution_count": 245,
   "metadata": {},
   "outputs": [
    {
     "data": {
      "text/plain": [
       "733"
      ]
     },
     "execution_count": 245,
     "metadata": {},
     "output_type": "execute_result"
    }
   ],
   "source": [
    "r(245)"
   ]
  },
  {
   "cell_type": "code",
   "execution_count": 131,
   "metadata": {},
   "outputs": [
    {
     "data": {
      "text/plain": [
       "<function __main__.get_call_time.<locals>.wrap(n)>"
      ]
     },
     "execution_count": 131,
     "metadata": {},
     "output_type": "execute_result"
    }
   ],
   "source": [
    "r"
   ]
  },
  {
   "cell_type": "code",
   "execution_count": 130,
   "metadata": {},
   "outputs": [
    {
     "data": {
      "text/plain": [
       "defaultdict(int,\n",
       "            {('r', 1): 144342,\n",
       "             ('r', 2): 48114,\n",
       "             ('r', 3): 16038,\n",
       "             ('r', 4): 5346,\n",
       "             ('r', 5): 1782,\n",
       "             ('r', 6): 594,\n",
       "             ('r', 7): 198,\n",
       "             ('r', 8): 66,\n",
       "             ('r', 9): 22,\n",
       "             ('r', 10): 8,\n",
       "             ('r', 11): 2,\n",
       "             ('r', 12): 1})"
      ]
     },
     "execution_count": 130,
     "metadata": {},
     "output_type": "execute_result"
    }
   ],
   "source": [
    "called_time_with_arg"
   ]
  },
  {
   "cell_type": "code",
   "execution_count": 97,
   "metadata": {},
   "outputs": [
    {
     "data": {
      "text/plain": [
       "defaultdict(int, {('add_ten', 10): 10, ('add_ten', 9): 2})"
      ]
     },
     "execution_count": 97,
     "metadata": {},
     "output_type": "execute_result"
    }
   ],
   "source": [
    "called_time_with_arg"
   ]
  },
  {
   "cell_type": "code",
   "execution_count": 60,
   "metadata": {},
   "outputs": [],
   "source": [
    "from collections import Counter"
   ]
  },
  {
   "cell_type": "code",
   "execution_count": 63,
   "metadata": {},
   "outputs": [
    {
     "data": {
      "text/plain": [
       "[(('r', 1), 3188646),\n",
       " (('r', 2), 1062882),\n",
       " (('r', 3), 354294),\n",
       " (('r', 4), 118098),\n",
       " (('r', 5), 39366),\n",
       " (('r', 6), 13122),\n",
       " (('r', 7), 4374),\n",
       " (('r', 8), 1458),\n",
       " (('r', 9), 486),\n",
       " (('r', 10), 162),\n",
       " (('r', 11), 54),\n",
       " (('r', 12), 18),\n",
       " (('r', 13), 6),\n",
       " (('r', 14), 2),\n",
       " (('r', 15), 1)]"
      ]
     },
     "execution_count": 63,
     "metadata": {},
     "output_type": "execute_result"
    }
   ],
   "source": [
    "Counter(call_time_with_arg).most_common()"
   ]
  },
  {
   "cell_type": "code",
   "execution_count": 58,
   "metadata": {},
   "outputs": [
    {
     "data": {
      "text/plain": [
       "43"
      ]
     },
     "execution_count": 58,
     "metadata": {},
     "output_type": "execute_result"
    }
   ],
   "source": [
    "r(15)"
   ]
  }
 ],
 "metadata": {
  "kernelspec": {
   "display_name": "Python 3",
   "language": "python",
   "name": "python3"
  },
  "language_info": {
   "codemirror_mode": {
    "name": "ipython",
    "version": 3
   },
   "file_extension": ".py",
   "mimetype": "text/x-python",
   "name": "python",
   "nbconvert_exporter": "python",
   "pygments_lexer": "ipython3",
   "version": "3.7.3"
  }
 },
 "nbformat": 4,
 "nbformat_minor": 2
}
