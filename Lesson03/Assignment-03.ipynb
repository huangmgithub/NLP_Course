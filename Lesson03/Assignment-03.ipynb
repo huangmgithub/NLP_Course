{
 "cells": [
  {
   "cell_type": "markdown",
   "metadata": {},
   "source": [
    "## Lecture-03 Gradient Descent and Dymanic Programming"
   ]
  },
  {
   "cell_type": "markdown",
   "metadata": {},
   "source": [
    "In this week, we need complete following tasks:\n",
    "+ Re-review the course online programming; \n",
    "+ Choose 1 - 2 books which you interested and keep reading; \n",
    "+ Answer the review questions\n",
    "+ Prepare the basic requirement of our 1st project. "
   ]
  },
  {
   "cell_type": "markdown",
   "metadata": {},
   "source": [
    "### Part I Review the online programming. "
   ]
  },
  {
   "cell_type": "markdown",
   "metadata": {},
   "source": [
    "#### ① 导数"
   ]
  },
  {
   "cell_type": "code",
   "execution_count": 1,
   "metadata": {},
   "outputs": [],
   "source": [
    "from sklearn.datasets import load_boston"
   ]
  },
  {
   "cell_type": "code",
   "execution_count": 2,
   "metadata": {},
   "outputs": [],
   "source": [
    "data = load_boston()"
   ]
  },
  {
   "cell_type": "code",
   "execution_count": 3,
   "metadata": {},
   "outputs": [],
   "source": [
    "X, Y = data['data'], data['target']"
   ]
  },
  {
   "cell_type": "code",
   "execution_count": 4,
   "metadata": {},
   "outputs": [],
   "source": [
    "# X[:, 5]"
   ]
  },
  {
   "cell_type": "code",
   "execution_count": 5,
   "metadata": {},
   "outputs": [],
   "source": [
    "def price(rm , k ,b):\n",
    "    \"\"\"Price Function\"\"\"\n",
    "    return k * rm + b"
   ]
  },
  {
   "cell_type": "code",
   "execution_count": 6,
   "metadata": {},
   "outputs": [],
   "source": [
    "def loss(y, y_hat):\n",
    "    \"\"\"Loss Function\"\"\"\n",
    "    return sum((y_i - y_hat_i) ** 2 for y_i, y_hat_i in zip(list(y), list(y_hat))) / len(y)"
   ]
  },
  {
   "cell_type": "markdown",
   "metadata": {},
   "source": [
    "#### 公式"
   ]
  },
  {
   "cell_type": "markdown",
   "metadata": {},
   "source": [
    "#### loss\n",
    "$$ loss = \\frac{1}{n} \\sum{(y_i - \\hat{y_i})}^2$$"
   ]
  },
  {
   "cell_type": "markdown",
   "metadata": {},
   "source": [
    "$$ loss = \\frac{1}{n} \\sum{(y_i - (kx_i + b_i))}^2 $$"
   ]
  },
  {
   "cell_type": "markdown",
   "metadata": {},
   "source": [
    "#### loss 对k求偏导\n",
    "$$ \\frac{\\partial{loss}}{\\partial{k}} = -\\frac{2}{n}\\sum(y_i - (kx_i + b_i))x_i$$"
   ]
  },
  {
   "cell_type": "markdown",
   "metadata": {},
   "source": [
    "$$ \\frac{\\partial{loss}}{\\partial{k}} = -\\frac{2}{n}\\sum(y_i - \\hat{y_i})x_i$$"
   ]
  },
  {
   "cell_type": "markdown",
   "metadata": {},
   "source": [
    "#### loss 对b求偏导\n",
    "$$ \\frac{\\partial{loss}}{\\partial{b}} = -\\frac{2}{n}\\sum(y_i - \\hat{y_i})$$"
   ]
  },
  {
   "cell_type": "markdown",
   "metadata": {},
   "source": [
    "#### 导数"
   ]
  },
  {
   "cell_type": "code",
   "execution_count": 7,
   "metadata": {},
   "outputs": [],
   "source": [
    "def partial_k(x, y ,y_hat):\n",
    "    \"\"\"k 偏导\"\"\"\n",
    "    gradient = 0\n",
    "    n = len(y)\n",
    "    \n",
    "    for x_i, y_i, y_hat_i in zip(list(x), list(y), list(y_hat)):\n",
    "        gradient += (y_i - y_hat_i) * x_i\n",
    "    \n",
    "    return -2 / n * gradient"
   ]
  },
  {
   "cell_type": "code",
   "execution_count": 8,
   "metadata": {},
   "outputs": [],
   "source": [
    "def partial_b(y, y_hat):\n",
    "    \"\"\"b 偏导\"\"\"\n",
    "    gradient = 0\n",
    "    n = len(y)\n",
    "    \n",
    "    for y_i, y_hat_i in zip(list(y), list(y_hat)):\n",
    "        gradient += (y_i - y_hat_i)\n",
    "    \n",
    "    return -2 / n * gradient"
   ]
  },
  {
   "cell_type": "code",
   "execution_count": 9,
   "metadata": {},
   "outputs": [],
   "source": [
    "import random"
   ]
  },
  {
   "cell_type": "code",
   "execution_count": 10,
   "metadata": {
    "scrolled": true
   },
   "outputs": [
    {
     "name": "stdout",
     "output_type": "stream",
     "text": [
      "when time is 0, best_k is -44.22979529827775, best_b is 51.62497165379176, loss is 63384.196733861805\n",
      "when time is 50, best_k is -26.690496441799418, best_b is -26.646706488417305, loss is 47728.877755190115\n",
      "when time is 100, best_k is -15.59492327343805, best_b is -15.567446440589531, loss is 18869.679675302006\n",
      "when time is 150, best_k is -8.624016560637688, best_b is -8.606788611709707, loss is 7481.053158568732\n",
      "when time is 200, best_k is -4.244473506735072, best_b is -4.2336845233869935, loss is 2987.3540863979943\n",
      "when time is 250, best_k is -1.4929810321956336, best_b is -1.4862373944735419, loss is 1214.594344223565\n",
      "when time is 300, best_k is 0.2356721045056685, best_b is 0.23987421268693435, loss is 515.4649613286763\n",
      "when time is 350, best_k is 1.321716022371532, best_b is 1.3243213887650511, loss is 239.88678210184884\n",
      "when time is 400, best_k is 2.004034161558319, best_b is 2.005636358680822, loss is 131.34916749867747\n",
      "when time is 450, best_k is 2.4327074733873353, best_b is 2.4336794192105775, loss is 88.65651441321955\n",
      "when time is 500, best_k is 2.7020258422254693, best_b is 2.702601826258716, loss is 71.89844507806488\n",
      "when time is 550, best_k is 2.871227847090573, best_b is 2.871555064101332, loss is 65.34239705881872\n",
      "when time is 600, best_k is 2.9775307278553726, best_b is 2.9777016544536696, loss is 62.79143447062468\n",
      "when time is 650, best_k is 3.0443165940624812, best_b is 3.044389329619284, loss is 61.80764969801958\n",
      "when time is 700, best_k is 3.086275493886678, best_b is 3.086286539922813, loss is 61.43385690556787\n",
      "when time is 750, best_k is 3.1126365995283622, best_b is 3.112608888495601, loss is 61.29543774576556\n",
      "when time is 800, best_k is 3.1291982323062393, best_b is 3.129146171750687, loss is 61.24653250613678\n",
      "when time is 850, best_k is 3.139603246572238, best_b is 3.139535888181297, loss is 61.23082919937089\n",
      "when time is 900, best_k is 3.1461403026299153, best_b is 3.146063333218274, loss is 61.22689274695411\n"
     ]
    }
   ],
   "source": [
    "try_times = 2000\n",
    "\n",
    "X, Y = data['data'], data['target']\n",
    "X_rm = X[:, 5]\n",
    "\n",
    "min_loss = float('inf') #无穷大\n",
    "\n",
    "k = random.random() * 200 - 100\n",
    "b = random.random() * 200 - 100\n",
    "\n",
    "rate = 1e-4\n",
    "\n",
    "time_log = 0\n",
    "\n",
    "for i in range(try_times):\n",
    "    price_by_k_and_b = [price(rm, k, b) for rm in X_rm]\n",
    "    current_loss = loss(Y, price_by_k_and_b)\n",
    "    \n",
    "    \n",
    "    if current_loss < min_loss:\n",
    "        min_loss = current_loss\n",
    "        \n",
    "        if i % 50 == 0:\n",
    "            print(\"when time is {}, best_k is {}, best_b is {}, loss is {}\".format(i, k, b, min_loss))\n",
    "            \n",
    "    k_gradient = partial_k(X_rm, Y, price_by_k_and_b)\n",
    "    b_gradient = partial_b(Y, price_by_k_and_b)\n",
    "    k = k + (-1 * k_gradient) * rate  # k与偏导方向相反\n",
    "    b = k + (-1 * b_gradient) * rate  # b与偏导方向相反\n",
    "    "
   ]
  },
  {
   "cell_type": "code",
   "execution_count": 11,
   "metadata": {},
   "outputs": [],
   "source": [
    "import matplotlib.pyplot as plt\n",
    "%matplotlib inline"
   ]
  },
  {
   "cell_type": "code",
   "execution_count": 12,
   "metadata": {},
   "outputs": [],
   "source": [
    "def draw_rm_price():\n",
    "    plt.scatter(X[:, 5], Y)"
   ]
  },
  {
   "cell_type": "code",
   "execution_count": 13,
   "metadata": {
    "scrolled": true
   },
   "outputs": [
    {
     "data": {
      "image/png": "[encoded data removed]",
      "text/plain": [
       "<Figure size 432x288 with 1 Axes>"
      ]
     },
     "metadata": {
      "needs_background": "light"
     },
     "output_type": "display_data"
    }
   ],
   "source": [
    "draw_rm_price()"
   ]
  },
  {
   "cell_type": "code",
   "execution_count": 14,
   "metadata": {},
   "outputs": [
    {
     "data": {
      "text/plain": [
       "<matplotlib.collections.PathCollection at 0x23a4ca1a358>"
      ]
     },
     "execution_count": 14,
     "metadata": {},
     "output_type": "execute_result"
    },
    {
     "data": {
      "image/png": "[encoded data removed]",
      "text/plain": [
       "<Figure size 432x288 with 1 Axes>"
      ]
     },
     "metadata": {
      "needs_background": "light"
     },
     "output_type": "display_data"
    }
   ],
   "source": [
    "k = 11\n",
    "b = -45\n",
    "draw_rm_price()\n",
    "plt.scatter(X[:, 5], price(X[:, 5], k, b))"
   ]
  },
  {
   "cell_type": "markdown",
   "metadata": {},
   "source": [
    "#### ② 动态规划"
   ]
  },
  {
   "cell_type": "code",
   "execution_count": 15,
   "metadata": {},
   "outputs": [],
   "source": [
    "from collections import defaultdict"
   ]
  },
  {
   "cell_type": "code",
   "execution_count": 16,
   "metadata": {},
   "outputs": [],
   "source": [
    "original_price = [1, 5, 8, 9, 10, 17, 17, 20, 24, 30, 35]"
   ]
  },
  {
   "cell_type": "code",
   "execution_count": 17,
   "metadata": {},
   "outputs": [],
   "source": [
    "price = defaultdict(int)"
   ]
  },
  {
   "cell_type": "code",
   "execution_count": 18,
   "metadata": {},
   "outputs": [],
   "source": [
    "for i, p in enumerate(original_price):\n",
    "    price[i + 1] = p"
   ]
  },
  {
   "cell_type": "code",
   "execution_count": 19,
   "metadata": {
    "scrolled": true
   },
   "outputs": [
    {
     "data": {
      "text/plain": [
       "defaultdict(int,\n",
       "            {1: 1,\n",
       "             2: 5,\n",
       "             3: 8,\n",
       "             4: 9,\n",
       "             5: 10,\n",
       "             6: 17,\n",
       "             7: 17,\n",
       "             8: 20,\n",
       "             9: 24,\n",
       "             10: 30,\n",
       "             11: 35})"
      ]
     },
     "execution_count": 19,
     "metadata": {},
     "output_type": "execute_result"
    }
   ],
   "source": [
    "price"
   ]
  },
  {
   "cell_type": "markdown",
   "metadata": {},
   "source": [
    "##### python函数式编程"
   ]
  },
  {
   "cell_type": "code",
   "execution_count": 20,
   "metadata": {},
   "outputs": [],
   "source": [
    "def example(f, arg):\n",
    "    return f(arg)"
   ]
  },
  {
   "cell_type": "code",
   "execution_count": 21,
   "metadata": {},
   "outputs": [],
   "source": [
    "def add_ten(num):\n",
    "    return num + 10"
   ]
  },
  {
   "cell_type": "code",
   "execution_count": 22,
   "metadata": {},
   "outputs": [],
   "source": [
    "def mul_ten(num):\n",
    "    return num * 10 "
   ]
  },
  {
   "cell_type": "code",
   "execution_count": 23,
   "metadata": {},
   "outputs": [
    {
     "name": "stdout",
     "output_type": "stream",
     "text": [
      "110\n",
      "1000\n"
     ]
    }
   ],
   "source": [
    "operations = [add_ten, mul_ten]\n",
    "\n",
    "for f in operations:\n",
    "    print(example(f, 100))"
   ]
  },
  {
   "cell_type": "markdown",
   "metadata": {},
   "source": [
    "#### 装饰器"
   ]
  },
  {
   "cell_type": "markdown",
   "metadata": {},
   "source": [
    "#### 无参数"
   ]
  },
  {
   "cell_type": "code",
   "execution_count": 24,
   "metadata": {},
   "outputs": [],
   "source": [
    "called_time = defaultdict(int)\n",
    "\n",
    "def get_call_times(f):\n",
    "    result = f()\n",
    "    \n",
    "    print('function: {} called once! '.format(f.__name__))\n",
    "    called_time[f.__name__] += 1\n",
    "    \n",
    "    return result"
   ]
  },
  {
   "cell_type": "code",
   "execution_count": 25,
   "metadata": {},
   "outputs": [],
   "source": [
    "def some_funcion_1(): \n",
    "    print('I am function 1')"
   ]
  },
  {
   "cell_type": "code",
   "execution_count": 26,
   "metadata": {},
   "outputs": [
    {
     "name": "stdout",
     "output_type": "stream",
     "text": [
      "I am function 1\n",
      "function: some_funcion_1 called once! \n"
     ]
    }
   ],
   "source": [
    "get_call_times(some_funcion_1)"
   ]
  },
  {
   "cell_type": "code",
   "execution_count": 27,
   "metadata": {},
   "outputs": [
    {
     "data": {
      "text/plain": [
       "defaultdict(int, {'some_funcion_1': 1})"
      ]
     },
     "execution_count": 27,
     "metadata": {},
     "output_type": "execute_result"
    }
   ],
   "source": [
    "called_time"
   ]
  },
  {
   "cell_type": "markdown",
   "metadata": {},
   "source": [
    "#### 有参数"
   ]
  },
  {
   "cell_type": "code",
   "execution_count": 28,
   "metadata": {},
   "outputs": [],
   "source": [
    "from functools import wraps"
   ]
  },
  {
   "cell_type": "code",
   "execution_count": 29,
   "metadata": {},
   "outputs": [],
   "source": [
    "called_time_with_arg = defaultdict(int)\n",
    "def get_call_time(f):\n",
    "    @wraps(f)\n",
    "    def wrap(n):\n",
    "        result = f(n)\n",
    "        \n",
    "        called_time_with_arg[(f.__name__, n)] += 1\n",
    "        \n",
    "        return result\n",
    "    return wrap"
   ]
  },
  {
   "cell_type": "code",
   "execution_count": 30,
   "metadata": {},
   "outputs": [],
   "source": [
    "def add_ten(n): return n + 10"
   ]
  },
  {
   "cell_type": "code",
   "execution_count": 31,
   "metadata": {},
   "outputs": [
    {
     "data": {
      "text/plain": [
       "20"
      ]
     },
     "execution_count": 31,
     "metadata": {},
     "output_type": "execute_result"
    }
   ],
   "source": [
    "add_ten = get_call_time(add_ten)\n",
    "add_ten(10)"
   ]
  },
  {
   "cell_type": "markdown",
   "metadata": {},
   "source": [
    "#### @"
   ]
  },
  {
   "cell_type": "code",
   "execution_count": 32,
   "metadata": {},
   "outputs": [],
   "source": [
    "@get_call_time\n",
    "def add_twenty(n): \n",
    "    return n + 20"
   ]
  },
  {
   "cell_type": "code",
   "execution_count": 33,
   "metadata": {},
   "outputs": [],
   "source": [
    "# 相当于 add_twenty = get_call_time(add_twenty)"
   ]
  },
  {
   "cell_type": "code",
   "execution_count": 34,
   "metadata": {},
   "outputs": [
    {
     "data": {
      "text/plain": [
       "29"
      ]
     },
     "execution_count": 34,
     "metadata": {},
     "output_type": "execute_result"
    }
   ],
   "source": [
    "add_twenty(9)"
   ]
  },
  {
   "cell_type": "markdown",
   "metadata": {},
   "source": [
    "#### ③ Cutting Problem"
   ]
  },
  {
   "cell_type": "code",
   "execution_count": 35,
   "metadata": {},
   "outputs": [],
   "source": [
    "solution = {}"
   ]
  },
  {
   "cell_type": "code",
   "execution_count": 36,
   "metadata": {},
   "outputs": [
    {
     "data": {
      "text/plain": [
       "defaultdict(int,\n",
       "            {1: 1,\n",
       "             2: 5,\n",
       "             3: 8,\n",
       "             4: 9,\n",
       "             5: 10,\n",
       "             6: 17,\n",
       "             7: 17,\n",
       "             8: 20,\n",
       "             9: 24,\n",
       "             10: 30,\n",
       "             11: 35})"
      ]
     },
     "execution_count": 36,
     "metadata": {},
     "output_type": "execute_result"
    }
   ],
   "source": [
    "price"
   ]
  },
  {
   "cell_type": "code",
   "execution_count": 37,
   "metadata": {},
   "outputs": [],
   "source": [
    "def r(n):\n",
    "    max_price, max_split = max([(price[n], 0)] + [(r(n - i) + r(i), i) for i in range(1, n)])\n",
    "    solution[n] = [n - max_split, max_split]\n",
    "    return max_price"
   ]
  },
  {
   "cell_type": "code",
   "execution_count": 38,
   "metadata": {
    "scrolled": true
   },
   "outputs": [
    {
     "data": {
      "text/plain": [
       "30"
      ]
     },
     "execution_count": 38,
     "metadata": {},
     "output_type": "execute_result"
    }
   ],
   "source": [
    "r(10)"
   ]
  },
  {
   "cell_type": "code",
   "execution_count": 39,
   "metadata": {
    "scrolled": true
   },
   "outputs": [
    {
     "data": {
      "text/plain": [
       "{1: [1, 0],\n",
       " 2: [2, 0],\n",
       " 3: [3, 0],\n",
       " 4: [2, 2],\n",
       " 5: [2, 3],\n",
       " 6: [6, 0],\n",
       " 7: [1, 6],\n",
       " 8: [2, 6],\n",
       " 9: [3, 6],\n",
       " 10: [10, 0]}"
      ]
     },
     "execution_count": 39,
     "metadata": {},
     "output_type": "execute_result"
    }
   ],
   "source": [
    "solution"
   ]
  },
  {
   "cell_type": "code",
   "execution_count": 40,
   "metadata": {},
   "outputs": [],
   "source": [
    "def parse_solution(n):\n",
    "    left_split, right_split = solution[n]\n",
    "    \n",
    "    if right_split == 0: return [left_split]\n",
    "    \n",
    "    return parse_solution(left_split) + parse_solution(right_split)"
   ]
  },
  {
   "cell_type": "code",
   "execution_count": 41,
   "metadata": {},
   "outputs": [],
   "source": [
    "#r(105)"
   ]
  },
  {
   "cell_type": "code",
   "execution_count": 42,
   "metadata": {},
   "outputs": [],
   "source": [
    "#parse_solution(105)"
   ]
  },
  {
   "cell_type": "markdown",
   "metadata": {},
   "source": [
    "### Dynamic Programming"
   ]
  },
  {
   "cell_type": "markdown",
   "metadata": {},
   "source": [
    "+ 1.Overlapping Subproblems\n",
    "+ 2.Overlapping computing saved in a table\n",
    "+ 3.Parse solution"
   ]
  },
  {
   "cell_type": "code",
   "execution_count": 43,
   "metadata": {},
   "outputs": [],
   "source": [
    "def memo(f): \n",
    "    memo.already_computed = {}\n",
    "    @wraps(f)\n",
    "    def wrap(arg):\n",
    "        result = None\n",
    "        \n",
    "        if arg in memo.already_computed: \n",
    "            result = memo.already_computed[arg]\n",
    "        else:\n",
    "            result = f(arg)\n",
    "            memo.already_computed[arg] = result\n",
    "        \n",
    "        return result\n",
    "    \n",
    "    return wrap"
   ]
  },
  {
   "cell_type": "code",
   "execution_count": 44,
   "metadata": {},
   "outputs": [],
   "source": [
    "@memo\n",
    "def r(n):\n",
    "    max_price, max_split = max([(price[n], 0)] + [(r(n - i) + r(i), i) for i in range(1, n)])\n",
    "    solution[n] = [n - max_split, max_split]\n",
    "    return max_price"
   ]
  },
  {
   "cell_type": "code",
   "execution_count": 45,
   "metadata": {
    "scrolled": true
   },
   "outputs": [],
   "source": [
    "#r(20)"
   ]
  },
  {
   "cell_type": "code",
   "execution_count": 46,
   "metadata": {},
   "outputs": [],
   "source": [
    "#r(105)"
   ]
  },
  {
   "cell_type": "code",
   "execution_count": 47,
   "metadata": {},
   "outputs": [],
   "source": [
    "def parse_solution(n):\n",
    "    left_split, right_split = solution[n]\n",
    "    \n",
    "    if right_split == 0: return [left_split]\n",
    "    \n",
    "    return parse_solution(left_split) + parse_solution(right_split)"
   ]
  },
  {
   "cell_type": "code",
   "execution_count": 48,
   "metadata": {},
   "outputs": [
    {
     "data": {
      "text/plain": [
       "332"
      ]
     },
     "execution_count": 48,
     "metadata": {},
     "output_type": "execute_result"
    }
   ],
   "source": [
    "r(105)"
   ]
  },
  {
   "cell_type": "code",
   "execution_count": 49,
   "metadata": {},
   "outputs": [
    {
     "data": {
      "text/plain": [
       "[6, 11, 11, 11, 11, 11, 11, 11, 11, 11]"
      ]
     },
     "execution_count": 49,
     "metadata": {},
     "output_type": "execute_result"
    }
   ],
   "source": [
    "parse_solution(105)"
   ]
  },
  {
   "cell_type": "code",
   "execution_count": 50,
   "metadata": {},
   "outputs": [
    {
     "data": {
      "text/plain": [
       "<function __main__.r(n)>"
      ]
     },
     "execution_count": 50,
     "metadata": {},
     "output_type": "execute_result"
    }
   ],
   "source": [
    "r   #不加@wraps(f) r对应的函数是wrap"
   ]
  },
  {
   "cell_type": "code",
   "execution_count": 51,
   "metadata": {},
   "outputs": [
    {
     "data": {
      "text/plain": [
       "defaultdict(int, {('add_ten', 10): 1, ('add_twenty', 9): 1})"
      ]
     },
     "execution_count": 51,
     "metadata": {},
     "output_type": "execute_result"
    }
   ],
   "source": [
    "called_time_with_arg"
   ]
  },
  {
   "cell_type": "markdown",
   "metadata": {},
   "source": [
    "### Part 2: change loss function from $loss = \\frac{1}{n}\\sum{(y_i - \\hat(y_i))^2}$ to $loss = \\frac{1}{n}\\sum{|y_i - \\hat{y_i}|}$, and using your mathmatical knowledge to get the right partial formual. Implemen the gradient descent code."
   ]
  },
  {
   "cell_type": "markdown",
   "metadata": {},
   "source": [
    "#### 公式\n",
    "$$ loss = \\frac{1}{n}\\sum{|y_i - \\hat{y_i}|} $$"
   ]
  },
  {
   "cell_type": "markdown",
   "metadata": {},
   "source": [
    "$$ loss = \\frac{1}{n} \\sum{|y_i - (kx_i + b_i)|} $$"
   ]
  },
  {
   "cell_type": "markdown",
   "metadata": {},
   "source": [
    "#### 对k求偏导  \n",
    "$$ loss = \\frac{1}{n} \\sum{(-x_i)}$$\n",
    "$$ loss = \\frac{1}{n} \\sum{(x_i)}$$"
   ]
  },
  {
   "cell_type": "markdown",
   "metadata": {},
   "source": [
    "$$ loss = \\frac{1}{n} \\sum{\\frac{|y_i - (kx_i + b_i)|x_i}{y_i - (kx_i + b_i)}} $$\n",
    "$$ loss = \\frac{1}{n} \\sum{\\frac{|y_i - \\hat{y_i})|x_i}{y_i - \\hat{y_i}}} $$\n",
    "$$ y_i != (kx_i + b_i) $$"
   ]
  },
  {
   "cell_type": "markdown",
   "metadata": {},
   "source": [
    "#### 对b求偏导\n",
    "$$ loss = \\frac{1}{n} \\sum{(-1)}$$\n",
    "$$ loss = \\frac{1}{n} \\sum{(1)}$$"
   ]
  },
  {
   "cell_type": "markdown",
   "metadata": {},
   "source": [
    "$$ loss = \\frac{1}{n} \\sum{\\frac{|y_i - (kx_i + b_i)|}{y_i - (kx_i + b_i)}} $$\n",
    "$$ loss = \\frac{1}{n} \\sum{\\frac{|y_i - \\hat{y_i})|}{y_i - \\hat{y_i}}} $$\n",
    "$$ y_i != (kx_i + b_i) $$"
   ]
  },
  {
   "cell_type": "markdown",
   "metadata": {},
   "source": [
    "##### ？？？？？问题很大"
   ]
  },
  {
   "cell_type": "code",
   "execution_count": 52,
   "metadata": {},
   "outputs": [],
   "source": [
    "def price(rm , k ,b):\n",
    "    \"\"\"Price Function\"\"\"\n",
    "    return k * rm + b"
   ]
  },
  {
   "cell_type": "code",
   "execution_count": 53,
   "metadata": {},
   "outputs": [],
   "source": [
    "def loss_abs(y, y_hat):\n",
    "    \"\"\"Loss Function\"\"\"\n",
    "    return sum(abs(y_i - y_hat_i) for y_i, y_hat_i in zip(list(y), list(y_hat))) / len(y)"
   ]
  },
  {
   "cell_type": "code",
   "execution_count": 54,
   "metadata": {},
   "outputs": [],
   "source": [
    "def partial_k(x, y ,y_hat):\n",
    "    \"\"\"k 偏导\"\"\"\n",
    "    gradient = 0\n",
    "    n = len(y)\n",
    "    \n",
    "    for x_i, y_i, y_hat_i in zip(list(x), list(y), list(y_hat)):\n",
    "#         if y_i == y_hat_i:\n",
    "#             continue\n",
    "#         gradient += abs(y_i - y_hat_i) / (y_i - y_hat_i) * x_i \n",
    "        if y_i < y_hat_i:\n",
    "            gradient += x_i\n",
    "        else:\n",
    "            gradient -= x_i\n",
    "            \n",
    "    return 1 / n * gradient"
   ]
  },
  {
   "cell_type": "code",
   "execution_count": 55,
   "metadata": {},
   "outputs": [],
   "source": [
    "def partial_b(y, y_hat):\n",
    "    \"\"\"b 偏导\"\"\"\n",
    "    gradient = 0\n",
    "    n = len(y)\n",
    "    \n",
    "    for y_i, y_hat_i in zip(list(y), list(y_hat)):\n",
    "#         if y_i == y_hat_i:\n",
    "#             continue\n",
    "#         gradient += abs(y_i - y_hat_i) / (y_i - y_hat_i)\n",
    "        if y_i < y_hat_i:\n",
    "            gradient += 1\n",
    "        else:\n",
    "            gradient -= 1\n",
    "    \n",
    "    return 1 / n * gradient"
   ]
  },
  {
   "cell_type": "code",
   "execution_count": 56,
   "metadata": {},
   "outputs": [
    {
     "name": "stdout",
     "output_type": "stream",
     "text": [
      "when time is 0, best_k is 29.22448533539111, best_b is -31.30819288365521, loss is 129.82420628369093\n",
      "when time is 1, best_k is 27.967558457920752, best_b is -31.50819288365521, loss is 121.72488040715396\n",
      "when time is 2, best_k is 26.710631580450396, best_b is -31.708192883655208, loss is 113.62555453061712\n",
      "when time is 3, best_k is 25.45370470298004, best_b is -31.908192883655207, loss is 105.52622865408024\n",
      "when time is 4, best_k is 24.196777825509685, best_b is -32.10819288365521, loss is 97.42690277754333\n",
      "when time is 5, best_k is 22.93985094803933, best_b is -32.30819288365521, loss is 89.3275769010064\n",
      "when time is 6, best_k is 21.682924070568973, best_b is -32.50819288365521, loss is 81.22825102446953\n",
      "when time is 7, best_k is 20.425997193098617, best_b is -32.708192883655215, loss is 73.12892514793265\n",
      "when time is 8, best_k is 19.16907031562826, best_b is -32.90819288365522, loss is 65.02959927139567\n",
      "when time is 9, best_k is 17.912143438157905, best_b is -33.10819288365522, loss is 56.930273394858744\n",
      "when time is 10, best_k is 16.65521656068755, best_b is -33.308192883655224, loss is 48.838974132108746\n",
      "when time is 11, best_k is 15.405033556734978, best_b is -33.50661185598724, loss is 40.82733597234301\n",
      "when time is 12, best_k is 14.154850552782406, best_b is -33.70503082831925, loss is 32.82625167413304\n",
      "when time is 13, best_k is 12.91236557254525, best_b is -33.901868772983285, loss is 24.928062996731157\n",
      "when time is 14, best_k is 11.674794426300188, best_b is -34.09791620381333, loss is 17.110637692631247\n",
      "when time is 15, best_k is 10.448052529066985, best_b is -34.29238260697538, loss is 9.60032360221542\n",
      "when time is 16, best_k is 9.326527232624295, best_b is -34.4710387334576, loss is 4.64903544405341\n",
      "when time is 17, best_k is 8.96490549349386, best_b is -34.530327271007, loss is 4.534592528239292\n",
      "when time is 18, best_k is 9.233235533019553, best_b is -34.48922055163941, loss is 4.517155851188645\n",
      "when time is 19, best_k is 9.013318141715205, best_b is -34.52558418800305, loss is 4.480841154574243\n",
      "when time is 20, best_k is 9.180428418395048, best_b is -34.500287745315305, loss is 4.472993277468781\n",
      "when time is 21, best_k is 9.059069129857498, best_b is -34.5208411049991, loss is 4.454037746727699\n",
      "when time is 22, best_k is 9.136097193098605, best_b is -34.50977391132321, loss is 4.452043521413782\n",
      "when time is 23, best_k is 9.080141066616392, best_b is -34.5200505911651, loss is 4.4483562337005695\n",
      "when time is 24, best_k is 9.107124861082795, best_b is -34.51688853582913, loss is 4.447341820614189\n",
      "when time is 25, best_k is 9.100213003375286, best_b is -34.51926007733111, loss is 4.447239251026767\n",
      "when time is 26, best_k is 9.098354900608488, best_b is -34.52084110499909, loss is 4.44720949005487\n",
      "when time is 27, best_k is 9.09649679784169, best_b is -34.522422132667074, loss is 4.4472064011562695\n",
      "when time is 28, best_k is 9.09942841839505, best_b is -34.523212646501065, loss is 4.447200716223067\n",
      "when time is 29, best_k is 9.097570315628252, best_b is -34.52479367416905, loss is 4.447181291740407\n",
      "when time is 31, best_k is 9.098643833414814, best_b is -34.52716521567102, loss is 4.4471621814193645\n",
      "when time is 33, best_k is 9.099717351201376, best_b is -34.52953675717299, loss is 4.447153407587565\n",
      "when time is 34, best_k is 9.097859248434577, best_b is -34.53111778484097, loss is 4.4471520600487695\n",
      "when time is 35, best_k is 9.100790868987938, best_b is -34.53190829867496, loss is 4.447144633755756\n",
      "when time is 36, best_k is 9.09893276622114, best_b is -34.533489326342945, loss is 4.44712695063291\n",
      "when time is 38, best_k is 9.100006284007701, best_b is -34.53586086784492, loss is 4.447106098952057\n",
      "when time is 40, best_k is 9.101079801794263, best_b is -34.53823240934689, loss is 4.447097325120251\n",
      "when time is 42, best_k is 9.102153319580825, best_b is -34.54060395084886, loss is 4.447088551288447\n",
      "when time is 43, best_k is 9.100295216814027, best_b is -34.54218497851684, loss is 4.447072609525411\n",
      "when time is 45, best_k is 9.10136873460059, best_b is -34.544556520018816, loss is 4.4470500164847495\n",
      "when time is 47, best_k is 9.102442252387151, best_b is -34.54692806152079, loss is 4.447041242652944\n",
      "when time is 49, best_k is 9.103515770173713, best_b is -34.54929960302276, loss is 4.447032468821133\n",
      "when time is 50, best_k is 9.101657667406915, best_b is -34.55088063069074, loss is 4.44701826841791\n",
      "when time is 52, best_k is 9.102731185193477, best_b is -34.553252172192714, loss is 4.446993934017431\n",
      "when time is 54, best_k is 9.103804702980039, best_b is -34.555623713694686, loss is 4.446985160185632\n",
      "when time is 56, best_k is 9.1048782207666, best_b is -34.55799525519666, loss is 4.446976386353829\n",
      "when time is 57, best_k is 9.103020117999803, best_b is -34.55957628286464, loss is 4.4469639273104065\n",
      "when time is 59, best_k is 9.104093635786365, best_b is -34.56194782436661, loss is 4.446938817894547\n",
      "when time is 61, best_k is 9.105167153572927, best_b is -34.564319365868585, loss is 4.446929077718322\n",
      "when time is 63, best_k is 9.106240671359489, best_b is -34.56669090737056, loss is 4.446920303886522\n",
      "when time is 64, best_k is 9.10438256859269, best_b is -34.56827193503854, loss is 4.446909586202904\n",
      "when time is 66, best_k is 9.105456086379252, best_b is -34.57064347654051, loss is 4.446884476787042\n",
      "when time is 68, best_k is 9.106529604165814, best_b is -34.57301501804248, loss is 4.446872995251016\n",
      "when time is 70, best_k is 9.107603121952376, best_b is -34.575386559544455, loss is 4.44686422141921\n",
      "when time is 71, best_k is 9.105745019185578, best_b is -34.57696758721244, loss is 4.446855245095411\n",
      "when time is 73, best_k is 9.10681853697214, best_b is -34.57933912871441, loss is 4.446830135679547\n",
      "when time is 75, best_k is 9.107892054758702, best_b is -34.58171067021638, loss is 4.446816912783708\n",
      "when time is 77, best_k is 9.108965572545264, best_b is -34.58408221171835, loss is 4.4468081389519\n",
      "when time is 78, best_k is 9.107107469778466, best_b is -34.585663239386335, loss is 4.4468009039879055\n",
      "when time is 79, best_k is 9.110039090331826, best_b is -34.586453753220326, loss is 4.446799365120098\n",
      "when time is 80, best_k is 9.108180987565028, best_b is -34.58803478088831, loss is 4.446775794572046\n",
      "when time is 82, best_k is 9.10925450535159, best_b is -34.59040632239028, loss is 4.446760830316395\n",
      "when time is 84, best_k is 9.110328023138152, best_b is -34.59277786389225, loss is 4.44675205648459\n",
      "when time is 85, best_k is 9.108469920371354, best_b is -34.59435889156023, loss is 4.446746562880411\n",
      "when time is 86, best_k is 9.111401540924714, best_b is -34.595149405394224, loss is 4.446743282652786\n",
      "when time is 87, best_k is 9.109543438157916, best_b is -34.596730433062206, loss is 4.446721453464539\n",
      "when time is 89, best_k is 9.110616955944478, best_b is -34.59910197456418, loss is 4.446704747849087\n",
      "when time is 91, best_k is 9.11169047373104, best_b is -34.60147351606615, loss is 4.446695974017285\n",
      "when time is 92, best_k is 9.109832370964241, best_b is -34.60305454373413, loss is 4.446692221772903\n",
      "when time is 93, best_k is 9.112763991517602, best_b is -34.60384505756812, loss is 4.446687200185475\n",
      "when time is 94, best_k is 9.110905888750803, best_b is -34.605426085236104, loss is 4.446667112357042\n",
      "when time is 96, best_k is 9.111979406537365, best_b is -34.607797626738076, loss is 4.446648665381782\n",
      "when time is 98, best_k is 9.113052924323927, best_b is -34.61016916824005, loss is 4.446639891549976\n",
      "when time is 99, best_k is 9.11119482155713, best_b is -34.61175019590803, loss is 4.4466378806654046\n",
      "when time is 100, best_k is 9.11412644211049, best_b is -34.61254070974202, loss is 4.446631117718171\n",
      "when time is 101, best_k is 9.112268339343691, best_b is -34.61412173741, loss is 4.446612771249537\n",
      "when time is 103, best_k is 9.113341857130253, best_b is -34.616493278911975, loss is 4.446592582914465\n",
      "when time is 105, best_k is 9.114415374916815, best_b is -34.61886482041395, loss is 4.446583809082666\n",
      "when time is 106, best_k is 9.112557272150017, best_b is -34.62044584808193, loss is 4.4465835395579045\n",
      "when time is 107, best_k is 9.115488892703377, best_b is -34.62123636191592, loss is 4.44657503525086\n",
      "when time is 108, best_k is 9.113630789936579, best_b is -34.6228173895839, loss is 4.4465584301420416\n",
      "when time is 110, best_k is 9.11470430772314, best_b is -34.62518893108587, loss is 4.44653650044716\n",
      "when time is 112, best_k is 9.115777825509703, best_b is -34.627560472587845, loss is 4.446527726615353\n",
      "when time is 114, best_k is 9.116851343296265, best_b is -34.62993201408982, loss is 4.44651895278355\n",
      "when time is 115, best_k is 9.114993240529467, best_b is -34.6315130417578, loss is 4.446504089034537\n",
      "when time is 117, best_k is 9.116066758316029, best_b is -34.63388458325977, loss is 4.446480417979854\n",
      "when time is 119, best_k is 9.11714027610259, best_b is -34.63625612476174, loss is 4.446471644148047\n",
      "when time is 121, best_k is 9.118213793889153, best_b is -34.638627666263716, loss is 4.44646287031624\n",
      "when time is 122, best_k is 9.116355691122354, best_b is -34.6402086939317, loss is 4.44644974792704\n",
      "when time is 124, best_k is 9.117429208908916, best_b is -34.64258023543367, loss is 4.446424638511176\n",
      "when time is 126, best_k is 9.118502726695478, best_b is -34.64495177693564, loss is 4.446415561680731\n",
      "when time is 128, best_k is 9.11957624448204, best_b is -34.647323318437614, loss is 4.4464067878489315\n",
      "when time is 129, best_k is 9.117718141715242, best_b is -34.648904346105596, loss is 4.446395406819539\n",
      "when time is 131, best_k is 9.118791659501804, best_b is -34.65127588760757, loss is 4.446370297403674\n",
      "when time is 133, best_k is 9.119865177288366, best_b is -34.65364742910954, loss is 4.446359479213431\n",
      "when time is 135, best_k is 9.120938695074928, best_b is -34.65601897061151, loss is 4.446350705381623\n",
      "when time is 136, best_k is 9.11908059230813, best_b is -34.657599998279494, loss is 4.446341065712041\n",
      "when time is 138, best_k is 9.120154110094692, best_b is -34.659971539781466, loss is 4.446315956296174\n",
      "when time is 140, best_k is 9.121227627881254, best_b is -34.66234308128344, loss is 4.446303396746121\n",
      "when time is 142, best_k is 9.122301145667816, best_b is -34.66471462278541, loss is 4.446294622914315\n",
      "when time is 143, best_k is 9.120443042901018, best_b is -34.66629565045339, loss is 4.44628672460454\n",
      "when time is 144, best_k is 9.123374663454378, best_b is -34.66708616428738, loss is 4.446285849082505\n",
      "when time is 145, best_k is 9.12151656068758, best_b is -34.668667191955365, loss is 4.446261615188679\n",
      "when time is 147, best_k is 9.122590078474142, best_b is -34.67103873345734, loss is 4.446247314278811\n",
      "when time is 149, best_k is 9.123663596260704, best_b is -34.67341027495931, loss is 4.446238540447005\n",
      "when time is 150, best_k is 9.121805493493905, best_b is -34.67499130262729, loss is 4.446232383497039\n",
      "when time is 151, best_k is 9.124737114047266, best_b is -34.67578181646128, loss is 4.446229766615197\n",
      "when time is 152, best_k is 9.122879011280467, best_b is -34.67736284412926, loss is 4.446207274081175\n",
      "when time is 154, best_k is 9.12395252906703, best_b is -34.679734385631235, loss is 4.446191231811501\n",
      "when time is 156, best_k is 9.125026046853591, best_b is -34.68210592713321, loss is 4.446182457979695\n",
      "when time is 157, best_k is 9.123167944086793, best_b is -34.68368695480119, loss is 4.44617804238954\n",
      "when time is 158, best_k is 9.126099564640153, best_b is -34.68447746863518, loss is 4.446173684147891\n",
      "when time is 159, best_k is 9.124241461873355, best_b is -34.68605849630316, loss is 4.446152932973673\n",
      "when time is 161, best_k is 9.125314979659917, best_b is -34.688430037805134, loss is 4.4461351493441885\n",
      "when time is 163, best_k is 9.126388497446479, best_b is -34.690801579307106, loss is 4.446126375512389\n",
      "when time is 164, best_k is 9.124530394679681, best_b is -34.69238260697509, loss is 4.446123701282038\n",
      "when time is 165, best_k is 9.127462015233041, best_b is -34.69317312080908, loss is 4.446117601680583\n",
      "when time is 166, best_k is 9.125603912466243, best_b is -34.69475414847706, loss is 4.4460985918661775\n",
      "when time is 168, best_k is 9.126677430252805, best_b is -34.69712568997903, loss is 4.446079066876878\n",
      "when time is 170, best_k is 9.127750948039367, best_b is -34.699497231481004, loss is 4.44607029304508\n",
      "when time is 171, best_k is 9.125892845272569, best_b is -34.701078259148986, loss is 4.446069360174536\n",
      "when time is 172, best_k is 9.128824465825929, best_b is -34.70186877298298, loss is 4.446061519213272\n",
      "when time is 173, best_k is 9.12696636305913, best_b is -34.70344980065096, loss is 4.446044250758671\n",
      "when time is 175, best_k is 9.128039880845693, best_b is -34.70582134215293, loss is 4.446022984409574\n",
      "when time is 177, best_k is 9.129113398632255, best_b is -34.7081928836549, loss is 4.44601421057777\n",
      "when time is 179, best_k is 9.130186916418817, best_b is -34.710564425156875, loss is 4.446005436745963\n",
      "when time is 180, best_k is 9.128328813652018, best_b is -34.712145452824856, loss is 4.445989909651173\n",
      "when time is 182, best_k is 9.12940233143858, best_b is -34.71451699432683, loss is 4.445966901942258\n",
      "when time is 184, best_k is 9.130475849225142, best_b is -34.7168885358288, loss is 4.4459581281104565\n",
      "when time is 186, best_k is 9.131549367011704, best_b is -34.71926007733077, loss is 4.445949354278655\n",
      "when time is 187, best_k is 9.129691264244906, best_b is -34.720841104998755, loss is 4.445935568543672\n",
      "when time is 189, best_k is 9.130764782031468, best_b is -34.72321264650073, loss is 4.445910819474957\n",
      "when time is 191, best_k is 9.13183829981803, best_b is -34.7255841880027, loss is 4.445902045643153\n",
      "when time is 193, best_k is 9.132911817604592, best_b is -34.72795572950467, loss is 4.445893271811343\n",
      "when time is 194, best_k is 9.131053714837794, best_b is -34.72953675717265, loss is 4.44588122743617\n",
      "when time is 196, best_k is 9.132127232624356, best_b is -34.731908298674625, loss is 4.445856118020305\n",
      "when time is 198, best_k is 9.133200750410918, best_b is -34.7342798401766, loss is 4.445845963175838\n",
      "when time is 200, best_k is 9.13427426819748, best_b is -34.73665138167857, loss is 4.445837189344033\n",
      "when time is 201, best_k is 9.132416165430682, best_b is -34.73823240934655, loss is 4.445826886328672\n",
      "when time is 203, best_k is 9.133489683217244, best_b is -34.740603950848524, loss is 4.445801776912808\n",
      "when time is 205, best_k is 9.134563201003806, best_b is -34.742975492350496, loss is 4.44578988070853\n",
      "when time is 207, best_k is 9.135636718790368, best_b is -34.74534703385247, loss is 4.44578110687673\n",
      "when time is 208, best_k is 9.13377861602357, best_b is -34.74692806152045, loss is 4.445772545221173\n",
      "when time is 209, best_k is 9.13671023657693, best_b is -34.74771857535444, loss is 4.44577233304492\n",
      "when time is 210, best_k is 9.134852133810131, best_b is -34.74929960302242, loss is 4.4457474358053055\n",
      "when time is 212, best_k is 9.135925651596693, best_b is -34.751671144524394, loss is 4.445733798241226\n",
      "when time is 214, best_k is 9.136999169383255, best_b is -34.75404268602637, loss is 4.445725024409421\n",
      "when time is 215, best_k is 9.135141066616457, best_b is -34.75562371369435, loss is 4.445718204113671\n",
      "when time is 216, best_k is 9.138072687169817, best_b is -34.75641422752834, loss is 4.445716250577615\n",
      "when time is 217, best_k is 9.13621458440302, best_b is -34.75799525519632, loss is 4.445693094697807\n",
      "when time is 219, best_k is 9.137288102189581, best_b is -34.76036679669829, loss is 4.445677715773914\n",
      "when time is 221, best_k is 9.138361619976143, best_b is -34.762738338200265, loss is 4.4456689419421105\n",
      "when time is 222, best_k is 9.136503517209345, best_b is -34.764319365868246, loss is 4.445663863006169\n",
      "when time is 223, best_k is 9.139435137762705, best_b is -34.76510987970224, loss is 4.445660168110304\n",
      "when time is 224, best_k is 9.137577034995907, best_b is -34.76669090737022, loss is 4.445638753590306\n",
      "when time is 226, best_k is 9.138650552782469, best_b is -34.76906244887219, loss is 4.445621633306606\n",
      "when time is 228, best_k is 9.13972407056903, best_b is -34.77143399037416, loss is 4.445612859474799\n",
      "when time is 229, best_k is 9.137865967802233, best_b is -34.773015018042145, loss is 4.445609521898667\n",
      "when time is 230, best_k is 9.140797588355593, best_b is -34.773805531876135, loss is 4.445604085642998\n",
      "when time is 231, best_k is 9.138939485588795, best_b is -34.77538655954412, loss is 4.445584412482804\n",
      "when time is 233, best_k is 9.140013003375357, best_b is -34.77775810104609, loss is 4.445565550839295\n",
      "when time is 235, best_k is 9.141086521161919, best_b is -34.78012964254806, loss is 4.445556777007486\n",
      "when time is 236, best_k is 9.13922841839512, best_b is -34.78171067021604, loss is 4.44555518079117\n",
      "when time is 237, best_k is 9.14216003894848, best_b is -34.782501184050034, loss is 4.445548003175679\n",
      "when time is 238, best_k is 9.140301936181682, best_b is -34.784082211718015, loss is 4.445530071375307\n",
      "when time is 240, best_k is 9.141375453968244, best_b is -34.78645375321999, loss is 4.445509468371991\n",
      "when time is 242, best_k is 9.142448971754806, best_b is -34.78882529472196, loss is 4.445500694540183\n",
      "when time is 244, best_k is 9.143522489541368, best_b is -34.79119683622393, loss is 4.445491920708373\n",
      "when time is 245, best_k is 9.14166438677457, best_b is -34.792777863891914, loss is 4.445475730267807\n",
      "when time is 247, best_k is 9.142737904561132, best_b is -34.795149405393886, loss is 4.4454533859046785\n",
      "when time is 249, best_k is 9.143811422347694, best_b is -34.79752094689586, loss is 4.445444612072873\n",
      "when time is 251, best_k is 9.144884940134256, best_b is -34.79989248839783, loss is 4.445435838241064\n",
      "when time is 252, best_k is 9.143026837367458, best_b is -34.80147351606581, loss is 4.445421389160305\n",
      "when time is 254, best_k is 9.14410035515402, best_b is -34.803845057567784, loss is 4.445397303437368\n",
      "when time is 256, best_k is 9.145173872940582, best_b is -34.80621659906976, loss is 4.445388529605568\n",
      "when time is 258, best_k is 9.146247390727144, best_b is -34.80858814057173, loss is 4.445379755773753\n",
      "when time is 259, best_k is 9.144389287960346, best_b is -34.81016916823971, loss is 4.445367048052801\n",
      "when time is 261, best_k is 9.145462805746908, best_b is -34.81254070974168, loss is 4.445341938636941\n",
      "when time is 263, best_k is 9.14653632353347, best_b is -34.814912251243655, loss is 4.44533244713825\n",
      "when time is 265, best_k is 9.147609841320032, best_b is -34.81728379274563, loss is 4.445323673306448\n",
      "when time is 266, best_k is 9.145751738553233, best_b is -34.81886482041361, loss is 4.445312706945303\n",
      "when time is 268, best_k is 9.146825256339795, best_b is -34.82123636191558, loss is 4.44528759752944\n",
      "when time is 270, best_k is 9.147898774126357, best_b is -34.82360790341755, loss is 4.445276364670947\n",
      "when time is 272, best_k is 9.14897229191292, best_b is -34.825979444919525, loss is 4.445267590839138\n",
      "when time is 273, best_k is 9.147114189146121, best_b is -34.82756047258751, loss is 4.445258365837801\n",
      "when time is 275, best_k is 9.148187706932683, best_b is -34.82993201408948, loss is 4.44523325642194\n",
      "when time is 277, best_k is 9.149261224719245, best_b is -34.83230355559145, loss is 4.445220282203633\n",
      "when time is 279, best_k is 9.150334742505807, best_b is -34.834675097093424, loss is 4.445211508371829\n",
      "when time is 280, best_k is 9.148476639739009, best_b is -34.836256124761405, loss is 4.4452040247303035\n",
      "when time is 281, best_k is 9.151408260292369, best_b is -34.837046638595396, loss is 4.445202734540024\n",
      "when time is 282, best_k is 9.14955015752557, best_b is -34.83862766626338, loss is 4.445178915314437\n",
      "when time is 284, best_k is 9.150623675312133, best_b is -34.84099920776535, loss is 4.445164199736328\n",
      "when time is 286, best_k is 9.151697193098695, best_b is -34.84337074926732, loss is 4.445155425904524\n",
      "when time is 287, best_k is 9.149839090331897, best_b is -34.844951776935304, loss is 4.4451496836228\n",
      "when time is 288, best_k is 9.152770710885257, best_b is -34.845742290769294, loss is 4.445146652072717\n",
      "when time is 289, best_k is 9.150912608118459, best_b is -34.847323318437276, loss is 4.445124574206936\n",
      "when time is 291, best_k is 9.15198612590502, best_b is -34.84969485993925, loss is 4.445108117269013\n",
      "when time is 293, best_k is 9.153059643691583, best_b is -34.85206640144122, loss is 4.445099343437211\n",
      "when time is 294, best_k is 9.151201540924784, best_b is -34.8536474291092, loss is 4.445095342515298\n",
      "when time is 295, best_k is 9.154133161478144, best_b is -34.85443794294319, loss is 4.445090569605407\n",
      "when time is 296, best_k is 9.152275058711346, best_b is -34.856018970611174, loss is 4.445070233099436\n",
      "when time is 298, best_k is 9.153348576497908, best_b is -34.85839051211315, loss is 4.445052034801709\n",
      "when time is 300, best_k is 9.15442209428447, best_b is -34.86076205361512, loss is 4.445043260969901\n",
      "when time is 301, best_k is 9.152563991517672, best_b is -34.8623430812831, loss is 4.445041001407801\n",
      "when time is 302, best_k is 9.155495612071032, best_b is -34.86313359511709, loss is 4.445034487138099\n",
      "when time is 303, best_k is 9.153637509304234, best_b is -34.86471462278507, loss is 4.445015891991938\n",
      "when time is 305, best_k is 9.154711027090796, best_b is -34.867086164287045, loss is 4.444995952334394\n"
     ]
    },
    {
     "name": "stdout",
     "output_type": "stream",
     "text": [
      "when time is 307, best_k is 9.155784544877358, best_b is -34.86945770578902, loss is 4.444987178502592\n",
      "when time is 308, best_k is 9.15392644211056, best_b is -34.871038733457, loss is 4.444986660300302\n",
      "when time is 309, best_k is 9.15685806266392, best_b is -34.87182924729099, loss is 4.444978404670789\n",
      "when time is 310, best_k is 9.154999959897122, best_b is -34.87341027495897, loss is 4.444961550884441\n",
      "when time is 312, best_k is 9.156073477683684, best_b is -34.87578181646094, loss is 4.44493986986709\n",
      "when time is 314, best_k is 9.157146995470246, best_b is -34.878153357962915, loss is 4.444931096035284\n",
      "when time is 316, best_k is 9.158220513256808, best_b is -34.88052489946489, loss is 4.444922322203482\n",
      "when time is 317, best_k is 9.15636241049001, best_b is -34.88210592713287, loss is 4.444907209776931\n",
      "when time is 319, best_k is 9.157435928276572, best_b is -34.88447746863484, loss is 4.444883787399776\n",
      "when time is 321, best_k is 9.158509446063134, best_b is -34.886849010136814, loss is 4.444875013567975\n",
      "when time is 323, best_k is 9.159582963849696, best_b is -34.889220551638786, loss is 4.444866239736172\n",
      "when time is 324, best_k is 9.157724861082897, best_b is -34.89080157930677, loss is 4.444852868669434\n",
      "when time is 326, best_k is 9.15879837886946, best_b is -34.89317312080874, loss is 4.4448277592535765\n",
      "when time is 328, best_k is 9.159871896656021, best_b is -34.89554466231071, loss is 4.444818931100668\n",
      "when time is 330, best_k is 9.160945414442583, best_b is -34.897916203812684, loss is 4.444810157268859\n",
      "when time is 331, best_k is 9.159087311675785, best_b is -34.899497231480666, loss is 4.444798527561938\n",
      "when time is 333, best_k is 9.160160829462347, best_b is -34.90186877298264, loss is 4.444773418146076\n",
      "when time is 335, best_k is 9.161234347248909, best_b is -34.90424031448461, loss is 4.444762848633355\n",
      "when time is 337, best_k is 9.162307865035471, best_b is -34.90661185598658, loss is 4.444754074801555\n",
      "when time is 338, best_k is 9.160449762268673, best_b is -34.908192883654564, loss is 4.444744186454433\n",
      "when time is 340, best_k is 9.161523280055235, best_b is -34.91056442515654, loss is 4.444719077038569\n",
      "when time is 342, best_k is 9.162596797841797, best_b is -34.91293596665851, loss is 4.444706766166048\n",
      "when time is 344, best_k is 9.163670315628359, best_b is -34.91530750816048, loss is 4.444697992334239\n",
      "when time is 345, best_k is 9.16181221286156, best_b is -34.91688853582846, loss is 4.44468984534693\n",
      "when time is 346, best_k is 9.16474383341492, best_b is -34.91767904966245, loss is 4.444689218502439\n",
      "when time is 347, best_k is 9.162885730648123, best_b is -34.919260077330435, loss is 4.444664735931069\n",
      "when time is 349, best_k is 9.163959248434685, best_b is -34.92163161883241, loss is 4.4446506836987405\n",
      "when time is 351, best_k is 9.165032766221247, best_b is -34.92400316033438, loss is 4.444641909866936\n",
      "when time is 352, best_k is 9.163174663454448, best_b is -34.92558418800236, loss is 4.444635504239436\n",
      "when time is 353, best_k is 9.166106284007808, best_b is -34.92637470183635, loss is 4.444633136035133\n",
      "when time is 354, best_k is 9.16424818124101, best_b is -34.92795572950433, loss is 4.4446103948235685\n",
      "when time is 356, best_k is 9.165321699027572, best_b is -34.930327271006306, loss is 4.444594601231432\n",
      "when time is 358, best_k is 9.166395216814134, best_b is -34.93269881250828, loss is 4.444585827399624\n",
      "when time is 359, best_k is 9.164537114047336, best_b is -34.93427984017626, loss is 4.444581163131931\n",
      "when time is 360, best_k is 9.167468734600696, best_b is -34.93507035401025, loss is 4.444577053567821\n",
      "when time is 361, best_k is 9.165610631833898, best_b is -34.93665138167823, loss is 4.444556053716072\n",
      "when time is 363, best_k is 9.16668414962046, best_b is -34.939022923180204, loss is 4.444538518764124\n",
      "when time is 365, best_k is 9.167757667407022, best_b is -34.941394464682176, loss is 4.444529744932316\n",
      "when time is 366, best_k is 9.165899564640224, best_b is -34.94297549235016, loss is 4.444526822024434\n",
      "when time is 367, best_k is 9.168831185193584, best_b is -34.94376600618415, loss is 4.444520971100514\n",
      "when time is 368, best_k is 9.166973082426786, best_b is -34.94534703385213, loss is 4.44450171260857\n",
      "when time is 370, best_k is 9.168046600213348, best_b is -34.9477185753541, loss is 4.444482436296812\n",
      "when time is 372, best_k is 9.16912011799991, best_b is -34.950090116856074, loss is 4.4444736624650085\n",
      "when time is 373, best_k is 9.167262015233112, best_b is -34.951671144524056, loss is 4.444472480916935\n",
      "when time is 374, best_k is 9.170193635786472, best_b is -34.95246165835805, loss is 4.444464888633198\n",
      "when time is 375, best_k is 9.168335533019674, best_b is -34.95404268602603, loss is 4.444447371501068\n",
      "when time is 377, best_k is 9.169409050806236, best_b is -34.956414227528, loss is 4.444426353829503\n",
      "when time is 379, best_k is 9.170482568592798, best_b is -34.95878576902997, loss is 4.444417579997702\n",
      "when time is 381, best_k is 9.17155608637936, best_b is -34.961157310531945, loss is 4.4444088061658915\n",
      "when time is 382, best_k is 9.169697983612561, best_b is -34.96273833819993, loss is 4.44439303039357\n",
      "when time is 384, best_k is 9.170771501399123, best_b is -34.9651098797019, loss is 4.444370271362191\n",
      "when time is 386, best_k is 9.171845019185685, best_b is -34.96748142120387, loss is 4.444361497530384\n",
      "when time is 388, best_k is 9.172918536972247, best_b is -34.96985296270584, loss is 4.444352723698584\n",
      "when time is 389, best_k is 9.17106043420545, best_b is -34.971433990373825, loss is 4.444338689286065\n",
      "when time is 391, best_k is 9.172133951992011, best_b is -34.9738055318758, loss is 4.444314188894882\n",
      "when time is 393, best_k is 9.173207469778573, best_b is -34.97617707337777, loss is 4.444305415063079\n",
      "when time is 395, best_k is 9.174280987565135, best_b is -34.97854861487974, loss is 4.444296641231275\n",
      "when time is 396, best_k is 9.172422884798337, best_b is -34.98012964254772, loss is 4.444284348178568\n",
      "when time is 398, best_k is 9.173496402584899, best_b is -34.982501184049696, loss is 4.444259238762705\n",
      "when time is 400, best_k is 9.17456992037146, best_b is -34.98487272555167, loss is 4.4442493325957715\n",
      "when time is 402, best_k is 9.175643438158023, best_b is -34.98724426705364, loss is 4.444240558763964\n",
      "when time is 403, best_k is 9.173785335391225, best_b is -34.98882529472162, loss is 4.444230007071073\n",
      "when time is 405, best_k is 9.174858853177787, best_b is -34.991196836223594, loss is 4.444204897655206\n",
      "when time is 407, best_k is 9.175932370964349, best_b is -34.993568377725566, loss is 4.444193250128454\n",
      "when time is 409, best_k is 9.17700588875091, best_b is -34.99593991922754, loss is 4.444184476296655\n",
      "when time is 410, best_k is 9.175147785984112, best_b is -34.99752094689552, loss is 4.444175665963567\n",
      "when time is 412, best_k is 9.176221303770674, best_b is -34.99989248839749, loss is 4.444150556547704\n",
      "when time is 414, best_k is 9.177294821557236, best_b is -35.002264029899465, loss is 4.4441371676611485\n",
      "when time is 416, best_k is 9.178368339343798, best_b is -35.00463557140144, loss is 4.444128393829346\n",
      "when time is 417, best_k is 9.176510236577, best_b is -35.00621659906942, loss is 4.444121324856069\n",
      "when time is 418, best_k is 9.17944185713036, best_b is -35.00700711290341, loss is 4.444119619997542\n",
      "when time is 419, best_k is 9.177583754363562, best_b is -35.00858814057139, loss is 4.444096215440201\n",
      "when time is 421, best_k is 9.178657272150124, best_b is -35.01095968207336, loss is 4.444081085193843\n",
      "when time is 423, best_k is 9.179730789936686, best_b is -35.013331223575335, loss is 4.444072311362038\n",
      "when time is 424, best_k is 9.177872687169888, best_b is -35.01491225124332, loss is 4.444066983748564\n",
      "when time is 425, best_k is 9.180804307723248, best_b is -35.01570276507731, loss is 4.4440635375302335\n",
      "when time is 426, best_k is 9.17894620495645, best_b is -35.01728379274529, loss is 4.4440418743327035\n",
      "when time is 428, best_k is 9.180019722743012, best_b is -35.01965533424726, loss is 4.444025002726534\n",
      "when time is 430, best_k is 9.181093240529574, best_b is -35.02202687574923, loss is 4.44401622889473\n",
      "when time is 431, best_k is 9.179235137762776, best_b is -35.023607903417215, loss is 4.444012642641068\n",
      "when time is 432, best_k is 9.182166758316136, best_b is -35.024398417251206, loss is 4.444007455062923\n",
      "when time is 433, best_k is 9.180308655549338, best_b is -35.02597944491919, loss is 4.443987533225201\n",
      "when time is 435, best_k is 9.1813821733359, best_b is -35.02835098642116, loss is 4.443968920259226\n",
      "when time is 437, best_k is 9.182455691122462, best_b is -35.03072252792313, loss is 4.443960146427417\n",
      "when time is 438, best_k is 9.180597588355663, best_b is -35.03230355559111, loss is 4.443958301533561\n",
      "when time is 439, best_k is 9.183529208909023, best_b is -35.033094069425104, loss is 4.443951372595614\n",
      "when time is 440, best_k is 9.181671106142225, best_b is -35.034675097093086, loss is 4.443933192117696\n",
      "when time is 442, best_k is 9.182744623928787, best_b is -35.03704663859506, loss is 4.443912837791918\n",
      "when time is 444, best_k is 9.18381814171535, best_b is -35.03941818009703, loss is 4.443904063960106\n",
      "when time is 445, best_k is 9.181960038948551, best_b is -35.04099920776501, loss is 4.443903960426066\n",
      "when time is 446, best_k is 9.184891659501911, best_b is -35.041789721599, loss is 4.443895290128306\n",
      "when time is 447, best_k is 9.183033556735113, best_b is -35.043370749266984, loss is 4.443878851010201\n",
      "when time is 449, best_k is 9.184107074521675, best_b is -35.045742290768956, loss is 4.4438567553246076\n",
      "when time is 451, best_k is 9.185180592308237, best_b is -35.04811383227093, loss is 4.443847981492803\n",
      "when time is 453, best_k is 9.186254110094799, best_b is -35.0504853737729, loss is 4.443839207660999\n",
      "when time is 454, best_k is 9.184396007328, best_b is -35.05206640144088, loss is 4.443824509902703\n",
      "when time is 456, best_k is 9.185469525114563, best_b is -35.054437942942855, loss is 4.4438006728573\n",
      "when time is 458, best_k is 9.186543042901125, best_b is -35.05680948444483, loss is 4.443791899025492\n",
      "when time is 460, best_k is 9.187616560687687, best_b is -35.0591810259468, loss is 4.443783125193686\n",
      "when time is 461, best_k is 9.185758457920889, best_b is -35.06076205361478, loss is 4.4437701687952\n",
      "when time is 463, best_k is 9.18683197570745, best_b is -35.06313359511675, loss is 4.443745059379333\n",
      "when time is 465, best_k is 9.187905493494013, best_b is -35.065505136618725, loss is 4.443735816558183\n",
      "when time is 467, best_k is 9.188979011280574, best_b is -35.0678766781207, loss is 4.443727042726379\n",
      "when time is 468, best_k is 9.187120908513776, best_b is -35.06945770578868, loss is 4.443715827687704\n",
      "when time is 470, best_k is 9.188194426300338, best_b is -35.07182924729065, loss is 4.443690718271833\n",
      "when time is 472, best_k is 9.1892679440869, best_b is -35.07420078879262, loss is 4.443679734090875\n",
      "when time is 474, best_k is 9.190341461873462, best_b is -35.076572330294596, loss is 4.443670960259067\n",
      "when time is 475, best_k is 9.188483359106664, best_b is -35.07815335796258, loss is 4.443661486580202\n",
      "when time is 477, best_k is 9.189556876893226, best_b is -35.08052489946455, loss is 4.443636377164333\n",
      "when time is 479, best_k is 9.190630394679788, best_b is -35.08289644096652, loss is 4.4436236516235645\n",
      "when time is 481, best_k is 9.19170391246635, best_b is -35.085267982468494, loss is 4.443614877791758\n",
      "when time is 482, best_k is 9.189845809699552, best_b is -35.086849010136476, loss is 4.4436071454726935\n",
      "when time is 483, best_k is 9.192777430252912, best_b is -35.087639523970466, loss is 4.443606103959954\n",
      "when time is 484, best_k is 9.190919327486114, best_b is -35.08922055163845, loss is 4.443582036056835\n",
      "when time is 486, best_k is 9.191992845272676, best_b is -35.09159209314042, loss is 4.443567569156259\n",
      "when time is 488, best_k is 9.193066363059238, best_b is -35.09396363464239, loss is 4.443558795324452\n",
      "when time is 489, best_k is 9.19120826029244, best_b is -35.095544662310374, loss is 4.443552804365197\n",
      "when time is 490, best_k is 9.1941398808458, best_b is -35.096335176144365, loss is 4.443550021492642\n",
      "when time is 491, best_k is 9.192281778079002, best_b is -35.097916203812346, loss is 4.4435276949493385\n",
      "when time is 493, best_k is 9.193355295865564, best_b is -35.10028774531432, loss is 4.443511486688942\n",
      "when time is 495, best_k is 9.194428813652125, best_b is -35.10265928681629, loss is 4.443502712857138\n",
      "when time is 496, best_k is 9.192570710885327, best_b is -35.10424031448427, loss is 4.443498463257699\n",
      "when time is 497, best_k is 9.195502331438687, best_b is -35.10503082831826, loss is 4.443493939025336\n",
      "when time is 498, best_k is 9.19364422867189, best_b is -35.106611855986245, loss is 4.443473353841833\n",
      "when time is 500, best_k is 9.194717746458451, best_b is -35.10898339748822, loss is 4.443455404221638\n",
      "when time is 502, best_k is 9.195791264245013, best_b is -35.11135493899019, loss is 4.44344663038983\n",
      "when time is 503, best_k is 9.193933161478215, best_b is -35.11293596665817, loss is 4.443444122150197\n",
      "when time is 504, best_k is 9.196864782031575, best_b is -35.11372648049216, loss is 4.44343785655803\n",
      "when time is 505, best_k is 9.195006679264777, best_b is -35.11530750816014, loss is 4.443419012734331\n",
      "when time is 507, best_k is 9.196080197051339, best_b is -35.117679049662115, loss is 4.443399321754327\n",
      "when time is 509, best_k is 9.197153714837901, best_b is -35.12005059116409, loss is 4.443390547922523\n",
      "when time is 510, best_k is 9.195295612071103, best_b is -35.12163161883207, loss is 4.443389781042699\n",
      "when time is 511, best_k is 9.198227232624463, best_b is -35.12242213266606, loss is 4.443381774090718\n",
      "when time is 512, best_k is 9.196369129857665, best_b is -35.12400316033404, loss is 4.443364671626837\n",
      "when time is 514, best_k is 9.197442647644227, best_b is -35.12637470183601, loss is 4.443343239287017\n",
      "when time is 516, best_k is 9.198516165430789, best_b is -35.128746243337986, loss is 4.443334465455218\n",
      "when time is 518, best_k is 9.19958968321735, best_b is -35.13111778483996, loss is 4.44332569162341\n",
      "when time is 519, best_k is 9.197731580450553, best_b is -35.13269881250794, loss is 4.443310330519331\n",
      "when time is 521, best_k is 9.198805098237115, best_b is -35.13507035400991, loss is 4.443287156819707\n",
      "when time is 523, best_k is 9.199878616023677, best_b is -35.137441895511884, loss is 4.4432783829878995\n",
      "when time is 525, best_k is 9.200952133810238, best_b is -35.139813437013856, loss is 4.443269609156097\n",
      "when time is 526, best_k is 9.19909403104344, best_b is -35.14139446468184, loss is 4.443255989411835\n",
      "when time is 528, best_k is 9.200167548830002, best_b is -35.14376600618381, loss is 4.443231074352401\n",
      "when time is 530, best_k is 9.201241066616564, best_b is -35.14613754768578, loss is 4.443222300520595\n",
      "when time is 532, best_k is 9.202314584403126, best_b is -35.148509089187755, loss is 4.443213526688792\n",
      "when time is 533, best_k is 9.200456481636328, best_b is -35.150090116855736, loss is 4.44320164830433\n",
      "when time is 535, best_k is 9.20152999942289, best_b is -35.15246165835771, loss is 4.443176538888473\n",
      "when time is 537, best_k is 9.202603517209452, best_b is -35.15483319985968, loss is 4.443166218053284\n",
      "when time is 539, best_k is 9.203677034996014, best_b is -35.15720474136165, loss is 4.44315744422148\n",
      "when time is 540, best_k is 9.201818932229216, best_b is -35.158785769029635, loss is 4.443147307196827\n",
      "when time is 542, best_k is 9.202892450015778, best_b is -35.16115731053161, loss is 4.443122197780969\n",
      "when time is 544, best_k is 9.20396596780234, best_b is -35.16352885203358, loss is 4.443110135585978\n",
      "when time is 546, best_k is 9.205039485588902, best_b is -35.16590039353555, loss is 4.443101361754175\n",
      "when time is 547, best_k is 9.203181382822104, best_b is -35.16748142120353, loss is 4.443092966089336\n",
      "when time is 548, best_k is 9.206113003375464, best_b is -35.168271935037524, loss is 4.443092587922368\n",
      "when time is 549, best_k is 9.204254900608666, best_b is -35.169852962705505, loss is 4.443067856673471\n",
      "when time is 551, best_k is 9.205328418395228, best_b is -35.17222450420748, loss is 4.443054053118667\n",
      "when time is 553, best_k is 9.20640193618179, best_b is -35.17459604570945, loss is 4.443045279286866\n",
      "when time is 554, best_k is 9.204543833414991, best_b is -35.17617707337743, loss is 4.443038624981828\n",
      "when time is 555, best_k is 9.207475453968351, best_b is -35.17696758721142, loss is 4.443036505455061\n",
      "when time is 556, best_k is 9.205617351201553, best_b is -35.1785486148794, loss is 4.443013515565964\n",
      "when time is 558, best_k is 9.206690868988115, best_b is -35.180920156381376, loss is 4.44299797065136\n",
      "when time is 560, best_k is 9.207764386774677, best_b is -35.18329169788335, loss is 4.4429891968195525\n",
      "when time is 561, best_k is 9.20590628400788, best_b is -35.18487272555133, loss is 4.442984283874327\n",
      "when time is 562, best_k is 9.20883790456124, best_b is -35.18566323938532, loss is 4.442980422987747\n",
      "when time is 563, best_k is 9.206979801794441, best_b is -35.1872442670533, loss is 4.44295917445847\n",
      "when time is 565, best_k is 9.208053319581003, best_b is -35.189615808555274, loss is 4.442941888184053\n",
      "when time is 567, best_k is 9.209126837367565, best_b is -35.191987350057246, loss is 4.442933114352246\n",
      "when time is 568, best_k is 9.207268734600767, best_b is -35.19356837772523, loss is 4.442929942766829\n",
      "when time is 569, best_k is 9.210200355154127, best_b is -35.19435889155922, loss is 4.442924340520443\n",
      "when time is 570, best_k is 9.208342252387329, best_b is -35.1959399192272, loss is 4.442904833350964\n",
      "when time is 572, best_k is 9.20941577017389, best_b is -35.19831146072917, loss is 4.442885805716737\n",
      "when time is 574, best_k is 9.210489287960453, best_b is -35.200683002231145, loss is 4.442877031884936\n",
      "when time is 575, best_k is 9.208631185193655, best_b is -35.202264029899126, loss is 4.44287560165933\n",
      "when time is 576, best_k is 9.211562805747015, best_b is -35.20305454373312, loss is 4.442868258053135\n",
      "when time is 577, best_k is 9.209704702980217, best_b is -35.2046355714011, loss is 4.442850492243464\n",
      "when time is 579, best_k is 9.210778220766779, best_b is -35.20700711290307, loss is 4.442829723249436\n",
      "when time is 581, best_k is 9.21185173855334, best_b is -35.20937865440504, loss is 4.442820949417629\n",
      "when time is 583, best_k is 9.212925256339902, best_b is -35.211750195907015, loss is 4.442812175585823\n",
      "when time is 584, best_k is 9.211067153573104, best_b is -35.213331223575, loss is 4.442796151135968\n",
      "when time is 586, best_k is 9.212140671359666, best_b is -35.21570276507697, loss is 4.4427736407821214\n",
      "when time is 588, best_k is 9.213214189146228, best_b is -35.21807430657894, loss is 4.442764866950318\n",
      "when time is 590, best_k is 9.21428770693279, best_b is -35.220445848080914, loss is 4.442756093118512\n",
      "when time is 591, best_k is 9.212429604165992, best_b is -35.222026875748895, loss is 4.442741810028465\n",
      "when time is 593, best_k is 9.213503121952554, best_b is -35.22439841725087, loss is 4.442717558314816\n",
      "when time is 595, best_k is 9.214576639739116, best_b is -35.22676995875284, loss is 4.442708784483008\n",
      "when time is 597, best_k is 9.215650157525678, best_b is -35.22914150025481, loss is 4.442700010651205\n",
      "when time is 598, best_k is 9.21379205475888, best_b is -35.230722527922794, loss is 4.442687468920963\n",
      "when time is 600, best_k is 9.214865572545442, best_b is -35.233094069424766, loss is 4.442662359505096\n",
      "when time is 602, best_k is 9.215939090332004, best_b is -35.23546561092674, loss is 4.442652702015698\n",
      "when time is 604, best_k is 9.217012608118566, best_b is -35.23783715242871, loss is 4.442643928183895\n",
      "when time is 605, best_k is 9.215154505351768, best_b is -35.23941818009669, loss is 4.442633127813465\n",
      "when time is 607, best_k is 9.21622802313833, best_b is -35.241789721598664, loss is 4.442608018397602\n",
      "when time is 609, best_k is 9.217301540924892, best_b is -35.24416126310064, loss is 4.442596619548391\n",
      "when time is 611, best_k is 9.218375058711453, best_b is -35.24653280460261, loss is 4.4425878457165835\n",
      "when time is 612, best_k is 9.216516955944655, best_b is -35.24811383227059, loss is 4.442578786705962\n",
      "when time is 614, best_k is 9.217590473731217, best_b is -35.25048537377256, loss is 4.442553677290098\n",
      "when time is 616, best_k is 9.21866399151778, best_b is -35.252856915274535, loss is 4.442540537081088\n",
      "when time is 618, best_k is 9.219737509304341, best_b is -35.25522845677651, loss is 4.442531763249277\n",
      "when time is 619, best_k is 9.217879406537543, best_b is -35.25680948444449, loss is 4.442524445598465\n",
      "when time is 620, best_k is 9.220811027090903, best_b is -35.25759999827848, loss is 4.44252298941747\n",
      "when time is 621, best_k is 9.218952924324105, best_b is -35.25918102594646, loss is 4.442499336182601\n",
      "when time is 623, best_k is 9.220026442110667, best_b is -35.26155256744843, loss is 4.442484454613774\n",
      "when time is 625, best_k is 9.221099959897229, best_b is -35.263924108950405, loss is 4.442475680781967\n",
      "when time is 626, best_k is 9.21924185713043, best_b is -35.26550513661839, loss is 4.44247010449096\n",
      "when time is 627, best_k is 9.222173477683791, best_b is -35.26629565045238, loss is 4.4424669069501626\n",
      "when time is 628, best_k is 9.220315374916993, best_b is -35.26787667812036, loss is 4.4424449950751\n",
      "when time is 630, best_k is 9.221388892703555, best_b is -35.27024821962233, loss is 4.44242837214646\n",
      "when time is 632, best_k is 9.222462410490117, best_b is -35.272619761124304, loss is 4.44241959831466\n",
      "when time is 633, best_k is 9.220604307723319, best_b is -35.274200788792285, loss is 4.442415763383463\n",
      "when time is 634, best_k is 9.223535928276679, best_b is -35.274991302626276, loss is 4.442410824482851\n",
      "when time is 635, best_k is 9.22167782550988, best_b is -35.27657233029426, loss is 4.4423906539676015\n",
      "when time is 637, best_k is 9.222751343296443, best_b is -35.27894387179623, loss is 4.442372289679151\n",
      "when time is 639, best_k is 9.223824861083004, best_b is -35.2813154132982, loss is 4.442363515847345\n",
      "when time is 640, best_k is 9.221966758316206, best_b is -35.282896440966184, loss is 4.442361422275962\n",
      "when time is 641, best_k is 9.224898378869566, best_b is -35.283686954800174, loss is 4.4423547420155405\n",
      "when time is 642, best_k is 9.223040276102768, best_b is -35.285267982468156, loss is 4.442336312860096\n",
      "when time is 644, best_k is 9.22411379388933, best_b is -35.28763952397013, loss is 4.442316207211841\n",
      "when time is 646, best_k is 9.225187311675892, best_b is -35.2900110654721, loss is 4.442307433380041\n",
      "when time is 647, best_k is 9.223329208909094, best_b is -35.29159209314008, loss is 4.442307081168462\n",
      "when time is 648, best_k is 9.226260829462454, best_b is -35.29238260697407, loss is 4.4422986595482366\n",
      "when time is 649, best_k is 9.224402726695656, best_b is -35.293963634642054, loss is 4.442281971752597\n",
      "when time is 651, best_k is 9.225476244482218, best_b is -35.29633517614403, loss is 4.442260124744539\n",
      "when time is 653, best_k is 9.22654976226878, best_b is -35.298706717646, loss is 4.442251350912731\n",
      "when time is 655, best_k is 9.227623280055342, best_b is -35.30107825914797, loss is 4.442242577080929\n",
      "when time is 656, best_k is 9.225765177288544, best_b is -35.30265928681595, loss is 4.4422276306451\n"
     ]
    },
    {
     "name": "stdout",
     "output_type": "stream",
     "text": [
      "when time is 658, best_k is 9.226838695075106, best_b is -35.305030828317925, loss is 4.442204042277223\n",
      "when time is 660, best_k is 9.227912212861668, best_b is -35.3074023698199, loss is 4.442195268445419\n",
      "when time is 662, best_k is 9.22898573064823, best_b is -35.30977391132187, loss is 4.442186494613613\n",
      "when time is 663, best_k is 9.227127627881432, best_b is -35.31135493898985, loss is 4.442173289537593\n",
      "when time is 665, best_k is 9.228201145667994, best_b is -35.31372648049182, loss is 4.442148180121733\n",
      "when time is 674, best_k is 9.23256280574705, best_b is -35.323212646499734, loss is 4.442115711274895\n",
      "when time is 682, best_k is 9.233992845272745, best_b is -35.33190829867365, loss is 4.442062021923404\n",
      "when time is 690, best_k is 9.23542288479844, best_b is -35.34060395084757, loss is 4.4420083325719055\n",
      "when time is 698, best_k is 9.236852924324136, best_b is -35.34929960302149, loss is 4.441954643220411\n",
      "when time is 730, best_k is 9.243387311675924, best_b is -35.38092015638119, loss is 4.4418522923248815\n",
      "when time is 742, best_k is 9.245135928276717, best_b is -35.39277786389108, loss is 4.4417743698639764\n",
      "when time is 756, best_k is 9.247136718790552, best_b is -35.40700711290294, loss is 4.441674751421252\n",
      "when time is 766, best_k is 9.247771501399248, best_b is -35.41728379274484, loss is 4.4415520435254905\n",
      "when time is 776, best_k is 9.249436323533635, best_b is -35.42756047258675, loss is 4.441493867809574\n",
      "when time is 782, best_k is 9.249735137762883, best_b is -35.433884583258695, loss is 4.441413898480696\n",
      "when time is 794, best_k is 9.252490078474347, best_b is -35.44495177693458, loss is 4.441410224826559\n",
      "when time is 804, best_k is 9.254040276102806, best_b is -35.454437942942484, loss is 4.441357366105126\n",
      "when time is 814, best_k is 9.255590473731266, best_b is -35.46392410895039, loss is 4.441304507383698\n",
      "when time is 938, best_k is 9.275592845272826, best_b is -35.569062448871165, loss is 4.441212742262266\n",
      "when time is 968, best_k is 9.279986521162167, best_b is -35.59435889155887, loss is 4.441161662735953\n",
      "when time is 982, best_k is 9.2818592484349, best_b is -35.60621659906873, loss is 4.441114384045453\n",
      "when time is 995, best_k is 9.266752924324235, best_b is -35.61965533424658, loss is 4.4410451376270075\n",
      "when time is 1009, best_k is 9.268669920371673, best_b is -35.63151304175645, loss is 4.440975706257981\n",
      "when time is 1023, best_k is 9.270586916419111, best_b is -35.64337074926632, loss is 4.440906274888952\n",
      "when time is 1037, best_k is 9.272503912466549, best_b is -35.655228456776186, loss is 4.440836843519925\n",
      "when time is 1179, best_k is 9.285292845272904, best_b is -35.76906244887086, loss is 4.440829327210166\n",
      "when time is 1185, best_k is 9.286130789936937, best_b is -35.77380553187481, loss is 4.440794865525089\n",
      "when time is 1191, best_k is 9.28696873460097, best_b is -35.77854861487875, loss is 4.44076040384002\n",
      "when time is 1207, best_k is 9.28867703499623, best_b is -35.7911968362226, loss is 4.440737239952124\n",
      "when time is 1213, best_k is 9.289514979660263, best_b is -35.79593991922655, loss is 4.440702778267048\n",
      "when time is 1219, best_k is 9.290352924324296, best_b is -35.80068300223049, loss is 4.440668316581968\n",
      "when time is 1225, best_k is 9.291190868988329, best_b is -35.80542608523444, loss is 4.440633854896898\n",
      "when time is 1231, best_k is 9.292028813652362, best_b is -35.81016916823838, loss is 4.440599393211822\n",
      "when time is 1237, best_k is 9.292866758316395, best_b is -35.814912251242326, loss is 4.440564931526745\n",
      "when time is 1243, best_k is 9.293704702980428, best_b is -35.81965533424627, loss is 4.4405304698416685\n",
      "when time is 1249, best_k is 9.29454264764446, best_b is -35.824398417250215, loss is 4.440496008156595\n",
      "when time is 1255, best_k is 9.295380592308494, best_b is -35.82914150025416, loss is 4.440461546471516\n",
      "when time is 1261, best_k is 9.296218536972527, best_b is -35.833884583258104, loss is 4.440427084786439\n",
      "when time is 1267, best_k is 9.29705648163656, best_b is -35.83862766626205, loss is 4.440392623101364\n",
      "when time is 1273, best_k is 9.297894426300592, best_b is -35.84337074926599, loss is 4.440358161416289\n",
      "when time is 1279, best_k is 9.298732370964625, best_b is -35.84811383226994, loss is 4.440323699731216\n",
      "when time is 1285, best_k is 9.299570315628658, best_b is -35.85285691527388, loss is 4.440289238046138\n",
      "when time is 1301, best_k is 9.301278616023918, best_b is -35.865505136617735, loss is 4.440266074158249\n",
      "when time is 1307, best_k is 9.302116560687951, best_b is -35.87024821962168, loss is 4.440231612473175\n",
      "when time is 1313, best_k is 9.302954505351984, best_b is -35.874991302625624, loss is 4.440197150788098\n",
      "when time is 1319, best_k is 9.303792450016017, best_b is -35.87973438562957, loss is 4.440162689103017\n",
      "when time is 1325, best_k is 9.30463039468005, best_b is -35.88447746863351, loss is 4.440128227417941\n",
      "when time is 1331, best_k is 9.305468339344083, best_b is -35.88922055163746, loss is 4.440093765732866\n",
      "when time is 1337, best_k is 9.306306284008116, best_b is -35.8939636346414, loss is 4.440059304047793\n",
      "when time is 1343, best_k is 9.307144228672149, best_b is -35.89870671764535, loss is 4.440024842362716\n",
      "when time is 1349, best_k is 9.307982173336182, best_b is -35.90344980064929, loss is 4.4399903806776395\n",
      "when time is 1355, best_k is 9.308820118000215, best_b is -35.908192883653236, loss is 4.439955918992563\n",
      "when time is 1361, best_k is 9.309658062664248, best_b is -35.91293596665718, loss is 4.43992811067418\n",
      "when time is 1362, best_k is 9.329191264245276, best_b is -35.9105644251552, loss is 4.4398091287298245\n",
      "when time is 1372, best_k is 9.330286916419189, best_b is -35.91767904966113, loss is 4.4397772658699095\n",
      "when time is 1382, best_k is 9.331382568593101, best_b is -35.92479367416706, loss is 4.439745403009999\n",
      "when time is 1400, best_k is 9.333622094284799, best_b is -35.937441895510936, loss is 4.439725195587605\n",
      "when time is 1410, best_k is 9.334717746458711, best_b is -35.94455652001687, loss is 4.439693332727694\n",
      "when time is 1428, best_k is 9.336957272150409, best_b is -35.95720474136074, loss is 4.439673125305305\n",
      "when time is 1436, best_k is 9.337936718790726, best_b is -35.962738338198676, loss is 4.439664241356164\n",
      "when time is 1443, best_k is 9.319382963850014, best_b is -35.97064347653859, loss is 4.439662597171396\n",
      "when time is 1444, best_k is 9.338916165431042, best_b is -35.96827193503661, loss is 4.43965535740704\n",
      "when time is 1451, best_k is 9.32036241049033, best_b is -35.976177073376526, loss is 4.4396325543008635\n",
      "when time is 1459, best_k is 9.321341857130648, best_b is -35.98171067021446, loss is 4.439602511430327\n",
      "when time is 1545, best_k is 9.32902881365241, best_b is -36.03625612475994, loss is 4.439543716396811\n",
      "when time is 1561, best_k is 9.330480197051623, best_b is -36.04574229076787, loss is 4.43952335824093\n",
      "when time is 1569, best_k is 9.331489683217631, best_b is -36.050485373771835, loss is 4.439472541029288\n",
      "when time is 1585, best_k is 9.333665967802613, best_b is -36.05997153977977, loss is 4.439348380175341\n",
      "when time is 1627, best_k is 9.337522094284832, best_b is -36.08526798246757, loss is 4.439296129326246\n",
      "when time is 1643, best_k is 9.338993240529893, best_b is -36.0947541484755, loss is 4.439272941216762\n",
      "when time is 1689, best_k is 9.342707074522, best_b is -36.120841104997325, loss is 4.439256688836628\n",
      "when time is 1699, best_k is 9.343614584403426, best_b is -36.12637470183529, loss is 4.439236096988604\n",
      "when time is 1709, best_k is 9.344522094284851, best_b is -36.13190829867325, loss is 4.439215505140582\n",
      "when time is 1719, best_k is 9.345429604166277, best_b is -36.137441895511216, loss is 4.43919491329256\n",
      "when time is 1729, best_k is 9.346337114047703, best_b is -36.14297549234918, loss is 4.439174321444538\n",
      "when time is 1739, best_k is 9.347244623929129, best_b is -36.148509089187144, loss is 4.439153729596518\n",
      "when time is 1749, best_k is 9.348152133810554, best_b is -36.15404268602511, loss is 4.4391331377485015\n",
      "when time is 1759, best_k is 9.34905964369198, best_b is -36.15957628286307, loss is 4.4391125459004765\n",
      "when time is 1769, best_k is 9.349967153573406, best_b is -36.165109879701035, loss is 4.439091954052455\n",
      "when time is 1785, best_k is 9.352013003375783, best_b is -36.173805531874976, loss is 4.438970848089228\n"
     ]
    },
    {
     "name": "stdout",
     "output_type": "stream",
     "text": [
      "when time is 1795, best_k is 9.352920513257208, best_b is -36.17933912871294, loss is 4.438950256241211\n",
      "when time is 1805, best_k is 9.353828023138634, best_b is -36.1848727255509, loss is 4.43892966439319\n",
      "when time is 1815, best_k is 9.35473553302006, best_b is -36.19040632238887, loss is 4.438909072545164\n",
      "when time is 1825, best_k is 9.355643042901486, best_b is -36.19593991922683, loss is 4.438888480697148\n",
      "when time is 1835, best_k is 9.356550552782911, best_b is -36.201473516064794, loss is 4.438867888849122\n",
      "when time is 1845, best_k is 9.357458062664337, best_b is -36.20700711290276, loss is 4.438847297001103\n",
      "when time is 1855, best_k is 9.358365572545763, best_b is -36.21254070974072, loss is 4.438826705153079\n",
      "when time is 1865, best_k is 9.359273082427189, best_b is -36.218074306578686, loss is 4.438806113305061\n",
      "when time is 1875, best_k is 9.360180592308614, best_b is -36.22360790341665, loss is 4.438785521457041\n",
      "when time is 1885, best_k is 9.36108810219004, best_b is -36.22914150025461, loss is 4.438765370881781\n",
      "when time is 1949, best_k is 9.366424861083328, best_b is -36.26392410895037, loss is 4.438701007287599\n",
      "when time is 1955, best_k is 9.366998774126806, best_b is -36.26708616428635, loss is 4.438684940143923\n",
      "when time is 1961, best_k is 9.367572687170284, best_b is -36.270248219622324, loss is 4.438668873000234\n",
      "when time is 1967, best_k is 9.368146600213763, best_b is -36.2734102749583, loss is 4.438655829225037\n",
      "when time is 1968, best_k is 9.385305098237477, best_b is -36.27103873345632, loss is 4.438434740311579\n",
      "when time is 1969, best_k is 9.374428023138663, best_b is -36.2734102749583, loss is 4.438392361453538\n",
      "when time is 1970, best_k is 9.37764818124143, best_b is -36.2734102749583, loss is 4.438340514362497\n",
      "when time is 1971, best_k is 9.380868339344197, best_b is -36.2734102749583, loss is 4.438288667271473\n",
      "when time is 1987, best_k is 9.38324462392918, best_b is -36.28131541329821, loss is 4.438284529058355\n",
      "when time is 1990, best_k is 9.383075849225623, best_b is -36.28289644096619, loss is 4.438266453579125\n",
      "when time is 1993, best_k is 9.382907074522066, best_b is -36.28447746863417, loss is 4.438257610635261\n",
      "when time is 2001, best_k is 9.383956086379776, best_b is -36.288430037804126, loss is 4.438251797567468\n",
      "when time is 2004, best_k is 9.383787311676219, best_b is -36.29001106547211, loss is 4.438243808711307\n",
      "when time is 2012, best_k is 9.384836323533928, best_b is -36.29396363464206, loss is 4.438237803232392\n",
      "when time is 2023, best_k is 9.385716560688081, best_b is -36.29949723148, loss is 4.43822400130844\n",
      "when time is 2034, best_k is 9.386596797842234, best_b is -36.30503082831793, loss is 4.43821019938449\n",
      "when time is 2045, best_k is 9.387477034996387, best_b is -36.31056442515587, loss is 4.438196397460546\n",
      "when time is 2056, best_k is 9.38835727215054, best_b is -36.3160980219938, loss is 4.4381825955366\n",
      "when time is 2064, best_k is 9.389406284008249, best_b is -36.320050591163756, loss is 4.438181936976772\n",
      "when time is 2067, best_k is 9.389237509304692, best_b is -36.32163161883174, loss is 4.4381687936126495\n",
      "when time is 2075, best_k is 9.390286521162402, best_b is -36.32558418800169, loss is 4.438167280965118\n",
      "when time is 2078, best_k is 9.390117746458845, best_b is -36.32716521566967, loss is 4.438154991688704\n",
      "when time is 2086, best_k is 9.391166758316555, best_b is -36.33111778483963, loss is 4.438152624953461\n",
      "when time is 2089, best_k is 9.390997983612998, best_b is -36.33269881250761, loss is 4.438141189764755\n",
      "when time is 2097, best_k is 9.392046995470707, best_b is -36.33665138167756, loss is 4.438137968941811\n",
      "when time is 2100, best_k is 9.39187822076715, best_b is -36.338232409345544, loss is 4.438127387840803\n",
      "when time is 2108, best_k is 9.39292723262486, best_b is -36.3421849785155, loss is 4.438123312930155\n",
      "when time is 2111, best_k is 9.392758457921303, best_b is -36.34376600618348, loss is 4.438113585916863\n",
      "when time is 2119, best_k is 9.393807469779013, best_b is -36.34771857535343, loss is 4.438108656918498\n",
      "when time is 2122, best_k is 9.393638695075456, best_b is -36.349299603021414, loss is 4.438099783992906\n",
      "when time is 2130, best_k is 9.394687706933166, best_b is -36.35325217219137, loss is 4.438094000906848\n",
      "when time is 2133, best_k is 9.394518932229609, best_b is -36.35483319985935, loss is 4.4380859820689595\n",
      "when time is 2141, best_k is 9.395567944087318, best_b is -36.3587857690293, loss is 4.438079976590041\n",
      "when time is 2152, best_k is 9.396448181241471, best_b is -36.36431936586724, loss is 4.438066174666097\n",
      "when time is 2163, best_k is 9.397328418395624, best_b is -36.369852962705174, loss is 4.438052372742149\n",
      "when time is 2174, best_k is 9.398208655549777, best_b is -36.37538655954311, loss is 4.438038570818199\n",
      "when time is 2185, best_k is 9.39908889270393, best_b is -36.380920156381045, loss is 4.438024768894249\n",
      "when time is 2193, best_k is 9.400137904561639, best_b is -36.384872725551, loss is 4.438024140316143\n",
      "when time is 2196, best_k is 9.399969129858082, best_b is -36.38645375321898, loss is 4.438010966970299\n",
      "when time is 2197, best_k is 9.398135533020138, best_b is -36.38724426705297, loss is 4.4380106518033315\n",
      "when time is 2204, best_k is 9.401018141715792, best_b is -36.390406322388934, loss is 4.438009484304494\n",
      "when time is 2207, best_k is 9.400849367012235, best_b is -36.391987350056915, loss is 4.437997165046357\n",
      "when time is 2208, best_k is 9.399015770174291, best_b is -36.392777863890906, loss is 4.437996479289307\n",
      "when time is 2215, best_k is 9.401898378869944, best_b is -36.39593991922687, loss is 4.437994828292835\n",
      "when time is 2218, best_k is 9.401729604166388, best_b is -36.39752094689485, loss is 4.437983363122407\n",
      "when time is 2219, best_k is 9.399896007328444, best_b is -36.39831146072884, loss is 4.437982306775284\n",
      "when time is 2226, best_k is 9.402778616024097, best_b is -36.401473516064804, loss is 4.437980172281182\n",
      "when time is 2229, best_k is 9.40260984132054, best_b is -36.403054543732786, loss is 4.4379695611984555\n",
      "when time is 2230, best_k is 9.400776244482596, best_b is -36.40384505756678, loss is 4.437968134261264\n",
      "when time is 2237, best_k is 9.40365885317825, best_b is -36.40700711290274, loss is 4.437965516269526\n",
      "when time is 2240, best_k is 9.403490078474693, best_b is -36.40858814057072, loss is 4.437955759274505\n",
      "when time is 2241, best_k is 9.40165648163675, best_b is -36.40937865440471, loss is 4.437953961747245\n",
      "when time is 2248, best_k is 9.404539090332403, best_b is -36.412540709740675, loss is 4.437950860257876\n",
      "when time is 2251, best_k is 9.404370315628846, best_b is -36.41412173740866, loss is 4.4379419573505645\n",
      "when time is 2252, best_k is 9.402536718790902, best_b is -36.41491225124265, loss is 4.4379397892332175\n",
      "when time is 2259, best_k is 9.405419327486555, best_b is -36.41807430657861, loss is 4.437936204246221\n",
      "when time is 2262, best_k is 9.405250552782999, best_b is -36.41965533424659, loss is 4.437928155426613\n",
      "when time is 2263, best_k is 9.403416955945055, best_b is -36.42044584808058, loss is 4.437925616719204\n",
      "when time is 2270, best_k is 9.406299564640708, best_b is -36.423607903416546, loss is 4.437922149947701\n",
      "when time is 2271, best_k is 9.404465967802764, best_b is -36.424398417250536, loss is 4.437908726799033\n",
      "when time is 2281, best_k is 9.407179801794861, best_b is -36.42914150025448, loss is 4.4379083480237504\n",
      "when time is 2282, best_k is 9.405346204956917, best_b is -36.42993201408847, loss is 4.437894554285006\n",
      "when time is 2292, best_k is 9.408060038949014, best_b is -36.434675097092416, loss is 4.437894546099799\n",
      "when time is 2293, best_k is 9.40622644211107, best_b is -36.43546561092641, loss is 4.437880381770989\n",
      "when time is 2304, best_k is 9.407106679265222, best_b is -36.44099920776434, loss is 4.437866209256969\n",
      "when time is 2315, best_k is 9.407986916419375, best_b is -36.44653280460228, loss is 4.437852036742949\n",
      "when time is 2326, best_k is 9.408867153573528, best_b is -36.45206640144021, loss is 4.437837864228933\n",
      "when time is 2337, best_k is 9.40974739072768, best_b is -36.45759999827815, loss is 4.437823691714907\n",
      "when time is 2348, best_k is 9.410627627881833, best_b is -36.46313359511608, loss is 4.437809519200884\n",
      "when time is 2359, best_k is 9.411507865035986, best_b is -36.46866719195402, loss is 4.437795346686862\n",
      "when time is 2370, best_k is 9.412388102190139, best_b is -36.474200788791954, loss is 4.437781174172838\n",
      "when time is 2381, best_k is 9.413268339344292, best_b is -36.47973438562989, loss is 4.437767001658818\n",
      "when time is 2392, best_k is 9.414148576498444, best_b is -36.485267982467825, loss is 4.437752829144791\n",
      "when time is 2400, best_k is 9.415197588356154, best_b is -36.48922055163778, loss is 4.437744388357923\n",
      "when time is 2403, best_k is 9.414750552783033, best_b is -36.49080157930576, loss is 4.4377431368507505\n",
      "when time is 2411, best_k is 9.415799564640743, best_b is -36.494754148475714, loss is 4.437728035342722\n",
      "when time is 2419, best_k is 9.416570315628888, best_b is -36.49870671764567, loss is 4.43771947877255\n",
      "when time is 2427, best_k is 9.417341066617034, best_b is -36.50265928681562, loss is 4.437710922202383\n",
      "when time is 2430, best_k is 9.416894031043913, best_b is -36.5042403144836, loss is 4.4377086251562945\n",
      "when time is 2438, best_k is 9.417618932229685, best_b is -36.50819288365356, loss is 4.43769695367416\n",
      "when time is 2446, best_k is 9.418343833415456, best_b is -36.51214545282351, loss is 4.4376852821920245\n"
     ]
    },
    {
     "name": "stdout",
     "output_type": "stream",
     "text": [
      "when time is 3625, best_k is 9.47329916938426, best_b is -36.91688853582836, loss is 4.437682401228141\n",
      "when time is 3653, best_k is 9.474766363060164, best_b is -36.92558418800226, loss is 4.437663489187643\n",
      "when time is 3681, best_k is 9.476233556736068, best_b is -36.93427984017616, loss is 4.437644577147144\n",
      "when time is 3699, best_k is 9.47750549349497, best_b is -36.939813437014095, loss is 4.437580636784071\n",
      "when time is 3727, best_k is 9.478972687170874, best_b is -36.94850908918799, loss is 4.437561724743569\n",
      "when time is 3755, best_k is 9.480439880846777, best_b is -36.95720474136189, loss is 4.437542812703075\n",
      "when time is 3783, best_k is 9.481907074522681, best_b is -36.96590039353579, loss is 4.43752390066258\n",
      "when time is 3811, best_k is 9.483374268198585, best_b is -36.97459604570969, loss is 4.437504988622086\n",
      "when time is 3839, best_k is 9.484841461874488, best_b is -36.98329169788359, loss is 4.437486076581589\n",
      "when time is 3867, best_k is 9.486308655550392, best_b is -36.991987350057485, loss is 4.437467164541091\n",
      "when time is 3895, best_k is 9.487775849226296, best_b is -37.00068300223138, loss is 4.437448252500591\n",
      "when time is 3923, best_k is 9.4892430429022, best_b is -37.00937865440528, loss is 4.437432521187088\n",
      "when time is 3939, best_k is 9.490133161479282, best_b is -37.014121737409226, loss is 4.437415779513261\n",
      "when time is 3955, best_k is 9.491023280056364, best_b is -37.01886482041317, loss is 4.437399037839434\n",
      "when time is 4003, best_k is 9.493243042902233, best_b is -37.032303555591014, loss is 4.437389116072175\n",
      "when time is 4037, best_k is 9.494954505352839, best_b is -37.0417897215989, loss is 4.437367596354864\n",
      "when time is 4071, best_k is 9.496547390728345, best_b is -37.05127588760679, loss is 4.437358359130408\n",
      "when time is 4105, best_k is 9.498140276103852, best_b is -37.06076205361468, loss is 4.437349121905955\n",
      "when time is 4125, best_k is 9.499224861084096, best_b is -37.066295650452616, loss is 4.437328200404287\n",
      "when time is 4241, best_k is 9.504067548831165, best_b is -37.096335176144265, loss is 4.4373190849642725\n",
      "when time is 4258, best_k is 9.524379406538678, best_b is -37.09712568997825, loss is 4.437312009538666\n",
      "when time is 4267, best_k is 9.505277825511012, best_b is -37.10265928681619, loss is 4.437298098248339\n",
      "when time is 4348, best_k is 9.528033161479408, best_b is -37.11926007733001, loss is 4.437281127109633\n",
      "when time is 4387, best_k is 9.510114189147398, best_b is -37.13190829867389, loss is 4.437277116689493\n",
      "when time is 4407, best_k is 9.511016165431986, best_b is -37.136651381677844, loss is 4.437261949514562\n",
      "when time is 4448, best_k is 9.531965177289697, best_b is -37.14297549234979, loss is 4.437249961370442\n",
      "when time is 4461, best_k is 9.513444623930015, best_b is -37.14929960302173, loss is 4.437219185928192\n",
      "when time is 4495, best_k is 9.514703121953733, best_b is -37.15720474136166, loss is 4.437218375754622\n",
      "when time is 4516, best_k is 9.534482173337134, best_b is -37.15878576902965, loss is 4.437217573350004\n",
      "when time is 4584, best_k is 9.537029999424089, best_b is -37.1738055318755, loss is 4.437204238614268\n",
      "when time is 4652, best_k is 9.539577825511044, best_b is -37.188825294721354, loss is 4.4371909038785295\n",
      "when time is 4702, best_k is 9.541382568594047, best_b is -37.199892488397246, loss is 4.437172999754108\n",
      "when time is 5481, best_k is 9.546424861084459, best_b is -37.35325217219146, loss is 4.4371472078625755\n",
      "when time is 5482, best_k is 9.566415770175368, best_b is -37.35009011685549, loss is 4.43705315868105\n",
      "when time is 5483, best_k is 9.548329208910546, best_b is -37.35325217219146, loss is 4.436966865803128\n",
      "when time is 5484, best_k is 9.563604702981692, best_b is -37.35088063068948, loss is 4.436806209543219\n",
      "when time is 5486, best_k is 9.560529604167463, best_b is -37.35167114452348, loss is 4.436679098813453\n",
      "when time is 5488, best_k is 9.557593635788017, best_b is -37.35246165835747, loss is 4.436678813457551\n",
      "when time is 5489, best_k is 9.558513398633867, best_b is -37.35246165835747, loss is 4.436674583639086\n",
      "when time is 5490, best_k is 9.559433161479717, best_b is -37.35246165835747, loss is 4.4366703538206265\n",
      "when time is 5496, best_k is 9.56017624448367, best_b is -37.35325217219146, loss is 4.436666936519934\n",
      "when time is 5512, best_k is 9.560565967803832, best_b is -37.35562371369343, loss is 4.436665144254784\n",
      "when time is 5528, best_k is 9.560955691123993, best_b is -37.357995255195405, loss is 4.4366633519896315\n",
      "when time is 5544, best_k is 9.561345414444155, best_b is -37.36036679669738, loss is 4.436661559724484\n",
      "when time is 5560, best_k is 9.561735137764316, best_b is -37.36273833819935, loss is 4.436659767459332\n",
      "when time is 5576, best_k is 9.562124861084477, best_b is -37.36510987970132, loss is 4.436657975194182\n",
      "when time is 5592, best_k is 9.562514584404639, best_b is -37.367481421203294, loss is 4.436656182929028\n",
      "when time is 5608, best_k is 9.5629043077248, best_b is -37.36985296270527, loss is 4.436654390663885\n",
      "when time is 5624, best_k is 9.563294031044961, best_b is -37.37222450420724, loss is 4.4366525983987355\n",
      "when time is 5640, best_k is 9.563683754365123, best_b is -37.37459604570921, loss is 4.436650806133581\n",
      "when time is 5656, best_k is 9.564073477685284, best_b is -37.37696758721118, loss is 4.436649013868428\n",
      "when time is 5672, best_k is 9.564463201005445, best_b is -37.379339128713156, loss is 4.4366472216032795\n",
      "when time is 5688, best_k is 9.564852924325606, best_b is -37.38171067021513, loss is 4.436645429338132\n",
      "when time is 5704, best_k is 9.565242647645768, best_b is -37.3840822117171, loss is 4.436643637072981\n",
      "when time is 5720, best_k is 9.565632370965929, best_b is -37.38645375321907, loss is 4.436641844807828\n",
      "when time is 5736, best_k is 9.56602209428609, best_b is -37.388825294721045, loss is 4.436640052542681\n",
      "when time is 5752, best_k is 9.566411817606252, best_b is -37.39119683622302, loss is 4.4366382602775305\n",
      "when time is 5768, best_k is 9.566801540926413, best_b is -37.39356837772499, loss is 4.436636468012381\n",
      "when time is 5784, best_k is 9.567191264246574, best_b is -37.39593991922696, loss is 4.436634675747227\n",
      "when time is 5800, best_k is 9.567580987566735, best_b is -37.398311460728934, loss is 4.436632883482081\n",
      "when time is 5816, best_k is 9.567970710886897, best_b is -37.400683002230906, loss is 4.436631091216928\n",
      "when time is 5832, best_k is 9.568360434207058, best_b is -37.40305454373288, loss is 4.4366292989517815\n",
      "when time is 5848, best_k is 9.56875015752722, best_b is -37.40542608523485, loss is 4.43662750668663\n",
      "when time is 5864, best_k is 9.56913988084738, best_b is -37.40779762673682, loss is 4.4366257144214805\n",
      "when time is 5880, best_k is 9.569529604167542, best_b is -37.410169168238795, loss is 4.436623922156327\n",
      "when time is 5896, best_k is 9.569919327487703, best_b is -37.41254070974077, loss is 4.436622129891181\n",
      "when time is 5912, best_k is 9.570309050807865, best_b is -37.41491225124274, loss is 4.43662033762603\n",
      "when time is 5928, best_k is 9.570698774128026, best_b is -37.41728379274471, loss is 4.436618545360879\n",
      "when time is 5944, best_k is 9.571088497448187, best_b is -37.419655334246684, loss is 4.436616753095731\n",
      "when time is 5960, best_k is 9.571478220768348, best_b is -37.42202687574866, loss is 4.436614960830576\n",
      "when time is 5976, best_k is 9.57186794408851, best_b is -37.42439841725063, loss is 4.436613168565424\n",
      "when time is 5992, best_k is 9.572257667408671, best_b is -37.4267699587526, loss is 4.436611376300277\n",
      "when time is 6008, best_k is 9.572647390728832, best_b is -37.42914150025457, loss is 4.436609584035123\n",
      "when time is 6024, best_k is 9.573037114048994, best_b is -37.431513041756546, loss is 4.436607791769974\n",
      "when time is 6040, best_k is 9.573426837369155, best_b is -37.43388458325852, loss is 4.436605999504824\n",
      "when time is 6056, best_k is 9.573816560689316, best_b is -37.43625612476049, loss is 4.4366042072396725\n",
      "when time is 6072, best_k is 9.574206284009477, best_b is -37.43862766626246, loss is 4.436602414974525\n",
      "when time is 6088, best_k is 9.574596007329639, best_b is -37.440999207764435, loss is 4.436600622709375\n",
      "when time is 6104, best_k is 9.5749857306498, best_b is -37.44337074926641, loss is 4.436598830444221\n",
      "when time is 6120, best_k is 9.575375453969961, best_b is -37.44574229076838, loss is 4.436597038179077\n",
      "when time is 6136, best_k is 9.575765177290123, best_b is -37.44811383227035, loss is 4.436595245913924\n",
      "when time is 6152, best_k is 9.576154900610284, best_b is -37.450485373772324, loss is 4.436593453648771\n",
      "when time is 6169, best_k is 9.576665967803963, best_b is -37.452856915274296, loss is 4.436591103345692\n"
     ]
    },
    {
     "name": "stdout",
     "output_type": "stream",
     "text": [
      "when time is 6180, best_k is 9.57689719310041, best_b is -37.45443794294228, loss is 4.436590039983508\n",
      "when time is 6197, best_k is 9.577408260294089, best_b is -37.45680948444425, loss is 4.436588930059846\n",
      "when time is 6202, best_k is 9.577231580452192, best_b is -37.45759999827824, loss is 4.436588502198192\n",
      "when time is 6213, best_k is 9.57779798361425, best_b is -37.45918102594622, loss is 4.43658706971989\n",
      "when time is 6218, best_k is 9.577621303772354, best_b is -37.45997153978021, loss is 4.436586709933048\n",
      "when time is 6229, best_k is 9.578187706934411, best_b is -37.461552567448194, loss is 4.436585209379938\n",
      "when time is 6234, best_k is 9.578011027092515, best_b is -37.462343081282185, loss is 4.436584917667894\n",
      "when time is 6245, best_k is 9.578577430254573, best_b is -37.46392410895017, loss is 4.436583349039982\n",
      "when time is 6250, best_k is 9.578400750412676, best_b is -37.46471462278416, loss is 4.436583125402745\n",
      "when time is 6261, best_k is 9.578967153574734, best_b is -37.46629565045214, loss is 4.4365814887000345\n",
      "when time is 6266, best_k is 9.578790473732838, best_b is -37.46708616428613, loss is 4.436581333137598\n",
      "when time is 6283, best_k is 9.579301540926517, best_b is -37.4694577057881, loss is 4.436578982834514\n",
      "when time is 6300, best_k is 9.579812608120196, best_b is -37.471829247290074, loss is 4.436576632531425\n",
      "when time is 6323, best_k is 9.580268339345498, best_b is -37.47499130262604, loss is 4.436574536708188\n",
      "when time is 6346, best_k is 9.580724070570799, best_b is -37.478153357962, loss is 4.436572440884945\n",
      "when time is 6364, best_k is 9.581356481637997, best_b is -37.48052489946397, loss is 4.436571309643182\n",
      "when time is 6369, best_k is 9.5811798017961, best_b is -37.48131541329796, loss is 4.436570345061704\n",
      "when time is 6386, best_k is 9.58169086898978, best_b is -37.483686954799936, loss is 4.43656799475862\n",
      "when time is 6409, best_k is 9.582146600215081, best_b is -37.4868490101359, loss is 4.436565898935373\n",
      "when time is 6427, best_k is 9.582779011282279, best_b is -37.48922055163787, loss is 4.436564363936333\n",
      "when time is 6432, best_k is 9.582602331440382, best_b is -37.49001106547186, loss is 4.4365638031121275\n",
      "when time is 6450, best_k is 9.58323474250758, best_b is -37.492382606973834, loss is 4.43656089477112\n",
      "when time is 6474, best_k is 9.5838118176064, best_b is -37.4955446623098, loss is 4.436559278569424\n",
      "when time is 6479, best_k is 9.583635137764503, best_b is -37.49633517614379, loss is 4.436559053427713\n",
      "when time is 6497, best_k is 9.5842675488317, best_b is -37.49870671764576, loss is 4.436556145086697\n",
      "when time is 6521, best_k is 9.58484462393052, best_b is -37.50186877298172, loss is 4.436554193202525\n",
      "when time is 6544, best_k is 9.585300355155821, best_b is -37.505030828317686, loss is 4.436551395402276\n",
      "when time is 6568, best_k is 9.58587743025464, best_b is -37.50819288365365, loss is 4.436549107835627\n",
      "when time is 6591, best_k is 9.586333161479942, best_b is -37.51135493898961, loss is 4.436546645717854\n",
      "when time is 6615, best_k is 9.586910236578762, best_b is -37.514516994325575, loss is 4.43654402246873\n",
      "when time is 6638, best_k is 9.587365967804063, best_b is -37.51767904966154, loss is 4.4365418960334395\n",
      "when time is 6663, best_k is 9.5880643867764, best_b is -37.5208411049975, loss is 4.4365412764486365\n",
      "when time is 6668, best_k is 9.587887706934504, best_b is -37.52163161883149, loss is 4.436539496652101\n",
      "when time is 6692, best_k is 9.588464782033324, best_b is -37.524793674167455, loss is 4.436536842790925\n",
      "when time is 6716, best_k is 9.589041857132143, best_b is -37.52795572950342, loss is 4.436534188929747\n",
      "when time is 6741, best_k is 9.58974027610448, best_b is -37.53111778483938, loss is 4.436532966054786\n",
      "when time is 6746, best_k is 9.589563596262584, best_b is -37.53190829867337, loss is 4.436531789548413\n",
      "when time is 6765, best_k is 9.5903173512033, best_b is -37.534279840175344, loss is 4.4365315930447355\n",
      "when time is 6770, best_k is 9.590140671361404, best_b is -37.535070354009335, loss is 4.436529135687235\n",
      "when time is 6795, best_k is 9.590839090333741, best_b is -37.5382324093453, loss is 4.4365260286709765\n",
      "when time is 6819, best_k is 9.59141616543256, best_b is -37.54139446468126, loss is 4.436524655660935\n",
      "when time is 6824, best_k is 9.591239485590664, best_b is -37.54218497851525, loss is 4.4365240824447225\n",
      "when time is 6843, best_k is 9.59199324053138, best_b is -37.544556520017224, loss is 4.4365236969363275\n",
      "when time is 6849, best_k is 9.591937904563002, best_b is -37.545347033851215, loss is 4.436520870545616\n",
      "when time is 6880, best_k is 9.592580987566961, best_b is -37.54929960302117, loss is 4.436517913126349\n",
      "when time is 6911, best_k is 9.59322407057092, best_b is -37.55325217219112, loss is 4.436514955707077\n",
      "when time is 6942, best_k is 9.59386715357488, best_b is -37.557204741361076, loss is 4.436511998287808\n",
      "when time is 6973, best_k is 9.59451023657884, best_b is -37.56115731053103, loss is 4.436509040868539\n",
      "when time is 7004, best_k is 9.5951533195828, best_b is -37.565109879700984, loss is 4.436506083449267\n",
      "when time is 7035, best_k is 9.595796402586759, best_b is -37.56906244887094, loss is 4.43650312603\n",
      "when time is 7066, best_k is 9.596439485590718, best_b is -37.57301501804089, loss is 4.43650016861073\n",
      "when time is 7097, best_k is 9.596619327487957, best_b is -37.576967587210845, loss is 4.436499341551256\n",
      "when time is 7110, best_k is 9.597428418397051, best_b is -37.57854861487883, loss is 4.436497279040467\n",
      "when time is 7128, best_k is 9.597846600215238, best_b is -37.5809201563808, loss is 4.4364964152759985\n",
      "when time is 7133, best_k is 9.597455691124331, best_b is -37.58171067021479, loss is 4.436495495270261\n",
      "when time is 7151, best_k is 9.597873872942518, best_b is -37.58408221171676, loss is 4.43649357212977\n",
      "when time is 7169, best_k is 9.598292054760705, best_b is -37.586453753218734, loss is 4.436491648989272\n",
      "when time is 7188, best_k is 9.5985825685947, best_b is -37.588825294720706, loss is 4.436490312970118\n",
      "when time is 7206, best_k is 9.599000750412888, best_b is -37.59119683622268, loss is 4.436488389829624\n",
      "when time is 7224, best_k is 9.599418932231075, best_b is -37.59356837772465, loss is 4.436486466689127\n",
      "when time is 7242, best_k is 9.599837114049262, best_b is -37.59593991922662, loss is 4.436484543548629\n",
      "when time is 7260, best_k is 9.600255295867449, best_b is -37.598311460728596, loss is 4.436482620408136\n",
      "when time is 7279, best_k is 9.600545809701444, best_b is -37.60068300223057, loss is 4.436481284388983\n",
      "when time is 7292, best_k is 9.600891659503818, best_b is -37.60226402989855, loss is 4.43647969388999\n",
      "when time is 7311, best_k is 9.601182173337813, best_b is -37.60463557140052, loss is 4.436478357870835\n",
      "when time is 7324, best_k is 9.601528023140187, best_b is -37.6062165990685, loss is 4.436476767371842\n",
      "when time is 7337, best_k is 9.60187387294256, best_b is -37.607797626736485, loss is 4.436475176872849\n",
      "when time is 7356, best_k is 9.602164386776556, best_b is -37.61016916823846, loss is 4.436473840853697\n",
      "when time is 7369, best_k is 9.60251023657893, best_b is -37.61175019590644, loss is 4.436472250354708\n",
      "when time is 7388, best_k is 9.602800750412925, best_b is -37.61412173740841, loss is 4.436470914335546\n",
      "when time is 7401, best_k is 9.603146600215299, best_b is -37.61570276507639, loss is 4.436469323836558\n",
      "when time is 7414, best_k is 9.603492450017672, best_b is -37.617283792744374, loss is 4.436467733337569\n",
      "when time is 7433, best_k is 9.603782963851668, best_b is -37.619655334246346, loss is 4.436466397318413\n",
      "when time is 7446, best_k is 9.604128813654041, best_b is -37.62123636191433, loss is 4.4364649044868925\n",
      "when time is 7457, best_k is 9.604266758318078, best_b is -37.62281738958231, loss is 4.436464172437535\n",
      "when time is 7470, best_k is 9.604612608120451, best_b is -37.62439841725029, loss is 4.4364625819385415\n",
      "when time is 7494, best_k is 9.605096402586861, best_b is -37.627560472586254, loss is 4.436460357057666\n",
      "when time is 7518, best_k is 9.605580197053271, best_b is -37.63072252792222, loss is 4.43645813217679\n",
      "when time is 7531, best_k is 9.605926046855645, best_b is -37.6323035555902, loss is 4.436457733978839\n",
      "when time is 7542, best_k is 9.606063991519681, best_b is -37.63388458325818, loss is 4.436455907295919\n",
      "when time is 7555, best_k is 9.606409841322055, best_b is -37.63546561092616, loss is 4.436455080858184\n",
      "when time is 7566, best_k is 9.606547785986091, best_b is -37.63704663859414, loss is 4.436453682415041\n",
      "when time is 7578, best_k is 9.606558062665936, best_b is -37.638627666262124, loss is 4.436453635154498\n",
      "when time is 7585, best_k is 9.606959248436688, best_b is -37.639418180096115, loss is 4.436451790175666\n",
      "when time is 7597, best_k is 9.606969525116533, best_b is -37.6409992077641, loss is 4.436451742915125\n",
      "when time is 7604, best_k is 9.607370710887285, best_b is -37.64178972159809, loss is 4.436449897936293\n",
      "when time is 7616, best_k is 9.60738098756713, best_b is -37.64337074926607, loss is 4.43644985067575\n",
      "when time is 7623, best_k is 9.607782173337881, best_b is -37.64416126310006, loss is 4.436448637376797\n",
      "when time is 7634, best_k is 9.607920118001918, best_b is -37.64574229076804, loss is 4.4364473713150385\n",
      "when time is 7646, best_k is 9.607930394681762, best_b is -37.64732331843602, loss is 4.436447324054499\n",
      "when time is 7652, best_k is 9.608459248436706, best_b is -37.64811383227001, loss is 4.436446792918204\n",
      "when time is 7657, best_k is 9.608068339345799, best_b is -37.648904346104004, loss is 4.436446689672615\n",
      "when time is 7663, best_k is 9.608597193100742, best_b is -37.649694859937995, loss is 4.436444257572443\n",
      "when time is 7675, best_k is 9.608607469780587, best_b is -37.651275887605976, loss is 4.436444210311899\n",
      "when time is 7686, best_k is 9.608745414444623, best_b is -37.65285691527396, loss is 4.436443575930011\n",
      "when time is 7692, best_k is 9.609274268199567, best_b is -37.65364742910795, loss is 4.436441506485049\n",
      "when time is 7703, best_k is 9.609412212863603, best_b is -37.65522845677593, loss is 4.4364405094479515\n"
     ]
    },
    {
     "name": "stdout",
     "output_type": "stream",
     "text": [
      "when time is 7715, best_k is 9.609422489543448, best_b is -37.65680948444391, loss is 4.436440462187416\n",
      "when time is 7721, best_k is 9.609951343298391, best_b is -37.6575999982779, loss is 4.436439662026456\n",
      "when time is 7732, best_k is 9.610089287962428, best_b is -37.659181025945884, loss is 4.436437395705363\n",
      "when time is 7744, best_k is 9.610099564642272, best_b is -37.660762053613865, loss is 4.436437348444815\n",
      "when time is 7755, best_k is 9.610237509306309, best_b is -37.66234308128185, loss is 4.436436714062934\n",
      "when time is 7761, best_k is 9.610766363061252, best_b is -37.66313359511584, loss is 4.4364343755933\n",
      "when time is 7772, best_k is 9.610904307725288, best_b is -37.66471462278382, loss is 4.436433647580875\n",
      "when time is 7784, best_k is 9.610914584405133, best_b is -37.6662956504518, loss is 4.436433600320329\n",
      "when time is 7790, best_k is 9.611443438160077, best_b is -37.66708616428579, loss is 4.436432531134711\n",
      "when time is 7801, best_k is 9.611581382824113, best_b is -37.66866719195377, loss is 4.436430533838274\n",
      "when time is 7813, best_k is 9.611591659503958, best_b is -37.670248219621755, loss is 4.43643048657774\n",
      "when time is 7824, best_k is 9.611729604167994, best_b is -37.671829247289736, loss is 4.4364298521958565\n",
      "when time is 7830, best_k is 9.612258457922938, best_b is -37.67261976112373, loss is 4.436427420095679\n",
      "when time is 7842, best_k is 9.612268734602782, best_b is -37.67420078879171, loss is 4.436427372835139\n",
      "when time is 7853, best_k is 9.612406679266819, best_b is -37.67578181645969, loss is 4.4364267384532505\n",
      "when time is 7859, best_k is 9.612935533021762, best_b is -37.67657233029368, loss is 4.436425400242962\n",
      "when time is 7871, best_k is 9.613073872942715, best_b is -37.67815335796166, loss is 4.436423670153487\n",
      "when time is 7882, best_k is 9.613211817606752, best_b is -37.679734385629644, loss is 4.436423035771599\n",
      "when time is 7893, best_k is 9.613349762270788, best_b is -37.681315413297625, loss is 4.436422401389718\n",
      "when time is 7905, best_k is 9.613488102191742, best_b is -37.68289644096561, loss is 4.4364217651901185\n",
      "when time is 7911, best_k is 9.614016955946685, best_b is -37.6836869547996, loss is 4.436419333089941\n",
      "when time is 7923, best_k is 9.61402723262653, best_b is -37.68526798246758, loss is 4.436419285829408\n",
      "when time is 7935, best_k is 9.614165572547483, best_b is -37.68684901013556, loss is 4.436418649629805\n",
      "when time is 7941, best_k is 9.614694426302426, best_b is -37.68763952396955, loss is 4.4364174495250905\n",
      "when time is 7953, best_k is 9.61483276622338, best_b is -37.68922055163753, loss is 4.436415581330036\n",
      "when time is 7964, best_k is 9.614970710887416, best_b is -37.690801579305514, loss is 4.436414946948154\n",
      "when time is 7976, best_k is 9.61510905080837, best_b is -37.692382606973496, loss is 4.436414310748555\n",
      "when time is 7988, best_k is 9.615247390729323, best_b is -37.69396363464148, loss is 4.4364136745489535\n",
      "when time is 7994, best_k is 9.615776244484266, best_b is -37.69475414847547, loss is 4.436411343265819\n",
      "when time is 8012, best_k is 9.615980197053442, best_b is -37.69712568997744, loss is 4.43641030450881\n",
      "when time is 8024, best_k is 9.616118536974396, best_b is -37.69870671764542, loss is 4.436409668309213\n",
      "when time is 8036, best_k is 9.61625687689535, best_b is -37.7002877453134, loss is 4.436409032109613\n",
      "when time is 8042, best_k is 9.616785730650292, best_b is -37.701078259147394, loss is 4.436406889624926\n",
      "when time is 8061, best_k is 9.616990078476386, best_b is -37.703449800649366, loss is 4.43640566025175\n",
      "when time is 8073, best_k is 9.61712841839734, best_b is -37.70503082831735, loss is 4.436405024052153\n",
      "when time is 8091, best_k is 9.617332370966515, best_b is -37.70740236981932, loss is 4.436404086112175\n",
      "when time is 8097, best_k is 9.617861224721459, best_b is -37.70819288365331, loss is 4.436401654012003\n",
      "when time is 8109, best_k is 9.617999564642412, best_b is -37.70977391132129, loss is 4.436401017812407\n",
      "when time is 8121, best_k is 9.618137904563365, best_b is -37.711354938989274, loss is 4.436400381612805\n",
      "when time is 8139, best_k is 9.618341857132542, best_b is -37.713726480491246, loss is 4.436399443672833\n",
      "when time is 8146, best_k is 9.618871106144402, best_b is -37.71451699432524, loss is 4.436397009754942\n",
      "when time is 8158, best_k is 9.619009446065355, best_b is -37.71609802199322, loss is 4.436396373555352\n",
      "when time is 8176, best_k is 9.619213398634532, best_b is -37.71846956349519, loss is 4.436395435615373\n",
      "when time is 8182, best_k is 9.619742252389475, best_b is -37.71926007732918, loss is 4.436395189364022\n",
      "when time is 8194, best_k is 9.619417351203708, best_b is -37.72084110499716, loss is 4.436394497675393\n",
      "when time is 8201, best_k is 9.619946600215568, best_b is -37.721631618831154, loss is 4.436392063757506\n",
      "when time is 8227, best_k is 9.620552133812414, best_b is -37.72479367416712, loss is 4.436389798366665\n",
      "when time is 8260, best_k is 9.621223675314399, best_b is -37.72874624333707, loss is 4.436387841300471\n",
      "when time is 8272, best_k is 9.620898774128632, best_b is -37.73032727100505, loss is 4.436387684886566\n",
      "when time is 8293, best_k is 9.621895216816384, best_b is -37.732698812507024, loss is 4.436385884234282\n",
      "when time is 8305, best_k is 9.621570315630617, best_b is -37.734279840175006, loss is 4.436384596591951\n",
      "when time is 8326, best_k is 9.622566758318369, best_b is -37.73665138167698, loss is 4.436383927168082\n",
      "when time is 8338, best_k is 9.622241857132602, best_b is -37.73823240934496, loss is 4.436381508297338\n",
      "when time is 8371, best_k is 9.622913398634587, best_b is -37.74218497851491, loss is 4.436378420002728\n",
      "when time is 8386, best_k is 9.623661619978465, best_b is -37.7437660061829, loss is 4.436378086341014\n",
      "when time is 8398, best_k is 9.623336718792698, best_b is -37.745347033850884, loss is 4.436376473231957\n",
      "when time is 8421, best_k is 9.624303912468594, best_b is -37.74771857535287, loss is 4.4363755340632105\n",
      "when time is 8433, best_k is 9.623979011282827, best_b is -37.74929960302085, loss is 4.436373519448111\n",
      "when time is 8476, best_k is 9.624840276104974, best_b is -37.75404268602482, loss is 4.436369558651194\n",
      "when time is 8511, best_k is 9.625482568595103, best_b is -37.757995255194785, loss is 4.4363666048673505\n",
      "when time is 8556, best_k is 9.62625450535401, best_b is -37.76273833819876, loss is 4.4363630548736\n",
      "when time is 8601, best_k is 9.627026442112918, best_b is -37.76748142120273, loss is 4.4363595048798485\n",
      "when time is 8646, best_k is 9.627798378871825, best_b is -37.772224504206704, loss is 4.436355954886096\n",
      "when time is 8698, best_k is 9.6278695251169, best_b is -37.777758101044675, loss is 4.4363556276977345\n",
      "when time is 8699, best_k is 9.62878928796275, best_b is -37.777758101044675, loss is 4.43635139787927\n",
      "when time is 8744, best_k is 9.629561224721657, best_b is -37.78250118404865, loss is 4.436347847885519\n",
      "when time is 8863, best_k is 9.629722884800747, best_b is -37.7943588915586, loss is 4.436347104440846\n",
      "when time is 8864, best_k is 9.630642647646598, best_b is -37.7943588915586, loss is 4.436342874622388\n",
      "when time is 8865, best_k is 9.631562410492448, best_b is -37.7943588915586, loss is 4.436338893987593\n",
      "when time is 9130, best_k is 9.63266241049257, best_b is -37.81807430657851, loss is 4.436337372802335\n",
      "when time is 9140, best_k is 9.632860038951073, best_b is -37.81886482041251, loss is 4.436334989153159\n",
      "when time is 9180, best_k is 9.633371501401685, best_b is -37.8220268757485, loss is 4.4363332321486775\n",
      "when time is 9190, best_k is 9.633569129860188, best_b is -37.8228173895825, loss is 4.4363308484995\n",
      "when time is 9230, best_k is 9.6340805923108, best_b is -37.82597944491849, loss is 4.436329091495014\n",
      "when time is 9270, best_k is 9.634592054761413, best_b is -37.82914150025448, loss is 4.436327334490533\n",
      "when time is 9310, best_k is 9.635103517212025, best_b is -37.83230355559047, loss is 4.436325577486045\n",
      "when time is 9320, best_k is 9.635301145670528, best_b is -37.83309406942447, loss is 4.436323193836873\n",
      "when time is 9360, best_k is 9.63581260812114, best_b is -37.83625612476046, loss is 4.436321436832391\n",
      "when time is 9400, best_k is 9.636324070571753, best_b is -37.83941818009645, loss is 4.436319679827905\n",
      "when time is 9440, best_k is 9.636835533022365, best_b is -37.84258023543244, loss is 4.4363179228234255\n",
      "when time is 9480, best_k is 9.637346995472978, best_b is -37.845742290768435, loss is 4.436316165818937\n",
      "when time is 9490, best_k is 9.63754462393148, best_b is -37.84653280460243, loss is 4.436313782169762\n",
      "when time is 9530, best_k is 9.638056086382093, best_b is -37.849694859938424, loss is 4.436312025165278\n"
     ]
    },
    {
     "name": "stdout",
     "output_type": "stream",
     "text": [
      "when time is 9612, best_k is 9.63889640258767, best_b is -37.85522845677641, loss is 4.436310476181538\n",
      "when time is 9638, best_k is 9.639229999425629, best_b is -37.856809484444405, loss is 4.436307427444643\n",
      "when time is 9678, best_k is 9.639580197054109, best_b is -37.8591810259464, loss is 4.436307040578741\n",
      "when time is 9704, best_k is 9.639913793892067, best_b is -37.860762053614394, loss is 4.436303991841836\n",
      "when time is 9744, best_k is 9.640263991520547, best_b is -37.86313359511639, loss is 4.436303604975928\n",
      "when time is 9770, best_k is 9.640597588358505, best_b is -37.86471462278438, loss is 4.436300556239026\n",
      "when time is 9810, best_k is 9.640947785986985, best_b is -37.86708616428638, loss is 4.436300169373122\n"
     ]
    }
   ],
   "source": [
    "try_times = 10000\n",
    "\n",
    "X, Y = data['data'], data['target']\n",
    "X_rm = X[:, 5]\n",
    "\n",
    "min_loss = float('inf') #无穷大\n",
    "\n",
    "k = random.random() * 200 - 100\n",
    "b = random.random() * 200 - 100\n",
    "\n",
    "rate = 0.2\n",
    "\n",
    "time_log = 0\n",
    "\n",
    "for i in range(try_times):\n",
    "    price_by_k_and_b = [price(rm, k, b) for rm in X_rm]\n",
    "    current_loss = loss_abs(Y, price_by_k_and_b)    \n",
    "    \n",
    "    if current_loss < min_loss:\n",
    "        \n",
    "        min_loss = current_loss\n",
    "        \n",
    "        print(\"when time is {}, best_k is {}, best_b is {}, loss is {}\".format(i, k, b, min_loss))\n",
    "            \n",
    "    k_gradient = partial_k(X_rm, Y, price_by_k_and_b)\n",
    "    b_gradient = partial_b(Y, price_by_k_and_b)\n",
    "    \n",
    "    k = k + (-1 * k_gradient) * rate  # k与偏导方向相反\n",
    "    b = b + (-1 * b_gradient )* rate  # b与偏导方向相反"
   ]
  },
  {
   "cell_type": "code",
   "execution_count": 57,
   "metadata": {},
   "outputs": [
    {
     "data": {
      "text/plain": [
       "<matplotlib.collections.PathCollection at 0x23a4dabf898>"
      ]
     },
     "execution_count": 57,
     "metadata": {},
     "output_type": "execute_result"
    },
    {
     "data": {
      "image/png": "[encoded data removed]",
      "text/plain": [
       "<Figure size 432x288 with 1 Axes>"
      ]
     },
     "metadata": {
      "needs_background": "light"
     },
     "output_type": "display_data"
    }
   ],
   "source": [
    "k = 9\n",
    "b = -36\n",
    "draw_rm_price()\n",
    "plt.scatter(X[:, 5], price(X[:, 5], k, b))"
   ]
  },
  {
   "cell_type": "markdown",
   "metadata": {},
   "source": [
    "### Part 3: Finish the Solution Parse Part of Edit-Distance"
   ]
  },
  {
   "cell_type": "code",
   "execution_count": 58,
   "metadata": {},
   "outputs": [],
   "source": [
    "from functools import lru_cache  #作用为缓存，去重，将函数运行结果保存，遇到传入相同参数时，使用缓存结果即可"
   ]
  },
  {
   "cell_type": "code",
   "execution_count": 59,
   "metadata": {},
   "outputs": [],
   "source": [
    "solution = dict()"
   ]
  },
  {
   "cell_type": "code",
   "execution_count": 60,
   "metadata": {},
   "outputs": [],
   "source": [
    "@lru_cache(maxsize=2**10)\n",
    "def edit_distance(string1, string2):\n",
    "    # init\n",
    "    # D(i, 0) = i\n",
    "    # D(0, j) = j\n",
    "    if len(string1) == 0: return len(string2)\n",
    "    if len(string2) == 0: return len(string1)\n",
    "    \n",
    "    # start\n",
    "    string1_tail = string1[-1]\n",
    "    string2_tail = string2[-1]\n",
    "    \n",
    "    candidate = [\n",
    "        (edit_distance(string1[:-1], string2) + 1, \"Del {}\".format(string1_tail)),  # 删除\n",
    "        (edit_distance(string1, string2[:-1]) + 1, \"Add {}\".format(string2_tail))   # 插入\n",
    "    ] \n",
    "    \n",
    "    if string1_tail == string2_tail:\n",
    "        both_forward = (edit_distance(string1[:-1], string2[:-1]) + 0, \"No Action\")  # 无动作\n",
    "    else:\n",
    "        both_forward = (edit_distance(string1[:-1], string2[:-1]) + 1, \"Sub {} -> {}\".format(string1_tail, string2_tail)) # 替代\n",
    "    \n",
    "    candidate.append(both_forward)\n",
    "    \n",
    "    min_distance, operation = min(candidate, key=lambda x: x[0])\n",
    "    \n",
    "    if operation.startswith(\"Del\"):\n",
    "        solution[(string1, string2)] = [(string1[:-1], string2), \"Del {}\".format(string1_tail)]\n",
    "    elif operation.startswith(\"Add\"):\n",
    "        solution[(string1, string2)] = [(string1, string2[:-1]), \"Add {}\".format(string2_tail)]\n",
    "    elif operation.startswith(\"Sub\"):\n",
    "        solution[(string1, string2)] = [(string1[:-1], string2[:-1]), \"Sub {} -> {}\".format(string1_tail, string2_tail)]\n",
    "    else:\n",
    "        solution[(string1, string2)] = [(string1[:-1], string2[:-1]), \"No Action\"]\n",
    "    \n",
    "    #solution[(string1, string2)] = operation\n",
    "    \n",
    "    return min_distance"
   ]
  },
  {
   "cell_type": "code",
   "execution_count": 61,
   "metadata": {
    "scrolled": true
   },
   "outputs": [
    {
     "data": {
      "text/plain": [
       "2"
      ]
     },
     "execution_count": 61,
     "metadata": {},
     "output_type": "execute_result"
    }
   ],
   "source": [
    "edit_distance('ABCDE', 'ABCCEF')"
   ]
  },
  {
   "cell_type": "code",
   "execution_count": 62,
   "metadata": {
    "scrolled": true
   },
   "outputs": [
    {
     "data": {
      "text/plain": [
       "{('A', 'A'): [('', ''), 'No Action'],\n",
       " ('A', 'AB'): [('A', 'A'), 'Add B'],\n",
       " ('A', 'ABC'): [('A', 'AB'), 'Add C'],\n",
       " ('A', 'ABCC'): [('A', 'ABC'), 'Add C'],\n",
       " ('A', 'ABCCE'): [('A', 'ABCC'), 'Add E'],\n",
       " ('A', 'ABCCEF'): [('A', 'ABCCE'), 'Add F'],\n",
       " ('AB', 'A'): [('A', 'A'), 'Del B'],\n",
       " ('AB', 'AB'): [('A', 'A'), 'No Action'],\n",
       " ('AB', 'ABC'): [('AB', 'AB'), 'Add C'],\n",
       " ('AB', 'ABCC'): [('AB', 'ABC'), 'Add C'],\n",
       " ('AB', 'ABCCE'): [('AB', 'ABCC'), 'Add E'],\n",
       " ('AB', 'ABCCEF'): [('AB', 'ABCCE'), 'Add F'],\n",
       " ('ABC', 'A'): [('AB', 'A'), 'Del C'],\n",
       " ('ABC', 'AB'): [('AB', 'AB'), 'Del C'],\n",
       " ('ABC', 'ABC'): [('AB', 'AB'), 'No Action'],\n",
       " ('ABC', 'ABCC'): [('ABC', 'ABC'), 'Add C'],\n",
       " ('ABC', 'ABCCE'): [('ABC', 'ABCC'), 'Add E'],\n",
       " ('ABC', 'ABCCEF'): [('ABC', 'ABCCE'), 'Add F'],\n",
       " ('ABCD', 'A'): [('ABC', 'A'), 'Del D'],\n",
       " ('ABCD', 'AB'): [('ABC', 'AB'), 'Del D'],\n",
       " ('ABCD', 'ABC'): [('ABC', 'ABC'), 'Del D'],\n",
       " ('ABCD', 'ABCC'): [('ABC', 'ABC'), 'Sub D -> C'],\n",
       " ('ABCD', 'ABCCE'): [('ABCD', 'ABCC'), 'Add E'],\n",
       " ('ABCD', 'ABCCEF'): [('ABCD', 'ABCCE'), 'Add F'],\n",
       " ('ABCDE', 'A'): [('ABCD', 'A'), 'Del E'],\n",
       " ('ABCDE', 'AB'): [('ABCD', 'AB'), 'Del E'],\n",
       " ('ABCDE', 'ABC'): [('ABCD', 'ABC'), 'Del E'],\n",
       " ('ABCDE', 'ABCC'): [('ABCD', 'ABCC'), 'Del E'],\n",
       " ('ABCDE', 'ABCCE'): [('ABCD', 'ABCC'), 'No Action'],\n",
       " ('ABCDE', 'ABCCEF'): [('ABCDE', 'ABCCE'), 'Add F']}"
      ]
     },
     "execution_count": 62,
     "metadata": {},
     "output_type": "execute_result"
    }
   ],
   "source": [
    "solution"
   ]
  },
  {
   "cell_type": "code",
   "execution_count": 63,
   "metadata": {},
   "outputs": [],
   "source": [
    "res = dict()\n",
    "def parse_solution(string1 ,string2, solution):\n",
    "    left_string1, right_string2 = solution[(string1, string2)][0]\n",
    "    action = solution[(string1, string2)][1]\n",
    "    \n",
    "    res[(string1, string2)] = [(left_string1, right_string2), action]\n",
    "    if not left_string1 and not right_string2: return \"It's over\"\n",
    "    \n",
    "    return parse_solution(left_string1, right_string2, solution)"
   ]
  },
  {
   "cell_type": "code",
   "execution_count": 64,
   "metadata": {
    "scrolled": true
   },
   "outputs": [
    {
     "data": {
      "text/plain": [
       "\"It's over\""
      ]
     },
     "execution_count": 64,
     "metadata": {},
     "output_type": "execute_result"
    }
   ],
   "source": [
    "parse_solution('ABCDE', 'ABCCEF', solution)"
   ]
  },
  {
   "cell_type": "code",
   "execution_count": 65,
   "metadata": {},
   "outputs": [
    {
     "data": {
      "text/plain": [
       "{('ABCDE', 'ABCCEF'): [('ABCDE', 'ABCCE'), 'Add F'],\n",
       " ('ABCDE', 'ABCCE'): [('ABCD', 'ABCC'), 'No Action'],\n",
       " ('ABCD', 'ABCC'): [('ABC', 'ABC'), 'Sub D -> C'],\n",
       " ('ABC', 'ABC'): [('AB', 'AB'), 'No Action'],\n",
       " ('AB', 'AB'): [('A', 'A'), 'No Action'],\n",
       " ('A', 'A'): [('', ''), 'No Action']}"
      ]
     },
     "execution_count": 65,
     "metadata": {},
     "output_type": "execute_result"
    }
   ],
   "source": [
    "res"
   ]
  },
  {
   "cell_type": "markdown",
   "metadata": {},
   "source": [
    "### Part 4 Choose 1 - 2 books to keep reading: \n",
    "\n",
    "+ SICP, Structure and Interpretation of Computer Programming. \n",
    "+ Introduction to Algorithms \n",
    "+ Artificial Intelligence A Modern Approach (3rd Edition) \n",
    "+ Code Complete 2 \n",
    "+ Programming Pearls \n",
    "+ Deep Learning\n",
    "+ 黑客与画家\n",
    "+ 数学之美\n",
    "+ Fluent Python\n",
    "+ Hands on Tensorflow\n",
    "+ Conference: NIPS_ ICML_ ICLR_ ACL_ AAAI\n",
    "\n",
    "> most books you may find in our github: https://github.com/Computing-Intelligence/References"
   ]
  },
  {
   "cell_type": "markdown",
   "metadata": {},
   "source": [
    "## Part 5-1: review machine learning"
   ]
  },
  {
   "cell_type": "markdown",
   "metadata": {},
   "source": [
    "1. Why do we use Derivative / Gredient to fit a target function?¶"
   ]
  },
  {
   "cell_type": "markdown",
   "metadata": {},
   "source": [
    "Ans:通过求导/梯度计算，有方向性的拟合，一步一步的靠近目标函数"
   ]
  },
  {
   "cell_type": "markdown",
   "metadata": {},
   "source": [
    "2. In the words 'Gredient Descent', what's the Gredient and what's the Descent?¶"
   ]
  },
  {
   "cell_type": "markdown",
   "metadata": {},
   "source": [
    "Ans:Gradient意思是下降的程度（函数沿着梯度方向下降最快），Descent表示方向"
   ]
  },
  {
   "cell_type": "markdown",
   "metadata": {},
   "source": [
    "\n",
    "3. What's the advantages of the 3rd gradient descent method compared to the previous methods?"
   ]
  },
  {
   "cell_type": "markdown",
   "metadata": {},
   "source": [
    "Ans:有方向性的变化，而且更快"
   ]
  },
  {
   "cell_type": "markdown",
   "metadata": {},
   "source": [
    "4. Using the simple words to describe: What's the machine leanring.¶"
   ]
  },
  {
   "cell_type": "markdown",
   "metadata": {},
   "source": [
    "Ans:通过大量数据的学习，在特定的任务中，机器能提高自身表现，达到预期的目的"
   ]
  },
  {
   "cell_type": "markdown",
   "metadata": {},
   "source": [
    "### Part 5: Answer following questions: "
   ]
  },
  {
   "cell_type": "markdown",
   "metadata": {},
   "source": [
    "1. Why do we need dynamic programming? What's the difference of dynamic programming and previous talked `search` problme? "
   ]
  },
  {
   "cell_type": "markdown",
   "metadata": {},
   "source": [
    "Ans:搜索问题的使用的是递归，重复的子问题还是会进行计算，这样会花费大量的时间，而动态规划将子问题的结果保留，避免了重复执行,节约很多时间"
   ]
  },
  {
   "cell_type": "markdown",
   "metadata": {},
   "source": [
    "2. Why do we still need dynamic programming? Why not we train a machine learning to fit a function which could get the `right` answer based on inputs?"
   ]
  },
  {
   "cell_type": "markdown",
   "metadata": {},
   "source": [
    "Ans:有些问题使用动态规划更简单，当然使用动态规划，特定的场景使用不同的方法"
   ]
  },
  {
   "cell_type": "markdown",
   "metadata": {},
   "source": [
    "3. Can you catch up at least 3 problems which could solved by Dynamic Programming? "
   ]
  },
  {
   "cell_type": "markdown",
   "metadata": {},
   "source": [
    "Ans:斐波那契数列，最短路径，旅行商问题"
   ]
  },
  {
   "cell_type": "markdown",
   "metadata": {},
   "source": [
    "4. Can you catch up at least 3 problems wich could sloved by Edit Distance? "
   ]
  },
  {
   "cell_type": "markdown",
   "metadata": {},
   "source": [
    "Ans:拼写纠错，DNA序列相似度，可拆分性的商品买卖"
   ]
  },
  {
   "cell_type": "markdown",
   "metadata": {},
   "source": [
    "5. Please summarize the three main features of Dynamic Programming, and make a concise explain for each feature. "
   ]
  },
  {
   "cell_type": "markdown",
   "metadata": {},
   "source": [
    "Ans：Overlapping Subproblems：分析子问题的重复性，Overlapping Computing：将子问题的结果存储，便于重复调用\n",
    "Parse Solution：对方法进行一步一步解析"
   ]
  },
  {
   "cell_type": "markdown",
   "metadata": {},
   "source": [
    "6. What's the disadvantages of Dynamic Programming? (You may need search by yourself in Internet)"
   ]
  },
  {
   "cell_type": "markdown",
   "metadata": {},
   "source": [
    "Ans:1.将问题划分为子问题进行存储消耗大量的内存 2.对于不同的问题，没有通用的格式进行调用，需要根据情况构建方法解决问题"
   ]
  },
  {
   "cell_type": "markdown",
   "metadata": {},
   "source": [
    "## Part 6 Preparation of Project-01"
   ]
  },
  {
   "cell_type": "markdown",
   "metadata": {},
   "source": [
    "1. Using python Flask or Bottle to finish your first simple web app:\n",
    "> https://bottlepy.org/\n",
    "\n",
    "2. Learn what's the SQL, and try some simple SQL operations:\n",
    "> https://www.w3schools.com/sql/sql_intro.asp\n",
    "\n",
    "3. Learn what's the HTML ( *ONLY* need to know the basic things)\n",
    "> https://getbootstrap.com/; https://www.w3schools.com/html/"
   ]
  },
  {
   "cell_type": "markdown",
   "metadata": {},
   "source": [
    "### (Optinal) Finish the k-person-salesman problem:"
   ]
  },
  {
   "cell_type": "code",
   "execution_count": 109,
   "metadata": {},
   "outputs": [],
   "source": [
    "import random\n",
    "import matplotlib.pylab as plt\n",
    "import math"
   ]
  },
  {
   "cell_type": "code",
   "execution_count": 110,
   "metadata": {},
   "outputs": [],
   "source": [
    "#随机点位坐标\n",
    "coordinate_x = [random.randint(-100, 100) for _ in range(20)]\n",
    "coordinate_y = [random.randint(-100, 100) for _ in range(20)]"
   ]
  },
  {
   "cell_type": "code",
   "execution_count": 111,
   "metadata": {
    "scrolled": true
   },
   "outputs": [
    {
     "data": {
      "text/plain": [
       "<matplotlib.collections.PathCollection at 0x23a77d57860>"
      ]
     },
     "execution_count": 111,
     "metadata": {},
     "output_type": "execute_result"
    },
    {
     "data": {
      "image/png": "[encoded data removed]",
      "text/plain": [
       "<Figure size 432x288 with 1 Axes>"
      ]
     },
     "metadata": {
      "needs_background": "light"
     },
     "output_type": "display_data"
    }
   ],
   "source": [
    "plt.scatter(coordinate_x, coordinate_y)"
   ]
  },
  {
   "cell_type": "code",
   "execution_count": 112,
   "metadata": {},
   "outputs": [],
   "source": [
    "def get_distance(coord1, coord2):\n",
    "    \"\"\"计算两点的坐标\"\"\"\n",
    "    return math.sqrt((coord1[0] - coord2[0]) ** 2 + (coord1[1] - coord2[1]) ** 2)"
   ]
  },
  {
   "cell_type": "markdown",
   "metadata": {},
   "source": [
    "### 1. 先试试一个点出发(贪婪)"
   ]
  },
  {
   "cell_type": "code",
   "execution_count": 113,
   "metadata": {},
   "outputs": [],
   "source": [
    "#先试试一个点\n",
    "chosen_p = (-50, 10)\n",
    "#点位坐标集合\n",
    "coordinate_list = [(x, y) for x,y in zip(coordinate_x, coordinate_y)]"
   ]
  },
  {
   "cell_type": "code",
   "execution_count": 114,
   "metadata": {},
   "outputs": [],
   "source": [
    "def get_shortest_path(start):\n",
    "    \"\"\"获得最短路径\"\"\"\n",
    "    path = [start]\n",
    "    for i in range(len(coordinate_list)):\n",
    "        shortest_distance = float(\"inf\")\n",
    "        shortest_distance_coord = None\n",
    "        for j in range(len(coordinate_list)):\n",
    "            current_distance = get_distance(coordinate_list[j], start)\n",
    "            if current_distance < shortest_distance:\n",
    "                shortest_distance = current_distance\n",
    "                shortest_distance_coord = coordinate_list[j]\n",
    "        path.append(shortest_distance_coord)\n",
    "        start = coordinate_list.pop(coordinate_list.index(shortest_distance_coord))\n",
    "    return path"
   ]
  },
  {
   "cell_type": "code",
   "execution_count": 115,
   "metadata": {
    "scrolled": true
   },
   "outputs": [],
   "source": [
    "shortest_path = get_shortest_path(chosen_p)"
   ]
  },
  {
   "cell_type": "code",
   "execution_count": 116,
   "metadata": {
    "scrolled": true
   },
   "outputs": [
    {
     "data": {
      "text/plain": [
       "[<matplotlib.lines.Line2D at 0x23a77de4ba8>]"
      ]
     },
     "execution_count": 116,
     "metadata": {},
     "output_type": "execute_result"
    },
    {
     "data": {
      "image/png": "[encoded data removed]",
      "text/plain": [
       "<Figure size 432x288 with 1 Axes>"
      ]
     },
     "metadata": {
      "needs_background": "light"
     },
     "output_type": "display_data"
    }
   ],
   "source": [
    "plt.scatter(coordinate_x, coordinate_y)\n",
    "plt.scatter([chosen_p[0]], [chosen_p[1]], color='r')\n",
    "X = [x[0] for x in shortest_path]\n",
    "Y = [y[1] for y in shortest_path]\n",
    "plt.plot(X, Y, color=\"black\")"
   ]
  },
  {
   "cell_type": "code",
   "execution_count": 117,
   "metadata": {},
   "outputs": [],
   "source": [
    "#计算距离\n",
    "distance = 0\n",
    "for index, coord in enumerate(shortest_path[:-1]):\n",
    "    distance += get_distance(shortest_path[index], shortest_path[index + 1])"
   ]
  },
  {
   "cell_type": "code",
   "execution_count": 118,
   "metadata": {},
   "outputs": [
    {
     "data": {
      "text/plain": [
       "731.390263440336"
      ]
     },
     "execution_count": 118,
     "metadata": {},
     "output_type": "execute_result"
    }
   ],
   "source": [
    "distance"
   ]
  },
  {
   "cell_type": "markdown",
   "metadata": {},
   "source": [
    "### 2.动态规划"
   ]
  },
  {
   "cell_type": "code",
   "execution_count": 119,
   "metadata": {},
   "outputs": [],
   "source": [
    "import numpy as np"
   ]
  },
  {
   "cell_type": "code",
   "execution_count": 120,
   "metadata": {},
   "outputs": [],
   "source": [
    "#先试试一个点\n",
    "chosen_p = (-50, 10)\n",
    "coordinate_x.insert(0, chosen_p[0])\n",
    "coordinate_y.insert(0, chosen_p[1])\n",
    "#点位坐标集合\n",
    "coordinate_list = [(x, y) for x,y in zip(coordinate_x, coordinate_y)]"
   ]
  },
  {
   "cell_type": "code",
   "execution_count": 121,
   "metadata": {},
   "outputs": [],
   "source": [
    "coordinate_array = np.array(coordinate_list)"
   ]
  },
  {
   "cell_type": "code",
   "execution_count": 122,
   "metadata": {},
   "outputs": [
    {
     "data": {
      "text/plain": [
       "array([[-50,  10],\n",
       "       [ 62,  37],\n",
       "       [ 66,  15],\n",
       "       [ 88,  60],\n",
       "       [-45, -82],\n",
       "       [ 57, -20],\n",
       "       [ 19,  -4],\n",
       "       [ 56,  21],\n",
       "       [ 37,  26],\n",
       "       [-57, -89],\n",
       "       [ 21,  -1],\n",
       "       [-75,  -9],\n",
       "       [ 55,  78],\n",
       "       [ 77,  -8],\n",
       "       [-83,  80],\n",
       "       [-54,  32],\n",
       "       [ 38,   4],\n",
       "       [ 32, -82],\n",
       "       [-19,  22],\n",
       "       [-87, -22],\n",
       "       [-92,   9]])"
      ]
     },
     "execution_count": 122,
     "metadata": {},
     "output_type": "execute_result"
    }
   ],
   "source": [
    "coordinate_array"
   ]
  },
  {
   "cell_type": "code",
   "execution_count": 123,
   "metadata": {},
   "outputs": [
    {
     "data": {
      "text/plain": [
       "(21, 2)"
      ]
     },
     "execution_count": 123,
     "metadata": {},
     "output_type": "execute_result"
    }
   ],
   "source": [
    "coordinate_array.shape"
   ]
  },
  {
   "cell_type": "code",
   "execution_count": 124,
   "metadata": {
    "scrolled": true
   },
   "outputs": [],
   "source": [
    "#将两点之间的距离整合起来\n",
    "distance_array = np.zeros((coordinate_array.shape[0], coordinate_array.shape[0]))"
   ]
  },
  {
   "cell_type": "code",
   "execution_count": 125,
   "metadata": {},
   "outputs": [],
   "source": [
    "for i in range(coordinate_array.shape[0]):\n",
    "    for j in range(coordinate_array.shape[0]):\n",
    "               distance_array[i, j] = get_distance(coordinate_array[i], coordinate_array[j])"
   ]
  },
  {
   "cell_type": "code",
   "execution_count": 126,
   "metadata": {},
   "outputs": [
    {
     "data": {
      "text/plain": [
       "array([[  0.        , 115.20850663, 116.10770862, 146.77874506,\n",
       "         92.13576938, 111.12605455,  70.40596566, 106.56922633,\n",
       "         88.45903006,  99.24716621,  71.84705979,  31.40063694,\n",
       "        125.09596316, 128.26924807,  77.38862966,  22.36067977,\n",
       "         88.20430828, 123.23960402,  33.24154028,  48.91829923,\n",
       "         42.01190308],\n",
       "       [115.20850663,   0.        ,  22.36067977,  34.71310992,\n",
       "        160.03124695,  57.218878  ,  59.41380311,  17.08800749,\n",
       "         27.31300057, 173.31185764,  55.90169944, 144.51643505,\n",
       "         41.59326869,  47.4341649 , 151.24152869, 116.10770862,\n",
       "         40.80441153, 122.72326593,  82.37718131, 160.25604513,\n",
       "        156.52475842],\n",
       "       [116.10770862,  22.36067977,   0.        ,  50.08991915,\n",
       "        147.41099009,  36.138622  ,  50.69516742,  11.66190379,\n",
       "         31.01612484, 161.07451692,  47.75981575, 143.02796929,\n",
       "         63.95310782,  25.49509757, 162.56075787, 121.1981848 ,\n",
       "         30.08321791, 102.78618584,  85.28774824, 157.41029191,\n",
       "        158.11388301],\n",
       "       [146.77874506,  34.71310992,  50.08991915,   0.        ,\n",
       "        194.5584745 ,  85.79627032,  94.11163584,  50.44799302,\n",
       "         61.29437168, 207.90863378,  90.60905032, 177.00282484,\n",
       "         37.58989226,  68.8839604 , 172.16561794, 144.73423921,\n",
       "         75.07329752, 152.64337522, 113.54734695, 193.25889372,\n",
       "        187.08554193],\n",
       "       [ 92.13576938, 160.03124695, 147.41099009, 194.5584745 ,\n",
       "          0.        , 119.36498649, 100.89598605, 144.25671561,\n",
       "        135.60235986,  13.89244399, 104.4844486 ,  78.92401409,\n",
       "        188.67962264, 142.68847185, 166.39711536, 114.35471132,\n",
       "        119.51987282,  77.        , 107.20074627,  73.23933369,\n",
       "        102.42070103],\n",
       "       [111.12605455,  57.218878  ,  36.138622  ,  85.79627032,\n",
       "        119.36498649,   0.        ,  41.23105626,  41.01219331,\n",
       "         50.15974482, 133.25539389,  40.70626487, 132.45754037,\n",
       "         98.02040604,  23.32380758, 172.04650534, 122.57650672,\n",
       "         30.61045573,  66.85057965,  86.83317338, 144.01388822,\n",
       "        151.79591562],\n",
       "       [ 70.40596566,  59.41380311,  50.69516742,  94.11163584,\n",
       "        100.89598605,  41.23105626,   0.        ,  44.65422712,\n",
       "         34.98571137, 114.02192772,   3.60555128,  94.1328848 ,\n",
       "         89.55445271,  58.13776741, 132.13629327,  81.39410298,\n",
       "         20.61552813,  79.07591289,  46.04345773, 107.51744045,\n",
       "        111.75866857],\n",
       "       [106.56922633,  17.08800749,  11.66190379,  50.44799302,\n",
       "        144.25671561,  41.01219331,  44.65422712,   0.        ,\n",
       "         19.6468827 , 157.69908053,  41.34005322, 134.39121995,\n",
       "         57.00877125,  35.80502758, 151.00331122, 110.54863183,\n",
       "         24.75883681, 105.75916036,  75.00666637, 149.32514859,\n",
       "        148.48568955],\n",
       "       [ 88.45903006,  27.31300057,  31.01612484,  61.29437168,\n",
       "        135.60235986,  50.15974482,  34.98571137,  19.6468827 ,\n",
       "          0.        , 148.52945836,  31.38470965, 117.3413823 ,\n",
       "         55.02726597,  52.49761899, 131.5902732 ,  91.19758769,\n",
       "         22.02271555, 108.11567879,  56.14267539, 132.96616111,\n",
       "        130.11533345],\n",
       "       [ 99.24716621, 173.31185764, 161.07451692, 207.90863378,\n",
       "         13.89244399, 133.25539389, 114.02192772, 157.69908053,\n",
       "        148.52945836,   0.        , 117.59251677,  82.        ,\n",
       "        201.07958623, 156.57905352, 170.98830369, 121.03718437,\n",
       "        132.94359706,  89.27485648, 117.32433678,  73.40980861,\n",
       "        104.06248123],\n",
       "       [ 71.84705979,  55.90169944,  47.75981575,  90.60905032,\n",
       "        104.4844486 ,  40.70626487,   3.60555128,  41.34005322,\n",
       "         31.38470965, 117.59251677,   0.        ,  96.33275663,\n",
       "         86.00581376,  56.43580424, 131.82184948,  81.9390017 ,\n",
       "         17.72004515,  81.74350127,  46.14108798, 110.02272493,\n",
       "        113.44161494],\n",
       "       [ 31.40063694, 144.51643505, 143.02796929, 177.00282484,\n",
       "         78.92401409, 132.45754037,  94.1328848 , 134.39121995,\n",
       "        117.3413823 ,  82.        ,  96.33275663,   0.        ,\n",
       "        156.42570121, 152.00328944,  89.35882721,  46.06517123,\n",
       "        113.74532957, 129.52991932,  64.00781202,  17.69180601,\n",
       "         24.75883681],\n",
       "       [125.09596316,  41.59326869,  63.95310782,  37.58989226,\n",
       "        188.67962264,  98.02040604,  89.55445271,  57.00877125,\n",
       "         55.02726597, 201.07958623,  86.00581376, 156.42570121,\n",
       "          0.        ,  88.76936408, 138.01449199, 118.30891767,\n",
       "         75.92759709, 161.64467204,  92.80086206, 173.67786272,\n",
       "        162.38842323],\n",
       "       [128.26924807,  47.4341649 ,  25.49509757,  68.8839604 ,\n",
       "        142.68847185,  23.32380758,  58.13776741,  35.80502758,\n",
       "         52.49761899, 156.57905352,  56.43580424, 152.00328944,\n",
       "         88.76936408,   0.        , 182.60339537, 136.97079981,\n",
       "         40.80441153,  86.60831369, 100.57832769, 164.59647627,\n",
       "        169.85287751],\n",
       "       [ 77.38862966, 151.24152869, 162.56075787, 172.16561794,\n",
       "        166.39711536, 172.04650534, 132.13629327, 151.00331122,\n",
       "        131.5902732 , 170.98830369, 131.82184948,  89.35882721,\n",
       "        138.01449199, 182.60339537,   0.        ,  56.08029957,\n",
       "        142.88806808, 198.66806487,  86.37129153, 102.07840124,\n",
       "         71.56814934],\n",
       "       [ 22.36067977, 116.10770862, 121.1981848 , 144.73423921,\n",
       "        114.35471132, 122.57650672,  81.39410298, 110.54863183,\n",
       "         91.19758769, 121.03718437,  81.9390017 ,  46.06517123,\n",
       "        118.30891767, 136.97079981,  56.08029957,   0.        ,\n",
       "         96.16652224, 142.80056022,  36.40054945,  63.28506933,\n",
       "         44.41846463],\n",
       "       [ 88.20430828,  40.80441153,  30.08321791,  75.07329752,\n",
       "        119.51987282,  30.61045573,  20.61552813,  24.75883681,\n",
       "         22.02271555, 132.94359706,  17.72004515, 113.74532957,\n",
       "         75.92759709,  40.80441153, 142.88806808,  96.16652224,\n",
       "          0.        ,  86.20904825,  59.77457654, 127.67536959,\n",
       "        130.09611831],\n",
       "       [123.23960402, 122.72326593, 102.78618584, 152.64337522,\n",
       "         77.        ,  66.85057965,  79.07591289, 105.75916036,\n",
       "        108.11567879,  89.27485648,  81.74350127, 129.52991932,\n",
       "        161.64467204,  86.60831369, 198.66806487, 142.80056022,\n",
       "         86.20904825,   0.        , 115.83177457, 133.27040182,\n",
       "        153.80832227],\n",
       "       [ 33.24154028,  82.37718131,  85.28774824, 113.54734695,\n",
       "        107.20074627,  86.83317338,  46.04345773,  75.00666637,\n",
       "         56.14267539, 117.32433678,  46.14108798,  64.00781202,\n",
       "         92.80086206, 100.57832769,  86.37129153,  36.40054945,\n",
       "         59.77457654, 115.83177457,   0.        ,  80.99382693,\n",
       "         74.14849965],\n",
       "       [ 48.91829923, 160.25604513, 157.41029191, 193.25889372,\n",
       "         73.23933369, 144.01388822, 107.51744045, 149.32514859,\n",
       "        132.96616111,  73.40980861, 110.02272493,  17.69180601,\n",
       "        173.67786272, 164.59647627, 102.07840124,  63.28506933,\n",
       "        127.67536959, 133.27040182,  80.99382693,   0.        ,\n",
       "         31.40063694],\n",
       "       [ 42.01190308, 156.52475842, 158.11388301, 187.08554193,\n",
       "        102.42070103, 151.79591562, 111.75866857, 148.48568955,\n",
       "        130.11533345, 104.06248123, 113.44161494,  24.75883681,\n",
       "        162.38842323, 169.85287751,  71.56814934,  44.41846463,\n",
       "        130.09611831, 153.80832227,  74.14849965,  31.40063694,\n",
       "          0.        ]])"
      ]
     },
     "execution_count": 126,
     "metadata": {},
     "output_type": "execute_result"
    }
   ],
   "source": [
    "distance_array"
   ]
  },
  {
   "cell_type": "code",
   "execution_count": 127,
   "metadata": {},
   "outputs": [],
   "source": [
    "\"\"\"\n",
    "N：坐标点总数量\n",
    "coordinate_array：坐标数组\n",
    "distance_array：两点距离数组\n",
    "dp：动态规划的距离数组\n",
    "path：每个点的下一步\n",
    "\"\"\"\n",
    "N = coordinate_array.shape[0]\n",
    "start = 0"
   ]
  },
  {
   "cell_type": "code",
   "execution_count": 128,
   "metadata": {},
   "outputs": [],
   "source": [
    "class TSP:\n",
    "    def __init__(self, distance_array, start):\n",
    "        self.distance_array = distance_array\n",
    "        self.start = start\n",
    "        self.path = np.zeros((N, 2 ** N))\n",
    "        self.dp = np.zeros((N, 2 ** N))\n",
    "        \n",
    "    def set_transfer(self, l):\n",
    "        \"\"\"将未经过的点位集合转化内数字\"\"\"\n",
    "        s = 0\n",
    "        for i in range(0, len(l)):\n",
    "            s += 2 ** l[i]\n",
    "        return s\n",
    "\n",
    "    def tsp(self):\n",
    "        \"\"\"TSP接口\"\"\"\n",
    "        no_passed_list = [i for i in range(1, N)]\n",
    "        return self._tsp(self.start, no_passed_list)\n",
    "\n",
    "    def _tsp(self, init, s):\n",
    "        \"\"\"内部实现逻辑\"\"\"\n",
    "        if self.dp[init][self.set_transfer(s)] != 0:\n",
    "            return self.dp[init][self.set_transfer(s)]\n",
    "        if len(s) == 0:\n",
    "            return self.distance_array[init][self.start]\n",
    "\n",
    "        min_distance = float(\"inf\")\n",
    "\n",
    "        for i in range(len(s)):\n",
    "            no_passed_list_copy = s.copy()\n",
    "            no_passed_list_copy.pop(i)\n",
    "            distance = self.distance_array[init][s[i]] + self._tsp(s[i], no_passed_list_copy)\n",
    "            if distance < min_distance:\n",
    "                min_distance = distance\n",
    "                next_init = s[i]\n",
    "\n",
    "        no_passed_transfer_num = self.set_transfer(s)\n",
    "\n",
    "        self.path[init][no_passed_transfer_num] = next_init\n",
    "        self.dp[init][no_passed_transfer_num] = min_distance\n",
    "\n",
    "        return min_distance\n",
    "        "
   ]
  },
  {
   "cell_type": "code",
   "execution_count": 129,
   "metadata": {
    "scrolled": true
   },
   "outputs": [
    {
     "data": {
      "text/plain": [
       "751.144998305677"
      ]
     },
     "execution_count": 129,
     "metadata": {},
     "output_type": "execute_result"
    }
   ],
   "source": [
    "# 老电脑性能不行。。。\n",
    "T = TSP(distance_array, 0)\n",
    "T.tsp()"
   ]
  },
  {
   "cell_type": "code",
   "execution_count": 134,
   "metadata": {},
   "outputs": [
    {
     "data": {
      "text/plain": [
       "array([[ 0.,  0.,  0., ...,  0., 18.,  0.],\n",
       "       [ 0.,  0.,  0., ...,  0.,  0.,  0.],\n",
       "       [ 0.,  0.,  1., ...,  0.,  0.,  0.],\n",
       "       ...,\n",
       "       [ 0.,  0.,  1., ...,  0.,  0.,  0.],\n",
       "       [ 0.,  0.,  1., ...,  0.,  0.,  0.],\n",
       "       [ 0.,  0.,  1., ...,  0.,  0.,  0.]])"
      ]
     },
     "execution_count": 134,
     "metadata": {},
     "output_type": "execute_result"
    }
   ],
   "source": [
    "T.path"
   ]
  },
  {
   "cell_type": "code",
   "execution_count": 139,
   "metadata": {},
   "outputs": [
    {
     "name": "stdout",
     "output_type": "stream",
     "text": [
      "0 -> 18\n",
      "18 -> 6\n",
      "6 -> 10\n",
      "10 -> 16\n",
      "16 -> 8\n",
      "8 -> 12\n",
      "12 -> 3\n",
      "3 -> 1\n",
      "1 -> 7\n",
      "7 -> 2\n",
      "2 -> 13\n",
      "13 -> 5\n",
      "5 -> 17\n",
      "17 -> 4\n",
      "4 -> 9\n",
      "9 -> 19\n",
      "19 -> 11\n",
      "11 -> 20\n",
      "20 -> 14\n",
      "14 -> 15\n",
      "15 -> 0\n"
     ]
    }
   ],
   "source": [
    "# num_list = [i for i in range(T.distance_array)]\n",
    "num_list = [i for i in range(len(coordinate_list))]\n",
    "start = 0\n",
    "res = []  # 收集点位路径\n",
    "while len(num_list) > 0:\n",
    "    num_list.pop(num_list.index(start))\n",
    "    m = T.set_transfer(num_list)\n",
    "    next = int(T.path[start][m])\n",
    "    print(start, '->', next)\n",
    "    res.append(start)\n",
    "    start = next"
   ]
  },
  {
   "cell_type": "code",
   "execution_count": 140,
   "metadata": {},
   "outputs": [
    {
     "data": {
      "text/plain": [
       "[0, 18, 6, 10, 16, 8, 12, 3, 1, 7, 2, 13, 5, 17, 4, 9, 19, 11, 20, 14, 15]"
      ]
     },
     "execution_count": 140,
     "metadata": {},
     "output_type": "execute_result"
    }
   ],
   "source": [
    "res"
   ]
  },
  {
   "cell_type": "code",
   "execution_count": 141,
   "metadata": {},
   "outputs": [
    {
     "data": {
      "text/plain": [
       "[<matplotlib.lines.Line2D at 0x23a0037ee48>]"
      ]
     },
     "execution_count": 141,
     "metadata": {},
     "output_type": "execute_result"
    },
    {
     "data": {
      "image/png": "[encoded data removed]",
      "text/plain": [
       "<Figure size 432x288 with 1 Axes>"
      ]
     },
     "metadata": {
      "needs_background": "light"
     },
     "output_type": "display_data"
    }
   ],
   "source": [
    "# 画图\n",
    "plt.scatter(coordinate_x, coordinate_y)\n",
    "plt.scatter([chosen_p[0]], [chosen_p[1]], color='r')\n",
    "X = [coordinate_list[x][0] for x in res]\n",
    "Y = [coordinate_list[x][1] for x in res]\n",
    "plt.plot(X, Y, color=\"black\")"
   ]
  },
  {
   "cell_type": "markdown",
   "metadata": {},
   "source": [
    "### 三个起始点（方法很low = ，=）"
   ]
  },
  {
   "cell_type": "markdown",
   "metadata": {},
   "source": [
    "给定一个初始点 𝑃, 已经 𝑘个车辆，如何从该点出发，经这 k 个车辆经过所以的点全部一次，而且所走过的路程最短?\n",
    "\n",
    "例如："
   ]
  },
  {
   "cell_type": "code",
   "execution_count": 98,
   "metadata": {},
   "outputs": [],
   "source": [
    "#随机点位坐标\n",
    "coordinate_x = [random.randint(-100, 100) for _ in range(20)]\n",
    "coordinate_y = [random.randint(-100, 100) for _ in range(20)]"
   ]
  },
  {
   "cell_type": "code",
   "execution_count": 99,
   "metadata": {},
   "outputs": [],
   "source": [
    "chosen_p1 = (-50, 10)\n",
    "chosen_p2 = (1, 30)\n",
    "chosen_p3 = (99, 15)"
   ]
  },
  {
   "cell_type": "code",
   "execution_count": 100,
   "metadata": {
    "scrolled": true
   },
   "outputs": [
    {
     "data": {
      "text/plain": [
       "<matplotlib.collections.PathCollection at 0x23a77cb0710>"
      ]
     },
     "execution_count": 100,
     "metadata": {},
     "output_type": "execute_result"
    },
    {
     "data": {
      "image/png": "[encoded data removed]",
      "text/plain": [
       "<Figure size 432x288 with 1 Axes>"
      ]
     },
     "metadata": {
      "needs_background": "light"
     },
     "output_type": "display_data"
    }
   ],
   "source": [
    "plt.scatter(coordinate_x, coordinate_y)\n",
    "plt.scatter([chosen_p1[0]], [chosen_p1[1]], color='r')\n",
    "plt.scatter([chosen_p2[0]], [chosen_p2[1]], color='r')\n",
    "plt.scatter([chosen_p3[0]], [chosen_p3[1]], color='r')"
   ]
  },
  {
   "cell_type": "markdown",
   "metadata": {},
   "source": [
    "#### 思路： 以三个点来划分三个区域，取两个点中心线平行y轴"
   ]
  },
  {
   "cell_type": "code",
   "execution_count": 101,
   "metadata": {},
   "outputs": [],
   "source": [
    "chosen_sort = sorted([chosen_p1, chosen_p2, chosen_p3], key = lambda x:x[0])"
   ]
  },
  {
   "cell_type": "code",
   "execution_count": 102,
   "metadata": {},
   "outputs": [],
   "source": [
    "# 三个点两条分割线\n",
    "mid_line12 = (chosen_sort[1][0] + chosen_sort[0][0]) // 2\n",
    "mid_line23 = (chosen_sort[2][0] + chosen_sort[1][0]) // 2\n",
    "# 点位坐标集合\n",
    "coordinate_list = [(x, y) for x, y in zip(coordinate_x, coordinate_y)]"
   ]
  },
  {
   "cell_type": "code",
   "execution_count": 103,
   "metadata": {},
   "outputs": [
    {
     "data": {
      "text/plain": [
       "[(-8, -48),\n",
       " (40, 70),\n",
       " (2, 55),\n",
       " (-18, -3),\n",
       " (11, -28),\n",
       " (-4, 89),\n",
       " (6, -52),\n",
       " (13, -79),\n",
       " (33, 75)]"
      ]
     },
     "execution_count": 103,
     "metadata": {},
     "output_type": "execute_result"
    }
   ],
   "source": [
    "#将点位根据分割线分为三部分\n",
    "coordinate_list_1 = []\n",
    "coordinate_list_2 = []\n",
    "coordinate_list_3 = []\n",
    "for coord in coordinate_list:\n",
    "    if coord[0] <= mid_line12:\n",
    "        coordinate_list_1.append(coord)\n",
    "    elif mid_line12 < coord[0] <= mid_line23:\n",
    "        coordinate_list_2.append(coord)\n",
    "    else:\n",
    "        coordinate_list_3.append(coord)\n",
    "coordinate_list_2"
   ]
  },
  {
   "cell_type": "code",
   "execution_count": 104,
   "metadata": {},
   "outputs": [],
   "source": [
    "def get_shortest_path(start,coordinate_list):\n",
    "    \"\"\"获得最短路径\"\"\"\n",
    "    path = [start]\n",
    "    for i in range(len(coordinate_list)):\n",
    "        shortest_distance = float(\"inf\")\n",
    "        shortest_distance_coord = None\n",
    "        for j in range(len(coordinate_list)):\n",
    "            current_distance = get_distance(coordinate_list[j], start)\n",
    "            if current_distance < shortest_distance:\n",
    "                shortest_distance = current_distance\n",
    "                shortest_distance_coord = coordinate_list[j]\n",
    "        path.append(shortest_distance_coord)\n",
    "        start = coordinate_list.pop(coordinate_list.index(shortest_distance_coord))\n",
    "    return path"
   ]
  },
  {
   "cell_type": "code",
   "execution_count": 105,
   "metadata": {},
   "outputs": [],
   "source": [
    "# 获取最短路径\n",
    "shortest_path_1 = get_shortest_path(chosen_p1, coordinate_list_1)\n",
    "shortest_path_2 = get_shortest_path(chosen_p2, coordinate_list_2)\n",
    "shortest_path_3 = get_shortest_path(chosen_p3, coordinate_list_3)"
   ]
  },
  {
   "cell_type": "code",
   "execution_count": 106,
   "metadata": {},
   "outputs": [],
   "source": [
    "# 计算路径\n",
    "distance = 0\n",
    "for path in [shortest_path_1,shortest_path_2,shortest_path_3]:\n",
    "    for index, coord in enumerate(path[:-1]):\n",
    "        distance += get_distance(path[index], path[index + 1])"
   ]
  },
  {
   "cell_type": "code",
   "execution_count": 107,
   "metadata": {},
   "outputs": [
    {
     "data": {
      "text/plain": [
       "776.8737788117976"
      ]
     },
     "execution_count": 107,
     "metadata": {},
     "output_type": "execute_result"
    }
   ],
   "source": [
    "distance"
   ]
  },
  {
   "cell_type": "code",
   "execution_count": 108,
   "metadata": {},
   "outputs": [
    {
     "data": {
      "text/plain": [
       "[<matplotlib.lines.Line2D at 0x23a77d19dd8>]"
      ]
     },
     "execution_count": 108,
     "metadata": {},
     "output_type": "execute_result"
    },
    {
     "data": {
      "image/png": "[encoded data removed]",
      "text/plain": [
       "<Figure size 432x288 with 1 Axes>"
      ]
     },
     "metadata": {
      "needs_background": "light"
     },
     "output_type": "display_data"
    }
   ],
   "source": [
    "# 画图\n",
    "plt.scatter(coordinate_x, coordinate_y)\n",
    "plt.scatter([chosen_p1[0]], [chosen_p1[1]], color='r')\n",
    "plt.scatter([chosen_p2[0]], [chosen_p2[1]], color='r')\n",
    "plt.scatter([chosen_p3[0]], [chosen_p3[1]], color='r')\n",
    "X1 = [x[0] for x in shortest_path_1]\n",
    "Y1 = [y[1] for y in shortest_path_1]\n",
    "X2 = [x[0] for x in shortest_path_2]\n",
    "Y2 = [y[1] for y in shortest_path_2]\n",
    "X3 = [x[0] for x in shortest_path_3]\n",
    "Y3 = [y[1] for y in shortest_path_3]\n",
    "plt.plot(X1, Y1, color=\"black\")\n",
    "plt.plot(X2, Y2, color=\"black\")\n",
    "plt.plot(X3, Y3, color=\"black\")"
   ]
  },
  {
   "cell_type": "markdown",
   "metadata": {},
   "source": [
    "shuro"
   ]
  },
  {
   "cell_type": "code",
   "execution_count": null,
   "metadata": {},
   "outputs": [],
   "source": []
  }
 ],
 "metadata": {
  "kernelspec": {
   "display_name": "Python 3",
   "language": "python",
   "name": "python3"
  },
  "language_info": {
   "codemirror_mode": {
    "name": "ipython",
    "version": 3
   },
   "file_extension": ".py",
   "mimetype": "text/x-python",
   "name": "python",
   "nbconvert_exporter": "python",
   "pygments_lexer": "ipython3",
   "version": "3.7.3"
  }
 },
 "nbformat": 4,
 "nbformat_minor": 2
}
