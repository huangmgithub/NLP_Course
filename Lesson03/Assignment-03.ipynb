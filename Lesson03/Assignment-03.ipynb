{
 "cells": [
  {
   "cell_type": "markdown",
   "metadata": {},
   "source": [
    "## Lecture-03 Gradient Descent and Dymanic Programming"
   ]
  },
  {
   "cell_type": "markdown",
   "metadata": {},
   "source": [
    "In this week, we need complete following tasks:\n",
    "+ Re-review the course online programming; \n",
    "+ Choose 1 - 2 books which you interested and keep reading; \n",
    "+ Answer the review questions\n",
    "+ Prepare the basic requirement of our 1st project. "
   ]
  },
  {
   "cell_type": "markdown",
   "metadata": {},
   "source": [
    "### Part I Review the online programming. "
   ]
  },
  {
   "cell_type": "markdown",
   "metadata": {},
   "source": [
    "#### ① 导数"
   ]
  },
  {
   "cell_type": "code",
   "execution_count": 162,
   "metadata": {
    "collapsed": true
   },
   "outputs": [],
   "source": [
    "from sklearn.datasets import load_boston"
   ]
  },
  {
   "cell_type": "code",
   "execution_count": 163,
   "metadata": {
    "collapsed": true
   },
   "outputs": [],
   "source": [
    "data = load_boston()"
   ]
  },
  {
   "cell_type": "code",
   "execution_count": 164,
   "metadata": {
    "collapsed": true
   },
   "outputs": [],
   "source": [
    "X, Y = data['data'], data['target']"
   ]
  },
  {
   "cell_type": "code",
   "execution_count": 165,
   "metadata": {
    "collapsed": true
   },
   "outputs": [],
   "source": [
    "# X[:, 5]"
   ]
  },
  {
   "cell_type": "code",
   "execution_count": 166,
   "metadata": {
    "collapsed": true
   },
   "outputs": [],
   "source": [
    "def price(rm , k ,b):\n",
    "    \"\"\"Price Function\"\"\"\n",
    "    return k * rm + b"
   ]
  },
  {
   "cell_type": "code",
   "execution_count": 167,
   "metadata": {
    "collapsed": true
   },
   "outputs": [],
   "source": [
    "def loss(y, y_hat):\n",
    "    \"\"\"Loss Function\"\"\"\n",
    "    return sum((y_i - y_hat_i) ** 2 for y_i, y_hat_i in zip(list(y), list(y_hat))) / len(y)"
   ]
  },
  {
   "cell_type": "markdown",
   "metadata": {},
   "source": [
    "#### 公式"
   ]
  },
  {
   "cell_type": "markdown",
   "metadata": {},
   "source": [
    "#### loss\n",
    "$$ loss = \\frac{1}{n} \\sum{(y_i - \\hat{y_i})}^2$$"
   ]
  },
  {
   "cell_type": "markdown",
   "metadata": {},
   "source": [
    "$$ loss = \\frac{1}{n} \\sum{(y_i - (kx_i + b_i))}^2 $$"
   ]
  },
  {
   "cell_type": "markdown",
   "metadata": {},
   "source": [
    "#### loss 对k求偏导\n",
    "$$ \\frac{\\partial{loss}}{\\partial{k}} = -\\frac{2}{n}\\sum(y_i - (kx_i + b_i))x_i$$"
   ]
  },
  {
   "cell_type": "markdown",
   "metadata": {},
   "source": [
    "$$ \\frac{\\partial{loss}}{\\partial{k}} = -\\frac{2}{n}\\sum(y_i - \\hat{y_i})x_i$$"
   ]
  },
  {
   "cell_type": "markdown",
   "metadata": {},
   "source": [
    "#### loss 对b求偏导\n",
    "$$ \\frac{\\partial{loss}}{\\partial{b}} = -\\frac{2}{n}\\sum(y_i - \\hat{y_i})$$"
   ]
  },
  {
   "cell_type": "markdown",
   "metadata": {},
   "source": [
    "#### 导数"
   ]
  },
  {
   "cell_type": "code",
   "execution_count": 168,
   "metadata": {
    "collapsed": true
   },
   "outputs": [],
   "source": [
    "def partial_k(x, y ,y_hat):\n",
    "    \"\"\"k 偏导\"\"\"\n",
    "    gradient = 0\n",
    "    n = len(y)\n",
    "    \n",
    "    for x_i, y_i, y_hat_i in zip(list(x), list(y), list(y_hat)):\n",
    "        gradient += (y_i - y_hat_i) * x_i\n",
    "    \n",
    "    return -2 / n * gradient"
   ]
  },
  {
   "cell_type": "code",
   "execution_count": 169,
   "metadata": {
    "collapsed": true
   },
   "outputs": [],
   "source": [
    "def partial_b(y, y_hat):\n",
    "    \"\"\"b 偏导\"\"\"\n",
    "    gradient = 0\n",
    "    n = len(y)\n",
    "    \n",
    "    for y_i, y_hat_i in zip(list(y), list(y_hat)):\n",
    "        gradient += (y_i - y_hat_i)\n",
    "    \n",
    "    return -2 / n * gradient"
   ]
  },
  {
   "cell_type": "code",
   "execution_count": 170,
   "metadata": {
    "collapsed": true
   },
   "outputs": [],
   "source": [
    "import random"
   ]
  },
  {
   "cell_type": "code",
   "execution_count": 171,
   "metadata": {
    "scrolled": true
   },
   "outputs": [
    {
     "name": "stdout",
     "output_type": "stream",
     "text": [
      "when time is 0, best_k is -53.366324814817226, best_b is -84.00011912639502, loss is 197260.21065343276\n",
      "when time is 50, best_k is -32.3298059002492, best_b is -32.277724826298005, loss is 67448.99817114287\n",
      "when time is 100, best_k is -19.13787680661473, best_b is -19.10519099292722, loss is 26652.19919809111\n",
      "when time is 150, best_k is -10.849913158569684, best_b is -10.82941261444122, loss is 10552.12785324622\n",
      "when time is 200, best_k is -5.642915687330882, best_b is -5.630070662757609, loss is 4199.056713005487\n",
      "when time is 250, best_k is -2.371566557815507, best_b is -2.363531191278596, loss is 1692.5625216097603\n",
      "when time is 300, best_k is -0.31630818938097066, best_b is -0.31129453943167623, loss is 703.933199722821\n",
      "when time is 350, best_k is 0.974928787714762, best_b is 0.978044013479458, loss is 314.15725167201094\n",
      "when time is 400, best_k is 1.7861615536902051, best_b is 1.788084075149197, loss is 160.58914360910398\n",
      "when time is 450, best_k is 2.2958267911839245, best_b is 2.2969999840300668, loss is 100.15048953131745\n",
      "when time is 500, best_k is 2.616029161211705, best_b is 2.6167315807342755, loss is 76.40548696002463\n",
      "when time is 550, best_k is 2.8171995574419784, best_b is 2.8176062088350706, loss is 67.10268164630742\n",
      "when time is 600, best_k is 2.9435869052805783, best_b is 2.9438077373376226, loss is 63.47449336715444\n",
      "when time is 650, best_k is 3.022991042236151, best_b is 3.0230951314050754, loss is 62.06988183808912\n",
      "when time is 700, best_k is 3.072877499017496, best_b is 3.0729082432793913, loss is 61.53272708586049\n",
      "when time is 750, best_k is 3.1042191729606237, best_b is 3.1042038375385763, loss is 61.33155045925698\n",
      "when time is 800, best_k is 3.1239098984387383, best_b is 3.1238656129865086, loss is 61.25895682899973\n",
      "when time is 850, best_k is 3.1362807970243756, best_b is 3.136218323421189, loss is 61.23458365103383\n",
      "when time is 900, best_k is 3.1440529399038346, best_b is 3.1439790394097904, loss is 61.22765244489999\n"
     ]
    }
   ],
   "source": [
    "try_times = 2000\n",
    "\n",
    "X, Y = data['data'], data['target']\n",
    "X_rm = X[:, 5]\n",
    "\n",
    "min_loss = float('inf') #无穷大\n",
    "\n",
    "k = random.random() * 200 - 100\n",
    "b = random.random() * 200 - 100\n",
    "\n",
    "rate = 1e-4\n",
    "\n",
    "time_log = 0\n",
    "\n",
    "for i in range(try_times):\n",
    "    price_by_k_and_b = [price(rm, k, b) for rm in X_rm]\n",
    "    current_loss = loss(Y, price_by_k_and_b)\n",
    "    \n",
    "    \n",
    "    if current_loss < min_loss:\n",
    "        min_loss = current_loss\n",
    "        \n",
    "        if i % 50 == 0:\n",
    "            print(\"when time is {}, best_k is {}, best_b is {}, loss is {}\".format(i, k, b, min_loss))\n",
    "            \n",
    "    k_gradient = partial_k(X_rm, Y, price_by_k_and_b)\n",
    "    b_gradient = partial_b(Y, price_by_k_and_b)\n",
    "    k = k + (-1 * k_gradient) * rate  # k与偏导方向相反\n",
    "    b = k + (-1 * b_gradient) * rate  # b与偏导方向相反\n",
    "    "
   ]
  },
  {
   "cell_type": "code",
   "execution_count": 172,
   "metadata": {
    "collapsed": true
   },
   "outputs": [],
   "source": [
    "import matplotlib.pyplot as plt\n",
    "%matplotlib inline"
   ]
  },
  {
   "cell_type": "code",
   "execution_count": 173,
   "metadata": {
    "collapsed": true
   },
   "outputs": [],
   "source": [
    "def draw_rm_price():\n",
    "    plt.scatter(X[:, 5], Y)"
   ]
  },
  {
   "cell_type": "code",
   "execution_count": 174,
   "metadata": {
    "scrolled": true
   },
   "outputs": [
    {
     "data": {
      "image/png": "[encoded data removed]",
      "text/plain": [
       "<matplotlib.figure.Figure at 0x7888bb0>"
      ]
     },
     "metadata": {},
     "output_type": "display_data"
    }
   ],
   "source": [
    "draw_rm_price()"
   ]
  },
  {
   "cell_type": "code",
   "execution_count": 175,
   "metadata": {},
   "outputs": [
    {
     "data": {
      "text/plain": [
       "<matplotlib.collections.PathCollection at 0x7bcb1f0>"
      ]
     },
     "execution_count": 175,
     "metadata": {},
     "output_type": "execute_result"
    },
    {
     "data": {
      "image/png": "[encoded data removed]",
      "text/plain": [
       "<matplotlib.figure.Figure at 0x7888af0>"
      ]
     },
     "metadata": {},
     "output_type": "display_data"
    }
   ],
   "source": [
    "k = 11\n",
    "b = -45\n",
    "draw_rm_price()\n",
    "plt.scatter(X[:, 5], price(X[:, 5], k, b))"
   ]
  },
  {
   "cell_type": "markdown",
   "metadata": {},
   "source": [
    "#### ② 动态规划"
   ]
  },
  {
   "cell_type": "code",
   "execution_count": 176,
   "metadata": {
    "collapsed": true
   },
   "outputs": [],
   "source": [
    "from collections import defaultdict"
   ]
  },
  {
   "cell_type": "code",
   "execution_count": 177,
   "metadata": {
    "collapsed": true
   },
   "outputs": [],
   "source": [
    "original_price = [1, 5, 8, 9, 10, 17, 17, 20, 24, 30, 35]"
   ]
  },
  {
   "cell_type": "code",
   "execution_count": 178,
   "metadata": {
    "collapsed": true
   },
   "outputs": [],
   "source": [
    "price = defaultdict(int)"
   ]
  },
  {
   "cell_type": "code",
   "execution_count": 179,
   "metadata": {
    "collapsed": true
   },
   "outputs": [],
   "source": [
    "for i, p in enumerate(original_price):\n",
    "    price[i + 1] = p"
   ]
  },
  {
   "cell_type": "code",
   "execution_count": 180,
   "metadata": {
    "scrolled": true
   },
   "outputs": [
    {
     "data": {
      "text/plain": [
       "defaultdict(int,\n",
       "            {1: 1,\n",
       "             2: 5,\n",
       "             3: 8,\n",
       "             4: 9,\n",
       "             5: 10,\n",
       "             6: 17,\n",
       "             7: 17,\n",
       "             8: 20,\n",
       "             9: 24,\n",
       "             10: 30,\n",
       "             11: 35})"
      ]
     },
     "execution_count": 180,
     "metadata": {},
     "output_type": "execute_result"
    }
   ],
   "source": [
    "price"
   ]
  },
  {
   "cell_type": "markdown",
   "metadata": {},
   "source": [
    "##### python函数式编程"
   ]
  },
  {
   "cell_type": "code",
   "execution_count": 181,
   "metadata": {
    "collapsed": true
   },
   "outputs": [],
   "source": [
    "def example(f, arg):\n",
    "    return f(arg)"
   ]
  },
  {
   "cell_type": "code",
   "execution_count": 182,
   "metadata": {
    "collapsed": true
   },
   "outputs": [],
   "source": [
    "def add_ten(num):\n",
    "    return num + 10"
   ]
  },
  {
   "cell_type": "code",
   "execution_count": 183,
   "metadata": {
    "collapsed": true
   },
   "outputs": [],
   "source": [
    "def mul_ten(num):\n",
    "    return num * 10 "
   ]
  },
  {
   "cell_type": "code",
   "execution_count": 184,
   "metadata": {},
   "outputs": [
    {
     "name": "stdout",
     "output_type": "stream",
     "text": [
      "110\n",
      "1000\n"
     ]
    }
   ],
   "source": [
    "operations = [add_ten, mul_ten]\n",
    "\n",
    "for f in operations:\n",
    "    print(example(f, 100))"
   ]
  },
  {
   "cell_type": "markdown",
   "metadata": {},
   "source": [
    "#### 装饰器"
   ]
  },
  {
   "cell_type": "markdown",
   "metadata": {},
   "source": [
    "#### 无参数"
   ]
  },
  {
   "cell_type": "code",
   "execution_count": 185,
   "metadata": {
    "collapsed": true
   },
   "outputs": [],
   "source": [
    "called_time = defaultdict(int)\n",
    "\n",
    "def get_call_times(f):\n",
    "    result = f()\n",
    "    \n",
    "    print('function: {} called once! '.format(f.__name__))\n",
    "    called_time[f.__name__] += 1\n",
    "    \n",
    "    return result"
   ]
  },
  {
   "cell_type": "code",
   "execution_count": 186,
   "metadata": {
    "collapsed": true
   },
   "outputs": [],
   "source": [
    "def some_funcion_1(): \n",
    "    print('I am function 1')"
   ]
  },
  {
   "cell_type": "code",
   "execution_count": 187,
   "metadata": {},
   "outputs": [
    {
     "name": "stdout",
     "output_type": "stream",
     "text": [
      "I am function 1\n",
      "function: some_funcion_1 called once! \n"
     ]
    }
   ],
   "source": [
    "get_call_times(some_funcion_1)"
   ]
  },
  {
   "cell_type": "code",
   "execution_count": 188,
   "metadata": {},
   "outputs": [
    {
     "data": {
      "text/plain": [
       "defaultdict(int, {'some_funcion_1': 1})"
      ]
     },
     "execution_count": 188,
     "metadata": {},
     "output_type": "execute_result"
    }
   ],
   "source": [
    "called_time"
   ]
  },
  {
   "cell_type": "markdown",
   "metadata": {},
   "source": [
    "#### 有参数"
   ]
  },
  {
   "cell_type": "code",
   "execution_count": 189,
   "metadata": {
    "collapsed": true
   },
   "outputs": [],
   "source": [
    "from functools import wraps"
   ]
  },
  {
   "cell_type": "code",
   "execution_count": 190,
   "metadata": {
    "collapsed": true
   },
   "outputs": [],
   "source": [
    "called_time_with_arg = defaultdict(int)\n",
    "def get_call_time(f):\n",
    "    @wraps(f)\n",
    "    def wrap(n):\n",
    "        result = f(n)\n",
    "        \n",
    "        called_time_with_arg[(f.__name__, n)] += 1\n",
    "        \n",
    "        return result\n",
    "    return wrap"
   ]
  },
  {
   "cell_type": "code",
   "execution_count": 191,
   "metadata": {
    "collapsed": true
   },
   "outputs": [],
   "source": [
    "def add_ten(n): return n + 10"
   ]
  },
  {
   "cell_type": "code",
   "execution_count": 192,
   "metadata": {},
   "outputs": [
    {
     "data": {
      "text/plain": [
       "20"
      ]
     },
     "execution_count": 192,
     "metadata": {},
     "output_type": "execute_result"
    }
   ],
   "source": [
    "add_ten = get_call_time(add_ten)\n",
    "add_ten(10)"
   ]
  },
  {
   "cell_type": "markdown",
   "metadata": {},
   "source": [
    "#### @"
   ]
  },
  {
   "cell_type": "code",
   "execution_count": 193,
   "metadata": {
    "collapsed": true
   },
   "outputs": [],
   "source": [
    "@get_call_time\n",
    "def add_twenty(n): \n",
    "    return n + 20"
   ]
  },
  {
   "cell_type": "code",
   "execution_count": 194,
   "metadata": {
    "collapsed": true
   },
   "outputs": [],
   "source": [
    "# 相当于 add_twenty = get_call_time(add_twenty)"
   ]
  },
  {
   "cell_type": "code",
   "execution_count": 195,
   "metadata": {},
   "outputs": [
    {
     "data": {
      "text/plain": [
       "29"
      ]
     },
     "execution_count": 195,
     "metadata": {},
     "output_type": "execute_result"
    }
   ],
   "source": [
    "add_twenty(9)"
   ]
  },
  {
   "cell_type": "markdown",
   "metadata": {},
   "source": [
    "#### ③ Cutting Problem"
   ]
  },
  {
   "cell_type": "code",
   "execution_count": 196,
   "metadata": {
    "collapsed": true
   },
   "outputs": [],
   "source": [
    "solution = {}"
   ]
  },
  {
   "cell_type": "code",
   "execution_count": 197,
   "metadata": {},
   "outputs": [
    {
     "data": {
      "text/plain": [
       "defaultdict(int,\n",
       "            {1: 1,\n",
       "             2: 5,\n",
       "             3: 8,\n",
       "             4: 9,\n",
       "             5: 10,\n",
       "             6: 17,\n",
       "             7: 17,\n",
       "             8: 20,\n",
       "             9: 24,\n",
       "             10: 30,\n",
       "             11: 35})"
      ]
     },
     "execution_count": 197,
     "metadata": {},
     "output_type": "execute_result"
    }
   ],
   "source": [
    "price"
   ]
  },
  {
   "cell_type": "code",
   "execution_count": 198,
   "metadata": {
    "collapsed": true
   },
   "outputs": [],
   "source": [
    "def r(n):\n",
    "    max_price, max_split = max([(price[n], 0)] + [(r(n - i) + r(i), i) for i in range(1, n)])\n",
    "    solution[n] = [n - max_split, max_split]\n",
    "    return max_price"
   ]
  },
  {
   "cell_type": "code",
   "execution_count": 199,
   "metadata": {
    "scrolled": true
   },
   "outputs": [
    {
     "data": {
      "text/plain": [
       "30"
      ]
     },
     "execution_count": 199,
     "metadata": {},
     "output_type": "execute_result"
    }
   ],
   "source": [
    "r(10)"
   ]
  },
  {
   "cell_type": "code",
   "execution_count": 200,
   "metadata": {
    "scrolled": true
   },
   "outputs": [
    {
     "data": {
      "text/plain": [
       "{1: [1, 0],\n",
       " 2: [2, 0],\n",
       " 3: [3, 0],\n",
       " 4: [2, 2],\n",
       " 5: [2, 3],\n",
       " 6: [6, 0],\n",
       " 7: [1, 6],\n",
       " 8: [2, 6],\n",
       " 9: [3, 6],\n",
       " 10: [10, 0]}"
      ]
     },
     "execution_count": 200,
     "metadata": {},
     "output_type": "execute_result"
    }
   ],
   "source": [
    "solution"
   ]
  },
  {
   "cell_type": "code",
   "execution_count": 201,
   "metadata": {
    "collapsed": true
   },
   "outputs": [],
   "source": [
    "def parse_solution(n):\n",
    "    left_split, right_split = solution[n]\n",
    "    \n",
    "    if right_split == 0: return [left_split]\n",
    "    \n",
    "    return parse_solution(left_split) + parse_solution(right_split)"
   ]
  },
  {
   "cell_type": "code",
   "execution_count": 202,
   "metadata": {
    "collapsed": true
   },
   "outputs": [],
   "source": [
    "#r(105)"
   ]
  },
  {
   "cell_type": "code",
   "execution_count": 203,
   "metadata": {
    "collapsed": true
   },
   "outputs": [],
   "source": [
    "#parse_solution(105)"
   ]
  },
  {
   "cell_type": "markdown",
   "metadata": {},
   "source": [
    "### Dynamic Programming"
   ]
  },
  {
   "cell_type": "markdown",
   "metadata": {},
   "source": [
    "+ 1.Overlapping Subproblems\n",
    "+ 2.Overlapping computing saved in a table\n",
    "+ 3.Parse solution"
   ]
  },
  {
   "cell_type": "code",
   "execution_count": 204,
   "metadata": {
    "collapsed": true
   },
   "outputs": [],
   "source": [
    "def memo(f): \n",
    "    memo.already_computed = {}\n",
    "    @wraps(f)\n",
    "    def wrap(arg):\n",
    "        result = None\n",
    "        \n",
    "        if arg in memo.already_computed: \n",
    "            result = memo.already_computed[arg]\n",
    "        else:\n",
    "            result = f(arg)\n",
    "            memo.already_computed[arg] = result\n",
    "        \n",
    "        return result\n",
    "    \n",
    "    return wrap"
   ]
  },
  {
   "cell_type": "code",
   "execution_count": 205,
   "metadata": {
    "collapsed": true
   },
   "outputs": [],
   "source": [
    "@memo\n",
    "def r(n):\n",
    "    max_price, max_split = max([(price[n], 0)] + [(r(n - i) + r(i), i) for i in range(1, n)])\n",
    "    solution[n] = [n - max_split, max_split]\n",
    "    return max_price"
   ]
  },
  {
   "cell_type": "code",
   "execution_count": 206,
   "metadata": {
    "collapsed": true,
    "scrolled": true
   },
   "outputs": [],
   "source": [
    "#r(20)"
   ]
  },
  {
   "cell_type": "code",
   "execution_count": 207,
   "metadata": {
    "collapsed": true
   },
   "outputs": [],
   "source": [
    "#r(105)"
   ]
  },
  {
   "cell_type": "code",
   "execution_count": 208,
   "metadata": {
    "collapsed": true
   },
   "outputs": [],
   "source": [
    "def parse_solution(n):\n",
    "    left_split, right_split = solution[n]\n",
    "    \n",
    "    if right_split == 0: return [left_split]\n",
    "    \n",
    "    return parse_solution(left_split) + parse_solution(right_split)"
   ]
  },
  {
   "cell_type": "code",
   "execution_count": 209,
   "metadata": {},
   "outputs": [
    {
     "data": {
      "text/plain": [
       "332"
      ]
     },
     "execution_count": 209,
     "metadata": {},
     "output_type": "execute_result"
    }
   ],
   "source": [
    "r(105)"
   ]
  },
  {
   "cell_type": "code",
   "execution_count": 210,
   "metadata": {},
   "outputs": [
    {
     "data": {
      "text/plain": [
       "[6, 11, 11, 11, 11, 11, 11, 11, 11, 11]"
      ]
     },
     "execution_count": 210,
     "metadata": {},
     "output_type": "execute_result"
    }
   ],
   "source": [
    "parse_solution(105)"
   ]
  },
  {
   "cell_type": "code",
   "execution_count": 211,
   "metadata": {},
   "outputs": [
    {
     "data": {
      "text/plain": [
       "<function __main__.r>"
      ]
     },
     "execution_count": 211,
     "metadata": {},
     "output_type": "execute_result"
    }
   ],
   "source": [
    "r   #不加@wraps(f) r对应的函数是wrap"
   ]
  },
  {
   "cell_type": "code",
   "execution_count": 212,
   "metadata": {},
   "outputs": [
    {
     "data": {
      "text/plain": [
       "defaultdict(int, {('add_ten', 10): 1, ('add_twenty', 9): 1})"
      ]
     },
     "execution_count": 212,
     "metadata": {},
     "output_type": "execute_result"
    }
   ],
   "source": [
    "called_time_with_arg"
   ]
  },
  {
   "cell_type": "markdown",
   "metadata": {},
   "source": [
    "### Part 2: change loss function from $loss = \\frac{1}{n}\\sum{(y_i - \\hat(y_i))^2}$ to $loss = \\frac{1}{n}\\sum{|y_i - \\hat{y_i}|}$, and using your mathmatical knowledge to get the right partial formual. Implemen the gradient descent code."
   ]
  },
  {
   "cell_type": "markdown",
   "metadata": {},
   "source": [
    "#### 公式\n",
    "$$ loss = \\frac{1}{n}\\sum{|y_i - \\hat{y_i}|} $$"
   ]
  },
  {
   "cell_type": "markdown",
   "metadata": {},
   "source": [
    "$$ loss = \\frac{1}{n} \\sum{|y_i - (kx_i + b_i)|} $$"
   ]
  },
  {
   "cell_type": "markdown",
   "metadata": {},
   "source": [
    "#### 对k求偏导  \n",
    "$$ loss = \\frac{1}{n} \\sum{(-x_i)}$$\n",
    "$$ loss = \\frac{1}{n} \\sum{(x_i)}$$"
   ]
  },
  {
   "cell_type": "markdown",
   "metadata": {},
   "source": [
    "$$ loss = \\frac{1}{n} \\sum{\\frac{|y_i - (kx_i + b_i)|x_i}{y_i - (kx_i + b_i)}} $$\n",
    "$$ loss = \\frac{1}{n} \\sum{\\frac{|y_i - \\hat{y_i})|x_i}{y_i - \\hat{y_i}}} $$\n",
    "$$ y_i != (kx_i + b_i) $$"
   ]
  },
  {
   "cell_type": "markdown",
   "metadata": {},
   "source": [
    "#### 对b求偏导\n",
    "$$ loss = \\frac{1}{n} \\sum{(-1)}$$\n",
    "$$ loss = \\frac{1}{n} \\sum{(1)}$$"
   ]
  },
  {
   "cell_type": "markdown",
   "metadata": {},
   "source": [
    "$$ loss = \\frac{1}{n} \\sum{\\frac{|y_i - (kx_i + b_i)|}{y_i - (kx_i + b_i)}} $$\n",
    "$$ loss = \\frac{1}{n} \\sum{\\frac{|y_i - \\hat{y_i})|}{y_i - \\hat{y_i}}} $$\n",
    "$$ y_i != (kx_i + b_i) $$"
   ]
  },
  {
   "cell_type": "markdown",
   "metadata": {},
   "source": [
    "##### ？？？？？问题很大"
   ]
  },
  {
   "cell_type": "code",
   "execution_count": 213,
   "metadata": {
    "collapsed": true
   },
   "outputs": [],
   "source": [
    "def price(rm , k ,b):\n",
    "    \"\"\"Price Function\"\"\"\n",
    "    return k * rm + b"
   ]
  },
  {
   "cell_type": "code",
   "execution_count": 214,
   "metadata": {
    "collapsed": true
   },
   "outputs": [],
   "source": [
    "def loss_abs(y, y_hat):\n",
    "    \"\"\"Loss Function\"\"\"\n",
    "    return sum(abs(y_i - y_hat_i) for y_i, y_hat_i in zip(list(y), list(y_hat))) / len(y)"
   ]
  },
  {
   "cell_type": "code",
   "execution_count": 215,
   "metadata": {
    "collapsed": true
   },
   "outputs": [],
   "source": [
    "def partial_k(x, y ,y_hat):\n",
    "    \"\"\"k 偏导\"\"\"\n",
    "    gradient = 0\n",
    "    n = len(y)\n",
    "    \n",
    "    for x_i, y_i, y_hat_i in zip(list(x), list(y), list(y_hat)):\n",
    "        if y_i == y_hat_i:\n",
    "            continue\n",
    "        gradient += abs(y_i - y_hat_i) / (y_i - y_hat_i) * x_i \n",
    "    \n",
    "    return 1 / n * gradient"
   ]
  },
  {
   "cell_type": "code",
   "execution_count": 216,
   "metadata": {
    "collapsed": true
   },
   "outputs": [],
   "source": [
    "def partial_b(y, y_hat):\n",
    "    \"\"\"b 偏导\"\"\"\n",
    "    gradient = 0\n",
    "    n = len(y)\n",
    "    \n",
    "    for y_i, y_hat_i in zip(list(y), list(y_hat)):\n",
    "        if y_i == y_hat_i:\n",
    "            continue\n",
    "        gradient += abs(y_i - y_hat_i) / (y_i - y_hat_i)\n",
    "    \n",
    "    return 1 / n * gradient"
   ]
  },
  {
   "cell_type": "code",
   "execution_count": 217,
   "metadata": {},
   "outputs": [
    {
     "name": "stdout",
     "output_type": "stream",
     "text": [
      "when time is 0, best_k is -53.4356844489311, best_b is -37.411410868291405, loss is 395.7679571918329\n",
      "when time is 4, best_k is -50.92183069399037, best_b is -50.82183069399037, loss is 393.37972526445816\n",
      "when time is 5, best_k is -50.29336725525519, best_b is -50.19336725525519, loss is 388.8015988874544\n",
      "when time is 6, best_k is -49.66490381652001, best_b is -49.56490381652001, loss is 384.2234725104512\n",
      "when time is 7, best_k is -49.03644037778483, best_b is -48.93644037778483, loss is 379.64534613344745\n",
      "when time is 8, best_k is -48.40797693904965, best_b is -48.307976939049645, loss is 375.0672197564436\n",
      "when time is 9, best_k is -47.779513500314465, best_b is -47.679513500314464, loss is 370.4890933794406\n",
      "when time is 10, best_k is -47.151050061579284, best_b is -47.05105006157928, loss is 365.9109670024365\n",
      "when time is 11, best_k is -46.5225866228441, best_b is -46.4225866228441, loss is 361.33284062543237\n",
      "when time is 12, best_k is -45.89412318410892, best_b is -45.79412318410892, loss is 356.75471424842897\n",
      "when time is 13, best_k is -45.26565974537374, best_b is -45.16565974537374, loss is 352.17658787142534\n",
      "when time is 14, best_k is -44.63719630663856, best_b is -44.537196306638556, loss is 347.5984614944219\n",
      "when time is 15, best_k is -44.008732867903376, best_b is -43.908732867903375, loss is 343.02033511741786\n",
      "when time is 16, best_k is -43.380269429168195, best_b is -43.28026942916819, loss is 338.4422087404149\n",
      "when time is 17, best_k is -42.75180599043301, best_b is -42.65180599043301, loss is 333.86408236341043\n",
      "when time is 18, best_k is -42.12334255169783, best_b is -42.02334255169783, loss is 329.2859559864067\n",
      "when time is 19, best_k is -41.49487911296265, best_b is -41.39487911296265, loss is 324.70782960940346\n",
      "when time is 20, best_k is -40.86641567422747, best_b is -40.76641567422747, loss is 320.1297032323997\n",
      "when time is 21, best_k is -40.23795223549229, best_b is -40.137952235492286, loss is 315.55157685539626\n",
      "when time is 22, best_k is -39.609488796757105, best_b is -39.509488796757104, loss is 310.9734504783926\n",
      "when time is 23, best_k is -38.981025358021924, best_b is -38.88102535802192, loss is 306.3953241013892\n",
      "when time is 24, best_k is -38.35256191928674, best_b is -38.25256191928674, loss is 301.81719772438504\n",
      "when time is 25, best_k is -37.72409848055156, best_b is -37.62409848055156, loss is 297.2390713473817\n",
      "when time is 26, best_k is -37.09563504181638, best_b is -36.99563504181638, loss is 292.66094497037784\n",
      "when time is 27, best_k is -36.4671716030812, best_b is -36.3671716030812, loss is 288.08281859337404\n",
      "when time is 28, best_k is -35.838708164346016, best_b is -35.738708164346015, loss is 283.50469221637064\n",
      "when time is 29, best_k is -35.210244725610835, best_b is -35.11024472561083, loss is 278.926565839367\n",
      "when time is 30, best_k is -34.58178128687565, best_b is -34.48178128687565, loss is 274.34843946236373\n",
      "when time is 31, best_k is -33.95331784814047, best_b is -33.85331784814047, loss is 269.7703130853602\n",
      "when time is 32, best_k is -33.32485440940529, best_b is -33.22485440940529, loss is 265.1921867083561\n",
      "when time is 33, best_k is -32.69639097067011, best_b is -32.59639097067011, loss is 260.61406033135245\n",
      "when time is 34, best_k is -32.06792753193493, best_b is -31.967927531934926, loss is 256.0359339543486\n",
      "when time is 35, best_k is -31.43946409319975, best_b is -31.339464093199748, loss is 251.45780757734505\n",
      "when time is 36, best_k is -30.81100065446457, best_b is -30.71100065446457, loss is 246.87968120034148\n",
      "when time is 37, best_k is -30.182537215729393, best_b is -30.082537215729392, loss is 242.30155482333757\n",
      "when time is 38, best_k is -29.554073776994215, best_b is -29.454073776994214, loss is 237.72342844633414\n",
      "when time is 39, best_k is -28.925610338259037, best_b is -28.825610338259036, loss is 233.14530206933057\n",
      "when time is 40, best_k is -28.29714689952386, best_b is -28.197146899523858, loss is 228.56717569232703\n",
      "when time is 41, best_k is -27.66868346078868, best_b is -27.56868346078868, loss is 223.98904931532326\n",
      "when time is 42, best_k is -27.040220022053504, best_b is -26.940220022053502, loss is 219.41092293831966\n",
      "when time is 43, best_k is -26.411756583318326, best_b is -26.311756583318324, loss is 214.83279656131623\n",
      "when time is 44, best_k is -25.783293144583148, best_b is -25.683293144583146, loss is 210.25467018431254\n",
      "when time is 45, best_k is -25.15482970584797, best_b is -25.05482970584797, loss is 205.67654380730886\n",
      "when time is 46, best_k is -24.52636626711279, best_b is -24.42636626711279, loss is 201.09841743030532\n",
      "when time is 47, best_k is -23.897902828377614, best_b is -23.797902828377612, loss is 196.52029105330146\n",
      "when time is 48, best_k is -23.269439389642436, best_b is -23.169439389642434, loss is 191.942164676298\n",
      "when time is 49, best_k is -22.640975950907258, best_b is -22.540975950907256, loss is 187.36403829929444\n",
      "when time is 50, best_k is -22.01251251217208, best_b is -21.91251251217208, loss is 182.78591192229098\n",
      "when time is 51, best_k is -21.384049073436902, best_b is -21.2840490734369, loss is 178.20778554528715\n",
      "when time is 52, best_k is -20.755585634701724, best_b is -20.655585634701723, loss is 173.62965916828338\n",
      "when time is 53, best_k is -20.127122195966546, best_b is -20.027122195966545, loss is 169.05153279127993\n",
      "when time is 54, best_k is -19.498658757231368, best_b is -19.398658757231367, loss is 164.47340641427618\n",
      "when time is 55, best_k is -18.87019531849619, best_b is -18.77019531849619, loss is 159.89528003727244\n",
      "when time is 56, best_k is -18.241731879761012, best_b is -18.14173187976101, loss is 155.31715366026896\n",
      "when time is 57, best_k is -17.613268441025834, best_b is -17.513268441025833, loss is 150.7390272832654\n",
      "when time is 58, best_k is -16.984805002290656, best_b is -16.884805002290655, loss is 146.16090090626176\n",
      "when time is 59, best_k is -16.35634156355548, best_b is -16.256341563555477, loss is 141.58277452925796\n",
      "when time is 60, best_k is -15.7278781248203, best_b is -15.6278781248203, loss is 137.0046481522545\n",
      "when time is 61, best_k is -15.099414686085122, best_b is -14.999414686085123, loss is 132.42652177525076\n",
      "when time is 62, best_k is -14.470951247349944, best_b is -14.370951247349945, loss is 127.84839539824733\n",
      "when time is 63, best_k is -13.842487808614766, best_b is -13.742487808614767, loss is 123.27026902124358\n",
      "when time is 64, best_k is -13.214024369879589, best_b is -13.114024369879589, loss is 118.69214264423992\n",
      "when time is 65, best_k is -12.58556093114441, best_b is -12.485560931144411, loss is 114.1140162672363\n",
      "when time is 66, best_k is -11.957097492409233, best_b is -11.857097492409233, loss is 109.53588989023277\n",
      "when time is 67, best_k is -11.328634053674055, best_b is -11.228634053674055, loss is 104.95776351322905\n",
      "when time is 68, best_k is -10.700170614938877, best_b is -10.600170614938877, loss is 100.37963713622551\n",
      "when time is 69, best_k is -10.071707176203699, best_b is -9.971707176203699, loss is 95.8015107592218\n",
      "when time is 70, best_k is -9.44324373746852, best_b is -9.343243737468521, loss is 91.22338438221821\n",
      "when time is 71, best_k is -8.814780298733343, best_b is -8.714780298733343, loss is 86.64525800521459\n",
      "when time is 72, best_k is -8.186316859998165, best_b is -8.086316859998165, loss is 82.06713162821103\n",
      "when time is 73, best_k is -7.557853421262986, best_b is -7.457853421262986, loss is 77.4890052512073\n",
      "when time is 74, best_k is -6.929389982527807, best_b is -6.8293899825278075, loss is 72.91087887420373\n",
      "when time is 75, best_k is -6.300926543792628, best_b is -6.200926543792629, loss is 68.33275249720005\n",
      "when time is 76, best_k is -5.672463105057449, best_b is -5.57246310505745, loss is 63.75462612019642\n",
      "when time is 77, best_k is -5.043999666322271, best_b is -4.943999666322271, loss is 59.176499743192835\n",
      "when time is 78, best_k is -4.415536227587092, best_b is -4.315536227587092, loss is 54.59837336618914\n",
      "when time is 79, best_k is -3.787072788851913, best_b is -3.687072788851913, loss is 50.02024698918554\n",
      "when time is 80, best_k is -3.158609350116734, best_b is -3.058609350116734, loss is 45.44212061218188\n",
      "when time is 81, best_k is -2.530145911381555, best_b is -2.430145911381555, loss is 40.86399423517822\n",
      "when time is 82, best_k is -1.9016824726463764, best_b is -1.8016824726463763, loss is 36.285867858174626\n",
      "when time is 83, best_k is -1.2732190339111975, best_b is -1.1732190339111974, loss is 31.707741481170988\n",
      "when time is 84, best_k is -0.6447555951760188, best_b is -0.5447555951760188, loss is 27.12961510416736\n",
      "when time is 85, best_k is -0.016292156440840033, best_b is 0.08370784355915996, loss is 22.551488727163733\n",
      "when time is 86, best_k is 0.6121712822943387, best_b is 0.7121712822943387, loss is 17.973362350160116\n",
      "when time is 87, best_k is 1.2406347210295174, best_b is 1.3406347210295175, loss is 13.484489997863738\n",
      "when time is 88, best_k is 1.8362791874326803, best_b is 1.9307455905947357, loss is 9.6635322965301\n",
      "when time is 89, best_k is 2.336820491780507, best_b is 2.41547661826272, loss is 7.226215534911067\n",
      "when time is 90, best_k is 2.6945100174722065, best_b is 2.749450728934657, loss is 5.9986754643991835\n",
      "when time is 91, best_k is 2.922323653835843, best_b is 2.9551299779465148, loss is 5.597960173664199\n",
      "when time is 92, best_k is 3.007242823796317, best_b is 3.0163337328872264, loss is 5.559457741109603\n",
      "when time is 93, best_k is 3.0141568554168705, best_b is 3.010599543163906, loss is 5.558804303662605\n",
      "when time is 95, best_k is 3.0158264206342618, best_b is 3.010688080713313, loss is 5.558767082794108\n",
      "when time is 97, best_k is 3.0153600174722066, best_b is 3.010221677551258, loss is 5.55875728740596\n",
      "when time is 109, best_k is 3.0152034957330773, best_b is 3.0100651558121285, loss is 5.558754000140108\n",
      "when time is 121, best_k is 3.015046973993948, best_b is 3.0099086340729992, loss is 5.558750712874255\n",
      "when time is 222, best_k is 3.0150451953378314, best_b is 3.0099068554168826, loss is 5.558750675518959\n"
     ]
    },
    {
     "name": "stdout",
     "output_type": "stream",
     "text": [
      "when time is 323, best_k is 3.015043416681715, best_b is 3.009905076760766, loss is 5.558750638163667\n"
     ]
    }
   ],
   "source": [
    "try_times = 2000\n",
    "\n",
    "X, Y = data['data'], data['target']\n",
    "X_rm = X[:, 5]\n",
    "\n",
    "min_loss = float('inf') #无穷大\n",
    "\n",
    "k = random.random() * 200 - 100\n",
    "b = random.random() * 200 - 100\n",
    "\n",
    "rate = 0.1\n",
    "\n",
    "time_log = 0\n",
    "\n",
    "for i in range(try_times):\n",
    "    price_by_k_and_b = [price(rm, k, b) for rm in X_rm]\n",
    "    current_loss = loss_abs(Y, price_by_k_and_b)    \n",
    "    \n",
    "    if current_loss < min_loss:\n",
    "        \n",
    "        min_loss = current_loss\n",
    "        \n",
    "        print(\"when time is {}, best_k is {}, best_b is {}, loss is {}\".format(i, k, b, min_loss))\n",
    "            \n",
    "    k_gradient = partial_k(X_rm, Y, price_by_k_and_b)\n",
    "    b_gradient = partial_b(Y, price_by_k_and_b)\n",
    "    \n",
    "    k = k - (-1 * k_gradient) * rate  # k与偏导方向相反\n",
    "    b = k - (-1 * b_gradient )* rate  # b与偏导方向相反"
   ]
  },
  {
   "cell_type": "code",
   "execution_count": 218,
   "metadata": {},
   "outputs": [
    {
     "data": {
      "text/plain": [
       "<matplotlib.collections.PathCollection at 0x851f4f0>"
      ]
     },
     "execution_count": 218,
     "metadata": {},
     "output_type": "execute_result"
    },
    {
     "data": {
      "image/png": "[encoded data removed]",
      "text/plain": [
       "<matplotlib.figure.Figure at 0x7c02850>"
      ]
     },
     "metadata": {},
     "output_type": "display_data"
    }
   ],
   "source": [
    "k = 3\n",
    "b = 3\n",
    "draw_rm_price()\n",
    "plt.scatter(X[:, 5], price(X[:, 5], k, b))"
   ]
  },
  {
   "cell_type": "markdown",
   "metadata": {},
   "source": [
    "### Part 3: Finish the Solution Parse Part of Edit-Distance"
   ]
  },
  {
   "cell_type": "code",
   "execution_count": 219,
   "metadata": {
    "collapsed": true
   },
   "outputs": [],
   "source": [
    "from functools import lru_cache  #作用为缓存，去重，将函数运行结果保存，遇到传入相同参数时，使用缓存结果即可"
   ]
  },
  {
   "cell_type": "code",
   "execution_count": 220,
   "metadata": {
    "collapsed": true
   },
   "outputs": [],
   "source": [
    "solution = dict()"
   ]
  },
  {
   "cell_type": "code",
   "execution_count": 221,
   "metadata": {
    "collapsed": true
   },
   "outputs": [],
   "source": [
    "@lru_cache(maxsize=2**10)\n",
    "def edit_distance(string1, string2):\n",
    "    # init\n",
    "    # D(i, 0) = i\n",
    "    # D(0, j) = j\n",
    "    if len(string1) == 0: return len(string2)\n",
    "    if len(string2) == 0: return len(string1)\n",
    "    \n",
    "    # start\n",
    "    string1_tail = string1[-1]\n",
    "    string2_tail = string2[-1]\n",
    "    \n",
    "    candidate = [\n",
    "        (edit_distance(string1[:-1], string2) + 1, \"Del {}\".format(string1_tail)),  # 删除\n",
    "        (edit_distance(string1, string2[:-1]) + 1, \"Add {}\".format(string2_tail))   # 插入\n",
    "    ] \n",
    "    \n",
    "    if string1_tail == string2_tail:\n",
    "        both_forward = (edit_distance(string1[:-1], string2[:-1]) + 0, \"No Action\")  # 无动作\n",
    "    else:\n",
    "        both_forward = (edit_distance(string1[:-1], string2[:-1]) + 1, \"Sub {} -> {}\".format(string1_tail, string2_tail)) # 替代\n",
    "    \n",
    "    candidate.append(both_forward)\n",
    "    \n",
    "    min_distance, operation = min(candidate, key=lambda x: x[0])\n",
    "    \n",
    "    if operation.startswith(\"Del\"):\n",
    "        solution[(string1, string2)] = (string1[:-1], string2)\n",
    "    elif operation.startswith(\"Add\"):\n",
    "        solution[(string1, string2)] = (string1, string2[:-1])\n",
    "    elif operation.startswith(\"Sub\"):\n",
    "        solution[(string1, string2)] = (string1[:-1], string2[:-1])\n",
    "    else:\n",
    "         solution[(string1, string2)] = (string1[:-1], string2[:-1])\n",
    "    \n",
    "    #solution[(string1, string2)] = operation\n",
    "    \n",
    "    return min_distance"
   ]
  },
  {
   "cell_type": "code",
   "execution_count": 222,
   "metadata": {
    "scrolled": true
   },
   "outputs": [
    {
     "data": {
      "text/plain": [
       "2"
      ]
     },
     "execution_count": 222,
     "metadata": {},
     "output_type": "execute_result"
    }
   ],
   "source": [
    "edit_distance('ABCDE', 'ABCCEF')"
   ]
  },
  {
   "cell_type": "code",
   "execution_count": 223,
   "metadata": {
    "scrolled": true
   },
   "outputs": [
    {
     "data": {
      "text/plain": [
       "{('A', 'A'): ('', ''),\n",
       " ('A', 'AB'): ('A', 'A'),\n",
       " ('A', 'ABC'): ('A', 'AB'),\n",
       " ('A', 'ABCC'): ('A', 'ABC'),\n",
       " ('A', 'ABCCE'): ('A', 'ABCC'),\n",
       " ('A', 'ABCCEF'): ('A', 'ABCCE'),\n",
       " ('AB', 'A'): ('A', 'A'),\n",
       " ('AB', 'AB'): ('A', 'A'),\n",
       " ('AB', 'ABC'): ('AB', 'AB'),\n",
       " ('AB', 'ABCC'): ('AB', 'ABC'),\n",
       " ('AB', 'ABCCE'): ('AB', 'ABCC'),\n",
       " ('AB', 'ABCCEF'): ('AB', 'ABCCE'),\n",
       " ('ABC', 'A'): ('AB', 'A'),\n",
       " ('ABC', 'AB'): ('AB', 'AB'),\n",
       " ('ABC', 'ABC'): ('AB', 'AB'),\n",
       " ('ABC', 'ABCC'): ('ABC', 'ABC'),\n",
       " ('ABC', 'ABCCE'): ('ABC', 'ABCC'),\n",
       " ('ABC', 'ABCCEF'): ('ABC', 'ABCCE'),\n",
       " ('ABCD', 'A'): ('ABC', 'A'),\n",
       " ('ABCD', 'AB'): ('ABC', 'AB'),\n",
       " ('ABCD', 'ABC'): ('ABC', 'ABC'),\n",
       " ('ABCD', 'ABCC'): ('ABC', 'ABC'),\n",
       " ('ABCD', 'ABCCE'): ('ABCD', 'ABCC'),\n",
       " ('ABCD', 'ABCCEF'): ('ABCD', 'ABCCE'),\n",
       " ('ABCDE', 'A'): ('ABCD', 'A'),\n",
       " ('ABCDE', 'AB'): ('ABCD', 'AB'),\n",
       " ('ABCDE', 'ABC'): ('ABCD', 'ABC'),\n",
       " ('ABCDE', 'ABCC'): ('ABCD', 'ABCC'),\n",
       " ('ABCDE', 'ABCCE'): ('ABCD', 'ABCC'),\n",
       " ('ABCDE', 'ABCCEF'): ('ABCDE', 'ABCCE')}"
      ]
     },
     "execution_count": 223,
     "metadata": {},
     "output_type": "execute_result"
    }
   ],
   "source": [
    "solution"
   ]
  },
  {
   "cell_type": "code",
   "execution_count": 224,
   "metadata": {
    "collapsed": true
   },
   "outputs": [],
   "source": [
    "res = []\n",
    "def parse_solution(string1 ,string2, solution):\n",
    "    res.append((string1,string2))\n",
    "    left_string1, right_string2 = solution[(string1, string2)]\n",
    "    \n",
    "    if not left_string1 and not right_string2: return \"It's over\"\n",
    "    \n",
    "    return parse_solution(left_string1, right_string2, solution)"
   ]
  },
  {
   "cell_type": "code",
   "execution_count": 225,
   "metadata": {
    "scrolled": true
   },
   "outputs": [
    {
     "data": {
      "text/plain": [
       "\"It's over\""
      ]
     },
     "execution_count": 225,
     "metadata": {},
     "output_type": "execute_result"
    }
   ],
   "source": [
    "parse_solution('ABCDE', 'ABCCEF', solution)"
   ]
  },
  {
   "cell_type": "code",
   "execution_count": 226,
   "metadata": {},
   "outputs": [
    {
     "data": {
      "text/plain": [
       "[('ABCDE', 'ABCCEF'),\n",
       " ('ABCDE', 'ABCCE'),\n",
       " ('ABCD', 'ABCC'),\n",
       " ('ABC', 'ABC'),\n",
       " ('AB', 'AB'),\n",
       " ('A', 'A')]"
      ]
     },
     "execution_count": 226,
     "metadata": {},
     "output_type": "execute_result"
    }
   ],
   "source": [
    "res"
   ]
  },
  {
   "cell_type": "markdown",
   "metadata": {},
   "source": [
    "### Part 4 Choose 1 - 2 books to keep reading: \n",
    "\n",
    "+ SICP, Structure and Interpretation of Computer Programming. \n",
    "+ Introduction to Algorithms \n",
    "+ Artificial Intelligence A Modern Approach (3rd Edition) \n",
    "+ Code Complete 2 \n",
    "+ Programming Pearls \n",
    "+ Deep Learning\n",
    "+ 黑客与画家\n",
    "+ 数学之美\n",
    "+ Fluent Python\n",
    "+ Hands on Tensorflow\n",
    "+ Conference: NIPS_ ICML_ ICLR_ ACL_ AAAI\n",
    "\n",
    "> most books you may find in our github: https://github.com/Computing-Intelligence/References"
   ]
  },
  {
   "cell_type": "markdown",
   "metadata": {},
   "source": [
    "## Part 5-1: review machine learning"
   ]
  },
  {
   "cell_type": "markdown",
   "metadata": {},
   "source": [
    "1. Why do we use Derivative / Gredient to fit a target function?¶"
   ]
  },
  {
   "cell_type": "markdown",
   "metadata": {},
   "source": [
    "Ans:"
   ]
  },
  {
   "cell_type": "markdown",
   "metadata": {},
   "source": [
    "2. In the words 'Gredient Descent', what's the Gredient and what's the Descent?¶"
   ]
  },
  {
   "cell_type": "markdown",
   "metadata": {},
   "source": [
    "Ans:"
   ]
  },
  {
   "cell_type": "markdown",
   "metadata": {},
   "source": [
    "\n",
    "3. What's the advantages of the 3rd gradient descent method compared to the previous methods?"
   ]
  },
  {
   "cell_type": "markdown",
   "metadata": {},
   "source": [
    "Ans:"
   ]
  },
  {
   "cell_type": "markdown",
   "metadata": {},
   "source": [
    "4. Using the simple words to describe: What's the machine leanring.¶"
   ]
  },
  {
   "cell_type": "markdown",
   "metadata": {},
   "source": [
    "Ans:"
   ]
  },
  {
   "cell_type": "markdown",
   "metadata": {},
   "source": [
    "### Part 5: Answer following questions: "
   ]
  },
  {
   "cell_type": "markdown",
   "metadata": {},
   "source": [
    "1. Why do we need dynamic programming? What's the difference of dynamic programming and previous talked `search` problme? "
   ]
  },
  {
   "cell_type": "markdown",
   "metadata": {},
   "source": [
    "2. Why do we still need dynamic programming? Why not we train a machine learning to fit a function which could get the `right` answer based on inputs?"
   ]
  },
  {
   "cell_type": "markdown",
   "metadata": {},
   "source": [
    "3. Can you catch up at least 3 problems which could solved by Dynamic Programming? "
   ]
  },
  {
   "cell_type": "markdown",
   "metadata": {},
   "source": [
    "4. Can you catch up at least 3 problems wich could sloved by Edit Distance? "
   ]
  },
  {
   "cell_type": "markdown",
   "metadata": {},
   "source": [
    "5. Please summarize the three main features of Dynamic Programming, and make a concise explain for each feature. "
   ]
  },
  {
   "cell_type": "markdown",
   "metadata": {},
   "source": [
    "6. What's the disadvantages of Dynamic Programming? (You may need search by yourself in Internet)"
   ]
  },
  {
   "cell_type": "markdown",
   "metadata": {},
   "source": [
    "## Part 6 Preparation of Project-01"
   ]
  },
  {
   "cell_type": "markdown",
   "metadata": {},
   "source": [
    "1. Using python Flask or Bottle to finish your first simple web app:\n",
    "> https://bottlepy.org/\n",
    "\n",
    "2. Learn what's the SQL, and try some simple SQL operations:\n",
    "> https://www.w3schools.com/sql/sql_intro.asp\n",
    "\n",
    "3. Learn what's the HTML ( *ONLY* need to know the basic things)\n",
    "> https://getbootstrap.com/; https://www.w3schools.com/html/"
   ]
  },
  {
   "cell_type": "markdown",
   "metadata": {},
   "source": [
    "### (Optinal) Finish the k-person-salesman problem:"
   ]
  },
  {
   "cell_type": "code",
   "execution_count": 227,
   "metadata": {
    "collapsed": true
   },
   "outputs": [],
   "source": [
    "import random\n",
    "import matplotlib.pylab as plt\n",
    "import math"
   ]
  },
  {
   "cell_type": "code",
   "execution_count": 228,
   "metadata": {
    "collapsed": true
   },
   "outputs": [],
   "source": [
    "#随机点位坐标\n",
    "coordinate_x = [random.randint(-100, 100) for _ in range(20)]\n",
    "coordinate_y = [random.randint(-100, 100) for _ in range(20)]"
   ]
  },
  {
   "cell_type": "code",
   "execution_count": 229,
   "metadata": {
    "scrolled": true
   },
   "outputs": [
    {
     "data": {
      "text/plain": [
       "<matplotlib.collections.PathCollection at 0x7e8eeb0>"
      ]
     },
     "execution_count": 229,
     "metadata": {},
     "output_type": "execute_result"
    },
    {
     "data": {
      "image/png": "[encoded data removed]",
      "text/plain": [
       "<matplotlib.figure.Figure at 0x7e9f390>"
      ]
     },
     "metadata": {},
     "output_type": "display_data"
    }
   ],
   "source": [
    "plt.scatter(coordinate_x, coordinate_y)"
   ]
  },
  {
   "cell_type": "code",
   "execution_count": 230,
   "metadata": {
    "collapsed": true
   },
   "outputs": [],
   "source": [
    "def get_distance(coord1, coord2):\n",
    "    \"\"\"计算两点的坐标\"\"\"\n",
    "    return math.sqrt((coord1[0] - coord2[0]) ** 2 + (coord1[1] - coord2[1]) ** 2)"
   ]
  },
  {
   "cell_type": "markdown",
   "metadata": {},
   "source": [
    "### 1. 先试试一个点出发(贪婪)"
   ]
  },
  {
   "cell_type": "code",
   "execution_count": 231,
   "metadata": {
    "collapsed": true
   },
   "outputs": [],
   "source": [
    "#先试试一个点\n",
    "chosen_p = (-50, 10)\n",
    "#点位坐标集合\n",
    "coordinate_list = [(x, y) for x,y in zip(coordinate_x, coordinate_y)]"
   ]
  },
  {
   "cell_type": "code",
   "execution_count": 232,
   "metadata": {
    "collapsed": true
   },
   "outputs": [],
   "source": [
    "def get_shortest_path(start):\n",
    "    \"\"\"获得最短路径\"\"\"\n",
    "    path = [start]\n",
    "    for i in range(len(coordinate_list)):\n",
    "        shortest_distance = float(\"inf\")\n",
    "        shortest_distance_coord = None\n",
    "        for j in range(len(coordinate_list)):\n",
    "            current_distance = get_distance(coordinate_list[j], start)\n",
    "            if current_distance < shortest_distance:\n",
    "                shortest_distance = current_distance\n",
    "                shortest_distance_coord = coordinate_list[j]\n",
    "        path.append(shortest_distance_coord)\n",
    "        start = coordinate_list.pop(coordinate_list.index(shortest_distance_coord))\n",
    "    return path"
   ]
  },
  {
   "cell_type": "code",
   "execution_count": 233,
   "metadata": {
    "collapsed": true,
    "scrolled": true
   },
   "outputs": [],
   "source": [
    "shortest_path = get_shortest_path(chosen_p)"
   ]
  },
  {
   "cell_type": "code",
   "execution_count": 234,
   "metadata": {
    "scrolled": true
   },
   "outputs": [
    {
     "data": {
      "text/plain": [
       "[<matplotlib.lines.Line2D at 0x83effd0>]"
      ]
     },
     "execution_count": 234,
     "metadata": {},
     "output_type": "execute_result"
    },
    {
     "data": {
      "image/png": "[encoded data removed]",
      "text/plain": [
       "<matplotlib.figure.Figure at 0x82b3c90>"
      ]
     },
     "metadata": {},
     "output_type": "display_data"
    }
   ],
   "source": [
    "plt.scatter(coordinate_x, coordinate_y)\n",
    "plt.scatter([chosen_p[0]], [chosen_p[1]], color='r')\n",
    "X = [x[0] for x in shortest_path]\n",
    "Y = [y[1] for y in shortest_path]\n",
    "plt.plot(X, Y, color=\"black\")"
   ]
  },
  {
   "cell_type": "code",
   "execution_count": 235,
   "metadata": {
    "collapsed": true
   },
   "outputs": [],
   "source": [
    "#计算距离\n",
    "distance = 0\n",
    "for index, coord in enumerate(shortest_path[:-1]):\n",
    "    distance += get_distance(shortest_path[index], shortest_path[index + 1])"
   ]
  },
  {
   "cell_type": "code",
   "execution_count": 236,
   "metadata": {},
   "outputs": [
    {
     "data": {
      "text/plain": [
       "792.6259024601625"
      ]
     },
     "execution_count": 236,
     "metadata": {},
     "output_type": "execute_result"
    }
   ],
   "source": [
    "distance"
   ]
  },
  {
   "cell_type": "markdown",
   "metadata": {},
   "source": [
    "### 2.动态规划"
   ]
  },
  {
   "cell_type": "code",
   "execution_count": 237,
   "metadata": {
    "collapsed": true
   },
   "outputs": [],
   "source": [
    "import numpy as np"
   ]
  },
  {
   "cell_type": "code",
   "execution_count": 238,
   "metadata": {},
   "outputs": [],
   "source": [
    "#随机点位坐标\n",
    "coordinate_x = [random.randint(-100, 100) for _ in range(20)]\n",
    "coordinate_y = [random.randint(-100, 100) for _ in range(20)]\n",
    "#先试试一个点\n",
    "chosen_p = (-50, 10)\n",
    "coordinate_x.insert(0, chosen_p[0])\n",
    "coordinate_y.insert(0, chosen_p[1])\n",
    "#点位坐标集合\n",
    "coordinate_list = [(x, y) for x,y in zip(coordinate_x, coordinate_y)]"
   ]
  },
  {
   "cell_type": "code",
   "execution_count": 239,
   "metadata": {},
   "outputs": [],
   "source": [
    "coordinate_array = np.array(coordinate_list)"
   ]
  },
  {
   "cell_type": "code",
   "execution_count": 240,
   "metadata": {},
   "outputs": [
    {
     "data": {
      "text/plain": [
       "array([[ -50,   10],\n",
       "       [  43,  -10],\n",
       "       [-100,  -28],\n",
       "       [  93,  -44],\n",
       "       [ -51,  -66],\n",
       "       [  48,   13],\n",
       "       [   4,   20],\n",
       "       [ -36,   -4],\n",
       "       [ -19,  -41],\n",
       "       [  19,  -51],\n",
       "       [  -7,  -91],\n",
       "       [  73,    4],\n",
       "       [ -42,   43],\n",
       "       [  42,  -64],\n",
       "       [  75,  -81],\n",
       "       [  15,   -1],\n",
       "       [  46,  -20],\n",
       "       [  86,  -75],\n",
       "       [  33,   36],\n",
       "       [ -15,   55],\n",
       "       [ -68,  -44]])"
      ]
     },
     "execution_count": 240,
     "metadata": {},
     "output_type": "execute_result"
    }
   ],
   "source": [
    "coordinate_array"
   ]
  },
  {
   "cell_type": "code",
   "execution_count": 241,
   "metadata": {},
   "outputs": [
    {
     "data": {
      "text/plain": [
       "(21, 2)"
      ]
     },
     "execution_count": 241,
     "metadata": {},
     "output_type": "execute_result"
    }
   ],
   "source": [
    "coordinate_array.shape"
   ]
  },
  {
   "cell_type": "code",
   "execution_count": 242,
   "metadata": {
    "collapsed": true,
    "scrolled": true
   },
   "outputs": [],
   "source": [
    "#将两点之间的距离整合起来\n",
    "distance_array = np.zeros((coordinate_array.shape[0], coordinate_array.shape[0]))"
   ]
  },
  {
   "cell_type": "code",
   "execution_count": 243,
   "metadata": {
    "collapsed": true
   },
   "outputs": [],
   "source": [
    "for i in range(coordinate_array.shape[0]):\n",
    "    for j in range(coordinate_array.shape[0]):\n",
    "               distance_array[i, j] = get_distance(coordinate_array[i], coordinate_array[j])"
   ]
  },
  {
   "cell_type": "code",
   "execution_count": 244,
   "metadata": {},
   "outputs": [
    {
     "data": {
      "text/plain": [
       "array([[   0.        ,   95.12623192,   62.80127387,  152.85614152,\n",
       "          76.00657866,   98.04590761,   54.91812087,   19.79898987,\n",
       "          59.68249325,   92.09777413,  109.772492  ,  123.14625451,\n",
       "          33.95585369,  118.06777715,  154.61565251,   65.9241989 ,\n",
       "         100.57832769,  160.37767924,   86.97700846,   57.00877125,\n",
       "          56.92099788],\n",
       "       [  95.12623192,    0.        ,  144.12841496,   60.46486583,\n",
       "         109.41663493,   23.53720459,   49.2036584 ,   79.22752047,\n",
       "          69.3181073 ,   47.50789408,   95.18928511,   33.10589071,\n",
       "         100.16985575,   54.00925847,   77.87810989,   29.41088234,\n",
       "          10.44030651,   77.93587107,   47.07440918,   87.1148667 ,\n",
       "         116.09048195],\n",
       "       [  62.80127387,  144.12841496,    0.        ,  193.66207682,\n",
       "          62.00806399,  153.57408636,  114.54256851,   68.35202996,\n",
       "          82.03657721,  121.20231021,  112.32987136,  175.93464696,\n",
       "          91.67878708,  146.49232062,  182.84966503,  118.12705025,\n",
       "         146.21901381,  191.84629264,  147.59742545,  118.80235688,\n",
       "          35.77708764],\n",
       "       [ 152.85614152,   60.46486583,  193.66207682,    0.        ,\n",
       "         145.67086188,   72.62231062,  109.62207807,  135.05924626,\n",
       "         112.04017137,   74.33034374,  110.49434375,   52.        ,\n",
       "         160.60510577,   54.7813837 ,   41.14608122,   89.06739022,\n",
       "          52.77309921,   31.78049716,  100.        ,  146.50938536,  161.        ],\n",
       "       [  76.00657866,  109.41663493,   62.00806399,  145.67086188,\n",
       "           0.        ,  126.65701718,  102.08329932,   63.78871374,\n",
       "          40.60788101,   71.58910532,   50.60632372,  142.39382009,\n",
       "         109.3709285 ,   93.02150289,  126.8897159 ,   92.63368718,\n",
       "         107.35455277,  137.29530218,  132.13629327,  126.24183142,\n",
       "          27.80287755],\n",
       "       [  98.04590761,   23.53720459,  153.57408636,   72.62231062,\n",
       "         126.65701718,    0.        ,   44.55333882,   85.70297544,\n",
       "          86.05230967,   70.26378868,  117.64777941,   26.57066051,\n",
       "          94.86832981,   77.23341246,   97.80081799,   35.84689666,\n",
       "          33.06055051,   95.85405573,   27.45906044,   75.71657678,\n",
       "         129.24782397],\n",
       "       [  54.91812087,   49.2036584 ,  114.54256851,  109.62207807,\n",
       "         102.08329932,   44.55333882,    0.        ,   46.64761516,\n",
       "          65.19202405,   72.56721023,  111.5437134 ,   70.83078427,\n",
       "          51.42956348,   92.19544457,  123.45849505,   23.70653918,\n",
       "          58.        ,  125.49501982,   33.12099032,   39.8246155 ,\n",
       "          96.33275663],\n",
       "       [  19.79898987,   79.22752047,   68.35202996,  135.05924626,\n",
       "          63.78871374,   85.70297544,   46.64761516,    0.        ,\n",
       "          40.71854614,   72.34638899,   91.70605214,  109.29318368,\n",
       "          47.38143096,   98.4073168 ,  135.09256086,   51.0881591 ,\n",
       "          83.5463943 ,  141.15594213,   79.75587753,   62.62587325,\n",
       "          51.2249939 ],\n",
       "       [  59.68249325,   69.3181073 ,   82.03657721,  112.04017137,\n",
       "          40.60788101,   86.05230967,   65.19202405,   40.71854614,\n",
       "           0.        ,   39.29376541,   51.41984053,  102.41581909,\n",
       "          87.09190548,   65.19202405,  102.15674231,   52.49761899,\n",
       "          68.30812543,  110.3675677 ,   92.91393867,   96.0832972 ,\n",
       "          49.09175083],\n",
       "       [  92.09777413,   47.50789408,  121.20231021,   74.33034374,\n",
       "          71.58910532,   70.26378868,   72.56721023,   72.34638899,\n",
       "          39.29376541,    0.        ,   47.70744177,   77.07788269,\n",
       "         112.05802069,   26.41968963,   63.5295207 ,   50.15974482,\n",
       "          41.10960958,   71.16881339,   88.1192374 ,  111.3193604 ,\n",
       "          87.2811549 ],\n",
       "       [ 109.772492  ,   95.18928511,  112.32987136,  110.49434375,\n",
       "          50.60632372,  117.64777941,  111.5437134 ,   91.70605214,\n",
       "          51.41984053,   47.70744177,    0.        ,  124.19742348,\n",
       "         138.49548729,   55.94640292,   82.60750571,   92.64987858,\n",
       "          88.60022573,   94.36630755,  133.15029102,  146.21901381,\n",
       "          77.00649323],\n",
       "       [ 123.14625451,   33.10589071,  175.93464696,   52.        ,\n",
       "         142.39382009,   26.57066051,   70.83078427,  109.29318368,\n",
       "         102.41581909,   77.07788269,  124.19742348,    0.        ,\n",
       "         121.43310916,   74.73285757,   85.02352616,   58.21511831,\n",
       "          36.12478374,   80.0624756 ,   51.2249939 ,  101.71037312,\n",
       "         148.94629905],\n",
       "       [  33.95585369,  100.16985575,   91.67878708,  160.60510577,\n",
       "         109.3709285 ,   94.86832981,   51.42956348,   47.38143096,\n",
       "          87.09190548,  112.05802069,  138.49548729,  121.43310916,\n",
       "           0.        ,  136.03308421,  170.48460341,   72.00694411,\n",
       "         108.2266141 ,  174.09192974,   75.32595834,   29.54657341,\n",
       "          90.80198236],\n",
       "       [ 118.06777715,   54.00925847,  146.49232062,   54.7813837 ,\n",
       "          93.02150289,   77.23341246,   92.19544457,   98.4073168 ,\n",
       "          65.19202405,   26.41968963,   55.94640292,   74.73285757,\n",
       "         136.03308421,    0.        ,   37.12142239,   68.54195795,\n",
       "          44.18144407,   45.35416188,  100.40418318,  131.94695904,\n",
       "         111.80339887],\n",
       "       [ 154.61565251,   77.87810989,  182.84966503,   41.14608122,\n",
       "         126.8897159 ,   97.80081799,  123.45849505,  135.09256086,\n",
       "         102.15674231,   63.5295207 ,   82.60750571,   85.02352616,\n",
       "         170.48460341,   37.12142239,    0.        ,  100.        ,\n",
       "          67.54257916,   12.52996409,  124.31009613,  163.08280106,\n",
       "         147.70917372],\n",
       "       [  65.9241989 ,   29.41088234,  118.12705025,   89.06739022,\n",
       "          92.63368718,   35.84689666,   23.70653918,   51.0881591 ,\n",
       "          52.49761899,   50.15974482,   92.64987858,   58.21511831,\n",
       "          72.00694411,   68.54195795,  100.        ,    0.        ,\n",
       "          36.35931793,  102.55242562,   41.14608122,   63.5295207 ,\n",
       "          93.47726996],\n",
       "       [ 100.57832769,   10.44030651,  146.21901381,   52.77309921,\n",
       "         107.35455277,   33.06055051,   58.        ,   83.5463943 ,\n",
       "          68.30812543,   41.10960958,   88.60022573,   36.12478374,\n",
       "         108.2266141 ,   44.18144407,   67.54257916,   36.35931793,\n",
       "           0.        ,   68.00735254,   57.48912941,   96.67471231,\n",
       "         116.49892703],\n",
       "       [ 160.37767924,   77.93587107,  191.84629264,   31.78049716,\n",
       "         137.29530218,   95.85405573,  125.49501982,  141.15594213,\n",
       "         110.3675677 ,   71.16881339,   94.36630755,   80.0624756 ,\n",
       "         174.09192974,   45.35416188,   12.52996409,  102.55242562,\n",
       "          68.00735254,    0.        ,  123.00406497,  164.62381359,\n",
       "         157.08914667],\n",
       "       [  86.97700846,   47.07440918,  147.59742545,  100.        ,\n",
       "         132.13629327,   27.45906044,   33.12099032,   79.75587753,\n",
       "          92.91393867,   88.1192374 ,  133.15029102,   51.2249939 ,\n",
       "          75.32595834,  100.40418318,  124.31009613,   41.14608122,\n",
       "          57.48912941,  123.00406497,    0.        ,   51.623638  ,\n",
       "         128.84486796],\n",
       "       [  57.00877125,   87.1148667 ,  118.80235688,  146.50938536,\n",
       "         126.24183142,   75.71657678,   39.8246155 ,   62.62587325,\n",
       "          96.0832972 ,  111.3193604 ,  146.21901381,  101.71037312,\n",
       "          29.54657341,  131.94695904,  163.08280106,   63.5295207 ,\n",
       "          96.67471231,  164.62381359,   51.623638  ,    0.        ,\n",
       "         112.29425631],\n",
       "       [  56.92099788,  116.09048195,   35.77708764,  161.        ,\n",
       "          27.80287755,  129.24782397,   96.33275663,   51.2249939 ,\n",
       "          49.09175083,   87.2811549 ,   77.00649323,  148.94629905,\n",
       "          90.80198236,  111.80339887,  147.70917372,   93.47726996,\n",
       "         116.49892703,  157.08914667,  128.84486796,  112.29425631,    0.        ]])"
      ]
     },
     "execution_count": 244,
     "metadata": {},
     "output_type": "execute_result"
    }
   ],
   "source": [
    "distance_array"
   ]
  },
  {
   "cell_type": "code",
   "execution_count": 245,
   "metadata": {
    "collapsed": true
   },
   "outputs": [],
   "source": [
    "\"\"\"\n",
    "N：坐标点总数量\n",
    "coordinate_array：坐标数组\n",
    "distance_array：两点距离数组\n",
    "dp：动态规划的距离数组\n",
    "path：每个阶段的下一步的路径\n",
    "\"\"\"\n",
    "N = coordinate_array.shape[0]\n",
    "start = 0"
   ]
  },
  {
   "cell_type": "code",
   "execution_count": 246,
   "metadata": {
    "collapsed": true
   },
   "outputs": [],
   "source": [
    "class TSP:\n",
    "    def __init__(self, distance_array, start):\n",
    "        self.distance_array = distance_array\n",
    "        self.start = start\n",
    "        self.path = np.zeros((N, 2 ** N))\n",
    "        self.dp = np.zeros((N, 2 ** N))\n",
    "        \n",
    "    def set_transfer(self, l):\n",
    "        \"\"\"将未经过的点位集合转化内数字\"\"\"\n",
    "        s = 0\n",
    "        for i in range(0, len(l)):\n",
    "            s += 2 ** l[i]\n",
    "        return s\n",
    "\n",
    "    def tsp(self):\n",
    "        \"\"\"TSP接口\"\"\"\n",
    "        no_passed_list = [i for i in range(1, N)]\n",
    "        return self._tsp(self.start, no_passed_list)\n",
    "\n",
    "    def _tsp(self, init, s):\n",
    "        \"\"\"内部实现逻辑\"\"\"\n",
    "        if self.dp[init][self.set_transfer(s)] != 0:\n",
    "            return self.dp[init][self.set_transfer(s)]\n",
    "        if len(s) == 0:\n",
    "            return self.distance_array[init][self.start]\n",
    "\n",
    "        min_distance = float(\"inf\")\n",
    "\n",
    "        for i in range(len(s)):\n",
    "            no_passed_list_copy = s.copy()\n",
    "            no_passed_list_copy.pop(i)\n",
    "            distance = self.distance_array[init][s[i]] + self._tsp(s[i], no_passed_list_copy)\n",
    "            if distance < min_distance:\n",
    "                min_distance = distance\n",
    "                next_init = s[i]\n",
    "\n",
    "        no_passed_transfer_num = self.set_transfer(s)\n",
    "\n",
    "        self.path[init][no_passed_transfer_num] = next_init\n",
    "        self.dp[init][no_passed_transfer_num] = min_distance\n",
    "\n",
    "        return min_distance\n",
    "        "
   ]
  },
  {
   "cell_type": "code",
   "execution_count": 247,
   "metadata": {
    "scrolled": true
   },
   "outputs": [
    {
     "ename": "MemoryError",
     "evalue": "",
     "output_type": "error",
     "traceback": [
      "\u001b[1;31m---------------------------------------------------------------------------\u001b[0m",
      "\u001b[1;31mMemoryError\u001b[0m                               Traceback (most recent call last)",
      "\u001b[1;32m<ipython-input-247-2a71de1ea6b8>\u001b[0m in \u001b[0;36m<module>\u001b[1;34m()\u001b[0m\n\u001b[1;32m----> 1\u001b[1;33m \u001b[0mT\u001b[0m \u001b[1;33m=\u001b[0m \u001b[0mTSP\u001b[0m\u001b[1;33m(\u001b[0m\u001b[0mdistance_array\u001b[0m\u001b[1;33m,\u001b[0m \u001b[1;36m0\u001b[0m\u001b[1;33m)\u001b[0m\u001b[1;33m\u001b[0m\u001b[0m\n\u001b[0m\u001b[0;32m      2\u001b[0m \u001b[0mT\u001b[0m\u001b[1;33m.\u001b[0m\u001b[0mtsp\u001b[0m\u001b[1;33m(\u001b[0m\u001b[1;33m)\u001b[0m\u001b[1;33m\u001b[0m\u001b[0m\n",
      "\u001b[1;32m<ipython-input-246-ed585616b6db>\u001b[0m in \u001b[0;36m__init__\u001b[1;34m(self, distance_array, start)\u001b[0m\n\u001b[0;32m      3\u001b[0m         \u001b[0mself\u001b[0m\u001b[1;33m.\u001b[0m\u001b[0mdistance_array\u001b[0m \u001b[1;33m=\u001b[0m \u001b[0mdistance_array\u001b[0m\u001b[1;33m\u001b[0m\u001b[0m\n\u001b[0;32m      4\u001b[0m         \u001b[0mself\u001b[0m\u001b[1;33m.\u001b[0m\u001b[0mstart\u001b[0m \u001b[1;33m=\u001b[0m \u001b[0mstart\u001b[0m\u001b[1;33m\u001b[0m\u001b[0m\n\u001b[1;32m----> 5\u001b[1;33m         \u001b[0mself\u001b[0m\u001b[1;33m.\u001b[0m\u001b[0mpath\u001b[0m \u001b[1;33m=\u001b[0m \u001b[0mnp\u001b[0m\u001b[1;33m.\u001b[0m\u001b[0mzeros\u001b[0m\u001b[1;33m(\u001b[0m\u001b[1;33m(\u001b[0m\u001b[0mN\u001b[0m\u001b[1;33m,\u001b[0m \u001b[1;36m2\u001b[0m \u001b[1;33m**\u001b[0m \u001b[0mN\u001b[0m\u001b[1;33m)\u001b[0m\u001b[1;33m)\u001b[0m\u001b[1;33m\u001b[0m\u001b[0m\n\u001b[0m\u001b[0;32m      6\u001b[0m         \u001b[0mself\u001b[0m\u001b[1;33m.\u001b[0m\u001b[0mdp\u001b[0m \u001b[1;33m=\u001b[0m \u001b[0mnp\u001b[0m\u001b[1;33m.\u001b[0m\u001b[0mzeros\u001b[0m\u001b[1;33m(\u001b[0m\u001b[1;33m(\u001b[0m\u001b[0mN\u001b[0m\u001b[1;33m,\u001b[0m \u001b[1;36m2\u001b[0m \u001b[1;33m**\u001b[0m \u001b[0mN\u001b[0m\u001b[1;33m)\u001b[0m\u001b[1;33m)\u001b[0m\u001b[1;33m\u001b[0m\u001b[0m\n\u001b[0;32m      7\u001b[0m \u001b[1;33m\u001b[0m\u001b[0m\n",
      "\u001b[1;31mMemoryError\u001b[0m: "
     ]
    }
   ],
   "source": [
    "# 老电脑性能不行。。。\n",
    "T = TSP(distance_array, 0)\n",
    "T.tsp()"
   ]
  },
  {
   "cell_type": "code",
   "execution_count": null,
   "metadata": {},
   "outputs": [],
   "source": [
    "T.path"
   ]
  },
  {
   "cell_type": "code",
   "execution_count": null,
   "metadata": {},
   "outputs": [],
   "source": [
    "num_list = [i for i in range(T.distance_array)]\n",
    "start = 0\n",
    "while len(num_list) > 0:\n",
    "    num_list.pop(num_list.index(start))\n",
    "    m = T.set_transfer(num_list)\n",
    "    next = T.path[start][m]\n",
    "    print(start, '->', next)\n",
    "    start = next"
   ]
  },
  {
   "cell_type": "code",
   "execution_count": null,
   "metadata": {},
   "outputs": [],
   "source": [
    "tsp"
   ]
  },
  {
   "cell_type": "markdown",
   "metadata": {},
   "source": [
    "### 三个起始点"
   ]
  },
  {
   "cell_type": "markdown",
   "metadata": {},
   "source": [
    "给定一个初始点 𝑃, 已经 𝑘个车辆，如何从该点出发，经这 k 个车辆经过所以的点全部一次，而且所走过的路程最短?\n",
    "\n",
    "例如："
   ]
  },
  {
   "cell_type": "code",
   "execution_count": 313,
   "metadata": {
    "collapsed": true
   },
   "outputs": [],
   "source": [
    "#随机点位坐标\n",
    "coordinate_x = [random.randint(-100, 100) for _ in range(20)]\n",
    "coordinate_y = [random.randint(-100, 100) for _ in range(20)]"
   ]
  },
  {
   "cell_type": "code",
   "execution_count": 314,
   "metadata": {
    "collapsed": true
   },
   "outputs": [],
   "source": [
    "chosen_p1 = (-50, 10)\n",
    "chosen_p2 = (1, 30)\n",
    "chosen_p3 = (99, 15)"
   ]
  },
  {
   "cell_type": "code",
   "execution_count": 315,
   "metadata": {
    "scrolled": true
   },
   "outputs": [
    {
     "data": {
      "text/plain": [
       "<matplotlib.collections.PathCollection at 0x98d0990>"
      ]
     },
     "execution_count": 315,
     "metadata": {},
     "output_type": "execute_result"
    },
    {
     "data": {
      "image/png": "[encoded data removed]",
      "text/plain": [
       "<matplotlib.figure.Figure at 0x98452d0>"
      ]
     },
     "metadata": {},
     "output_type": "display_data"
    }
   ],
   "source": [
    "plt.scatter(coordinate_x, coordinate_y)\n",
    "plt.scatter([chosen_p1[0]], [chosen_p1[1]], color='r')\n",
    "plt.scatter([chosen_p2[0]], [chosen_p2[1]], color='r')\n",
    "plt.scatter([chosen_p3[0]], [chosen_p3[1]], color='r')"
   ]
  },
  {
   "cell_type": "markdown",
   "metadata": {},
   "source": [
    "#### 思路： 以三个点来划分三个区域，取两个点中心线平行y轴"
   ]
  },
  {
   "cell_type": "code",
   "execution_count": 316,
   "metadata": {
    "collapsed": true
   },
   "outputs": [],
   "source": [
    "chosen_sort = sorted([chosen_p1, chosen_p2, chosen_p3], key = lambda x:x[0])"
   ]
  },
  {
   "cell_type": "code",
   "execution_count": 323,
   "metadata": {},
   "outputs": [],
   "source": [
    "# 三个点两条分割线\n",
    "mid_line12 = (chosen_sort[1][0] + chosen_sort[0][0]) // 2\n",
    "mid_line23 = (chosen_sort[2][0] + chosen_sort[1][0]) // 2\n",
    "# 点位坐标集合\n",
    "coordinate_list = [(x, y) for x, y in zip(coordinate_x, coordinate_y)]"
   ]
  },
  {
   "cell_type": "code",
   "execution_count": 324,
   "metadata": {},
   "outputs": [
    {
     "data": {
      "text/plain": [
       "[(-13, 38), (15, -6), (43, -75), (24, -87)]"
      ]
     },
     "execution_count": 324,
     "metadata": {},
     "output_type": "execute_result"
    }
   ],
   "source": [
    "#将点位根据分割线分为三部分\n",
    "coordinate_list_1 = []\n",
    "coordinate_list_2 = []\n",
    "coordinate_list_3 = []\n",
    "for coord in coordinate_list:\n",
    "    if coord[0] <= mid_line12:\n",
    "        coordinate_list_1.append(coord)\n",
    "    elif mid_line12 < coord[0] <= mid_line23:\n",
    "        coordinate_list_2.append(coord)\n",
    "    else:\n",
    "        coordinate_list_3.append(coord)\n",
    "coordinate_list_2"
   ]
  },
  {
   "cell_type": "code",
   "execution_count": 325,
   "metadata": {
    "collapsed": true
   },
   "outputs": [],
   "source": [
    "def get_shortest_path(start,coordinate_list):\n",
    "    \"\"\"获得最短路径\"\"\"\n",
    "    path = [start]\n",
    "    for i in range(len(coordinate_list)):\n",
    "        shortest_distance = float(\"inf\")\n",
    "        shortest_distance_coord = None\n",
    "        for j in range(len(coordinate_list)):\n",
    "            current_distance = get_distance(coordinate_list[j], start)\n",
    "            if current_distance < shortest_distance:\n",
    "                shortest_distance = current_distance\n",
    "                shortest_distance_coord = coordinate_list[j]\n",
    "        path.append(shortest_distance_coord)\n",
    "        start = coordinate_list.pop(coordinate_list.index(shortest_distance_coord))\n",
    "    return path"
   ]
  },
  {
   "cell_type": "code",
   "execution_count": 326,
   "metadata": {},
   "outputs": [],
   "source": [
    "# 获取最短路径\n",
    "shortest_path_1 = get_shortest_path(chosen_p1, coordinate_list_1)\n",
    "shortest_path_2 = get_shortest_path(chosen_p2, coordinate_list_2)\n",
    "shortest_path_3 = get_shortest_path(chosen_p3, coordinate_list_3)"
   ]
  },
  {
   "cell_type": "code",
   "execution_count": 329,
   "metadata": {},
   "outputs": [],
   "source": [
    "# 计算路径\n",
    "distance = 0\n",
    "for path in [shortest_path_1,shortest_path_2,shortest_path_3]:\n",
    "    for index, coord in enumerate(path[:-1]):\n",
    "        distance += get_distance(path[index], path[index + 1])"
   ]
  },
  {
   "cell_type": "code",
   "execution_count": 330,
   "metadata": {},
   "outputs": [
    {
     "data": {
      "text/plain": [
       "889.7342194274264"
      ]
     },
     "execution_count": 330,
     "metadata": {},
     "output_type": "execute_result"
    }
   ],
   "source": [
    "distance"
   ]
  },
  {
   "cell_type": "code",
   "execution_count": 327,
   "metadata": {},
   "outputs": [
    {
     "data": {
      "text/plain": [
       "[<matplotlib.lines.Line2D at 0x9976350>]"
      ]
     },
     "execution_count": 327,
     "metadata": {},
     "output_type": "execute_result"
    },
    {
     "data": {
      "image/png": "[encoded data removed]",
      "text/plain": [
       "<matplotlib.figure.Figure at 0x98f5850>"
      ]
     },
     "metadata": {},
     "output_type": "display_data"
    }
   ],
   "source": [
    "# 画图\n",
    "plt.scatter(coordinate_x, coordinate_y)\n",
    "plt.scatter([chosen_p1[0]], [chosen_p1[1]], color='r')\n",
    "plt.scatter([chosen_p2[0]], [chosen_p2[1]], color='r')\n",
    "plt.scatter([chosen_p3[0]], [chosen_p3[1]], color='r')\n",
    "X1 = [x[0] for x in shortest_path_1]\n",
    "Y1 = [y[1] for y in shortest_path_1]\n",
    "X2 = [x[0] for x in shortest_path_2]\n",
    "Y2 = [y[1] for y in shortest_path_2]\n",
    "X3 = [x[0] for x in shortest_path_3]\n",
    "Y3 = [y[1] for y in shortest_path_3]\n",
    "plt.plot(X1, Y1, color=\"black\")\n",
    "plt.plot(X2, Y2, color=\"black\")\n",
    "plt.plot(X3, Y3, color=\"black\")"
   ]
  },
  {
   "cell_type": "markdown",
   "metadata": {},
   "source": [
    "shuro"
   ]
  }
 ],
 "metadata": {
  "kernelspec": {
   "display_name": "Python 3",
   "language": "python",
   "name": "python3"
  },
  "language_info": {
   "codemirror_mode": {
    "name": "ipython",
    "version": 3
   },
   "file_extension": ".py",
   "mimetype": "text/x-python",
   "name": "python",
   "nbconvert_exporter": "python",
   "pygments_lexer": "ipython3",
   "version": "3.6.3"
  }
 },
 "nbformat": 4,
 "nbformat_minor": 2
}
