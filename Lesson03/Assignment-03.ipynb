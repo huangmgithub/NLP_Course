{
 "cells": [
  {
   "cell_type": "markdown",
   "metadata": {},
   "source": [
    "## Lecture-03 Gradient Descent and Dymanic Programming"
   ]
  },
  {
   "cell_type": "markdown",
   "metadata": {},
   "source": [
    "In this week, we need complete following tasks:\n",
    "+ Re-review the course online programming; \n",
    "+ Choose 1 - 2 books which you interested and keep reading; \n",
    "+ Answer the review questions\n",
    "+ Prepare the basic requirement of our 1st project. "
   ]
  },
  {
   "cell_type": "markdown",
   "metadata": {},
   "source": [
    "### Part I Review the online programming. "
   ]
  },
  {
   "cell_type": "markdown",
   "metadata": {},
   "source": [
    "#### ① 导数"
   ]
  },
  {
   "cell_type": "code",
   "execution_count": 79,
   "metadata": {
    "collapsed": true
   },
   "outputs": [],
   "source": [
    "from sklearn.datasets import load_boston"
   ]
  },
  {
   "cell_type": "code",
   "execution_count": 80,
   "metadata": {
    "collapsed": true
   },
   "outputs": [],
   "source": [
    "data = load_boston()"
   ]
  },
  {
   "cell_type": "code",
   "execution_count": 81,
   "metadata": {
    "collapsed": true
   },
   "outputs": [],
   "source": [
    "X, Y = data['data'], data['target']"
   ]
  },
  {
   "cell_type": "code",
   "execution_count": 82,
   "metadata": {
    "collapsed": true
   },
   "outputs": [],
   "source": [
    "# X[:, 5]"
   ]
  },
  {
   "cell_type": "code",
   "execution_count": 83,
   "metadata": {
    "collapsed": true
   },
   "outputs": [],
   "source": [
    "def price(rm , k ,b):\n",
    "    \"\"\"Price Function\"\"\"\n",
    "    return k * rm + b"
   ]
  },
  {
   "cell_type": "code",
   "execution_count": 84,
   "metadata": {
    "collapsed": true
   },
   "outputs": [],
   "source": [
    "def loss(y, y_hat):\n",
    "    \"\"\"Loss Function\"\"\"\n",
    "    return sum((y_i - y_hat_i) ** 2 for y_i, y_hat_i in zip(list(y), list(y_hat))) / len(y)"
   ]
  },
  {
   "cell_type": "markdown",
   "metadata": {},
   "source": [
    "#### 公式"
   ]
  },
  {
   "cell_type": "markdown",
   "metadata": {},
   "source": [
    "#### loss\n",
    "$$ loss = \\frac{1}{n} \\sum{(y_i - \\hat{y_i})}^2$$"
   ]
  },
  {
   "cell_type": "markdown",
   "metadata": {},
   "source": [
    "$$ loss = \\frac{1}{n} \\sum{(y_i - (kx_i + b_i))}^2 $$"
   ]
  },
  {
   "cell_type": "markdown",
   "metadata": {},
   "source": [
    "#### loss 对k求偏导\n",
    "$$ \\frac{\\partial{loss}}{\\partial{k}} = -\\frac{2}{n}\\sum(y_i - (kx_i + b_i))x_i$$"
   ]
  },
  {
   "cell_type": "markdown",
   "metadata": {},
   "source": [
    "$$ \\frac{\\partial{loss}}{\\partial{k}} = -\\frac{2}{n}\\sum(y_i - \\hat{y_i})x_i$$"
   ]
  },
  {
   "cell_type": "markdown",
   "metadata": {},
   "source": [
    "#### loss 对b求偏导\n",
    "$$ \\frac{\\partial{loss}}{\\partial{b}} = -\\frac{2}{n}\\sum(y_i - \\hat{y_i})$$"
   ]
  },
  {
   "cell_type": "markdown",
   "metadata": {},
   "source": [
    "#### 导数"
   ]
  },
  {
   "cell_type": "code",
   "execution_count": 85,
   "metadata": {
    "collapsed": true
   },
   "outputs": [],
   "source": [
    "def partial_k(x, y ,y_hat):\n",
    "    \"\"\"k 偏导\"\"\"\n",
    "    gradient = 0\n",
    "    n = len(y)\n",
    "    \n",
    "    for x_i, y_i, y_hat_i in zip(list(x), list(y), list(y_hat)):\n",
    "        gradient += (y_i - y_hat_i) * x_i\n",
    "    \n",
    "    return -2 / n * gradient"
   ]
  },
  {
   "cell_type": "code",
   "execution_count": 86,
   "metadata": {
    "collapsed": true
   },
   "outputs": [],
   "source": [
    "def partial_b(y, y_hat):\n",
    "    \"\"\"b 偏导\"\"\"\n",
    "    gradient = 0\n",
    "    n = len(y)\n",
    "    \n",
    "    for y_i, y_hat_i in zip(list(y), list(y_hat)):\n",
    "        gradient += (y_i - y_hat_i)\n",
    "    \n",
    "    return -2 / n * gradient"
   ]
  },
  {
   "cell_type": "code",
   "execution_count": 87,
   "metadata": {
    "collapsed": true
   },
   "outputs": [],
   "source": [
    "import random"
   ]
  },
  {
   "cell_type": "code",
   "execution_count": 88,
   "metadata": {
    "scrolled": true
   },
   "outputs": [
    {
     "name": "stdout",
     "output_type": "stream",
     "text": [
      "when time is 0, best_k is -86.24533369178393, best_b is 97.47395405497258, loss is 222685.77762429838\n",
      "when time is 50, best_k is -53.15715495712492, best_b is -53.07445274712201, loss is 169791.54095768862\n",
      "when time is 100, best_k is -32.22287071791648, best_b is -32.17094686401081, loss is 67043.38328375458\n",
      "when time is 150, best_k is -19.070693690515487, best_b is -19.0381066519209, loss is 26492.121848678977\n",
      "when time is 200, best_k is -10.807704682459722, best_b is -10.787266194788177, loss is 10488.958191576288\n",
      "when time is 250, best_k is -5.61639778284885, best_b is -5.603591745875906, loss is 4174.13213767116\n",
      "when time is 300, best_k is -2.354906414571145, best_b is -2.3468955423907425, loss is 1682.7302858226294\n",
      "when time is 350, best_k is -0.30584128491230433, best_b is -0.3008430237916554, loss is 700.0559311689634\n",
      "when time is 400, best_k is 0.9815047269218431, best_b is 0.9846102844983997, loss is 312.6291269938975\n",
      "when time is 450, best_k is 1.790292954390831, best_b is 1.7922094017122747, loss is 159.98740568649558\n",
      "when time is 500, best_k is 2.298422385700788, best_b is 2.2995917624082267, loss is 99.91387512019476\n",
      "when time is 550, best_k is 2.6176598698706233, best_b is 2.618359891865233, loss is 76.31265690913908\n",
      "when time is 600, best_k is 2.818224066745337, best_b is 2.818629211867099, loss is 67.06639509745257\n",
      "when time is 650, best_k is 2.9442305636722406, best_b is 2.9444504493989996, loss is 63.460393377799406\n",
      "when time is 700, best_k is 3.0233954271683303, best_b is 3.023498921795626, loss is 62.064456336056\n",
      "when time is 750, best_k is 3.0731315579647465, best_b is 3.0731619286998155, loss is 61.53067348544351\n",
      "when time is 800, best_k is 3.1043787880786513, best_b is 3.104363217984576, loss is 61.330795107529624\n",
      "when time is 850, best_k is 3.124010178260326, best_b is 3.123965745373007, loss is 61.258693380171906\n",
      "when time is 900, best_k is 3.136343798842386, best_b is 3.136281232611605, loss is 61.2345014634732\n",
      "when time is 950, best_k is 3.144092521436886, best_b is 3.144018562748613, loss is 61.2276336997384\n"
     ]
    }
   ],
   "source": [
    "try_times = 2000\n",
    "\n",
    "X, Y = data['data'], data['target']\n",
    "X_rm = X[:, 5]\n",
    "\n",
    "min_loss = float('inf') #无穷大\n",
    "\n",
    "k = random.random() * 200 - 100\n",
    "b = random.random() * 200 - 100\n",
    "\n",
    "rate = 1e-4\n",
    "\n",
    "time_log = 0\n",
    "\n",
    "for i in range(try_times):\n",
    "    price_by_k_and_b = [price(rm, k, b) for rm in X_rm]\n",
    "    current_loss = loss(Y, price_by_k_and_b)\n",
    "    \n",
    "    \n",
    "    if current_loss < min_loss:\n",
    "        min_loss = current_loss\n",
    "        \n",
    "        if i % 50 == 0:\n",
    "            print(\"when time is {}, best_k is {}, best_b is {}, loss is {}\".format(i, k, b, min_loss))\n",
    "            \n",
    "    k_gradient = partial_k(X_rm, Y, price_by_k_and_b)\n",
    "    b_gradient = partial_b(Y, price_by_k_and_b)\n",
    "    k = k + (-1 * k_gradient) * rate  # k与偏导方向相反\n",
    "    b = k + (-1 * b_gradient) * rate  # b与偏导方向相反\n",
    "    "
   ]
  },
  {
   "cell_type": "code",
   "execution_count": 89,
   "metadata": {
    "collapsed": true
   },
   "outputs": [],
   "source": [
    "import matplotlib.pyplot as plt\n",
    "%matplotlib inline"
   ]
  },
  {
   "cell_type": "code",
   "execution_count": 90,
   "metadata": {
    "collapsed": true
   },
   "outputs": [],
   "source": [
    "def draw_rm_price():\n",
    "    plt.scatter(X[:, 5], Y)"
   ]
  },
  {
   "cell_type": "code",
   "execution_count": 91,
   "metadata": {
    "scrolled": true
   },
   "outputs": [
    {
     "data": {
      "image/png": "[encoded data removed]",
      "text/plain": [
       "<matplotlib.figure.Figure at 0x7efaf50>"
      ]
     },
     "metadata": {},
     "output_type": "display_data"
    }
   ],
   "source": [
    "draw_rm_price()"
   ]
  },
  {
   "cell_type": "code",
   "execution_count": 92,
   "metadata": {},
   "outputs": [
    {
     "data": {
      "text/plain": [
       "<matplotlib.collections.PathCollection at 0x790abb0>"
      ]
     },
     "execution_count": 92,
     "metadata": {},
     "output_type": "execute_result"
    },
    {
     "data": {
      "image/png": "[encoded data removed]",
      "text/plain": [
       "<matplotlib.figure.Figure at 0x78d8850>"
      ]
     },
     "metadata": {},
     "output_type": "display_data"
    }
   ],
   "source": [
    "k = 11\n",
    "b = -45\n",
    "draw_rm_price()\n",
    "plt.scatter(X[:, 5], price(X[:, 5], k, b))"
   ]
  },
  {
   "cell_type": "markdown",
   "metadata": {},
   "source": [
    "#### ② 动态规划"
   ]
  },
  {
   "cell_type": "code",
   "execution_count": 93,
   "metadata": {
    "collapsed": true
   },
   "outputs": [],
   "source": [
    "from collections import defaultdict"
   ]
  },
  {
   "cell_type": "code",
   "execution_count": 94,
   "metadata": {
    "collapsed": true
   },
   "outputs": [],
   "source": [
    "original_price = [1, 5, 8, 9, 10, 17, 17, 20, 24, 30, 35]"
   ]
  },
  {
   "cell_type": "code",
   "execution_count": 95,
   "metadata": {
    "collapsed": true
   },
   "outputs": [],
   "source": [
    "price = defaultdict(int)"
   ]
  },
  {
   "cell_type": "code",
   "execution_count": 96,
   "metadata": {
    "collapsed": true
   },
   "outputs": [],
   "source": [
    "for i, p in enumerate(original_price):\n",
    "    price[i + 1] = p"
   ]
  },
  {
   "cell_type": "code",
   "execution_count": 97,
   "metadata": {
    "scrolled": true
   },
   "outputs": [
    {
     "data": {
      "text/plain": [
       "defaultdict(int,\n",
       "            {1: 1,\n",
       "             2: 5,\n",
       "             3: 8,\n",
       "             4: 9,\n",
       "             5: 10,\n",
       "             6: 17,\n",
       "             7: 17,\n",
       "             8: 20,\n",
       "             9: 24,\n",
       "             10: 30,\n",
       "             11: 35})"
      ]
     },
     "execution_count": 97,
     "metadata": {},
     "output_type": "execute_result"
    }
   ],
   "source": [
    "price"
   ]
  },
  {
   "cell_type": "markdown",
   "metadata": {},
   "source": [
    "##### python函数式编程"
   ]
  },
  {
   "cell_type": "code",
   "execution_count": 98,
   "metadata": {
    "collapsed": true
   },
   "outputs": [],
   "source": [
    "def example(f, arg):\n",
    "    return f(arg)"
   ]
  },
  {
   "cell_type": "code",
   "execution_count": 99,
   "metadata": {
    "collapsed": true
   },
   "outputs": [],
   "source": [
    "def add_ten(num):\n",
    "    return num + 10"
   ]
  },
  {
   "cell_type": "code",
   "execution_count": 100,
   "metadata": {
    "collapsed": true
   },
   "outputs": [],
   "source": [
    "def mul_ten(num):\n",
    "    return num * 10 "
   ]
  },
  {
   "cell_type": "code",
   "execution_count": 101,
   "metadata": {},
   "outputs": [
    {
     "name": "stdout",
     "output_type": "stream",
     "text": [
      "110\n",
      "1000\n"
     ]
    }
   ],
   "source": [
    "operations = [add_ten, mul_ten]\n",
    "\n",
    "for f in operations:\n",
    "    print(example(f, 100))"
   ]
  },
  {
   "cell_type": "markdown",
   "metadata": {},
   "source": [
    "#### 装饰器"
   ]
  },
  {
   "cell_type": "markdown",
   "metadata": {},
   "source": [
    "#### 无参数"
   ]
  },
  {
   "cell_type": "code",
   "execution_count": 102,
   "metadata": {
    "collapsed": true
   },
   "outputs": [],
   "source": [
    "called_time = defaultdict(int)\n",
    "\n",
    "def get_call_times(f):\n",
    "    result = f()\n",
    "    \n",
    "    print('function: {} called once! '.format(f.__name__))\n",
    "    called_time[f.__name__] += 1\n",
    "    \n",
    "    return result"
   ]
  },
  {
   "cell_type": "code",
   "execution_count": 103,
   "metadata": {
    "collapsed": true
   },
   "outputs": [],
   "source": [
    "def some_funcion_1(): \n",
    "    print('I am function 1')"
   ]
  },
  {
   "cell_type": "code",
   "execution_count": 104,
   "metadata": {},
   "outputs": [
    {
     "name": "stdout",
     "output_type": "stream",
     "text": [
      "I am function 1\n",
      "function: some_funcion_1 called once! \n"
     ]
    }
   ],
   "source": [
    "get_call_times(some_funcion_1)"
   ]
  },
  {
   "cell_type": "code",
   "execution_count": 105,
   "metadata": {},
   "outputs": [
    {
     "data": {
      "text/plain": [
       "defaultdict(int, {'some_funcion_1': 1})"
      ]
     },
     "execution_count": 105,
     "metadata": {},
     "output_type": "execute_result"
    }
   ],
   "source": [
    "called_time"
   ]
  },
  {
   "cell_type": "markdown",
   "metadata": {},
   "source": [
    "#### 有参数"
   ]
  },
  {
   "cell_type": "code",
   "execution_count": 106,
   "metadata": {
    "collapsed": true
   },
   "outputs": [],
   "source": [
    "from functools import wraps"
   ]
  },
  {
   "cell_type": "code",
   "execution_count": 107,
   "metadata": {
    "collapsed": true
   },
   "outputs": [],
   "source": [
    "called_time_with_arg = defaultdict(int)\n",
    "def get_call_time(f):\n",
    "    @wraps(f)\n",
    "    def wrap(n):\n",
    "        result = f(n)\n",
    "        \n",
    "        called_time_with_arg[(f.__name__, n)] += 1\n",
    "        \n",
    "        return result\n",
    "    return wrap"
   ]
  },
  {
   "cell_type": "code",
   "execution_count": 108,
   "metadata": {
    "collapsed": true
   },
   "outputs": [],
   "source": [
    "def add_ten(n): return n + 10"
   ]
  },
  {
   "cell_type": "code",
   "execution_count": 109,
   "metadata": {},
   "outputs": [
    {
     "data": {
      "text/plain": [
       "20"
      ]
     },
     "execution_count": 109,
     "metadata": {},
     "output_type": "execute_result"
    }
   ],
   "source": [
    "add_ten = get_call_time(add_ten)\n",
    "add_ten(10)"
   ]
  },
  {
   "cell_type": "markdown",
   "metadata": {},
   "source": [
    "#### @"
   ]
  },
  {
   "cell_type": "code",
   "execution_count": 110,
   "metadata": {
    "collapsed": true
   },
   "outputs": [],
   "source": [
    "@get_call_time\n",
    "def add_twenty(n): \n",
    "    return n + 20"
   ]
  },
  {
   "cell_type": "code",
   "execution_count": 111,
   "metadata": {
    "collapsed": true
   },
   "outputs": [],
   "source": [
    "# 相当于 add_twenty = get_call_time(add_twenty)"
   ]
  },
  {
   "cell_type": "code",
   "execution_count": 112,
   "metadata": {},
   "outputs": [
    {
     "data": {
      "text/plain": [
       "29"
      ]
     },
     "execution_count": 112,
     "metadata": {},
     "output_type": "execute_result"
    }
   ],
   "source": [
    "add_twenty(9)"
   ]
  },
  {
   "cell_type": "markdown",
   "metadata": {},
   "source": [
    "#### ③ Cutting Problem"
   ]
  },
  {
   "cell_type": "code",
   "execution_count": 113,
   "metadata": {
    "collapsed": true
   },
   "outputs": [],
   "source": [
    "solution = {}"
   ]
  },
  {
   "cell_type": "code",
   "execution_count": 114,
   "metadata": {},
   "outputs": [
    {
     "data": {
      "text/plain": [
       "defaultdict(int,\n",
       "            {1: 1,\n",
       "             2: 5,\n",
       "             3: 8,\n",
       "             4: 9,\n",
       "             5: 10,\n",
       "             6: 17,\n",
       "             7: 17,\n",
       "             8: 20,\n",
       "             9: 24,\n",
       "             10: 30,\n",
       "             11: 35})"
      ]
     },
     "execution_count": 114,
     "metadata": {},
     "output_type": "execute_result"
    }
   ],
   "source": [
    "price"
   ]
  },
  {
   "cell_type": "code",
   "execution_count": 115,
   "metadata": {
    "collapsed": true
   },
   "outputs": [],
   "source": [
    "def r(n):\n",
    "    max_price, max_split = max([(price[n], 0)] + [(r(n - i) + r(i), i) for i in range(1, n)])\n",
    "    solution[n] = [n - max_split, max_split]\n",
    "    return max_price"
   ]
  },
  {
   "cell_type": "code",
   "execution_count": 116,
   "metadata": {
    "scrolled": true
   },
   "outputs": [
    {
     "data": {
      "text/plain": [
       "30"
      ]
     },
     "execution_count": 116,
     "metadata": {},
     "output_type": "execute_result"
    }
   ],
   "source": [
    "r(10)"
   ]
  },
  {
   "cell_type": "code",
   "execution_count": 117,
   "metadata": {
    "scrolled": true
   },
   "outputs": [
    {
     "data": {
      "text/plain": [
       "{1: [1, 0],\n",
       " 2: [2, 0],\n",
       " 3: [3, 0],\n",
       " 4: [2, 2],\n",
       " 5: [2, 3],\n",
       " 6: [6, 0],\n",
       " 7: [1, 6],\n",
       " 8: [2, 6],\n",
       " 9: [3, 6],\n",
       " 10: [10, 0]}"
      ]
     },
     "execution_count": 117,
     "metadata": {},
     "output_type": "execute_result"
    }
   ],
   "source": [
    "solution"
   ]
  },
  {
   "cell_type": "code",
   "execution_count": 118,
   "metadata": {
    "collapsed": true
   },
   "outputs": [],
   "source": [
    "def parse_solution(n):\n",
    "    left_split, right_split = solution[n]\n",
    "    \n",
    "    if right_split == 0: return [left_split]\n",
    "    \n",
    "    return parse_solution(left_split) + parse_solution(right_split)"
   ]
  },
  {
   "cell_type": "code",
   "execution_count": 119,
   "metadata": {
    "collapsed": true
   },
   "outputs": [],
   "source": [
    "#r(105)"
   ]
  },
  {
   "cell_type": "code",
   "execution_count": 120,
   "metadata": {
    "collapsed": true
   },
   "outputs": [],
   "source": [
    "#parse_solution(105)"
   ]
  },
  {
   "cell_type": "markdown",
   "metadata": {},
   "source": [
    "### Dynamic Programming"
   ]
  },
  {
   "cell_type": "markdown",
   "metadata": {},
   "source": [
    "+ 1.Overlapping Subproblems\n",
    "+ 2.Overlapping computing saved in a table\n",
    "+ 3.Parse solution"
   ]
  },
  {
   "cell_type": "code",
   "execution_count": 121,
   "metadata": {
    "collapsed": true
   },
   "outputs": [],
   "source": [
    "def memo(f): \n",
    "    memo.already_computed = {}\n",
    "    @wraps(f)\n",
    "    def wrap(arg):\n",
    "        result = None\n",
    "        \n",
    "        if arg in memo.already_computed: \n",
    "            result = memo.already_computed[arg]\n",
    "        else:\n",
    "            result = f(arg)\n",
    "            memo.already_computed[arg] = result\n",
    "        \n",
    "        return result\n",
    "    \n",
    "    return wrap"
   ]
  },
  {
   "cell_type": "code",
   "execution_count": 122,
   "metadata": {
    "collapsed": true
   },
   "outputs": [],
   "source": [
    "@memo\n",
    "def r(n):\n",
    "    max_price, max_split = max([(price[n], 0)] + [(r(n - i) + r(i), i) for i in range(1, n)])\n",
    "    solution[n] = [n - max_split, max_split]\n",
    "    return max_price"
   ]
  },
  {
   "cell_type": "code",
   "execution_count": 123,
   "metadata": {
    "collapsed": true,
    "scrolled": true
   },
   "outputs": [],
   "source": [
    "#r(20)"
   ]
  },
  {
   "cell_type": "code",
   "execution_count": 124,
   "metadata": {
    "collapsed": true
   },
   "outputs": [],
   "source": [
    "#r(105)"
   ]
  },
  {
   "cell_type": "code",
   "execution_count": 125,
   "metadata": {
    "collapsed": true
   },
   "outputs": [],
   "source": [
    "def parse_solution(n):\n",
    "    left_split, right_split = solution[n]\n",
    "    \n",
    "    if right_split == 0: return [left_split]\n",
    "    \n",
    "    return parse_solution(left_split) + parse_solution(right_split)"
   ]
  },
  {
   "cell_type": "code",
   "execution_count": 126,
   "metadata": {},
   "outputs": [
    {
     "data": {
      "text/plain": [
       "332"
      ]
     },
     "execution_count": 126,
     "metadata": {},
     "output_type": "execute_result"
    }
   ],
   "source": [
    "r(105)"
   ]
  },
  {
   "cell_type": "code",
   "execution_count": 127,
   "metadata": {},
   "outputs": [
    {
     "data": {
      "text/plain": [
       "[6, 11, 11, 11, 11, 11, 11, 11, 11, 11]"
      ]
     },
     "execution_count": 127,
     "metadata": {},
     "output_type": "execute_result"
    }
   ],
   "source": [
    "parse_solution(105)"
   ]
  },
  {
   "cell_type": "code",
   "execution_count": 128,
   "metadata": {},
   "outputs": [
    {
     "data": {
      "text/plain": [
       "<function __main__.r>"
      ]
     },
     "execution_count": 128,
     "metadata": {},
     "output_type": "execute_result"
    }
   ],
   "source": [
    "r   #不加@wraps(f) r对应的函数是wrap"
   ]
  },
  {
   "cell_type": "code",
   "execution_count": 129,
   "metadata": {},
   "outputs": [
    {
     "data": {
      "text/plain": [
       "defaultdict(int, {('add_ten', 10): 1, ('add_twenty', 9): 1})"
      ]
     },
     "execution_count": 129,
     "metadata": {},
     "output_type": "execute_result"
    }
   ],
   "source": [
    "called_time_with_arg"
   ]
  },
  {
   "cell_type": "markdown",
   "metadata": {},
   "source": [
    "### Part 2: change loss function from $loss = \\frac{1}{n}\\sum{(y_i - \\hat(y_i))^2}$ to $loss = \\frac{1}{n}\\sum{|y_i - \\hat{y_i}|}$, and using your mathmatical knowledge to get the right partial formual. Implemen the gradient descent code."
   ]
  },
  {
   "cell_type": "markdown",
   "metadata": {},
   "source": [
    "#### 公式\n",
    "$$ loss = \\frac{1}{n}\\sum{|y_i - \\hat{y_i}|} $$"
   ]
  },
  {
   "cell_type": "markdown",
   "metadata": {},
   "source": [
    "$$ loss = \\frac{1}{n} \\sum{|y_i - (kx_i + b_i)|} $$"
   ]
  },
  {
   "cell_type": "markdown",
   "metadata": {},
   "source": [
    "#### 对k求偏导  \n",
    "$$ loss = \\frac{1}{n} \\sum{(-x_i)}$$\n",
    "$$ loss = \\frac{1}{n} \\sum{(x_i)}$$"
   ]
  },
  {
   "cell_type": "markdown",
   "metadata": {},
   "source": [
    "$$ loss = \\frac{1}{n} \\sum{\\frac{|y_i - (kx_i + b_i)|x_i}{y_i - (kx_i + b_i)}} $$\n",
    "$$ loss = \\frac{1}{n} \\sum{\\frac{|y_i - \\hat{y_i})|x_i}{y_i - \\hat{y_i}}} $$\n",
    "$$ y_i != (kx_i + b_i) $$"
   ]
  },
  {
   "cell_type": "markdown",
   "metadata": {},
   "source": [
    "#### 对b求偏导\n",
    "$$ loss = \\frac{1}{n} \\sum{(-1)}$$\n",
    "$$ loss = \\frac{1}{n} \\sum{(1)}$$"
   ]
  },
  {
   "cell_type": "markdown",
   "metadata": {},
   "source": [
    "$$ loss = \\frac{1}{n} \\sum{\\frac{|y_i - (kx_i + b_i)|}{y_i - (kx_i + b_i)}} $$\n",
    "$$ loss = \\frac{1}{n} \\sum{\\frac{|y_i - \\hat{y_i})|}{y_i - \\hat{y_i}}} $$\n",
    "$$ y_i != (kx_i + b_i) $$"
   ]
  },
  {
   "cell_type": "markdown",
   "metadata": {},
   "source": [
    "##### ？？？？？问题很大"
   ]
  },
  {
   "cell_type": "code",
   "execution_count": 130,
   "metadata": {
    "collapsed": true
   },
   "outputs": [],
   "source": [
    "def price(rm , k ,b):\n",
    "    \"\"\"Price Function\"\"\"\n",
    "    return k * rm + b"
   ]
  },
  {
   "cell_type": "code",
   "execution_count": 131,
   "metadata": {
    "collapsed": true
   },
   "outputs": [],
   "source": [
    "def loss_abs(y, y_hat):\n",
    "    \"\"\"Loss Function\"\"\"\n",
    "    return sum(abs(y_i - y_hat_i) for y_i, y_hat_i in zip(list(y), list(y_hat))) / len(y)"
   ]
  },
  {
   "cell_type": "code",
   "execution_count": 132,
   "metadata": {
    "collapsed": true
   },
   "outputs": [],
   "source": [
    "def partial_k(x, y ,y_hat):\n",
    "    \"\"\"k 偏导\"\"\"\n",
    "    gradient = 0\n",
    "    n = len(y)\n",
    "    \n",
    "    for x_i, y_i, y_hat_i in zip(list(x), list(y), list(y_hat)):\n",
    "        if y_i == y_hat_i:\n",
    "            continue\n",
    "        gradient += abs(y_i - y_hat_i) / (y_i - y_hat_i) * x_i \n",
    "    \n",
    "    return 1 / n * gradient"
   ]
  },
  {
   "cell_type": "code",
   "execution_count": 133,
   "metadata": {
    "collapsed": true
   },
   "outputs": [],
   "source": [
    "def partial_b(y, y_hat):\n",
    "    \"\"\"b 偏导\"\"\"\n",
    "    gradient = 0\n",
    "    n = len(y)\n",
    "    \n",
    "    for y_i, y_hat_i in zip(list(y), list(y_hat)):\n",
    "        if y_i == y_hat_i:\n",
    "            continue\n",
    "        gradient += abs(y_i - y_hat_i) / (y_i - y_hat_i)\n",
    "    \n",
    "    return 1 / n * gradient"
   ]
  },
  {
   "cell_type": "code",
   "execution_count": 134,
   "metadata": {},
   "outputs": [
    {
     "name": "stdout",
     "output_type": "stream",
     "text": [
      "when time is 0, best_k is -49.41262029208473, best_b is -48.15737439821248, loss is 381.23043337911474\n",
      "when time is 1, best_k is -48.78415685334955, best_b is -48.68415685334955, loss is 377.8075528959835\n",
      "when time is 2, best_k is -48.15569341461437, best_b is -48.05569341461437, loss is 373.22942651897984\n",
      "when time is 3, best_k is -47.52722997587919, best_b is -47.427229975879186, loss is 368.65130014197644\n",
      "when time is 4, best_k is -46.898766537144006, best_b is -46.798766537144004, loss is 364.0731737649728\n",
      "when time is 5, best_k is -46.270303098408824, best_b is -46.17030309840882, loss is 359.49504738796924\n",
      "when time is 6, best_k is -45.64183965967364, best_b is -45.54183965967364, loss is 354.91692101096555\n",
      "when time is 7, best_k is -45.01337622093846, best_b is -44.91337622093846, loss is 350.3387946339618\n",
      "when time is 8, best_k is -44.38491278220328, best_b is -44.28491278220328, loss is 345.7606682569581\n",
      "when time is 9, best_k is -43.7564493434681, best_b is -43.6564493434681, loss is 341.1825418799544\n",
      "when time is 10, best_k is -43.12798590473292, best_b is -43.027985904732915, loss is 336.6044155029509\n",
      "when time is 11, best_k is -42.499522465997735, best_b is -42.399522465997734, loss is 332.026289125947\n",
      "when time is 12, best_k is -41.871059027262554, best_b is -41.77105902726255, loss is 327.4481627489437\n",
      "when time is 13, best_k is -41.24259558852737, best_b is -41.14259558852737, loss is 322.87003637194005\n",
      "when time is 14, best_k is -40.61413214979219, best_b is -40.51413214979219, loss is 318.2919099949364\n",
      "when time is 15, best_k is -39.98566871105701, best_b is -39.88566871105701, loss is 313.71378361793285\n",
      "when time is 16, best_k is -39.35720527232183, best_b is -39.257205272321826, loss is 309.13565724092894\n",
      "when time is 17, best_k is -38.728741833586646, best_b is -38.628741833586645, loss is 304.5575308639253\n",
      "when time is 18, best_k is -38.100278394851465, best_b is -38.00027839485146, loss is 299.9794044869218\n",
      "when time is 19, best_k is -37.47181495611628, best_b is -37.37181495611628, loss is 295.40127810991805\n",
      "when time is 20, best_k is -36.8433515173811, best_b is -36.7433515173811, loss is 290.8231517329141\n",
      "when time is 21, best_k is -36.21488807864592, best_b is -36.11488807864592, loss is 286.24502535591057\n",
      "when time is 22, best_k is -35.58642463991074, best_b is -35.48642463991074, loss is 281.6668989789071\n",
      "when time is 23, best_k is -34.95796120117556, best_b is -34.857961201175556, loss is 277.0887726019034\n",
      "when time is 24, best_k is -34.329497762440376, best_b is -34.229497762440374, loss is 272.5106462248999\n",
      "when time is 25, best_k is -33.701034323705194, best_b is -33.60103432370519, loss is 267.9325198478962\n",
      "when time is 26, best_k is -33.07257088497001, best_b is -32.97257088497001, loss is 263.35439347089255\n",
      "when time is 27, best_k is -32.44410744623483, best_b is -32.34410744623483, loss is 258.77626709388886\n",
      "when time is 28, best_k is -31.815644007499653, best_b is -31.71564400749965, loss is 254.19814071688518\n",
      "when time is 29, best_k is -31.187180568764475, best_b is -31.087180568764474, loss is 249.62001433988158\n",
      "when time is 30, best_k is -30.558717130029297, best_b is -30.458717130029296, loss is 245.0418879628779\n",
      "when time is 31, best_k is -29.93025369129412, best_b is -29.830253691294118, loss is 240.46376158587435\n",
      "when time is 32, best_k is -29.30179025255894, best_b is -29.20179025255894, loss is 235.8856352088706\n",
      "when time is 33, best_k is -28.673326813823763, best_b is -28.573326813823762, loss is 231.30750883186707\n",
      "when time is 34, best_k is -28.044863375088585, best_b is -27.944863375088584, loss is 226.72938245486344\n",
      "when time is 35, best_k is -27.416399936353407, best_b is -27.316399936353406, loss is 222.15125607785993\n",
      "when time is 36, best_k is -26.78793649761823, best_b is -26.687936497618228, loss is 217.57312970085624\n",
      "when time is 37, best_k is -26.15947305888305, best_b is -26.05947305888305, loss is 212.99500332385261\n",
      "when time is 38, best_k is -25.531009620147874, best_b is -25.431009620147872, loss is 208.41687694684893\n",
      "when time is 39, best_k is -24.902546181412696, best_b is -24.802546181412694, loss is 203.83875056984536\n",
      "when time is 40, best_k is -24.274082742677518, best_b is -24.174082742677516, loss is 199.2606241928417\n",
      "when time is 41, best_k is -23.64561930394234, best_b is -23.54561930394234, loss is 194.68249781583805\n",
      "when time is 42, best_k is -23.01715586520716, best_b is -22.91715586520716, loss is 190.10437143883442\n",
      "when time is 43, best_k is -22.388692426471984, best_b is -22.288692426471982, loss is 185.52624506183102\n",
      "when time is 44, best_k is -21.760228987736806, best_b is -21.660228987736804, loss is 180.94811868482708\n",
      "when time is 45, best_k is -21.131765549001628, best_b is -21.031765549001626, loss is 176.36999230782348\n",
      "when time is 46, best_k is -20.50330211026645, best_b is -20.40330211026645, loss is 171.79186593081997\n",
      "when time is 47, best_k is -19.874838671531272, best_b is -19.77483867153127, loss is 167.21373955381623\n",
      "when time is 48, best_k is -19.246375232796094, best_b is -19.146375232796093, loss is 162.63561317681288\n",
      "when time is 49, best_k is -18.617911794060916, best_b is -18.517911794060915, loss is 158.0574867998092\n",
      "when time is 50, best_k is -17.989448355325738, best_b is -17.889448355325737, loss is 153.47936042280526\n",
      "when time is 51, best_k is -17.36098491659056, best_b is -17.26098491659056, loss is 148.90123404580174\n",
      "when time is 52, best_k is -16.732521477855382, best_b is -16.63252147785538, loss is 144.32310766879814\n",
      "when time is 53, best_k is -16.104058039120204, best_b is -16.004058039120203, loss is 139.7449812917946\n",
      "when time is 54, best_k is -15.475594600385026, best_b is -15.375594600385027, loss is 135.16685491479092\n",
      "when time is 55, best_k is -14.847131161649848, best_b is -14.747131161649849, loss is 130.58872853778732\n",
      "when time is 56, best_k is -14.21866772291467, best_b is -14.11866772291467, loss is 126.01060216078369\n",
      "when time is 57, best_k is -13.590204284179492, best_b is -13.490204284179493, loss is 121.43247578378005\n",
      "when time is 58, best_k is -12.961740845444314, best_b is -12.861740845444315, loss is 116.85434940677652\n",
      "when time is 59, best_k is -12.333277406709136, best_b is -12.233277406709137, loss is 112.27622302977294\n",
      "when time is 60, best_k is -11.704813967973958, best_b is -11.604813967973959, loss is 107.6980966527691\n",
      "when time is 61, best_k is -11.07635052923878, best_b is -10.97635052923878, loss is 103.11997027576555\n",
      "when time is 62, best_k is -10.447887090503603, best_b is -10.347887090503603, loss is 98.54184389876201\n",
      "when time is 63, best_k is -9.819423651768425, best_b is -9.719423651768425, loss is 93.96371752175834\n",
      "when time is 64, best_k is -9.190960213033247, best_b is -9.090960213033247, loss is 89.38559114475466\n",
      "when time is 65, best_k is -8.562496774298069, best_b is -8.462496774298069, loss is 84.8074647677511\n",
      "when time is 66, best_k is -7.93403333556289, best_b is -7.83403333556289, loss is 80.22933839074742\n",
      "when time is 67, best_k is -7.305569896827711, best_b is -7.205569896827711, loss is 75.65121201374384\n",
      "when time is 68, best_k is -6.677106458092532, best_b is -6.5771064580925325, loss is 71.07308563674022\n",
      "when time is 69, best_k is -6.048643019357353, best_b is -5.948643019357354, loss is 66.49495925973653\n",
      "when time is 70, best_k is -5.420179580622174, best_b is -5.320179580622175, loss is 61.91683288273292\n",
      "when time is 71, best_k is -4.791716141886996, best_b is -4.691716141886996, loss is 57.338706505729284\n",
      "when time is 72, best_k is -4.163252703151817, best_b is -4.063252703151817, loss is 52.760580128725685\n",
      "when time is 73, best_k is -3.534789264416638, best_b is -3.434789264416638, loss is 48.18245375172202\n",
      "when time is 74, best_k is -2.906325825681459, best_b is -2.806325825681459, loss is 43.60432737471838\n",
      "when time is 75, best_k is -2.27786238694628, best_b is -2.17786238694628, loss is 39.02620099771474\n",
      "when time is 76, best_k is -1.6493989482111013, best_b is -1.5493989482111012, loss is 34.448074620711104\n",
      "when time is 77, best_k is -1.0209355094759225, best_b is -0.9209355094759225, loss is 29.86994824370749\n",
      "when time is 78, best_k is -0.39247207074074375, best_b is -0.2924720707407438, loss is 25.291821866703845\n",
      "when time is 79, best_k is 0.235991367994435, best_b is 0.33599136799443496, loss is 20.713695489700235\n",
      "when time is 80, best_k is 0.8644548067296137, best_b is 0.9644548067296137, loss is 16.143851421296667\n",
      "when time is 81, best_k is 1.486150261275069, best_b is 1.584964490524081, loss is 11.84644532327366\n",
      "when time is 82, best_k is 2.053885636769141, best_b is 2.143608956927244, loss is 8.502301549003361\n",
      "when time is 83, best_k is 2.4830245695754654, best_b is 2.549822988547797, loss is 6.668020619195717\n",
      "when time is 84, best_k is 2.7944931466505643, best_b is 2.841528719773094, loss is 5.779809848154497\n"
     ]
    },
    {
     "name": "stdout",
     "output_type": "stream",
     "text": [
      "when time is 85, best_k is 2.9602965063343585, best_b is 2.9828261506031333, loss is 5.571019867853936\n",
      "when time is 86, best_k is 3.006033858113015, best_b is 3.0088006565319874, loss is 5.559273354331015\n",
      "when time is 87, best_k is 3.012947889733568, best_b is 3.0093905774806036, loss is 5.558816301328697\n",
      "when time is 89, best_k is 3.0147281268877184, best_b is 3.0091945300497738, loss is 5.558726831371547\n"
     ]
    }
   ],
   "source": [
    "try_times = 2000\n",
    "\n",
    "X, Y = data['data'], data['target']\n",
    "X_rm = X[:, 5]\n",
    "\n",
    "min_loss = float('inf') #无穷大\n",
    "\n",
    "k = random.random() * 200 - 100\n",
    "b = random.random() * 200 - 100\n",
    "\n",
    "rate = 0.1\n",
    "\n",
    "time_log = 0\n",
    "\n",
    "for i in range(try_times):\n",
    "    price_by_k_and_b = [price(rm, k, b) for rm in X_rm]\n",
    "    current_loss = loss_abs(Y, price_by_k_and_b)    \n",
    "    \n",
    "    if current_loss < min_loss:\n",
    "        \n",
    "        min_loss = current_loss\n",
    "        \n",
    "        print(\"when time is {}, best_k is {}, best_b is {}, loss is {}\".format(i, k, b, min_loss))\n",
    "            \n",
    "    k_gradient = partial_k(X_rm, Y, price_by_k_and_b)\n",
    "    b_gradient = partial_b(Y, price_by_k_and_b)\n",
    "    \n",
    "    k = k - (-1 * k_gradient) * rate  # k与偏导方向相反\n",
    "    b = k - (-1 * b_gradient )* rate  # b与偏导方向相反"
   ]
  },
  {
   "cell_type": "code",
   "execution_count": 135,
   "metadata": {},
   "outputs": [
    {
     "data": {
      "text/plain": [
       "<matplotlib.collections.PathCollection at 0x796a8d0>"
      ]
     },
     "execution_count": 135,
     "metadata": {},
     "output_type": "execute_result"
    },
    {
     "data": {
      "image/png": "[encoded data removed]",
      "text/plain": [
       "<matplotlib.figure.Figure at 0x7952090>"
      ]
     },
     "metadata": {},
     "output_type": "display_data"
    }
   ],
   "source": [
    "k = 11\n",
    "b = -45\n",
    "draw_rm_price()\n",
    "plt.scatter(X[:, 5], price(X[:, 5], k, b))"
   ]
  },
  {
   "cell_type": "markdown",
   "metadata": {},
   "source": [
    "### Part 3: Finish the Solution Parse Part of Edit-Distance"
   ]
  },
  {
   "cell_type": "code",
   "execution_count": 136,
   "metadata": {
    "collapsed": true
   },
   "outputs": [],
   "source": [
    "from functools import lru_cache  #作用为缓存，去重，将函数运行结果保存，遇到传入相同参数时，使用缓存结果即可"
   ]
  },
  {
   "cell_type": "code",
   "execution_count": 137,
   "metadata": {
    "collapsed": true
   },
   "outputs": [],
   "source": [
    "solution = dict()"
   ]
  },
  {
   "cell_type": "code",
   "execution_count": 138,
   "metadata": {
    "collapsed": true
   },
   "outputs": [],
   "source": [
    "@lru_cache(maxsize=2**10)\n",
    "def edit_distance(string1, string2):\n",
    "    # init\n",
    "    # D(i, 0) = i\n",
    "    # D(0, j) = j\n",
    "    if len(string1) == 0: return len(string2)\n",
    "    if len(string2) == 0: return len(string1)\n",
    "    \n",
    "    # start\n",
    "    string1_tail = string1[-1]\n",
    "    string2_tail = string2[-1]\n",
    "    \n",
    "    candidate = [\n",
    "        (edit_distance(string1[:-1], string2) + 1, \"Del {}\".format(string1_tail)),  # 删除\n",
    "        (edit_distance(string1, string2[:-1]) + 1, \"Add {}\".format(string2_tail))   # 插入\n",
    "    ] \n",
    "    \n",
    "    if string1_tail == string2_tail:\n",
    "        both_forward = (edit_distance(string1[:-1], string2[:-1]) + 0, \"No Action\")  # 无动作\n",
    "    else:\n",
    "        both_forward = (edit_distance(string1[:-1], string2[:-1]) + 1, \"Sub {} -> {}\".format(string1_tail, string2_tail)) # 替代\n",
    "    \n",
    "    candidate.append(both_forward)\n",
    "    \n",
    "    min_distance, operation = min(candidate, key=lambda x: x[0])\n",
    "    \n",
    "    if operation.startswith(\"Del\"):\n",
    "        solution[(string1, string2)] = (string1[:-1], string2)\n",
    "    elif operation.startswith(\"Add\"):\n",
    "        solution[(string1, string2)] = (string1, string2[:-1])\n",
    "    elif operation.startswith(\"Sub\"):\n",
    "        solution[(string1, string2)] = (string1[:-1], string2[:-1])\n",
    "    else:\n",
    "         solution[(string1, string2)] = (string1[:-1], string2[:-1])\n",
    "    \n",
    "    #solution[(string1, string2)] = operation\n",
    "    \n",
    "    return min_distance"
   ]
  },
  {
   "cell_type": "code",
   "execution_count": 139,
   "metadata": {
    "scrolled": true
   },
   "outputs": [
    {
     "data": {
      "text/plain": [
       "2"
      ]
     },
     "execution_count": 139,
     "metadata": {},
     "output_type": "execute_result"
    }
   ],
   "source": [
    "edit_distance('ABCDE', 'ABCCEF')"
   ]
  },
  {
   "cell_type": "code",
   "execution_count": 140,
   "metadata": {
    "scrolled": true
   },
   "outputs": [
    {
     "data": {
      "text/plain": [
       "{('A', 'A'): ('', ''),\n",
       " ('A', 'AB'): ('A', 'A'),\n",
       " ('A', 'ABC'): ('A', 'AB'),\n",
       " ('A', 'ABCC'): ('A', 'ABC'),\n",
       " ('A', 'ABCCE'): ('A', 'ABCC'),\n",
       " ('A', 'ABCCEF'): ('A', 'ABCCE'),\n",
       " ('AB', 'A'): ('A', 'A'),\n",
       " ('AB', 'AB'): ('A', 'A'),\n",
       " ('AB', 'ABC'): ('AB', 'AB'),\n",
       " ('AB', 'ABCC'): ('AB', 'ABC'),\n",
       " ('AB', 'ABCCE'): ('AB', 'ABCC'),\n",
       " ('AB', 'ABCCEF'): ('AB', 'ABCCE'),\n",
       " ('ABC', 'A'): ('AB', 'A'),\n",
       " ('ABC', 'AB'): ('AB', 'AB'),\n",
       " ('ABC', 'ABC'): ('AB', 'AB'),\n",
       " ('ABC', 'ABCC'): ('ABC', 'ABC'),\n",
       " ('ABC', 'ABCCE'): ('ABC', 'ABCC'),\n",
       " ('ABC', 'ABCCEF'): ('ABC', 'ABCCE'),\n",
       " ('ABCD', 'A'): ('ABC', 'A'),\n",
       " ('ABCD', 'AB'): ('ABC', 'AB'),\n",
       " ('ABCD', 'ABC'): ('ABC', 'ABC'),\n",
       " ('ABCD', 'ABCC'): ('ABC', 'ABC'),\n",
       " ('ABCD', 'ABCCE'): ('ABCD', 'ABCC'),\n",
       " ('ABCD', 'ABCCEF'): ('ABCD', 'ABCCE'),\n",
       " ('ABCDE', 'A'): ('ABCD', 'A'),\n",
       " ('ABCDE', 'AB'): ('ABCD', 'AB'),\n",
       " ('ABCDE', 'ABC'): ('ABCD', 'ABC'),\n",
       " ('ABCDE', 'ABCC'): ('ABCD', 'ABCC'),\n",
       " ('ABCDE', 'ABCCE'): ('ABCD', 'ABCC'),\n",
       " ('ABCDE', 'ABCCEF'): ('ABCDE', 'ABCCE')}"
      ]
     },
     "execution_count": 140,
     "metadata": {},
     "output_type": "execute_result"
    }
   ],
   "source": [
    "solution"
   ]
  },
  {
   "cell_type": "code",
   "execution_count": 141,
   "metadata": {
    "collapsed": true
   },
   "outputs": [],
   "source": [
    "res = []\n",
    "def parse_solution(string1 ,string2, solution):\n",
    "    res.append((string1,string2))\n",
    "    left_string1, right_string2 = solution[(string1, string2)]\n",
    "    \n",
    "    if not left_string1 and not right_string2: return \"It's over\"\n",
    "    \n",
    "    return parse_solution(left_string1, right_string2, solution)"
   ]
  },
  {
   "cell_type": "code",
   "execution_count": 142,
   "metadata": {
    "scrolled": true
   },
   "outputs": [
    {
     "data": {
      "text/plain": [
       "\"It's over\""
      ]
     },
     "execution_count": 142,
     "metadata": {},
     "output_type": "execute_result"
    }
   ],
   "source": [
    "parse_solution('ABCDE', 'ABCCEF', solution)"
   ]
  },
  {
   "cell_type": "code",
   "execution_count": 143,
   "metadata": {},
   "outputs": [
    {
     "data": {
      "text/plain": [
       "[('ABCDE', 'ABCCEF'),\n",
       " ('ABCDE', 'ABCCE'),\n",
       " ('ABCD', 'ABCC'),\n",
       " ('ABC', 'ABC'),\n",
       " ('AB', 'AB'),\n",
       " ('A', 'A')]"
      ]
     },
     "execution_count": 143,
     "metadata": {},
     "output_type": "execute_result"
    }
   ],
   "source": [
    "res"
   ]
  },
  {
   "cell_type": "markdown",
   "metadata": {},
   "source": [
    "### Part 4 Choose 1 - 2 books to keep reading: \n",
    "\n",
    "+ SICP, Structure and Interpretation of Computer Programming. \n",
    "+ Introduction to Algorithms \n",
    "+ Artificial Intelligence A Modern Approach (3rd Edition) \n",
    "+ Code Complete 2 \n",
    "+ Programming Pearls \n",
    "+ Deep Learning\n",
    "+ 黑客与画家\n",
    "+ 数学之美\n",
    "+ Fluent Python\n",
    "+ Hands on Tensorflow\n",
    "+ Conference: NIPS_ ICML_ ICLR_ ACL_ AAAI\n",
    "\n",
    "> most books you may find in our github: https://github.com/Computing-Intelligence/References"
   ]
  },
  {
   "cell_type": "markdown",
   "metadata": {},
   "source": [
    "## Part 5-1: review machine learning"
   ]
  },
  {
   "cell_type": "markdown",
   "metadata": {},
   "source": [
    "1. Why do we use Derivative / Gredient to fit a target function?¶"
   ]
  },
  {
   "cell_type": "markdown",
   "metadata": {},
   "source": [
    "Ans:"
   ]
  },
  {
   "cell_type": "markdown",
   "metadata": {},
   "source": [
    "2. In the words 'Gredient Descent', what's the Gredient and what's the Descent?¶"
   ]
  },
  {
   "cell_type": "markdown",
   "metadata": {},
   "source": [
    "Ans:"
   ]
  },
  {
   "cell_type": "markdown",
   "metadata": {},
   "source": [
    "\n",
    "3. What's the advantages of the 3rd gradient descent method compared to the previous methods?"
   ]
  },
  {
   "cell_type": "markdown",
   "metadata": {},
   "source": [
    "Ans:"
   ]
  },
  {
   "cell_type": "markdown",
   "metadata": {},
   "source": [
    "4. Using the simple words to describe: What's the machine leanring.¶"
   ]
  },
  {
   "cell_type": "markdown",
   "metadata": {},
   "source": [
    "Ans:"
   ]
  },
  {
   "cell_type": "markdown",
   "metadata": {},
   "source": [
    "### Part 5: Answer following questions: "
   ]
  },
  {
   "cell_type": "markdown",
   "metadata": {},
   "source": [
    "1. Why do we need dynamic programming? What's the difference of dynamic programming and previous talked `search` problme? "
   ]
  },
  {
   "cell_type": "markdown",
   "metadata": {},
   "source": [
    "2. Why do we still need dynamic programming? Why not we train a machine learning to fit a function which could get the `right` answer based on inputs?"
   ]
  },
  {
   "cell_type": "markdown",
   "metadata": {},
   "source": [
    "3. Can you catch up at least 3 problems which could solved by Dynamic Programming? "
   ]
  },
  {
   "cell_type": "markdown",
   "metadata": {},
   "source": [
    "4. Can you catch up at least 3 problems wich could sloved by Edit Distance? "
   ]
  },
  {
   "cell_type": "markdown",
   "metadata": {},
   "source": [
    "5. Please summarize the three main features of Dynamic Programming, and make a concise explain for each feature. "
   ]
  },
  {
   "cell_type": "markdown",
   "metadata": {},
   "source": [
    "6. What's the disadvantages of Dynamic Programming? (You may need search by yourself in Internet)"
   ]
  },
  {
   "cell_type": "markdown",
   "metadata": {},
   "source": [
    "## Part 6 Preparation of Project-01"
   ]
  },
  {
   "cell_type": "markdown",
   "metadata": {},
   "source": [
    "1. Using python Flask or Bottle to finish your first simple web app:\n",
    "> https://bottlepy.org/\n",
    "\n",
    "2. Learn what's the SQL, and try some simple SQL operations:\n",
    "> https://www.w3schools.com/sql/sql_intro.asp\n",
    "\n",
    "3. Learn what's the HTML ( *ONLY* need to know the basic things)\n",
    "> https://getbootstrap.com/; https://www.w3schools.com/html/"
   ]
  },
  {
   "cell_type": "markdown",
   "metadata": {},
   "source": [
    "### (Optinal) Finish the k-person-salesman problem:"
   ]
  },
  {
   "cell_type": "code",
   "execution_count": 144,
   "metadata": {
    "collapsed": true
   },
   "outputs": [],
   "source": [
    "import random\n",
    "import matplotlib.pylab as plt"
   ]
  },
  {
   "cell_type": "code",
   "execution_count": 145,
   "metadata": {
    "collapsed": true
   },
   "outputs": [],
   "source": [
    "latitudes = [random.randint(-100, 100) for _ in range(20)]\n",
    "longitude = [random.randint(-100, 100) for _ in range(20)]"
   ]
  },
  {
   "cell_type": "code",
   "execution_count": 146,
   "metadata": {},
   "outputs": [
    {
     "data": {
      "text/plain": [
       "<matplotlib.collections.PathCollection at 0x79a4a90>"
      ]
     },
     "execution_count": 146,
     "metadata": {},
     "output_type": "execute_result"
    },
    {
     "data": {
      "image/png": "[encoded data removed]",
      "text/plain": [
       "<matplotlib.figure.Figure at 0x78e09d0>"
      ]
     },
     "metadata": {},
     "output_type": "display_data"
    }
   ],
   "source": [
    "plt.scatter(latitudes, longitude)"
   ]
  },
  {
   "cell_type": "markdown",
   "metadata": {},
   "source": [
    "给定一个初始点 𝑃, 已经 𝑘个车辆，如何从该点出发，经这 k 个车辆经过所以的点全部一次，而且所走过的路程最短?\n",
    "\n",
    "例如："
   ]
  },
  {
   "cell_type": "code",
   "execution_count": 147,
   "metadata": {
    "collapsed": true
   },
   "outputs": [],
   "source": [
    "chosen_p = (-50, 10)\n",
    "chosen_p2 = (1, 30)\n",
    "chosen_p3 = (99, 15)"
   ]
  },
  {
   "cell_type": "code",
   "execution_count": 148,
   "metadata": {
    "collapsed": true
   },
   "outputs": [],
   "source": [
    "import matplotlib.pyplot as plt"
   ]
  },
  {
   "cell_type": "code",
   "execution_count": 149,
   "metadata": {
    "scrolled": true
   },
   "outputs": [
    {
     "data": {
      "text/plain": [
       "<matplotlib.collections.PathCollection at 0x79f4130>"
      ]
     },
     "execution_count": 149,
     "metadata": {},
     "output_type": "execute_result"
    },
    {
     "data": {
      "image/png": "[encoded data removed]",
      "text/plain": [
       "<matplotlib.figure.Figure at 0x79b9730>"
      ]
     },
     "metadata": {},
     "output_type": "display_data"
    }
   ],
   "source": [
    "plt.scatter(latitudes, longitude)\n",
    "plt.scatter([chosen_p[0]], [chosen_p[1]], color='r')\n",
    "plt.scatter([chosen_p2[0]], [chosen_p2[1]], color='r')\n",
    "plt.scatter([chosen_p3[0]], [chosen_p3[1]], color='r')"
   ]
  },
  {
   "cell_type": "markdown",
   "metadata": {},
   "source": [
    "shuro"
   ]
  }
 ],
 "metadata": {
  "kernelspec": {
   "display_name": "Python 3",
   "language": "python",
   "name": "python3"
  },
  "language_info": {
   "codemirror_mode": {
    "name": "ipython",
    "version": 3
   },
   "file_extension": ".py",
   "mimetype": "text/x-python",
   "name": "python",
   "nbconvert_exporter": "python",
   "pygments_lexer": "ipython3",
   "version": "3.6.3"
  }
 },
 "nbformat": 4,
 "nbformat_minor": 2
}
