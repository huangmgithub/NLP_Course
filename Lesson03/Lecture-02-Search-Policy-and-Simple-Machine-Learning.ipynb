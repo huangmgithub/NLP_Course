{
 "cells": [
  {
   "cell_type": "markdown",
   "metadata": {},
   "source": [
    "##### 问题描述\n",
    "\n",
    "大家好，我们在用 networkx 显示中文的时候，会发现不能显示中文。 \n",
    "\n",
    "##### 解决办法\n",
    "\n",
    "1. 下载Github仓库中的字体SimHei.ttf； \n",
    "2. 在 jupyter notebook 中执行\n",
    "```python\n",
    "import matplotlib\n",
    "print(matplotlib.__path__)\n",
    "```\n",
    "找到 matplotlib 的路径，然后 cd 到这个路径。 cd 到这个路径之后，继续 cd，cd 到 mpl-data/fonts/ttf 这个路径。 然后把 `DejaVuSans.ttf` 这个文件换成我们刚刚下在的文件。 \n",
    "\n",
    "```bash\n",
    "$ mv SimHei.ttf DejaVuSans.ttf\n",
    "```\n",
    "\n",
    "其中，用到的 ttf 字体。 我给大家传到附件上了。 "
   ]
  },
  {
   "cell_type": "markdown",
   "metadata": {},
   "source": [
    "Previous Course"
   ]
  },
  {
   "cell_type": "markdown",
   "metadata": {},
   "source": [
    "1. What's the language model? OOV problem? \n",
    "2. Syntax Tree. lambda "
   ]
  },
  {
   "cell_type": "markdown",
   "metadata": {},
   "source": [
    "$$ pr(w) $$"
   ]
  },
  {
   "cell_type": "markdown",
   "metadata": {},
   "source": [
    "## Out of Vocabulary(OOV)"
   ]
  },
  {
   "cell_type": "markdown",
   "metadata": {},
   "source": [
    "Pr(w_o) = constant < Pr(w_1)"
   ]
  },
  {
   "cell_type": "markdown",
   "metadata": {},
   "source": [
    "## Language Model: Smooth"
   ]
  },
  {
   "cell_type": "code",
   "execution_count": 5,
   "metadata": {},
   "outputs": [],
   "source": [
    "import random"
   ]
  },
  {
   "cell_type": "code",
   "execution_count": 6,
   "metadata": {},
   "outputs": [],
   "source": [
    "\"\"\"adj* => adj* adj | adj null\"\"\"\n",
    "\n",
    "def adj():  return random.choice('蓝色的 | 好看的 | 小小的'.split('|')).split()[0]\n",
    "\n",
    "def adj_star_2():\n",
    "     return random.choice([lambda : '', lambda : adj() + adj_star_2()])()\n",
    "\n",
    "def adj_star():\n",
    "    return random.choice(['', ajd() + adj_star()])"
   ]
  },
  {
   "cell_type": "code",
   "execution_count": 7,
   "metadata": {},
   "outputs": [
    {
     "data": {
      "text/plain": [
       "<function __main__.<lambda>()>"
      ]
     },
     "execution_count": 7,
     "metadata": {},
     "output_type": "execute_result"
    }
   ],
   "source": [
    "lambda : adj() + adj_star_2()"
   ]
  },
  {
   "cell_type": "code",
   "execution_count": 8,
   "metadata": {},
   "outputs": [],
   "source": [
    "numbers = [1, -2, -4, 1, 5, 6, 9, -11]"
   ]
  },
  {
   "cell_type": "code",
   "execution_count": 9,
   "metadata": {},
   "outputs": [],
   "source": [
    "def absolute(number): \n",
    "    if number < 0: return -1 * number\n",
    "    else:\n",
    "        return number"
   ]
  },
  {
   "cell_type": "code",
   "execution_count": 10,
   "metadata": {},
   "outputs": [
    {
     "data": {
      "text/plain": [
       "11"
      ]
     },
     "execution_count": 10,
     "metadata": {},
     "output_type": "execute_result"
    }
   ],
   "source": [
    "absolute(-11)"
   ]
  },
  {
   "cell_type": "code",
   "execution_count": null,
   "metadata": {},
   "outputs": [],
   "source": []
  },
  {
   "cell_type": "code",
   "execution_count": 11,
   "metadata": {},
   "outputs": [
    {
     "ename": "NameError",
     "evalue": "name 'mod_5' is not defined",
     "output_type": "error",
     "traceback": [
      "\u001b[1;31m---------------------------------------------------------------------------\u001b[0m",
      "\u001b[1;31mNameError\u001b[0m                                 Traceback (most recent call last)",
      "\u001b[1;32m<ipython-input-11-a652c3f5fab3>\u001b[0m in \u001b[0;36m<module>\u001b[1;34m\u001b[0m\n\u001b[1;32m----> 1\u001b[1;33m \u001b[0mmod_5\u001b[0m\u001b[1;33m(\u001b[0m\u001b[1;36m6\u001b[0m\u001b[1;33m)\u001b[0m\u001b[1;33m\u001b[0m\u001b[1;33m\u001b[0m\u001b[0m\n\u001b[0m",
      "\u001b[1;31mNameError\u001b[0m: name 'mod_5' is not defined"
     ]
    }
   ],
   "source": [
    "mod_5(6)"
   ]
  },
  {
   "cell_type": "code",
   "execution_count": 12,
   "metadata": {},
   "outputs": [
    {
     "ename": "NameError",
     "evalue": "name 'mod_5' is not defined",
     "output_type": "error",
     "traceback": [
      "\u001b[1;31m---------------------------------------------------------------------------\u001b[0m",
      "\u001b[1;31mNameError\u001b[0m                                 Traceback (most recent call last)",
      "\u001b[1;32m<ipython-input-12-d226192cf8c7>\u001b[0m in \u001b[0;36m<module>\u001b[1;34m\u001b[0m\n\u001b[1;32m----> 1\u001b[1;33m \u001b[0mmod_5\u001b[0m\u001b[1;33m(\u001b[0m\u001b[1;36m7\u001b[0m\u001b[1;33m)\u001b[0m\u001b[1;33m\u001b[0m\u001b[1;33m\u001b[0m\u001b[0m\n\u001b[0m",
      "\u001b[1;31mNameError\u001b[0m: name 'mod_5' is not defined"
     ]
    }
   ],
   "source": [
    "mod_5(7)"
   ]
  },
  {
   "cell_type": "code",
   "execution_count": null,
   "metadata": {},
   "outputs": [],
   "source": [
    "def mod_5(number): \n",
    "    return number % 5\n",
    "\n",
    "sorted(numbers, key=lambda x: x % 5)"
   ]
  },
  {
   "cell_type": "code",
   "execution_count": null,
   "metadata": {},
   "outputs": [],
   "source": [
    "mod_5_lambda = lambda x: x % 5"
   ]
  },
  {
   "cell_type": "code",
   "execution_count": null,
   "metadata": {},
   "outputs": [],
   "source": [
    "mod_5"
   ]
  },
  {
   "cell_type": "code",
   "execution_count": null,
   "metadata": {},
   "outputs": [],
   "source": [
    "mod_5_lambda(19)"
   ]
  },
  {
   "cell_type": "code",
   "execution_count": null,
   "metadata": {},
   "outputs": [],
   "source": [
    "mod_5(19)"
   ]
  },
  {
   "cell_type": "code",
   "execution_count": null,
   "metadata": {},
   "outputs": [],
   "source": [
    "adj_star_2()"
   ]
  },
  {
   "cell_type": "markdown",
   "metadata": {},
   "source": [
    "## Search Policy"
   ]
  },
  {
   "cell_type": "code",
   "execution_count": null,
   "metadata": {},
   "outputs": [],
   "source": [
    "coordination_source = \"\"\"\n",
    "{name:'兰州', geoCoord:[103.73, 36.03]},\n",
    "{name:'嘉峪关', geoCoord:[98.17, 39.47]},\n",
    "{name:'西宁', geoCoord:[101.74, 36.56]},\n",
    "{name:'成都', geoCoord:[104.06, 30.67]},\n",
    "{name:'石家庄', geoCoord:[114.48, 38.03]},\n",
    "{name:'拉萨', geoCoord:[102.73, 25.04]},\n",
    "{name:'贵阳', geoCoord:[106.71, 26.57]},\n",
    "{name:'武汉', geoCoord:[114.31, 30.52]},\n",
    "{name:'郑州', geoCoord:[113.65, 34.76]},\n",
    "{name:'济南', geoCoord:[117, 36.65]},\n",
    "{name:'南京', geoCoord:[118.78, 32.04]},\n",
    "{name:'合肥', geoCoord:[117.27, 31.86]},\n",
    "{name:'杭州', geoCoord:[120.19, 30.26]},\n",
    "{name:'南昌', geoCoord:[115.89, 28.68]},\n",
    "{name:'福州', geoCoord:[119.3, 26.08]},\n",
    "{name:'广州', geoCoord:[113.23, 23.16]},\n",
    "{name:'长沙', geoCoord:[113, 28.21]},\n",
    "//{name:'海口', geoCoord:[110.35, 20.02]},\n",
    "{name:'沈阳', geoCoord:[123.38, 41.8]},\n",
    "{name:'长春', geoCoord:[125.35, 43.88]},\n",
    "{name:'哈尔滨', geoCoord:[126.63, 45.75]},\n",
    "{name:'太原', geoCoord:[112.53, 37.87]},\n",
    "{name:'西安', geoCoord:[108.95, 34.27]},\n",
    "//{name:'台湾', geoCoord:[121.30, 25.03]},\n",
    "{name:'北京', geoCoord:[116.46, 39.92]},\n",
    "{name:'上海', geoCoord:[121.48, 31.22]},\n",
    "{name:'重庆', geoCoord:[106.54, 29.59]},\n",
    "{name:'天津', geoCoord:[117.2, 39.13]},\n",
    "{name:'呼和浩特', geoCoord:[111.65, 40.82]},\n",
    "{name:'南宁', geoCoord:[108.33, 22.84]},\n",
    "//{name:'西藏', geoCoord:[91.11, 29.97]},\n",
    "{name:'银川', geoCoord:[106.27, 38.47]},\n",
    "{name:'乌鲁木齐', geoCoord:[87.68, 43.77]},\n",
    "{name:'香港', geoCoord:[114.17, 22.28]},\n",
    "{name:'澳门', geoCoord:[113.54, 22.19]}\n",
    "\"\"\""
   ]
  },
  {
   "cell_type": "code",
   "execution_count": null,
   "metadata": {},
   "outputs": [],
   "source": [
    "city_location = {\n",
    "    '香港': (114.17, 22.28)\n",
    "}"
   ]
  },
  {
   "cell_type": "markdown",
   "metadata": {},
   "source": [
    "Input: String -> dict"
   ]
  },
  {
   "cell_type": "code",
   "execution_count": null,
   "metadata": {},
   "outputs": [],
   "source": [
    "test_string = \"{name:'兰州', geoCoord:[103.73, 36.03]},\""
   ]
  },
  {
   "cell_type": "code",
   "execution_count": 13,
   "metadata": {},
   "outputs": [],
   "source": [
    "import re"
   ]
  },
  {
   "cell_type": "code",
   "execution_count": 14,
   "metadata": {},
   "outputs": [],
   "source": [
    "pattern = re.compile(r\"name:'(\\w+)',\\s+geoCoord:\\[(\\d+.\\d+),\\s(\\d+.\\d+)\\]\")"
   ]
  },
  {
   "cell_type": "code",
   "execution_count": 15,
   "metadata": {},
   "outputs": [
    {
     "ename": "NameError",
     "evalue": "name 'coordination_source' is not defined",
     "output_type": "error",
     "traceback": [
      "\u001b[1;31m---------------------------------------------------------------------------\u001b[0m",
      "\u001b[1;31mNameError\u001b[0m                                 Traceback (most recent call last)",
      "\u001b[1;32m<ipython-input-15-056285a80f53>\u001b[0m in \u001b[0;36m<module>\u001b[1;34m\u001b[0m\n\u001b[1;32m----> 1\u001b[1;33m \u001b[1;32mfor\u001b[0m \u001b[0mline\u001b[0m \u001b[1;32min\u001b[0m \u001b[0mcoordination_source\u001b[0m\u001b[1;33m.\u001b[0m\u001b[0msplit\u001b[0m\u001b[1;33m(\u001b[0m\u001b[1;34m'\\n'\u001b[0m\u001b[1;33m)\u001b[0m\u001b[1;33m:\u001b[0m\u001b[1;33m\u001b[0m\u001b[1;33m\u001b[0m\u001b[0m\n\u001b[0m\u001b[0;32m      2\u001b[0m     \u001b[0mcity_info\u001b[0m \u001b[1;33m=\u001b[0m \u001b[0mpattern\u001b[0m\u001b[1;33m.\u001b[0m\u001b[0mfindall\u001b[0m\u001b[1;33m(\u001b[0m\u001b[0mline\u001b[0m\u001b[1;33m)\u001b[0m\u001b[1;33m\u001b[0m\u001b[1;33m\u001b[0m\u001b[0m\n\u001b[0;32m      3\u001b[0m     \u001b[1;32mif\u001b[0m \u001b[1;32mnot\u001b[0m \u001b[0mcity_info\u001b[0m\u001b[1;33m:\u001b[0m \u001b[1;32mcontinue\u001b[0m\u001b[1;33m\u001b[0m\u001b[1;33m\u001b[0m\u001b[0m\n\u001b[0;32m      4\u001b[0m \u001b[1;33m\u001b[0m\u001b[0m\n\u001b[0;32m      5\u001b[0m     \u001b[1;31m# following: we find the city info\u001b[0m\u001b[1;33m\u001b[0m\u001b[1;33m\u001b[0m\u001b[1;33m\u001b[0m\u001b[0m\n",
      "\u001b[1;31mNameError\u001b[0m: name 'coordination_source' is not defined"
     ]
    }
   ],
   "source": [
    "for line in coordination_source.split('\\n'):\n",
    "    city_info = pattern.findall(line)\n",
    "    if not city_info: continue\n",
    "    \n",
    "    # following: we find the city info\n",
    "    \n",
    "    city, long, lat = city_info[0]\n",
    "    \n",
    "    long, lat = float(long), float(lat)\n",
    "    \n",
    "    city_location[city] = (long, lat)"
   ]
  },
  {
   "cell_type": "code",
   "execution_count": null,
   "metadata": {},
   "outputs": [],
   "source": [
    "city_location"
   ]
  },
  {
   "cell_type": "code",
   "execution_count": null,
   "metadata": {},
   "outputs": [],
   "source": [
    "import math"
   ]
  },
  {
   "cell_type": "code",
   "execution_count": null,
   "metadata": {},
   "outputs": [],
   "source": [
    "def geo_distance(origin, destination):\n",
    "    \"\"\"\n",
    "    Calculate the Haversine distance.\n",
    "\n",
    "    Parameters\n",
    "    ----------\n",
    "    origin : tuple of float\n",
    "        (lat, long)\n",
    "    destination : tuple of float\n",
    "        (lat, long)\n",
    "\n",
    "    Returns\n",
    "    -------\n",
    "    distance_in_km : float\n",
    "\n",
    "    Examples\n",
    "    --------\n",
    "    >>> origin = (48.1372, 11.5756)  # Munich\n",
    "    >>> destination = (52.5186, 13.4083)  # Berlin\n",
    "    >>> round(distance(origin, destination), 1)\n",
    "    504.2\n",
    "    \"\"\"\n",
    "    lat1, lon1 = origin\n",
    "    lat2, lon2 = destination\n",
    "    radius = 6371  # km\n",
    "\n",
    "    dlat = math.radians(lat2 - lat1)\n",
    "    dlon = math.radians(lon2 - lon1)\n",
    "    a = (math.sin(dlat / 2) * math.sin(dlat / 2) +\n",
    "         math.cos(math.radians(lat1)) * math.cos(math.radians(lat2)) *\n",
    "         math.sin(dlon / 2) * math.sin(dlon / 2))\n",
    "    c = 2 * math.atan2(math.sqrt(a), math.sqrt(1 - a))\n",
    "    d = radius * c\n",
    "\n",
    "    return d"
   ]
  },
  {
   "cell_type": "code",
   "execution_count": null,
   "metadata": {},
   "outputs": [],
   "source": [
    "def get_geo_distance(city1, city2):\n",
    "    return geo_distance(city_location[city1], city_location[city2])"
   ]
  },
  {
   "cell_type": "code",
   "execution_count": null,
   "metadata": {},
   "outputs": [],
   "source": [
    "get_geo_distance('上海', '杭州')"
   ]
  },
  {
   "cell_type": "code",
   "execution_count": null,
   "metadata": {},
   "outputs": [],
   "source": [
    "import networkx as nx"
   ]
  },
  {
   "cell_type": "code",
   "execution_count": null,
   "metadata": {},
   "outputs": [],
   "source": [
    "city_graph = nx.Graph()"
   ]
  },
  {
   "cell_type": "code",
   "execution_count": null,
   "metadata": {},
   "outputs": [],
   "source": [
    "city_graph.add_nodes_from(list(city_location.keys()))"
   ]
  },
  {
   "cell_type": "code",
   "execution_count": null,
   "metadata": {},
   "outputs": [],
   "source": [
    "%matplotlib inline"
   ]
  },
  {
   "cell_type": "code",
   "execution_count": null,
   "metadata": {},
   "outputs": [],
   "source": [
    "import matplotlib.pyplot as plt"
   ]
  },
  {
   "cell_type": "code",
   "execution_count": 16,
   "metadata": {},
   "outputs": [
    {
     "ename": "NameError",
     "evalue": "name 'nx' is not defined",
     "output_type": "error",
     "traceback": [
      "\u001b[1;31m---------------------------------------------------------------------------\u001b[0m",
      "\u001b[1;31mNameError\u001b[0m                                 Traceback (most recent call last)",
      "\u001b[1;32m<ipython-input-16-c32bcabc4adc>\u001b[0m in \u001b[0;36m<module>\u001b[1;34m\u001b[0m\n\u001b[1;32m----> 1\u001b[1;33m \u001b[0mnx\u001b[0m\u001b[1;33m.\u001b[0m\u001b[0mdraw\u001b[0m\u001b[1;33m(\u001b[0m\u001b[0mcity_graph\u001b[0m\u001b[1;33m,\u001b[0m \u001b[0mcity_location\u001b[0m\u001b[1;33m,\u001b[0m \u001b[0mwith_labels\u001b[0m\u001b[1;33m=\u001b[0m\u001b[1;32mTrue\u001b[0m\u001b[1;33m,\u001b[0m \u001b[0mnode_size\u001b[0m\u001b[1;33m=\u001b[0m\u001b[1;36m30\u001b[0m\u001b[1;33m)\u001b[0m\u001b[1;33m\u001b[0m\u001b[1;33m\u001b[0m\u001b[0m\n\u001b[0m",
      "\u001b[1;31mNameError\u001b[0m: name 'nx' is not defined"
     ]
    }
   ],
   "source": [
    "nx.draw(city_graph, city_location, with_labels=True, node_size=30)"
   ]
  },
  {
   "cell_type": "code",
   "execution_count": null,
   "metadata": {},
   "outputs": [],
   "source": [
    "threshold = 300"
   ]
  },
  {
   "cell_type": "code",
   "execution_count": null,
   "metadata": {},
   "outputs": [],
   "source": [
    "city_connection = defaultdict(list)"
   ]
  },
  {
   "cell_type": "code",
   "execution_count": null,
   "metadata": {},
   "outputs": [],
   "source": [
    "for c1 in city_location:\n",
    "    for c2 in city_location:\n",
    "        if c1 == c2: continue\n",
    "        \n",
    "        distance = get_geo_distance(c1, c2)\n",
    "        \n",
    "        if distance < threshold:\n",
    "            city_connection[c1].append(c2)\n",
    "            city_connection[c2].append(c1)"
   ]
  },
  {
   "cell_type": "code",
   "execution_count": null,
   "metadata": {},
   "outputs": [],
   "source": [
    "city_connection"
   ]
  },
  {
   "cell_type": "code",
   "execution_count": null,
   "metadata": {},
   "outputs": [],
   "source": [
    "city_with_road = nx.Graph(city_connection)"
   ]
  },
  {
   "cell_type": "code",
   "execution_count": null,
   "metadata": {},
   "outputs": [],
   "source": [
    "nx.draw(city_with_road, city_location, with_labels=True, node_size=30)"
   ]
  },
  {
   "cell_type": "code",
   "execution_count": null,
   "metadata": {},
   "outputs": [],
   "source": [
    "g"
   ]
  },
  {
   "cell_type": "code",
   "execution_count": null,
   "metadata": {},
   "outputs": [],
   "source": [
    "from collections import defaultdict"
   ]
  },
  {
   "cell_type": "code",
   "execution_count": null,
   "metadata": {},
   "outputs": [],
   "source": [
    "simple_connection_info_src = {\n",
    "    '北京': ['太原', '沈阳'],\n",
    "    '太原': ['北京', '西安', '郑州'],\n",
    "    '兰州': ['西安'],\n",
    "    '郑州': ['太原'],\n",
    "    '西安': ['兰州', '长沙'],\n",
    "    '长沙': ['福州', '南宁'],\n",
    "    '沈阳': ['北京']\n",
    "}"
   ]
  },
  {
   "cell_type": "code",
   "execution_count": null,
   "metadata": {},
   "outputs": [],
   "source": [
    "simple_connection_info = defaultdict(list)"
   ]
  },
  {
   "cell_type": "code",
   "execution_count": 17,
   "metadata": {},
   "outputs": [
    {
     "ename": "NameError",
     "evalue": "name 'simple_connection_info' is not defined",
     "output_type": "error",
     "traceback": [
      "\u001b[1;31m---------------------------------------------------------------------------\u001b[0m",
      "\u001b[1;31mNameError\u001b[0m                                 Traceback (most recent call last)",
      "\u001b[1;32m<ipython-input-17-9c83b61bf0cb>\u001b[0m in \u001b[0;36m<module>\u001b[1;34m\u001b[0m\n\u001b[1;32m----> 1\u001b[1;33m \u001b[0msimple_connection_info\u001b[0m\u001b[1;33m.\u001b[0m\u001b[0mupdate\u001b[0m\u001b[1;33m(\u001b[0m\u001b[0msimple_connection_info_src\u001b[0m\u001b[1;33m)\u001b[0m\u001b[1;33m\u001b[0m\u001b[1;33m\u001b[0m\u001b[0m\n\u001b[0m",
      "\u001b[1;31mNameError\u001b[0m: name 'simple_connection_info' is not defined"
     ]
    }
   ],
   "source": [
    "simple_connection_info.update(simple_connection_info_src)"
   ]
  },
  {
   "cell_type": "code",
   "execution_count": null,
   "metadata": {},
   "outputs": [],
   "source": [
    "def bfs(graph, start):\n",
    "    \"\"\"\n",
    "    breath first search\n",
    "    \"\"\"\n",
    "    visited = [start]\n",
    "    \n",
    "    seen = set()\n",
    "    \n",
    "    while visited:\n",
    "        froninter = visited.pop() #\n",
    "        \n",
    "        if froninter in seen: continue\n",
    "        \n",
    "        for successor in graph[froninter]:\n",
    "            if successor in seen: continue\n",
    "            print(successor)\n",
    "            \n",
    "            #visited = visited + [successor] # 我们每次扩展都扩展最新发现的点 -> depth first\n",
    "            visited = [successor] + visited # 我们每次扩展都先考虑已经发现的 老的点 -> breath first\n",
    "            \n",
    "            # 所以说，这个扩展顺序其实是决定了我们的深度优先还是广度优先\n",
    "    \n",
    "        seen.add(froninter)\n",
    "    \n",
    "    return seen"
   ]
  },
  {
   "cell_type": "code",
   "execution_count": null,
   "metadata": {},
   "outputs": [],
   "source": [
    "number_grpah = defaultdict(list)\n",
    "\n",
    "number_grpah.update({\n",
    "    1: [2, 3],\n",
    "    2: [1, 4], \n",
    "    3: [1, 5],\n",
    "    4: [2, 6], \n",
    "    5: [3, 7],\n",
    "    7: [5, 8]\n",
    "})"
   ]
  },
  {
   "cell_type": "code",
   "execution_count": null,
   "metadata": {},
   "outputs": [],
   "source": [
    "bfs(number_grpah, 1)"
   ]
  },
  {
   "cell_type": "code",
   "execution_count": null,
   "metadata": {},
   "outputs": [],
   "source": [
    "simple_connection_info['西安']"
   ]
  },
  {
   "cell_type": "code",
   "execution_count": null,
   "metadata": {},
   "outputs": [],
   "source": [
    "nx.draw(nx.Graph(simple_connection_info), city_location, with_labels=True, node_size=10)"
   ]
  },
  {
   "cell_type": "code",
   "execution_count": null,
   "metadata": {},
   "outputs": [],
   "source": [
    "def search(start, destination, connection_grpah, sort_candidate):\n",
    "    pathes = [[start]]\n",
    "    \n",
    "    visitied = set()\n",
    "    \n",
    "    while pathes: # if we find existing pathes\n",
    "        path = pathes.pop(0)\n",
    "        froninter = path[-1]\n",
    "        \n",
    "        if froninter in visitied: continue\n",
    "            \n",
    "        successors = connection_grpah[froninter]\n",
    "        \n",
    "        for city in successors:\n",
    "            if city in path: continue  # eliminate loop\n",
    "                \n",
    "            new_path = path + [city]\n",
    "            \n",
    "            pathes.append(new_path)\n",
    "            \n",
    "            if city == destination: return new_path\n",
    "        \n",
    "        visitied.add(froninter)\n",
    "        \n",
    "        pathes = sort_candidate(pathes) # 我们可以加一个排序函数 对我们的搜索策略进行控制"
   ]
  },
  {
   "cell_type": "code",
   "execution_count": null,
   "metadata": {},
   "outputs": [],
   "source": [
    "def transfer_stations_first(pathes): \n",
    "    return sorted(pathes, key=len)"
   ]
  },
  {
   "cell_type": "code",
   "execution_count": null,
   "metadata": {},
   "outputs": [],
   "source": [
    "def transfer_as_much_possible(pathes):\n",
    "    return sorted(pathes, key=len, reverse=True)"
   ]
  },
  {
   "cell_type": "code",
   "execution_count": null,
   "metadata": {},
   "outputs": [],
   "source": [
    "def shortest_path_first(pathes):\n",
    "    \n",
    "    if len(pathes) <= 1: return pathes\n",
    "    \n",
    "    def get_path_distnace(path):\n",
    "        distance = 0\n",
    "        for station in path[:-1]:\n",
    "            distance += get_geo_distance(station, path[-1])\n",
    "            \n",
    "        return distance\n",
    "\n",
    "    return sorted(pathes, key=get_path_distnace)"
   ]
  },
  {
   "cell_type": "code",
   "execution_count": null,
   "metadata": {},
   "outputs": [],
   "source": [
    "search('兰州', '福州', simple_connection_info, sort_candidate=shortest_path_first)"
   ]
  },
  {
   "cell_type": "code",
   "execution_count": null,
   "metadata": {},
   "outputs": [],
   "source": [
    "def pretty_print(cities):\n",
    "    print('🚗->'.join(cities))"
   ]
  },
  {
   "cell_type": "code",
   "execution_count": null,
   "metadata": {},
   "outputs": [],
   "source": [
    "pretty_print(search('北京', '福州', simple_connection_info))"
   ]
  },
  {
   "cell_type": "markdown",
   "metadata": {},
   "source": [
    "## Breath first search"
   ]
  },
  {
   "cell_type": "markdown",
   "metadata": {},
   "source": [
    "## Depth first search"
   ]
  },
  {
   "cell_type": "code",
   "execution_count": 18,
   "metadata": {},
   "outputs": [
    {
     "ename": "NameError",
     "evalue": "name 'pretty_print' is not defined",
     "output_type": "error",
     "traceback": [
      "\u001b[1;31m---------------------------------------------------------------------------\u001b[0m",
      "\u001b[1;31mNameError\u001b[0m                                 Traceback (most recent call last)",
      "\u001b[1;32m<ipython-input-18-680a15805da9>\u001b[0m in \u001b[0;36m<module>\u001b[1;34m\u001b[0m\n\u001b[1;32m----> 1\u001b[1;33m \u001b[0mpretty_print\u001b[0m\u001b[1;33m(\u001b[0m\u001b[0msearch\u001b[0m\u001b[1;33m(\u001b[0m\u001b[1;34m'北京'\u001b[0m\u001b[1;33m,\u001b[0m \u001b[1;34m'南京'\u001b[0m\u001b[1;33m,\u001b[0m \u001b[0mcity_connection\u001b[0m\u001b[1;33m)\u001b[0m\u001b[1;33m)\u001b[0m\u001b[1;33m\u001b[0m\u001b[1;33m\u001b[0m\u001b[0m\n\u001b[0m",
      "\u001b[1;31mNameError\u001b[0m: name 'pretty_print' is not defined"
     ]
    }
   ],
   "source": [
    "pretty_print(search('北京', '南京', city_connection))"
   ]
  },
  {
   "cell_type": "code",
   "execution_count": null,
   "metadata": {},
   "outputs": [],
   "source": [
    "pretty_print(search('北京', '长沙', city_connection))"
   ]
  },
  {
   "cell_type": "code",
   "execution_count": null,
   "metadata": {},
   "outputs": [],
   "source": [
    "pretty_print(search('北京', '广州', city_connection, sort_candidate=transfer_stations_first))"
   ]
  },
  {
   "cell_type": "code",
   "execution_count": null,
   "metadata": {},
   "outputs": [],
   "source": [
    "pretty_print(search('北京', '广州', city_connection, sort_candidate=transfer_as_much_possible))"
   ]
  },
  {
   "cell_type": "markdown",
   "metadata": {},
   "source": [
    "## Assignment"
   ]
  },
  {
   "cell_type": "markdown",
   "metadata": {},
   "source": [
    "1. 网络爬虫 + 正则\n",
    "2. 数据处理\n",
    "3. 算法的应用能力"
   ]
  },
  {
   "cell_type": "code",
   "execution_count": null,
   "metadata": {},
   "outputs": [],
   "source": [
    "import requests"
   ]
  },
  {
   "cell_type": "code",
   "execution_count": null,
   "metadata": {},
   "outputs": [],
   "source": [
    "url = 'https://movie.douban.com/subject/26931786/?from=showing'"
   ]
  },
  {
   "cell_type": "code",
   "execution_count": null,
   "metadata": {},
   "outputs": [],
   "source": [
    "response = requests.get(url)"
   ]
  },
  {
   "cell_type": "code",
   "execution_count": null,
   "metadata": {},
   "outputs": [],
   "source": [
    "what_we_want = r'<a href=\"https://(movie\\.douban\\.com/subject/\\d+/\\?from=subject-page)\" class=\"\" '"
   ]
  },
  {
   "cell_type": "code",
   "execution_count": null,
   "metadata": {},
   "outputs": [],
   "source": [
    "pattern = re.compile(what_we_want)"
   ]
  },
  {
   "cell_type": "code",
   "execution_count": null,
   "metadata": {},
   "outputs": [],
   "source": [
    "likes = pattern.findall(response.text)"
   ]
  },
  {
   "cell_type": "code",
   "execution_count": null,
   "metadata": {},
   "outputs": [],
   "source": [
    "for like in likes:\n",
    "    print(like)"
   ]
  },
  {
   "cell_type": "markdown",
   "metadata": {},
   "source": [
    "## Machine Learning"
   ]
  },
  {
   "cell_type": "code",
   "execution_count": 19,
   "metadata": {},
   "outputs": [],
   "source": [
    "from sklearn.datasets import load_boston"
   ]
  },
  {
   "cell_type": "code",
   "execution_count": 20,
   "metadata": {},
   "outputs": [],
   "source": [
    "data = load_boston()"
   ]
  },
  {
   "cell_type": "code",
   "execution_count": 21,
   "metadata": {},
   "outputs": [],
   "source": [
    "X, y = data['data'], data['target']"
   ]
  },
  {
   "cell_type": "code",
   "execution_count": 22,
   "metadata": {},
   "outputs": [
    {
     "data": {
      "text/plain": [
       "array([2.7310e-02, 0.0000e+00, 7.0700e+00, 0.0000e+00, 4.6900e-01,\n",
       "       6.4210e+00, 7.8900e+01, 4.9671e+00, 2.0000e+00, 2.4200e+02,\n",
       "       1.7800e+01, 3.9690e+02, 9.1400e+00])"
      ]
     },
     "execution_count": 22,
     "metadata": {},
     "output_type": "execute_result"
    }
   ],
   "source": [
    "X[1]"
   ]
  },
  {
   "cell_type": "code",
   "execution_count": 23,
   "metadata": {},
   "outputs": [
    {
     "data": {
      "text/plain": [
       "21.6"
      ]
     },
     "execution_count": 23,
     "metadata": {},
     "output_type": "execute_result"
    }
   ],
   "source": [
    "y[1]"
   ]
  },
  {
   "cell_type": "code",
   "execution_count": 24,
   "metadata": {},
   "outputs": [
    {
     "data": {
      "text/plain": [
       "506"
      ]
     },
     "execution_count": 24,
     "metadata": {},
     "output_type": "execute_result"
    }
   ],
   "source": [
    "len(X[:, 0])"
   ]
  },
  {
   "cell_type": "code",
   "execution_count": 25,
   "metadata": {},
   "outputs": [
    {
     "data": {
      "text/plain": [
       "506"
      ]
     },
     "execution_count": 25,
     "metadata": {},
     "output_type": "execute_result"
    }
   ],
   "source": [
    "len(y)"
   ]
  },
  {
   "cell_type": "code",
   "execution_count": 26,
   "metadata": {},
   "outputs": [],
   "source": [
    "%matplotlib inline"
   ]
  },
  {
   "cell_type": "code",
   "execution_count": 27,
   "metadata": {},
   "outputs": [],
   "source": [
    "import matplotlib.pyplot as plt"
   ]
  },
  {
   "cell_type": "code",
   "execution_count": 28,
   "metadata": {},
   "outputs": [],
   "source": [
    "def draw_rm_and_price():\n",
    "    plt.scatter(X[:, 5], y)"
   ]
  },
  {
   "cell_type": "code",
   "execution_count": 29,
   "metadata": {},
   "outputs": [
    {
     "data": {
      "image/png": "[encoded data removed]",
      "text/plain": [
       "<Figure size 432x288 with 1 Axes>"
      ]
     },
     "metadata": {
      "needs_background": "light"
     },
     "output_type": "display_data"
    }
   ],
   "source": [
    "draw_rm_and_price()"
   ]
  },
  {
   "cell_type": "code",
   "execution_count": 30,
   "metadata": {},
   "outputs": [],
   "source": [
    "import random"
   ]
  },
  {
   "cell_type": "code",
   "execution_count": 31,
   "metadata": {},
   "outputs": [],
   "source": [
    "def price(rm, k, b):\n",
    "    \"\"\"f(x) = k * x + b\"\"\"\n",
    "    return k * rm + b  "
   ]
  },
  {
   "cell_type": "code",
   "execution_count": 32,
   "metadata": {},
   "outputs": [
    {
     "data": {
      "text/plain": [
       "<matplotlib.collections.PathCollection at 0x18d740a4940>"
      ]
     },
     "execution_count": 32,
     "metadata": {},
     "output_type": "execute_result"
    },
    {
     "data": {
      "image/png": "[encoded data removed]",
      "text/plain": [
       "<Figure size 432x288 with 1 Axes>"
      ]
     },
     "metadata": {
      "needs_background": "light"
     },
     "output_type": "display_data"
    }
   ],
   "source": [
    "X_rm = X[:, 5]\n",
    "k = random.randint(-100, 100)\n",
    "b = random.randint(-100, 100)\n",
    "price_by_random_k_and_b = [price(r, k, b) for r in X_rm]\n",
    "\n",
    "draw_rm_and_price()\n",
    "plt.scatter(X_rm, price_by_random_k_and_b)"
   ]
  },
  {
   "cell_type": "code",
   "execution_count": 33,
   "metadata": {},
   "outputs": [
    {
     "data": {
      "text/plain": [
       "<matplotlib.collections.PathCollection at 0x18d74df01d0>"
      ]
     },
     "execution_count": 33,
     "metadata": {},
     "output_type": "execute_result"
    },
    {
     "data": {
      "image/png": "[encoded data removed]",
      "text/plain": [
       "<Figure size 432x288 with 1 Axes>"
      ]
     },
     "metadata": {
      "needs_background": "light"
     },
     "output_type": "display_data"
    }
   ],
   "source": [
    "X_rm = X[:, 5]\n",
    "k = random.randint(-100, 100)\n",
    "b = random.randint(-100, 100)\n",
    "price_by_random_k_and_b = [price(r, k, b) for r in X_rm]\n",
    "\n",
    "draw_rm_and_price()\n",
    "plt.scatter(X_rm, price_by_random_k_and_b)"
   ]
  },
  {
   "cell_type": "markdown",
   "metadata": {},
   "source": [
    "$$ \\hat{y} $$"
   ]
  },
  {
   "cell_type": "code",
   "execution_count": 34,
   "metadata": {},
   "outputs": [
    {
     "data": {
      "text/plain": [
       "[24.0,\n",
       " 21.6,\n",
       " 34.7,\n",
       " 33.4,\n",
       " 36.2,\n",
       " 28.7,\n",
       " 22.9,\n",
       " 27.1,\n",
       " 16.5,\n",
       " 18.9,\n",
       " 15.0,\n",
       " 18.9,\n",
       " 21.7,\n",
       " 20.4,\n",
       " 18.2,\n",
       " 19.9,\n",
       " 23.1,\n",
       " 17.5,\n",
       " 20.2,\n",
       " 18.2,\n",
       " 13.6,\n",
       " 19.6,\n",
       " 15.2,\n",
       " 14.5,\n",
       " 15.6,\n",
       " 13.9,\n",
       " 16.6,\n",
       " 14.8,\n",
       " 18.4,\n",
       " 21.0,\n",
       " 12.7,\n",
       " 14.5,\n",
       " 13.2,\n",
       " 13.1,\n",
       " 13.5,\n",
       " 18.9,\n",
       " 20.0,\n",
       " 21.0,\n",
       " 24.7,\n",
       " 30.8,\n",
       " 34.9,\n",
       " 26.6,\n",
       " 25.3,\n",
       " 24.7,\n",
       " 21.2,\n",
       " 19.3,\n",
       " 20.0,\n",
       " 16.6,\n",
       " 14.4,\n",
       " 19.4,\n",
       " 19.7,\n",
       " 20.5,\n",
       " 25.0,\n",
       " 23.4,\n",
       " 18.9,\n",
       " 35.4,\n",
       " 24.7,\n",
       " 31.6,\n",
       " 23.3,\n",
       " 19.6,\n",
       " 18.7,\n",
       " 16.0,\n",
       " 22.2,\n",
       " 25.0,\n",
       " 33.0,\n",
       " 23.5,\n",
       " 19.4,\n",
       " 22.0,\n",
       " 17.4,\n",
       " 20.9,\n",
       " 24.2,\n",
       " 21.7,\n",
       " 22.8,\n",
       " 23.4,\n",
       " 24.1,\n",
       " 21.4,\n",
       " 20.0,\n",
       " 20.8,\n",
       " 21.2,\n",
       " 20.3,\n",
       " 28.0,\n",
       " 23.9,\n",
       " 24.8,\n",
       " 22.9,\n",
       " 23.9,\n",
       " 26.6,\n",
       " 22.5,\n",
       " 22.2,\n",
       " 23.6,\n",
       " 28.7,\n",
       " 22.6,\n",
       " 22.0,\n",
       " 22.9,\n",
       " 25.0,\n",
       " 20.6,\n",
       " 28.4,\n",
       " 21.4,\n",
       " 38.7,\n",
       " 43.8,\n",
       " 33.2,\n",
       " 27.5,\n",
       " 26.5,\n",
       " 18.6,\n",
       " 19.3,\n",
       " 20.1,\n",
       " 19.5,\n",
       " 19.5,\n",
       " 20.4,\n",
       " 19.8,\n",
       " 19.4,\n",
       " 21.7,\n",
       " 22.8,\n",
       " 18.8,\n",
       " 18.7,\n",
       " 18.5,\n",
       " 18.3,\n",
       " 21.2,\n",
       " 19.2,\n",
       " 20.4,\n",
       " 19.3,\n",
       " 22.0,\n",
       " 20.3,\n",
       " 20.5,\n",
       " 17.3,\n",
       " 18.8,\n",
       " 21.4,\n",
       " 15.7,\n",
       " 16.2,\n",
       " 18.0,\n",
       " 14.3,\n",
       " 19.2,\n",
       " 19.6,\n",
       " 23.0,\n",
       " 18.4,\n",
       " 15.6,\n",
       " 18.1,\n",
       " 17.4,\n",
       " 17.1,\n",
       " 13.3,\n",
       " 17.8,\n",
       " 14.0,\n",
       " 14.4,\n",
       " 13.4,\n",
       " 15.6,\n",
       " 11.8,\n",
       " 13.8,\n",
       " 15.6,\n",
       " 14.6,\n",
       " 17.8,\n",
       " 15.4,\n",
       " 21.5,\n",
       " 19.6,\n",
       " 15.3,\n",
       " 19.4,\n",
       " 17.0,\n",
       " 15.6,\n",
       " 13.1,\n",
       " 41.3,\n",
       " 24.3,\n",
       " 23.3,\n",
       " 27.0,\n",
       " 50.0,\n",
       " 50.0,\n",
       " 50.0,\n",
       " 22.7,\n",
       " 25.0,\n",
       " 50.0,\n",
       " 23.8,\n",
       " 23.8,\n",
       " 22.3,\n",
       " 17.4,\n",
       " 19.1,\n",
       " 23.1,\n",
       " 23.6,\n",
       " 22.6,\n",
       " 29.4,\n",
       " 23.2,\n",
       " 24.6,\n",
       " 29.9,\n",
       " 37.2,\n",
       " 39.8,\n",
       " 36.2,\n",
       " 37.9,\n",
       " 32.5,\n",
       " 26.4,\n",
       " 29.6,\n",
       " 50.0,\n",
       " 32.0,\n",
       " 29.8,\n",
       " 34.9,\n",
       " 37.0,\n",
       " 30.5,\n",
       " 36.4,\n",
       " 31.1,\n",
       " 29.1,\n",
       " 50.0,\n",
       " 33.3,\n",
       " 30.3,\n",
       " 34.6,\n",
       " 34.9,\n",
       " 32.9,\n",
       " 24.1,\n",
       " 42.3,\n",
       " 48.5,\n",
       " 50.0,\n",
       " 22.6,\n",
       " 24.4,\n",
       " 22.5,\n",
       " 24.4,\n",
       " 20.0,\n",
       " 21.7,\n",
       " 19.3,\n",
       " 22.4,\n",
       " 28.1,\n",
       " 23.7,\n",
       " 25.0,\n",
       " 23.3,\n",
       " 28.7,\n",
       " 21.5,\n",
       " 23.0,\n",
       " 26.7,\n",
       " 21.7,\n",
       " 27.5,\n",
       " 30.1,\n",
       " 44.8,\n",
       " 50.0,\n",
       " 37.6,\n",
       " 31.6,\n",
       " 46.7,\n",
       " 31.5,\n",
       " 24.3,\n",
       " 31.7,\n",
       " 41.7,\n",
       " 48.3,\n",
       " 29.0,\n",
       " 24.0,\n",
       " 25.1,\n",
       " 31.5,\n",
       " 23.7,\n",
       " 23.3,\n",
       " 22.0,\n",
       " 20.1,\n",
       " 22.2,\n",
       " 23.7,\n",
       " 17.6,\n",
       " 18.5,\n",
       " 24.3,\n",
       " 20.5,\n",
       " 24.5,\n",
       " 26.2,\n",
       " 24.4,\n",
       " 24.8,\n",
       " 29.6,\n",
       " 42.8,\n",
       " 21.9,\n",
       " 20.9,\n",
       " 44.0,\n",
       " 50.0,\n",
       " 36.0,\n",
       " 30.1,\n",
       " 33.8,\n",
       " 43.1,\n",
       " 48.8,\n",
       " 31.0,\n",
       " 36.5,\n",
       " 22.8,\n",
       " 30.7,\n",
       " 50.0,\n",
       " 43.5,\n",
       " 20.7,\n",
       " 21.1,\n",
       " 25.2,\n",
       " 24.4,\n",
       " 35.2,\n",
       " 32.4,\n",
       " 32.0,\n",
       " 33.2,\n",
       " 33.1,\n",
       " 29.1,\n",
       " 35.1,\n",
       " 45.4,\n",
       " 35.4,\n",
       " 46.0,\n",
       " 50.0,\n",
       " 32.2,\n",
       " 22.0,\n",
       " 20.1,\n",
       " 23.2,\n",
       " 22.3,\n",
       " 24.8,\n",
       " 28.5,\n",
       " 37.3,\n",
       " 27.9,\n",
       " 23.9,\n",
       " 21.7,\n",
       " 28.6,\n",
       " 27.1,\n",
       " 20.3,\n",
       " 22.5,\n",
       " 29.0,\n",
       " 24.8,\n",
       " 22.0,\n",
       " 26.4,\n",
       " 33.1,\n",
       " 36.1,\n",
       " 28.4,\n",
       " 33.4,\n",
       " 28.2,\n",
       " 22.8,\n",
       " 20.3,\n",
       " 16.1,\n",
       " 22.1,\n",
       " 19.4,\n",
       " 21.6,\n",
       " 23.8,\n",
       " 16.2,\n",
       " 17.8,\n",
       " 19.8,\n",
       " 23.1,\n",
       " 21.0,\n",
       " 23.8,\n",
       " 23.1,\n",
       " 20.4,\n",
       " 18.5,\n",
       " 25.0,\n",
       " 24.6,\n",
       " 23.0,\n",
       " 22.2,\n",
       " 19.3,\n",
       " 22.6,\n",
       " 19.8,\n",
       " 17.1,\n",
       " 19.4,\n",
       " 22.2,\n",
       " 20.7,\n",
       " 21.1,\n",
       " 19.5,\n",
       " 18.5,\n",
       " 20.6,\n",
       " 19.0,\n",
       " 18.7,\n",
       " 32.7,\n",
       " 16.5,\n",
       " 23.9,\n",
       " 31.2,\n",
       " 17.5,\n",
       " 17.2,\n",
       " 23.1,\n",
       " 24.5,\n",
       " 26.6,\n",
       " 22.9,\n",
       " 24.1,\n",
       " 18.6,\n",
       " 30.1,\n",
       " 18.2,\n",
       " 20.6,\n",
       " 17.8,\n",
       " 21.7,\n",
       " 22.7,\n",
       " 22.6,\n",
       " 25.0,\n",
       " 19.9,\n",
       " 20.8,\n",
       " 16.8,\n",
       " 21.9,\n",
       " 27.5,\n",
       " 21.9,\n",
       " 23.1,\n",
       " 50.0,\n",
       " 50.0,\n",
       " 50.0,\n",
       " 50.0,\n",
       " 50.0,\n",
       " 13.8,\n",
       " 13.8,\n",
       " 15.0,\n",
       " 13.9,\n",
       " 13.3,\n",
       " 13.1,\n",
       " 10.2,\n",
       " 10.4,\n",
       " 10.9,\n",
       " 11.3,\n",
       " 12.3,\n",
       " 8.8,\n",
       " 7.2,\n",
       " 10.5,\n",
       " 7.4,\n",
       " 10.2,\n",
       " 11.5,\n",
       " 15.1,\n",
       " 23.2,\n",
       " 9.7,\n",
       " 13.8,\n",
       " 12.7,\n",
       " 13.1,\n",
       " 12.5,\n",
       " 8.5,\n",
       " 5.0,\n",
       " 6.3,\n",
       " 5.6,\n",
       " 7.2,\n",
       " 12.1,\n",
       " 8.3,\n",
       " 8.5,\n",
       " 5.0,\n",
       " 11.9,\n",
       " 27.9,\n",
       " 17.2,\n",
       " 27.5,\n",
       " 15.0,\n",
       " 17.2,\n",
       " 17.9,\n",
       " 16.3,\n",
       " 7.0,\n",
       " 7.2,\n",
       " 7.5,\n",
       " 10.4,\n",
       " 8.8,\n",
       " 8.4,\n",
       " 16.7,\n",
       " 14.2,\n",
       " 20.8,\n",
       " 13.4,\n",
       " 11.7,\n",
       " 8.3,\n",
       " 10.2,\n",
       " 10.9,\n",
       " 11.0,\n",
       " 9.5,\n",
       " 14.5,\n",
       " 14.1,\n",
       " 16.1,\n",
       " 14.3,\n",
       " 11.7,\n",
       " 13.4,\n",
       " 9.6,\n",
       " 8.7,\n",
       " 8.4,\n",
       " 12.8,\n",
       " 10.5,\n",
       " 17.1,\n",
       " 18.4,\n",
       " 15.4,\n",
       " 10.8,\n",
       " 11.8,\n",
       " 14.9,\n",
       " 12.6,\n",
       " 14.1,\n",
       " 13.0,\n",
       " 13.4,\n",
       " 15.2,\n",
       " 16.1,\n",
       " 17.8,\n",
       " 14.9,\n",
       " 14.1,\n",
       " 12.7,\n",
       " 13.5,\n",
       " 14.9,\n",
       " 20.0,\n",
       " 16.4,\n",
       " 17.7,\n",
       " 19.5,\n",
       " 20.2,\n",
       " 21.4,\n",
       " 19.9,\n",
       " 19.0,\n",
       " 19.1,\n",
       " 19.1,\n",
       " 20.1,\n",
       " 19.9,\n",
       " 19.6,\n",
       " 23.2,\n",
       " 29.8,\n",
       " 13.8,\n",
       " 13.3,\n",
       " 16.7,\n",
       " 12.0,\n",
       " 14.6,\n",
       " 21.4,\n",
       " 23.0,\n",
       " 23.7,\n",
       " 25.0,\n",
       " 21.8,\n",
       " 20.6,\n",
       " 21.2,\n",
       " 19.1,\n",
       " 20.6,\n",
       " 15.2,\n",
       " 7.0,\n",
       " 8.1,\n",
       " 13.6,\n",
       " 20.1,\n",
       " 21.8,\n",
       " 24.5,\n",
       " 23.1,\n",
       " 19.7,\n",
       " 18.3,\n",
       " 21.2,\n",
       " 17.5,\n",
       " 16.8,\n",
       " 22.4,\n",
       " 20.6,\n",
       " 23.9,\n",
       " 22.0,\n",
       " 11.9]"
      ]
     },
     "execution_count": 34,
     "metadata": {},
     "output_type": "execute_result"
    }
   ],
   "source": [
    "list(y)"
   ]
  },
  {
   "cell_type": "code",
   "execution_count": 35,
   "metadata": {},
   "outputs": [
    {
     "data": {
      "text/plain": [
       "[281.05,\n",
       " 272.73400000000004,\n",
       " 313.98999999999995,\n",
       " 303.892,\n",
       " 311.938,\n",
       " 273.21999999999997,\n",
       " 250.64799999999997,\n",
       " 259.288,\n",
       " 230.074,\n",
       " 250.21599999999995,\n",
       " 270.358,\n",
       " 250.486,\n",
       " 244.00600000000003,\n",
       " 247.24599999999998,\n",
       " 255.18400000000003,\n",
       " 241.036,\n",
       " 246.48999999999995,\n",
       " 249.46000000000004,\n",
       " 220.62400000000002,\n",
       " 235.25800000000004,\n",
       " 226.78000000000003,\n",
       " 248.11,\n",
       " 257.668,\n",
       " 239.902,\n",
       " 245.89600000000002,\n",
       " 228.346,\n",
       " 239.902,\n",
       " 252.538,\n",
       " 276.73,\n",
       " 286.396,\n",
       " 234.502,\n",
       " 253.88799999999998,\n",
       " 247.3,\n",
       " 233.85399999999998,\n",
       " 255.18400000000003,\n",
       " 246.382,\n",
       " 241.414,\n",
       " 241.89999999999998,\n",
       " 248.164,\n",
       " 282.13,\n",
       " 305.296,\n",
       " 291.58,\n",
       " 259.126,\n",
       " 261.394,\n",
       " 253.726,\n",
       " 232.82800000000003,\n",
       " 238.44399999999996,\n",
       " 251.62,\n",
       " 217.546,\n",
       " 228.50800000000004,\n",
       " 248.002,\n",
       " 256.21000000000004,\n",
       " 277.594,\n",
       " 249.892,\n",
       " 243.952,\n",
       " 317.44599999999997,\n",
       " 270.682,\n",
       " 294.06399999999996,\n",
       " 257.83,\n",
       " 246.058,\n",
       " 236.014,\n",
       " 248.164,\n",
       " 274.624,\n",
       " 291.14799999999997,\n",
       " 309.616,\n",
       " 265.66,\n",
       " 238.498,\n",
       " 243.41200000000003,\n",
       " 228.07600000000002,\n",
       " 243.78999999999996,\n",
       " 272.518,\n",
       " 247.894,\n",
       " 253.51000000000005,\n",
       " 263.23,\n",
       " 264.74199999999996,\n",
       " 265.44399999999996,\n",
       " 265.066,\n",
       " 257.56,\n",
       " 262.528,\n",
       " 243.19599999999997,\n",
       " 289.25800000000004,\n",
       " 283.426,\n",
       " 266.308,\n",
       " 259.018,\n",
       " 271.00600000000003,\n",
       " 284.02,\n",
       " 250.81,\n",
       " 256.53400000000005,\n",
       " 304.378,\n",
       " 308.26599999999996,\n",
       " 272.518,\n",
       " 271.87,\n",
       " 273.868,\n",
       " 261.394,\n",
       " 263.44599999999997,\n",
       " 283.75,\n",
       " 258.802,\n",
       " 361.72600000000006,\n",
       " 348.28000000000003,\n",
       " 326.464,\n",
       " 289.25800000000004,\n",
       " 292.174,\n",
       " 271.87,\n",
       " 257.39799999999997,\n",
       " 259.018,\n",
       " 241.954,\n",
       " 241.144,\n",
       " 256.858,\n",
       " 275.596,\n",
       " 262.366,\n",
       " 260.53000000000003,\n",
       " 288.61,\n",
       " 245.30200000000002,\n",
       " 254.96799999999996,\n",
       " 263.71599999999995,\n",
       " 246.11200000000002,\n",
       " 259.504,\n",
       " 251.13400000000001,\n",
       " 243.08799999999997,\n",
       " 235.474,\n",
       " 242.98000000000002,\n",
       " 250.21599999999995,\n",
       " 247.894,\n",
       " 242.224,\n",
       " 243.46599999999995,\n",
       " 249.24399999999997,\n",
       " 229.10200000000003,\n",
       " 233.42199999999997,\n",
       " 273.274,\n",
       " 230.39799999999997,\n",
       " 274.732,\n",
       " 267.604,\n",
       " 270.08799999999997,\n",
       " 240.38799999999998,\n",
       " 236.878,\n",
       " 268.09,\n",
       " 246.868,\n",
       " 274.51599999999996,\n",
       " 242.27800000000002,\n",
       " 258.154,\n",
       " 259.396,\n",
       " 197.026,\n",
       " 217.762,\n",
       " 221.272,\n",
       " 190.762,\n",
       " 257.02,\n",
       " 229.91200000000003,\n",
       " 192.00400000000002,\n",
       " 206.04399999999998,\n",
       " 228.238,\n",
       " 256.58799999999997,\n",
       " 217.81599999999997,\n",
       " 196.64799999999997,\n",
       " 234.286,\n",
       " 256.96599999999995,\n",
       " 258.208,\n",
       " 210.688,\n",
       " 300.92199999999997,\n",
       " 253.56399999999996,\n",
       " 277.53999999999996,\n",
       " 263.5,\n",
       " 330.406,\n",
       " 347.308,\n",
       " 378.25,\n",
       " 242.11599999999999,\n",
       " 255.454,\n",
       " 354.166,\n",
       " 243.358,\n",
       " 267.226,\n",
       " 271.708,\n",
       " 243.25,\n",
       " 243.51999999999998,\n",
       " 226.88799999999998,\n",
       " 272.464,\n",
       " 242.38600000000002,\n",
       " 279.48400000000004,\n",
       " 251.07999999999998,\n",
       " 267.01000000000005,\n",
       " 296.44,\n",
       " 302.92,\n",
       " 345.31,\n",
       " 257.776,\n",
       " 312.37,\n",
       " 280.402,\n",
       " 228.61599999999999,\n",
       " 258.262,\n",
       " 348.874,\n",
       " 292.228,\n",
       " 280.024,\n",
       " 313.98999999999995,\n",
       " 301.354,\n",
       " 289.906,\n",
       " 313.612,\n",
       " 293.2,\n",
       " 282.616,\n",
       " 351.25,\n",
       " 319.498,\n",
       " 309.778,\n",
       " 318.796,\n",
       " 302.65,\n",
       " 311.28999999999996,\n",
       " 258.748,\n",
       " 336.94,\n",
       " 350.062,\n",
       " 359.836,\n",
       " 244.11399999999998,\n",
       " 267.604,\n",
       " 238.28200000000004,\n",
       " 253.45600000000002,\n",
       " 214.57600000000002,\n",
       " 247.83999999999997,\n",
       " 217.81599999999997,\n",
       " 239.57800000000003,\n",
       " 270.25,\n",
       " 218.248,\n",
       " 259.82800000000003,\n",
       " 243.952,\n",
       " 284.668,\n",
       " 247.35399999999998,\n",
       " 270.142,\n",
       " 301.354,\n",
       " 258.856,\n",
       " 297.46599999999995,\n",
       " 283.372,\n",
       " 372.364,\n",
       " 397.15,\n",
       " 360.15999999999997,\n",
       " 312.802,\n",
       " 341.044,\n",
       " 279.808,\n",
       " 248.974,\n",
       " 326.248,\n",
       " 376.198,\n",
       " 371.33799999999997,\n",
       " 289.204,\n",
       " 254.644,\n",
       " 284.074,\n",
       " 323.332,\n",
       " 275.974,\n",
       " 282.724,\n",
       " 298.438,\n",
       " 255.13,\n",
       " 269.332,\n",
       " 271.222,\n",
       " 228.022,\n",
       " 228.67000000000002,\n",
       " 255.832,\n",
       " 262.204,\n",
       " 273.382,\n",
       " 288.772,\n",
       " 276.298,\n",
       " 273.652,\n",
       " 301.678,\n",
       " 371.986,\n",
       " 255.832,\n",
       " 243.30400000000003,\n",
       " 328.51599999999996,\n",
       " 396.016,\n",
       " 321.982,\n",
       " 295.46799999999996,\n",
       " 314.962,\n",
       " 332.08,\n",
       " 379.49199999999996,\n",
       " 321.658,\n",
       " 315.124,\n",
       " 226.23999999999995,\n",
       " 304.75600000000003,\n",
       " 374.038,\n",
       " 329.38,\n",
       " 245.68,\n",
       " 242.224,\n",
       " 262.96000000000004,\n",
       " 279.052,\n",
       " 341.31399999999996,\n",
       " 290.932,\n",
       " 296.116,\n",
       " 318.418,\n",
       " 294.604,\n",
       " 276.028,\n",
       " 293.848,\n",
       " 348.28000000000003,\n",
       " 302.272,\n",
       " 338.83,\n",
       " 353.842,\n",
       " 308.752,\n",
       " 274.462,\n",
       " 262.42,\n",
       " 261.286,\n",
       " 267.01000000000005,\n",
       " 280.51000000000005,\n",
       " 296.49399999999997,\n",
       " 311.99199999999996,\n",
       " 284.02,\n",
       " 256.858,\n",
       " 250.486,\n",
       " 286.612,\n",
       " 279.646,\n",
       " 238.66000000000003,\n",
       " 268.63,\n",
       " 306.214,\n",
       " 297.03400000000005,\n",
       " 281.86,\n",
       " 276.73,\n",
       " 303.028,\n",
       " 316.74399999999997,\n",
       " 283.264,\n",
       " 326.68,\n",
       " 295.846,\n",
       " 284.28999999999996,\n",
       " 248.488,\n",
       " 194.54199999999997,\n",
       " 256.58799999999997,\n",
       " 251.24199999999996,\n",
       " 264.364,\n",
       " 280.618,\n",
       " 234.07,\n",
       " 245.356,\n",
       " 238.228,\n",
       " 270.628,\n",
       " 256.10200000000003,\n",
       " 273.004,\n",
       " 270.30400000000003,\n",
       " 252.214,\n",
       " 234.23200000000003,\n",
       " 272.41,\n",
       " 273.274,\n",
       " 266.848,\n",
       " 254.48200000000003,\n",
       " 242.872,\n",
       " 267.982,\n",
       " 257.776,\n",
       " 234.12400000000002,\n",
       " 251.67399999999998,\n",
       " 267.06399999999996,\n",
       " 266.73999999999995,\n",
       " 251.998,\n",
       " 242.926,\n",
       " 244.32999999999998,\n",
       " 253.18600000000004,\n",
       " 249.19,\n",
       " 248.272,\n",
       " 317.014,\n",
       " 279.16,\n",
       " 287.584,\n",
       " 297.19599999999997,\n",
       " 250.75600000000003,\n",
       " 244.49199999999996,\n",
       " 277.864,\n",
       " 284.28999999999996,\n",
       " 300.706,\n",
       " 276.46000000000004,\n",
       " 281.26599999999996,\n",
       " 243.736,\n",
       " 289.312,\n",
       " 231.80200000000002,\n",
       " 246.54399999999998,\n",
       " 261.448,\n",
       " 271.33,\n",
       " 256.858,\n",
       " 256.048,\n",
       " 271.49199999999996,\n",
       " 263.55400000000003,\n",
       " 215.548,\n",
       " 239.36200000000002,\n",
       " 400.11999999999995,\n",
       " 118.29399999999998,\n",
       " 194.002,\n",
       " 134.602,\n",
       " 194.38,\n",
       " 286.882,\n",
       " 304.864,\n",
       " 261.664,\n",
       " 243.25,\n",
       " 190.92399999999998,\n",
       " 149.452,\n",
       " 320.902,\n",
       " 285.046,\n",
       " 292.876,\n",
       " 270.52,\n",
       " 262.042,\n",
       " 302.272,\n",
       " 279.43,\n",
       " 224.94399999999996,\n",
       " 224.07999999999998,\n",
       " 161.872,\n",
       " 210.95800000000003,\n",
       " 177.208,\n",
       " 196.0,\n",
       " 189.51999999999998,\n",
       " 217.06,\n",
       " 234.502,\n",
       " 252.75400000000002,\n",
       " 197.94399999999996,\n",
       " 260.42199999999997,\n",
       " 243.89799999999997,\n",
       " 275.434,\n",
       " 271.87,\n",
       " 236.33799999999997,\n",
       " 220.462,\n",
       " 242.00800000000004,\n",
       " 249.298,\n",
       " 268.522,\n",
       " 271.816,\n",
       " 214.846,\n",
       " 224.67399999999998,\n",
       " 232.882,\n",
       " 149.452,\n",
       " 228.832,\n",
       " 229.31799999999998,\n",
       " 296.00800000000004,\n",
       " 236.878,\n",
       " 285.478,\n",
       " 175.912,\n",
       " 204.37,\n",
       " 170.026,\n",
       " 273.43600000000004,\n",
       " 292.228,\n",
       " 212.416,\n",
       " 247.678,\n",
       " 294.496,\n",
       " 272.19399999999996,\n",
       " 250.324,\n",
       " 230.99199999999996,\n",
       " 255.562,\n",
       " 226.51000000000005,\n",
       " 244.38400000000001,\n",
       " 241.19799999999998,\n",
       " 260.908,\n",
       " 260.42199999999997,\n",
       " 270.52,\n",
       " 268.792,\n",
       " 294.982,\n",
       " 272.95,\n",
       " 273.544,\n",
       " 261.232,\n",
       " 283.96599999999995,\n",
       " 274.894,\n",
       " 258.208,\n",
       " 246.48999999999995,\n",
       " 229.858,\n",
       " 240.17199999999997,\n",
       " 271.924,\n",
       " 261.826,\n",
       " 276.19,\n",
       " 242.11599999999999,\n",
       " 274.786,\n",
       " 268.414,\n",
       " 263.55400000000003,\n",
       " 259.98999999999995,\n",
       " 272.518,\n",
       " 290.44599999999997,\n",
       " 285.37,\n",
       " 266.038,\n",
       " 325.222,\n",
       " 289.312,\n",
       " 278.35,\n",
       " 248.704,\n",
       " 246.54399999999998,\n",
       " 266.254,\n",
       " 254.37400000000002,\n",
       " 287.854,\n",
       " 270.30400000000003,\n",
       " 267.118,\n",
       " 277.702,\n",
       " 261.286,\n",
       " 236.986,\n",
       " 247.40800000000002,\n",
       " 250.16200000000003,\n",
       " 246.00400000000002,\n",
       " 234.502,\n",
       " 259.018,\n",
       " 262.366,\n",
       " 273.598,\n",
       " 302.92,\n",
       " 219.058,\n",
       " 258.748,\n",
       " 276.136,\n",
       " 212.416,\n",
       " 259.98999999999995,\n",
       " 262.366,\n",
       " 263.068,\n",
       " 290.5,\n",
       " 307.294,\n",
       " 237.14799999999997,\n",
       " 243.03400000000005,\n",
       " 266.848,\n",
       " 256.156,\n",
       " 244.87,\n",
       " 220.51599999999996,\n",
       " 218.356,\n",
       " 201.022,\n",
       " 249.082,\n",
       " 249.082,\n",
       " 234.178,\n",
       " 246.00400000000002,\n",
       " 232.18,\n",
       " 217.06,\n",
       " 238.87599999999998,\n",
       " 251.026,\n",
       " 226.726,\n",
       " 251.45800000000003,\n",
       " 282.022,\n",
       " 256.48,\n",
       " 302.704,\n",
       " 292.876,\n",
       " 251.62]"
      ]
     },
     "execution_count": 35,
     "metadata": {},
     "output_type": "execute_result"
    }
   ],
   "source": [
    "price_by_random_k_and_b"
   ]
  },
  {
   "cell_type": "code",
   "execution_count": 36,
   "metadata": {},
   "outputs": [
    {
     "data": {
      "text/plain": [
       "[2, 2, 2]"
      ]
     },
     "execution_count": 36,
     "metadata": {},
     "output_type": "execute_result"
    }
   ],
   "source": [
    "[1, 1, 1]\n",
    "[2, 2, 2]"
   ]
  },
  {
   "cell_type": "markdown",
   "metadata": {},
   "source": [
    "## loss\n",
    "\n",
    "$$ loss = \\frac{1}{n} \\sum{(y_i - \\hat{y_i})}^2$$"
   ]
  },
  {
   "cell_type": "markdown",
   "metadata": {},
   "source": [
    "$$ loss = \\frac{1}{n} \\sum{(y_i - (kx_i + b_i))}^2 $$"
   ]
  },
  {
   "cell_type": "markdown",
   "metadata": {},
   "source": [
    "$$ \\frac{\\partial{loss}}{\\partial{k}} = -\\frac{2}{n}\\sum(y_i - (kx_i + b_i))x_i$$"
   ]
  },
  {
   "cell_type": "markdown",
   "metadata": {},
   "source": [
    "$$ \\frac{\\partial{loss}}{\\partial{k}} = -\\frac{2}{n}\\sum(y_i - \\hat{y_i})x_i$$"
   ]
  },
  {
   "cell_type": "markdown",
   "metadata": {},
   "source": [
    "$$ \\frac{\\partial{loss}}{\\partial{b}} = -\\frac{2}{n}\\sum(y_i - \\hat{y_i})$$"
   ]
  },
  {
   "cell_type": "code",
   "execution_count": 37,
   "metadata": {},
   "outputs": [],
   "source": [
    "def loss(y, y_hat): # to evaluate the performance \n",
    "    return sum((y_i - y_hat_i)**2 for y_i, y_hat_i in zip(list(y), list(y_hat))) / len(list(y))"
   ]
  },
  {
   "cell_type": "code",
   "execution_count": null,
   "metadata": {},
   "outputs": [],
   "source": []
  },
  {
   "cell_type": "code",
   "execution_count": null,
   "metadata": {},
   "outputs": [],
   "source": []
  },
  {
   "cell_type": "markdown",
   "metadata": {},
   "source": [
    "## First-Method: Random generation: get best k and best b"
   ]
  },
  {
   "cell_type": "code",
   "execution_count": 38,
   "metadata": {},
   "outputs": [
    {
     "name": "stdout",
     "output_type": "stream",
     "text": [
      "When time is : 0, get best_k: 28.929771266949842 best_b: 36.905298064956895, and the loss is: 38726.05790183909\n",
      "When time is : 1, get best_k: 18.992897350338268 best_b: -43.109238054325935, and the loss is: 2977.785536664142\n",
      "When time is : 2, get best_k: 5.75998323958855 best_b: -9.138818447472858, and the loss is: 69.60450753630668\n",
      "When time is : 87, get best_k: 12.723815117510014 best_b: -58.804000298144786, and the loss is: 51.946268412692476\n"
     ]
    }
   ],
   "source": [
    "trying_times = 2000\n",
    "\n",
    "min_loss = float('inf')\n",
    "best_k, best_b = None, None\n",
    "\n",
    "for i in range(trying_times):\n",
    "    k = random.random() * 200 - 100\n",
    "    b = random.random() * 200 - 100\n",
    "    price_by_random_k_and_b = [price(r, k, b) for r in X_rm]\n",
    "\n",
    "    current_loss = loss(y, price_by_random_k_and_b)\n",
    "    \n",
    "    if current_loss < min_loss:\n",
    "        min_loss = current_loss\n",
    "        best_k, best_b = k, b\n",
    "        print('When time is : {}, get best_k: {} best_b: {}, and the loss is: {}'.format(i, best_k, best_b, min_loss))"
   ]
  },
  {
   "cell_type": "code",
   "execution_count": 39,
   "metadata": {},
   "outputs": [
    {
     "data": {
      "text/plain": [
       "3.1622776601683795"
      ]
     },
     "execution_count": 39,
     "metadata": {},
     "output_type": "execute_result"
    }
   ],
   "source": [
    "10 ** 0.5"
   ]
  },
  {
   "cell_type": "code",
   "execution_count": 40,
   "metadata": {},
   "outputs": [
    {
     "data": {
      "text/plain": [
       "<matplotlib.collections.PathCollection at 0x18d75e37048>"
      ]
     },
     "execution_count": 40,
     "metadata": {},
     "output_type": "execute_result"
    },
    {
     "data": {
      "image/png": "[encoded data removed]",
      "text/plain": [
       "<Figure size 432x288 with 1 Axes>"
      ]
     },
     "metadata": {
      "needs_background": "light"
     },
     "output_type": "display_data"
    }
   ],
   "source": [
    "X_rm = X[:, 5]\n",
    "k = 15\n",
    "b = -68\n",
    "price_by_random_k_and_b = [price(r, k, b) for r in X_rm]\n",
    "\n",
    "draw_rm_and_price()\n",
    "plt.scatter(X_rm, price_by_random_k_and_b)"
   ]
  },
  {
   "cell_type": "markdown",
   "metadata": {},
   "source": [
    "## 2nd-Method: Direction Adjusting"
   ]
  },
  {
   "cell_type": "code",
   "execution_count": 41,
   "metadata": {},
   "outputs": [
    {
     "name": "stdout",
     "output_type": "stream",
     "text": [
      "When time is : 10, get best_k: -50.7697851641648 best_b: 0.4954652091680145, and the loss is: 118163.64012053152\n",
      "When time is : 20, get best_k: -49.76978516416479 best_b: -0.5045347908319855, and the loss is: 114527.81270180712\n",
      "When time is : 30, get best_k: -48.76978516416477 best_b: -1.504534790831986, and the loss is: 110948.82539473109\n",
      "When time is : 40, get best_k: -47.76978516416476 best_b: -2.5045347908319866, and the loss is: 107426.67819930307\n",
      "When time is : 50, get best_k: -46.769785164164745 best_b: -3.5045347908319875, and the loss is: 103961.37111552339\n",
      "When time is : 60, get best_k: -45.76978516416473 best_b: -4.504534790831986, and the loss is: 100552.90414339186\n",
      "When time is : 70, get best_k: -44.769785164164716 best_b: -5.504534790831983, and the loss is: 97201.27728290843\n",
      "When time is : 80, get best_k: -43.7697851641647 best_b: -6.504534790831979, and the loss is: 93906.49053407341\n",
      "When time is : 90, get best_k: -42.76978516416469 best_b: -7.5045347908319755, and the loss is: 90668.54389688664\n",
      "When time is : 100, get best_k: -41.769785164164674 best_b: -8.504534790831972, and the loss is: 87487.43737134805\n",
      "When time is : 110, get best_k: -40.76978516416466 best_b: -9.504534790831968, and the loss is: 84363.1709574576\n",
      "When time is : 120, get best_k: -39.769785164164645 best_b: -10.504534790831965, and the loss is: 81295.74465521544\n",
      "When time is : 130, get best_k: -38.76978516416463 best_b: -11.504534790831961, and the loss is: 78285.15846462159\n",
      "When time is : 140, get best_k: -37.76978516416462 best_b: -12.504534790831958, and the loss is: 75331.41238567577\n",
      "When time is : 150, get best_k: -36.7697851641646 best_b: -13.504534790831954, and the loss is: 72434.50641837833\n",
      "When time is : 160, get best_k: -35.76978516416459 best_b: -14.50453479083195, and the loss is: 69594.44056272901\n",
      "When time is : 170, get best_k: -34.769785164164574 best_b: -15.504534790831947, and the loss is: 66811.21481872792\n",
      "When time is : 180, get best_k: -33.76978516416456 best_b: -16.504534790831954, and the loss is: 64084.82918637514\n",
      "When time is : 190, get best_k: -32.769785164164546 best_b: -17.50453479083197, and the loss is: 61415.28366567059\n",
      "When time is : 200, get best_k: -31.76978516416453 best_b: -18.504534790831983, and the loss is: 58802.57825661418\n",
      "When time is : 210, get best_k: -30.769785164164517 best_b: -19.504534790831997, and the loss is: 56246.71295920598\n",
      "When time is : 220, get best_k: -29.769785164164503 best_b: -20.50453479083201, and the loss is: 53747.68777344611\n",
      "When time is : 230, get best_k: -28.76978516416449 best_b: -21.504534790832025, and the loss is: 51305.50269933442\n",
      "When time is : 240, get best_k: -27.769785164164475 best_b: -22.50453479083204, and the loss is: 48920.15773687092\n",
      "When time is : 250, get best_k: -26.76978516416446 best_b: -23.504534790832054, and the loss is: 46591.65288605569\n",
      "When time is : 260, get best_k: -25.769785164164446 best_b: -24.504534790832068, and the loss is: 44319.98814688863\n",
      "When time is : 270, get best_k: -24.769785164164432 best_b: -25.504534790832082, and the loss is: 42105.16351936981\n",
      "When time is : 280, get best_k: -23.769785164164418 best_b: -26.504534790832096, and the loss is: 39947.17900349924\n",
      "When time is : 290, get best_k: -22.769785164164404 best_b: -27.50453479083211, and the loss is: 37846.03459927688\n",
      "When time is : 300, get best_k: -21.76978516416439 best_b: -28.504534790832125, and the loss is: 35801.730306702746\n",
      "When time is : 310, get best_k: -20.769785164164375 best_b: -29.50453479083214, and the loss is: 33814.26612577682\n",
      "When time is : 320, get best_k: -19.76978516416436 best_b: -30.504534790832153, and the loss is: 31883.642056499128\n",
      "When time is : 330, get best_k: -18.769785164164347 best_b: -31.504534790832167, and the loss is: 30009.85809886967\n",
      "When time is : 340, get best_k: -17.769785164164333 best_b: -32.50453479083218, and the loss is: 28192.9142528884\n",
      "When time is : 350, get best_k: -16.76978516416432 best_b: -33.504534790832196, and the loss is: 26432.810518555372\n",
      "When time is : 360, get best_k: -15.76978516416431 best_b: -34.50453479083221, and the loss is: 24729.546895870597\n",
      "When time is : 370, get best_k: -14.769785164164313 best_b: -35.504534790832224, and the loss is: 23083.123384834034\n",
      "When time is : 380, get best_k: -13.769785164164317 best_b: -36.50453479083224, and the loss is: 21493.539985445714\n",
      "When time is : 390, get best_k: -12.76978516416432 best_b: -37.50453479083225, and the loss is: 19960.796697705584\n",
      "When time is : 400, get best_k: -11.769785164164324 best_b: -38.50453479083227, and the loss is: 18484.8935216137\n",
      "When time is : 410, get best_k: -10.769785164164327 best_b: -39.50453479083228, and the loss is: 17065.83045717004\n",
      "When time is : 420, get best_k: -9.76978516416433 best_b: -40.504534790832295, and the loss is: 15703.607504374606\n",
      "When time is : 430, get best_k: -8.769785164164334 best_b: -41.50453479083231, and the loss is: 14398.224663227376\n",
      "When time is : 440, get best_k: -7.769785164164338 best_b: -42.504534790832324, and the loss is: 13149.681933728387\n",
      "When time is : 450, get best_k: -6.769785164164341 best_b: -43.50453479083234, and the loss is: 11957.979315877594\n",
      "When time is : 460, get best_k: -5.769785164164345 best_b: -44.50453479083235, and the loss is: 10823.116809675026\n",
      "When time is : 470, get best_k: -4.7697851641643485 best_b: -45.504534790832366, and the loss is: 9745.094415120688\n",
      "When time is : 480, get best_k: -3.7697851641643507 best_b: -46.50453479083238, and the loss is: 8723.912132214571\n",
      "When time is : 490, get best_k: -2.76978516416435 best_b: -47.504534790832395, and the loss is: 7759.569960956651\n",
      "When time is : 500, get best_k: -1.769785164164349 best_b: -48.50453479083241, and the loss is: 6852.067901346985\n",
      "When time is : 510, get best_k: -0.7697851641643484 best_b: -49.50453479083242, and the loss is: 6001.405953385517\n",
      "When time is : 520, get best_k: 0.23021483583565153 best_b: -50.50453479083244, and the loss is: 5207.584117072273\n",
      "When time is : 530, get best_k: 1.2302148358356517 best_b: -51.50453479083245, and the loss is: 4470.602392407252\n",
      "When time is : 540, get best_k: 2.2302148358356524 best_b: -52.504534790832466, and the loss is: 3790.4607793904547\n",
      "When time is : 550, get best_k: 3.2302148358356533 best_b: -53.50453479083248, and the loss is: 3167.1592780218784\n",
      "When time is : 560, get best_k: 4.230214835835653 best_b: -54.504534790832494, and the loss is: 2600.69788830152\n",
      "When time is : 570, get best_k: 5.23021483583565 best_b: -55.50453479083251, and the loss is: 2091.0766102293883\n",
      "When time is : 580, get best_k: 6.230214835835646 best_b: -56.50453479083252, and the loss is: 1638.2954438054717\n",
      "When time is : 590, get best_k: 7.230214835835643 best_b: -57.50453479083254, and the loss is: 1242.3543890297806\n",
      "When time is : 600, get best_k: 8.230214835835639 best_b: -58.50453479083255, and the loss is: 903.2534459023076\n",
      "When time is : 610, get best_k: 9.230214835835636 best_b: -59.504534790832565, and the loss is: 620.992614423057\n",
      "When time is : 620, get best_k: 10.230214835835632 best_b: -60.50453479083258, and the loss is: 395.571894592026\n",
      "When time is : 630, get best_k: 11.230214835835628 best_b: -61.504534790832594, and the loss is: 226.99128640921631\n",
      "When time is : 640, get best_k: 12.230214835835625 best_b: -62.50453479083261, and the loss is: 115.25078987462658\n",
      "When time is : 650, get best_k: 13.230214835835621 best_b: -63.50453479083262, and the loss is: 60.35040498825756\n"
     ]
    }
   ],
   "source": [
    "trying_times = 2000\n",
    "\n",
    "min_loss = float('inf')\n",
    "\n",
    "best_k = random.random() * 200 - 100\n",
    "best_b = random.random() * 200 - 100\n",
    "\n",
    "direction = [\n",
    "    (+1, -1),  # first element: k's change direction, second element: b's change direction\n",
    "    (+1, +1), \n",
    "    (-1, -1), \n",
    "    (-1, +1),\n",
    "]\n",
    "\n",
    "next_direction = random.choice(direction)\n",
    "\n",
    "scalar = 0.1\n",
    "\n",
    "update_time = 0\n",
    "\n",
    "for i in range(trying_times):\n",
    "    \n",
    "    k_direction, b_direction = next_direction\n",
    "    \n",
    "    current_k, current_b = best_k + k_direction * scalar, best_b + b_direction * scalar\n",
    "    \n",
    "    price_by_k_and_b = [price(r, current_k, current_b) for r in X_rm]\n",
    "\n",
    "    current_loss = loss(y, price_by_k_and_b)\n",
    "    \n",
    "    if current_loss < min_loss: # performance became better\n",
    "        min_loss = current_loss\n",
    "        best_k, best_b = current_k, current_b\n",
    "        \n",
    "        next_direction = next_direction\n",
    "        update_time += 1\n",
    "        \n",
    "        if update_time % 10 == 0: \n",
    "            print('When time is : {}, get best_k: {} best_b: {}, and the loss is: {}'.format(i, best_k, best_b, min_loss))\n",
    "    else:\n",
    "        next_direction = random.choice(direction)"
   ]
  },
  {
   "cell_type": "code",
   "execution_count": null,
   "metadata": {},
   "outputs": [],
   "source": []
  },
  {
   "cell_type": "markdown",
   "metadata": {},
   "source": [
    "如果我们想得到更快的更新，在更短的时间内获得更好的结果，我们需要一件事情：\n",
    "\n",
    "#### 找对改变的方向\n",
    "\n",
    "#### 如何找对改变的方向呢？ \n",
    "\n",
    "#### 2nd-method: 监督让他变化--> 监督学习"
   ]
  },
  {
   "cell_type": "markdown",
   "metadata": {},
   "source": [
    "## loss\n",
    "\n",
    "$$ loss = \\frac{1}{n} \\sum{(y_i - \\hat{y_i})}^2$$\n",
    "$$ loss = \\frac{1}{n} \\sum{(y_i - (kx_i + b_i))}^2 $$\n",
    "$$ \\frac{\\partial{loss}}{\\partial{k}} = -\\frac{2}{n}\\sum(y_i - (kx_i + b_i))x_i$$\n",
    "$$ \\frac{\\partial{loss}}{\\partial{k}} = -\\frac{2}{n}\\sum(y_i - \\hat{y_i})x_i$$\n",
    "$$ \\frac{\\partial{loss}}{\\partial{b}} = -\\frac{2}{n}\\sum(y_i - \\hat{y_i})$$"
   ]
  },
  {
   "cell_type": "code",
   "execution_count": 42,
   "metadata": {},
   "outputs": [],
   "source": [
    "def loss(y, y_hat): # to evaluate the performance \n",
    "    return sum((y_i - y_hat_i)**2 for y_i, y_hat_i in zip(list(y), list(y_hat))) / len(list(y))"
   ]
  },
  {
   "cell_type": "code",
   "execution_count": null,
   "metadata": {},
   "outputs": [],
   "source": []
  },
  {
   "cell_type": "markdown",
   "metadata": {},
   "source": [
    "## 导数"
   ]
  },
  {
   "cell_type": "code",
   "execution_count": 43,
   "metadata": {},
   "outputs": [],
   "source": [
    "def partial_k(x, y, y_hat):\n",
    "    n = len(y)\n",
    "\n",
    "    gradient = 0\n",
    "    \n",
    "    for x_i, y_i, y_hat_i in zip(list(x), list(y), list(y_hat)):\n",
    "        gradient += (y_i - y_hat_i) * x_i\n",
    "    \n",
    "    return -2 / n * gradient\n",
    "\n",
    "\n",
    "def partial_b(x, y, y_hat):\n",
    "    n = len(y)\n",
    "\n",
    "    gradient = 0\n",
    "    \n",
    "    for y_i, y_hat_i in zip(list(y), list(y_hat)):\n",
    "        gradient += (y_i - y_hat_i)\n",
    "    \n",
    "    return -2 / n * gradient"
   ]
  },
  {
   "cell_type": "code",
   "execution_count": 44,
   "metadata": {},
   "outputs": [
    {
     "ename": "ModuleNotFoundError",
     "evalue": "No module named 'icecream'",
     "output_type": "error",
     "traceback": [
      "\u001b[1;31m---------------------------------------------------------------------------\u001b[0m",
      "\u001b[1;31mModuleNotFoundError\u001b[0m                       Traceback (most recent call last)",
      "\u001b[1;32m<ipython-input-44-58dadeb530cd>\u001b[0m in \u001b[0;36m<module>\u001b[1;34m\u001b[0m\n\u001b[1;32m----> 1\u001b[1;33m \u001b[1;32mfrom\u001b[0m \u001b[0micecream\u001b[0m \u001b[1;32mimport\u001b[0m \u001b[0mic\u001b[0m\u001b[1;33m\u001b[0m\u001b[1;33m\u001b[0m\u001b[0m\n\u001b[0m",
      "\u001b[1;31mModuleNotFoundError\u001b[0m: No module named 'icecream'"
     ]
    }
   ],
   "source": [
    "#from icecream import ic"
   ]
  },
  {
   "cell_type": "code",
   "execution_count": 52,
   "metadata": {},
   "outputs": [
    {
     "name": "stdout",
     "output_type": "stream",
     "text": [
      "When time is : 0, get best_k: 13.73021483583562 best_b: -64.00453479083262, and the loss is: 139640.83916824558\n",
      "When time is : 50, get best_k: 13.73021483583562 best_b: -64.00453479083262, and the loss is: 61350.347302537\n",
      "When time is : 100, get best_k: 13.73021483583562 best_b: -64.00453479083262, and the loss is: 26969.370020798273\n",
      "When time is : 150, get best_k: 13.73021483583562 best_b: -64.00453479083262, and the loss is: 11871.09175181941\n",
      "When time is : 200, get best_k: 13.73021483583562 best_b: -64.00453479083262, and the loss is: 5240.7385952922305\n",
      "When time is : 250, get best_k: 13.73021483583562 best_b: -64.00453479083262, and the loss is: 2329.0430636443944\n",
      "When time is : 300, get best_k: 13.73021483583562 best_b: -64.00453479083262, and the loss is: 1050.3821122860322\n",
      "When time is : 350, get best_k: 13.73021483583562 best_b: -64.00453479083262, and the loss is: 488.86218594638046\n",
      "When time is : 400, get best_k: 13.73021483583562 best_b: -64.00453479083262, and the loss is: 242.27205725978294\n",
      "When time is : 450, get best_k: 13.73021483583562 best_b: -64.00453479083262, and the loss is: 133.98217087231632\n",
      "When time is : 500, get best_k: 13.73021483583562 best_b: -64.00453479083262, and the loss is: 86.42631852849979\n",
      "When time is : 550, get best_k: 13.73021483583562 best_b: -64.00453479083262, and the loss is: 65.54159013901693\n",
      "When time is : 600, get best_k: 13.73021483583562 best_b: -64.00453479083262, and the loss is: 56.369386207381964\n",
      "When time is : 650, get best_k: 13.73021483583562 best_b: -64.00453479083262, and the loss is: 52.340693742327126\n",
      "When time is : 700, get best_k: 13.73021483583562 best_b: -64.00453479083262, and the loss is: 50.57075527107252\n",
      "When time is : 750, get best_k: 13.73021483583562 best_b: -64.00453479083262, and the loss is: 49.79274034466298\n",
      "When time is : 800, get best_k: 13.73021483583562 best_b: -64.00453479083262, and the loss is: 49.450325112094276\n",
      "When time is : 850, get best_k: 13.73021483583562 best_b: -64.00453479083262, and the loss is: 49.29920203601391\n",
      "When time is : 900, get best_k: 13.73021483583562 best_b: -64.00453479083262, and the loss is: 49.232084375591164\n",
      "When time is : 950, get best_k: 13.73021483583562 best_b: -64.00453479083262, and the loss is: 49.20185756003206\n",
      "When time is : 1000, get best_k: 13.73021483583562 best_b: -64.00453479083262, and the loss is: 49.18783140183966\n",
      "When time is : 1050, get best_k: 13.73021483583562 best_b: -64.00453479083262, and the loss is: 49.180919882557646\n",
      "When time is : 1100, get best_k: 13.73021483583562 best_b: -64.00453479083262, and the loss is: 49.1771329111388\n",
      "When time is : 1150, get best_k: 13.73021483583562 best_b: -64.00453479083262, and the loss is: 49.17471825398775\n",
      "When time is : 1200, get best_k: 13.73021483583562 best_b: -64.00453479083262, and the loss is: 49.17290642423503\n",
      "When time is : 1250, get best_k: 13.73021483583562 best_b: -64.00453479083262, and the loss is: 49.17135950455785\n",
      "When time is : 1300, get best_k: 13.73021483583562 best_b: -64.00453479083262, and the loss is: 49.16992909978494\n",
      "When time is : 1350, get best_k: 13.73021483583562 best_b: -64.00453479083262, and the loss is: 49.168550042688935\n",
      "When time is : 1400, get best_k: 13.73021483583562 best_b: -64.00453479083262, and the loss is: 49.167193715282174\n",
      "When time is : 1450, get best_k: 13.73021483583562 best_b: -64.00453479083262, and the loss is: 49.165847550039274\n",
      "When time is : 1500, get best_k: 13.73021483583562 best_b: -64.00453479083262, and the loss is: 49.164506027934856\n",
      "When time is : 1550, get best_k: 13.73021483583562 best_b: -64.00453479083262, and the loss is: 49.16316672526633\n",
      "When time is : 1600, get best_k: 13.73021483583562 best_b: -64.00453479083262, and the loss is: 49.16182857763038\n",
      "When time is : 1650, get best_k: 13.73021483583562 best_b: -64.00453479083262, and the loss is: 49.16049111755478\n",
      "When time is : 1700, get best_k: 13.73021483583562 best_b: -64.00453479083262, and the loss is: 49.159154139707745\n",
      "When time is : 1750, get best_k: 13.73021483583562 best_b: -64.00453479083262, and the loss is: 49.15781755387511\n",
      "When time is : 1800, get best_k: 13.73021483583562 best_b: -64.00453479083262, and the loss is: 49.15648132039616\n",
      "When time is : 1850, get best_k: 13.73021483583562 best_b: -64.00453479083262, and the loss is: 49.15514542181091\n",
      "When time is : 1900, get best_k: 13.73021483583562 best_b: -64.00453479083262, and the loss is: 49.15380985040857\n",
      "When time is : 1950, get best_k: 13.73021483583562 best_b: -64.00453479083262, and the loss is: 49.152474602759526\n"
     ]
    }
   ],
   "source": [
    "trying_times = 2000\n",
    "\n",
    "X, y = data['data'], data['target']\n",
    "\n",
    "min_loss = float('inf') \n",
    "\n",
    "current_k = random.random() * 200 - 100\n",
    "current_b = random.random() * 200 - 100\n",
    "\n",
    "learning_rate = 1e-04\n",
    "\n",
    "\n",
    "update_time = 0\n",
    "\n",
    "for i in range(trying_times):\n",
    "    \n",
    "    price_by_k_and_b = [price(r, current_k, current_b) for r in X_rm]\n",
    "    \n",
    "    current_loss = loss(y, price_by_k_and_b)\n",
    "\n",
    "    if current_loss < min_loss: # performance became better\n",
    "        min_loss = current_loss\n",
    "        \n",
    "        if i % 50 == 0: \n",
    "            print('When time is : {}, get best_k: {} best_b: {}, and the loss is: {}'.format(i, best_k, best_b, min_loss))\n",
    "\n",
    "    k_gradient = partial_k(X_rm, y, price_by_k_and_b)\n",
    "    \n",
    "    b_gradient = partial_b(X_rm, y, price_by_k_and_b)\n",
    "    \n",
    "    current_k = current_k + (-1 * k_gradient) * learning_rate\n",
    "\n",
    "    current_b = current_b + (-1 * b_gradient) * learning_rate"
   ]
  },
  {
   "cell_type": "code",
   "execution_count": null,
   "metadata": {},
   "outputs": [],
   "source": [
    "y = 10"
   ]
  },
  {
   "cell_type": "code",
   "execution_count": 53,
   "metadata": {},
   "outputs": [
    {
     "data": {
      "text/plain": [
       "<matplotlib.collections.PathCollection at 0x18d75ee10f0>"
      ]
     },
     "execution_count": 53,
     "metadata": {},
     "output_type": "execute_result"
    },
    {
     "data": {
      "image/png": "[encoded data removed]",
      "text/plain": [
       "<Figure size 432x288 with 1 Axes>"
      ]
     },
     "metadata": {
      "needs_background": "light"
     },
     "output_type": "display_data"
    }
   ],
   "source": [
    "X_rm = X[:, 5]\n",
    "k = 11.431551629413757\n",
    "b = -49.52403584539048\n",
    "price_by_random_k_and_b = [price(r, k, b) for r in X_rm]\n",
    "\n",
    "draw_rm_and_price()\n",
    "plt.scatter(X_rm, price_by_random_k_and_b)"
   ]
  },
  {
   "cell_type": "markdown",
   "metadata": {},
   "source": [
    "## Breaking: 10:03 PM Continue :)"
   ]
  },
  {
   "cell_type": "code",
   "execution_count": null,
   "metadata": {},
   "outputs": [],
   "source": [
    "loss([1, 1, 1], [2, 2, 3])"
   ]
  },
  {
   "cell_type": "code",
   "execution_count": null,
   "metadata": {},
   "outputs": [],
   "source": [
    "import time"
   ]
  },
  {
   "cell_type": "code",
   "execution_count": null,
   "metadata": {},
   "outputs": [],
   "source": [
    "for i in range(100):\n",
    "    print('R U ready?')\n",
    "    time.sleep(1)"
   ]
  },
  {
   "cell_type": "code",
   "execution_count": null,
   "metadata": {},
   "outputs": [],
   "source": [
    "loss([1, 1, 1], [1, 1, 1])"
   ]
  },
  {
   "cell_type": "code",
   "execution_count": null,
   "metadata": {},
   "outputs": [],
   "source": [
    "data['feature_names']"
   ]
  },
  {
   "cell_type": "code",
   "execution_count": null,
   "metadata": {},
   "outputs": [],
   "source": [
    "data['DESCR']"
   ]
  },
  {
   "cell_type": "code",
   "execution_count": null,
   "metadata": {},
   "outputs": [],
   "source": []
  },
  {
   "cell_type": "code",
   "execution_count": null,
   "metadata": {},
   "outputs": [],
   "source": []
  },
  {
   "cell_type": "code",
   "execution_count": null,
   "metadata": {},
   "outputs": [],
   "source": []
  },
  {
   "cell_type": "code",
   "execution_count": null,
   "metadata": {},
   "outputs": [],
   "source": []
  },
  {
   "cell_type": "code",
   "execution_count": null,
   "metadata": {},
   "outputs": [],
   "source": []
  },
  {
   "cell_type": "code",
   "execution_count": null,
   "metadata": {},
   "outputs": [],
   "source": []
  },
  {
   "cell_type": "code",
   "execution_count": null,
   "metadata": {},
   "outputs": [],
   "source": []
  },
  {
   "cell_type": "code",
   "execution_count": null,
   "metadata": {},
   "outputs": [],
   "source": []
  },
  {
   "cell_type": "code",
   "execution_count": null,
   "metadata": {},
   "outputs": [],
   "source": []
  },
  {
   "cell_type": "code",
   "execution_count": null,
   "metadata": {},
   "outputs": [],
   "source": []
  },
  {
   "cell_type": "code",
   "execution_count": null,
   "metadata": {},
   "outputs": [],
   "source": []
  },
  {
   "cell_type": "code",
   "execution_count": null,
   "metadata": {},
   "outputs": [],
   "source": []
  },
  {
   "cell_type": "code",
   "execution_count": null,
   "metadata": {},
   "outputs": [],
   "source": []
  },
  {
   "cell_type": "code",
   "execution_count": null,
   "metadata": {},
   "outputs": [],
   "source": []
  },
  {
   "cell_type": "code",
   "execution_count": null,
   "metadata": {},
   "outputs": [],
   "source": []
  },
  {
   "cell_type": "code",
   "execution_count": null,
   "metadata": {},
   "outputs": [],
   "source": []
  },
  {
   "cell_type": "code",
   "execution_count": null,
   "metadata": {},
   "outputs": [],
   "source": []
  },
  {
   "cell_type": "code",
   "execution_count": null,
   "metadata": {},
   "outputs": [],
   "source": []
  },
  {
   "cell_type": "code",
   "execution_count": null,
   "metadata": {},
   "outputs": [],
   "source": []
  },
  {
   "cell_type": "code",
   "execution_count": null,
   "metadata": {},
   "outputs": [],
   "source": []
  },
  {
   "cell_type": "code",
   "execution_count": null,
   "metadata": {},
   "outputs": [],
   "source": []
  },
  {
   "cell_type": "code",
   "execution_count": null,
   "metadata": {},
   "outputs": [],
   "source": []
  },
  {
   "cell_type": "code",
   "execution_count": null,
   "metadata": {},
   "outputs": [],
   "source": []
  },
  {
   "cell_type": "code",
   "execution_count": null,
   "metadata": {},
   "outputs": [],
   "source": []
  }
 ],
 "metadata": {
  "kernelspec": {
   "display_name": "Python 3",
   "language": "python",
   "name": "python3"
  },
  "language_info": {
   "codemirror_mode": {
    "name": "ipython",
    "version": 3
   },
   "file_extension": ".py",
   "mimetype": "text/x-python",
   "name": "python",
   "nbconvert_exporter": "python",
   "pygments_lexer": "ipython3",
   "version": "3.7.3"
  }
 },
 "nbformat": 4,
 "nbformat_minor": 2
}
