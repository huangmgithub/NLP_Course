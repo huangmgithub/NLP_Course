{
 "cells": [
  {
   "cell_type": "markdown",
   "metadata": {},
   "source": [
    "##### 问题描述\n",
    "\n",
    "大家好，我们在用 networkx 显示中文的时候，会发现不能显示中文。 \n",
    "\n",
    "##### 解决办法\n",
    "\n",
    "1. 下载Github仓库中的字体SimHei.ttf； \n",
    "2. 在 jupyter notebook 中执行\n",
    "```python\n",
    "import matplotlib\n",
    "print(matplotlib.__path__)\n",
    "```\n",
    "找到 matplotlib 的路径，然后 cd 到这个路径。 cd 到这个路径之后，继续 cd，cd 到 mpl-data/fonts/ttf 这个路径。 然后把 `DejaVuSans.ttf` 这个文件换成我们刚刚下在的文件。 \n",
    "\n",
    "```bash\n",
    "$ mv SimHei.ttf DejaVuSans.ttf\n",
    "```\n",
    "\n",
    "其中，用到的 ttf 字体。 我给大家传到附件上了。 "
   ]
  },
  {
   "cell_type": "markdown",
   "metadata": {},
   "source": [
    "Previous Course"
   ]
  },
  {
   "cell_type": "markdown",
   "metadata": {},
   "source": [
    "1. What's the language model? OOV problem? \n",
    "2. Syntax Tree. lambda "
   ]
  },
  {
   "cell_type": "markdown",
   "metadata": {},
   "source": [
    "$$ pr(w) $$"
   ]
  },
  {
   "cell_type": "markdown",
   "metadata": {},
   "source": [
    "## Out of Vocabulary(OOV)"
   ]
  },
  {
   "cell_type": "markdown",
   "metadata": {},
   "source": [
    "Pr(w_o) = constant < Pr(w_1)"
   ]
  },
  {
   "cell_type": "markdown",
   "metadata": {},
   "source": [
    "## Language Model: Smooth"
   ]
  },
  {
   "cell_type": "code",
   "execution_count": 1,
   "metadata": {},
   "outputs": [],
   "source": [
    "import random"
   ]
  },
  {
   "cell_type": "code",
   "execution_count": 5,
   "metadata": {},
   "outputs": [],
   "source": [
    "\"\"\"adj* => adj* adj | adj null\"\"\"\n",
    "\n",
    "def adj():  return random.choice('蓝色的 | 好看的 | 小小的'.split('|')).split()[0]\n",
    "\n",
    "def adj_star_2():\n",
    "     return random.choice([lambda : '', lambda : adj() + adj_star_2()])()\n",
    "\n",
    "def adj_star():\n",
    "    return random.choice(['', ajd() + adj_star()])"
   ]
  },
  {
   "cell_type": "code",
   "execution_count": null,
   "metadata": {},
   "outputs": [],
   "source": [
    "lambda : adj() + adj_star_2()"
   ]
  },
  {
   "cell_type": "code",
   "execution_count": 31,
   "metadata": {},
   "outputs": [],
   "source": [
    "numbers = [1, -2, -4, 1, 5, 6, 9, -11]"
   ]
  },
  {
   "cell_type": "code",
   "execution_count": 36,
   "metadata": {},
   "outputs": [],
   "source": [
    "def absolute(number): \n",
    "    if number < 0: return -1 * number\n",
    "    else:\n",
    "        return number"
   ]
  },
  {
   "cell_type": "code",
   "execution_count": 34,
   "metadata": {},
   "outputs": [
    {
     "data": {
      "text/plain": [
       "11"
      ]
     },
     "execution_count": 34,
     "metadata": {},
     "output_type": "execute_result"
    }
   ],
   "source": [
    "absolute(-11)"
   ]
  },
  {
   "cell_type": "code",
   "execution_count": 37,
   "metadata": {},
   "outputs": [],
   "source": []
  },
  {
   "cell_type": "code",
   "execution_count": 38,
   "metadata": {},
   "outputs": [
    {
     "data": {
      "text/plain": [
       "1"
      ]
     },
     "execution_count": 38,
     "metadata": {},
     "output_type": "execute_result"
    }
   ],
   "source": [
    "mod_5(6)"
   ]
  },
  {
   "cell_type": "code",
   "execution_count": 39,
   "metadata": {},
   "outputs": [
    {
     "data": {
      "text/plain": [
       "2"
      ]
     },
     "execution_count": 39,
     "metadata": {},
     "output_type": "execute_result"
    }
   ],
   "source": [
    "mod_5(7)"
   ]
  },
  {
   "cell_type": "code",
   "execution_count": 41,
   "metadata": {},
   "outputs": [
    {
     "data": {
      "text/plain": [
       "[5, 1, -4, 1, 6, -2, 9, -11]"
      ]
     },
     "execution_count": 41,
     "metadata": {},
     "output_type": "execute_result"
    }
   ],
   "source": [
    "def mod_5(number): \n",
    "    return number % 5\n",
    "\n",
    "sorted(numbers, key=lambda x: x % 5)"
   ]
  },
  {
   "cell_type": "code",
   "execution_count": 42,
   "metadata": {},
   "outputs": [],
   "source": [
    "mod_5_lambda = lambda x: x % 5"
   ]
  },
  {
   "cell_type": "code",
   "execution_count": 43,
   "metadata": {},
   "outputs": [
    {
     "data": {
      "text/plain": [
       "<function __main__.mod_5(number)>"
      ]
     },
     "execution_count": 43,
     "metadata": {},
     "output_type": "execute_result"
    }
   ],
   "source": [
    "mod_5"
   ]
  },
  {
   "cell_type": "code",
   "execution_count": 45,
   "metadata": {},
   "outputs": [
    {
     "data": {
      "text/plain": [
       "4"
      ]
     },
     "execution_count": 45,
     "metadata": {},
     "output_type": "execute_result"
    }
   ],
   "source": [
    "mod_5_lambda(19)"
   ]
  },
  {
   "cell_type": "code",
   "execution_count": 46,
   "metadata": {},
   "outputs": [
    {
     "data": {
      "text/plain": [
       "4"
      ]
     },
     "execution_count": 46,
     "metadata": {},
     "output_type": "execute_result"
    }
   ],
   "source": [
    "mod_5(19)"
   ]
  },
  {
   "cell_type": "code",
   "execution_count": 30,
   "metadata": {},
   "outputs": [
    {
     "data": {
      "text/plain": [
       "'蓝色的'"
      ]
     },
     "execution_count": 30,
     "metadata": {},
     "output_type": "execute_result"
    }
   ],
   "source": [
    "adj_star_2()"
   ]
  },
  {
   "cell_type": "markdown",
   "metadata": {},
   "source": [
    "## Search Policy"
   ]
  },
  {
   "cell_type": "code",
   "execution_count": 48,
   "metadata": {},
   "outputs": [],
   "source": [
    "coordination_source = \"\"\"\n",
    "{name:'兰州', geoCoord:[103.73, 36.03]},\n",
    "{name:'嘉峪关', geoCoord:[98.17, 39.47]},\n",
    "{name:'西宁', geoCoord:[101.74, 36.56]},\n",
    "{name:'成都', geoCoord:[104.06, 30.67]},\n",
    "{name:'石家庄', geoCoord:[114.48, 38.03]},\n",
    "{name:'拉萨', geoCoord:[102.73, 25.04]},\n",
    "{name:'贵阳', geoCoord:[106.71, 26.57]},\n",
    "{name:'武汉', geoCoord:[114.31, 30.52]},\n",
    "{name:'郑州', geoCoord:[113.65, 34.76]},\n",
    "{name:'济南', geoCoord:[117, 36.65]},\n",
    "{name:'南京', geoCoord:[118.78, 32.04]},\n",
    "{name:'合肥', geoCoord:[117.27, 31.86]},\n",
    "{name:'杭州', geoCoord:[120.19, 30.26]},\n",
    "{name:'南昌', geoCoord:[115.89, 28.68]},\n",
    "{name:'福州', geoCoord:[119.3, 26.08]},\n",
    "{name:'广州', geoCoord:[113.23, 23.16]},\n",
    "{name:'长沙', geoCoord:[113, 28.21]},\n",
    "//{name:'海口', geoCoord:[110.35, 20.02]},\n",
    "{name:'沈阳', geoCoord:[123.38, 41.8]},\n",
    "{name:'长春', geoCoord:[125.35, 43.88]},\n",
    "{name:'哈尔滨', geoCoord:[126.63, 45.75]},\n",
    "{name:'太原', geoCoord:[112.53, 37.87]},\n",
    "{name:'西安', geoCoord:[108.95, 34.27]},\n",
    "//{name:'台湾', geoCoord:[121.30, 25.03]},\n",
    "{name:'北京', geoCoord:[116.46, 39.92]},\n",
    "{name:'上海', geoCoord:[121.48, 31.22]},\n",
    "{name:'重庆', geoCoord:[106.54, 29.59]},\n",
    "{name:'天津', geoCoord:[117.2, 39.13]},\n",
    "{name:'呼和浩特', geoCoord:[111.65, 40.82]},\n",
    "{name:'南宁', geoCoord:[108.33, 22.84]},\n",
    "//{name:'西藏', geoCoord:[91.11, 29.97]},\n",
    "{name:'银川', geoCoord:[106.27, 38.47]},\n",
    "{name:'乌鲁木齐', geoCoord:[87.68, 43.77]},\n",
    "{name:'香港', geoCoord:[114.17, 22.28]},\n",
    "{name:'澳门', geoCoord:[113.54, 22.19]}\n",
    "\"\"\""
   ]
  },
  {
   "cell_type": "code",
   "execution_count": 54,
   "metadata": {},
   "outputs": [],
   "source": [
    "city_location = {\n",
    "    '香港': (114.17, 22.28)\n",
    "}"
   ]
  },
  {
   "cell_type": "markdown",
   "metadata": {},
   "source": [
    "Input: String -> dict"
   ]
  },
  {
   "cell_type": "code",
   "execution_count": 55,
   "metadata": {},
   "outputs": [],
   "source": [
    "test_string = \"{name:'兰州', geoCoord:[103.73, 36.03]},\""
   ]
  },
  {
   "cell_type": "code",
   "execution_count": 56,
   "metadata": {},
   "outputs": [],
   "source": [
    "import re"
   ]
  },
  {
   "cell_type": "code",
   "execution_count": 86,
   "metadata": {},
   "outputs": [],
   "source": [
    "pattern = re.compile(r\"name:'(\\w+)',\\s+geoCoord:\\[(\\d+.\\d+),\\s(\\d+.\\d+)\\]\")"
   ]
  },
  {
   "cell_type": "code",
   "execution_count": 93,
   "metadata": {},
   "outputs": [],
   "source": [
    "for line in coordination_source.split('\\n'):\n",
    "    city_info = pattern.findall(line)\n",
    "    if not city_info: continue\n",
    "    \n",
    "    # following: we find the city info\n",
    "    \n",
    "    city, long, lat = city_info[0]\n",
    "    \n",
    "    long, lat = float(long), float(lat)\n",
    "    \n",
    "    city_location[city] = (long, lat)"
   ]
  },
  {
   "cell_type": "code",
   "execution_count": 94,
   "metadata": {},
   "outputs": [
    {
     "data": {
      "text/plain": [
       "{'香港': (114.17, 22.28),\n",
       " '兰州': (103.73, 36.03),\n",
       " '嘉峪关': (98.17, 39.47),\n",
       " '西宁': (101.74, 36.56),\n",
       " '成都': (104.06, 30.67),\n",
       " '石家庄': (114.48, 38.03),\n",
       " '拉萨': (102.73, 25.04),\n",
       " '贵阳': (106.71, 26.57),\n",
       " '武汉': (114.31, 30.52),\n",
       " '郑州': (113.65, 34.76),\n",
       " '济南': (117.0, 36.65),\n",
       " '南京': (118.78, 32.04),\n",
       " '合肥': (117.27, 31.86),\n",
       " '杭州': (120.19, 30.26),\n",
       " '南昌': (115.89, 28.68),\n",
       " '福州': (119.3, 26.08),\n",
       " '广州': (113.23, 23.16),\n",
       " '长沙': (113.0, 28.21),\n",
       " '海口': (110.35, 20.02),\n",
       " '沈阳': (123.38, 41.8),\n",
       " '长春': (125.35, 43.88),\n",
       " '哈尔滨': (126.63, 45.75),\n",
       " '太原': (112.53, 37.87),\n",
       " '西安': (108.95, 34.27),\n",
       " '台湾': (121.3, 25.03),\n",
       " '北京': (116.46, 39.92),\n",
       " '上海': (121.48, 31.22),\n",
       " '重庆': (106.54, 29.59),\n",
       " '天津': (117.2, 39.13),\n",
       " '呼和浩特': (111.65, 40.82),\n",
       " '南宁': (108.33, 22.84),\n",
       " '西藏': (91.11, 29.97),\n",
       " '银川': (106.27, 38.47),\n",
       " '乌鲁木齐': (87.68, 43.77),\n",
       " '澳门': (113.54, 22.19)}"
      ]
     },
     "execution_count": 94,
     "metadata": {},
     "output_type": "execute_result"
    }
   ],
   "source": [
    "city_location"
   ]
  },
  {
   "cell_type": "code",
   "execution_count": 89,
   "metadata": {},
   "outputs": [],
   "source": [
    "import math"
   ]
  },
  {
   "cell_type": "code",
   "execution_count": 90,
   "metadata": {},
   "outputs": [],
   "source": [
    "def geo_distance(origin, destination):\n",
    "    \"\"\"\n",
    "    Calculate the Haversine distance.\n",
    "\n",
    "    Parameters\n",
    "    ----------\n",
    "    origin : tuple of float\n",
    "        (lat, long)\n",
    "    destination : tuple of float\n",
    "        (lat, long)\n",
    "\n",
    "    Returns\n",
    "    -------\n",
    "    distance_in_km : float\n",
    "\n",
    "    Examples\n",
    "    --------\n",
    "    >>> origin = (48.1372, 11.5756)  # Munich\n",
    "    >>> destination = (52.5186, 13.4083)  # Berlin\n",
    "    >>> round(distance(origin, destination), 1)\n",
    "    504.2\n",
    "    \"\"\"\n",
    "    lat1, lon1 = origin\n",
    "    lat2, lon2 = destination\n",
    "    radius = 6371  # km\n",
    "\n",
    "    dlat = math.radians(lat2 - lat1)\n",
    "    dlon = math.radians(lon2 - lon1)\n",
    "    a = (math.sin(dlat / 2) * math.sin(dlat / 2) +\n",
    "         math.cos(math.radians(lat1)) * math.cos(math.radians(lat2)) *\n",
    "         math.sin(dlon / 2) * math.sin(dlon / 2))\n",
    "    c = 2 * math.atan2(math.sqrt(a), math.sqrt(1 - a))\n",
    "    d = radius * c\n",
    "\n",
    "    return d"
   ]
  },
  {
   "cell_type": "code",
   "execution_count": 91,
   "metadata": {},
   "outputs": [],
   "source": [
    "def get_geo_distance(city1, city2):\n",
    "    return geo_distance(city_location[city1], city_location[city2])"
   ]
  },
  {
   "cell_type": "code",
   "execution_count": 95,
   "metadata": {},
   "outputs": [
    {
     "data": {
      "text/plain": [
       "153.5185697155768"
      ]
     },
     "execution_count": 95,
     "metadata": {},
     "output_type": "execute_result"
    }
   ],
   "source": [
    "get_geo_distance('上海', '杭州')"
   ]
  },
  {
   "cell_type": "code",
   "execution_count": 96,
   "metadata": {},
   "outputs": [],
   "source": [
    "import networkx as nx"
   ]
  },
  {
   "cell_type": "code",
   "execution_count": 114,
   "metadata": {},
   "outputs": [],
   "source": [
    "city_graph = nx.Graph()"
   ]
  },
  {
   "cell_type": "code",
   "execution_count": 115,
   "metadata": {},
   "outputs": [],
   "source": [
    "city_graph.add_nodes_from(list(city_location.keys()))"
   ]
  },
  {
   "cell_type": "code",
   "execution_count": 106,
   "metadata": {},
   "outputs": [],
   "source": [
    "%matplotlib inline"
   ]
  },
  {
   "cell_type": "code",
   "execution_count": 109,
   "metadata": {},
   "outputs": [],
   "source": [
    "import matplotlib.pyplot as plt"
   ]
  },
  {
   "cell_type": "code",
   "execution_count": 120,
   "metadata": {},
   "outputs": [
    {
     "data": {
      "image/png": "[encoded data removed]",
      "text/plain": [
       "<Figure size 432x288 with 1 Axes>"
      ]
     },
     "metadata": {},
     "output_type": "display_data"
    }
   ],
   "source": [
    "nx.draw(city_graph, city_location, with_labels=True, node_size=30)"
   ]
  },
  {
   "cell_type": "code",
   "execution_count": 205,
   "metadata": {},
   "outputs": [],
   "source": [
    "threshold = 300"
   ]
  },
  {
   "cell_type": "code",
   "execution_count": 208,
   "metadata": {},
   "outputs": [],
   "source": [
    "city_connection = defaultdict(list)"
   ]
  },
  {
   "cell_type": "code",
   "execution_count": 211,
   "metadata": {},
   "outputs": [],
   "source": [
    "for c1 in city_location:\n",
    "    for c2 in city_location:\n",
    "        if c1 == c2: continue\n",
    "        \n",
    "        distance = get_geo_distance(c1, c2)\n",
    "        \n",
    "        if distance < threshold:\n",
    "            city_connection[c1].append(c2)\n",
    "            city_connection[c2].append(c1)"
   ]
  },
  {
   "cell_type": "code",
   "execution_count": 212,
   "metadata": {},
   "outputs": [
    {
     "data": {
      "text/plain": [
       "defaultdict(list,\n",
       "            {'香港': ['广州',\n",
       "              '长沙',\n",
       "              '澳门',\n",
       "              '广州',\n",
       "              '长沙',\n",
       "              '澳门',\n",
       "              '广州',\n",
       "              '长沙',\n",
       "              '澳门',\n",
       "              '广州',\n",
       "              '长沙',\n",
       "              '澳门'],\n",
       "             '广州': ['香港',\n",
       "              '香港',\n",
       "              '长沙',\n",
       "              '澳门',\n",
       "              '长沙',\n",
       "              '澳门',\n",
       "              '香港',\n",
       "              '香港',\n",
       "              '长沙',\n",
       "              '澳门',\n",
       "              '长沙',\n",
       "              '澳门'],\n",
       "             '长沙': ['香港',\n",
       "              '武汉',\n",
       "              '郑州',\n",
       "              '广州',\n",
       "              '香港',\n",
       "              '武汉',\n",
       "              '郑州',\n",
       "              '广州',\n",
       "              '澳门',\n",
       "              '澳门',\n",
       "              '香港',\n",
       "              '武汉',\n",
       "              '郑州',\n",
       "              '广州',\n",
       "              '香港',\n",
       "              '武汉',\n",
       "              '郑州',\n",
       "              '广州',\n",
       "              '澳门',\n",
       "              '澳门'],\n",
       "             '澳门': ['香港',\n",
       "              '广州',\n",
       "              '长沙',\n",
       "              '香港',\n",
       "              '广州',\n",
       "              '长沙',\n",
       "              '香港',\n",
       "              '广州',\n",
       "              '长沙',\n",
       "              '香港',\n",
       "              '广州',\n",
       "              '长沙'],\n",
       "             '兰州': ['西宁',\n",
       "              '成都',\n",
       "              '银川',\n",
       "              '西宁',\n",
       "              '成都',\n",
       "              '银川',\n",
       "              '西宁',\n",
       "              '成都',\n",
       "              '银川',\n",
       "              '西宁',\n",
       "              '成都',\n",
       "              '银川'],\n",
       "             '西宁': ['兰州',\n",
       "              '兰州',\n",
       "              '成都',\n",
       "              '拉萨',\n",
       "              '成都',\n",
       "              '拉萨',\n",
       "              '兰州',\n",
       "              '兰州',\n",
       "              '成都',\n",
       "              '拉萨',\n",
       "              '成都',\n",
       "              '拉萨'],\n",
       "             '成都': ['兰州',\n",
       "              '西宁',\n",
       "              '兰州',\n",
       "              '西宁',\n",
       "              '拉萨',\n",
       "              '重庆',\n",
       "              '拉萨',\n",
       "              '重庆',\n",
       "              '兰州',\n",
       "              '西宁',\n",
       "              '兰州',\n",
       "              '西宁',\n",
       "              '拉萨',\n",
       "              '重庆',\n",
       "              '拉萨',\n",
       "              '重庆'],\n",
       "             '银川': ['兰州', '重庆', '兰州', '重庆', '兰州', '重庆', '兰州', '重庆'],\n",
       "             '拉萨': ['西宁', '成都', '西宁', '成都', '西宁', '成都', '西宁', '成都'],\n",
       "             '重庆': ['成都',\n",
       "              '贵阳',\n",
       "              '成都',\n",
       "              '贵阳',\n",
       "              '银川',\n",
       "              '银川',\n",
       "              '成都',\n",
       "              '贵阳',\n",
       "              '成都',\n",
       "              '贵阳',\n",
       "              '银川',\n",
       "              '银川'],\n",
       "             '石家庄': ['郑州',\n",
       "              '济南',\n",
       "              '太原',\n",
       "              '北京',\n",
       "              '郑州',\n",
       "              '济南',\n",
       "              '太原',\n",
       "              '北京',\n",
       "              '郑州',\n",
       "              '济南',\n",
       "              '太原',\n",
       "              '北京',\n",
       "              '郑州',\n",
       "              '济南',\n",
       "              '太原',\n",
       "              '北京'],\n",
       "             '郑州': ['石家庄',\n",
       "              '武汉',\n",
       "              '石家庄',\n",
       "              '武汉',\n",
       "              '长沙',\n",
       "              '太原',\n",
       "              '长沙',\n",
       "              '太原',\n",
       "              '石家庄',\n",
       "              '武汉',\n",
       "              '石家庄',\n",
       "              '武汉',\n",
       "              '长沙',\n",
       "              '太原',\n",
       "              '长沙',\n",
       "              '太原'],\n",
       "             '济南': ['石家庄',\n",
       "              '石家庄',\n",
       "              '合肥',\n",
       "              '北京',\n",
       "              '天津',\n",
       "              '合肥',\n",
       "              '北京',\n",
       "              '天津',\n",
       "              '石家庄',\n",
       "              '石家庄',\n",
       "              '合肥',\n",
       "              '北京',\n",
       "              '天津',\n",
       "              '合肥',\n",
       "              '北京',\n",
       "              '天津'],\n",
       "             '太原': ['石家庄',\n",
       "              '郑州',\n",
       "              '石家庄',\n",
       "              '郑州',\n",
       "              '呼和浩特',\n",
       "              '呼和浩特',\n",
       "              '石家庄',\n",
       "              '郑州',\n",
       "              '石家庄',\n",
       "              '郑州',\n",
       "              '呼和浩特',\n",
       "              '呼和浩特'],\n",
       "             '北京': ['石家庄',\n",
       "              '济南',\n",
       "              '石家庄',\n",
       "              '济南',\n",
       "              '天津',\n",
       "              '天津',\n",
       "              '石家庄',\n",
       "              '济南',\n",
       "              '石家庄',\n",
       "              '济南',\n",
       "              '天津',\n",
       "              '天津'],\n",
       "             '贵阳': ['重庆', '南宁', '重庆', '南宁', '重庆', '南宁', '重庆', '南宁'],\n",
       "             '南宁': ['贵阳', '海口', '贵阳', '海口', '贵阳', '海口', '贵阳', '海口'],\n",
       "             '武汉': ['郑州',\n",
       "              '南昌',\n",
       "              '长沙',\n",
       "              '郑州',\n",
       "              '南昌',\n",
       "              '长沙',\n",
       "              '郑州',\n",
       "              '南昌',\n",
       "              '长沙',\n",
       "              '郑州',\n",
       "              '南昌',\n",
       "              '长沙'],\n",
       "             '南昌': ['武汉', '合肥', '武汉', '合肥', '武汉', '合肥', '武汉', '合肥'],\n",
       "             '合肥': ['济南',\n",
       "              '南京',\n",
       "              '济南',\n",
       "              '南京',\n",
       "              '南昌',\n",
       "              '南昌',\n",
       "              '济南',\n",
       "              '南京',\n",
       "              '济南',\n",
       "              '南京',\n",
       "              '南昌',\n",
       "              '南昌'],\n",
       "             '天津': ['济南', '北京', '济南', '北京', '济南', '北京', '济南', '北京'],\n",
       "             '南京': ['合肥', '杭州', '合肥', '杭州', '合肥', '杭州', '合肥', '杭州'],\n",
       "             '杭州': ['南京',\n",
       "              '南京',\n",
       "              '福州',\n",
       "              '上海',\n",
       "              '福州',\n",
       "              '上海',\n",
       "              '南京',\n",
       "              '南京',\n",
       "              '福州',\n",
       "              '上海',\n",
       "              '福州',\n",
       "              '上海'],\n",
       "             '福州': ['杭州', '杭州', '台湾', '台湾', '杭州', '杭州', '台湾', '台湾'],\n",
       "             '上海': ['杭州', '杭州', '杭州', '杭州'],\n",
       "             '台湾': ['福州', '福州', '福州', '福州'],\n",
       "             '海口': ['南宁', '南宁', '南宁', '南宁'],\n",
       "             '沈阳': ['长春', '长春', '长春', '长春'],\n",
       "             '长春': ['沈阳', '沈阳', '哈尔滨', '哈尔滨', '沈阳', '沈阳', '哈尔滨', '哈尔滨'],\n",
       "             '哈尔滨': ['长春', '长春', '长春', '长春'],\n",
       "             '呼和浩特': ['太原', '太原', '太原', '太原']})"
      ]
     },
     "execution_count": 212,
     "metadata": {},
     "output_type": "execute_result"
    }
   ],
   "source": [
    "city_connection"
   ]
  },
  {
   "cell_type": "code",
   "execution_count": 213,
   "metadata": {},
   "outputs": [],
   "source": [
    "city_with_road = nx.Graph(city_connection)"
   ]
  },
  {
   "cell_type": "code",
   "execution_count": 214,
   "metadata": {},
   "outputs": [
    {
     "name": "stderr",
     "output_type": "stream",
     "text": [
      "/Users/gaominquan/anaconda3/lib/python3.7/site-packages/networkx/drawing/nx_pylab.py:611: MatplotlibDeprecationWarning: isinstance(..., numbers.Number)\n",
      "  if cb.is_numlike(alpha):\n"
     ]
    },
    {
     "data": {
      "image/png": "[encoded data removed]",
      "text/plain": [
       "<Figure size 432x288 with 1 Axes>"
      ]
     },
     "metadata": {},
     "output_type": "display_data"
    }
   ],
   "source": [
    "nx.draw(city_with_road, city_location, with_labels=True, node_size=30)"
   ]
  },
  {
   "cell_type": "code",
   "execution_count": null,
   "metadata": {},
   "outputs": [],
   "source": [
    "g"
   ]
  },
  {
   "cell_type": "code",
   "execution_count": 147,
   "metadata": {},
   "outputs": [],
   "source": [
    "from collections import defaultdict"
   ]
  },
  {
   "cell_type": "code",
   "execution_count": 148,
   "metadata": {},
   "outputs": [],
   "source": [
    "simple_connection_info_src = {\n",
    "    '北京': ['太原', '沈阳'],\n",
    "    '太原': ['北京', '西安', '郑州'],\n",
    "    '兰州': ['西安'],\n",
    "    '郑州': ['太原'],\n",
    "    '西安': ['兰州', '长沙'],\n",
    "    '长沙': ['福州', '南宁'],\n",
    "    '沈阳': ['北京']\n",
    "}"
   ]
  },
  {
   "cell_type": "code",
   "execution_count": 149,
   "metadata": {},
   "outputs": [],
   "source": [
    "simple_connection_info = defaultdict(list)"
   ]
  },
  {
   "cell_type": "code",
   "execution_count": 150,
   "metadata": {},
   "outputs": [],
   "source": [
    "simple_connection_info.update(simple_connection_info_src)"
   ]
  },
  {
   "cell_type": "code",
   "execution_count": 198,
   "metadata": {},
   "outputs": [],
   "source": [
    "def bfs(graph, start):\n",
    "    \"\"\"\n",
    "    breath first search\n",
    "    \"\"\"\n",
    "    visited = [start]\n",
    "    \n",
    "    seen = set()\n",
    "    \n",
    "    while visited:\n",
    "        froninter = visited.pop() #\n",
    "        \n",
    "        if froninter in seen: continue\n",
    "        \n",
    "        for successor in graph[froninter]:\n",
    "            if successor in seen: continue\n",
    "            print(successor)\n",
    "            \n",
    "            #visited = visited + [successor] # 我们每次扩展都扩展最新发现的点 -> depth first\n",
    "            visited = [successor] + visited # 我们每次扩展都先考虑已经发现的 老的点 -> breath first\n",
    "            \n",
    "            # 所以说，这个扩展顺序其实是决定了我们的深度优先还是广度优先\n",
    "    \n",
    "        seen.add(froninter)\n",
    "    \n",
    "    return seen"
   ]
  },
  {
   "cell_type": "code",
   "execution_count": 202,
   "metadata": {},
   "outputs": [],
   "source": [
    "number_grpah = defaultdict(list)\n",
    "\n",
    "number_grpah.update({\n",
    "    1: [2, 3],\n",
    "    2: [1, 4], \n",
    "    3: [1, 5],\n",
    "    4: [2, 6], \n",
    "    5: [3, 7],\n",
    "    7: [5, 8]\n",
    "})"
   ]
  },
  {
   "cell_type": "code",
   "execution_count": 203,
   "metadata": {},
   "outputs": [
    {
     "name": "stdout",
     "output_type": "stream",
     "text": [
      "2\n",
      "3\n",
      "4\n",
      "5\n",
      "6\n",
      "7\n",
      "8\n"
     ]
    },
    {
     "data": {
      "text/plain": [
       "{1, 2, 3, 4, 5, 6, 7, 8}"
      ]
     },
     "execution_count": 203,
     "metadata": {},
     "output_type": "execute_result"
    }
   ],
   "source": [
    "bfs(number_grpah, 1)"
   ]
  },
  {
   "cell_type": "code",
   "execution_count": 201,
   "metadata": {},
   "outputs": [
    {
     "data": {
      "text/plain": [
       "['兰州', '长沙']"
      ]
     },
     "execution_count": 201,
     "metadata": {},
     "output_type": "execute_result"
    }
   ],
   "source": [
    "simple_connection_info['西安']"
   ]
  },
  {
   "cell_type": "code",
   "execution_count": 128,
   "metadata": {},
   "outputs": [
    {
     "name": "stderr",
     "output_type": "stream",
     "text": [
      "/Users/gaominquan/anaconda3/lib/python3.7/site-packages/networkx/drawing/nx_pylab.py:611: MatplotlibDeprecationWarning: isinstance(..., numbers.Number)\n",
      "  if cb.is_numlike(alpha):\n"
     ]
    },
    {
     "data": {
      "image/png": "[encoded data removed]",
      "text/plain": [
       "<Figure size 432x288 with 1 Axes>"
      ]
     },
     "metadata": {},
     "output_type": "display_data"
    }
   ],
   "source": [
    "nx.draw(nx.Graph(simple_connection_info), city_location, with_labels=True, node_size=10)"
   ]
  },
  {
   "cell_type": "code",
   "execution_count": 253,
   "metadata": {},
   "outputs": [],
   "source": [
    "def search(start, destination, connection_grpah, sort_candidate):\n",
    "    pathes = [[start]]\n",
    "    \n",
    "    visitied = set()\n",
    "    \n",
    "    while pathes: # if we find existing pathes\n",
    "        path = pathes.pop(0)\n",
    "        froninter = path[-1]\n",
    "        \n",
    "        if froninter in visitied: continue\n",
    "            \n",
    "        successors = connection_grpah[froninter]\n",
    "        \n",
    "        for city in successors:\n",
    "            if city in path: continue  # eliminate loop\n",
    "                \n",
    "            new_path = path + [city]\n",
    "            \n",
    "            pathes.append(new_path)\n",
    "            \n",
    "            if city == destination: return new_path\n",
    "        \n",
    "        visitied.add(froninter)\n",
    "        \n",
    "        pathes = sort_candidate(pathes) # 我们可以加一个排序函数 对我们的搜索策略进行控制"
   ]
  },
  {
   "cell_type": "code",
   "execution_count": 243,
   "metadata": {},
   "outputs": [],
   "source": [
    "def transfer_stations_first(pathes): \n",
    "    return sorted(pathes, key=len)"
   ]
  },
  {
   "cell_type": "code",
   "execution_count": 250,
   "metadata": {},
   "outputs": [],
   "source": [
    "def transfer_as_much_possible(pathes):\n",
    "    return sorted(pathes, key=len, reverse=True)"
   ]
  },
  {
   "cell_type": "code",
   "execution_count": 246,
   "metadata": {},
   "outputs": [],
   "source": [
    "def shortest_path_first(pathes):\n",
    "    \n",
    "    if len(pathes) <= 1: return pathes\n",
    "    \n",
    "    def get_path_distnace(path):\n",
    "        distance = 0\n",
    "        for station in path[:-1]:\n",
    "            distance += get_geo_distance(station, path[-1])\n",
    "            \n",
    "        return distance\n",
    "\n",
    "    return sorted(pathes, key=get_path_distnace)"
   ]
  },
  {
   "cell_type": "code",
   "execution_count": 237,
   "metadata": {},
   "outputs": [
    {
     "data": {
      "text/plain": [
       "['兰州', '西安', '长沙', '福州']"
      ]
     },
     "execution_count": 237,
     "metadata": {},
     "output_type": "execute_result"
    }
   ],
   "source": [
    "search('兰州', '福州', simple_connection_info, sort_candidate=shortest_path_first)"
   ]
  },
  {
   "cell_type": "code",
   "execution_count": 142,
   "metadata": {},
   "outputs": [],
   "source": [
    "def pretty_print(cities):\n",
    "    print('🚗->'.join(cities))"
   ]
  },
  {
   "cell_type": "code",
   "execution_count": 204,
   "metadata": {},
   "outputs": [
    {
     "name": "stdout",
     "output_type": "stream",
     "text": [
      "北京🚗->太原🚗->西安🚗->长沙🚗->福州\n"
     ]
    }
   ],
   "source": [
    "pretty_print(search('北京', '福州', simple_connection_info))"
   ]
  },
  {
   "cell_type": "markdown",
   "metadata": {},
   "source": [
    "## Breath first search"
   ]
  },
  {
   "cell_type": "markdown",
   "metadata": {},
   "source": [
    "## Depth first search"
   ]
  },
  {
   "cell_type": "code",
   "execution_count": 216,
   "metadata": {},
   "outputs": [
    {
     "name": "stdout",
     "output_type": "stream",
     "text": [
      "北京🚗->济南🚗->合肥🚗->南京\n"
     ]
    }
   ],
   "source": [
    "pretty_print(search('北京', '南京', city_connection))"
   ]
  },
  {
   "cell_type": "code",
   "execution_count": 217,
   "metadata": {},
   "outputs": [
    {
     "name": "stdout",
     "output_type": "stream",
     "text": [
      "北京🚗->石家庄🚗->郑州🚗->长沙\n"
     ]
    }
   ],
   "source": [
    "pretty_print(search('北京', '长沙', city_connection))"
   ]
  },
  {
   "cell_type": "code",
   "execution_count": 249,
   "metadata": {},
   "outputs": [
    {
     "name": "stdout",
     "output_type": "stream",
     "text": [
      "北京🚗->石家庄🚗->郑州🚗->长沙🚗->广州\n"
     ]
    }
   ],
   "source": [
    "pretty_print(search('北京', '广州', city_connection, sort_candidate=transfer_stations_first))"
   ]
  },
  {
   "cell_type": "code",
   "execution_count": 251,
   "metadata": {},
   "outputs": [
    {
     "name": "stdout",
     "output_type": "stream",
     "text": [
      "北京🚗->石家庄🚗->郑州🚗->武汉🚗->长沙🚗->广州\n"
     ]
    }
   ],
   "source": [
    "pretty_print(search('北京', '广州', city_connection, sort_candidate=transfer_as_much_possible))"
   ]
  },
  {
   "cell_type": "markdown",
   "metadata": {},
   "source": [
    "## Assignment"
   ]
  },
  {
   "cell_type": "markdown",
   "metadata": {},
   "source": [
    "1. 网络爬虫 + 正则\n",
    "2. 数据处理\n",
    "3. 算法的应用能力"
   ]
  },
  {
   "cell_type": "code",
   "execution_count": 254,
   "metadata": {},
   "outputs": [],
   "source": [
    "import requests"
   ]
  },
  {
   "cell_type": "code",
   "execution_count": 255,
   "metadata": {},
   "outputs": [],
   "source": [
    "url = 'https://movie.douban.com/subject/26931786/?from=showing'"
   ]
  },
  {
   "cell_type": "code",
   "execution_count": 257,
   "metadata": {},
   "outputs": [],
   "source": [
    "response = requests.get(url)"
   ]
  },
  {
   "cell_type": "code",
   "execution_count": 270,
   "metadata": {},
   "outputs": [],
   "source": [
    "what_we_want = r'<a href=\"https://(movie\\.douban\\.com/subject/\\d+/\\?from=subject-page)\" class=\"\" '"
   ]
  },
  {
   "cell_type": "code",
   "execution_count": 271,
   "metadata": {},
   "outputs": [],
   "source": [
    "pattern = re.compile(what_we_want)"
   ]
  },
  {
   "cell_type": "code",
   "execution_count": 272,
   "metadata": {},
   "outputs": [],
   "source": [
    "likes = pattern.findall(response.text)"
   ]
  },
  {
   "cell_type": "code",
   "execution_count": 273,
   "metadata": {},
   "outputs": [
    {
     "name": "stdout",
     "output_type": "stream",
     "text": [
      "movie.douban.com/subject/24753477/?from=subject-page\n",
      "movie.douban.com/subject/26100958/?from=subject-page\n",
      "movie.douban.com/subject/25820460/?from=subject-page\n",
      "movie.douban.com/subject/1432146/?from=subject-page\n",
      "movie.douban.com/subject/25937854/?from=subject-page\n",
      "movie.douban.com/subject/1866473/?from=subject-page\n",
      "movie.douban.com/subject/25821634/?from=subject-page\n",
      "movie.douban.com/subject/26213252/?from=subject-page\n",
      "movie.douban.com/subject/25828589/?from=subject-page\n",
      "movie.douban.com/subject/4920389/?from=subject-page\n"
     ]
    }
   ],
   "source": [
    "for like in likes:\n",
    "    print(like)"
   ]
  },
  {
   "cell_type": "markdown",
   "metadata": {},
   "source": [
    "## Machine Learning"
   ]
  },
  {
   "cell_type": "code",
   "execution_count": 1,
   "metadata": {},
   "outputs": [],
   "source": [
    "from sklearn.datasets import load_boston"
   ]
  },
  {
   "cell_type": "code",
   "execution_count": 2,
   "metadata": {},
   "outputs": [],
   "source": [
    "data = load_boston()"
   ]
  },
  {
   "cell_type": "code",
   "execution_count": 46,
   "metadata": {},
   "outputs": [],
   "source": [
    "X, y = data['data'], data['target']"
   ]
  },
  {
   "cell_type": "code",
   "execution_count": 4,
   "metadata": {},
   "outputs": [
    {
     "data": {
      "text/plain": [
       "array([2.7310e-02, 0.0000e+00, 7.0700e+00, 0.0000e+00, 4.6900e-01,\n",
       "       6.4210e+00, 7.8900e+01, 4.9671e+00, 2.0000e+00, 2.4200e+02,\n",
       "       1.7800e+01, 3.9690e+02, 9.1400e+00])"
      ]
     },
     "execution_count": 4,
     "metadata": {},
     "output_type": "execute_result"
    }
   ],
   "source": [
    "X[1]"
   ]
  },
  {
   "cell_type": "code",
   "execution_count": 5,
   "metadata": {},
   "outputs": [
    {
     "data": {
      "text/plain": [
       "21.6"
      ]
     },
     "execution_count": 5,
     "metadata": {},
     "output_type": "execute_result"
    }
   ],
   "source": [
    "y[1]"
   ]
  },
  {
   "cell_type": "code",
   "execution_count": 6,
   "metadata": {},
   "outputs": [
    {
     "data": {
      "text/plain": [
       "506"
      ]
     },
     "execution_count": 6,
     "metadata": {},
     "output_type": "execute_result"
    }
   ],
   "source": [
    "len(X[:, 0])"
   ]
  },
  {
   "cell_type": "code",
   "execution_count": 7,
   "metadata": {},
   "outputs": [
    {
     "data": {
      "text/plain": [
       "506"
      ]
     },
     "execution_count": 7,
     "metadata": {},
     "output_type": "execute_result"
    }
   ],
   "source": [
    "len(y)"
   ]
  },
  {
   "cell_type": "code",
   "execution_count": 8,
   "metadata": {},
   "outputs": [],
   "source": [
    "%matplotlib inline"
   ]
  },
  {
   "cell_type": "code",
   "execution_count": 11,
   "metadata": {},
   "outputs": [],
   "source": [
    "import matplotlib.pyplot as plt"
   ]
  },
  {
   "cell_type": "code",
   "execution_count": 12,
   "metadata": {},
   "outputs": [],
   "source": [
    "def draw_rm_and_price():\n",
    "    plt.scatter(X[:, 5], y)"
   ]
  },
  {
   "cell_type": "code",
   "execution_count": 13,
   "metadata": {},
   "outputs": [
    {
     "data": {
      "image/png": "[encoded data removed]",
      "text/plain": [
       "<Figure size 432x288 with 1 Axes>"
      ]
     },
     "metadata": {
      "needs_background": "light"
     },
     "output_type": "display_data"
    }
   ],
   "source": [
    "draw_rm_and_price()"
   ]
  },
  {
   "cell_type": "code",
   "execution_count": 14,
   "metadata": {},
   "outputs": [],
   "source": [
    "import random"
   ]
  },
  {
   "cell_type": "code",
   "execution_count": 15,
   "metadata": {},
   "outputs": [],
   "source": [
    "def price(rm, k, b):\n",
    "    \"\"\"f(x) = k * x + b\"\"\"\n",
    "    return k * rm + b  "
   ]
  },
  {
   "cell_type": "code",
   "execution_count": 16,
   "metadata": {},
   "outputs": [
    {
     "data": {
      "text/plain": [
       "<matplotlib.collections.PathCollection at 0x1a1dbca9b0>"
      ]
     },
     "execution_count": 16,
     "metadata": {},
     "output_type": "execute_result"
    },
    {
     "data": {
      "image/png": "[encoded data removed]",
      "text/plain": [
       "<Figure size 432x288 with 1 Axes>"
      ]
     },
     "metadata": {
      "needs_background": "light"
     },
     "output_type": "display_data"
    }
   ],
   "source": [
    "X_rm = X[:, 5]\n",
    "k = random.randint(-100, 100)\n",
    "b = random.randint(-100, 100)\n",
    "price_by_random_k_and_b = [price(r, k, b) for r in X_rm]\n",
    "\n",
    "draw_rm_and_price()\n",
    "plt.scatter(X_rm, price_by_random_k_and_b)"
   ]
  },
  {
   "cell_type": "code",
   "execution_count": 17,
   "metadata": {},
   "outputs": [
    {
     "data": {
      "text/plain": [
       "<matplotlib.collections.PathCollection at 0x1a1df01a20>"
      ]
     },
     "execution_count": 17,
     "metadata": {},
     "output_type": "execute_result"
    },
    {
     "data": {
      "image/png": "[encoded data removed]",
      "text/plain": [
       "<Figure size 432x288 with 1 Axes>"
      ]
     },
     "metadata": {
      "needs_background": "light"
     },
     "output_type": "display_data"
    }
   ],
   "source": [
    "X_rm = X[:, 5]\n",
    "k = random.randint(-100, 100)\n",
    "b = random.randint(-100, 100)\n",
    "price_by_random_k_and_b = [price(r, k, b) for r in X_rm]\n",
    "\n",
    "draw_rm_and_price()\n",
    "plt.scatter(X_rm, price_by_random_k_and_b)"
   ]
  },
  {
   "cell_type": "markdown",
   "metadata": {},
   "source": [
    "$$ \\hat{y} $$"
   ]
  },
  {
   "cell_type": "code",
   "execution_count": 347,
   "metadata": {},
   "outputs": [
    {
     "data": {
      "text/plain": [
       "[24.0,\n",
       " 21.6,\n",
       " 34.7,\n",
       " 33.4,\n",
       " 36.2,\n",
       " 28.7,\n",
       " 22.9,\n",
       " 27.1,\n",
       " 16.5,\n",
       " 18.9,\n",
       " 15.0,\n",
       " 18.9,\n",
       " 21.7,\n",
       " 20.4,\n",
       " 18.2,\n",
       " 19.9,\n",
       " 23.1,\n",
       " 17.5,\n",
       " 20.2,\n",
       " 18.2,\n",
       " 13.6,\n",
       " 19.6,\n",
       " 15.2,\n",
       " 14.5,\n",
       " 15.6,\n",
       " 13.9,\n",
       " 16.6,\n",
       " 14.8,\n",
       " 18.4,\n",
       " 21.0,\n",
       " 12.7,\n",
       " 14.5,\n",
       " 13.2,\n",
       " 13.1,\n",
       " 13.5,\n",
       " 18.9,\n",
       " 20.0,\n",
       " 21.0,\n",
       " 24.7,\n",
       " 30.8,\n",
       " 34.9,\n",
       " 26.6,\n",
       " 25.3,\n",
       " 24.7,\n",
       " 21.2,\n",
       " 19.3,\n",
       " 20.0,\n",
       " 16.6,\n",
       " 14.4,\n",
       " 19.4,\n",
       " 19.7,\n",
       " 20.5,\n",
       " 25.0,\n",
       " 23.4,\n",
       " 18.9,\n",
       " 35.4,\n",
       " 24.7,\n",
       " 31.6,\n",
       " 23.3,\n",
       " 19.6,\n",
       " 18.7,\n",
       " 16.0,\n",
       " 22.2,\n",
       " 25.0,\n",
       " 33.0,\n",
       " 23.5,\n",
       " 19.4,\n",
       " 22.0,\n",
       " 17.4,\n",
       " 20.9,\n",
       " 24.2,\n",
       " 21.7,\n",
       " 22.8,\n",
       " 23.4,\n",
       " 24.1,\n",
       " 21.4,\n",
       " 20.0,\n",
       " 20.8,\n",
       " 21.2,\n",
       " 20.3,\n",
       " 28.0,\n",
       " 23.9,\n",
       " 24.8,\n",
       " 22.9,\n",
       " 23.9,\n",
       " 26.6,\n",
       " 22.5,\n",
       " 22.2,\n",
       " 23.6,\n",
       " 28.7,\n",
       " 22.6,\n",
       " 22.0,\n",
       " 22.9,\n",
       " 25.0,\n",
       " 20.6,\n",
       " 28.4,\n",
       " 21.4,\n",
       " 38.7,\n",
       " 43.8,\n",
       " 33.2,\n",
       " 27.5,\n",
       " 26.5,\n",
       " 18.6,\n",
       " 19.3,\n",
       " 20.1,\n",
       " 19.5,\n",
       " 19.5,\n",
       " 20.4,\n",
       " 19.8,\n",
       " 19.4,\n",
       " 21.7,\n",
       " 22.8,\n",
       " 18.8,\n",
       " 18.7,\n",
       " 18.5,\n",
       " 18.3,\n",
       " 21.2,\n",
       " 19.2,\n",
       " 20.4,\n",
       " 19.3,\n",
       " 22.0,\n",
       " 20.3,\n",
       " 20.5,\n",
       " 17.3,\n",
       " 18.8,\n",
       " 21.4,\n",
       " 15.7,\n",
       " 16.2,\n",
       " 18.0,\n",
       " 14.3,\n",
       " 19.2,\n",
       " 19.6,\n",
       " 23.0,\n",
       " 18.4,\n",
       " 15.6,\n",
       " 18.1,\n",
       " 17.4,\n",
       " 17.1,\n",
       " 13.3,\n",
       " 17.8,\n",
       " 14.0,\n",
       " 14.4,\n",
       " 13.4,\n",
       " 15.6,\n",
       " 11.8,\n",
       " 13.8,\n",
       " 15.6,\n",
       " 14.6,\n",
       " 17.8,\n",
       " 15.4,\n",
       " 21.5,\n",
       " 19.6,\n",
       " 15.3,\n",
       " 19.4,\n",
       " 17.0,\n",
       " 15.6,\n",
       " 13.1,\n",
       " 41.3,\n",
       " 24.3,\n",
       " 23.3,\n",
       " 27.0,\n",
       " 50.0,\n",
       " 50.0,\n",
       " 50.0,\n",
       " 22.7,\n",
       " 25.0,\n",
       " 50.0,\n",
       " 23.8,\n",
       " 23.8,\n",
       " 22.3,\n",
       " 17.4,\n",
       " 19.1,\n",
       " 23.1,\n",
       " 23.6,\n",
       " 22.6,\n",
       " 29.4,\n",
       " 23.2,\n",
       " 24.6,\n",
       " 29.9,\n",
       " 37.2,\n",
       " 39.8,\n",
       " 36.2,\n",
       " 37.9,\n",
       " 32.5,\n",
       " 26.4,\n",
       " 29.6,\n",
       " 50.0,\n",
       " 32.0,\n",
       " 29.8,\n",
       " 34.9,\n",
       " 37.0,\n",
       " 30.5,\n",
       " 36.4,\n",
       " 31.1,\n",
       " 29.1,\n",
       " 50.0,\n",
       " 33.3,\n",
       " 30.3,\n",
       " 34.6,\n",
       " 34.9,\n",
       " 32.9,\n",
       " 24.1,\n",
       " 42.3,\n",
       " 48.5,\n",
       " 50.0,\n",
       " 22.6,\n",
       " 24.4,\n",
       " 22.5,\n",
       " 24.4,\n",
       " 20.0,\n",
       " 21.7,\n",
       " 19.3,\n",
       " 22.4,\n",
       " 28.1,\n",
       " 23.7,\n",
       " 25.0,\n",
       " 23.3,\n",
       " 28.7,\n",
       " 21.5,\n",
       " 23.0,\n",
       " 26.7,\n",
       " 21.7,\n",
       " 27.5,\n",
       " 30.1,\n",
       " 44.8,\n",
       " 50.0,\n",
       " 37.6,\n",
       " 31.6,\n",
       " 46.7,\n",
       " 31.5,\n",
       " 24.3,\n",
       " 31.7,\n",
       " 41.7,\n",
       " 48.3,\n",
       " 29.0,\n",
       " 24.0,\n",
       " 25.1,\n",
       " 31.5,\n",
       " 23.7,\n",
       " 23.3,\n",
       " 22.0,\n",
       " 20.1,\n",
       " 22.2,\n",
       " 23.7,\n",
       " 17.6,\n",
       " 18.5,\n",
       " 24.3,\n",
       " 20.5,\n",
       " 24.5,\n",
       " 26.2,\n",
       " 24.4,\n",
       " 24.8,\n",
       " 29.6,\n",
       " 42.8,\n",
       " 21.9,\n",
       " 20.9,\n",
       " 44.0,\n",
       " 50.0,\n",
       " 36.0,\n",
       " 30.1,\n",
       " 33.8,\n",
       " 43.1,\n",
       " 48.8,\n",
       " 31.0,\n",
       " 36.5,\n",
       " 22.8,\n",
       " 30.7,\n",
       " 50.0,\n",
       " 43.5,\n",
       " 20.7,\n",
       " 21.1,\n",
       " 25.2,\n",
       " 24.4,\n",
       " 35.2,\n",
       " 32.4,\n",
       " 32.0,\n",
       " 33.2,\n",
       " 33.1,\n",
       " 29.1,\n",
       " 35.1,\n",
       " 45.4,\n",
       " 35.4,\n",
       " 46.0,\n",
       " 50.0,\n",
       " 32.2,\n",
       " 22.0,\n",
       " 20.1,\n",
       " 23.2,\n",
       " 22.3,\n",
       " 24.8,\n",
       " 28.5,\n",
       " 37.3,\n",
       " 27.9,\n",
       " 23.9,\n",
       " 21.7,\n",
       " 28.6,\n",
       " 27.1,\n",
       " 20.3,\n",
       " 22.5,\n",
       " 29.0,\n",
       " 24.8,\n",
       " 22.0,\n",
       " 26.4,\n",
       " 33.1,\n",
       " 36.1,\n",
       " 28.4,\n",
       " 33.4,\n",
       " 28.2,\n",
       " 22.8,\n",
       " 20.3,\n",
       " 16.1,\n",
       " 22.1,\n",
       " 19.4,\n",
       " 21.6,\n",
       " 23.8,\n",
       " 16.2,\n",
       " 17.8,\n",
       " 19.8,\n",
       " 23.1,\n",
       " 21.0,\n",
       " 23.8,\n",
       " 23.1,\n",
       " 20.4,\n",
       " 18.5,\n",
       " 25.0,\n",
       " 24.6,\n",
       " 23.0,\n",
       " 22.2,\n",
       " 19.3,\n",
       " 22.6,\n",
       " 19.8,\n",
       " 17.1,\n",
       " 19.4,\n",
       " 22.2,\n",
       " 20.7,\n",
       " 21.1,\n",
       " 19.5,\n",
       " 18.5,\n",
       " 20.6,\n",
       " 19.0,\n",
       " 18.7,\n",
       " 32.7,\n",
       " 16.5,\n",
       " 23.9,\n",
       " 31.2,\n",
       " 17.5,\n",
       " 17.2,\n",
       " 23.1,\n",
       " 24.5,\n",
       " 26.6,\n",
       " 22.9,\n",
       " 24.1,\n",
       " 18.6,\n",
       " 30.1,\n",
       " 18.2,\n",
       " 20.6,\n",
       " 17.8,\n",
       " 21.7,\n",
       " 22.7,\n",
       " 22.6,\n",
       " 25.0,\n",
       " 19.9,\n",
       " 20.8,\n",
       " 16.8,\n",
       " 21.9,\n",
       " 27.5,\n",
       " 21.9,\n",
       " 23.1,\n",
       " 50.0,\n",
       " 50.0,\n",
       " 50.0,\n",
       " 50.0,\n",
       " 50.0,\n",
       " 13.8,\n",
       " 13.8,\n",
       " 15.0,\n",
       " 13.9,\n",
       " 13.3,\n",
       " 13.1,\n",
       " 10.2,\n",
       " 10.4,\n",
       " 10.9,\n",
       " 11.3,\n",
       " 12.3,\n",
       " 8.8,\n",
       " 7.2,\n",
       " 10.5,\n",
       " 7.4,\n",
       " 10.2,\n",
       " 11.5,\n",
       " 15.1,\n",
       " 23.2,\n",
       " 9.7,\n",
       " 13.8,\n",
       " 12.7,\n",
       " 13.1,\n",
       " 12.5,\n",
       " 8.5,\n",
       " 5.0,\n",
       " 6.3,\n",
       " 5.6,\n",
       " 7.2,\n",
       " 12.1,\n",
       " 8.3,\n",
       " 8.5,\n",
       " 5.0,\n",
       " 11.9,\n",
       " 27.9,\n",
       " 17.2,\n",
       " 27.5,\n",
       " 15.0,\n",
       " 17.2,\n",
       " 17.9,\n",
       " 16.3,\n",
       " 7.0,\n",
       " 7.2,\n",
       " 7.5,\n",
       " 10.4,\n",
       " 8.8,\n",
       " 8.4,\n",
       " 16.7,\n",
       " 14.2,\n",
       " 20.8,\n",
       " 13.4,\n",
       " 11.7,\n",
       " 8.3,\n",
       " 10.2,\n",
       " 10.9,\n",
       " 11.0,\n",
       " 9.5,\n",
       " 14.5,\n",
       " 14.1,\n",
       " 16.1,\n",
       " 14.3,\n",
       " 11.7,\n",
       " 13.4,\n",
       " 9.6,\n",
       " 8.7,\n",
       " 8.4,\n",
       " 12.8,\n",
       " 10.5,\n",
       " 17.1,\n",
       " 18.4,\n",
       " 15.4,\n",
       " 10.8,\n",
       " 11.8,\n",
       " 14.9,\n",
       " 12.6,\n",
       " 14.1,\n",
       " 13.0,\n",
       " 13.4,\n",
       " 15.2,\n",
       " 16.1,\n",
       " 17.8,\n",
       " 14.9,\n",
       " 14.1,\n",
       " 12.7,\n",
       " 13.5,\n",
       " 14.9,\n",
       " 20.0,\n",
       " 16.4,\n",
       " 17.7,\n",
       " 19.5,\n",
       " 20.2,\n",
       " 21.4,\n",
       " 19.9,\n",
       " 19.0,\n",
       " 19.1,\n",
       " 19.1,\n",
       " 20.1,\n",
       " 19.9,\n",
       " 19.6,\n",
       " 23.2,\n",
       " 29.8,\n",
       " 13.8,\n",
       " 13.3,\n",
       " 16.7,\n",
       " 12.0,\n",
       " 14.6,\n",
       " 21.4,\n",
       " 23.0,\n",
       " 23.7,\n",
       " 25.0,\n",
       " 21.8,\n",
       " 20.6,\n",
       " 21.2,\n",
       " 19.1,\n",
       " 20.6,\n",
       " 15.2,\n",
       " 7.0,\n",
       " 8.1,\n",
       " 13.6,\n",
       " 20.1,\n",
       " 21.8,\n",
       " 24.5,\n",
       " 23.1,\n",
       " 19.7,\n",
       " 18.3,\n",
       " 21.2,\n",
       " 17.5,\n",
       " 16.8,\n",
       " 22.4,\n",
       " 20.6,\n",
       " 23.9,\n",
       " 22.0,\n",
       " 11.9]"
      ]
     },
     "execution_count": 347,
     "metadata": {},
     "output_type": "execute_result"
    }
   ],
   "source": [
    "list(y)"
   ]
  },
  {
   "cell_type": "code",
   "execution_count": 346,
   "metadata": {},
   "outputs": [
    {
     "data": {
      "text/plain": [
       "[-617.775,\n",
       " -602.837,\n",
       " -676.9449999999999,\n",
       " -658.806,\n",
       " -673.259,\n",
       " -603.7099999999999,\n",
       " -563.164,\n",
       " -578.684,\n",
       " -526.207,\n",
       " -562.3879999999999,\n",
       " -598.569,\n",
       " -562.873,\n",
       " -551.2330000000001,\n",
       " -557.053,\n",
       " -571.312,\n",
       " -545.8979999999999,\n",
       " -555.6949999999999,\n",
       " -561.03,\n",
       " -509.2320000000001,\n",
       " -535.519,\n",
       " -520.2900000000001,\n",
       " -558.605,\n",
       " -575.774,\n",
       " -543.861,\n",
       " -554.628,\n",
       " -523.1030000000001,\n",
       " -543.861,\n",
       " -566.559,\n",
       " -610.015,\n",
       " -627.378,\n",
       " -534.1610000000001,\n",
       " -568.984,\n",
       " -557.15,\n",
       " -532.997,\n",
       " -571.312,\n",
       " -555.501,\n",
       " -546.577,\n",
       " -547.4499999999999,\n",
       " -558.702,\n",
       " -619.715,\n",
       " -661.328,\n",
       " -636.6899999999999,\n",
       " -578.3929999999999,\n",
       " -582.467,\n",
       " -568.693,\n",
       " -531.154,\n",
       " -541.242,\n",
       " -564.91,\n",
       " -503.703,\n",
       " -523.394,\n",
       " -558.4110000000001,\n",
       " -573.155,\n",
       " -611.567,\n",
       " -561.806,\n",
       " -551.136,\n",
       " -683.153,\n",
       " -599.151,\n",
       " -641.1519999999999,\n",
       " -576.0649999999999,\n",
       " -554.919,\n",
       " -536.877,\n",
       " -558.702,\n",
       " -606.2320000000001,\n",
       " -635.914,\n",
       " -669.088,\n",
       " -590.13,\n",
       " -541.3389999999999,\n",
       " -550.166,\n",
       " -522.618,\n",
       " -550.845,\n",
       " -602.449,\n",
       " -558.217,\n",
       " -568.3050000000001,\n",
       " -585.765,\n",
       " -588.481,\n",
       " -589.742,\n",
       " -589.063,\n",
       " -575.5799999999999,\n",
       " -584.504,\n",
       " -549.778,\n",
       " -632.519,\n",
       " -622.043,\n",
       " -591.294,\n",
       " -578.199,\n",
       " -599.7330000000001,\n",
       " -623.11,\n",
       " -563.4549999999999,\n",
       " -573.7370000000001,\n",
       " -659.679,\n",
       " -666.663,\n",
       " -602.449,\n",
       " -601.285,\n",
       " -604.874,\n",
       " -582.467,\n",
       " -586.153,\n",
       " -622.625,\n",
       " -577.811,\n",
       " -762.6930000000001,\n",
       " -738.5400000000001,\n",
       " -699.3520000000001,\n",
       " -632.519,\n",
       " -637.757,\n",
       " -601.285,\n",
       " -575.289,\n",
       " -578.199,\n",
       " -547.547,\n",
       " -546.092,\n",
       " -574.319,\n",
       " -607.9780000000001,\n",
       " -584.213,\n",
       " -580.9150000000001,\n",
       " -631.355,\n",
       " -553.561,\n",
       " -570.924,\n",
       " -586.6379999999999,\n",
       " -555.016,\n",
       " -579.072,\n",
       " -564.037,\n",
       " -549.584,\n",
       " -535.907,\n",
       " -549.39,\n",
       " -562.3879999999999,\n",
       " -558.217,\n",
       " -548.032,\n",
       " -550.2629999999999,\n",
       " -560.6419999999999,\n",
       " -524.461,\n",
       " -532.221,\n",
       " -603.807,\n",
       " -526.789,\n",
       " -606.426,\n",
       " -593.622,\n",
       " -598.084,\n",
       " -544.734,\n",
       " -538.429,\n",
       " -594.495,\n",
       " -556.374,\n",
       " -606.038,\n",
       " -548.129,\n",
       " -576.6469999999999,\n",
       " -578.878,\n",
       " -466.843,\n",
       " -504.091,\n",
       " -510.39599999999996,\n",
       " -455.59099999999995,\n",
       " -574.61,\n",
       " -525.916,\n",
       " -457.822,\n",
       " -483.042,\n",
       " -522.909,\n",
       " -573.834,\n",
       " -504.188,\n",
       " -466.16399999999993,\n",
       " -533.7729999999999,\n",
       " -574.5129999999999,\n",
       " -576.744,\n",
       " -491.384,\n",
       " -653.471,\n",
       " -568.4019999999999,\n",
       " -611.47,\n",
       " -586.25,\n",
       " -706.433,\n",
       " -736.794,\n",
       " -792.375,\n",
       " -547.838,\n",
       " -571.797,\n",
       " -749.113,\n",
       " -550.069,\n",
       " -592.943,\n",
       " -600.994,\n",
       " -549.875,\n",
       " -550.36,\n",
       " -520.484,\n",
       " -602.3520000000001,\n",
       " -548.323,\n",
       " -614.962,\n",
       " -563.9399999999999,\n",
       " -592.5550000000001,\n",
       " -645.4200000000001,\n",
       " -657.0600000000001,\n",
       " -733.2049999999999,\n",
       " -575.968,\n",
       " -674.035,\n",
       " -616.611,\n",
       " -523.588,\n",
       " -576.841,\n",
       " -739.6070000000001,\n",
       " -637.854,\n",
       " -615.932,\n",
       " -676.9449999999999,\n",
       " -654.247,\n",
       " -633.683,\n",
       " -676.266,\n",
       " -639.6,\n",
       " -620.588,\n",
       " -743.875,\n",
       " -686.8389999999999,\n",
       " -669.379,\n",
       " -685.578,\n",
       " -656.5749999999999,\n",
       " -672.095,\n",
       " -577.7139999999999,\n",
       " -718.1700000000001,\n",
       " -741.741,\n",
       " -759.2980000000001,\n",
       " -551.427,\n",
       " -593.622,\n",
       " -540.951,\n",
       " -568.208,\n",
       " -498.36800000000005,\n",
       " -558.12,\n",
       " -504.188,\n",
       " -543.279,\n",
       " -598.375,\n",
       " -504.96399999999994,\n",
       " -579.654,\n",
       " -551.136,\n",
       " -624.274,\n",
       " -557.247,\n",
       " -598.181,\n",
       " -654.247,\n",
       " -577.908,\n",
       " -647.2629999999999,\n",
       " -621.946,\n",
       " -781.802,\n",
       " -826.3249999999999,\n",
       " -759.8799999999999,\n",
       " -674.811,\n",
       " -725.542,\n",
       " -615.544,\n",
       " -560.157,\n",
       " -698.9639999999999,\n",
       " -788.689,\n",
       " -779.959,\n",
       " -632.422,\n",
       " -570.342,\n",
       " -623.207,\n",
       " -693.726,\n",
       " -608.657,\n",
       " -620.782,\n",
       " -649.009,\n",
       " -571.215,\n",
       " -596.726,\n",
       " -600.121,\n",
       " -522.521,\n",
       " -523.6850000000001,\n",
       " -572.476,\n",
       " -583.922,\n",
       " -604.001,\n",
       " -631.646,\n",
       " -609.239,\n",
       " -604.486,\n",
       " -654.829,\n",
       " -781.123,\n",
       " -572.476,\n",
       " -549.972,\n",
       " -703.038,\n",
       " -824.288,\n",
       " -691.301,\n",
       " -643.674,\n",
       " -678.691,\n",
       " -709.4399999999999,\n",
       " -794.606,\n",
       " -690.719,\n",
       " -678.9820000000001,\n",
       " -519.3199999999999,\n",
       " -660.3580000000001,\n",
       " -784.8090000000001,\n",
       " -704.59,\n",
       " -554.24,\n",
       " -548.032,\n",
       " -585.28,\n",
       " -614.186,\n",
       " -726.0269999999999,\n",
       " -635.526,\n",
       " -644.838,\n",
       " -684.899,\n",
       " -642.122,\n",
       " -608.754,\n",
       " -640.764,\n",
       " -738.5400000000001,\n",
       " -655.896,\n",
       " -721.5649999999999,\n",
       " -748.531,\n",
       " -667.5360000000001,\n",
       " -605.941,\n",
       " -584.3100000000001,\n",
       " -582.2729999999999,\n",
       " -592.5550000000001,\n",
       " -616.8050000000001,\n",
       " -645.5169999999999,\n",
       " -673.356,\n",
       " -623.11,\n",
       " -574.319,\n",
       " -562.873,\n",
       " -627.766,\n",
       " -615.253,\n",
       " -541.63,\n",
       " -595.465,\n",
       " -662.9770000000001,\n",
       " -646.4870000000001,\n",
       " -619.23,\n",
       " -610.015,\n",
       " -657.254,\n",
       " -681.8919999999999,\n",
       " -621.752,\n",
       " -699.74,\n",
       " -644.3530000000001,\n",
       " -623.595,\n",
       " -559.284,\n",
       " -462.381,\n",
       " -573.834,\n",
       " -564.231,\n",
       " -587.802,\n",
       " -616.999,\n",
       " -533.385,\n",
       " -553.658,\n",
       " -540.854,\n",
       " -599.054,\n",
       " -572.961,\n",
       " -603.322,\n",
       " -598.472,\n",
       " -565.9770000000001,\n",
       " -533.676,\n",
       " -602.255,\n",
       " -603.807,\n",
       " -592.264,\n",
       " -570.051,\n",
       " -549.196,\n",
       " -594.301,\n",
       " -575.968,\n",
       " -533.4820000000001,\n",
       " -565.007,\n",
       " -592.6519999999999,\n",
       " -592.0699999999999,\n",
       " -565.5889999999999,\n",
       " -549.293,\n",
       " -551.8149999999999,\n",
       " -567.7230000000001,\n",
       " -560.5450000000001,\n",
       " -558.896,\n",
       " -682.377,\n",
       " -614.38,\n",
       " -629.512,\n",
       " -646.778,\n",
       " -563.3580000000001,\n",
       " -552.106,\n",
       " -612.052,\n",
       " -623.595,\n",
       " -653.083,\n",
       " -609.53,\n",
       " -618.163,\n",
       " -550.748,\n",
       " -632.616,\n",
       " -529.311,\n",
       " -555.792,\n",
       " -582.564,\n",
       " -600.3149999999999,\n",
       " -574.319,\n",
       " -572.864,\n",
       " -600.606,\n",
       " -586.347,\n",
       " -500.11400000000003,\n",
       " -542.891,\n",
       " -831.66,\n",
       " -325.417,\n",
       " -461.411,\n",
       " -354.711,\n",
       " -462.09,\n",
       " -628.251,\n",
       " -660.552,\n",
       " -582.952,\n",
       " -549.875,\n",
       " -455.88199999999995,\n",
       " -381.38599999999997,\n",
       " -689.361,\n",
       " -624.953,\n",
       " -639.0179999999999,\n",
       " -598.86,\n",
       " -583.631,\n",
       " -655.896,\n",
       " -614.865,\n",
       " -516.992,\n",
       " -515.4399999999999,\n",
       " -403.696,\n",
       " -491.869,\n",
       " -431.244,\n",
       " -465.0,\n",
       " -453.36,\n",
       " -502.8299999999999,\n",
       " -534.1610000000001,\n",
       " -566.947,\n",
       " -468.49199999999996,\n",
       " -580.721,\n",
       " -551.039,\n",
       " -607.687,\n",
       " -601.285,\n",
       " -537.459,\n",
       " -508.94100000000003,\n",
       " -547.644,\n",
       " -560.739,\n",
       " -595.271,\n",
       " -601.188,\n",
       " -498.85300000000007,\n",
       " -516.507,\n",
       " -531.251,\n",
       " -381.38599999999997,\n",
       " -523.976,\n",
       " -524.849,\n",
       " -644.644,\n",
       " -538.429,\n",
       " -625.729,\n",
       " -428.916,\n",
       " -480.035,\n",
       " -418.343,\n",
       " -604.0980000000001,\n",
       " -637.854,\n",
       " -494.48800000000006,\n",
       " -557.829,\n",
       " -641.928,\n",
       " -601.867,\n",
       " -562.582,\n",
       " -527.856,\n",
       " -571.991,\n",
       " -519.8050000000001,\n",
       " -551.912,\n",
       " -546.189,\n",
       " -581.594,\n",
       " -580.721,\n",
       " -598.86,\n",
       " -595.756,\n",
       " -642.801,\n",
       " -603.225,\n",
       " -604.292,\n",
       " -582.176,\n",
       " -623.0129999999999,\n",
       " -606.717,\n",
       " -576.744,\n",
       " -555.6949999999999,\n",
       " -525.819,\n",
       " -544.346,\n",
       " -601.382,\n",
       " -583.243,\n",
       " -609.0450000000001,\n",
       " -547.838,\n",
       " -606.5229999999999,\n",
       " -595.077,\n",
       " -586.347,\n",
       " -579.9449999999999,\n",
       " -602.449,\n",
       " -634.653,\n",
       " -625.535,\n",
       " -590.809,\n",
       " -697.121,\n",
       " -632.616,\n",
       " -612.9250000000001,\n",
       " -559.672,\n",
       " -555.792,\n",
       " -591.197,\n",
       " -569.8570000000001,\n",
       " -629.997,\n",
       " -598.472,\n",
       " -592.749,\n",
       " -611.761,\n",
       " -582.2729999999999,\n",
       " -538.623,\n",
       " -557.344,\n",
       " -562.291,\n",
       " -554.822,\n",
       " -534.1610000000001,\n",
       " -578.199,\n",
       " -584.213,\n",
       " -604.389,\n",
       " -657.0600000000001,\n",
       " -506.419,\n",
       " -577.7139999999999,\n",
       " -608.948,\n",
       " -494.48800000000006,\n",
       " -579.9449999999999,\n",
       " -584.213,\n",
       " -585.474,\n",
       " -634.75,\n",
       " -664.917,\n",
       " -538.914,\n",
       " -549.4870000000001,\n",
       " -592.264,\n",
       " -573.058,\n",
       " -552.785,\n",
       " -509.038,\n",
       " -505.158,\n",
       " -474.021,\n",
       " -560.351,\n",
       " -560.351,\n",
       " -533.579,\n",
       " -554.822,\n",
       " -529.99,\n",
       " -502.8299999999999,\n",
       " -542.0179999999999,\n",
       " -563.843,\n",
       " -520.193,\n",
       " -564.619,\n",
       " -619.521,\n",
       " -573.64,\n",
       " -656.672,\n",
       " -639.0179999999999,\n",
       " -564.91]"
      ]
     },
     "execution_count": 346,
     "metadata": {},
     "output_type": "execute_result"
    }
   ],
   "source": [
    "price_by_random_k_and_b"
   ]
  },
  {
   "cell_type": "code",
   "execution_count": null,
   "metadata": {},
   "outputs": [],
   "source": [
    "[1, 1, 1]\n",
    "[2, 2, 2]"
   ]
  },
  {
   "cell_type": "markdown",
   "metadata": {},
   "source": [
    "## loss\n",
    "\n",
    "$$ loss = \\frac{1}{n} \\sum{(y_i - \\hat{y_i})}^2$$"
   ]
  },
  {
   "cell_type": "markdown",
   "metadata": {},
   "source": [
    "$$ loss = \\frac{1}{n} \\sum{(y_i - (kx_i + b_i))}^2 $$"
   ]
  },
  {
   "cell_type": "markdown",
   "metadata": {},
   "source": [
    "$$ \\frac{\\partial{loss}}{\\partial{k}} = -\\frac{2}{n}\\sum(y_i - (kx_i + b_i))x_i$$"
   ]
  },
  {
   "cell_type": "markdown",
   "metadata": {},
   "source": [
    "$$ \\frac{\\partial{loss}}{\\partial{k}} = -\\frac{2}{n}\\sum(y_i - \\hat{y_i})x_i$$"
   ]
  },
  {
   "cell_type": "markdown",
   "metadata": {},
   "source": [
    "$$ \\frac{\\partial{loss}}{\\partial{b}} = -\\frac{2}{n}\\sum(y_i - \\hat{y_i})$$"
   ]
  },
  {
   "cell_type": "code",
   "execution_count": 18,
   "metadata": {},
   "outputs": [],
   "source": [
    "def loss(y, y_hat): # to evaluate the performance \n",
    "    return sum((y_i - y_hat_i)**2 for y_i, y_hat_i in zip(list(y), list(y_hat))) / len(list(y))"
   ]
  },
  {
   "cell_type": "code",
   "execution_count": 31,
   "metadata": {},
   "outputs": [],
   "source": []
  },
  {
   "cell_type": "code",
   "execution_count": 32,
   "metadata": {},
   "outputs": [],
   "source": []
  },
  {
   "cell_type": "markdown",
   "metadata": {},
   "source": [
    "## First-Method: Random generation: get best k and best b"
   ]
  },
  {
   "cell_type": "code",
   "execution_count": 19,
   "metadata": {},
   "outputs": [
    {
     "name": "stdout",
     "output_type": "stream",
     "text": [
      "When time is : 0, get best_k: -54.32532301625614 best_b: -27.377641556292033, and the loss is: 155161.17693870224\n",
      "When time is : 2, get best_k: 24.14608918045937 best_b: -61.326301982755794, and the loss is: 4764.191876404315\n",
      "When time is : 30, get best_k: 0.5788288602552001 best_b: -31.837036256535, and the loss is: 2653.140512451897\n",
      "When time is : 31, get best_k: -1.2258133344377171 best_b: 62.94058697902662, and the loss is: 1165.705463623172\n",
      "When time is : 38, get best_k: 21.312740797782197 best_b: -86.2248502854823, and the loss is: 751.3518034995445\n",
      "When time is : 50, get best_k: 14.623968214068483 best_b: -51.341175651051344, and the loss is: 383.78754638212246\n",
      "When time is : 93, get best_k: 11.33442466963048 best_b: -55.82238734326259, and the loss is: 96.7854687981206\n",
      "When time is : 161, get best_k: 16.123878099792194 best_b: -81.14804910577536, and the loss is: 73.4069420724104\n",
      "When time is : 393, get best_k: 5.6817769136181795 best_b: -8.800923434663716, and the loss is: 68.4977140559252\n",
      "When time is : 489, get best_k: 7.899784483771711 best_b: -30.739357964496577, and the loss is: 57.45273545011397\n",
      "When time is : 1178, get best_k: 10.481718012244585 best_b: -44.74546871655329, and the loss is: 46.51095612836905\n",
      "When time is : 1762, get best_k: 7.370318941641813 best_b: -24.19483143876768, and the loss is: 45.244556766634574\n"
     ]
    }
   ],
   "source": [
    "trying_times = 2000\n",
    "\n",
    "min_loss = float('inf')\n",
    "best_k, best_b = None, None\n",
    "\n",
    "for i in range(trying_times):\n",
    "    k = random.random() * 200 - 100\n",
    "    b = random.random() * 200 - 100\n",
    "    price_by_random_k_and_b = [price(r, k, b) for r in X_rm]\n",
    "\n",
    "    current_loss = loss(y, price_by_random_k_and_b)\n",
    "    \n",
    "    if current_loss < min_loss:\n",
    "        min_loss = current_loss\n",
    "        best_k, best_b = k, b\n",
    "        print('When time is : {}, get best_k: {} best_b: {}, and the loss is: {}'.format(i, best_k, best_b, min_loss))"
   ]
  },
  {
   "cell_type": "code",
   "execution_count": 386,
   "metadata": {},
   "outputs": [
    {
     "data": {
      "text/plain": [
       "3.1622776601683795"
      ]
     },
     "execution_count": 386,
     "metadata": {},
     "output_type": "execute_result"
    }
   ],
   "source": [
    "10 ** 0.5"
   ]
  },
  {
   "cell_type": "code",
   "execution_count": 20,
   "metadata": {},
   "outputs": [
    {
     "data": {
      "text/plain": [
       "<matplotlib.collections.PathCollection at 0x1a1e0f1438>"
      ]
     },
     "execution_count": 20,
     "metadata": {},
     "output_type": "execute_result"
    },
    {
     "data": {
      "image/png": "[encoded data removed]",
      "text/plain": [
       "<Figure size 432x288 with 1 Axes>"
      ]
     },
     "metadata": {
      "needs_background": "light"
     },
     "output_type": "display_data"
    }
   ],
   "source": [
    "X_rm = X[:, 5]\n",
    "k = 15\n",
    "b = -68\n",
    "price_by_random_k_and_b = [price(r, k, b) for r in X_rm]\n",
    "\n",
    "draw_rm_and_price()\n",
    "plt.scatter(X_rm, price_by_random_k_and_b)"
   ]
  },
  {
   "cell_type": "markdown",
   "metadata": {},
   "source": [
    "## 2nd-Method: Direction Adjusting"
   ]
  },
  {
   "cell_type": "code",
   "execution_count": 24,
   "metadata": {},
   "outputs": [
    {
     "name": "stdout",
     "output_type": "stream",
     "text": [
      "When time is : 15, get best_k: 52.43155162941426 best_b: -8.524035845390031, and the loss is: 90044.76370381593\n",
      "When time is : 25, get best_k: 51.431551629414244 best_b: -9.524035845390028, and the loss is: 85707.33596979258\n",
      "When time is : 35, get best_k: 50.43155162941423 best_b: -10.524035845390024, and the loss is: 81477.0254225165\n",
      "When time is : 45, get best_k: 49.431551629414216 best_b: -11.52403584539002, and the loss is: 77353.8320619874\n",
      "When time is : 55, get best_k: 48.4315516294142 best_b: -12.524035845390017, and the loss is: 73337.75588820517\n",
      "When time is : 65, get best_k: 47.43155162941419 best_b: -13.524035845390014, and the loss is: 69428.79690117015\n",
      "When time is : 75, get best_k: 46.43155162941417 best_b: -14.52403584539001, and the loss is: 65626.95510088214\n",
      "When time is : 85, get best_k: 45.43155162941416 best_b: -15.524035845390006, and the loss is: 61932.23048734117\n",
      "When time is : 95, get best_k: 44.431551629414145 best_b: -16.524035845390014, and the loss is: 58344.623060547325\n",
      "When time is : 105, get best_k: 43.43155162941413 best_b: -17.524035845390028, and the loss is: 54864.13282050032\n",
      "When time is : 115, get best_k: 42.431551629414116 best_b: -18.524035845390042, and the loss is: 51490.75976720046\n",
      "When time is : 125, get best_k: 41.4315516294141 best_b: -19.524035845390056, and the loss is: 48224.50390064765\n",
      "When time is : 135, get best_k: 40.43155162941409 best_b: -20.52403584539007, and the loss is: 45065.36522084179\n",
      "When time is : 145, get best_k: 39.43155162941407 best_b: -21.524035845390085, and the loss is: 42013.34372778303\n",
      "When time is : 155, get best_k: 38.43155162941406 best_b: -22.5240358453901, and the loss is: 39068.439421471325\n",
      "When time is : 165, get best_k: 37.431551629414045 best_b: -23.524035845390113, and the loss is: 36230.652301906586\n",
      "When time is : 175, get best_k: 36.43155162941403 best_b: -24.524035845390127, and the loss is: 33499.982369089004\n",
      "When time is : 185, get best_k: 35.43155162941402 best_b: -25.52403584539014, and the loss is: 30876.42962301839\n",
      "When time is : 195, get best_k: 34.431551629414 best_b: -26.524035845390156, and the loss is: 28359.994063694798\n",
      "When time is : 205, get best_k: 33.43155162941399 best_b: -27.52403584539017, and the loss is: 25950.67569111829\n",
      "When time is : 215, get best_k: 32.431551629413974 best_b: -28.524035845390184, and the loss is: 23648.474505288774\n",
      "When time is : 225, get best_k: 31.43155162941396 best_b: -29.5240358453902, and the loss is: 21453.390506206357\n",
      "When time is : 235, get best_k: 30.431551629413946 best_b: -30.524035845390213, and the loss is: 19365.423693870915\n",
      "When time is : 245, get best_k: 29.43155162941393 best_b: -31.524035845390227, and the loss is: 17384.57406828255\n",
      "When time is : 255, get best_k: 28.431551629413917 best_b: -32.52403584539024, and the loss is: 15510.841629441213\n",
      "When time is : 265, get best_k: 27.431551629413903 best_b: -33.52403584539025, and the loss is: 13744.226377346906\n",
      "When time is : 275, get best_k: 26.43155162941389 best_b: -34.524035845390266, and the loss is: 12084.728311999643\n",
      "When time is : 285, get best_k: 25.431551629413875 best_b: -35.52403584539028, and the loss is: 10532.347433399442\n",
      "When time is : 295, get best_k: 24.43155162941386 best_b: -36.524035845390294, and the loss is: 9087.08374154625\n",
      "When time is : 305, get best_k: 23.431551629413846 best_b: -37.52403584539031, and the loss is: 7748.937236440108\n",
      "When time is : 315, get best_k: 22.431551629413832 best_b: -38.52403584539032, and the loss is: 6517.907918081003\n",
      "When time is : 325, get best_k: 21.431551629413818 best_b: -39.52403584539034, and the loss is: 5393.995786468939\n",
      "When time is : 335, get best_k: 20.431551629413804 best_b: -40.52403584539035, and the loss is: 4377.200841603905\n",
      "When time is : 345, get best_k: 19.43155162941379 best_b: -41.524035845390365, and the loss is: 3467.523083485919\n",
      "When time is : 355, get best_k: 18.431551629413775 best_b: -42.52403584539038, and the loss is: 2664.962512114969\n",
      "When time is : 365, get best_k: 17.43155162941376 best_b: -43.524035845390394, and the loss is: 1969.5191274910574\n",
      "When time is : 375, get best_k: 16.431551629413747 best_b: -44.52403584539041, and the loss is: 1381.1929296141845\n",
      "When time is : 385, get best_k: 15.431551629413743 best_b: -45.52403584539042, and the loss is: 899.9839184843532\n",
      "When time is : 395, get best_k: 14.431551629413747 best_b: -46.524035845390436, and the loss is: 525.8920941015609\n",
      "When time is : 405, get best_k: 13.43155162941375 best_b: -47.52403584539045, and the loss is: 258.9174564658038\n",
      "When time is : 415, get best_k: 12.431551629413754 best_b: -48.524035845390465, and the loss is: 99.06000557708225\n",
      "When time is : 425, get best_k: 11.431551629413757 best_b: -49.52403584539048, and the loss is: 46.319741435396054\n"
     ]
    }
   ],
   "source": [
    "trying_times = 2000\n",
    "\n",
    "min_loss = float('inf')\n",
    "\n",
    "best_k = random.random() * 200 - 100\n",
    "best_b = random.random() * 200 - 100\n",
    "\n",
    "direction = [\n",
    "    (+1, -1),  # first element: k's change direction, second element: b's change direction\n",
    "    (+1, +1), \n",
    "    (-1, -1), \n",
    "    (-1, +1),\n",
    "]\n",
    "\n",
    "next_direction = random.choice(direction)\n",
    "\n",
    "scalar = 0.1\n",
    "\n",
    "update_time = 0\n",
    "\n",
    "for i in range(trying_times):\n",
    "    \n",
    "    k_direction, b_direction = next_direction\n",
    "    \n",
    "    current_k, current_b = best_k + k_direction * scalar, best_b + b_direction * scalar\n",
    "    \n",
    "    price_by_k_and_b = [price(r, current_k, current_b) for r in X_rm]\n",
    "\n",
    "    current_loss = loss(y, price_by_k_and_b)\n",
    "    \n",
    "    if current_loss < min_loss: # performance became better\n",
    "        min_loss = current_loss\n",
    "        best_k, best_b = current_k, current_b\n",
    "        \n",
    "        next_direction = next_direction\n",
    "        update_time += 1\n",
    "        \n",
    "        if update_time % 10 == 0: \n",
    "            print('When time is : {}, get best_k: {} best_b: {}, and the loss is: {}'.format(i, best_k, best_b, min_loss))\n",
    "    else:\n",
    "        next_direction = random.choice(direction)"
   ]
  },
  {
   "cell_type": "code",
   "execution_count": null,
   "metadata": {},
   "outputs": [],
   "source": []
  },
  {
   "cell_type": "markdown",
   "metadata": {},
   "source": [
    "如果我们想得到更快的更新，在更短的时间内获得更好的结果，我们需要一件事情：\n",
    "\n",
    "#### 找对改变的方向\n",
    "\n",
    "#### 如何找对改变的方向呢？ \n",
    "\n",
    "#### 2nd-method: 监督让他变化--> 监督学习"
   ]
  },
  {
   "cell_type": "markdown",
   "metadata": {},
   "source": [
    "## loss\n",
    "\n",
    "$$ loss = \\frac{1}{n} \\sum{(y_i - \\hat{y_i})}^2$$\n",
    "$$ loss = \\frac{1}{n} \\sum{(y_i - (kx_i + b_i))}^2 $$\n",
    "$$ \\frac{\\partial{loss}}{\\partial{k}} = -\\frac{2}{n}\\sum(y_i - (kx_i + b_i))x_i$$\n",
    "$$ \\frac{\\partial{loss}}{\\partial{k}} = -\\frac{2}{n}\\sum(y_i - \\hat{y_i})x_i$$\n",
    "$$ \\frac{\\partial{loss}}{\\partial{b}} = -\\frac{2}{n}\\sum(y_i - \\hat{y_i})$$"
   ]
  },
  {
   "cell_type": "code",
   "execution_count": 3,
   "metadata": {},
   "outputs": [],
   "source": [
    "def loss(y, y_hat): # to evaluate the performance \n",
    "    return sum((y_i - y_hat_i)**2 for y_i, y_hat_i in zip(list(y), list(y_hat))) / len(list(y))"
   ]
  },
  {
   "cell_type": "code",
   "execution_count": null,
   "metadata": {},
   "outputs": [],
   "source": []
  },
  {
   "cell_type": "markdown",
   "metadata": {},
   "source": [
    "## 导数"
   ]
  },
  {
   "cell_type": "code",
   "execution_count": 54,
   "metadata": {},
   "outputs": [],
   "source": [
    "def partial_k(x, y, y_hat):\n",
    "    n = len(y)\n",
    "\n",
    "    gradient = 0\n",
    "    \n",
    "    for x_i, y_i, y_hat_i in zip(list(x), list(y), list(y_hat)):\n",
    "        gradient += (y_i - y_hat_i) * x_i\n",
    "    \n",
    "    return -2 / n * gradient\n",
    "\n",
    "\n",
    "def partial_b(x, y, y_hat):\n",
    "    n = len(y)\n",
    "\n",
    "    gradient = 0\n",
    "    \n",
    "    for y_i, y_hat_i in zip(list(y), list(y_hat)):\n",
    "        gradient += (y_i - y_hat_i)\n",
    "    \n",
    "    return -2 / n * gradient"
   ]
  },
  {
   "cell_type": "code",
   "execution_count": 41,
   "metadata": {},
   "outputs": [],
   "source": [
    "from icecream import ic"
   ]
  },
  {
   "cell_type": "code",
   "execution_count": 67,
   "metadata": {},
   "outputs": [
    {
     "name": "stdout",
     "output_type": "stream",
     "text": [
      "When time is : 0, get best_k: 11.431551629413757 best_b: -49.52403584539048, and the loss is: 575.5349822522099\n",
      "When time is : 50, get best_k: 11.431551629413757 best_b: -49.52403584539048, and the loss is: 277.9378161169662\n",
      "When time is : 100, get best_k: 11.431551629413757 best_b: -49.52403584539048, and the loss is: 147.24895628021088\n",
      "When time is : 150, get best_k: 11.431551629413757 best_b: -49.52403584539048, and the loss is: 89.8572545975801\n",
      "When time is : 200, get best_k: 11.431551629413757 best_b: -49.52403584539048, and the loss is: 64.65372567052019\n",
      "When time is : 250, get best_k: 11.431551629413757 best_b: -49.52403584539048, and the loss is: 53.58551239815359\n",
      "When time is : 300, get best_k: 11.431551629413757 best_b: -49.52403584539048, and the loss is: 48.72477014152337\n",
      "When time is : 350, get best_k: 11.431551629413757 best_b: -49.52403584539048, and the loss is: 46.59001559478237\n",
      "When time is : 400, get best_k: 11.431551629413757 best_b: -49.52403584539048, and the loss is: 45.65236839246802\n",
      "When time is : 450, get best_k: 11.431551629413757 best_b: -49.52403584539048, and the loss is: 45.24042644341104\n",
      "When time is : 500, get best_k: 11.431551629413757 best_b: -49.52403584539048, and the loss is: 45.059346031766644\n",
      "When time is : 550, get best_k: 11.431551629413757 best_b: -49.52403584539048, and the loss is: 44.97964764306714\n",
      "When time is : 600, get best_k: 11.431551629413757 best_b: -49.52403584539048, and the loss is: 44.94447083305862\n",
      "When time is : 650, get best_k: 11.431551629413757 best_b: -49.52403584539048, and the loss is: 44.928845550418174\n",
      "When time is : 700, get best_k: 11.431551629413757 best_b: -49.52403584539048, and the loss is: 44.921806290539294\n",
      "When time is : 750, get best_k: 11.431551629413757 best_b: -49.52403584539048, and the loss is: 44.918537593098634\n",
      "When time is : 800, get best_k: 11.431551629413757 best_b: -49.52403584539048, and the loss is: 44.91692476670531\n",
      "When time is : 850, get best_k: 11.431551629413757 best_b: -49.52403584539048, and the loss is: 44.91603915253814\n",
      "When time is : 900, get best_k: 11.431551629413757 best_b: -49.52403584539048, and the loss is: 44.91547293354079\n",
      "When time is : 950, get best_k: 11.431551629413757 best_b: -49.52403584539048, and the loss is: 44.91504701836891\n",
      "When time is : 1000, get best_k: 11.431551629413757 best_b: -49.52403584539048, and the loss is: 44.914682759718445\n",
      "When time is : 1050, get best_k: 11.431551629413757 best_b: -49.52403584539048, and the loss is: 44.91434561990997\n",
      "When time is : 1100, get best_k: 11.431551629413757 best_b: -49.52403584539048, and the loss is: 44.9140204318406\n",
      "When time is : 1150, get best_k: 11.431551629413757 best_b: -49.52403584539048, and the loss is: 44.91370053492356\n",
      "When time is : 1200, get best_k: 11.431551629413757 best_b: -49.52403584539048, and the loss is: 44.91338300417686\n",
      "When time is : 1250, get best_k: 11.431551629413757 best_b: -49.52403584539048, and the loss is: 44.91306655509527\n",
      "When time is : 1300, get best_k: 11.431551629413757 best_b: -49.52403584539048, and the loss is: 44.912750623583214\n",
      "When time is : 1350, get best_k: 11.431551629413757 best_b: -49.52403584539048, and the loss is: 44.912434961909526\n",
      "When time is : 1400, get best_k: 11.431551629413757 best_b: -49.52403584539048, and the loss is: 44.91211946127419\n",
      "When time is : 1450, get best_k: 11.431551629413757 best_b: -49.52403584539048, and the loss is: 44.91180407388745\n",
      "When time is : 1500, get best_k: 11.431551629413757 best_b: -49.52403584539048, and the loss is: 44.9114887787528\n",
      "When time is : 1550, get best_k: 11.431551629413757 best_b: -49.52403584539048, and the loss is: 44.9111735666393\n",
      "When time is : 1600, get best_k: 11.431551629413757 best_b: -49.52403584539048, and the loss is: 44.91085843348287\n",
      "When time is : 1650, get best_k: 11.431551629413757 best_b: -49.52403584539048, and the loss is: 44.91054337748873\n",
      "When time is : 1700, get best_k: 11.431551629413757 best_b: -49.52403584539048, and the loss is: 44.910228397858496\n",
      "When time is : 1750, get best_k: 11.431551629413757 best_b: -49.52403584539048, and the loss is: 44.9099134942312\n",
      "When time is : 1800, get best_k: 11.431551629413757 best_b: -49.52403584539048, and the loss is: 44.909598666438264\n",
      "When time is : 1850, get best_k: 11.431551629413757 best_b: -49.52403584539048, and the loss is: 44.90928391439542\n",
      "When time is : 1900, get best_k: 11.431551629413757 best_b: -49.52403584539048, and the loss is: 44.90896923805536\n",
      "When time is : 1950, get best_k: 11.431551629413757 best_b: -49.52403584539048, and the loss is: 44.908654637387244\n"
     ]
    }
   ],
   "source": [
    "trying_times = 2000\n",
    "\n",
    "X, y = data['data'], data['target']\n",
    "\n",
    "min_loss = float('inf') \n",
    "\n",
    "current_k = random.random() * 200 - 100\n",
    "current_b = random.random() * 200 - 100\n",
    "\n",
    "learning_rate = 1e-04\n",
    "\n",
    "\n",
    "update_time = 0\n",
    "\n",
    "for i in range(trying_times):\n",
    "    \n",
    "    price_by_k_and_b = [price(r, current_k, current_b) for r in X_rm]\n",
    "    \n",
    "    current_loss = loss(y, price_by_k_and_b)\n",
    "\n",
    "    if current_loss < min_loss: # performance became better\n",
    "        min_loss = current_loss\n",
    "        \n",
    "        if i % 50 == 0: \n",
    "            print('When time is : {}, get best_k: {} best_b: {}, and the loss is: {}'.format(i, best_k, best_b, min_loss))\n",
    "\n",
    "    k_gradient = partial_k(X_rm, y, price_by_k_and_b)\n",
    "    \n",
    "    b_gradient = partial_b(X_rm, y, price_by_k_and_b)\n",
    "    \n",
    "    current_k = current_k + (-1 * k_gradient) * learning_rate\n",
    "\n",
    "    current_b = current_b + (-1 * b_gradient) * learning_rate"
   ]
  },
  {
   "cell_type": "code",
   "execution_count": 65,
   "metadata": {},
   "outputs": [],
   "source": [
    "y = 10"
   ]
  },
  {
   "cell_type": "code",
   "execution_count": 68,
   "metadata": {},
   "outputs": [
    {
     "data": {
      "text/plain": [
       "<matplotlib.collections.PathCollection at 0x1a1f2b0e10>"
      ]
     },
     "execution_count": 68,
     "metadata": {},
     "output_type": "execute_result"
    },
    {
     "data": {
      "image/png": "[encoded data removed]",
      "text/plain": [
       "<Figure size 432x288 with 1 Axes>"
      ]
     },
     "metadata": {
      "needs_background": "light"
     },
     "output_type": "display_data"
    }
   ],
   "source": [
    "X_rm = X[:, 5]\n",
    "k = 11.431551629413757\n",
    "b = -49.52403584539048\n",
    "price_by_random_k_and_b = [price(r, k, b) for r in X_rm]\n",
    "\n",
    "draw_rm_and_price()\n",
    "plt.scatter(X_rm, price_by_random_k_and_b)"
   ]
  },
  {
   "cell_type": "markdown",
   "metadata": {},
   "source": [
    "## Breaking: 10:03 PM Continue :)"
   ]
  },
  {
   "cell_type": "code",
   "execution_count": 357,
   "metadata": {},
   "outputs": [
    {
     "data": {
      "text/plain": [
       "2.0"
      ]
     },
     "execution_count": 357,
     "metadata": {},
     "output_type": "execute_result"
    }
   ],
   "source": [
    "loss([1, 1, 1], [2, 2, 3])"
   ]
  },
  {
   "cell_type": "code",
   "execution_count": 69,
   "metadata": {},
   "outputs": [],
   "source": [
    "import time"
   ]
  },
  {
   "cell_type": "code",
   "execution_count": 71,
   "metadata": {},
   "outputs": [
    {
     "name": "stdout",
     "output_type": "stream",
     "text": [
      "R U ready?\n",
      "R U ready?\n",
      "R U ready?\n",
      "R U ready?\n",
      "R U ready?\n",
      "R U ready?\n",
      "R U ready?\n",
      "R U ready?\n",
      "R U ready?\n",
      "R U ready?\n",
      "R U ready?\n"
     ]
    },
    {
     "ename": "KeyboardInterrupt",
     "evalue": "",
     "output_type": "error",
     "traceback": [
      "\u001b[0;31m---------------------------------------------------------------------------\u001b[0m",
      "\u001b[0;31mKeyboardInterrupt\u001b[0m                         Traceback (most recent call last)",
      "\u001b[0;32m<ipython-input-71-517827af49f7>\u001b[0m in \u001b[0;36m<module>\u001b[0;34m\u001b[0m\n\u001b[1;32m      1\u001b[0m \u001b[0;32mfor\u001b[0m \u001b[0mi\u001b[0m \u001b[0;32min\u001b[0m \u001b[0mrange\u001b[0m\u001b[0;34m(\u001b[0m\u001b[0;36m100\u001b[0m\u001b[0;34m)\u001b[0m\u001b[0;34m:\u001b[0m\u001b[0;34m\u001b[0m\u001b[0;34m\u001b[0m\u001b[0m\n\u001b[1;32m      2\u001b[0m     \u001b[0mprint\u001b[0m\u001b[0;34m(\u001b[0m\u001b[0;34m'R U ready?'\u001b[0m\u001b[0;34m)\u001b[0m\u001b[0;34m\u001b[0m\u001b[0;34m\u001b[0m\u001b[0m\n\u001b[0;32m----> 3\u001b[0;31m     \u001b[0mtime\u001b[0m\u001b[0;34m.\u001b[0m\u001b[0msleep\u001b[0m\u001b[0;34m(\u001b[0m\u001b[0;36m1\u001b[0m\u001b[0;34m)\u001b[0m\u001b[0;34m\u001b[0m\u001b[0;34m\u001b[0m\u001b[0m\n\u001b[0m",
      "\u001b[0;31mKeyboardInterrupt\u001b[0m: "
     ]
    }
   ],
   "source": [
    "for i in range(100):\n",
    "    print('R U ready?')\n",
    "    time.sleep(1)"
   ]
  },
  {
   "cell_type": "code",
   "execution_count": 358,
   "metadata": {},
   "outputs": [
    {
     "data": {
      "text/plain": [
       "0.0"
      ]
     },
     "execution_count": 358,
     "metadata": {},
     "output_type": "execute_result"
    }
   ],
   "source": [
    "loss([1, 1, 1], [1, 1, 1])"
   ]
  },
  {
   "cell_type": "code",
   "execution_count": 289,
   "metadata": {},
   "outputs": [
    {
     "data": {
      "text/plain": [
       "array(['CRIM', 'ZN', 'INDUS', 'CHAS', 'NOX', 'RM', 'AGE', 'DIS', 'RAD',\n",
       "       'TAX', 'PTRATIO', 'B', 'LSTAT'], dtype='<U7')"
      ]
     },
     "execution_count": 289,
     "metadata": {},
     "output_type": "execute_result"
    }
   ],
   "source": [
    "data['feature_names']"
   ]
  },
  {
   "cell_type": "code",
   "execution_count": 284,
   "metadata": {},
   "outputs": [
    {
     "data": {
      "text/plain": [
       "\".. _boston_dataset:\\n\\nBoston house prices dataset\\n---------------------------\\n\\n**Data Set Characteristics:**  \\n\\n    :Number of Instances: 506 \\n\\n    :Number of Attributes: 13 numeric/categorical predictive. Median Value (attribute 14) is usually the target.\\n\\n    :Attribute Information (in order):\\n        - CRIM     per capita crime rate by town\\n        - ZN       proportion of residential land zoned for lots over 25,000 sq.ft.\\n        - INDUS    proportion of non-retail business acres per town\\n        - CHAS     Charles River dummy variable (= 1 if tract bounds river; 0 otherwise)\\n        - NOX      nitric oxides concentration (parts per 10 million)\\n        - RM       average number of rooms per dwelling\\n        - AGE      proportion of owner-occupied units built prior to 1940\\n        - DIS      weighted distances to five Boston employment centres\\n        - RAD      index of accessibility to radial highways\\n        - TAX      full-value property-tax rate per $10,000\\n        - PTRATIO  pupil-teacher ratio by town\\n        - B        1000(Bk - 0.63)^2 where Bk is the proportion of blacks by town\\n        - LSTAT    % lower status of the population\\n        - MEDV     Median value of owner-occupied homes in $1000's\\n\\n    :Missing Attribute Values: None\\n\\n    :Creator: Harrison, D. and Rubinfeld, D.L.\\n\\nThis is a copy of UCI ML housing dataset.\\nhttps://archive.ics.uci.edu/ml/machine-learning-databases/housing/\\n\\n\\nThis dataset was taken from the StatLib library which is maintained at Carnegie Mellon University.\\n\\nThe Boston house-price data of Harrison, D. and Rubinfeld, D.L. 'Hedonic\\nprices and the demand for clean air', J. Environ. Economics & Management,\\nvol.5, 81-102, 1978.   Used in Belsley, Kuh & Welsch, 'Regression diagnostics\\n...', Wiley, 1980.   N.B. Various transformations are used in the table on\\npages 244-261 of the latter.\\n\\nThe Boston house-price data has been used in many machine learning papers that address regression\\nproblems.   \\n     \\n.. topic:: References\\n\\n   - Belsley, Kuh & Welsch, 'Regression diagnostics: Identifying Influential Data and Sources of Collinearity', Wiley, 1980. 244-261.\\n   - Quinlan,R. (1993). Combining Instance-Based and Model-Based Learning. In Proceedings on the Tenth International Conference of Machine Learning, 236-243, University of Massachusetts, Amherst. Morgan Kaufmann.\\n\""
      ]
     },
     "execution_count": 284,
     "metadata": {},
     "output_type": "execute_result"
    }
   ],
   "source": [
    "data['DESCR']"
   ]
  },
  {
   "cell_type": "code",
   "execution_count": null,
   "metadata": {},
   "outputs": [],
   "source": []
  },
  {
   "cell_type": "code",
   "execution_count": null,
   "metadata": {},
   "outputs": [],
   "source": []
  },
  {
   "cell_type": "code",
   "execution_count": null,
   "metadata": {},
   "outputs": [],
   "source": []
  },
  {
   "cell_type": "code",
   "execution_count": null,
   "metadata": {},
   "outputs": [],
   "source": []
  },
  {
   "cell_type": "code",
   "execution_count": null,
   "metadata": {},
   "outputs": [],
   "source": []
  },
  {
   "cell_type": "code",
   "execution_count": null,
   "metadata": {},
   "outputs": [],
   "source": []
  },
  {
   "cell_type": "code",
   "execution_count": null,
   "metadata": {},
   "outputs": [],
   "source": []
  },
  {
   "cell_type": "code",
   "execution_count": null,
   "metadata": {},
   "outputs": [],
   "source": []
  },
  {
   "cell_type": "code",
   "execution_count": null,
   "metadata": {},
   "outputs": [],
   "source": []
  },
  {
   "cell_type": "code",
   "execution_count": null,
   "metadata": {},
   "outputs": [],
   "source": []
  },
  {
   "cell_type": "code",
   "execution_count": null,
   "metadata": {},
   "outputs": [],
   "source": []
  },
  {
   "cell_type": "code",
   "execution_count": null,
   "metadata": {},
   "outputs": [],
   "source": []
  },
  {
   "cell_type": "code",
   "execution_count": null,
   "metadata": {},
   "outputs": [],
   "source": []
  },
  {
   "cell_type": "code",
   "execution_count": null,
   "metadata": {},
   "outputs": [],
   "source": []
  },
  {
   "cell_type": "code",
   "execution_count": null,
   "metadata": {},
   "outputs": [],
   "source": []
  },
  {
   "cell_type": "code",
   "execution_count": null,
   "metadata": {},
   "outputs": [],
   "source": []
  },
  {
   "cell_type": "code",
   "execution_count": null,
   "metadata": {},
   "outputs": [],
   "source": []
  },
  {
   "cell_type": "code",
   "execution_count": null,
   "metadata": {},
   "outputs": [],
   "source": []
  },
  {
   "cell_type": "code",
   "execution_count": null,
   "metadata": {},
   "outputs": [],
   "source": []
  },
  {
   "cell_type": "code",
   "execution_count": null,
   "metadata": {},
   "outputs": [],
   "source": []
  },
  {
   "cell_type": "code",
   "execution_count": null,
   "metadata": {},
   "outputs": [],
   "source": []
  },
  {
   "cell_type": "code",
   "execution_count": null,
   "metadata": {},
   "outputs": [],
   "source": []
  },
  {
   "cell_type": "code",
   "execution_count": null,
   "metadata": {},
   "outputs": [],
   "source": []
  },
  {
   "cell_type": "code",
   "execution_count": null,
   "metadata": {},
   "outputs": [],
   "source": []
  }
 ],
 "metadata": {
  "kernelspec": {
   "display_name": "Python 3",
   "language": "python",
   "name": "python3"
  },
  "language_info": {
   "codemirror_mode": {
    "name": "ipython",
    "version": 3
   },
   "file_extension": ".py",
   "mimetype": "text/x-python",
   "name": "python",
   "nbconvert_exporter": "python",
   "pygments_lexer": "ipython3",
   "version": "3.7.3"
  }
 },
 "nbformat": 4,
 "nbformat_minor": 2
}
