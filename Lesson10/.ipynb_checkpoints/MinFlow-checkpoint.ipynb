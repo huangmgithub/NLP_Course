{
 "cells": [
  {
   "cell_type": "markdown",
   "metadata": {},
   "source": [
    "### Target: using python and numpy implement a neural network framework."
   ]
  },
  {
   "cell_type": "markdown",
   "metadata": {},
   "source": [
    "> Node:\n",
    "+ forward: *Function*, how to calculate the inputs\n",
    "+ backwards: *Function*, how to get the gradients when backpropogation\n",
    "+ gradients: *Mapper*, the gradient map the this node of its inputs node\n",
    "+ inputs: *List*, the input nodes of this node\n",
    "+ outputs: *List*, the output node of this node\n",
    " "
   ]
  },
  {
   "cell_type": "code",
   "execution_count": 313,
   "metadata": {},
   "outputs": [],
   "source": [
    "class Node:\n",
    "    \"\"\"\n",
    "    Each node in neural networks will have these attributes and methods\n",
    "    \"\"\"\n",
    "    def __init__(self, inputs=[]):\n",
    "        \"\"\"\n",
    "        if the node is the operator of \"ax + b\", the inputs will be x node , and the outputs \n",
    "        of this is its successors. \n",
    "        and the value is *ax + b*\n",
    "        \"\"\"\n",
    "        self.inputs = inputs\n",
    "        self.value = None\n",
    "        self.outputs = []\n",
    "        self.gradient = {}\n",
    "        \n",
    "        for node in self.inputs:\n",
    "            node.outputs.append(self) # build a connection relationship\n",
    "            \n",
    "    def forward(self):\n",
    "        \"\"\"\n",
    "        Forward propogation:\n",
    "        compute the output value based on input nodes and store the value \n",
    "        into *self.value*\n",
    "        \"\"\"\n",
    "        raise NotImplementedError\n",
    "        \n",
    "    def backforward(self):\n",
    "        \"\"\" \n",
    "        Back propogation:\n",
    "        compute the gradient of each input node and store the value \n",
    "        into \"self.gredients\"\n",
    "        \"\"\"\n",
    "        raise NotImplementedError"
   ]
  },
  {
   "cell_type": "code",
   "execution_count": 314,
   "metadata": {},
   "outputs": [],
   "source": [
    "class Input(Node):\n",
    "    def __init__(self, name=''):\n",
    "        Node.__init__(self, inputs=[])\n",
    "        self.name = name\n",
    "    \n",
    "    def forward(self, value=None):\n",
    "        if value is not None:\n",
    "            self.value = value\n",
    "            \n",
    "    def backward(self):\n",
    "        self.gradient = {}\n",
    "            \n",
    "        for n in self.outputs: \n",
    "            grad_cost = n.gradient[self] # successor node's computing gradient\n",
    "            self.gradient[self] = grad_cost # save gradient\n",
    "    \n",
    "    def __repr__(self):\n",
    "        return \"Input Node: {}\".format(self.name)"
   ]
  },
  {
   "cell_type": "code",
   "execution_count": 315,
   "metadata": {},
   "outputs": [],
   "source": [
    "class Linear(Node):\n",
    "    def __init__(self, nodes, weights, bias):\n",
    "        self.w_node = weights\n",
    "        self.x_node = nodes\n",
    "        self.b_node = bias\n",
    "        Node.__init__(self, inputs=[nodes, weights, bias])\n",
    "    \n",
    "    def forward(self):\n",
    "        \"\"\"compute the wx + b using numpy\"\"\"\n",
    "        self.value = np.dot(self.x_node.value, self.w_node.value) + self.b_node.value\n",
    "        \n",
    "    def backward(self):\n",
    "        for node in self.outputs:\n",
    "            #gradient_of_loss_of_this_output_node = node.gradient[self]\n",
    "            grad_cost = node.gradient[self]\n",
    "            \n",
    "            self.gradient[self.w_node] = np.dot(self.x_node.value.T, grad_cost)\n",
    "            self.gradient[self.b_node] = np.sum(grad_cost * 1, axis=0, keepdims=False)\n",
    "            self.gradient[self.x_node] = np.dot(grad_cost, self.w_node.value.T)"
   ]
  },
  {
   "cell_type": "code",
   "execution_count": 316,
   "metadata": {},
   "outputs": [],
   "source": [
    "class Sigmoid(Node):\n",
    "    def __init__(self, node):\n",
    "        Node.__init__(self, inputs=[node])\n",
    "        self.x_node = node\n",
    "    \n",
    "    def _sigmoid(self, x):\n",
    "        return 1 / (1 + np.exp(-1 * x))\n",
    "    \n",
    "    def forward(self):\n",
    "        self.value = self._sigmoid(self.x_node.value)\n",
    "    \n",
    "    def backward(self):\n",
    "        y = self.value\n",
    "        \n",
    "        self.partial = y * (1 - y)\n",
    "        \n",
    "        for n in self.outputs:\n",
    "            grad_cost = n.gradient[self]\n",
    "            \n",
    "            self.gradient[self.x_node] = grad_cost * self.partial"
   ]
  },
  {
   "cell_type": "code",
   "execution_count": 317,
   "metadata": {},
   "outputs": [],
   "source": [
    "class MSE(Node):\n",
    "    def __init__(self, y_true, y_hat):\n",
    "        self.y_true_node = y_true\n",
    "        self.y_hat_node = y_hat\n",
    "        Node.__init__(self, inputs=[y_true, y_hat])\n",
    "        \n",
    "    def forward(self):\n",
    "        y_true_flatten = self.y_true_node.value.reshape(-1, 1)\n",
    "        y_hat_flatten = self.y_hat_node.value.reshape(-1, 1)\n",
    "        \n",
    "        self.diff = y_true_flatten - y_hat_flatten\n",
    "        self.value = np.mean(self.diff ** 2)\n",
    "        \n",
    "    def backward(self):\n",
    "        n  = self.y_hat_node.value.shape[0]\n",
    "        \n",
    "        self.gradient[self.y_true_node] = (2 / n) * self.diff\n",
    "        self.gradient[self.y_hat_node] = (-2 / n) * self.diff"
   ]
  },
  {
   "cell_type": "code",
   "execution_count": 318,
   "metadata": {},
   "outputs": [],
   "source": [
    "def training_one_batch(topological_sorted_graph):\n",
    "    # graph 是经过拓扑排序之后的 一个list\n",
    "    for node in topological_sorted_graph:\n",
    "        node.forward()\n",
    "        \n",
    "    for node in topological_sorted_graph[::-1]:\n",
    "        node.backward()"
   ]
  },
  {
   "cell_type": "code",
   "execution_count": 319,
   "metadata": {},
   "outputs": [],
   "source": [
    "def topological_sort(data_with_value):\n",
    "    feed_dict = data_with_value\n",
    "    input_nodes = [n for n in feed_dict.keys()]\n",
    "    \n",
    "    G = {}\n",
    "    nodes = [n for n in input_nodes]\n",
    "    while len(nodes) > 0:\n",
    "        n = nodes.pop(0)\n",
    "        if n not in G:\n",
    "            G[n] = {'in':set(), 'out':set()}\n",
    "        for m in n.outputs:\n",
    "            if m not in G:\n",
    "                G[m] = {'in':set(), 'out':set()}\n",
    "            G[n]['out'].add(m)\n",
    "            G[m]['in'].add(n)\n",
    "            nodes.append(m)\n",
    "    L = []\n",
    "    S = set(input_nodes)\n",
    "    while len(S) > 0:\n",
    "        n = S.pop()\n",
    "        if isinstance(n, Input):\n",
    "            n.value = feed_dict[n]\n",
    "            ## if n is Input Node, set n'value as \n",
    "            ## feed_dict[n]\n",
    "            ## else, n's value is caculate as its\n",
    "            ## inbounds\n",
    "        L.append(n)\n",
    "        for m in n.outputs:\n",
    "            G[n]['out'].remove(m)\n",
    "            G[m]['in'].remove(n)\n",
    "            # if no other incoming edges add to S\n",
    "            if len(G[m]['in']) == 0:\n",
    "                S.add(m)\n",
    "    return L"
   ]
  },
  {
   "cell_type": "code",
   "execution_count": 320,
   "metadata": {},
   "outputs": [],
   "source": [
    "def  sgd_update(trainable_nodes, learning_rate=1e-2):\n",
    "    for t in trainable_nodes:\n",
    "        t.value += -1 * learning_rate * t.gradient[t]"
   ]
  },
  {
   "cell_type": "code",
   "execution_count": 321,
   "metadata": {},
   "outputs": [],
   "source": [
    "from sklearn.datasets import load_boston\n",
    "import numpy as np"
   ]
  },
  {
   "cell_type": "code",
   "execution_count": 322,
   "metadata": {},
   "outputs": [],
   "source": [
    "data = load_boston()"
   ]
  },
  {
   "cell_type": "code",
   "execution_count": 323,
   "metadata": {},
   "outputs": [],
   "source": [
    "X_ = data['data']"
   ]
  },
  {
   "cell_type": "code",
   "execution_count": 324,
   "metadata": {},
   "outputs": [],
   "source": [
    "y_ = data['target']"
   ]
  },
  {
   "cell_type": "code",
   "execution_count": 325,
   "metadata": {},
   "outputs": [
    {
     "data": {
      "text/plain": [
       "((506, 13), (506,))"
      ]
     },
     "execution_count": 325,
     "metadata": {},
     "output_type": "execute_result"
    }
   ],
   "source": [
    "X_.shape, y_.shape"
   ]
  },
  {
   "cell_type": "code",
   "execution_count": 326,
   "metadata": {},
   "outputs": [],
   "source": [
    "# 归一化\n",
    "X_ = (X_ - np.mean(X_, axis=0)) / np.std(X_, axis=0)"
   ]
  },
  {
   "cell_type": "code",
   "execution_count": 327,
   "metadata": {},
   "outputs": [],
   "source": [
    "n_features = X_.shape[1]\n",
    "n_hidden = 10"
   ]
  },
  {
   "cell_type": "code",
   "execution_count": 328,
   "metadata": {},
   "outputs": [],
   "source": [
    "W1_, b1_ = np.random.randn(n_features, n_hidden), np.zeros(n_hidden)\n",
    "W2_, b2_ = np.random.randn(n_hidden, 1), np.zeros(1)"
   ]
  },
  {
   "cell_type": "markdown",
   "metadata": {},
   "source": [
    "## Build a graph connection "
   ]
  },
  {
   "cell_type": "code",
   "execution_count": 329,
   "metadata": {},
   "outputs": [],
   "source": [
    "X, y = Input(name='X'), Input(name='y')  # tensorflow -> placeholder\n",
    "W1, b1 = Input(name='W1'), Input(name='b1')\n",
    "W2, b2 = Input(name='W2'), Input(name='b2')"
   ]
  },
  {
   "cell_type": "code",
   "execution_count": 330,
   "metadata": {},
   "outputs": [],
   "source": [
    "linear_output = Linear(X, W1, b1)\n",
    "sigmoid_output = Sigmoid(linear_output)\n",
    "yhat = Linear(sigmoid_output, W2, b2)\n",
    "loss = MSE(y, yhat)"
   ]
  },
  {
   "cell_type": "code",
   "execution_count": 331,
   "metadata": {},
   "outputs": [],
   "source": [
    "input_node_with_value = {  # -> feed_dict \n",
    "    X: X_, \n",
    "    y: y_, \n",
    "    W1: W1_, \n",
    "    W2: W2_, \n",
    "    b1: b1_, \n",
    "    b2: b2_\n",
    "}"
   ]
  },
  {
   "cell_type": "code",
   "execution_count": 332,
   "metadata": {},
   "outputs": [],
   "source": [
    "graph = topological_sort(input_node_with_value)"
   ]
  },
  {
   "cell_type": "code",
   "execution_count": 333,
   "metadata": {},
   "outputs": [
    {
     "data": {
      "text/plain": [
       "[Input Node: b1,\n",
       " Input Node: y,\n",
       " Input Node: W1,\n",
       " Input Node: W2,\n",
       " Input Node: b2,\n",
       " Input Node: X,\n",
       " <__main__.Linear at 0x29664992940>,\n",
       " <__main__.Sigmoid at 0x29664992438>,\n",
       " <__main__.Linear at 0x29664992048>,\n",
       " <__main__.MSE at 0x296649920f0>]"
      ]
     },
     "execution_count": 333,
     "metadata": {},
     "output_type": "execute_result"
    }
   ],
   "source": [
    "graph"
   ]
  },
  {
   "cell_type": "code",
   "execution_count": 334,
   "metadata": {},
   "outputs": [],
   "source": [
    "from sklearn.utils import resample"
   ]
  },
  {
   "cell_type": "code",
   "execution_count": 335,
   "metadata": {},
   "outputs": [
    {
     "data": {
      "text/plain": [
       "array([70,  7, 96, 98, 54, 25, 43, 52, 59, 95])"
      ]
     },
     "execution_count": 335,
     "metadata": {},
     "output_type": "execute_result"
    }
   ],
   "source": [
    "np.random.choice(range(100), size=10, replace=True)"
   ]
  },
  {
   "cell_type": "code",
   "execution_count": 336,
   "metadata": {},
   "outputs": [],
   "source": [
    "def run(dictionary):\n",
    "    return topological_sort(dictionary)"
   ]
  },
  {
   "cell_type": "code",
   "execution_count": 337,
   "metadata": {},
   "outputs": [
    {
     "name": "stdout",
     "output_type": "stream",
     "text": [
      "Epoch: 1, loss = 587.175\n",
      "Epoch: 101, loss = 26.119\n",
      "Epoch: 201, loss = 25.969\n",
      "Epoch: 301, loss = 22.588\n",
      "Epoch: 401, loss = 18.369\n",
      "Epoch: 501, loss = 16.994\n",
      "Epoch: 601, loss = 17.563\n",
      "Epoch: 701, loss = 17.479\n",
      "Epoch: 801, loss = 13.227\n",
      "Epoch: 901, loss = 9.615\n",
      "Epoch: 1001, loss = 12.176\n",
      "Epoch: 1101, loss = 12.245\n",
      "Epoch: 1201, loss = 12.204\n",
      "Epoch: 1301, loss = 11.112\n",
      "Epoch: 1401, loss = 12.891\n",
      "Epoch: 1501, loss = 10.544\n",
      "Epoch: 1601, loss = 12.463\n",
      "Epoch: 1701, loss = 11.676\n",
      "Epoch: 1801, loss = 8.326\n",
      "Epoch: 1901, loss = 9.198\n",
      "Epoch: 2001, loss = 10.524\n",
      "Epoch: 2101, loss = 8.554\n",
      "Epoch: 2201, loss = 7.632\n",
      "Epoch: 2301, loss = 8.267\n",
      "Epoch: 2401, loss = 8.565\n",
      "Epoch: 2501, loss = 8.885\n",
      "Epoch: 2601, loss = 8.746\n",
      "Epoch: 2701, loss = 8.985\n",
      "Epoch: 2801, loss = 7.434\n",
      "Epoch: 2901, loss = 8.638\n",
      "Epoch: 3001, loss = 8.197\n",
      "Epoch: 3101, loss = 8.081\n",
      "Epoch: 3201, loss = 8.345\n",
      "Epoch: 3301, loss = 6.673\n",
      "Epoch: 3401, loss = 6.882\n",
      "Epoch: 3501, loss = 7.206\n",
      "Epoch: 3601, loss = 7.940\n",
      "Epoch: 3701, loss = 8.328\n",
      "Epoch: 3801, loss = 8.167\n",
      "Epoch: 3901, loss = 6.118\n",
      "Epoch: 4001, loss = 7.360\n",
      "Epoch: 4101, loss = 9.250\n",
      "Epoch: 4201, loss = 7.851\n",
      "Epoch: 4301, loss = 5.171\n",
      "Epoch: 4401, loss = 7.542\n",
      "Epoch: 4501, loss = 6.145\n",
      "Epoch: 4601, loss = 6.884\n",
      "Epoch: 4701, loss = 6.200\n",
      "Epoch: 4801, loss = 6.779\n",
      "Epoch: 4901, loss = 7.312\n"
     ]
    }
   ],
   "source": [
    "losses = []\n",
    "epochs = 5000\n",
    "batch_size = 64\n",
    "\n",
    "steps_per_epoch = X_.shape[0] // batch_size\n",
    "\n",
    "\n",
    "for i in range(epochs):\n",
    "    loss = 0\n",
    "    \n",
    "    for batch in range(steps_per_epoch):\n",
    "        #indices = np.random.choice(range(X_.shape[0]), size=10, replace=True)\n",
    "        #X_batch = X_[indices]\n",
    "        #y_batch = y_[indices]\n",
    "        X_batch, y_batch = resample(X_, y_, n_samples=batch_size)\n",
    "        \n",
    "        X.value = X_batch\n",
    "        y.value = y_batch\n",
    "        \n",
    "#         input_node_with_value = {  # -> feed_dict \n",
    "#             X: X_batch, \n",
    "#             y: y_batch, \n",
    "#             W1: W1.value, \n",
    "#             W2: W2.value, \n",
    "#             b1: b1.value, \n",
    "#             b2: b2.value,\n",
    "#         }\n",
    "        \n",
    "#         graph = topological_sort(input_node_with_value)\n",
    "        \n",
    "        training_one_batch(graph)\n",
    "        \n",
    "        learning_rate = 1e-3\n",
    "        \n",
    "        sgd_update(trainable_nodes=[W1, W2, b1, b2], learning_rate=learning_rate)\n",
    "        \n",
    "        loss += graph[-1].value\n",
    "        \n",
    "    if i % 100 == 0:\n",
    "        print('Epoch: {}, loss = {:.3f}'.format(i+1, loss/steps_per_epoch))\n",
    "        losses.append(loss)"
   ]
  },
  {
   "cell_type": "code",
   "execution_count": 339,
   "metadata": {},
   "outputs": [],
   "source": [
    "import matplotlib.pyplot as plt"
   ]
  },
  {
   "cell_type": "code",
   "execution_count": 340,
   "metadata": {},
   "outputs": [
    {
     "data": {
      "text/plain": [
       "[<matplotlib.lines.Line2D at 0x296644c0ac8>]"
      ]
     },
     "execution_count": 340,
     "metadata": {},
     "output_type": "execute_result"
    },
    {
     "data": {
      "image/png": "[encoded data removed]",
      "text/plain": [
       "<Figure size 432x288 with 1 Axes>"
      ]
     },
     "metadata": {
      "needs_background": "light"
     },
     "output_type": "display_data"
    }
   ],
   "source": [
    "plt.plot(losses)"
   ]
  },
  {
   "cell_type": "code",
   "execution_count": 341,
   "metadata": {},
   "outputs": [
    {
     "data": {
      "text/plain": [
       "array([[-0.03711   , -0.08906723, -1.44358334, -0.53726083, -0.32977438,\n",
       "        -0.10637515, -0.52520359, -1.07420418, -0.06792504, -0.93545085],\n",
       "       [-0.20275784, -0.22840819, -0.70992638,  1.8604583 ,  0.39185523,\n",
       "         1.35032466, -0.48224584,  0.32588202, -1.19994469,  1.14301311],\n",
       "       [-0.30430875, -1.48100021,  1.93658563,  0.11129629, -0.41882265,\n",
       "         0.98444755,  3.11334092, -0.27917681,  0.03276626, -0.59934444],\n",
       "       [ 0.2572289 ,  0.53646014, -0.14774849, -3.39713272,  0.91096576,\n",
       "        -0.10261985, -1.74823999,  0.10880526,  0.3662945 ,  0.57119158],\n",
       "       [-0.11677956, -0.85407201, -0.01348418,  0.88943963, -0.47412638,\n",
       "         1.2983438 ,  0.37295296,  1.38654382, -4.32811073, -0.88907541],\n",
       "       [ 1.05005423, -0.9943193 ,  2.42326915, -0.97872526,  0.14136481,\n",
       "         1.16063387, -1.67509243,  1.2208972 , -1.28567841,  0.75454538],\n",
       "       [ 0.78656567,  0.20723164, -1.17626122, -0.27339132,  0.17094018,\n",
       "        -0.44889843, -1.11595147, -2.18856112, -1.33879532,  1.61032389],\n",
       "       [ 0.16168545, -2.32152584,  1.2025397 , -1.17902491, -1.31339136,\n",
       "        -0.79888168, -0.97803457, -1.64570211, -1.17320397, -1.18647283],\n",
       "       [ 2.28837588,  1.27683671, -1.69760907, -0.63059272,  3.31319025,\n",
       "         0.6771305 , -0.19158904,  1.93994139,  1.05225736, -0.6237943 ],\n",
       "       [-0.56592759,  0.39090593, -1.87245937, -2.03003657,  1.49830353,\n",
       "         1.73385717, -0.16226221,  0.57675309,  1.00442019, -0.32109738],\n",
       "       [-0.06375799, -2.05346287, -0.30806903,  0.82519597,  0.08520669,\n",
       "        -0.48902136,  0.43322308, -0.36548574, -2.15014146,  1.78147266],\n",
       "       [ 0.11220601,  0.10032811,  1.07297698,  0.49974978, -2.33382841,\n",
       "         0.71980499, -1.64094219, -2.54320215,  1.77999629, -1.06340811],\n",
       "       [-4.13517849, -0.65346643,  2.54101878, -2.4215432 ,  0.78605656,\n",
       "        -1.98029157,  0.10747344, -0.20421549, -0.91782595, -1.9932436 ]])"
      ]
     },
     "execution_count": 341,
     "metadata": {},
     "output_type": "execute_result"
    }
   ],
   "source": [
    "W1.value"
   ]
  },
  {
   "cell_type": "code",
   "execution_count": null,
   "metadata": {},
   "outputs": [],
   "source": []
  }
 ],
 "metadata": {
  "kernelspec": {
   "display_name": "Python 3",
   "language": "python",
   "name": "python3"
  },
  "language_info": {
   "codemirror_mode": {
    "name": "ipython",
    "version": 3
   },
   "file_extension": ".py",
   "mimetype": "text/x-python",
   "name": "python",
   "nbconvert_exporter": "python",
   "pygments_lexer": "ipython3",
   "version": "3.7.3"
  },
  "toc": {
   "base_numbering": 1,
   "nav_menu": {},
   "number_sections": true,
   "sideBar": true,
   "skip_h1_title": false,
   "title_cell": "Table of Contents",
   "title_sidebar": "Contents",
   "toc_cell": false,
   "toc_position": {},
   "toc_section_display": true,
   "toc_window_display": false
  }
 },
 "nbformat": 4,
 "nbformat_minor": 2
}
