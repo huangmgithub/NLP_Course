{
 "cells": [
  {
   "cell_type": "markdown",
   "metadata": {},
   "source": [
    "## Assignment-07 First Step of using machine learning and models."
   ]
  },
  {
   "cell_type": "markdown",
   "metadata": {},
   "source": [
    "![](https://github.com/Computing-Intelligence/jupyters_and_slides/raw/master/entrance-test/images/kkb-ai.png)"
   ]
  },
  {
   "cell_type": "markdown",
   "metadata": {},
   "source": [
    "### 任务描述"
   ]
  },
  {
   "cell_type": "markdown",
   "metadata": {},
   "source": [
    "报社等相关的机构，往往会遇到一个问题，就是别人家的机构使用自己的文章但是并没有标明来源。 在本次任务中，我们将解决新华社的文章被抄袭引用的问题。"
   ]
  },
  {
   "cell_type": "markdown",
   "metadata": {},
   "source": [
    "给定的数据集合中，存在一些新闻预料，该预料是来自新华社，但是其来源并不是新华社，请设计技巧学习模型解决该问题。"
   ]
  },
  {
   "cell_type": "markdown",
   "metadata": {},
   "source": [
    "![](https://timgsa.baidu.com/timg?image&quality=80&size=b9999_10000&sec=1566105348906&di=ee9a2de91207767364853d4decc6cca3&imgtype=0&src=http%3A%2F%2Fmmbiz.qpic.cn%2Fmmbiz_png%2FTicO2kbP6Ao5sCsSQDpehZiczLdC6hDCNvoicjcOCEKX2bLxBc9gVOw28zHyFibfIWq9ceRibP6HDTKReGkr6YyTfQQ%2F640%3Fwx_fmt%3Dpng)"
   ]
  },
  {
   "cell_type": "markdown",
   "metadata": {},
   "source": [
    "### Step1: 数据分析"
   ]
  },
  {
   "cell_type": "markdown",
   "metadata": {},
   "source": [
    "请在课程的GitHub中下载数据集，然后使用pandas进行读取。"
   ]
  },
  {
   "cell_type": "code",
   "execution_count": 1,
   "metadata": {},
   "outputs": [
    {
     "data": {
      "text/html": [
       "<div>\n",
       "<style scoped>\n",
       "    .dataframe tbody tr th:only-of-type {\n",
       "        vertical-align: middle;\n",
       "    }\n",
       "\n",
       "    .dataframe tbody tr th {\n",
       "        vertical-align: top;\n",
       "    }\n",
       "\n",
       "    .dataframe thead th {\n",
       "        text-align: right;\n",
       "    }\n",
       "</style>\n",
       "<table border=\"1\" class=\"dataframe\">\n",
       "  <thead>\n",
       "    <tr style=\"text-align: right;\">\n",
       "      <th></th>\n",
       "      <th>id</th>\n",
       "      <th>author</th>\n",
       "      <th>source</th>\n",
       "      <th>content</th>\n",
       "      <th>feature</th>\n",
       "      <th>title</th>\n",
       "      <th>url</th>\n",
       "    </tr>\n",
       "  </thead>\n",
       "  <tbody>\n",
       "    <tr>\n",
       "      <th>0</th>\n",
       "      <td>89617</td>\n",
       "      <td></td>\n",
       "      <td>快科技@http://www.kkj.cn/</td>\n",
       "      <td>此外，自本周（6月12日）起，除小米手机6等15款机型外，其余机型已暂停更新发布（含开发版/...</td>\n",
       "      <td>{\"type\":\"科技\",\"site\":\"cnbeta\",\"commentNum\":\"37\"...</td>\n",
       "      <td>小米MIUI 9首批机型曝光：共计15款</td>\n",
       "      <td>http://www.cnbeta.com/articles/tech/623597.htm</td>\n",
       "    </tr>\n",
       "    <tr>\n",
       "      <th>1</th>\n",
       "      <td>89616</td>\n",
       "      <td></td>\n",
       "      <td>快科技@http://www.kkj.cn/</td>\n",
       "      <td>骁龙835作为唯一通过Windows 10桌面平台认证的ARM处理器，高通强调，不会因为只考...</td>\n",
       "      <td>{\"type\":\"科技\",\"site\":\"cnbeta\",\"commentNum\":\"15\"...</td>\n",
       "      <td>骁龙835在Windows 10上的性能表现有望改善</td>\n",
       "      <td>http://www.cnbeta.com/articles/tech/623599.htm</td>\n",
       "    </tr>\n",
       "    <tr>\n",
       "      <th>2</th>\n",
       "      <td>89615</td>\n",
       "      <td></td>\n",
       "      <td>快科技@http://www.kkj.cn/</td>\n",
       "      <td>此前的一加3T搭载的是3400mAh电池，DashCharge快充规格为5V/4A。\\r\\n...</td>\n",
       "      <td>{\"type\":\"科技\",\"site\":\"cnbeta\",\"commentNum\":\"18\"...</td>\n",
       "      <td>一加手机5细节曝光：3300mAh、充半小时用1天</td>\n",
       "      <td>http://www.cnbeta.com/articles/tech/623601.htm</td>\n",
       "    </tr>\n",
       "    <tr>\n",
       "      <th>3</th>\n",
       "      <td>89614</td>\n",
       "      <td></td>\n",
       "      <td>新华社</td>\n",
       "      <td>这是6月18日在葡萄牙中部大佩德罗冈地区拍摄的被森林大火烧毁的汽车。新华社记者张立云摄\\r\\n</td>\n",
       "      <td>{\"type\":\"国际新闻\",\"site\":\"环球\",\"commentNum\":\"0\",\"j...</td>\n",
       "      <td>葡森林火灾造成至少62人死亡 政府宣布进入紧急状态（组图）</td>\n",
       "      <td>http://world.huanqiu.com/hot/2017-06/10866126....</td>\n",
       "    </tr>\n",
       "    <tr>\n",
       "      <th>4</th>\n",
       "      <td>89613</td>\n",
       "      <td>胡淑丽_MN7479</td>\n",
       "      <td>深圳大件事</td>\n",
       "      <td>（原标题：44岁女子跑深圳约会网友被拒，暴雨中裸身奔走……）\\r\\n@深圳交警微博称：昨日清...</td>\n",
       "      <td>{\"type\":\"新闻\",\"site\":\"网易热门\",\"commentNum\":\"978\",...</td>\n",
       "      <td>44岁女子约网友被拒暴雨中裸奔 交警为其披衣相随</td>\n",
       "      <td>http://news.163.com/17/0618/00/CN617P3Q0001875...</td>\n",
       "    </tr>\n",
       "  </tbody>\n",
       "</table>\n",
       "</div>"
      ],
      "text/plain": [
       "      id      author                  source  \\\n",
       "0  89617              快科技@http://www.kkj.cn/   \n",
       "1  89616              快科技@http://www.kkj.cn/   \n",
       "2  89615              快科技@http://www.kkj.cn/   \n",
       "3  89614                                 新华社   \n",
       "4  89613  胡淑丽_MN7479                   深圳大件事   \n",
       "\n",
       "                                             content  \\\n",
       "0  此外，自本周（6月12日）起，除小米手机6等15款机型外，其余机型已暂停更新发布（含开发版/...   \n",
       "1  骁龙835作为唯一通过Windows 10桌面平台认证的ARM处理器，高通强调，不会因为只考...   \n",
       "2  此前的一加3T搭载的是3400mAh电池，DashCharge快充规格为5V/4A。\\r\\n...   \n",
       "3    这是6月18日在葡萄牙中部大佩德罗冈地区拍摄的被森林大火烧毁的汽车。新华社记者张立云摄\\r\\n   \n",
       "4  （原标题：44岁女子跑深圳约会网友被拒，暴雨中裸身奔走……）\\r\\n@深圳交警微博称：昨日清...   \n",
       "\n",
       "                                             feature  \\\n",
       "0  {\"type\":\"科技\",\"site\":\"cnbeta\",\"commentNum\":\"37\"...   \n",
       "1  {\"type\":\"科技\",\"site\":\"cnbeta\",\"commentNum\":\"15\"...   \n",
       "2  {\"type\":\"科技\",\"site\":\"cnbeta\",\"commentNum\":\"18\"...   \n",
       "3  {\"type\":\"国际新闻\",\"site\":\"环球\",\"commentNum\":\"0\",\"j...   \n",
       "4  {\"type\":\"新闻\",\"site\":\"网易热门\",\"commentNum\":\"978\",...   \n",
       "\n",
       "                           title  \\\n",
       "0           小米MIUI 9首批机型曝光：共计15款   \n",
       "1     骁龙835在Windows 10上的性能表现有望改善   \n",
       "2      一加手机5细节曝光：3300mAh、充半小时用1天   \n",
       "3  葡森林火灾造成至少62人死亡 政府宣布进入紧急状态（组图）   \n",
       "4       44岁女子约网友被拒暴雨中裸奔 交警为其披衣相随   \n",
       "\n",
       "                                                 url  \n",
       "0     http://www.cnbeta.com/articles/tech/623597.htm  \n",
       "1     http://www.cnbeta.com/articles/tech/623599.htm  \n",
       "2     http://www.cnbeta.com/articles/tech/623601.htm  \n",
       "3  http://world.huanqiu.com/hot/2017-06/10866126....  \n",
       "4  http://news.163.com/17/0618/00/CN617P3Q0001875...  "
      ]
     },
     "execution_count": 1,
     "metadata": {},
     "output_type": "execute_result"
    }
   ],
   "source": [
    "import pandas as pd\n",
    "fname = './new_data/sqlResult_1558435.csv'\n",
    "data = pd.read_csv(fname, encoding='gb18030')\n",
    "data = data.fillna('') #将NaN转换为''\n",
    "data.head()"
   ]
  },
  {
   "cell_type": "code",
   "execution_count": 2,
   "metadata": {},
   "outputs": [
    {
     "data": {
      "text/html": [
       "<div>\n",
       "<style scoped>\n",
       "    .dataframe tbody tr th:only-of-type {\n",
       "        vertical-align: middle;\n",
       "    }\n",
       "\n",
       "    .dataframe tbody tr th {\n",
       "        vertical-align: top;\n",
       "    }\n",
       "\n",
       "    .dataframe thead th {\n",
       "        text-align: right;\n",
       "    }\n",
       "</style>\n",
       "<table border=\"1\" class=\"dataframe\">\n",
       "  <thead>\n",
       "    <tr style=\"text-align: right;\">\n",
       "      <th></th>\n",
       "      <th>id</th>\n",
       "      <th>author</th>\n",
       "      <th>source</th>\n",
       "      <th>content</th>\n",
       "      <th>feature</th>\n",
       "      <th>title</th>\n",
       "      <th>url</th>\n",
       "    </tr>\n",
       "  </thead>\n",
       "  <tbody>\n",
       "    <tr>\n",
       "      <th>3</th>\n",
       "      <td>89614</td>\n",
       "      <td></td>\n",
       "      <td>新华社</td>\n",
       "      <td>这是6月18日在葡萄牙中部大佩德罗冈地区拍摄的被森林大火烧毁的汽车。新华社记者张立云摄\\r\\n</td>\n",
       "      <td>{\"type\":\"国际新闻\",\"site\":\"环球\",\"commentNum\":\"0\",\"j...</td>\n",
       "      <td>葡森林火灾造成至少62人死亡 政府宣布进入紧急状态（组图）</td>\n",
       "      <td>http://world.huanqiu.com/hot/2017-06/10866126....</td>\n",
       "    </tr>\n",
       "    <tr>\n",
       "      <th>39</th>\n",
       "      <td>89578</td>\n",
       "      <td></td>\n",
       "      <td>新华社</td>\n",
       "      <td>这是6月18日在葡萄牙中部大佩德罗冈地区拍摄的被森林大火烧毁的汽车。新华社记者张立云摄\\r\\n</td>\n",
       "      <td>{\"type\":\"国际新闻\",\"site\":\"环球\",\"commentNum\":\"0\",\"j...</td>\n",
       "      <td>葡森林火灾造成至少62人死亡 政府宣布进入紧急状态</td>\n",
       "      <td>http://world.huanqiu.com/hot/2017-06/10866229....</td>\n",
       "    </tr>\n",
       "    <tr>\n",
       "      <th>95</th>\n",
       "      <td>89522</td>\n",
       "      <td></td>\n",
       "      <td>新华社</td>\n",
       "      <td>新华社韩国济州6月18日电综述：亚投行第二届年会三大亮点\\r\\n新华社记者 耿学鹏 严蕾\\r...</td>\n",
       "      <td>{\"type\":\"国内新闻\",\"site\":\"环球\",\"commentNum\":\"0\",\"j...</td>\n",
       "      <td>综述：亚投行第二届年会三大亮点</td>\n",
       "      <td>http://china.huanqiu.com/hot/2017-06/10866439....</td>\n",
       "    </tr>\n",
       "    <tr>\n",
       "      <th>113</th>\n",
       "      <td>89504</td>\n",
       "      <td></td>\n",
       "      <td>新华社</td>\n",
       "      <td>新华社北京6月18日电 经军委领导批准，《军营理论热点怎么看·2017》日前印发全军。\\r\\...</td>\n",
       "      <td>{\"type\":\"国内新闻\",\"site\":\"环球\",\"commentNum\":\"0\",\"j...</td>\n",
       "      <td>《军营理论热点怎么看·2017》印发全军</td>\n",
       "      <td>http://china.huanqiu.com/hot/2017-06/10866447....</td>\n",
       "    </tr>\n",
       "    <tr>\n",
       "      <th>305</th>\n",
       "      <td>89312</td>\n",
       "      <td></td>\n",
       "      <td>新华社</td>\n",
       "      <td>新华社兰州6月19日电（记者张钦）记者19日了解到，刚刚出台的《甘肃省网络扶贫行动的实施方案...</td>\n",
       "      <td>{\"type\":\"国内新闻\",\"site\":\"环球\",\"commentNum\":\"0\",\"j...</td>\n",
       "      <td>甘肃力推网络扶贫：贫困山区到2020年实现4G网络全覆盖</td>\n",
       "      <td>http://china.huanqiu.com/hot/2017-06/10866626....</td>\n",
       "    </tr>\n",
       "    <tr>\n",
       "      <th>312</th>\n",
       "      <td>89305</td>\n",
       "      <td></td>\n",
       "      <td>新华社</td>\n",
       "      <td>新华社乌鲁木齐6月18日电（记者杜刚、王秉阳）6月18日，新疆天山天池首次举办山地马拉松比赛...</td>\n",
       "      <td>{\"type\":\"国内新闻\",\"site\":\"环球\",\"commentNum\":\"0\",\"j...</td>\n",
       "      <td>天山天池首次举办山地马拉松赛</td>\n",
       "      <td>http://china.huanqiu.com/hot/2017-06/10866627....</td>\n",
       "    </tr>\n",
       "    <tr>\n",
       "      <th>314</th>\n",
       "      <td>89303</td>\n",
       "      <td></td>\n",
       "      <td>新华社</td>\n",
       "      <td>新华社北京6月19日电（记者熊丰）记者从公安部消防局获悉，19日上午6时，由公安部消防局组织...</td>\n",
       "      <td>{\"type\":\"国内新闻\",\"site\":\"环球\",\"commentNum\":\"0\",\"j...</td>\n",
       "      <td>9省市联动开展跨区域地震救援实战拉动演练</td>\n",
       "      <td>http://china.huanqiu.com/hot/2017-06/10866630....</td>\n",
       "    </tr>\n",
       "    <tr>\n",
       "      <th>543</th>\n",
       "      <td>89074</td>\n",
       "      <td>刘瑞莹</td>\n",
       "      <td>新华社</td>\n",
       "      <td>暑期旅游旺季是各大旅游景区开门迎客的好时机。然而，有5家5A级景区却高兴不起来：国家旅游...</td>\n",
       "      <td>{\"type\":\"旅游\",\"site\":\"环球\",\"commentNum\":\"0\",\"joi...</td>\n",
       "      <td>一年内全国12家5A级景区被国家旅游局摘牌或警告</td>\n",
       "      <td>http://go.huanqiu.com/news/2016-10/9542454.html</td>\n",
       "    </tr>\n",
       "    <tr>\n",
       "      <th>545</th>\n",
       "      <td>89072</td>\n",
       "      <td></td>\n",
       "      <td>新华社</td>\n",
       "      <td>新华社北京6月20日电　总部设在德国波恩的国际残奥委会在当地时间19日宣布，中国残联主席...</td>\n",
       "      <td>{\"type\":\"体育\",\"site\":\"新浪\",\"commentNum\":\" 50\",\"j...</td>\n",
       "      <td>张海迪获得国际残奥委会主席参选提名</td>\n",
       "      <td>http://sports.sina.com.cn/others/others/2017-0...</td>\n",
       "    </tr>\n",
       "    <tr>\n",
       "      <th>651</th>\n",
       "      <td>88966</td>\n",
       "      <td>王点</td>\n",
       "      <td>新华社</td>\n",
       "      <td>新华社南京4月17日电(记者潘晔)江苏拥有不少5A景区。日前，一份来自清华大学的第三方调...</td>\n",
       "      <td>{\"type\":\"旅游\",\"site\":\"环球\",\"commentNum\":\"0\",\"joi...</td>\n",
       "      <td>拿什么消除游客“差评”？—江苏旅游业调查</td>\n",
       "      <td>http://go.huanqiu.com/news/2017-04/10493712.html</td>\n",
       "    </tr>\n",
       "    <tr>\n",
       "      <th>671</th>\n",
       "      <td>88946</td>\n",
       "      <td>王点</td>\n",
       "      <td>新华社</td>\n",
       "      <td>5月9日，在美国纽约，人们观看巴西里约热内卢的缩微景观。\\r\\n　　当日，“格列佛大门”...</td>\n",
       "      <td>{\"type\":\"旅游\",\"site\":\"环球\",\"commentNum\":\"0\",\"joi...</td>\n",
       "      <td>纽约举办“格列佛大门”微缩景观展</td>\n",
       "      <td>http://go.huanqiu.com/news/2017-05/10644520.html</td>\n",
       "    </tr>\n",
       "    <tr>\n",
       "      <th>679</th>\n",
       "      <td>88938</td>\n",
       "      <td>王点</td>\n",
       "      <td>新华社</td>\n",
       "      <td>新华社洛杉矶5月9日电(记者高山)美国洛杉矶旅游局9日宣布，洛杉矶2016年接待游客47...</td>\n",
       "      <td>{\"type\":\"旅游\",\"site\":\"环球\",\"commentNum\":\"0\",\"joi...</td>\n",
       "      <td>洛杉矶2016年游客人数及旅游收入均创新高</td>\n",
       "      <td>http://go.huanqiu.com/news/2017-05/10644526.html</td>\n",
       "    </tr>\n",
       "    <tr>\n",
       "      <th>715</th>\n",
       "      <td>88902</td>\n",
       "      <td>李芳</td>\n",
       "      <td>新华社</td>\n",
       "      <td>机动车在斑马线前不但不减速反而抢行，这类群众反映强烈的城市交通乱象将在本月得到整治。记者...</td>\n",
       "      <td>{\"type\":\"汽车\",\"site\":\"环球\",\"commentNum\":\"0\",\"joi...</td>\n",
       "      <td>公安部:近3年斑马线上交通事故共造成3898人死亡</td>\n",
       "      <td>http://auto.huanqiu.com/news/2017-06/10865485....</td>\n",
       "    </tr>\n",
       "    <tr>\n",
       "      <th>794</th>\n",
       "      <td>88823</td>\n",
       "      <td>卜晓明</td>\n",
       "      <td>新华社</td>\n",
       "      <td>美国亚马逊公司首席执行官杰夫?贝索斯比全球首富比尔?盖茨差多少钱？答案是５０亿美元。\\r...</td>\n",
       "      <td>{\"type\":\"海外\",\"site\":\"中证网\",\"commentNum\":\"0\",\"jo...</td>\n",
       "      <td>亚马逊CEO贝索斯比盖茨差多少钱？50亿美元</td>\n",
       "      <td>http://www.cs.com.cn/xwzx/hwxx/201706/t2017062...</td>\n",
       "    </tr>\n",
       "    <tr>\n",
       "      <th>810</th>\n",
       "      <td>88807</td>\n",
       "      <td>张启畅</td>\n",
       "      <td>新华社</td>\n",
       "      <td>新华社巴西利亚６月１９日电（记者张启畅）巴西央行１９日发布每周经济数据报告预计，今年巴西...</td>\n",
       "      <td>{\"type\":\"海外\",\"site\":\"中证网\",\"commentNum\":\"0\",\"jo...</td>\n",
       "      <td>巴西央行下调今年经济增长预期</td>\n",
       "      <td>http://www.cs.com.cn/xwzx/hwxx/201706/t2017062...</td>\n",
       "    </tr>\n",
       "    <tr>\n",
       "      <th>816</th>\n",
       "      <td>88801</td>\n",
       "      <td>张雪飞</td>\n",
       "      <td>新华社</td>\n",
       "      <td>新华社巴黎６月１９日电（记者张雪飞）第５２届巴黎－布尔歇国际航空航天展览会（巴黎航展）１...</td>\n",
       "      <td>{\"type\":\"海外\",\"site\":\"中证网\",\"commentNum\":\"0\",\"jo...</td>\n",
       "      <td>巴黎航展首日空客波音双双公布新机型</td>\n",
       "      <td>http://www.cs.com.cn/xwzx/hwxx/201706/t2017062...</td>\n",
       "    </tr>\n",
       "    <tr>\n",
       "      <th>909</th>\n",
       "      <td>88708</td>\n",
       "      <td></td>\n",
       "      <td>新华社</td>\n",
       "      <td>新华社北京6月20日电　总部设在德国波恩的国际残奥委会在当地时间19日宣布，中国残联主席...</td>\n",
       "      <td>{\"type\":\"新闻\",\"site\":\"新浪热门\",\"commentNum\":\" 392\"...</td>\n",
       "      <td>张海迪获得国际残奥委会主席参选提名</td>\n",
       "      <td>http://news.sina.com.cn/c/nd/2017-06-20/doc-if...</td>\n",
       "    </tr>\n",
       "    <tr>\n",
       "      <th>931</th>\n",
       "      <td>88686</td>\n",
       "      <td></td>\n",
       "      <td>新华社</td>\n",
       "      <td>新华社快讯：国际油价２０日下跌，７月交货的纽约轻质原油期货价格下跌０．９７美元，收于每...</td>\n",
       "      <td>{\"type\":\"海外\",\"site\":\"中证网\",\"commentNum\":\"0\",\"jo...</td>\n",
       "      <td>７月交货的纽约轻质原油期货价格下跌０．９７美元</td>\n",
       "      <td>http://www.cs.com.cn/xwzx/hwxx/201706/t2017062...</td>\n",
       "    </tr>\n",
       "    <tr>\n",
       "      <th>934</th>\n",
       "      <td>88683</td>\n",
       "      <td>邓茜</td>\n",
       "      <td>新华社</td>\n",
       "      <td>新华社伦敦６月２０日电（记者邓茜）伦敦股市《金融时报》１００种股票平均价格指数２０日报收...</td>\n",
       "      <td>{\"type\":\"海外\",\"site\":\"中证网\",\"commentNum\":\"0\",\"jo...</td>\n",
       "      <td>伦敦股市２０日下跌</td>\n",
       "      <td>http://www.cs.com.cn/xwzx/hwxx/201706/t2017062...</td>\n",
       "    </tr>\n",
       "    <tr>\n",
       "      <th>937</th>\n",
       "      <td>88680</td>\n",
       "      <td></td>\n",
       "      <td>新华社</td>\n",
       "      <td>新华社快讯：纽约商品交易所黄金期货市场交投最活跃的８月黄金期价２０日比前一交易日下跌３．...</td>\n",
       "      <td>{\"type\":\"海外\",\"site\":\"中证网\",\"commentNum\":\"0\",\"jo...</td>\n",
       "      <td>纽约黄金期价２０日比前一交易日下跌３．２美元</td>\n",
       "      <td>http://www.cs.com.cn/xwzx/hwxx/201706/t2017062...</td>\n",
       "    </tr>\n",
       "    <tr>\n",
       "      <th>940</th>\n",
       "      <td>88677</td>\n",
       "      <td></td>\n",
       "      <td>新华社</td>\n",
       "      <td>新华社快讯：伦敦股市《金融时报》１００种股票平均价格指数２０日报收于７４７２．７１点，比...</td>\n",
       "      <td>{\"type\":\"海外\",\"site\":\"中证网\",\"commentNum\":\"0\",\"jo...</td>\n",
       "      <td>伦敦股市２０日报收于７４７２．７１点</td>\n",
       "      <td>http://www.cs.com.cn/xwzx/hwxx/201706/t2017062...</td>\n",
       "    </tr>\n",
       "    <tr>\n",
       "      <th>943</th>\n",
       "      <td>88674</td>\n",
       "      <td>王强</td>\n",
       "      <td>新华社</td>\n",
       "      <td>新华社芝加哥６月２０日电（记者王强）芝加哥期货交易所２０日玉米、小麦和大豆期价涨跌不一。...</td>\n",
       "      <td>{\"type\":\"海外\",\"site\":\"中证网\",\"commentNum\":\"0\",\"jo...</td>\n",
       "      <td>芝加哥农产品期价２０日涨跌不一</td>\n",
       "      <td>http://www.cs.com.cn/xwzx/hwxx/201706/t2017062...</td>\n",
       "    </tr>\n",
       "    <tr>\n",
       "      <th>946</th>\n",
       "      <td>88671</td>\n",
       "      <td>王乃水</td>\n",
       "      <td>新华社</td>\n",
       "      <td>新华社纽约６月２０日电（记者王乃水）美元对多数主要货币汇率２０日上涨。\\r\\n　　美国联...</td>\n",
       "      <td>{\"type\":\"海外\",\"site\":\"中证网\",\"commentNum\":\"0\",\"jo...</td>\n",
       "      <td>美元对多数主要货币汇率20日上涨</td>\n",
       "      <td>http://www.cs.com.cn/xwzx/hwxx/201706/t2017062...</td>\n",
       "    </tr>\n",
       "    <tr>\n",
       "      <th>951</th>\n",
       "      <td>88666</td>\n",
       "      <td></td>\n",
       "      <td>新华社</td>\n",
       "      <td>新华社快讯：摩根士丹利资本国际公司（ＭＳＣＩ）２０日宣布，将中国Ａ股纳入ＭＳＣＩ新兴市场...</td>\n",
       "      <td>{\"type\":\"海外\",\"site\":\"中证网\",\"commentNum\":\"0\",\"jo...</td>\n",
       "      <td>摩根士丹利资本国际公司宣布将中国Ａ股纳入ＭＳＣＩ新兴市场指数</td>\n",
       "      <td>http://www.cs.com.cn/xwzx/hwxx/201706/t2017062...</td>\n",
       "    </tr>\n",
       "    <tr>\n",
       "      <th>954</th>\n",
       "      <td>88663</td>\n",
       "      <td></td>\n",
       "      <td>新华社</td>\n",
       "      <td>美元对多数主要货币汇率２０日上涨，截至纽约汇市尾盘，１欧元兑换１．１１３０美元，１美元...</td>\n",
       "      <td>{\"type\":\"海外\",\"site\":\"中证网\",\"commentNum\":\"0\",\"jo...</td>\n",
       "      <td>美元对多数主要货币汇率２０日上涨</td>\n",
       "      <td>http://www.cs.com.cn/xwzx/hwxx/201706/t2017062...</td>\n",
       "    </tr>\n",
       "    <tr>\n",
       "      <th>958</th>\n",
       "      <td>88659</td>\n",
       "      <td></td>\n",
       "      <td>新华社</td>\n",
       "      <td>国际油价２０日下跌，７月交货的纽约轻质原油期货价格下跌０．９７美元，收于每桶４３．２３...</td>\n",
       "      <td>{\"type\":\"海外\",\"site\":\"中证网\",\"commentNum\":\"0\",\"jo...</td>\n",
       "      <td>７月交货的纽约轻质原油期货价格下跌０．９７美元</td>\n",
       "      <td>http://www.cs.com.cn/xwzx/hwxx/201706/t2017062...</td>\n",
       "    </tr>\n",
       "    <tr>\n",
       "      <th>964</th>\n",
       "      <td>88653</td>\n",
       "      <td></td>\n",
       "      <td>新华社</td>\n",
       "      <td>伦敦股市《金融时报》１００种股票平均价格指数２０日报收于７４７２．７１点，比前一交易日下...</td>\n",
       "      <td>{\"type\":\"海外\",\"site\":\"中证网\",\"commentNum\":\"0\",\"jo...</td>\n",
       "      <td>伦敦股市２０日报收于７４７２．７１点</td>\n",
       "      <td>http://www.cs.com.cn/xwzx/hwxx/201706/t2017062...</td>\n",
       "    </tr>\n",
       "    <tr>\n",
       "      <th>966</th>\n",
       "      <td>88651</td>\n",
       "      <td></td>\n",
       "      <td>新华社</td>\n",
       "      <td>巴黎股市ＣＡＣ４０股指２０日尾盘报收于５２９３．６５点，较前一交易日下跌１７．０７点，...</td>\n",
       "      <td>{\"type\":\"海外\",\"site\":\"中证网\",\"commentNum\":\"0\",\"jo...</td>\n",
       "      <td>巴黎股市ＣＡＣ４０股指２０日尾盘报收于５２９３．６５点</td>\n",
       "      <td>http://www.cs.com.cn/xwzx/hwxx/201706/t2017062...</td>\n",
       "    </tr>\n",
       "    <tr>\n",
       "      <th>990</th>\n",
       "      <td>88627</td>\n",
       "      <td></td>\n",
       "      <td>新华社</td>\n",
       "      <td>纽约股市三大股指２０日下跌，其中道指跌０．２９％，标普指数跌０．６７％，纳斯达克指数跌...</td>\n",
       "      <td>{\"type\":\"海外\",\"site\":\"中证网\",\"commentNum\":\"0\",\"jo...</td>\n",
       "      <td>纽约股市三大股指２０日下跌</td>\n",
       "      <td>http://www.cs.com.cn/xwzx/hwxx/201706/t2017062...</td>\n",
       "    </tr>\n",
       "    <tr>\n",
       "      <th>995</th>\n",
       "      <td>88622</td>\n",
       "      <td></td>\n",
       "      <td>新华社</td>\n",
       "      <td>纽约商品交易所黄金期货市场交投最活跃的８月黄金期价２０日比前一交易日下跌３．２美元，收于...</td>\n",
       "      <td>{\"type\":\"海外\",\"site\":\"中证网\",\"commentNum\":\"0\",\"jo...</td>\n",
       "      <td>纽约黄金期价２０日比前一交易日下跌３．２美元</td>\n",
       "      <td>http://www.cs.com.cn/xwzx/hwxx/201706/t2017062...</td>\n",
       "    </tr>\n",
       "    <tr>\n",
       "      <th>...</th>\n",
       "      <td>...</td>\n",
       "      <td>...</td>\n",
       "      <td>...</td>\n",
       "      <td>...</td>\n",
       "      <td>...</td>\n",
       "      <td>...</td>\n",
       "      <td>...</td>\n",
       "    </tr>\n",
       "    <tr>\n",
       "      <th>89581</th>\n",
       "      <td>30</td>\n",
       "      <td>INACIO ROSA</td>\n",
       "      <td>新华社</td>\n",
       "      <td>新华社照片，外代，2017年6月7日\\n（外代二线）足球——世预赛：葡萄牙备战\\n6月6日，...</td>\n",
       "      <td>{\"type\":\"足球\",\"site\":\"新华社\",\"url\":\"http://home.x...</td>\n",
       "      <td>[2]（外代二线）足球——世预赛：葡萄牙备战</td>\n",
       "      <td>http://home.xinhua-news.com/gdsdetailxhsnew/22...</td>\n",
       "    </tr>\n",
       "    <tr>\n",
       "      <th>89582</th>\n",
       "      <td>29</td>\n",
       "      <td>INACIO ROSA</td>\n",
       "      <td>新华社</td>\n",
       "      <td>新华社照片，外代，2017年6月7日\\n（外代二线）足球——世预赛：葡萄牙备战\\n6月6日，...</td>\n",
       "      <td>{\"type\":\"足球\",\"site\":\"新华社\",\"url\":\"http://home.x...</td>\n",
       "      <td>[3]（外代二线）足球——世预赛：葡萄牙备战</td>\n",
       "      <td>http://home.xinhua-news.com/gdsdetailxhsnew/22...</td>\n",
       "    </tr>\n",
       "    <tr>\n",
       "      <th>89583</th>\n",
       "      <td>28</td>\n",
       "      <td>INACIO ROSA</td>\n",
       "      <td>新华社</td>\n",
       "      <td>新华社照片，外代，2017年6月7日\\n（外代二线）足球——世预赛：葡萄牙备战\\n6月6日，...</td>\n",
       "      <td>{\"type\":\"足球\",\"site\":\"新华社\",\"url\":\"http://home.x...</td>\n",
       "      <td>[4]（外代二线）足球——世预赛：葡萄牙备战</td>\n",
       "      <td>http://home.xinhua-news.com/gdsdetailxhsnew/22...</td>\n",
       "    </tr>\n",
       "    <tr>\n",
       "      <th>89584</th>\n",
       "      <td>27</td>\n",
       "      <td>INACIO ROSA</td>\n",
       "      <td>新华社</td>\n",
       "      <td>新华社照片，外代，2017年6月7日\\n（外代二线）足球——世预赛：葡萄牙备战\\n6月6日，...</td>\n",
       "      <td>{\"type\":\"足球\",\"site\":\"新华社\",\"url\":\"http://home.x...</td>\n",
       "      <td>[5]（外代二线）足球——世预赛：葡萄牙备战</td>\n",
       "      <td>http://home.xinhua-news.com/gdsdetailxhsnew/22...</td>\n",
       "    </tr>\n",
       "    <tr>\n",
       "      <th>89585</th>\n",
       "      <td>26</td>\n",
       "      <td>INACIO ROSA</td>\n",
       "      <td>新华社</td>\n",
       "      <td>新华社照片，外代，2017年6月7日\\n（外代二线）足球——世预赛：葡萄牙备战\\n6月6日，...</td>\n",
       "      <td>{\"type\":\"足球\",\"site\":\"新华社\",\"url\":\"http://home.x...</td>\n",
       "      <td>[6]（外代二线）足球——世预赛：葡萄牙备战</td>\n",
       "      <td>http://home.xinhua-news.com/gdsdetailxhsnew/22...</td>\n",
       "    </tr>\n",
       "    <tr>\n",
       "      <th>89586</th>\n",
       "      <td>25</td>\n",
       "      <td>INACIO ROSA</td>\n",
       "      <td>新华社</td>\n",
       "      <td>新华社照片，外代，2017年6月7日\\n（外代二线）足球——世预赛：葡萄牙备战\\n6月6日，...</td>\n",
       "      <td>{\"type\":\"足球\",\"site\":\"新华社\",\"url\":\"http://home.x...</td>\n",
       "      <td>[7]（外代二线）足球——世预赛：葡萄牙备战</td>\n",
       "      <td>http://home.xinhua-news.com/gdsdetailxhsnew/22...</td>\n",
       "    </tr>\n",
       "    <tr>\n",
       "      <th>89587</th>\n",
       "      <td>24</td>\n",
       "      <td>LOVELY GHOSH</td>\n",
       "      <td>新华社</td>\n",
       "      <td>新华社照片，外代，2017年6月7日\\n（外代二线）蚕丝生产\\n6月6日，在印度特里普拉邦特...</td>\n",
       "      <td>{\"type\":\"其它\",\"site\":\"新华社\",\"url\":\"http://home.x...</td>\n",
       "      <td>[1]（外代二线）蚕丝生产</td>\n",
       "      <td>http://home.xinhua-news.com/gdsdetailxhsnew/22...</td>\n",
       "    </tr>\n",
       "    <tr>\n",
       "      <th>89588</th>\n",
       "      <td>23</td>\n",
       "      <td>LOVELY GHOSH</td>\n",
       "      <td>新华社</td>\n",
       "      <td>新华社照片，外代，2017年6月7日\\n（外代二线）蚕丝生产\\n6月6日，在印度特里普拉邦特...</td>\n",
       "      <td>{\"type\":\"其它\",\"site\":\"新华社\",\"url\":\"http://home.x...</td>\n",
       "      <td>[2]（外代二线）蚕丝生产</td>\n",
       "      <td>http://home.xinhua-news.com/gdsdetailxhsnew/22...</td>\n",
       "    </tr>\n",
       "    <tr>\n",
       "      <th>89589</th>\n",
       "      <td>22</td>\n",
       "      <td>LOVELY GHOSH</td>\n",
       "      <td>新华社</td>\n",
       "      <td>新华社照片，外代，2017年6月7日\\n（外代二线）蚕丝生产\\n5月30日，在印度特里普拉邦...</td>\n",
       "      <td>{\"type\":\"其它\",\"site\":\"新华社\",\"url\":\"http://home.x...</td>\n",
       "      <td>[3]（外代二线）蚕丝生产</td>\n",
       "      <td>http://home.xinhua-news.com/gdsdetailxhsnew/22...</td>\n",
       "    </tr>\n",
       "    <tr>\n",
       "      <th>89590</th>\n",
       "      <td>21</td>\n",
       "      <td>LOVELY GHOSH</td>\n",
       "      <td>新华社</td>\n",
       "      <td>新华社照片，外代，2017年6月7日\\n（外代二线）蚕丝生产\\n6月6日，在印度特里普拉邦特...</td>\n",
       "      <td>{\"type\":\"其它\",\"site\":\"新华社\",\"url\":\"http://home.x...</td>\n",
       "      <td>[4]（外代二线）蚕丝生产</td>\n",
       "      <td>http://home.xinhua-news.com/gdsdetailxhsnew/22...</td>\n",
       "    </tr>\n",
       "    <tr>\n",
       "      <th>89591</th>\n",
       "      <td>20</td>\n",
       "      <td>LOVELY GHOSH</td>\n",
       "      <td>新华社</td>\n",
       "      <td>新华社照片，外代，2017年6月7日\\n（外代二线）蚕丝生产\\n5月30日，在印度特里普拉邦...</td>\n",
       "      <td>{\"type\":\"其它\",\"site\":\"新华社\",\"url\":\"http://home.x...</td>\n",
       "      <td>[5]（外代二线）蚕丝生产</td>\n",
       "      <td>http://home.xinhua-news.com/gdsdetailxhsnew/22...</td>\n",
       "    </tr>\n",
       "    <tr>\n",
       "      <th>89592</th>\n",
       "      <td>19</td>\n",
       "      <td>张旌</td>\n",
       "      <td>新华社</td>\n",
       "      <td>\\n\\n2017年4月27日，在首尔光化门广场，民众在集会上手举反“萨德”标语。（新华社记者...</td>\n",
       "      <td>{\"type\":\"其它\",\"site\":\"新华社\",\"url\":\"http://home.x...</td>\n",
       "      <td>“萨德”环评将重启　在韩部署或推迟一年</td>\n",
       "      <td>http://home.xinhua-news.com/gdsdetailxhsnew/22...</td>\n",
       "    </tr>\n",
       "    <tr>\n",
       "      <th>89593</th>\n",
       "      <td>18</td>\n",
       "      <td></td>\n",
       "      <td>新华社</td>\n",
       "      <td>\\n新华社巴格达6月6日电（记者魏玉栋　程帅朋）伊拉克西部安巴尔省一处市场6日晚发生自杀式爆...</td>\n",
       "      <td>{\"type\":\"其它\",\"site\":\"新华社\",\"url\":\"http://home.x...</td>\n",
       "      <td>伊拉克安巴尔省发生自杀式袭击７人死亡</td>\n",
       "      <td>http://home.xinhua-news.com/gdsdetailxhsnew/22...</td>\n",
       "    </tr>\n",
       "    <tr>\n",
       "      <th>89594</th>\n",
       "      <td>17</td>\n",
       "      <td>LISELOTTE SABROE</td>\n",
       "      <td>新华社</td>\n",
       "      <td>新华社照片，外代，2017年6月7日\\n（外代二线）足球——国际友谊赛：德国平丹麦\\n6月6...</td>\n",
       "      <td>{\"type\":\"足球\",\"site\":\"新华社\",\"url\":\"http://home.x...</td>\n",
       "      <td>[1]（外代二线）足球——国际友谊赛：德国平丹麦</td>\n",
       "      <td>http://home.xinhua-news.com/gdsdetailxhsnew/22...</td>\n",
       "    </tr>\n",
       "    <tr>\n",
       "      <th>89595</th>\n",
       "      <td>16</td>\n",
       "      <td>LISELOTTE SABROE</td>\n",
       "      <td>新华社</td>\n",
       "      <td>新华社照片，外代，2017年6月7日\\n（外代二线）足球——国际友谊赛：德国平丹麦\\n6月6...</td>\n",
       "      <td>{\"type\":\"足球\",\"site\":\"新华社\",\"url\":\"http://home.x...</td>\n",
       "      <td>[3]（外代二线）足球——国际友谊赛：德国平丹麦</td>\n",
       "      <td>http://home.xinhua-news.com/gdsdetailxhsnew/22...</td>\n",
       "    </tr>\n",
       "    <tr>\n",
       "      <th>89596</th>\n",
       "      <td>15</td>\n",
       "      <td>LISELOTTE SABROE</td>\n",
       "      <td>新华社</td>\n",
       "      <td>新华社照片，外代，2017年6月7日\\n（外代二线）足球——国际友谊赛：德国平丹麦\\n6月6...</td>\n",
       "      <td>{\"type\":\"足球\",\"site\":\"新华社\",\"url\":\"http://home.x...</td>\n",
       "      <td>[2]（外代二线）足球——国际友谊赛：德国平丹麦</td>\n",
       "      <td>http://home.xinhua-news.com/gdsdetailxhsnew/22...</td>\n",
       "    </tr>\n",
       "    <tr>\n",
       "      <th>89597</th>\n",
       "      <td>14</td>\n",
       "      <td>LISELOTTE SABROE</td>\n",
       "      <td>新华社</td>\n",
       "      <td>新华社照片，外代，2017年6月7日\\n（外代二线）足球——国际友谊赛：德国平丹麦\\n6月6...</td>\n",
       "      <td>{\"type\":\"足球\",\"site\":\"新华社\",\"url\":\"http://home.x...</td>\n",
       "      <td>[4]（外代二线）足球——国际友谊赛：德国平丹麦</td>\n",
       "      <td>http://home.xinhua-news.com/gdsdetailxhsnew/22...</td>\n",
       "    </tr>\n",
       "    <tr>\n",
       "      <th>89598</th>\n",
       "      <td>13</td>\n",
       "      <td>LISELOTTE SABROE</td>\n",
       "      <td>新华社</td>\n",
       "      <td>新华社照片，外代，2017年6月7日\\n（外代二线）足球——国际友谊赛：德国平丹麦\\n6月6...</td>\n",
       "      <td>{\"type\":\"足球\",\"site\":\"新华社\",\"url\":\"http://home.x...</td>\n",
       "      <td>[6]（外代二线）足球——国际友谊赛：德国平丹麦</td>\n",
       "      <td>http://home.xinhua-news.com/gdsdetailxhsnew/22...</td>\n",
       "    </tr>\n",
       "    <tr>\n",
       "      <th>89599</th>\n",
       "      <td>12</td>\n",
       "      <td>LISELOTTE SABROE</td>\n",
       "      <td>新华社</td>\n",
       "      <td>新华社照片，外代，2017年6月7日\\n（外代二线）足球——国际友谊赛：德国平丹麦\\n6月6...</td>\n",
       "      <td>{\"type\":\"足球\",\"site\":\"新华社\",\"url\":\"http://home.x...</td>\n",
       "      <td>[5]（外代二线）足球——国际友谊赛：德国平丹麦</td>\n",
       "      <td>http://home.xinhua-news.com/gdsdetailxhsnew/22...</td>\n",
       "    </tr>\n",
       "    <tr>\n",
       "      <th>89600</th>\n",
       "      <td>11</td>\n",
       "      <td>LISELOTTE SABROE</td>\n",
       "      <td>新华社</td>\n",
       "      <td>新华社照片，外代，2017年6月7日\\n（外代二线）足球——国际友谊赛：德国平丹麦\\n6月6...</td>\n",
       "      <td>{\"type\":\"足球\",\"site\":\"新华社\",\"url\":\"http://home.x...</td>\n",
       "      <td>[8]（外代二线）足球——国际友谊赛：德国平丹麦</td>\n",
       "      <td>http://home.xinhua-news.com/gdsdetailxhsnew/22...</td>\n",
       "    </tr>\n",
       "    <tr>\n",
       "      <th>89601</th>\n",
       "      <td>10</td>\n",
       "      <td>LISELOTTE SABROE</td>\n",
       "      <td>新华社</td>\n",
       "      <td>新华社照片，外代，2017年6月7日\\n（外代二线）足球——国际友谊赛：德国平丹麦\\n6月6...</td>\n",
       "      <td>{\"type\":\"足球\",\"site\":\"新华社\",\"url\":\"http://home.x...</td>\n",
       "      <td>[7]（外代二线）足球——国际友谊赛：德国平丹麦</td>\n",
       "      <td>http://home.xinhua-news.com/gdsdetailxhsnew/22...</td>\n",
       "    </tr>\n",
       "    <tr>\n",
       "      <th>89602</th>\n",
       "      <td>9</td>\n",
       "      <td>LISELOTTE SABROE</td>\n",
       "      <td>新华社</td>\n",
       "      <td>新华社照片，外代，2017年6月7日\\n（外代二线）足球——国际友谊赛：德国平丹麦\\n6月6...</td>\n",
       "      <td>{\"type\":\"足球\",\"site\":\"新华社\",\"url\":\"http://home.x...</td>\n",
       "      <td>[9]（外代二线）足球——国际友谊赛：德国平丹麦</td>\n",
       "      <td>http://home.xinhua-news.com/gdsdetailxhsnew/22...</td>\n",
       "    </tr>\n",
       "    <tr>\n",
       "      <th>89603</th>\n",
       "      <td>8</td>\n",
       "      <td>郑焕松</td>\n",
       "      <td>新华社</td>\n",
       "      <td>新华社照片，北京，2017年6月7日\\n电影《血战湘江》举行清华大学巡映活动\\n6月6日，电...</td>\n",
       "      <td>{\"type\":\"社会\",\"site\":\"新华社\",\"url\":\"http://home.x...</td>\n",
       "      <td>（文化）（1）电影《血战湘江》举行清华大学巡映活动</td>\n",
       "      <td>http://home.xinhua-news.com/gdsdetailxhsnew/22...</td>\n",
       "    </tr>\n",
       "    <tr>\n",
       "      <th>89604</th>\n",
       "      <td>7</td>\n",
       "      <td>郑焕松</td>\n",
       "      <td>新华社</td>\n",
       "      <td>新华社照片，北京，2017年6月7日\\n电影《血战湘江》举行清华大学巡映活动\\n6月6日，清...</td>\n",
       "      <td>{\"type\":\"社会\",\"site\":\"新华社\",\"url\":\"http://home.x...</td>\n",
       "      <td>（文化）（2）电影《血战湘江》举行清华大学巡映活动</td>\n",
       "      <td>http://home.xinhua-news.com/gdsdetailxhsnew/22...</td>\n",
       "    </tr>\n",
       "    <tr>\n",
       "      <th>89605</th>\n",
       "      <td>6</td>\n",
       "      <td>郑焕松</td>\n",
       "      <td>新华社</td>\n",
       "      <td>新华社照片，北京，2017年6月7日\\n电影《血战湘江》举行清华大学巡映活动\\n6月6日，电...</td>\n",
       "      <td>{\"type\":\"社会\",\"site\":\"新华社\",\"url\":\"http://home.x...</td>\n",
       "      <td>（文化）（3）电影《血战湘江》举行清华大学巡映活动</td>\n",
       "      <td>http://home.xinhua-news.com/gdsdetailxhsnew/22...</td>\n",
       "    </tr>\n",
       "    <tr>\n",
       "      <th>89606</th>\n",
       "      <td>5</td>\n",
       "      <td>邹峥</td>\n",
       "      <td>新华社</td>\n",
       "      <td>新华社照片，多伦多，2017年6月7日\\n（体育）（2）冰球——国家女子冰球队海外选秀在多伦...</td>\n",
       "      <td>{\"type\":\"冰球\",\"site\":\"新华社\",\"url\":\"http://home.x...</td>\n",
       "      <td>（体育）（2）冰球——国家女子冰球队海外选秀在多伦多展开</td>\n",
       "      <td>http://home.xinhua-news.com/gdsdetailxhsnew/22...</td>\n",
       "    </tr>\n",
       "    <tr>\n",
       "      <th>89607</th>\n",
       "      <td>4</td>\n",
       "      <td>王衡</td>\n",
       "      <td>新华社</td>\n",
       "      <td>新华社兰州6月3日电（王衡、徐丹）记者从甘肃省交通运输厅获悉，甘肃近日集中开建高速公路、普通...</td>\n",
       "      <td>{\"type\":\"宏观经济\",\"site\":\"新华社\",\"url\":\"http://home...</td>\n",
       "      <td>（经济）甘肃集中开工35个重点交通建设项目</td>\n",
       "      <td>http://home.xinhua-news.com/gdsdetailxhsnew/22...</td>\n",
       "    </tr>\n",
       "    <tr>\n",
       "      <th>89608</th>\n",
       "      <td>3</td>\n",
       "      <td>张旌</td>\n",
       "      <td>新华社</td>\n",
       "      <td>\\n\\n2017年5月29日，在法国巴黎郊外的凡尔赛宫，法国总统马克龙出席新闻发布会。（新华...</td>\n",
       "      <td>{\"type\":\"其它\",\"site\":\"新华社\",\"url\":\"http://home.x...</td>\n",
       "      <td>法国议会选举　马克龙有望获“压倒性胜利”</td>\n",
       "      <td>http://home.xinhua-news.com/gdsdetailxhsnew/22...</td>\n",
       "    </tr>\n",
       "    <tr>\n",
       "      <th>89609</th>\n",
       "      <td>2</td>\n",
       "      <td>夏文辉</td>\n",
       "      <td>新华社</td>\n",
       "      <td>\\n\\n2017年5月25日，在美国马萨诸塞州剑桥市，哈佛大学毕业生在毕业典礼上欢呼。（新华...</td>\n",
       "      <td>{\"type\":\"其它\",\"site\":\"新华社\",\"url\":\"http://home.x...</td>\n",
       "      <td>哈佛大学为何取消这些新生入选资格？</td>\n",
       "      <td>http://home.xinhua-news.com/gdsdetailxhsnew/22...</td>\n",
       "    </tr>\n",
       "    <tr>\n",
       "      <th>89610</th>\n",
       "      <td>1</td>\n",
       "      <td>王子江 张寒</td>\n",
       "      <td>新华社</td>\n",
       "      <td>新华社德国杜塞尔多夫６月６日电题：乒乓女球迷　\\n　　新华社记者王子江、张寒\\n　　熊老...</td>\n",
       "      <td>{\"type\":\"体育\",\"site\":\"新华社\",\"url\":\"http://home.x...</td>\n",
       "      <td>（体育）题：乒乓女球迷</td>\n",
       "      <td>http://home.xinhua-news.com/gdsdetailxhsnew/22...</td>\n",
       "    </tr>\n",
       "  </tbody>\n",
       "</table>\n",
       "<p>78661 rows × 7 columns</p>\n",
       "</div>"
      ],
      "text/plain": [
       "          id            author source  \\\n",
       "3      89614                      新华社   \n",
       "39     89578                      新华社   \n",
       "95     89522                      新华社   \n",
       "113    89504                      新华社   \n",
       "305    89312                      新华社   \n",
       "312    89305                      新华社   \n",
       "314    89303                      新华社   \n",
       "543    89074               刘瑞莹    新华社   \n",
       "545    89072                      新华社   \n",
       "651    88966                王点    新华社   \n",
       "671    88946                王点    新华社   \n",
       "679    88938                王点    新华社   \n",
       "715    88902                李芳    新华社   \n",
       "794    88823               卜晓明    新华社   \n",
       "810    88807               张启畅    新华社   \n",
       "816    88801               张雪飞    新华社   \n",
       "909    88708                      新华社   \n",
       "931    88686                      新华社   \n",
       "934    88683                邓茜    新华社   \n",
       "937    88680                      新华社   \n",
       "940    88677                      新华社   \n",
       "943    88674                王强    新华社   \n",
       "946    88671               王乃水    新华社   \n",
       "951    88666                      新华社   \n",
       "954    88663                      新华社   \n",
       "958    88659                      新华社   \n",
       "964    88653                      新华社   \n",
       "966    88651                      新华社   \n",
       "990    88627                      新华社   \n",
       "995    88622                      新华社   \n",
       "...      ...               ...    ...   \n",
       "89581     30       INACIO ROSA    新华社   \n",
       "89582     29       INACIO ROSA    新华社   \n",
       "89583     28       INACIO ROSA    新华社   \n",
       "89584     27       INACIO ROSA    新华社   \n",
       "89585     26       INACIO ROSA    新华社   \n",
       "89586     25       INACIO ROSA    新华社   \n",
       "89587     24      LOVELY GHOSH    新华社   \n",
       "89588     23      LOVELY GHOSH    新华社   \n",
       "89589     22      LOVELY GHOSH    新华社   \n",
       "89590     21      LOVELY GHOSH    新华社   \n",
       "89591     20      LOVELY GHOSH    新华社   \n",
       "89592     19                张旌    新华社   \n",
       "89593     18                      新华社   \n",
       "89594     17  LISELOTTE SABROE    新华社   \n",
       "89595     16  LISELOTTE SABROE    新华社   \n",
       "89596     15  LISELOTTE SABROE    新华社   \n",
       "89597     14  LISELOTTE SABROE    新华社   \n",
       "89598     13  LISELOTTE SABROE    新华社   \n",
       "89599     12  LISELOTTE SABROE    新华社   \n",
       "89600     11  LISELOTTE SABROE    新华社   \n",
       "89601     10  LISELOTTE SABROE    新华社   \n",
       "89602      9  LISELOTTE SABROE    新华社   \n",
       "89603      8               郑焕松    新华社   \n",
       "89604      7               郑焕松    新华社   \n",
       "89605      6               郑焕松    新华社   \n",
       "89606      5                邹峥    新华社   \n",
       "89607      4                王衡    新华社   \n",
       "89608      3                张旌    新华社   \n",
       "89609      2               夏文辉    新华社   \n",
       "89610      1            王子江 张寒    新华社   \n",
       "\n",
       "                                                 content  \\\n",
       "3        这是6月18日在葡萄牙中部大佩德罗冈地区拍摄的被森林大火烧毁的汽车。新华社记者张立云摄\\r\\n   \n",
       "39       这是6月18日在葡萄牙中部大佩德罗冈地区拍摄的被森林大火烧毁的汽车。新华社记者张立云摄\\r\\n   \n",
       "95     新华社韩国济州6月18日电综述：亚投行第二届年会三大亮点\\r\\n新华社记者 耿学鹏 严蕾\\r...   \n",
       "113    新华社北京6月18日电 经军委领导批准，《军营理论热点怎么看·2017》日前印发全军。\\r\\...   \n",
       "305    新华社兰州6月19日电（记者张钦）记者19日了解到，刚刚出台的《甘肃省网络扶贫行动的实施方案...   \n",
       "312    新华社乌鲁木齐6月18日电（记者杜刚、王秉阳）6月18日，新疆天山天池首次举办山地马拉松比赛...   \n",
       "314    新华社北京6月19日电（记者熊丰）记者从公安部消防局获悉，19日上午6时，由公安部消防局组织...   \n",
       "543    　　暑期旅游旺季是各大旅游景区开门迎客的好时机。然而，有5家5A级景区却高兴不起来：国家旅游...   \n",
       "545    　　新华社北京6月20日电　总部设在德国波恩的国际残奥委会在当地时间19日宣布，中国残联主席...   \n",
       "651    　　新华社南京4月17日电(记者潘晔)江苏拥有不少5A景区。日前，一份来自清华大学的第三方调...   \n",
       "671    　　5月9日，在美国纽约，人们观看巴西里约热内卢的缩微景观。\\r\\n　　当日，“格列佛大门”...   \n",
       "679    　　新华社洛杉矶5月9日电(记者高山)美国洛杉矶旅游局9日宣布，洛杉矶2016年接待游客47...   \n",
       "715    　　机动车在斑马线前不但不减速反而抢行，这类群众反映强烈的城市交通乱象将在本月得到整治。记者...   \n",
       "794    　　美国亚马逊公司首席执行官杰夫?贝索斯比全球首富比尔?盖茨差多少钱？答案是５０亿美元。\\r...   \n",
       "810    　　新华社巴西利亚６月１９日电（记者张启畅）巴西央行１９日发布每周经济数据报告预计，今年巴西...   \n",
       "816    　　新华社巴黎６月１９日电（记者张雪飞）第５２届巴黎－布尔歇国际航空航天展览会（巴黎航展）１...   \n",
       "909    　　新华社北京6月20日电　总部设在德国波恩的国际残奥委会在当地时间19日宣布，中国残联主席...   \n",
       "931    　　 新华社快讯：国际油价２０日下跌，７月交货的纽约轻质原油期货价格下跌０．９７美元，收于每...   \n",
       "934    　　新华社伦敦６月２０日电（记者邓茜）伦敦股市《金融时报》１００种股票平均价格指数２０日报收...   \n",
       "937    　　新华社快讯：纽约商品交易所黄金期货市场交投最活跃的８月黄金期价２０日比前一交易日下跌３．...   \n",
       "940    　　新华社快讯：伦敦股市《金融时报》１００种股票平均价格指数２０日报收于７４７２．７１点，比...   \n",
       "943    　　新华社芝加哥６月２０日电（记者王强）芝加哥期货交易所２０日玉米、小麦和大豆期价涨跌不一。...   \n",
       "946    　　新华社纽约６月２０日电（记者王乃水）美元对多数主要货币汇率２０日上涨。\\r\\n　　美国联...   \n",
       "951    　　新华社快讯：摩根士丹利资本国际公司（ＭＳＣＩ）２０日宣布，将中国Ａ股纳入ＭＳＣＩ新兴市场...   \n",
       "954    　　 美元对多数主要货币汇率２０日上涨，截至纽约汇市尾盘，１欧元兑换１．１１３０美元，１美元...   \n",
       "958    　　 国际油价２０日下跌，７月交货的纽约轻质原油期货价格下跌０．９７美元，收于每桶４３．２３...   \n",
       "964    　　伦敦股市《金融时报》１００种股票平均价格指数２０日报收于７４７２．７１点，比前一交易日下...   \n",
       "966    　　 巴黎股市ＣＡＣ４０股指２０日尾盘报收于５２９３．６５点，较前一交易日下跌１７．０７点，...   \n",
       "990    　　 纽约股市三大股指２０日下跌，其中道指跌０．２９％，标普指数跌０．６７％，纳斯达克指数跌...   \n",
       "995    　　纽约商品交易所黄金期货市场交投最活跃的８月黄金期价２０日比前一交易日下跌３．２美元，收于...   \n",
       "...                                                  ...   \n",
       "89581  新华社照片，外代，2017年6月7日\\n（外代二线）足球——世预赛：葡萄牙备战\\n6月6日，...   \n",
       "89582  新华社照片，外代，2017年6月7日\\n（外代二线）足球——世预赛：葡萄牙备战\\n6月6日，...   \n",
       "89583  新华社照片，外代，2017年6月7日\\n（外代二线）足球——世预赛：葡萄牙备战\\n6月6日，...   \n",
       "89584  新华社照片，外代，2017年6月7日\\n（外代二线）足球——世预赛：葡萄牙备战\\n6月6日，...   \n",
       "89585  新华社照片，外代，2017年6月7日\\n（外代二线）足球——世预赛：葡萄牙备战\\n6月6日，...   \n",
       "89586  新华社照片，外代，2017年6月7日\\n（外代二线）足球——世预赛：葡萄牙备战\\n6月6日，...   \n",
       "89587  新华社照片，外代，2017年6月7日\\n（外代二线）蚕丝生产\\n6月6日，在印度特里普拉邦特...   \n",
       "89588  新华社照片，外代，2017年6月7日\\n（外代二线）蚕丝生产\\n6月6日，在印度特里普拉邦特...   \n",
       "89589  新华社照片，外代，2017年6月7日\\n（外代二线）蚕丝生产\\n5月30日，在印度特里普拉邦...   \n",
       "89590  新华社照片，外代，2017年6月7日\\n（外代二线）蚕丝生产\\n6月6日，在印度特里普拉邦特...   \n",
       "89591  新华社照片，外代，2017年6月7日\\n（外代二线）蚕丝生产\\n5月30日，在印度特里普拉邦...   \n",
       "89592  \\n\\n2017年4月27日，在首尔光化门广场，民众在集会上手举反“萨德”标语。（新华社记者...   \n",
       "89593  \\n新华社巴格达6月6日电（记者魏玉栋　程帅朋）伊拉克西部安巴尔省一处市场6日晚发生自杀式爆...   \n",
       "89594  新华社照片，外代，2017年6月7日\\n（外代二线）足球——国际友谊赛：德国平丹麦\\n6月6...   \n",
       "89595  新华社照片，外代，2017年6月7日\\n（外代二线）足球——国际友谊赛：德国平丹麦\\n6月6...   \n",
       "89596  新华社照片，外代，2017年6月7日\\n（外代二线）足球——国际友谊赛：德国平丹麦\\n6月6...   \n",
       "89597  新华社照片，外代，2017年6月7日\\n（外代二线）足球——国际友谊赛：德国平丹麦\\n6月6...   \n",
       "89598  新华社照片，外代，2017年6月7日\\n（外代二线）足球——国际友谊赛：德国平丹麦\\n6月6...   \n",
       "89599  新华社照片，外代，2017年6月7日\\n（外代二线）足球——国际友谊赛：德国平丹麦\\n6月6...   \n",
       "89600  新华社照片，外代，2017年6月7日\\n（外代二线）足球——国际友谊赛：德国平丹麦\\n6月6...   \n",
       "89601  新华社照片，外代，2017年6月7日\\n（外代二线）足球——国际友谊赛：德国平丹麦\\n6月6...   \n",
       "89602  新华社照片，外代，2017年6月7日\\n（外代二线）足球——国际友谊赛：德国平丹麦\\n6月6...   \n",
       "89603  新华社照片，北京，2017年6月7日\\n电影《血战湘江》举行清华大学巡映活动\\n6月6日，电...   \n",
       "89604  新华社照片，北京，2017年6月7日\\n电影《血战湘江》举行清华大学巡映活动\\n6月6日，清...   \n",
       "89605  新华社照片，北京，2017年6月7日\\n电影《血战湘江》举行清华大学巡映活动\\n6月6日，电...   \n",
       "89606  新华社照片，多伦多，2017年6月7日\\n（体育）（2）冰球——国家女子冰球队海外选秀在多伦...   \n",
       "89607  新华社兰州6月3日电（王衡、徐丹）记者从甘肃省交通运输厅获悉，甘肃近日集中开建高速公路、普通...   \n",
       "89608  \\n\\n2017年5月29日，在法国巴黎郊外的凡尔赛宫，法国总统马克龙出席新闻发布会。（新华...   \n",
       "89609  \\n\\n2017年5月25日，在美国马萨诸塞州剑桥市，哈佛大学毕业生在毕业典礼上欢呼。（新华...   \n",
       "89610  　　新华社德国杜塞尔多夫６月６日电题：乒乓女球迷　\\n　　新华社记者王子江、张寒\\n　　熊老...   \n",
       "\n",
       "                                                 feature  \\\n",
       "3      {\"type\":\"国际新闻\",\"site\":\"环球\",\"commentNum\":\"0\",\"j...   \n",
       "39     {\"type\":\"国际新闻\",\"site\":\"环球\",\"commentNum\":\"0\",\"j...   \n",
       "95     {\"type\":\"国内新闻\",\"site\":\"环球\",\"commentNum\":\"0\",\"j...   \n",
       "113    {\"type\":\"国内新闻\",\"site\":\"环球\",\"commentNum\":\"0\",\"j...   \n",
       "305    {\"type\":\"国内新闻\",\"site\":\"环球\",\"commentNum\":\"0\",\"j...   \n",
       "312    {\"type\":\"国内新闻\",\"site\":\"环球\",\"commentNum\":\"0\",\"j...   \n",
       "314    {\"type\":\"国内新闻\",\"site\":\"环球\",\"commentNum\":\"0\",\"j...   \n",
       "543    {\"type\":\"旅游\",\"site\":\"环球\",\"commentNum\":\"0\",\"joi...   \n",
       "545    {\"type\":\"体育\",\"site\":\"新浪\",\"commentNum\":\" 50\",\"j...   \n",
       "651    {\"type\":\"旅游\",\"site\":\"环球\",\"commentNum\":\"0\",\"joi...   \n",
       "671    {\"type\":\"旅游\",\"site\":\"环球\",\"commentNum\":\"0\",\"joi...   \n",
       "679    {\"type\":\"旅游\",\"site\":\"环球\",\"commentNum\":\"0\",\"joi...   \n",
       "715    {\"type\":\"汽车\",\"site\":\"环球\",\"commentNum\":\"0\",\"joi...   \n",
       "794    {\"type\":\"海外\",\"site\":\"中证网\",\"commentNum\":\"0\",\"jo...   \n",
       "810    {\"type\":\"海外\",\"site\":\"中证网\",\"commentNum\":\"0\",\"jo...   \n",
       "816    {\"type\":\"海外\",\"site\":\"中证网\",\"commentNum\":\"0\",\"jo...   \n",
       "909    {\"type\":\"新闻\",\"site\":\"新浪热门\",\"commentNum\":\" 392\"...   \n",
       "931    {\"type\":\"海外\",\"site\":\"中证网\",\"commentNum\":\"0\",\"jo...   \n",
       "934    {\"type\":\"海外\",\"site\":\"中证网\",\"commentNum\":\"0\",\"jo...   \n",
       "937    {\"type\":\"海外\",\"site\":\"中证网\",\"commentNum\":\"0\",\"jo...   \n",
       "940    {\"type\":\"海外\",\"site\":\"中证网\",\"commentNum\":\"0\",\"jo...   \n",
       "943    {\"type\":\"海外\",\"site\":\"中证网\",\"commentNum\":\"0\",\"jo...   \n",
       "946    {\"type\":\"海外\",\"site\":\"中证网\",\"commentNum\":\"0\",\"jo...   \n",
       "951    {\"type\":\"海外\",\"site\":\"中证网\",\"commentNum\":\"0\",\"jo...   \n",
       "954    {\"type\":\"海外\",\"site\":\"中证网\",\"commentNum\":\"0\",\"jo...   \n",
       "958    {\"type\":\"海外\",\"site\":\"中证网\",\"commentNum\":\"0\",\"jo...   \n",
       "964    {\"type\":\"海外\",\"site\":\"中证网\",\"commentNum\":\"0\",\"jo...   \n",
       "966    {\"type\":\"海外\",\"site\":\"中证网\",\"commentNum\":\"0\",\"jo...   \n",
       "990    {\"type\":\"海外\",\"site\":\"中证网\",\"commentNum\":\"0\",\"jo...   \n",
       "995    {\"type\":\"海外\",\"site\":\"中证网\",\"commentNum\":\"0\",\"jo...   \n",
       "...                                                  ...   \n",
       "89581  {\"type\":\"足球\",\"site\":\"新华社\",\"url\":\"http://home.x...   \n",
       "89582  {\"type\":\"足球\",\"site\":\"新华社\",\"url\":\"http://home.x...   \n",
       "89583  {\"type\":\"足球\",\"site\":\"新华社\",\"url\":\"http://home.x...   \n",
       "89584  {\"type\":\"足球\",\"site\":\"新华社\",\"url\":\"http://home.x...   \n",
       "89585  {\"type\":\"足球\",\"site\":\"新华社\",\"url\":\"http://home.x...   \n",
       "89586  {\"type\":\"足球\",\"site\":\"新华社\",\"url\":\"http://home.x...   \n",
       "89587  {\"type\":\"其它\",\"site\":\"新华社\",\"url\":\"http://home.x...   \n",
       "89588  {\"type\":\"其它\",\"site\":\"新华社\",\"url\":\"http://home.x...   \n",
       "89589  {\"type\":\"其它\",\"site\":\"新华社\",\"url\":\"http://home.x...   \n",
       "89590  {\"type\":\"其它\",\"site\":\"新华社\",\"url\":\"http://home.x...   \n",
       "89591  {\"type\":\"其它\",\"site\":\"新华社\",\"url\":\"http://home.x...   \n",
       "89592  {\"type\":\"其它\",\"site\":\"新华社\",\"url\":\"http://home.x...   \n",
       "89593  {\"type\":\"其它\",\"site\":\"新华社\",\"url\":\"http://home.x...   \n",
       "89594  {\"type\":\"足球\",\"site\":\"新华社\",\"url\":\"http://home.x...   \n",
       "89595  {\"type\":\"足球\",\"site\":\"新华社\",\"url\":\"http://home.x...   \n",
       "89596  {\"type\":\"足球\",\"site\":\"新华社\",\"url\":\"http://home.x...   \n",
       "89597  {\"type\":\"足球\",\"site\":\"新华社\",\"url\":\"http://home.x...   \n",
       "89598  {\"type\":\"足球\",\"site\":\"新华社\",\"url\":\"http://home.x...   \n",
       "89599  {\"type\":\"足球\",\"site\":\"新华社\",\"url\":\"http://home.x...   \n",
       "89600  {\"type\":\"足球\",\"site\":\"新华社\",\"url\":\"http://home.x...   \n",
       "89601  {\"type\":\"足球\",\"site\":\"新华社\",\"url\":\"http://home.x...   \n",
       "89602  {\"type\":\"足球\",\"site\":\"新华社\",\"url\":\"http://home.x...   \n",
       "89603  {\"type\":\"社会\",\"site\":\"新华社\",\"url\":\"http://home.x...   \n",
       "89604  {\"type\":\"社会\",\"site\":\"新华社\",\"url\":\"http://home.x...   \n",
       "89605  {\"type\":\"社会\",\"site\":\"新华社\",\"url\":\"http://home.x...   \n",
       "89606  {\"type\":\"冰球\",\"site\":\"新华社\",\"url\":\"http://home.x...   \n",
       "89607  {\"type\":\"宏观经济\",\"site\":\"新华社\",\"url\":\"http://home...   \n",
       "89608  {\"type\":\"其它\",\"site\":\"新华社\",\"url\":\"http://home.x...   \n",
       "89609  {\"type\":\"其它\",\"site\":\"新华社\",\"url\":\"http://home.x...   \n",
       "89610  {\"type\":\"体育\",\"site\":\"新华社\",\"url\":\"http://home.x...   \n",
       "\n",
       "                                title  \\\n",
       "3       葡森林火灾造成至少62人死亡 政府宣布进入紧急状态（组图）   \n",
       "39          葡森林火灾造成至少62人死亡 政府宣布进入紧急状态   \n",
       "95                    综述：亚投行第二届年会三大亮点   \n",
       "113              《军营理论热点怎么看·2017》印发全军   \n",
       "305      甘肃力推网络扶贫：贫困山区到2020年实现4G网络全覆盖   \n",
       "312                    天山天池首次举办山地马拉松赛   \n",
       "314              9省市联动开展跨区域地震救援实战拉动演练   \n",
       "543          一年内全国12家5A级景区被国家旅游局摘牌或警告   \n",
       "545                 张海迪获得国际残奥委会主席参选提名   \n",
       "651              拿什么消除游客“差评”？—江苏旅游业调查   \n",
       "671                  纽约举办“格列佛大门”微缩景观展   \n",
       "679             洛杉矶2016年游客人数及旅游收入均创新高   \n",
       "715         公安部:近3年斑马线上交通事故共造成3898人死亡   \n",
       "794            亚马逊CEO贝索斯比盖茨差多少钱？50亿美元   \n",
       "810                    巴西央行下调今年经济增长预期   \n",
       "816                 巴黎航展首日空客波音双双公布新机型   \n",
       "909                 张海迪获得国际残奥委会主席参选提名   \n",
       "931           ７月交货的纽约轻质原油期货价格下跌０．９７美元   \n",
       "934                         伦敦股市２０日下跌   \n",
       "937            纽约黄金期价２０日比前一交易日下跌３．２美元   \n",
       "940                伦敦股市２０日报收于７４７２．７１点   \n",
       "943                   芝加哥农产品期价２０日涨跌不一   \n",
       "946                  美元对多数主要货币汇率20日上涨   \n",
       "951    摩根士丹利资本国际公司宣布将中国Ａ股纳入ＭＳＣＩ新兴市场指数   \n",
       "954                  美元对多数主要货币汇率２０日上涨   \n",
       "958           ７月交货的纽约轻质原油期货价格下跌０．９７美元   \n",
       "964                伦敦股市２０日报收于７４７２．７１点   \n",
       "966       巴黎股市ＣＡＣ４０股指２０日尾盘报收于５２９３．６５点   \n",
       "990                     纽约股市三大股指２０日下跌   \n",
       "995            纽约黄金期价２０日比前一交易日下跌３．２美元   \n",
       "...                               ...   \n",
       "89581          [2]（外代二线）足球——世预赛：葡萄牙备战   \n",
       "89582          [3]（外代二线）足球——世预赛：葡萄牙备战   \n",
       "89583          [4]（外代二线）足球——世预赛：葡萄牙备战   \n",
       "89584          [5]（外代二线）足球——世预赛：葡萄牙备战   \n",
       "89585          [6]（外代二线）足球——世预赛：葡萄牙备战   \n",
       "89586          [7]（外代二线）足球——世预赛：葡萄牙备战   \n",
       "89587                   [1]（外代二线）蚕丝生产   \n",
       "89588                   [2]（外代二线）蚕丝生产   \n",
       "89589                   [3]（外代二线）蚕丝生产   \n",
       "89590                   [4]（外代二线）蚕丝生产   \n",
       "89591                   [5]（外代二线）蚕丝生产   \n",
       "89592             “萨德”环评将重启　在韩部署或推迟一年   \n",
       "89593              伊拉克安巴尔省发生自杀式袭击７人死亡   \n",
       "89594        [1]（外代二线）足球——国际友谊赛：德国平丹麦   \n",
       "89595        [3]（外代二线）足球——国际友谊赛：德国平丹麦   \n",
       "89596        [2]（外代二线）足球——国际友谊赛：德国平丹麦   \n",
       "89597        [4]（外代二线）足球——国际友谊赛：德国平丹麦   \n",
       "89598        [6]（外代二线）足球——国际友谊赛：德国平丹麦   \n",
       "89599        [5]（外代二线）足球——国际友谊赛：德国平丹麦   \n",
       "89600        [8]（外代二线）足球——国际友谊赛：德国平丹麦   \n",
       "89601        [7]（外代二线）足球——国际友谊赛：德国平丹麦   \n",
       "89602        [9]（外代二线）足球——国际友谊赛：德国平丹麦   \n",
       "89603       （文化）（1）电影《血战湘江》举行清华大学巡映活动   \n",
       "89604       （文化）（2）电影《血战湘江》举行清华大学巡映活动   \n",
       "89605       （文化）（3）电影《血战湘江》举行清华大学巡映活动   \n",
       "89606    （体育）（2）冰球——国家女子冰球队海外选秀在多伦多展开   \n",
       "89607           （经济）甘肃集中开工35个重点交通建设项目   \n",
       "89608            法国议会选举　马克龙有望获“压倒性胜利”   \n",
       "89609               哈佛大学为何取消这些新生入选资格？   \n",
       "89610                    （体育）题：乒乓女球迷　   \n",
       "\n",
       "                                                     url  \n",
       "3      http://world.huanqiu.com/hot/2017-06/10866126....  \n",
       "39     http://world.huanqiu.com/hot/2017-06/10866229....  \n",
       "95     http://china.huanqiu.com/hot/2017-06/10866439....  \n",
       "113    http://china.huanqiu.com/hot/2017-06/10866447....  \n",
       "305    http://china.huanqiu.com/hot/2017-06/10866626....  \n",
       "312    http://china.huanqiu.com/hot/2017-06/10866627....  \n",
       "314    http://china.huanqiu.com/hot/2017-06/10866630....  \n",
       "543      http://go.huanqiu.com/news/2016-10/9542454.html  \n",
       "545    http://sports.sina.com.cn/others/others/2017-0...  \n",
       "651     http://go.huanqiu.com/news/2017-04/10493712.html  \n",
       "671     http://go.huanqiu.com/news/2017-05/10644520.html  \n",
       "679     http://go.huanqiu.com/news/2017-05/10644526.html  \n",
       "715    http://auto.huanqiu.com/news/2017-06/10865485....  \n",
       "794    http://www.cs.com.cn/xwzx/hwxx/201706/t2017062...  \n",
       "810    http://www.cs.com.cn/xwzx/hwxx/201706/t2017062...  \n",
       "816    http://www.cs.com.cn/xwzx/hwxx/201706/t2017062...  \n",
       "909    http://news.sina.com.cn/c/nd/2017-06-20/doc-if...  \n",
       "931    http://www.cs.com.cn/xwzx/hwxx/201706/t2017062...  \n",
       "934    http://www.cs.com.cn/xwzx/hwxx/201706/t2017062...  \n",
       "937    http://www.cs.com.cn/xwzx/hwxx/201706/t2017062...  \n",
       "940    http://www.cs.com.cn/xwzx/hwxx/201706/t2017062...  \n",
       "943    http://www.cs.com.cn/xwzx/hwxx/201706/t2017062...  \n",
       "946    http://www.cs.com.cn/xwzx/hwxx/201706/t2017062...  \n",
       "951    http://www.cs.com.cn/xwzx/hwxx/201706/t2017062...  \n",
       "954    http://www.cs.com.cn/xwzx/hwxx/201706/t2017062...  \n",
       "958    http://www.cs.com.cn/xwzx/hwxx/201706/t2017062...  \n",
       "964    http://www.cs.com.cn/xwzx/hwxx/201706/t2017062...  \n",
       "966    http://www.cs.com.cn/xwzx/hwxx/201706/t2017062...  \n",
       "990    http://www.cs.com.cn/xwzx/hwxx/201706/t2017062...  \n",
       "995    http://www.cs.com.cn/xwzx/hwxx/201706/t2017062...  \n",
       "...                                                  ...  \n",
       "89581  http://home.xinhua-news.com/gdsdetailxhsnew/22...  \n",
       "89582  http://home.xinhua-news.com/gdsdetailxhsnew/22...  \n",
       "89583  http://home.xinhua-news.com/gdsdetailxhsnew/22...  \n",
       "89584  http://home.xinhua-news.com/gdsdetailxhsnew/22...  \n",
       "89585  http://home.xinhua-news.com/gdsdetailxhsnew/22...  \n",
       "89586  http://home.xinhua-news.com/gdsdetailxhsnew/22...  \n",
       "89587  http://home.xinhua-news.com/gdsdetailxhsnew/22...  \n",
       "89588  http://home.xinhua-news.com/gdsdetailxhsnew/22...  \n",
       "89589  http://home.xinhua-news.com/gdsdetailxhsnew/22...  \n",
       "89590  http://home.xinhua-news.com/gdsdetailxhsnew/22...  \n",
       "89591  http://home.xinhua-news.com/gdsdetailxhsnew/22...  \n",
       "89592  http://home.xinhua-news.com/gdsdetailxhsnew/22...  \n",
       "89593  http://home.xinhua-news.com/gdsdetailxhsnew/22...  \n",
       "89594  http://home.xinhua-news.com/gdsdetailxhsnew/22...  \n",
       "89595  http://home.xinhua-news.com/gdsdetailxhsnew/22...  \n",
       "89596  http://home.xinhua-news.com/gdsdetailxhsnew/22...  \n",
       "89597  http://home.xinhua-news.com/gdsdetailxhsnew/22...  \n",
       "89598  http://home.xinhua-news.com/gdsdetailxhsnew/22...  \n",
       "89599  http://home.xinhua-news.com/gdsdetailxhsnew/22...  \n",
       "89600  http://home.xinhua-news.com/gdsdetailxhsnew/22...  \n",
       "89601  http://home.xinhua-news.com/gdsdetailxhsnew/22...  \n",
       "89602  http://home.xinhua-news.com/gdsdetailxhsnew/22...  \n",
       "89603  http://home.xinhua-news.com/gdsdetailxhsnew/22...  \n",
       "89604  http://home.xinhua-news.com/gdsdetailxhsnew/22...  \n",
       "89605  http://home.xinhua-news.com/gdsdetailxhsnew/22...  \n",
       "89606  http://home.xinhua-news.com/gdsdetailxhsnew/22...  \n",
       "89607  http://home.xinhua-news.com/gdsdetailxhsnew/22...  \n",
       "89608  http://home.xinhua-news.com/gdsdetailxhsnew/22...  \n",
       "89609  http://home.xinhua-news.com/gdsdetailxhsnew/22...  \n",
       "89610  http://home.xinhua-news.com/gdsdetailxhsnew/22...  \n",
       "\n",
       "[78661 rows x 7 columns]"
      ]
     },
     "execution_count": 2,
     "metadata": {},
     "output_type": "execute_result"
    }
   ],
   "source": [
    "xinhua_news = data[data['source'] == '新华社']\n",
    "xinhua_news"
   ]
  },
  {
   "cell_type": "markdown",
   "metadata": {},
   "source": [
    "### Step2: 数据预处理"
   ]
  },
  {
   "cell_type": "markdown",
   "metadata": {},
   "source": [
    "将pandas中的数据，依据是否是新华社的文章，请改变成新的数据dataframe: <content, y>, 其中，content是文章内容，y是0或者1. 你可能要使用到pandas的dataframe操作。https://pandas.pydata.org/pandas-docs/stable/reference/api/pandas.DataFrame.apply.html"
   ]
  },
  {
   "cell_type": "code",
   "execution_count": 3,
   "metadata": {},
   "outputs": [],
   "source": [
    "import jieba\n",
    "import re\n",
    "\n",
    "def cut(string):\n",
    "    \"\"\"切词\"\"\"\n",
    "    return ' '.join(jieba.cut(string))\n",
    "\n",
    "def token(string):\n",
    "    \"\"\"匹配文字\"\"\"\n",
    "    return re.findall(r'[\\d\\w]+', string)"
   ]
  },
  {
   "cell_type": "code",
   "execution_count": 4,
   "metadata": {},
   "outputs": [
    {
     "name": "stderr",
     "output_type": "stream",
     "text": [
      "Building prefix dict from the default dictionary ...\n",
      "Loading model from cache C:\\Users\\huangm\\AppData\\Local\\Temp\\jieba.cache\n",
      "Loading model cost 0.598 seconds.\n",
      "Prefix dict has been built succesfully.\n"
     ]
    },
    {
     "data": {
      "text/html": [
       "<div>\n",
       "<style scoped>\n",
       "    .dataframe tbody tr th:only-of-type {\n",
       "        vertical-align: middle;\n",
       "    }\n",
       "\n",
       "    .dataframe tbody tr th {\n",
       "        vertical-align: top;\n",
       "    }\n",
       "\n",
       "    .dataframe thead th {\n",
       "        text-align: right;\n",
       "    }\n",
       "</style>\n",
       "<table border=\"1\" class=\"dataframe\">\n",
       "  <thead>\n",
       "    <tr style=\"text-align: right;\">\n",
       "      <th></th>\n",
       "      <th>content</th>\n",
       "      <th>y</th>\n",
       "    </tr>\n",
       "  </thead>\n",
       "  <tbody>\n",
       "    <tr>\n",
       "      <th>0</th>\n",
       "      <td>此外 自 本周 6 月 12 日起 除 小米 手机 6 等 15 款 机型 外 其余 机型 ...</td>\n",
       "      <td>0</td>\n",
       "    </tr>\n",
       "    <tr>\n",
       "      <th>1</th>\n",
       "      <td>骁龙 835 作为 唯一 通过 Windows10 桌面 平台 认证 的 ARM 处理器 高...</td>\n",
       "      <td>0</td>\n",
       "    </tr>\n",
       "    <tr>\n",
       "      <th>2</th>\n",
       "      <td>此前 的 一加 3T 搭载 的 是 3400mAh 电池 DashCharge 快充 规格 ...</td>\n",
       "      <td>0</td>\n",
       "    </tr>\n",
       "    <tr>\n",
       "      <th>3</th>\n",
       "      <td>这是 6 月 18 日 在 葡萄牙 中部 大 佩德罗 冈 地区 拍摄 的 被 森林 大火 烧...</td>\n",
       "      <td>1</td>\n",
       "    </tr>\n",
       "    <tr>\n",
       "      <th>4</th>\n",
       "      <td>原 标题 44 岁 女子 跑 深圳 约会 网友 被 拒 暴雨 中 裸身 奔走 深圳 交警 微...</td>\n",
       "      <td>0</td>\n",
       "    </tr>\n",
       "  </tbody>\n",
       "</table>\n",
       "</div>"
      ],
      "text/plain": [
       "                                             content  y\n",
       "0  此外 自 本周 6 月 12 日起 除 小米 手机 6 等 15 款 机型 外 其余 机型 ...  0\n",
       "1  骁龙 835 作为 唯一 通过 Windows10 桌面 平台 认证 的 ARM 处理器 高...  0\n",
       "2  此前 的 一加 3T 搭载 的 是 3400mAh 电池 DashCharge 快充 规格 ...  0\n",
       "3  这是 6 月 18 日 在 葡萄牙 中部 大 佩德罗 冈 地区 拍摄 的 被 森林 大火 烧...  1\n",
       "4  原 标题 44 岁 女子 跑 深圳 约会 网友 被 拒 暴雨 中 裸身 奔走 深圳 交警 微...  0"
      ]
     },
     "execution_count": 4,
     "metadata": {},
     "output_type": "execute_result"
    }
   ],
   "source": [
    "content = [cut(''.join(token(content))) for content in data['content'].tolist()]\n",
    "y = [1 if source == '新华社' else 0 for source in data['source'].tolist()]\n",
    "new_data = pd.DataFrame([{'content':content_i,'y':y_i} for content_i, y_i in zip(content, y)])\n",
    "new_data.head()"
   ]
  },
  {
   "cell_type": "markdown",
   "metadata": {},
   "source": [
    "### Step3: 使用tfidf进行文本向量化"
   ]
  },
  {
   "cell_type": "markdown",
   "metadata": {},
   "source": [
    "参考 https://scikit-learn.org/stable/modules/generated/sklearn.feature_extraction.text.TfidfVectorizer.html 对"
   ]
  },
  {
   "cell_type": "markdown",
   "metadata": {},
   "source": [
    "对文本进行向量化"
   ]
  },
  {
   "cell_type": "code",
   "execution_count": 5,
   "metadata": {
    "scrolled": true
   },
   "outputs": [
    {
     "data": {
      "text/plain": [
       "((89611, 300), 89611)"
      ]
     },
     "execution_count": 5,
     "metadata": {},
     "output_type": "execute_result"
    }
   ],
   "source": [
    "from sklearn.feature_extraction.text import TfidfVectorizer # sklearn tfidf向量化\n",
    "import numpy as np\n",
    "\n",
    "vectorized = TfidfVectorizer(ngram_range=(1, 3), max_features=300)\n",
    "news = new_data['content'].tolist()\n",
    "news_vectors = vectorized.fit_transform(news)\n",
    "news_vectors.shape, len(y)"
   ]
  },
  {
   "cell_type": "code",
   "execution_count": 6,
   "metadata": {
    "scrolled": true
   },
   "outputs": [],
   "source": [
    "news_array = news_vectors.toarray()"
   ]
  },
  {
   "cell_type": "markdown",
   "metadata": {},
   "source": [
    "### Step4: 参考scikit-learning的方法，构建你的第一个机器学习模型"
   ]
  },
  {
   "cell_type": "markdown",
   "metadata": {},
   "source": [
    "+ 按照课程讲解的内容，把数据集分割为 traning_data, validation_data, test_data. https://scikit-learn.org/stable/modules/generated/sklearn.model_selection.train_test_split.html"
   ]
  },
  {
   "cell_type": "code",
   "execution_count": 7,
   "metadata": {},
   "outputs": [
    {
     "data": {
      "text/plain": [
       "((71688, 300), (17923, 300), 71688, 17923)"
      ]
     },
     "execution_count": 7,
     "metadata": {},
     "output_type": "execute_result"
    }
   ],
   "source": [
    "from sklearn.model_selection import train_test_split # 划分数据集\n",
    "from sklearn import metrics\n",
    "from sklearn.neighbors import KNeighborsClassifier # KNN分类器\n",
    "from sklearn.preprocessing import MinMaxScaler\n",
    "from sklearn.metrics import precision_score, recall_score, f1_score, roc_auc_score\n",
    "\n",
    "# 归一化\n",
    "# scaler = MinMaxScaler()\n",
    "# X = scaler.fit_transform(news_vectors)\n",
    "\n",
    "# 划分数据集\n",
    "X_train, X_test, Y_train, Y_test = train_test_split(news_array, y, test_size=0.2, random_state=42)\n",
    "X_train.shape, X_test.shape, len(Y_train), len(Y_test)"
   ]
  },
  {
   "cell_type": "markdown",
   "metadata": {},
   "source": [
    "+ 参照scikit learning的示例，从构建你的第一个KNN机器学习模型。"
   ]
  },
  {
   "cell_type": "markdown",
   "metadata": {},
   "source": [
    "#### n_neighbors = 3"
   ]
  },
  {
   "cell_type": "code",
   "execution_count": 8,
   "metadata": {},
   "outputs": [
    {
     "data": {
      "text/plain": [
       "KNeighborsClassifier(algorithm='auto', leaf_size=30, metric='minkowski',\n",
       "           metric_params=None, n_jobs=-1, n_neighbors=3, p=2,\n",
       "           weights='uniform')"
      ]
     },
     "execution_count": 8,
     "metadata": {},
     "output_type": "execute_result"
    }
   ],
   "source": [
    "# 将训练集数据划分为训练和验证集\n",
    "x_train, x_valid, y_train, y_valid = train_test_split(X_train, Y_train, test_size=0.2, random_state=52)\n",
    "\n",
    "# KNN模型，选择3个邻居\n",
    "# n_jobs设定工作的core数量,为-1代表全部的CPU核进行工作\n",
    "knn_model = KNeighborsClassifier(n_neighbors=3, n_jobs=-1)\n",
    "knn_model.fit(x_train, y_train)"
   ]
  },
  {
   "cell_type": "code",
   "execution_count": 9,
   "metadata": {},
   "outputs": [],
   "source": [
    "# 验证集评估\n",
    "# expected = y_test\n",
    "# predicted = model.predict(X_test)\n",
    "# print(metrics.classification_report(expected, predicted))       # 输出分类信息\n",
    "# label = list(set(y))    # 去重复，得到标签类别\n",
    "# print(metrics.confusion_matrix(expected, predicted, labels=label))  # 输出混淆矩阵信息"
   ]
  },
  {
   "cell_type": "code",
   "execution_count": 10,
   "metadata": {},
   "outputs": [
    {
     "data": {
      "text/plain": [
       "0.9258613474682661"
      ]
     },
     "execution_count": 10,
     "metadata": {},
     "output_type": "execute_result"
    }
   ],
   "source": [
    "knn_model.score(x_valid, y_valid)"
   ]
  },
  {
   "cell_type": "code",
   "execution_count": 11,
   "metadata": {},
   "outputs": [
    {
     "data": {
      "text/plain": [
       "((14338,), (14338, 2))"
      ]
     },
     "execution_count": 11,
     "metadata": {},
     "output_type": "execute_result"
    }
   ],
   "source": [
    "# 假定在一个k分类问题中，验证集中共有n个样本\n",
    "# predict返回的是n个元素的一维数组，每个代表这每个样本得预测值\n",
    "# predict_proba返回是n行k列的二维数组，每一行代表每个样本在k个类别预测的概率，相加为1\n",
    "\n",
    "y_pred = knn_model.predict(x_valid)\n",
    "y_pred_prob = knn_model.predict_proba(x_valid)\n",
    "y_pred.shape, y_pred_prob.shape"
   ]
  },
  {
   "cell_type": "markdown",
   "metadata": {},
   "source": [
    "### metric: recall, precision, f1等， 并解释其含义"
   ]
  },
  {
   "cell_type": "markdown",
   "metadata": {},
   "source": [
    "$$ precison = \\frac{tp}{tp + fp}  \\qquad查准率 $$\n",
    "$$ recall = \\frac{tp}{tp + fn}  \\qquad召回率 $$\n",
    "$$ f1 = 2\\frac{precision * recall}{precision + recall} $$"
   ]
  },
  {
   "cell_type": "code",
   "execution_count": 18,
   "metadata": {},
   "outputs": [
    {
     "data": {
      "text/plain": [
       "0.9566079644613676"
      ]
     },
     "execution_count": 18,
     "metadata": {},
     "output_type": "execute_result"
    }
   ],
   "source": [
    "# precision 查准率\n",
    "precision_score(y_valid ,y_pred)"
   ]
  },
  {
   "cell_type": "code",
   "execution_count": 19,
   "metadata": {},
   "outputs": [
    {
     "data": {
      "text/plain": [
       "0.9589662027833002"
      ]
     },
     "execution_count": 19,
     "metadata": {},
     "output_type": "execute_result"
    }
   ],
   "source": [
    "# recall 召回率\n",
    "recall_score(y_valid, y_pred)"
   ]
  },
  {
   "cell_type": "code",
   "execution_count": 20,
   "metadata": {},
   "outputs": [
    {
     "data": {
      "text/plain": [
       "0.9577856320241452"
      ]
     },
     "execution_count": 20,
     "metadata": {},
     "output_type": "execute_result"
    }
   ],
   "source": [
    "# f1 score用来综合precision和recall作为一个评价指标\n",
    "f1_score(y_valid, y_pred)"
   ]
  },
  {
   "cell_type": "code",
   "execution_count": 22,
   "metadata": {},
   "outputs": [
    {
     "data": {
      "text/plain": [
       "0.9120059675977035"
      ]
     },
     "execution_count": 22,
     "metadata": {},
     "output_type": "execute_result"
    }
   ],
   "source": [
    "# roc_auc_score 判断二分类预测模型优劣的标准\n",
    "roc_auc_score(y_valid, y_pred_prob[:,1])"
   ]
  },
  {
   "cell_type": "markdown",
   "metadata": {},
   "source": [
    "### Step5: 在traning_data, validation_data, test_data 上观察其相关metric: recall, precision, f1等， 并解释其含义. "
   ]
  },
  {
   "cell_type": "markdown",
   "metadata": {},
   "source": [
    "### Step7: 调整不同的参数，观察变化"
   ]
  },
  {
   "cell_type": "markdown",
   "metadata": {},
   "source": [
    "#### ① n_neighbors = 5    \n",
    "#### ② weights = 'uniform'\n",
    "uniform : uniform weights. All points in each neighborhood are weighted equally.  \n",
    "distance : weight points by the inverse of their distance. in this case, closer neighbors of a query point will have a greater influence than neighbors which are further away."
   ]
  },
  {
   "cell_type": "code",
   "execution_count": 38,
   "metadata": {},
   "outputs": [
    {
     "data": {
      "text/plain": [
       "KNeighborsClassifier(algorithm='auto', leaf_size=30, metric='minkowski',\n",
       "           metric_params=None, n_jobs=-1, n_neighbors=5, p=2,\n",
       "           weights='uniform')"
      ]
     },
     "execution_count": 38,
     "metadata": {},
     "output_type": "execute_result"
    }
   ],
   "source": [
    "# 使用上面划分好的训练集和测试集，保证前后数据一致\n",
    "\n",
    "knn_model = KNeighborsClassifier(n_neighbors=5, n_jobs=-1)\n",
    "knn_model.fit(x_train, y_train)"
   ]
  },
  {
   "cell_type": "code",
   "execution_count": 32,
   "metadata": {},
   "outputs": [
    {
     "data": {
      "text/plain": [
       "0.921258195006277"
      ]
     },
     "execution_count": 32,
     "metadata": {},
     "output_type": "execute_result"
    }
   ],
   "source": [
    "knn_model.score(x_valid, y_valid)"
   ]
  },
  {
   "cell_type": "code",
   "execution_count": 33,
   "metadata": {
    "scrolled": true
   },
   "outputs": [
    {
     "data": {
      "text/plain": [
       "((14338,), (14338, 2))"
      ]
     },
     "execution_count": 33,
     "metadata": {},
     "output_type": "execute_result"
    }
   ],
   "source": [
    "y_pred = knn_model.predict(x_valid)\n",
    "y_pred_prob = knn_model.predict_proba(x_valid)\n",
    "y_pred.shape, y_pred_prob.shape"
   ]
  },
  {
   "cell_type": "code",
   "execution_count": 34,
   "metadata": {},
   "outputs": [
    {
     "data": {
      "text/plain": [
       "0.957400895140665"
      ]
     },
     "execution_count": 34,
     "metadata": {},
     "output_type": "execute_result"
    }
   ],
   "source": [
    "# precision 查准率\n",
    "precision_score(y_valid ,y_pred)"
   ]
  },
  {
   "cell_type": "code",
   "execution_count": 35,
   "metadata": {},
   "outputs": [
    {
     "data": {
      "text/plain": [
       "0.9526043737574552"
      ]
     },
     "execution_count": 35,
     "metadata": {},
     "output_type": "execute_result"
    }
   ],
   "source": [
    "# recall 召回率\n",
    "recall_score(y_valid, y_pred)"
   ]
  },
  {
   "cell_type": "code",
   "execution_count": 36,
   "metadata": {},
   "outputs": [
    {
     "data": {
      "text/plain": [
       "0.9549966117909675"
      ]
     },
     "execution_count": 36,
     "metadata": {},
     "output_type": "execute_result"
    }
   ],
   "source": [
    "# f1 score用来综合precision和recall作为一个评价指标\n",
    "f1_score(y_valid, y_pred)"
   ]
  },
  {
   "cell_type": "code",
   "execution_count": 37,
   "metadata": {},
   "outputs": [
    {
     "data": {
      "text/plain": [
       "0.9247739879497829"
      ]
     },
     "execution_count": 37,
     "metadata": {},
     "output_type": "execute_result"
    }
   ],
   "source": [
    "# roc_auc_score 判断二分类预测模型优劣的标准\n",
    "roc_auc_score(y_valid, y_pred_prob[:,1])"
   ]
  },
  {
   "cell_type": "markdown",
   "metadata": {},
   "source": [
    "precision recall 变化都不大, roc提高了"
   ]
  },
  {
   "cell_type": "markdown",
   "metadata": {},
   "source": [
    "#### ① n_neighbors = 7   \n",
    "#### ② weights = 'uniform'\n",
    "uniform : uniform weights. All points in each neighborhood are weighted equally.  \n",
    "distance : weight points by the inverse of their distance. in this case, closer neighbors of a query point will have a greater influence than neighbors which are further away."
   ]
  },
  {
   "cell_type": "code",
   "execution_count": 39,
   "metadata": {},
   "outputs": [
    {
     "data": {
      "text/plain": [
       "KNeighborsClassifier(algorithm='auto', leaf_size=30, metric='minkowski',\n",
       "           metric_params=None, n_jobs=-1, n_neighbors=7, p=2,\n",
       "           weights='uniform')"
      ]
     },
     "execution_count": 39,
     "metadata": {},
     "output_type": "execute_result"
    }
   ],
   "source": [
    "# 使用上面划分好的训练集和测试集，保证前后数据一致\n",
    "\n",
    "knn_model = KNeighborsClassifier(n_neighbors=7, n_jobs=-1)\n",
    "knn_model.fit(x_train, y_train)"
   ]
  },
  {
   "cell_type": "code",
   "execution_count": 40,
   "metadata": {},
   "outputs": [
    {
     "data": {
      "text/plain": [
       "0.9140047426419305"
      ]
     },
     "execution_count": 40,
     "metadata": {},
     "output_type": "execute_result"
    }
   ],
   "source": [
    "knn_model.score(x_valid, y_valid)"
   ]
  },
  {
   "cell_type": "code",
   "execution_count": 46,
   "metadata": {},
   "outputs": [
    {
     "data": {
      "text/plain": [
       "((14338,), (14338, 2))"
      ]
     },
     "execution_count": 46,
     "metadata": {},
     "output_type": "execute_result"
    }
   ],
   "source": [
    "y_pred = knn_model.predict(x_valid)\n",
    "y_pred_prob = knn_model.predict_proba(x_valid)\n",
    "y_pred.shape, y_pred_prob.shape"
   ]
  },
  {
   "cell_type": "code",
   "execution_count": 47,
   "metadata": {},
   "outputs": [
    {
     "data": {
      "text/plain": [
       "0.9571912286359239"
      ]
     },
     "execution_count": 47,
     "metadata": {},
     "output_type": "execute_result"
    }
   ],
   "source": [
    "# precision 查准率\n",
    "precision_score(y_valid ,y_pred)"
   ]
  },
  {
   "cell_type": "code",
   "execution_count": 48,
   "metadata": {},
   "outputs": [
    {
     "data": {
      "text/plain": [
       "0.9441749502982107"
      ]
     },
     "execution_count": 48,
     "metadata": {},
     "output_type": "execute_result"
    }
   ],
   "source": [
    "# recall 召回率\n",
    "recall_score(y_valid, y_pred)"
   ]
  },
  {
   "cell_type": "code",
   "execution_count": 49,
   "metadata": {},
   "outputs": [
    {
     "data": {
      "text/plain": [
       "0.9506385363705513"
      ]
     },
     "execution_count": 49,
     "metadata": {},
     "output_type": "execute_result"
    }
   ],
   "source": [
    "# f1 score用来综合precision和recall作为一个评价指标\n",
    "f1_score(y_valid, y_pred)"
   ]
  },
  {
   "cell_type": "code",
   "execution_count": 50,
   "metadata": {},
   "outputs": [
    {
     "data": {
      "text/plain": [
       "0.9305871633500191"
      ]
     },
     "execution_count": 50,
     "metadata": {},
     "output_type": "execute_result"
    }
   ],
   "source": [
    "# roc_auc_score 判断二分类预测模型优劣的标准\n",
    "roc_auc_score(y_valid, y_pred_prob[:,1])"
   ]
  },
  {
   "cell_type": "markdown",
   "metadata": {},
   "source": [
    "相比n_neighbors = 5， precision没变化 recall下降了, roc提高了"
   ]
  },
  {
   "cell_type": "markdown",
   "metadata": {},
   "source": [
    "#### ① n_neighbors = 7\n",
    "#### ② weights = '‘distance’'\n",
    "uniform : uniform weights. All points in each neighborhood are weighted equally.  \n",
    "distance : weight points by the inverse of their distance. in this case, closer neighbors of a query point will have a greater influence than neighbors which are further away."
   ]
  },
  {
   "cell_type": "code",
   "execution_count": 51,
   "metadata": {},
   "outputs": [
    {
     "data": {
      "text/plain": [
       "KNeighborsClassifier(algorithm='auto', leaf_size=30, metric='minkowski',\n",
       "           metric_params=None, n_jobs=-1, n_neighbors=7, p=2,\n",
       "           weights='distance')"
      ]
     },
     "execution_count": 51,
     "metadata": {},
     "output_type": "execute_result"
    }
   ],
   "source": [
    "# 使用上面划分好的训练集和测试集，保证前后数据一致\n",
    "\n",
    "knn_model = KNeighborsClassifier(n_neighbors=7, n_jobs=-1, weights='distance')\n",
    "knn_model.fit(x_train, y_train)"
   ]
  },
  {
   "cell_type": "code",
   "execution_count": 52,
   "metadata": {},
   "outputs": [
    {
     "data": {
      "text/plain": [
       "0.9240479843771795"
      ]
     },
     "execution_count": 52,
     "metadata": {},
     "output_type": "execute_result"
    }
   ],
   "source": [
    "knn_model.score(x_valid, y_valid)"
   ]
  },
  {
   "cell_type": "code",
   "execution_count": 53,
   "metadata": {},
   "outputs": [
    {
     "data": {
      "text/plain": [
       "((14338,), (14338, 2))"
      ]
     },
     "execution_count": 53,
     "metadata": {},
     "output_type": "execute_result"
    }
   ],
   "source": [
    "y_pred = knn_model.predict(x_valid)\n",
    "y_pred_prob = knn_model.predict_proba(x_valid)\n",
    "y_pred.shape, y_pred_prob.shape"
   ]
  },
  {
   "cell_type": "code",
   "execution_count": 54,
   "metadata": {},
   "outputs": [
    {
     "data": {
      "text/plain": [
       "0.9603238217377364"
      ]
     },
     "execution_count": 54,
     "metadata": {},
     "output_type": "execute_result"
    }
   ],
   "source": [
    "# precision 查准率\n",
    "precision_score(y_valid ,y_pred)"
   ]
  },
  {
   "cell_type": "code",
   "execution_count": 55,
   "metadata": {},
   "outputs": [
    {
     "data": {
      "text/plain": [
       "0.9527634194831014"
      ]
     },
     "execution_count": 55,
     "metadata": {},
     "output_type": "execute_result"
    }
   ],
   "source": [
    "# recall 召回率\n",
    "recall_score(y_valid, y_pred)"
   ]
  },
  {
   "cell_type": "code",
   "execution_count": 56,
   "metadata": {},
   "outputs": [
    {
     "data": {
      "text/plain": [
       "0.9565286814897609"
      ]
     },
     "execution_count": 56,
     "metadata": {},
     "output_type": "execute_result"
    }
   ],
   "source": [
    "# f1 score用来综合precision和recall作为一个评价指标\n",
    "f1_score(y_valid, y_pred)"
   ]
  },
  {
   "cell_type": "code",
   "execution_count": 57,
   "metadata": {},
   "outputs": [
    {
     "data": {
      "text/plain": [
       "0.9404351204175965"
      ]
     },
     "execution_count": 57,
     "metadata": {},
     "output_type": "execute_result"
    }
   ],
   "source": [
    "# roc_auc_score 判断二分类预测模型优劣的标准\n",
    "roc_auc_score(y_valid, y_pred_prob[:,1])"
   ]
  },
  {
   "cell_type": "markdown",
   "metadata": {},
   "source": [
    "相比权重平均，以距离倒数为权重， precision， recall， roc都提高了"
   ]
  },
  {
   "cell_type": "markdown",
   "metadata": {},
   "source": [
    "#### 试一试leaf_size"
   ]
  },
  {
   "cell_type": "code",
   "execution_count": 67,
   "metadata": {},
   "outputs": [
    {
     "data": {
      "text/plain": [
       "KNeighborsClassifier(algorithm='auto', leaf_size=40, metric='minkowski',\n",
       "           metric_params=None, n_jobs=-1, n_neighbors=7, p=2,\n",
       "           weights='distance')"
      ]
     },
     "execution_count": 67,
     "metadata": {},
     "output_type": "execute_result"
    }
   ],
   "source": [
    "# 使用上面划分好的训练集和测试集，保证前后数据一致\n",
    "\n",
    "knn_model = KNeighborsClassifier(n_neighbors=7, n_jobs=-1, weights='distance', leaf_size=40) # 50没变化\n",
    "knn_model.fit(x_train, y_train)"
   ]
  },
  {
   "cell_type": "code",
   "execution_count": 68,
   "metadata": {},
   "outputs": [
    {
     "data": {
      "text/plain": [
       "0.9240479843771795"
      ]
     },
     "execution_count": 68,
     "metadata": {},
     "output_type": "execute_result"
    }
   ],
   "source": [
    "knn_model.score(x_valid, y_valid)"
   ]
  },
  {
   "cell_type": "code",
   "execution_count": 69,
   "metadata": {},
   "outputs": [
    {
     "data": {
      "text/plain": [
       "((14338,), (14338, 2))"
      ]
     },
     "execution_count": 69,
     "metadata": {},
     "output_type": "execute_result"
    }
   ],
   "source": [
    "y_pred = knn_model.predict(x_valid)\n",
    "y_pred_prob = knn_model.predict_proba(x_valid)\n",
    "y_pred.shape, y_pred_prob.shape"
   ]
  },
  {
   "cell_type": "code",
   "execution_count": 70,
   "metadata": {},
   "outputs": [
    {
     "data": {
      "text/plain": [
       "0.9603238217377364"
      ]
     },
     "execution_count": 70,
     "metadata": {},
     "output_type": "execute_result"
    }
   ],
   "source": [
    "# precision 查准率\n",
    "precision_score(y_valid ,y_pred)"
   ]
  },
  {
   "cell_type": "code",
   "execution_count": 71,
   "metadata": {},
   "outputs": [
    {
     "data": {
      "text/plain": [
       "0.9527634194831014"
      ]
     },
     "execution_count": 71,
     "metadata": {},
     "output_type": "execute_result"
    }
   ],
   "source": [
    "# recall 召回率\n",
    "recall_score(y_valid, y_pred)"
   ]
  },
  {
   "cell_type": "code",
   "execution_count": 72,
   "metadata": {},
   "outputs": [
    {
     "data": {
      "text/plain": [
       "0.9565286814897609"
      ]
     },
     "execution_count": 72,
     "metadata": {},
     "output_type": "execute_result"
    }
   ],
   "source": [
    "# f1 score用来综合precision和recall作为一个评价指标\n",
    "f1_score(y_valid, y_pred)"
   ]
  },
  {
   "cell_type": "code",
   "execution_count": 73,
   "metadata": {},
   "outputs": [
    {
     "data": {
      "text/plain": [
       "0.9404351204175965"
      ]
     },
     "execution_count": 73,
     "metadata": {},
     "output_type": "execute_result"
    }
   ],
   "source": [
    "# roc_auc_score 判断二分类预测模型优劣的标准\n",
    "roc_auc_score(y_valid, y_pred_prob[:,1])"
   ]
  },
  {
   "cell_type": "markdown",
   "metadata": {},
   "source": [
    "leaf_size变更对评价没有多大影响"
   ]
  },
  {
   "cell_type": "markdown",
   "metadata": {},
   "source": [
    "### 试试其他算法模型"
   ]
  },
  {
   "cell_type": "markdown",
   "metadata": {},
   "source": [
    "#### Gaussian Naive Bayes"
   ]
  },
  {
   "cell_type": "code",
   "execution_count": 76,
   "metadata": {},
   "outputs": [
    {
     "data": {
      "text/plain": [
       "GaussianNB(priors=None, var_smoothing=1e-09)"
      ]
     },
     "execution_count": 76,
     "metadata": {},
     "output_type": "execute_result"
    }
   ],
   "source": [
    "from sklearn.naive_bayes import GaussianNB\n",
    "\n",
    "NB_model = GaussianNB()\n",
    "NB_model.fit(x_train, y_train)"
   ]
  },
  {
   "cell_type": "code",
   "execution_count": 77,
   "metadata": {},
   "outputs": [
    {
     "data": {
      "text/plain": [
       "0.8211745013251499"
      ]
     },
     "execution_count": 77,
     "metadata": {},
     "output_type": "execute_result"
    }
   ],
   "source": [
    "NB_model.score(x_valid, y_valid)"
   ]
  },
  {
   "cell_type": "code",
   "execution_count": 78,
   "metadata": {},
   "outputs": [
    {
     "data": {
      "text/plain": [
       "((14338,), (14338, 2))"
      ]
     },
     "execution_count": 78,
     "metadata": {},
     "output_type": "execute_result"
    }
   ],
   "source": [
    "y_pred = NB_model.predict(x_valid)\n",
    "y_pred_prob = NB_model.predict_proba(x_valid)\n",
    "y_pred.shape, y_pred_prob.shape"
   ]
  },
  {
   "cell_type": "code",
   "execution_count": 79,
   "metadata": {},
   "outputs": [
    {
     "data": {
      "text/plain": [
       "0.9978120338140228"
      ]
     },
     "execution_count": 79,
     "metadata": {},
     "output_type": "execute_result"
    }
   ],
   "source": [
    "# precision 查准率\n",
    "precision_score(y_valid ,y_pred)"
   ]
  },
  {
   "cell_type": "code",
   "execution_count": 80,
   "metadata": {},
   "outputs": [
    {
     "data": {
      "text/plain": [
       "0.7978528827037773"
      ]
     },
     "execution_count": 80,
     "metadata": {},
     "output_type": "execute_result"
    }
   ],
   "source": [
    "# recall 召回率\n",
    "recall_score(y_valid, y_pred)"
   ]
  },
  {
   "cell_type": "code",
   "execution_count": 81,
   "metadata": {},
   "outputs": [
    {
     "data": {
      "text/plain": [
       "0.886699072028281"
      ]
     },
     "execution_count": 81,
     "metadata": {},
     "output_type": "execute_result"
    }
   ],
   "source": [
    "# f1 score用来综合precision和recall作为一个评价指标\n",
    "f1_score(y_valid, y_pred)"
   ]
  },
  {
   "cell_type": "code",
   "execution_count": 82,
   "metadata": {
    "scrolled": true
   },
   "outputs": [
    {
     "data": {
      "text/plain": [
       "0.9285667503769216"
      ]
     },
     "execution_count": 82,
     "metadata": {},
     "output_type": "execute_result"
    }
   ],
   "source": [
    "# roc_auc_score 判断二分类预测模型优劣的标准\n",
    "roc_auc_score(y_valid, y_pred_prob[:,1])"
   ]
  },
  {
   "cell_type": "markdown",
   "metadata": {},
   "source": [
    "朴素贝叶斯，preicison提高了，recall下降了很多，roc也下降了"
   ]
  },
  {
   "cell_type": "markdown",
   "metadata": {},
   "source": [
    "#### Logistic Regression"
   ]
  },
  {
   "cell_type": "code",
   "execution_count": 83,
   "metadata": {
    "scrolled": true
   },
   "outputs": [
    {
     "name": "stderr",
     "output_type": "stream",
     "text": [
      "F:\\Anaconda3\\lib\\site-packages\\sklearn\\linear_model\\logistic.py:433: FutureWarning: Default solver will be changed to 'lbfgs' in 0.22. Specify a solver to silence this warning.\n",
      "  FutureWarning)\n",
      "F:\\Anaconda3\\lib\\site-packages\\sklearn\\linear_model\\logistic.py:1300: UserWarning: 'n_jobs' > 1 does not have any effect when 'solver' is set to 'liblinear'. Got 'n_jobs' = 4.\n",
      "  \" = {}.\".format(effective_n_jobs(self.n_jobs)))\n"
     ]
    },
    {
     "data": {
      "text/plain": [
       "LogisticRegression(C=1.0, class_weight=None, dual=False, fit_intercept=True,\n",
       "          intercept_scaling=1, max_iter=100, multi_class='warn', n_jobs=-1,\n",
       "          penalty='l2', random_state=None, solver='warn', tol=0.0001,\n",
       "          verbose=0, warm_start=False)"
      ]
     },
     "execution_count": 83,
     "metadata": {},
     "output_type": "execute_result"
    }
   ],
   "source": [
    "from sklearn.linear_model import LogisticRegression\n",
    "\n",
    "lr_model = LogisticRegression(n_jobs=-1)\n",
    "lr_model.fit(x_train, y_train)"
   ]
  },
  {
   "cell_type": "code",
   "execution_count": 84,
   "metadata": {},
   "outputs": [
    {
     "data": {
      "text/plain": [
       "0.979913516529502"
      ]
     },
     "execution_count": 84,
     "metadata": {},
     "output_type": "execute_result"
    }
   ],
   "source": [
    "lr_model.score(x_valid, y_valid)"
   ]
  },
  {
   "cell_type": "code",
   "execution_count": 86,
   "metadata": {},
   "outputs": [
    {
     "data": {
      "text/plain": [
       "((14338,), (14338, 2))"
      ]
     },
     "execution_count": 86,
     "metadata": {},
     "output_type": "execute_result"
    }
   ],
   "source": [
    "y_pred = lr_model.predict(x_valid)\n",
    "y_pred_prob = lr_model.predict_proba(x_valid)\n",
    "y_pred.shape, y_pred_prob.shape"
   ]
  },
  {
   "cell_type": "code",
   "execution_count": 87,
   "metadata": {},
   "outputs": [
    {
     "data": {
      "text/plain": [
       "0.9855370267920651"
      ]
     },
     "execution_count": 87,
     "metadata": {},
     "output_type": "execute_result"
    }
   ],
   "source": [
    "# precision 查准率\n",
    "precision_score(y_valid ,y_pred)"
   ]
  },
  {
   "cell_type": "code",
   "execution_count": 88,
   "metadata": {},
   "outputs": [
    {
     "data": {
      "text/plain": [
       "0.9916500994035785"
      ]
     },
     "execution_count": 88,
     "metadata": {},
     "output_type": "execute_result"
    }
   ],
   "source": [
    "# recall 召回率\n",
    "recall_score(y_valid, y_pred)"
   ]
  },
  {
   "cell_type": "code",
   "execution_count": 89,
   "metadata": {},
   "outputs": [
    {
     "data": {
      "text/plain": [
       "0.9885841128904392"
      ]
     },
     "execution_count": 89,
     "metadata": {},
     "output_type": "execute_result"
    }
   ],
   "source": [
    "# f1 score用来综合precision和recall作为一个评价指标\n",
    "f1_score(y_valid, y_pred)"
   ]
  },
  {
   "cell_type": "code",
   "execution_count": 90,
   "metadata": {},
   "outputs": [
    {
     "data": {
      "text/plain": [
       "0.9929283516146457"
      ]
     },
     "execution_count": 90,
     "metadata": {},
     "output_type": "execute_result"
    }
   ],
   "source": [
    "# roc_auc_score 判断二分类预测模型优劣的标准\n",
    "roc_auc_score(y_valid, y_pred_prob[:,1])"
   ]
  },
  {
   "cell_type": "markdown",
   "metadata": {},
   "source": [
    "逻辑回归， precision, recall, roc提高了很多"
   ]
  },
  {
   "cell_type": "markdown",
   "metadata": {},
   "source": [
    "### Step6: 使用 test_data 对其进行新数据的判断,"
   ]
  },
  {
   "cell_type": "markdown",
   "metadata": {},
   "source": [
    "KNN"
   ]
  },
  {
   "cell_type": "code",
   "execution_count": 91,
   "metadata": {},
   "outputs": [
    {
     "data": {
      "text/plain": [
       "0.920549015231825"
      ]
     },
     "execution_count": 91,
     "metadata": {},
     "output_type": "execute_result"
    }
   ],
   "source": [
    "knn_model.score(X_test,Y_test)  # mean accuray of all test sets and labels"
   ]
  },
  {
   "cell_type": "code",
   "execution_count": 92,
   "metadata": {},
   "outputs": [],
   "source": [
    "y_pred = knn_model.predict(X_test)\n",
    "y_pred_prob = knn_model.predict_proba(X_test)"
   ]
  },
  {
   "cell_type": "code",
   "execution_count": 101,
   "metadata": {},
   "outputs": [
    {
     "data": {
      "text/plain": [
       "((17923,), (17923, 2), 17923)"
      ]
     },
     "execution_count": 101,
     "metadata": {},
     "output_type": "execute_result"
    }
   ],
   "source": [
    "y_pred.shape, y_pred_prob.shape, len(Y_test)"
   ]
  },
  {
   "cell_type": "code",
   "execution_count": 94,
   "metadata": {},
   "outputs": [
    {
     "data": {
      "text/plain": [
       "0.9574237201583046"
      ]
     },
     "execution_count": 94,
     "metadata": {},
     "output_type": "execute_result"
    }
   ],
   "source": [
    "precision_score(Y_test ,y_pred)"
   ]
  },
  {
   "cell_type": "code",
   "execution_count": 95,
   "metadata": {},
   "outputs": [
    {
     "data": {
      "text/plain": [
       "0.951954810865702"
      ]
     },
     "execution_count": 95,
     "metadata": {},
     "output_type": "execute_result"
    }
   ],
   "source": [
    "recall_score(Y_test, y_pred)"
   ]
  },
  {
   "cell_type": "code",
   "execution_count": 96,
   "metadata": {},
   "outputs": [
    {
     "data": {
      "text/plain": [
       "0.954681433390618"
      ]
     },
     "execution_count": 96,
     "metadata": {},
     "output_type": "execute_result"
    }
   ],
   "source": [
    "f1_score(Y_test, y_pred)"
   ]
  },
  {
   "cell_type": "code",
   "execution_count": 102,
   "metadata": {},
   "outputs": [
    {
     "data": {
      "text/plain": [
       "0.9367735680245104"
      ]
     },
     "execution_count": 102,
     "metadata": {},
     "output_type": "execute_result"
    }
   ],
   "source": [
    "roc_auc_score(Y_test, y_pred_prob[:,1])"
   ]
  },
  {
   "cell_type": "markdown",
   "metadata": {},
   "source": [
    "NB"
   ]
  },
  {
   "cell_type": "code",
   "execution_count": 103,
   "metadata": {},
   "outputs": [
    {
     "data": {
      "text/plain": [
       "0.8190035150365452"
      ]
     },
     "execution_count": 103,
     "metadata": {},
     "output_type": "execute_result"
    }
   ],
   "source": [
    "NB_model.score(X_test, Y_test)"
   ]
  },
  {
   "cell_type": "code",
   "execution_count": 104,
   "metadata": {},
   "outputs": [],
   "source": [
    "y_pred = NB_model.predict(X_test)\n",
    "y_pred_prob = NB_model.predict_proba(X_test)"
   ]
  },
  {
   "cell_type": "code",
   "execution_count": 105,
   "metadata": {},
   "outputs": [
    {
     "data": {
      "text/plain": [
       "0.9970602256475449"
      ]
     },
     "execution_count": 105,
     "metadata": {},
     "output_type": "execute_result"
    }
   ],
   "source": [
    "precision_score(Y_test ,y_pred)"
   ]
  },
  {
   "cell_type": "code",
   "execution_count": 106,
   "metadata": {},
   "outputs": [
    {
     "data": {
      "text/plain": [
       "0.7964584920030464"
      ]
     },
     "execution_count": 106,
     "metadata": {},
     "output_type": "execute_result"
    }
   ],
   "source": [
    "recall_score(Y_test, y_pred)"
   ]
  },
  {
   "cell_type": "code",
   "execution_count": 107,
   "metadata": {},
   "outputs": [
    {
     "data": {
      "text/plain": [
       "0.8855408933737916"
      ]
     },
     "execution_count": 107,
     "metadata": {},
     "output_type": "execute_result"
    }
   ],
   "source": [
    "f1_score(Y_test, y_pred)"
   ]
  },
  {
   "cell_type": "code",
   "execution_count": 108,
   "metadata": {},
   "outputs": [
    {
     "data": {
      "text/plain": [
       "0.9295130264685978"
      ]
     },
     "execution_count": 108,
     "metadata": {},
     "output_type": "execute_result"
    }
   ],
   "source": [
    "roc_auc_score(Y_test, y_pred_prob[:,1])"
   ]
  },
  {
   "cell_type": "markdown",
   "metadata": {},
   "source": [
    "LR"
   ]
  },
  {
   "cell_type": "code",
   "execution_count": 111,
   "metadata": {},
   "outputs": [
    {
     "data": {
      "text/plain": [
       "0.9778496903420186"
      ]
     },
     "execution_count": 111,
     "metadata": {},
     "output_type": "execute_result"
    }
   ],
   "source": [
    "lr_model.score(X_test, Y_test)"
   ]
  },
  {
   "cell_type": "code",
   "execution_count": 112,
   "metadata": {},
   "outputs": [],
   "source": [
    "y_pred = lr_model.predict(X_test)\n",
    "y_pred_prob = lr_model.predict_proba(X_test)"
   ]
  },
  {
   "cell_type": "code",
   "execution_count": 113,
   "metadata": {},
   "outputs": [
    {
     "data": {
      "text/plain": [
       "0.9856447226965155"
      ]
     },
     "execution_count": 113,
     "metadata": {},
     "output_type": "execute_result"
    }
   ],
   "source": [
    "precision_score(Y_test ,y_pred)"
   ]
  },
  {
   "cell_type": "code",
   "execution_count": 114,
   "metadata": {},
   "outputs": [
    {
     "data": {
      "text/plain": [
       "0.9892104595074892"
      ]
     },
     "execution_count": 114,
     "metadata": {},
     "output_type": "execute_result"
    }
   ],
   "source": [
    "recall_score(Y_test, y_pred)"
   ]
  },
  {
   "cell_type": "code",
   "execution_count": 115,
   "metadata": {},
   "outputs": [
    {
     "data": {
      "text/plain": [
       "0.9874243720105167"
      ]
     },
     "execution_count": 115,
     "metadata": {},
     "output_type": "execute_result"
    }
   ],
   "source": [
    "f1_score(Y_test, y_pred)"
   ]
  },
  {
   "cell_type": "code",
   "execution_count": 116,
   "metadata": {},
   "outputs": [
    {
     "data": {
      "text/plain": [
       "0.9929797987608212"
      ]
     },
     "execution_count": 116,
     "metadata": {},
     "output_type": "execute_result"
    }
   ],
   "source": [
    "roc_auc_score(Y_test, y_pred_prob[:,1])"
   ]
  },
  {
   "cell_type": "markdown",
   "metadata": {},
   "source": [
    "Logistic Regression 在测试集上的分类评价更好"
   ]
  },
  {
   "cell_type": "markdown",
   "metadata": {},
   "source": [
    "### Step8: 不断改变参数，直到性能达到“某个”点。问：“某个”怎么定义？"
   ]
  },
  {
   "cell_type": "markdown",
   "metadata": {},
   "source": [
    "某个点的定义：当某参数调整时，训练集的误差一直处于较小，验证集的误差从下降到较低的趋势，突然上升，这个点处于训练集和验证集误差都比较低的情况，\n",
    "泛化效果不错，之后继续上升就是过拟合了"
   ]
  },
  {
   "cell_type": "markdown",
   "metadata": {},
   "source": [
    "### Step9: 找出所以预测为 1， 但是实际为 0 的文章。 作为抄袭的候选者。"
   ]
  },
  {
   "cell_type": "code",
   "execution_count": 117,
   "metadata": {},
   "outputs": [
    {
     "data": {
      "text/html": [
       "<div>\n",
       "<style scoped>\n",
       "    .dataframe tbody tr th:only-of-type {\n",
       "        vertical-align: middle;\n",
       "    }\n",
       "\n",
       "    .dataframe tbody tr th {\n",
       "        vertical-align: top;\n",
       "    }\n",
       "\n",
       "    .dataframe thead th {\n",
       "        text-align: right;\n",
       "    }\n",
       "</style>\n",
       "<table border=\"1\" class=\"dataframe\">\n",
       "  <thead>\n",
       "    <tr style=\"text-align: right;\">\n",
       "      <th></th>\n",
       "      <th>content</th>\n",
       "      <th>y</th>\n",
       "    </tr>\n",
       "  </thead>\n",
       "  <tbody>\n",
       "    <tr>\n",
       "      <th>0</th>\n",
       "      <td>此外 自 本周 6 月 12 日起 除 小米 手机 6 等 15 款 机型 外 其余 机型 ...</td>\n",
       "      <td>0</td>\n",
       "    </tr>\n",
       "    <tr>\n",
       "      <th>1</th>\n",
       "      <td>骁龙 835 作为 唯一 通过 Windows10 桌面 平台 认证 的 ARM 处理器 高...</td>\n",
       "      <td>0</td>\n",
       "    </tr>\n",
       "    <tr>\n",
       "      <th>2</th>\n",
       "      <td>此前 的 一加 3T 搭载 的 是 3400mAh 电池 DashCharge 快充 规格 ...</td>\n",
       "      <td>0</td>\n",
       "    </tr>\n",
       "    <tr>\n",
       "      <th>3</th>\n",
       "      <td>这是 6 月 18 日 在 葡萄牙 中部 大 佩德罗 冈 地区 拍摄 的 被 森林 大火 烧...</td>\n",
       "      <td>1</td>\n",
       "    </tr>\n",
       "    <tr>\n",
       "      <th>4</th>\n",
       "      <td>原 标题 44 岁 女子 跑 深圳 约会 网友 被 拒 暴雨 中 裸身 奔走 深圳 交警 微...</td>\n",
       "      <td>0</td>\n",
       "    </tr>\n",
       "  </tbody>\n",
       "</table>\n",
       "</div>"
      ],
      "text/plain": [
       "                                             content  y\n",
       "0  此外 自 本周 6 月 12 日起 除 小米 手机 6 等 15 款 机型 外 其余 机型 ...  0\n",
       "1  骁龙 835 作为 唯一 通过 Windows10 桌面 平台 认证 的 ARM 处理器 高...  0\n",
       "2  此前 的 一加 3T 搭载 的 是 3400mAh 电池 DashCharge 快充 规格 ...  0\n",
       "3  这是 6 月 18 日 在 葡萄牙 中部 大 佩德罗 冈 地区 拍摄 的 被 森林 大火 烧...  1\n",
       "4  原 标题 44 岁 女子 跑 深圳 约会 网友 被 拒 暴雨 中 裸身 奔走 深圳 交警 微...  0"
      ]
     },
     "execution_count": 117,
     "metadata": {},
     "output_type": "execute_result"
    }
   ],
   "source": [
    "new_data.head()"
   ]
  },
  {
   "cell_type": "code",
   "execution_count": 142,
   "metadata": {},
   "outputs": [
    {
     "data": {
      "text/plain": [
       "(89611,)"
      ]
     },
     "execution_count": 142,
     "metadata": {},
     "output_type": "execute_result"
    }
   ],
   "source": [
    "# 使用逻辑回归模型对所有的X进行预测\n",
    "y_pred = lr_model.predict(news_array)\n",
    "y_pred.shape"
   ]
  },
  {
   "cell_type": "code",
   "execution_count": 148,
   "metadata": {},
   "outputs": [
    {
     "data": {
      "text/html": [
       "<div>\n",
       "<style scoped>\n",
       "    .dataframe tbody tr th:only-of-type {\n",
       "        vertical-align: middle;\n",
       "    }\n",
       "\n",
       "    .dataframe tbody tr th {\n",
       "        vertical-align: top;\n",
       "    }\n",
       "\n",
       "    .dataframe thead th {\n",
       "        text-align: right;\n",
       "    }\n",
       "</style>\n",
       "<table border=\"1\" class=\"dataframe\">\n",
       "  <thead>\n",
       "    <tr style=\"text-align: right;\">\n",
       "      <th></th>\n",
       "      <th>content</th>\n",
       "      <th>y</th>\n",
       "      <th>y_pred</th>\n",
       "      <th>source</th>\n",
       "    </tr>\n",
       "  </thead>\n",
       "  <tbody>\n",
       "    <tr>\n",
       "      <th>0</th>\n",
       "      <td>此外 自 本周 6 月 12 日起 除 小米 手机 6 等 15 款 机型 外 其余 机型 ...</td>\n",
       "      <td>0</td>\n",
       "      <td>0</td>\n",
       "      <td>快科技@http://www.kkj.cn/</td>\n",
       "    </tr>\n",
       "    <tr>\n",
       "      <th>1</th>\n",
       "      <td>骁龙 835 作为 唯一 通过 Windows10 桌面 平台 认证 的 ARM 处理器 高...</td>\n",
       "      <td>0</td>\n",
       "      <td>0</td>\n",
       "      <td>快科技@http://www.kkj.cn/</td>\n",
       "    </tr>\n",
       "    <tr>\n",
       "      <th>2</th>\n",
       "      <td>此前 的 一加 3T 搭载 的 是 3400mAh 电池 DashCharge 快充 规格 ...</td>\n",
       "      <td>0</td>\n",
       "      <td>0</td>\n",
       "      <td>快科技@http://www.kkj.cn/</td>\n",
       "    </tr>\n",
       "    <tr>\n",
       "      <th>3</th>\n",
       "      <td>这是 6 月 18 日 在 葡萄牙 中部 大 佩德罗 冈 地区 拍摄 的 被 森林 大火 烧...</td>\n",
       "      <td>1</td>\n",
       "      <td>1</td>\n",
       "      <td>新华社</td>\n",
       "    </tr>\n",
       "    <tr>\n",
       "      <th>4</th>\n",
       "      <td>原 标题 44 岁 女子 跑 深圳 约会 网友 被 拒 暴雨 中 裸身 奔走 深圳 交警 微...</td>\n",
       "      <td>0</td>\n",
       "      <td>0</td>\n",
       "      <td>深圳大件事</td>\n",
       "    </tr>\n",
       "  </tbody>\n",
       "</table>\n",
       "</div>"
      ],
      "text/plain": [
       "                                             content  y  y_pred  \\\n",
       "0  此外 自 本周 6 月 12 日起 除 小米 手机 6 等 15 款 机型 外 其余 机型 ...  0       0   \n",
       "1  骁龙 835 作为 唯一 通过 Windows10 桌面 平台 认证 的 ARM 处理器 高...  0       0   \n",
       "2  此前 的 一加 3T 搭载 的 是 3400mAh 电池 DashCharge 快充 规格 ...  0       0   \n",
       "3  这是 6 月 18 日 在 葡萄牙 中部 大 佩德罗 冈 地区 拍摄 的 被 森林 大火 烧...  1       1   \n",
       "4  原 标题 44 岁 女子 跑 深圳 约会 网友 被 拒 暴雨 中 裸身 奔走 深圳 交警 微...  0       0   \n",
       "\n",
       "                   source  \n",
       "0  快科技@http://www.kkj.cn/  \n",
       "1  快科技@http://www.kkj.cn/  \n",
       "2  快科技@http://www.kkj.cn/  \n",
       "3                     新华社  \n",
       "4                   深圳大件事  "
      ]
     },
     "execution_count": 148,
     "metadata": {},
     "output_type": "execute_result"
    }
   ],
   "source": [
    "# 将y_pred加入new_data\n",
    "new_data['y_pred'] = y_pred\n",
    "new_data['source'] = data['source']\n",
    "new_data.head()"
   ]
  },
  {
   "cell_type": "code",
   "execution_count": 149,
   "metadata": {},
   "outputs": [],
   "source": [
    "# A = range(5)\n",
    "# B = range(5)\n",
    "# C = pd.DataFrame([{'a':a,'b':b} for a, b in zip(A, B)])\n",
    "# C[(C['a'] == 2) & (C['b'] == 2)]"
   ]
  },
  {
   "cell_type": "code",
   "execution_count": 150,
   "metadata": {
    "scrolled": true
   },
   "outputs": [
    {
     "data": {
      "text/html": [
       "<div>\n",
       "<style scoped>\n",
       "    .dataframe tbody tr th:only-of-type {\n",
       "        vertical-align: middle;\n",
       "    }\n",
       "\n",
       "    .dataframe tbody tr th {\n",
       "        vertical-align: top;\n",
       "    }\n",
       "\n",
       "    .dataframe thead th {\n",
       "        text-align: right;\n",
       "    }\n",
       "</style>\n",
       "<table border=\"1\" class=\"dataframe\">\n",
       "  <thead>\n",
       "    <tr style=\"text-align: right;\">\n",
       "      <th></th>\n",
       "      <th>content</th>\n",
       "      <th>y</th>\n",
       "      <th>y_pred</th>\n",
       "      <th>source</th>\n",
       "    </tr>\n",
       "  </thead>\n",
       "  <tbody>\n",
       "    <tr>\n",
       "      <th>51</th>\n",
       "      <td>戈壁 的 大漠 黄沙 曾 掩埋 了 无数 西域 古道 而 如今 一条 大漠 天路 正 顽强 ...</td>\n",
       "      <td>0</td>\n",
       "      <td>1</td>\n",
       "      <td>新华网</td>\n",
       "    </tr>\n",
       "    <tr>\n",
       "      <th>56</th>\n",
       "      <td>很快 不少 人 主动 添加 记者 为 好友 询问 是否 需要 扫描 软件 并 声称 这些 扫...</td>\n",
       "      <td>0</td>\n",
       "      <td>1</td>\n",
       "      <td>央视新闻</td>\n",
       "    </tr>\n",
       "    <tr>\n",
       "      <th>61</th>\n",
       "      <td>在 QQ 搜索 栏 输入 摄像头 破解 就 跳出 了 众多 相关 聊天 群 记者 随机 加入...</td>\n",
       "      <td>0</td>\n",
       "      <td>1</td>\n",
       "      <td>央视新闻客户端@</td>\n",
       "    </tr>\n",
       "    <tr>\n",
       "      <th>63</th>\n",
       "      <td>2017 年 上海 国际 电影 电视节 包括 6 月 12 日至 16 日 举办 的 第二十...</td>\n",
       "      <td>0</td>\n",
       "      <td>1</td>\n",
       "      <td>人民日报</td>\n",
       "    </tr>\n",
       "    <tr>\n",
       "      <th>65</th>\n",
       "      <td>从 百度 支付宝 到 App 高考 志愿 填报 五花八门 顾 女士 近来 减少 了 刷 朋友...</td>\n",
       "      <td>0</td>\n",
       "      <td>1</td>\n",
       "      <td>新华社@</td>\n",
       "    </tr>\n",
       "    <tr>\n",
       "      <th>70</th>\n",
       "      <td>发现 共享 单车 花式 载人 挡泥板 当 后座 如今 共享 单车 种类 繁多 有 的 共享 ...</td>\n",
       "      <td>0</td>\n",
       "      <td>1</td>\n",
       "      <td>新浪综合@</td>\n",
       "    </tr>\n",
       "    <tr>\n",
       "      <th>94</th>\n",
       "      <td>中新网 6 月 23 日电 日前 2017 金科 健康 更好 品牌战略 发布 暨 金科 产业...</td>\n",
       "      <td>0</td>\n",
       "      <td>1</td>\n",
       "      <td>中国新闻网</td>\n",
       "    </tr>\n",
       "    <tr>\n",
       "      <th>99</th>\n",
       "      <td>中新网 成都 6 月 23 日电 记者 段 正阳 23 日 四川省 总工会 四川省 邮政 公...</td>\n",
       "      <td>0</td>\n",
       "      <td>1</td>\n",
       "      <td>中国新闻网</td>\n",
       "    </tr>\n",
       "    <tr>\n",
       "      <th>111</th>\n",
       "      <td>点击 图片 进入 下 一页 中新网 广州 6 月 23 日电 记者 郭军 6 月 23 日天...</td>\n",
       "      <td>0</td>\n",
       "      <td>1</td>\n",
       "      <td>中国新闻网</td>\n",
       "    </tr>\n",
       "    <tr>\n",
       "      <th>123</th>\n",
       "      <td>中新社 海口 6 月 23 日电 题 观澜湖 掌门人 朱鼎 健谈 港企 发展 要 更 国际 ...</td>\n",
       "      <td>0</td>\n",
       "      <td>1</td>\n",
       "      <td>中国新闻网</td>\n",
       "    </tr>\n",
       "    <tr>\n",
       "      <th>124</th>\n",
       "      <td>佩工 或 离开 华夏 幸福 北京 时间 6 月 16 日 英国 媒体 天空 体育 消息 称 ...</td>\n",
       "      <td>0</td>\n",
       "      <td>1</td>\n",
       "      <td>凤凰体育</td>\n",
       "    </tr>\n",
       "    <tr>\n",
       "      <th>127</th>\n",
       "      <td>经济日报 中国 经济网 记者 廉丹 香港 回归祖国 20 周年 前夕 香港特区 行政长官 梁...</td>\n",
       "      <td>0</td>\n",
       "      <td>1</td>\n",
       "      <td>经济日报</td>\n",
       "    </tr>\n",
       "    <tr>\n",
       "      <th>128</th>\n",
       "      <td>据 法国 媒体 footsur7 报道 法甲 豪门 巴黎 圣日耳曼 盯上 了 上海 上港 外...</td>\n",
       "      <td>0</td>\n",
       "      <td>1</td>\n",
       "      <td>足球部落国际版</td>\n",
       "    </tr>\n",
       "    <tr>\n",
       "      <th>132</th>\n",
       "      <td>点击 图片 进入 下 一页 中新网 宁波 6 月 23 日电 林波夏 森森 6 月 23 日...</td>\n",
       "      <td>0</td>\n",
       "      <td>1</td>\n",
       "      <td>中国新闻网</td>\n",
       "    </tr>\n",
       "    <tr>\n",
       "      <th>134</th>\n",
       "      <td>点击 图片 进入 下 一页 原 标题 敦煌 印象 乡村 游渐 热 都市 咖啡店 老板 回乡 ...</td>\n",
       "      <td>0</td>\n",
       "      <td>1</td>\n",
       "      <td>中国新闻网</td>\n",
       "    </tr>\n",
       "    <tr>\n",
       "      <th>137</th>\n",
       "      <td>中新社 大连 6 月 23 日电 记者 杨毅 自 2007 年 以来 世界 经济 论坛 新 ...</td>\n",
       "      <td>0</td>\n",
       "      <td>1</td>\n",
       "      <td>中国新闻网</td>\n",
       "    </tr>\n",
       "    <tr>\n",
       "      <th>152</th>\n",
       "      <td>东方 卫视 明星 旅游 体验 综艺节目 旅途 的 花样 上 周六 播出 了 第三期 在 经历...</td>\n",
       "      <td>0</td>\n",
       "      <td>1</td>\n",
       "      <td>环球网</td>\n",
       "    </tr>\n",
       "    <tr>\n",
       "      <th>154</th>\n",
       "      <td>6 月 18 日 2017 微博 电影 之夜 在 上海 盛大 召开 影片 中邪 导演 马凯 ...</td>\n",
       "      <td>0</td>\n",
       "      <td>1</td>\n",
       "      <td>环球网</td>\n",
       "    </tr>\n",
       "    <tr>\n",
       "      <th>162</th>\n",
       "      <td>北京 时间 6 月 20 日 消息 女王 杯赛 展开 男单 首轮 争夺 5 号 种子 特松加...</td>\n",
       "      <td>0</td>\n",
       "      <td>1</td>\n",
       "      <td>新浪体育</td>\n",
       "    </tr>\n",
       "    <tr>\n",
       "      <th>173</th>\n",
       "      <td>关于 巴萨 后卫 球员 马蒂厄 的 未来 各种 消息 一直 交错 纠缠 包括 葡萄牙 体育 ...</td>\n",
       "      <td>0</td>\n",
       "      <td>1</td>\n",
       "      <td>新浪体育</td>\n",
       "    </tr>\n",
       "    <tr>\n",
       "      <th>176</th>\n",
       "      <td>环球网 报道 记者 朱佩据 俄通社 塔斯社 6 月 18 日 消息 俄罗斯 总统 普京 接受...</td>\n",
       "      <td>0</td>\n",
       "      <td>1</td>\n",
       "      <td>环球网</td>\n",
       "    </tr>\n",
       "    <tr>\n",
       "      <th>187</th>\n",
       "      <td>环球 科技 报道 记者 王欢 据 日本 经济 新闻 6 月 18 日 报道 韩国现代 汽车 ...</td>\n",
       "      <td>0</td>\n",
       "      <td>1</td>\n",
       "      <td>环球网</td>\n",
       "    </tr>\n",
       "    <tr>\n",
       "      <th>232</th>\n",
       "      <td>快件 被 擅自 放入 快递 柜后 无 电话 通知 合规 吗 中消协 近日 发布 一份 报告 ...</td>\n",
       "      <td>0</td>\n",
       "      <td>1</td>\n",
       "      <td>中国新闻网@</td>\n",
       "    </tr>\n",
       "    <tr>\n",
       "      <th>282</th>\n",
       "      <td>中国 证券网 讯 记者 费 天元 沪 深 两市 周五 双双 低开 截至 开盘 上证指数 报 ...</td>\n",
       "      <td>0</td>\n",
       "      <td>1</td>\n",
       "      <td>中国证券网</td>\n",
       "    </tr>\n",
       "    <tr>\n",
       "      <th>285</th>\n",
       "      <td>中新网 6 月 23 日电 据人 社部 网站 消息 随着 经济 进入 新 常态 和 人口老龄...</td>\n",
       "      <td>0</td>\n",
       "      <td>1</td>\n",
       "      <td>中新网</td>\n",
       "    </tr>\n",
       "    <tr>\n",
       "      <th>296</th>\n",
       "      <td>原 标题 各地 物价水平 如何 28 省份 5 月份 CPI 涨幅 扩大 中新网 北京 6 ...</td>\n",
       "      <td>0</td>\n",
       "      <td>1</td>\n",
       "      <td>中国新闻网</td>\n",
       "    </tr>\n",
       "    <tr>\n",
       "      <th>309</th>\n",
       "      <td>央广网 呼和浩特 6 月 23 日 消息 记者 郑颖 鄂尔多斯 台 记者 杜亚儒 刘冬智佳瑶...</td>\n",
       "      <td>0</td>\n",
       "      <td>1</td>\n",
       "      <td>央广网</td>\n",
       "    </tr>\n",
       "    <tr>\n",
       "      <th>319</th>\n",
       "      <td>中新网 烟台 6 月 23 日电 张玉雷 记者 23 日 从 烟台市 政府 新闻 办公室 召...</td>\n",
       "      <td>0</td>\n",
       "      <td>1</td>\n",
       "      <td>中国新闻网</td>\n",
       "    </tr>\n",
       "    <tr>\n",
       "      <th>321</th>\n",
       "      <td>中新社 深圳 6 月 23 日电 题 美中关系 全国 委员会 会长 见证 的 香港 变迁 紫...</td>\n",
       "      <td>0</td>\n",
       "      <td>1</td>\n",
       "      <td>中国新闻网</td>\n",
       "    </tr>\n",
       "    <tr>\n",
       "      <th>329</th>\n",
       "      <td>新华社 北京 ６ 月 ２ ３ 日电 记者 邢静 幸福 是 人们 对 生活 最 美好 的 期待...</td>\n",
       "      <td>0</td>\n",
       "      <td>1</td>\n",
       "      <td>新华网</td>\n",
       "    </tr>\n",
       "    <tr>\n",
       "      <th>...</th>\n",
       "      <td>...</td>\n",
       "      <td>...</td>\n",
       "      <td>...</td>\n",
       "      <td>...</td>\n",
       "    </tr>\n",
       "    <tr>\n",
       "      <th>10738</th>\n",
       "      <td>本报讯 记者 张倩 6 月 12 日 14 日 2017CRI 中国国际广播电台 中外记者 ...</td>\n",
       "      <td>0</td>\n",
       "      <td>1</td>\n",
       "      <td>郑州日报第02版</td>\n",
       "    </tr>\n",
       "    <tr>\n",
       "      <th>10742</th>\n",
       "      <td>环球时报 驻 巴基斯坦 特约记者 王 黎明 环球时报 记者 杜海川 两名 中国 人上 月 在...</td>\n",
       "      <td>0</td>\n",
       "      <td>1</td>\n",
       "      <td>环球时报</td>\n",
       "    </tr>\n",
       "    <tr>\n",
       "      <th>10743</th>\n",
       "      <td>对话 嘉宾 张秋生 中国 澳大利亚 研究会 副会长 江苏 师范大学 教授 王震宇 中国 国际...</td>\n",
       "      <td>0</td>\n",
       "      <td>1</td>\n",
       "      <td>南方日报第01版</td>\n",
       "    </tr>\n",
       "    <tr>\n",
       "      <th>10750</th>\n",
       "      <td>要说 世界 上 最能 打 的 格斗 选手 有 很多 比如 菲多 艾米 连科 凯恩 维拉斯 奎...</td>\n",
       "      <td>0</td>\n",
       "      <td>1</td>\n",
       "      <td>拳星时代</td>\n",
       "    </tr>\n",
       "    <tr>\n",
       "      <th>10777</th>\n",
       "      <td>巴拿马 总统 巴雷拉 当地 时间 12 日 发表 全国 电视讲话 宣布 与 中国 建交 中国...</td>\n",
       "      <td>0</td>\n",
       "      <td>1</td>\n",
       "      <td>南方日报第01版</td>\n",
       "    </tr>\n",
       "    <tr>\n",
       "      <th>10780</th>\n",
       "      <td>原 标题 国台办 中巴 建交 是 人心所向 大势所趋 新华社 北京 6 月 13 日电 国台...</td>\n",
       "      <td>0</td>\n",
       "      <td>1</td>\n",
       "      <td>新华社新媒体专线</td>\n",
       "    </tr>\n",
       "    <tr>\n",
       "      <th>10785</th>\n",
       "      <td>郑报 融媒 记者 覃 岩峰 史 治国 姚辉 常文图 农村 人勤 看天 劳作 清晨 不到 7 ...</td>\n",
       "      <td>0</td>\n",
       "      <td>1</td>\n",
       "      <td>郑州日报第01版</td>\n",
       "    </tr>\n",
       "    <tr>\n",
       "      <th>10787</th>\n",
       "      <td>新华社 北京 6 月 13 日电 中央军委 主席 习近平 日前 签署 命令 授予 驻 香港 ...</td>\n",
       "      <td>0</td>\n",
       "      <td>1</td>\n",
       "      <td>南方日报第01版</td>\n",
       "    </tr>\n",
       "    <tr>\n",
       "      <th>10790</th>\n",
       "      <td>南方日报 评论员 南方 时 论 中央宣传部 中央文明办 日前 印发 关于 开展 倡导 绿色 ...</td>\n",
       "      <td>0</td>\n",
       "      <td>1</td>\n",
       "      <td>南方日报第01版</td>\n",
       "    </tr>\n",
       "    <tr>\n",
       "      <th>10791</th>\n",
       "      <td>沈晓明 指出 近年来 省委 省政府 高度重视 放管服 改革 工作 各级 各 部门 积极 转变...</td>\n",
       "      <td>0</td>\n",
       "      <td>1</td>\n",
       "      <td>海南日报第001版</td>\n",
       "    </tr>\n",
       "    <tr>\n",
       "      <th>10798</th>\n",
       "      <td>北京 时间 6 月 11 日 下午 河南建业 俱乐部 在 其 球队 官方 微博上 发布公告 ...</td>\n",
       "      <td>0</td>\n",
       "      <td>1</td>\n",
       "      <td>新浪体育</td>\n",
       "    </tr>\n",
       "    <tr>\n",
       "      <th>10805</th>\n",
       "      <td>本报讯 首席记者 杜托 记者 王俊星 报道 开放 走 四方 万里 结 友谊 昨日 上午 第二...</td>\n",
       "      <td>0</td>\n",
       "      <td>1</td>\n",
       "      <td>昆明日报 第A01版</td>\n",
       "    </tr>\n",
       "    <tr>\n",
       "      <th>10811</th>\n",
       "      <td>图文 立交 座座 崛起 江城 步步 提速 楚天 都市报 讯 图为 夜幕 下 的 汉阳 国博 ...</td>\n",
       "      <td>0</td>\n",
       "      <td>1</td>\n",
       "      <td>楚天都市报第1版</td>\n",
       "    </tr>\n",
       "    <tr>\n",
       "      <th>10817</th>\n",
       "      <td>中共中央国务院 出台 意见 加强 和 完善 城乡 社区 治理 新华社 北京 6 月 12 日...</td>\n",
       "      <td>0</td>\n",
       "      <td>1</td>\n",
       "      <td>青海日报第1版</td>\n",
       "    </tr>\n",
       "    <tr>\n",
       "      <th>10825</th>\n",
       "      <td>据 新华社 北京 6 月 12 日电 经 中央军委 主席 习近平 批准 我军 新 设立 八一...</td>\n",
       "      <td>0</td>\n",
       "      <td>1</td>\n",
       "      <td>南京日报第A01版</td>\n",
       "    </tr>\n",
       "    <tr>\n",
       "      <th>10827</th>\n",
       "      <td>原 标题 四川 新娘 要 8800 下车 钱 被 新郎 暴打 当事人 乱说 昨日 开始 一段...</td>\n",
       "      <td>0</td>\n",
       "      <td>1</td>\n",
       "      <td>成都晚报</td>\n",
       "    </tr>\n",
       "    <tr>\n",
       "      <th>10830</th>\n",
       "      <td>中央军委 主席 习近平 签署 命令 授予 驻 香港 部队 某旅 特种 作战 一连 荣誉称号 ...</td>\n",
       "      <td>0</td>\n",
       "      <td>1</td>\n",
       "      <td>沈阳日报第A01版</td>\n",
       "    </tr>\n",
       "    <tr>\n",
       "      <th>10833</th>\n",
       "      <td>新华社 北京 6 月 13 日电 记者 郝亚琳 中华人民共和国 与 巴拿马共和国 13 日 ...</td>\n",
       "      <td>0</td>\n",
       "      <td>1</td>\n",
       "      <td>郑州日报第01版</td>\n",
       "    </tr>\n",
       "    <tr>\n",
       "      <th>10835</th>\n",
       "      <td>解读 省 第十一次 党代会 精神 系列 新闻 发布会 举行 第二场</td>\n",
       "      <td>0</td>\n",
       "      <td>1</td>\n",
       "      <td>华西都市报A1</td>\n",
       "    </tr>\n",
       "    <tr>\n",
       "      <th>10837</th>\n",
       "      <td>本报讯 云南日报 记者 陈晓波 李绍明 本报记者 董宇虹 报道 昨日 全国 推进 简政放权 ...</td>\n",
       "      <td>0</td>\n",
       "      <td>1</td>\n",
       "      <td>昆明日报 第A01版</td>\n",
       "    </tr>\n",
       "    <tr>\n",
       "      <th>10840</th>\n",
       "      <td>在 朝 韩 军事 分界线 附近 山林 发现 的 无人机 无人机 飞行 路线 示意图 海外 网...</td>\n",
       "      <td>0</td>\n",
       "      <td>1</td>\n",
       "      <td>海外网</td>\n",
       "    </tr>\n",
       "    <tr>\n",
       "      <th>10843</th>\n",
       "      <td>原 标题 2017 年 6 月 12 日 外交部 发言人 陆慷 主持 例行 记者会 问 第一...</td>\n",
       "      <td>0</td>\n",
       "      <td>1</td>\n",
       "      <td>外交部网站</td>\n",
       "    </tr>\n",
       "    <tr>\n",
       "      <th>10940</th>\n",
       "      <td>原 标题 巴拿马 正式 宣布 与 中国 建立 外交关系 巴拿马 时间 6 月 12 日晚 8...</td>\n",
       "      <td>0</td>\n",
       "      <td>1</td>\n",
       "      <td>央视新闻</td>\n",
       "    </tr>\n",
       "    <tr>\n",
       "      <th>10948</th>\n",
       "      <td>本报讯 记者 孙志刚 徐富 盈文图 本报 率先 并 持续 重磅 报道 的 产妇 雨中 路边 ...</td>\n",
       "      <td>0</td>\n",
       "      <td>1</td>\n",
       "      <td>郑州日报第01版</td>\n",
       "    </tr>\n",
       "    <tr>\n",
       "      <th>10954</th>\n",
       "      <td>授予 在 维护 国家主权 安全 发展 利益 推进 国防 和 军队 现代化 建设 中 建立 卓...</td>\n",
       "      <td>0</td>\n",
       "      <td>1</td>\n",
       "      <td>成都商报第01版</td>\n",
       "    </tr>\n",
       "    <tr>\n",
       "      <th>10955</th>\n",
       "      <td>郑报 融媒 记者 覃 岩峰 史 治国 姚辉 常文图 夏日 的 山里 山风 清凉 在 村干部 ...</td>\n",
       "      <td>0</td>\n",
       "      <td>1</td>\n",
       "      <td>郑州日报第01版</td>\n",
       "    </tr>\n",
       "    <tr>\n",
       "      <th>10958</th>\n",
       "      <td>城乡 社区 是 社会 治理 的 基本 单元 城乡 社区 治理 事关 党和国家 大政方针 贯彻...</td>\n",
       "      <td>0</td>\n",
       "      <td>1</td>\n",
       "      <td>南方日报第01版</td>\n",
       "    </tr>\n",
       "    <tr>\n",
       "      <th>10965</th>\n",
       "      <td>新华社 北京 6 月 12 日电 经 中央军委 主席 习近平 批准 我军 新 设立 八一 勋...</td>\n",
       "      <td>0</td>\n",
       "      <td>1</td>\n",
       "      <td>南方日报第01版</td>\n",
       "    </tr>\n",
       "    <tr>\n",
       "      <th>10974</th>\n",
       "      <td>新华社 电经 中央军委 主席 习近平 批准 我军 新 设立 八一 勋章 并 组织 开展 首次...</td>\n",
       "      <td>0</td>\n",
       "      <td>1</td>\n",
       "      <td>长江日报第1版</td>\n",
       "    </tr>\n",
       "    <tr>\n",
       "      <th>10978</th>\n",
       "      <td>据 新华社 北京 6 月 12 日电 经 中央军委 主席 习近平 批准 我军 新 设立 八一...</td>\n",
       "      <td>0</td>\n",
       "      <td>1</td>\n",
       "      <td>郑州日报第01版</td>\n",
       "    </tr>\n",
       "  </tbody>\n",
       "</table>\n",
       "<p>1079 rows × 4 columns</p>\n",
       "</div>"
      ],
      "text/plain": [
       "                                                 content  y  y_pred  \\\n",
       "51     戈壁 的 大漠 黄沙 曾 掩埋 了 无数 西域 古道 而 如今 一条 大漠 天路 正 顽强 ...  0       1   \n",
       "56     很快 不少 人 主动 添加 记者 为 好友 询问 是否 需要 扫描 软件 并 声称 这些 扫...  0       1   \n",
       "61     在 QQ 搜索 栏 输入 摄像头 破解 就 跳出 了 众多 相关 聊天 群 记者 随机 加入...  0       1   \n",
       "63     2017 年 上海 国际 电影 电视节 包括 6 月 12 日至 16 日 举办 的 第二十...  0       1   \n",
       "65     从 百度 支付宝 到 App 高考 志愿 填报 五花八门 顾 女士 近来 减少 了 刷 朋友...  0       1   \n",
       "70     发现 共享 单车 花式 载人 挡泥板 当 后座 如今 共享 单车 种类 繁多 有 的 共享 ...  0       1   \n",
       "94     中新网 6 月 23 日电 日前 2017 金科 健康 更好 品牌战略 发布 暨 金科 产业...  0       1   \n",
       "99     中新网 成都 6 月 23 日电 记者 段 正阳 23 日 四川省 总工会 四川省 邮政 公...  0       1   \n",
       "111    点击 图片 进入 下 一页 中新网 广州 6 月 23 日电 记者 郭军 6 月 23 日天...  0       1   \n",
       "123    中新社 海口 6 月 23 日电 题 观澜湖 掌门人 朱鼎 健谈 港企 发展 要 更 国际 ...  0       1   \n",
       "124    佩工 或 离开 华夏 幸福 北京 时间 6 月 16 日 英国 媒体 天空 体育 消息 称 ...  0       1   \n",
       "127    经济日报 中国 经济网 记者 廉丹 香港 回归祖国 20 周年 前夕 香港特区 行政长官 梁...  0       1   \n",
       "128    据 法国 媒体 footsur7 报道 法甲 豪门 巴黎 圣日耳曼 盯上 了 上海 上港 外...  0       1   \n",
       "132    点击 图片 进入 下 一页 中新网 宁波 6 月 23 日电 林波夏 森森 6 月 23 日...  0       1   \n",
       "134    点击 图片 进入 下 一页 原 标题 敦煌 印象 乡村 游渐 热 都市 咖啡店 老板 回乡 ...  0       1   \n",
       "137    中新社 大连 6 月 23 日电 记者 杨毅 自 2007 年 以来 世界 经济 论坛 新 ...  0       1   \n",
       "152    东方 卫视 明星 旅游 体验 综艺节目 旅途 的 花样 上 周六 播出 了 第三期 在 经历...  0       1   \n",
       "154    6 月 18 日 2017 微博 电影 之夜 在 上海 盛大 召开 影片 中邪 导演 马凯 ...  0       1   \n",
       "162    北京 时间 6 月 20 日 消息 女王 杯赛 展开 男单 首轮 争夺 5 号 种子 特松加...  0       1   \n",
       "173    关于 巴萨 后卫 球员 马蒂厄 的 未来 各种 消息 一直 交错 纠缠 包括 葡萄牙 体育 ...  0       1   \n",
       "176    环球网 报道 记者 朱佩据 俄通社 塔斯社 6 月 18 日 消息 俄罗斯 总统 普京 接受...  0       1   \n",
       "187    环球 科技 报道 记者 王欢 据 日本 经济 新闻 6 月 18 日 报道 韩国现代 汽车 ...  0       1   \n",
       "232    快件 被 擅自 放入 快递 柜后 无 电话 通知 合规 吗 中消协 近日 发布 一份 报告 ...  0       1   \n",
       "282    中国 证券网 讯 记者 费 天元 沪 深 两市 周五 双双 低开 截至 开盘 上证指数 报 ...  0       1   \n",
       "285    中新网 6 月 23 日电 据人 社部 网站 消息 随着 经济 进入 新 常态 和 人口老龄...  0       1   \n",
       "296    原 标题 各地 物价水平 如何 28 省份 5 月份 CPI 涨幅 扩大 中新网 北京 6 ...  0       1   \n",
       "309    央广网 呼和浩特 6 月 23 日 消息 记者 郑颖 鄂尔多斯 台 记者 杜亚儒 刘冬智佳瑶...  0       1   \n",
       "319    中新网 烟台 6 月 23 日电 张玉雷 记者 23 日 从 烟台市 政府 新闻 办公室 召...  0       1   \n",
       "321    中新社 深圳 6 月 23 日电 题 美中关系 全国 委员会 会长 见证 的 香港 变迁 紫...  0       1   \n",
       "329    新华社 北京 ６ 月 ２ ３ 日电 记者 邢静 幸福 是 人们 对 生活 最 美好 的 期待...  0       1   \n",
       "...                                                  ... ..     ...   \n",
       "10738  本报讯 记者 张倩 6 月 12 日 14 日 2017CRI 中国国际广播电台 中外记者 ...  0       1   \n",
       "10742  环球时报 驻 巴基斯坦 特约记者 王 黎明 环球时报 记者 杜海川 两名 中国 人上 月 在...  0       1   \n",
       "10743  对话 嘉宾 张秋生 中国 澳大利亚 研究会 副会长 江苏 师范大学 教授 王震宇 中国 国际...  0       1   \n",
       "10750  要说 世界 上 最能 打 的 格斗 选手 有 很多 比如 菲多 艾米 连科 凯恩 维拉斯 奎...  0       1   \n",
       "10777  巴拿马 总统 巴雷拉 当地 时间 12 日 发表 全国 电视讲话 宣布 与 中国 建交 中国...  0       1   \n",
       "10780  原 标题 国台办 中巴 建交 是 人心所向 大势所趋 新华社 北京 6 月 13 日电 国台...  0       1   \n",
       "10785  郑报 融媒 记者 覃 岩峰 史 治国 姚辉 常文图 农村 人勤 看天 劳作 清晨 不到 7 ...  0       1   \n",
       "10787  新华社 北京 6 月 13 日电 中央军委 主席 习近平 日前 签署 命令 授予 驻 香港 ...  0       1   \n",
       "10790  南方日报 评论员 南方 时 论 中央宣传部 中央文明办 日前 印发 关于 开展 倡导 绿色 ...  0       1   \n",
       "10791  沈晓明 指出 近年来 省委 省政府 高度重视 放管服 改革 工作 各级 各 部门 积极 转变...  0       1   \n",
       "10798  北京 时间 6 月 11 日 下午 河南建业 俱乐部 在 其 球队 官方 微博上 发布公告 ...  0       1   \n",
       "10805  本报讯 首席记者 杜托 记者 王俊星 报道 开放 走 四方 万里 结 友谊 昨日 上午 第二...  0       1   \n",
       "10811  图文 立交 座座 崛起 江城 步步 提速 楚天 都市报 讯 图为 夜幕 下 的 汉阳 国博 ...  0       1   \n",
       "10817  中共中央国务院 出台 意见 加强 和 完善 城乡 社区 治理 新华社 北京 6 月 12 日...  0       1   \n",
       "10825  据 新华社 北京 6 月 12 日电 经 中央军委 主席 习近平 批准 我军 新 设立 八一...  0       1   \n",
       "10827  原 标题 四川 新娘 要 8800 下车 钱 被 新郎 暴打 当事人 乱说 昨日 开始 一段...  0       1   \n",
       "10830  中央军委 主席 习近平 签署 命令 授予 驻 香港 部队 某旅 特种 作战 一连 荣誉称号 ...  0       1   \n",
       "10833  新华社 北京 6 月 13 日电 记者 郝亚琳 中华人民共和国 与 巴拿马共和国 13 日 ...  0       1   \n",
       "10835                  解读 省 第十一次 党代会 精神 系列 新闻 发布会 举行 第二场  0       1   \n",
       "10837  本报讯 云南日报 记者 陈晓波 李绍明 本报记者 董宇虹 报道 昨日 全国 推进 简政放权 ...  0       1   \n",
       "10840  在 朝 韩 军事 分界线 附近 山林 发现 的 无人机 无人机 飞行 路线 示意图 海外 网...  0       1   \n",
       "10843  原 标题 2017 年 6 月 12 日 外交部 发言人 陆慷 主持 例行 记者会 问 第一...  0       1   \n",
       "10940  原 标题 巴拿马 正式 宣布 与 中国 建立 外交关系 巴拿马 时间 6 月 12 日晚 8...  0       1   \n",
       "10948  本报讯 记者 孙志刚 徐富 盈文图 本报 率先 并 持续 重磅 报道 的 产妇 雨中 路边 ...  0       1   \n",
       "10954  授予 在 维护 国家主权 安全 发展 利益 推进 国防 和 军队 现代化 建设 中 建立 卓...  0       1   \n",
       "10955  郑报 融媒 记者 覃 岩峰 史 治国 姚辉 常文图 夏日 的 山里 山风 清凉 在 村干部 ...  0       1   \n",
       "10958  城乡 社区 是 社会 治理 的 基本 单元 城乡 社区 治理 事关 党和国家 大政方针 贯彻...  0       1   \n",
       "10965  新华社 北京 6 月 12 日电 经 中央军委 主席 习近平 批准 我军 新 设立 八一 勋...  0       1   \n",
       "10974  新华社 电经 中央军委 主席 习近平 批准 我军 新 设立 八一 勋章 并 组织 开展 首次...  0       1   \n",
       "10978  据 新华社 北京 6 月 12 日电 经 中央军委 主席 习近平 批准 我军 新 设立 八一...  0       1   \n",
       "\n",
       "           source  \n",
       "51            新华网  \n",
       "56           央视新闻  \n",
       "61       央视新闻客户端@  \n",
       "63           人民日报  \n",
       "65           新华社@  \n",
       "70          新浪综合@  \n",
       "94          中国新闻网  \n",
       "99          中国新闻网  \n",
       "111         中国新闻网  \n",
       "123         中国新闻网  \n",
       "124          凤凰体育  \n",
       "127          经济日报  \n",
       "128       足球部落国际版  \n",
       "132         中国新闻网  \n",
       "134         中国新闻网  \n",
       "137         中国新闻网  \n",
       "152           环球网  \n",
       "154           环球网  \n",
       "162          新浪体育  \n",
       "173          新浪体育  \n",
       "176           环球网  \n",
       "187           环球网  \n",
       "232        中国新闻网@  \n",
       "282         中国证券网  \n",
       "285           中新网  \n",
       "296         中国新闻网  \n",
       "309           央广网  \n",
       "319         中国新闻网  \n",
       "321         中国新闻网  \n",
       "329           新华网  \n",
       "...           ...  \n",
       "10738    郑州日报第02版  \n",
       "10742        环球时报  \n",
       "10743    南方日报第01版  \n",
       "10750        拳星时代  \n",
       "10777    南方日报第01版  \n",
       "10780    新华社新媒体专线  \n",
       "10785    郑州日报第01版  \n",
       "10787    南方日报第01版  \n",
       "10790    南方日报第01版  \n",
       "10791   海南日报第001版  \n",
       "10798        新浪体育  \n",
       "10805  昆明日报 第A01版  \n",
       "10811    楚天都市报第1版  \n",
       "10817     青海日报第1版  \n",
       "10825   南京日报第A01版  \n",
       "10827        成都晚报  \n",
       "10830   沈阳日报第A01版  \n",
       "10833    郑州日报第01版  \n",
       "10835     华西都市报A1  \n",
       "10837  昆明日报 第A01版  \n",
       "10840         海外网  \n",
       "10843       外交部网站  \n",
       "10940        央视新闻  \n",
       "10948    郑州日报第01版  \n",
       "10954    成都商报第01版  \n",
       "10955    郑州日报第01版  \n",
       "10958    南方日报第01版  \n",
       "10965    南方日报第01版  \n",
       "10974     长江日报第1版  \n",
       "10978    郑州日报第01版  \n",
       "\n",
       "[1079 rows x 4 columns]"
      ]
     },
     "execution_count": 150,
     "metadata": {},
     "output_type": "execute_result"
    }
   ],
   "source": [
    "new_data[(new_data['y'] == 0) & (new_data['y_pred'] == 1)]"
   ]
  },
  {
   "cell_type": "markdown",
   "metadata": {},
   "source": [
    "### Step10： 总结该过程，什么是数据思维？什么是机器学习思维？"
   ]
  },
  {
   "cell_type": "markdown",
   "metadata": {},
   "source": [
    "### (Optional)使用第4课讲解的 edit distance，在涉嫌抄袭的文章中，找到其重复的文字与被修改过的文字。 "
   ]
  },
  {
   "cell_type": "markdown",
   "metadata": {},
   "source": [
    "### Step11: 利用第8课讲述的新模型，进行操作，感受其中不同的参数、模型对性能的影响。"
   ]
  }
 ],
 "metadata": {
  "kernelspec": {
   "display_name": "Python 3",
   "language": "python",
   "name": "python3"
  },
  "language_info": {
   "codemirror_mode": {
    "name": "ipython",
    "version": 3
   },
   "file_extension": ".py",
   "mimetype": "text/x-python",
   "name": "python",
   "nbconvert_exporter": "python",
   "pygments_lexer": "ipython3",
   "version": "3.7.3"
  }
 },
 "nbformat": 4,
 "nbformat_minor": 2
}
