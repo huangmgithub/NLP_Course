{
 "cells": [
  {
   "cell_type": "markdown",
   "metadata": {},
   "source": [
    "## Assignments for Week-02"
   ]
  },
  {
   "cell_type": "markdown",
   "metadata": {},
   "source": [
    "In this course, we learnt what's the search problem and what's the machine leanring. In this assignment, we need you do some more practice."
   ]
  },
  {
   "cell_type": "markdown",
   "metadata": {},
   "source": [
    "### 1. Re-code the house price machine learning"
   ]
  },
  {
   "cell_type": "markdown",
   "metadata": {},
   "source": [
    "* #### Random Choose Method to get optimal *k* and *b*"
   ]
  },
  {
   "cell_type": "code",
   "execution_count": 2,
   "metadata": {},
   "outputs": [],
   "source": [
    "from sklearn.datasets import load_boston"
   ]
  },
  {
   "cell_type": "code",
   "execution_count": 3,
   "metadata": {},
   "outputs": [],
   "source": [
    "data = load_boston()  #房价数据集"
   ]
  },
  {
   "cell_type": "code",
   "execution_count": 22,
   "metadata": {},
   "outputs": [
    {
     "data": {
      "text/plain": [
       "{'data': array([[6.3200e-03, 1.8000e+01, 2.3100e+00, ..., 1.5300e+01, 3.9690e+02,\n",
       "         4.9800e+00],\n",
       "        [2.7310e-02, 0.0000e+00, 7.0700e+00, ..., 1.7800e+01, 3.9690e+02,\n",
       "         9.1400e+00],\n",
       "        [2.7290e-02, 0.0000e+00, 7.0700e+00, ..., 1.7800e+01, 3.9283e+02,\n",
       "         4.0300e+00],\n",
       "        ...,\n",
       "        [6.0760e-02, 0.0000e+00, 1.1930e+01, ..., 2.1000e+01, 3.9690e+02,\n",
       "         5.6400e+00],\n",
       "        [1.0959e-01, 0.0000e+00, 1.1930e+01, ..., 2.1000e+01, 3.9345e+02,\n",
       "         6.4800e+00],\n",
       "        [4.7410e-02, 0.0000e+00, 1.1930e+01, ..., 2.1000e+01, 3.9690e+02,\n",
       "         7.8800e+00]]),\n",
       " 'target': array([24. , 21.6, 34.7, 33.4, 36.2, 28.7, 22.9, 27.1, 16.5, 18.9, 15. ,\n",
       "        18.9, 21.7, 20.4, 18.2, 19.9, 23.1, 17.5, 20.2, 18.2, 13.6, 19.6,\n",
       "        15.2, 14.5, 15.6, 13.9, 16.6, 14.8, 18.4, 21. , 12.7, 14.5, 13.2,\n",
       "        13.1, 13.5, 18.9, 20. , 21. , 24.7, 30.8, 34.9, 26.6, 25.3, 24.7,\n",
       "        21.2, 19.3, 20. , 16.6, 14.4, 19.4, 19.7, 20.5, 25. , 23.4, 18.9,\n",
       "        35.4, 24.7, 31.6, 23.3, 19.6, 18.7, 16. , 22.2, 25. , 33. , 23.5,\n",
       "        19.4, 22. , 17.4, 20.9, 24.2, 21.7, 22.8, 23.4, 24.1, 21.4, 20. ,\n",
       "        20.8, 21.2, 20.3, 28. , 23.9, 24.8, 22.9, 23.9, 26.6, 22.5, 22.2,\n",
       "        23.6, 28.7, 22.6, 22. , 22.9, 25. , 20.6, 28.4, 21.4, 38.7, 43.8,\n",
       "        33.2, 27.5, 26.5, 18.6, 19.3, 20.1, 19.5, 19.5, 20.4, 19.8, 19.4,\n",
       "        21.7, 22.8, 18.8, 18.7, 18.5, 18.3, 21.2, 19.2, 20.4, 19.3, 22. ,\n",
       "        20.3, 20.5, 17.3, 18.8, 21.4, 15.7, 16.2, 18. , 14.3, 19.2, 19.6,\n",
       "        23. , 18.4, 15.6, 18.1, 17.4, 17.1, 13.3, 17.8, 14. , 14.4, 13.4,\n",
       "        15.6, 11.8, 13.8, 15.6, 14.6, 17.8, 15.4, 21.5, 19.6, 15.3, 19.4,\n",
       "        17. , 15.6, 13.1, 41.3, 24.3, 23.3, 27. , 50. , 50. , 50. , 22.7,\n",
       "        25. , 50. , 23.8, 23.8, 22.3, 17.4, 19.1, 23.1, 23.6, 22.6, 29.4,\n",
       "        23.2, 24.6, 29.9, 37.2, 39.8, 36.2, 37.9, 32.5, 26.4, 29.6, 50. ,\n",
       "        32. , 29.8, 34.9, 37. , 30.5, 36.4, 31.1, 29.1, 50. , 33.3, 30.3,\n",
       "        34.6, 34.9, 32.9, 24.1, 42.3, 48.5, 50. , 22.6, 24.4, 22.5, 24.4,\n",
       "        20. , 21.7, 19.3, 22.4, 28.1, 23.7, 25. , 23.3, 28.7, 21.5, 23. ,\n",
       "        26.7, 21.7, 27.5, 30.1, 44.8, 50. , 37.6, 31.6, 46.7, 31.5, 24.3,\n",
       "        31.7, 41.7, 48.3, 29. , 24. , 25.1, 31.5, 23.7, 23.3, 22. , 20.1,\n",
       "        22.2, 23.7, 17.6, 18.5, 24.3, 20.5, 24.5, 26.2, 24.4, 24.8, 29.6,\n",
       "        42.8, 21.9, 20.9, 44. , 50. , 36. , 30.1, 33.8, 43.1, 48.8, 31. ,\n",
       "        36.5, 22.8, 30.7, 50. , 43.5, 20.7, 21.1, 25.2, 24.4, 35.2, 32.4,\n",
       "        32. , 33.2, 33.1, 29.1, 35.1, 45.4, 35.4, 46. , 50. , 32.2, 22. ,\n",
       "        20.1, 23.2, 22.3, 24.8, 28.5, 37.3, 27.9, 23.9, 21.7, 28.6, 27.1,\n",
       "        20.3, 22.5, 29. , 24.8, 22. , 26.4, 33.1, 36.1, 28.4, 33.4, 28.2,\n",
       "        22.8, 20.3, 16.1, 22.1, 19.4, 21.6, 23.8, 16.2, 17.8, 19.8, 23.1,\n",
       "        21. , 23.8, 23.1, 20.4, 18.5, 25. , 24.6, 23. , 22.2, 19.3, 22.6,\n",
       "        19.8, 17.1, 19.4, 22.2, 20.7, 21.1, 19.5, 18.5, 20.6, 19. , 18.7,\n",
       "        32.7, 16.5, 23.9, 31.2, 17.5, 17.2, 23.1, 24.5, 26.6, 22.9, 24.1,\n",
       "        18.6, 30.1, 18.2, 20.6, 17.8, 21.7, 22.7, 22.6, 25. , 19.9, 20.8,\n",
       "        16.8, 21.9, 27.5, 21.9, 23.1, 50. , 50. , 50. , 50. , 50. , 13.8,\n",
       "        13.8, 15. , 13.9, 13.3, 13.1, 10.2, 10.4, 10.9, 11.3, 12.3,  8.8,\n",
       "         7.2, 10.5,  7.4, 10.2, 11.5, 15.1, 23.2,  9.7, 13.8, 12.7, 13.1,\n",
       "        12.5,  8.5,  5. ,  6.3,  5.6,  7.2, 12.1,  8.3,  8.5,  5. , 11.9,\n",
       "        27.9, 17.2, 27.5, 15. , 17.2, 17.9, 16.3,  7. ,  7.2,  7.5, 10.4,\n",
       "         8.8,  8.4, 16.7, 14.2, 20.8, 13.4, 11.7,  8.3, 10.2, 10.9, 11. ,\n",
       "         9.5, 14.5, 14.1, 16.1, 14.3, 11.7, 13.4,  9.6,  8.7,  8.4, 12.8,\n",
       "        10.5, 17.1, 18.4, 15.4, 10.8, 11.8, 14.9, 12.6, 14.1, 13. , 13.4,\n",
       "        15.2, 16.1, 17.8, 14.9, 14.1, 12.7, 13.5, 14.9, 20. , 16.4, 17.7,\n",
       "        19.5, 20.2, 21.4, 19.9, 19. , 19.1, 19.1, 20.1, 19.9, 19.6, 23.2,\n",
       "        29.8, 13.8, 13.3, 16.7, 12. , 14.6, 21.4, 23. , 23.7, 25. , 21.8,\n",
       "        20.6, 21.2, 19.1, 20.6, 15.2,  7. ,  8.1, 13.6, 20.1, 21.8, 24.5,\n",
       "        23.1, 19.7, 18.3, 21.2, 17.5, 16.8, 22.4, 20.6, 23.9, 22. , 11.9]),\n",
       " 'feature_names': array(['CRIM', 'ZN', 'INDUS', 'CHAS', 'NOX', 'RM', 'AGE', 'DIS', 'RAD',\n",
       "        'TAX', 'PTRATIO', 'B', 'LSTAT'], dtype='<U7'),\n",
       " 'DESCR': \".. _boston_dataset:\\n\\nBoston house prices dataset\\n---------------------------\\n\\n**Data Set Characteristics:**  \\n\\n    :Number of Instances: 506 \\n\\n    :Number of Attributes: 13 numeric/categorical predictive. Median Value (attribute 14) is usually the target.\\n\\n    :Attribute Information (in order):\\n        - CRIM     per capita crime rate by town\\n        - ZN       proportion of residential land zoned for lots over 25,000 sq.ft.\\n        - INDUS    proportion of non-retail business acres per town\\n        - CHAS     Charles River dummy variable (= 1 if tract bounds river; 0 otherwise)\\n        - NOX      nitric oxides concentration (parts per 10 million)\\n        - RM       average number of rooms per dwelling\\n        - AGE      proportion of owner-occupied units built prior to 1940\\n        - DIS      weighted distances to five Boston employment centres\\n        - RAD      index of accessibility to radial highways\\n        - TAX      full-value property-tax rate per $10,000\\n        - PTRATIO  pupil-teacher ratio by town\\n        - B        1000(Bk - 0.63)^2 where Bk is the proportion of blacks by town\\n        - LSTAT    % lower status of the population\\n        - MEDV     Median value of owner-occupied homes in $1000's\\n\\n    :Missing Attribute Values: None\\n\\n    :Creator: Harrison, D. and Rubinfeld, D.L.\\n\\nThis is a copy of UCI ML housing dataset.\\nhttps://archive.ics.uci.edu/ml/machine-learning-databases/housing/\\n\\n\\nThis dataset was taken from the StatLib library which is maintained at Carnegie Mellon University.\\n\\nThe Boston house-price data of Harrison, D. and Rubinfeld, D.L. 'Hedonic\\nprices and the demand for clean air', J. Environ. Economics & Management,\\nvol.5, 81-102, 1978.   Used in Belsley, Kuh & Welsch, 'Regression diagnostics\\n...', Wiley, 1980.   N.B. Various transformations are used in the table on\\npages 244-261 of the latter.\\n\\nThe Boston house-price data has been used in many machine learning papers that address regression\\nproblems.   \\n     \\n.. topic:: References\\n\\n   - Belsley, Kuh & Welsch, 'Regression diagnostics: Identifying Influential Data and Sources of Collinearity', Wiley, 1980. 244-261.\\n   - Quinlan,R. (1993). Combining Instance-Based and Model-Based Learning. In Proceedings on the Tenth International Conference of Machine Learning, 236-243, University of Massachusetts, Amherst. Morgan Kaufmann.\\n\",\n",
       " 'filename': 'F:\\\\Anaconda3\\\\lib\\\\site-packages\\\\sklearn\\\\datasets\\\\data\\\\boston_house_prices.csv'}"
      ]
     },
     "execution_count": 22,
     "metadata": {},
     "output_type": "execute_result"
    }
   ],
   "source": [
    "data"
   ]
  },
  {
   "cell_type": "code",
   "execution_count": 28,
   "metadata": {
    "scrolled": true
   },
   "outputs": [
    {
     "data": {
      "text/plain": [
       "array(['CRIM', 'ZN', 'INDUS', 'CHAS', 'NOX', 'RM', 'AGE', 'DIS', 'RAD',\n",
       "       'TAX', 'PTRATIO', 'B', 'LSTAT'], dtype='<U7')"
      ]
     },
     "execution_count": 28,
     "metadata": {},
     "output_type": "execute_result"
    }
   ],
   "source": [
    "data[\"feature_names\"]"
   ]
  },
  {
   "cell_type": "code",
   "execution_count": 4,
   "metadata": {},
   "outputs": [],
   "source": [
    "X, Y = data[\"data\"], data[\"target\"]"
   ]
  },
  {
   "cell_type": "code",
   "execution_count": 5,
   "metadata": {
    "scrolled": true
   },
   "outputs": [
    {
     "data": {
      "text/plain": [
       "array([2.7310e-02, 0.0000e+00, 7.0700e+00, 0.0000e+00, 4.6900e-01,\n",
       "       6.4210e+00, 7.8900e+01, 4.9671e+00, 2.0000e+00, 2.4200e+02,\n",
       "       1.7800e+01, 3.9690e+02, 9.1400e+00])"
      ]
     },
     "execution_count": 5,
     "metadata": {},
     "output_type": "execute_result"
    }
   ],
   "source": [
    "X[1]"
   ]
  },
  {
   "cell_type": "code",
   "execution_count": 20,
   "metadata": {},
   "outputs": [
    {
     "data": {
      "text/plain": [
       "506"
      ]
     },
     "execution_count": 20,
     "metadata": {},
     "output_type": "execute_result"
    }
   ],
   "source": [
    "len(Y)"
   ]
  },
  {
   "cell_type": "code",
   "execution_count": 43,
   "metadata": {},
   "outputs": [
    {
     "data": {
      "text/plain": [
       "array([ 2.31,  7.07,  7.07,  2.18,  2.18,  2.18,  7.87,  7.87,  7.87,\n",
       "        7.87,  7.87,  7.87,  7.87,  8.14,  8.14,  8.14,  8.14,  8.14,\n",
       "        8.14,  8.14,  8.14,  8.14,  8.14,  8.14,  8.14,  8.14,  8.14,\n",
       "        8.14,  8.14,  8.14,  8.14,  8.14,  8.14,  8.14,  8.14,  5.96,\n",
       "        5.96,  5.96,  5.96,  2.95,  2.95,  6.91,  6.91,  6.91,  6.91,\n",
       "        6.91,  6.91,  6.91,  6.91,  6.91,  5.64,  5.64,  5.64,  5.64,\n",
       "        4.  ,  1.22,  0.74,  1.32,  5.13,  5.13,  5.13,  5.13,  5.13,\n",
       "        5.13,  1.38,  3.37,  3.37,  6.07,  6.07,  6.07, 10.81, 10.81,\n",
       "       10.81, 10.81, 12.83, 12.83, 12.83, 12.83, 12.83, 12.83,  4.86,\n",
       "        4.86,  4.86,  4.86,  4.49,  4.49,  4.49,  4.49,  3.41,  3.41,\n",
       "        3.41,  3.41, 15.04, 15.04, 15.04,  2.89,  2.89,  2.89,  2.89,\n",
       "        2.89,  8.56,  8.56,  8.56,  8.56,  8.56,  8.56,  8.56,  8.56,\n",
       "        8.56,  8.56,  8.56, 10.01, 10.01, 10.01, 10.01, 10.01, 10.01,\n",
       "       10.01, 10.01, 10.01, 25.65, 25.65, 25.65, 25.65, 25.65, 25.65,\n",
       "       25.65, 21.89, 21.89, 21.89, 21.89, 21.89, 21.89, 21.89, 21.89,\n",
       "       21.89, 21.89, 21.89, 21.89, 21.89, 21.89, 21.89, 19.58, 19.58,\n",
       "       19.58, 19.58, 19.58, 19.58, 19.58, 19.58, 19.58, 19.58, 19.58,\n",
       "       19.58, 19.58, 19.58, 19.58, 19.58, 19.58, 19.58, 19.58, 19.58,\n",
       "       19.58, 19.58, 19.58, 19.58, 19.58, 19.58, 19.58, 19.58, 19.58,\n",
       "       19.58,  4.05,  4.05,  4.05,  4.05,  4.05,  4.05,  4.05,  2.46,\n",
       "        2.46,  2.46,  2.46,  2.46,  2.46,  2.46,  2.46,  3.44,  3.44,\n",
       "        3.44,  3.44,  3.44,  3.44,  2.93,  2.93,  0.46,  1.52,  1.52,\n",
       "        1.52,  1.47,  1.47,  2.03,  2.03,  2.68,  2.68, 10.59, 10.59,\n",
       "       10.59, 10.59, 10.59, 10.59, 10.59, 10.59, 10.59, 10.59, 10.59,\n",
       "       13.89, 13.89, 13.89, 13.89,  6.2 ,  6.2 ,  6.2 ,  6.2 ,  6.2 ,\n",
       "        6.2 ,  6.2 ,  6.2 ,  6.2 ,  6.2 ,  6.2 ,  6.2 ,  6.2 ,  6.2 ,\n",
       "        6.2 ,  6.2 ,  6.2 ,  6.2 ,  4.93,  4.93,  4.93,  4.93,  4.93,\n",
       "        4.93,  5.86,  5.86,  5.86,  5.86,  5.86,  5.86,  5.86,  5.86,\n",
       "        5.86,  5.86,  3.64,  3.64,  3.75,  3.97,  3.97,  3.97,  3.97,\n",
       "        3.97,  3.97,  3.97,  3.97,  3.97,  3.97,  3.97,  3.97,  6.96,\n",
       "        6.96,  6.96,  6.96,  6.96,  6.41,  6.41,  6.41,  6.41,  6.41,\n",
       "        3.33,  3.33,  3.33,  3.33,  1.21,  2.97,  2.25,  1.76,  5.32,\n",
       "        5.32,  5.32,  4.95,  4.95,  4.95, 13.92, 13.92, 13.92, 13.92,\n",
       "       13.92,  2.24,  2.24,  2.24,  6.09,  6.09,  6.09,  2.18,  2.18,\n",
       "        2.18,  2.18,  9.9 ,  9.9 ,  9.9 ,  9.9 ,  9.9 ,  9.9 ,  9.9 ,\n",
       "        9.9 ,  9.9 ,  9.9 ,  9.9 ,  9.9 ,  7.38,  7.38,  7.38,  7.38,\n",
       "        7.38,  7.38,  7.38,  7.38,  3.24,  3.24,  3.24,  6.06,  6.06,\n",
       "        5.19,  5.19,  5.19,  5.19,  5.19,  5.19,  5.19,  5.19,  1.52,\n",
       "        1.89,  3.78,  3.78,  4.39,  4.39,  4.15,  2.01,  1.25,  1.25,\n",
       "        1.69,  1.69,  2.02,  1.91,  1.91, 18.1 , 18.1 , 18.1 , 18.1 ,\n",
       "       18.1 , 18.1 , 18.1 , 18.1 , 18.1 , 18.1 , 18.1 , 18.1 , 18.1 ,\n",
       "       18.1 , 18.1 , 18.1 , 18.1 , 18.1 , 18.1 , 18.1 , 18.1 , 18.1 ,\n",
       "       18.1 , 18.1 , 18.1 , 18.1 , 18.1 , 18.1 , 18.1 , 18.1 , 18.1 ,\n",
       "       18.1 , 18.1 , 18.1 , 18.1 , 18.1 , 18.1 , 18.1 , 18.1 , 18.1 ,\n",
       "       18.1 , 18.1 , 18.1 , 18.1 , 18.1 , 18.1 , 18.1 , 18.1 , 18.1 ,\n",
       "       18.1 , 18.1 , 18.1 , 18.1 , 18.1 , 18.1 , 18.1 , 18.1 , 18.1 ,\n",
       "       18.1 , 18.1 , 18.1 , 18.1 , 18.1 , 18.1 , 18.1 , 18.1 , 18.1 ,\n",
       "       18.1 , 18.1 , 18.1 , 18.1 , 18.1 , 18.1 , 18.1 , 18.1 , 18.1 ,\n",
       "       18.1 , 18.1 , 18.1 , 18.1 , 18.1 , 18.1 , 18.1 , 18.1 , 18.1 ,\n",
       "       18.1 , 18.1 , 18.1 , 18.1 , 18.1 , 18.1 , 18.1 , 18.1 , 18.1 ,\n",
       "       18.1 , 18.1 , 18.1 , 18.1 , 18.1 , 18.1 , 18.1 , 18.1 , 18.1 ,\n",
       "       18.1 , 18.1 , 18.1 , 18.1 , 18.1 , 18.1 , 18.1 , 18.1 , 18.1 ,\n",
       "       18.1 , 18.1 , 18.1 , 18.1 , 18.1 , 18.1 , 18.1 , 18.1 , 18.1 ,\n",
       "       18.1 , 18.1 , 18.1 , 18.1 , 18.1 , 18.1 , 18.1 , 18.1 , 18.1 ,\n",
       "       18.1 , 18.1 , 27.74, 27.74, 27.74, 27.74, 27.74,  9.69,  9.69,\n",
       "        9.69,  9.69,  9.69,  9.69,  9.69,  9.69, 11.93, 11.93, 11.93,\n",
       "       11.93, 11.93])"
      ]
     },
     "execution_count": 43,
     "metadata": {},
     "output_type": "execute_result"
    }
   ],
   "source": [
    "X[:,2]"
   ]
  },
  {
   "cell_type": "code",
   "execution_count": 29,
   "metadata": {},
   "outputs": [],
   "source": [
    "def price(fea, k, b):\n",
    "    \"\"\"价格函数，f(x) = k * x + b\"\"\"\n",
    "    return k * fea + b"
   ]
  },
  {
   "cell_type": "code",
   "execution_count": 7,
   "metadata": {},
   "outputs": [],
   "source": [
    "import matplotlib.pyplot as plt"
   ]
  },
  {
   "cell_type": "code",
   "execution_count": 35,
   "metadata": {},
   "outputs": [],
   "source": [
    "def draw_fea_and_price(x):\n",
    "    \"\"\"画出rm和房价关系图\"\"\"\n",
    "    plt.scatter(x, Y)"
   ]
  },
  {
   "cell_type": "code",
   "execution_count": 50,
   "metadata": {},
   "outputs": [
    {
     "data": {
      "image/png": "[encoded data removed]",
      "text/plain": [
       "<Figure size 432x288 with 1 Axes>"
      ]
     },
     "metadata": {
      "needs_background": "light"
     },
     "output_type": "display_data"
    }
   ],
   "source": [
    "draw_fea_and_price(X[:,5])"
   ]
  },
  {
   "cell_type": "markdown",
   "metadata": {},
   "source": [
    "### Loss Function\n",
    "\n",
    "$$ loss = \\frac{1}{n} \\sum{(y_i - \\hat{y_i})}$$"
   ]
  },
  {
   "cell_type": "code",
   "execution_count": 27,
   "metadata": {},
   "outputs": [],
   "source": [
    "def loss_function(y, y_hat):\n",
    "    \"\"\"损失函数\"\"\"\n",
    "    return sum((y_i - y_hat_i) ** 2 for y_i, y_hat_i in zip(list(y), list(y_hat))) / len(list(y))"
   ]
  },
  {
   "cell_type": "code",
   "execution_count": 11,
   "metadata": {},
   "outputs": [],
   "source": [
    "import random"
   ]
  },
  {
   "cell_type": "code",
   "execution_count": 12,
   "metadata": {},
   "outputs": [],
   "source": [
    "X_rm = X[:, 5]"
   ]
  },
  {
   "cell_type": "code",
   "execution_count": 62,
   "metadata": {
    "scrolled": false
   },
   "outputs": [],
   "source": [
    "def random_learning_function(times):\n",
    "\n",
    "    min_loss = float('inf') #正无穷\n",
    "    best_k = None\n",
    "    best_b = None\n",
    "\n",
    "    for i in range(times):\n",
    "        k = random.random() * 200 - 100\n",
    "        b = random.random() * 200 - 100\n",
    "        price_by_random_k_and_b = [price(r, k, b) for r in X_rm] #随机得来的y_hat\n",
    "\n",
    "        current_loss = loss_function(Y, price_by_random_k_and_b)\n",
    "\n",
    "        if current_loss < min_loss:\n",
    "            min_loss = current_loss\n",
    "\n",
    "            best_k, best_b = k, b\n",
    "            print(\"When time is :%s, get best_k:%s best_b:%s, and loss is:%s\" % (i, best_k, best_b, min_loss))"
   ]
  },
  {
   "cell_type": "code",
   "execution_count": 65,
   "metadata": {},
   "outputs": [
    {
     "name": "stdout",
     "output_type": "stream",
     "text": [
      "When time is :0, get best_k:10.175882441183234 best_b:-19.302628090726003, and loss is:533.2978590595221\n",
      "When time is :21, get best_k:-6.503475792135987 best_b:66.7584530836314, and loss is:174.83588847891568\n",
      "When time is :24, get best_k:1.2364493643955115 best_b:17.715103299677537, and loss is:82.80270629326017\n",
      "When time is :52, get best_k:8.393022010385039 best_b:-33.286286802833104, and loss is:53.28557802835524\n",
      "When time is :859, get best_k:7.2938297983080105 best_b:-24.30541505906227, and loss is:46.209939179818605\n"
     ]
    }
   ],
   "source": [
    "random_learning_function(2500)"
   ]
  },
  {
   "cell_type": "code",
   "execution_count": 67,
   "metadata": {},
   "outputs": [
    {
     "data": {
      "text/plain": [
       "<matplotlib.collections.PathCollection at 0x25dc1a8f7b8>"
      ]
     },
     "execution_count": 67,
     "metadata": {},
     "output_type": "execute_result"
    },
    {
     "data": {
      "image/png": "[encoded data removed]",
      "text/plain": [
       "<Figure size 432x288 with 1 Axes>"
      ]
     },
     "metadata": {
      "needs_background": "light"
     },
     "output_type": "display_data"
    }
   ],
   "source": [
    "# 根据上面运行情况，尝试k,b值\n",
    "X_rm = X[:, 5]\n",
    "k = 15\n",
    "b = -68\n",
    "price_by_random_k_and_b = [price(r, k, b) for r in X_rm]\n",
    "\n",
    "draw_fea_and_price(X_rm)\n",
    "plt.scatter(X_rm, price_by_random_k_and_b)"
   ]
  },
  {
   "cell_type": "markdown",
   "metadata": {},
   "source": [
    "* #### Supervised Direction to get optimal *k* and *b*"
   ]
  },
  {
   "cell_type": "code",
   "execution_count": 75,
   "metadata": {},
   "outputs": [],
   "source": [
    "def supervised_learning_function_1(times, scalar):\n",
    "    \"\"\"\n",
    "    times: 次数\n",
    "    scalar：步长\n",
    "    \"\"\"\n",
    "    min_loss = float('inf') #正无穷\n",
    "    best_k = random.random() * 200 - 100\n",
    "    best_b = random.random() * 200 - 100\n",
    "    \n",
    "    # 方向\n",
    "    direction = [ (+1, -1),(+1, +1),(-1, +1),(-1, -1)]\n",
    "\n",
    "    current_direction = random.choice(direction)\n",
    "\n",
    "    for i in range(times):\n",
    "        k_direction, b_direction = current_direction\n",
    "\n",
    "        current_k, current_b = best_k + k_direction * scalar, best_b + b_direction * scalar\n",
    "\n",
    "        price_by_random_k_and_b = [price(r, current_k, current_b) for r in X_rm] #y_hat\n",
    "\n",
    "        current_loss = loss(Y, price_by_random_k_and_b)\n",
    "\n",
    "        if current_loss < min_loss:\n",
    "            min_loss = current_loss\n",
    "            best_k, best_b = current_k, current_b\n",
    "            current_direction = current_direction\n",
    "            \n",
    "            print(\"When time is :%s, get best_k:%s best_b:%s, and loss is:%s\" % (i, best_k, best_b, min_loss))\n",
    "        else:\n",
    "            current_direction = random.choice(direction)"
   ]
  },
  {
   "cell_type": "code",
   "execution_count": 76,
   "metadata": {},
   "outputs": [
    {
     "name": "stdout",
     "output_type": "stream",
     "text": [
      "When time is :0, get best_k:42.83756138659355 best_b:-87.85201856620323, and loss is:158.83358647016468\n",
      "When time is :6, get best_k:42.637561386593546 best_b:-88.05201856620323, and loss is:157.37665959269424\n",
      "When time is :7, get best_k:42.43756138659354 best_b:-88.25201856620323, and loss is:155.91973271522383\n",
      "When time is :8, get best_k:42.23756138659354 best_b:-88.45201856620324, and loss is:154.46280583775348\n",
      "When time is :9, get best_k:42.03756138659354 best_b:-88.65201856620324, and loss is:153.00587896028293\n",
      "When time is :10, get best_k:41.837561386593535 best_b:-88.85201856620324, and loss is:151.54895208281283\n",
      "When time is :11, get best_k:41.63756138659353 best_b:-89.05201856620324, and loss is:150.09202520534242\n",
      "When time is :12, get best_k:41.43756138659353 best_b:-89.25201856620325, and loss is:148.63509832787196\n",
      "When time is :13, get best_k:41.237561386593526 best_b:-89.45201856620325, and loss is:147.17817145040172\n",
      "When time is :14, get best_k:41.037561386593524 best_b:-89.65201856620325, and loss is:145.72124457293134\n",
      "When time is :15, get best_k:40.83756138659352 best_b:-89.85201856620326, and loss is:144.26431769546087\n",
      "When time is :16, get best_k:40.63756138659352 best_b:-90.05201856620326, and loss is:142.80739081799067\n",
      "When time is :17, get best_k:40.437561386593515 best_b:-90.25201856620326, and loss is:141.35046394052023\n",
      "When time is :18, get best_k:40.23756138659351 best_b:-90.45201856620326, and loss is:139.89353706304965\n",
      "When time is :19, get best_k:40.03756138659351 best_b:-90.65201856620327, and loss is:138.4366101855794\n",
      "When time is :20, get best_k:39.83756138659351 best_b:-90.85201856620327, and loss is:136.97968330810892\n",
      "When time is :21, get best_k:39.637561386593504 best_b:-91.05201856620327, and loss is:135.5227564306386\n",
      "When time is :22, get best_k:39.4375613865935 best_b:-91.25201856620328, and loss is:134.06582955316838\n",
      "When time is :23, get best_k:39.2375613865935 best_b:-91.45201856620328, and loss is:132.60890267569783\n",
      "When time is :24, get best_k:39.037561386593495 best_b:-91.65201856620328, and loss is:131.15197579822743\n",
      "When time is :25, get best_k:38.83756138659349 best_b:-91.85201856620328, and loss is:129.69504892075705\n",
      "When time is :26, get best_k:38.63756138659349 best_b:-92.05201856620329, and loss is:128.23812204328698\n",
      "When time is :27, get best_k:38.43756138659349 best_b:-92.25201856620329, and loss is:126.78119516581631\n",
      "When time is :28, get best_k:38.237561386593484 best_b:-92.4520185662033, and loss is:125.32426828834592\n",
      "When time is :29, get best_k:38.03756138659348 best_b:-92.6520185662033, and loss is:123.86734141087555\n",
      "When time is :30, get best_k:37.83756138659348 best_b:-92.8520185662033, and loss is:122.41041453340517\n",
      "When time is :31, get best_k:37.637561386593475 best_b:-93.0520185662033, and loss is:120.95348765593488\n",
      "When time is :32, get best_k:37.43756138659347 best_b:-93.2520185662033, and loss is:119.49656077846453\n",
      "When time is :33, get best_k:37.23756138659347 best_b:-93.45201856620331, and loss is:118.03963390099399\n",
      "When time is :34, get best_k:37.03756138659347 best_b:-93.65201856620331, and loss is:116.58270702352372\n",
      "When time is :35, get best_k:36.837561386593464 best_b:-93.85201856620331, and loss is:115.12578014605336\n",
      "When time is :36, get best_k:36.63756138659346 best_b:-94.05201856620332, and loss is:113.66885326858302\n",
      "When time is :37, get best_k:36.43756138659346 best_b:-94.25201856620332, and loss is:112.21192639111264\n",
      "When time is :38, get best_k:36.237561386593455 best_b:-94.45201856620332, and loss is:110.75499951364228\n",
      "When time is :39, get best_k:36.03756138659345 best_b:-94.65201856620332, and loss is:109.29807263617177\n",
      "When time is :40, get best_k:35.83756138659345 best_b:-94.85201856620333, and loss is:107.84114575870147\n",
      "When time is :41, get best_k:35.63756138659345 best_b:-95.05201856620333, and loss is:106.38421888123116\n",
      "When time is :42, get best_k:35.437561386593444 best_b:-95.25201856620333, and loss is:104.9272920037608\n",
      "When time is :43, get best_k:35.23756138659344 best_b:-95.45201856620334, and loss is:103.47036512629029\n",
      "When time is :44, get best_k:35.03756138659344 best_b:-95.65201856620334, and loss is:102.01343824881997\n",
      "When time is :45, get best_k:34.837561386593435 best_b:-95.85201856620334, and loss is:100.55651137134959\n",
      "When time is :46, get best_k:34.63756138659343 best_b:-96.05201856620334, and loss is:99.10040529415015\n",
      "When time is :47, get best_k:34.43756138659343 best_b:-96.25201856620335, and loss is:97.64708395027668\n",
      "When time is :48, get best_k:34.23756138659343 best_b:-96.45201856620335, and loss is:96.19376260640315\n",
      "When time is :49, get best_k:34.037561386593424 best_b:-96.65201856620335, and loss is:94.74044126252954\n",
      "When time is :50, get best_k:33.83756138659342 best_b:-96.85201856620336, and loss is:93.287119918656\n",
      "When time is :51, get best_k:33.63756138659342 best_b:-97.05201856620336, and loss is:91.83379857478253\n",
      "When time is :52, get best_k:33.437561386593416 best_b:-97.25201856620336, and loss is:90.38047723090894\n",
      "When time is :53, get best_k:33.23756138659341 best_b:-97.45201856620336, and loss is:88.92715588703531\n",
      "When time is :54, get best_k:33.03756138659341 best_b:-97.65201856620337, and loss is:87.4738345431619\n",
      "When time is :55, get best_k:32.83756138659341 best_b:-97.85201856620337, and loss is:86.02051319928829\n",
      "When time is :56, get best_k:32.637561386593404 best_b:-98.05201856620337, and loss is:84.56719185541475\n",
      "When time is :57, get best_k:32.4375613865934 best_b:-98.25201856620338, and loss is:83.11387051154122\n",
      "When time is :58, get best_k:32.2375613865934 best_b:-98.45201856620338, and loss is:81.6605491676677\n",
      "When time is :59, get best_k:32.037561386593396 best_b:-98.65201856620338, and loss is:80.20722782379417\n",
      "When time is :60, get best_k:31.837561386593396 best_b:-98.85201856620338, and loss is:78.7539064799206\n",
      "When time is :61, get best_k:31.637561386593397 best_b:-99.05201856620339, and loss is:77.30058513604709\n",
      "When time is :62, get best_k:31.437561386593398 best_b:-99.25201856620339, and loss is:75.85085556659973\n",
      "When time is :63, get best_k:31.2375613865934 best_b:-99.45201856620339, and loss is:74.40137849150086\n",
      "When time is :64, get best_k:31.0375613865934 best_b:-99.6520185662034, and loss is:72.95190141640211\n",
      "When time is :65, get best_k:30.8375613865934 best_b:-99.8520185662034, and loss is:71.5024243413032\n",
      "When time is :66, get best_k:30.6375613865934 best_b:-100.0520185662034, and loss is:70.05294726620444\n",
      "When time is :67, get best_k:30.4375613865934 best_b:-100.2520185662034, and loss is:68.60347019110567\n",
      "When time is :68, get best_k:30.237561386593402 best_b:-100.4520185662034, and loss is:67.15467034317997\n",
      "When time is :69, get best_k:30.037561386593403 best_b:-100.65201856620341, and loss is:65.70991263567021\n",
      "When time is :70, get best_k:29.837561386593404 best_b:-100.85201856620341, and loss is:64.26515492816029\n",
      "When time is :71, get best_k:29.637561386593404 best_b:-101.05201856620342, and loss is:62.82039722065041\n",
      "When time is :72, get best_k:29.437561386593405 best_b:-101.25201856620342, and loss is:61.375639513140555\n",
      "When time is :73, get best_k:29.237561386593406 best_b:-101.45201856620342, and loss is:59.93088180563063\n",
      "When time is :74, get best_k:29.037561386593406 best_b:-101.65201856620342, and loss is:58.486124098120726\n",
      "When time is :75, get best_k:28.837561386593407 best_b:-101.85201856620343, and loss is:57.04136639061086\n",
      "When time is :76, get best_k:28.637561386593408 best_b:-102.05201856620343, and loss is:55.59660868310104\n",
      "When time is :77, get best_k:28.43756138659341 best_b:-102.25201856620343, and loss is:54.15185097559114\n",
      "When time is :78, get best_k:28.23756138659341 best_b:-102.45201856620344, and loss is:52.70709326808126\n",
      "When time is :79, get best_k:28.03756138659341 best_b:-102.65201856620344, and loss is:51.264045400683926\n",
      "When time is :80, get best_k:27.83756138659341 best_b:-102.85201856620344, and loss is:49.823349353253086\n",
      "When time is :81, get best_k:27.63756138659341 best_b:-103.05201856620344, and loss is:48.38497658467005\n",
      "When time is :82, get best_k:27.437561386593412 best_b:-103.25201856620345, and loss is:46.94834219731824\n",
      "When time is :83, get best_k:27.237561386593413 best_b:-103.45201856620345, and loss is:45.511707809966474\n",
      "When time is :84, get best_k:27.037561386593413 best_b:-103.65201856620345, and loss is:44.07507342261469\n",
      "When time is :85, get best_k:26.837561386593414 best_b:-103.85201856620345, and loss is:42.63843903526288\n",
      "When time is :86, get best_k:26.637561386593415 best_b:-104.05201856620346, and loss is:41.20180464791119\n",
      "When time is :87, get best_k:26.437561386593416 best_b:-104.25201856620346, and loss is:39.76517026055938\n",
      "When time is :88, get best_k:26.237561386593416 best_b:-104.45201856620346, and loss is:38.33340120873731\n",
      "When time is :89, get best_k:26.037561386593417 best_b:-104.65201856620347, and loss is:36.90665061585194\n",
      "When time is :90, get best_k:25.837561386593418 best_b:-104.85201856620347, and loss is:35.48303658592922\n",
      "When time is :91, get best_k:25.63756138659342 best_b:-105.05201856620347, and loss is:34.06052947130473\n",
      "When time is :92, get best_k:25.43756138659342 best_b:-105.25201856620347, and loss is:32.641601018358244\n",
      "When time is :93, get best_k:25.23756138659342 best_b:-105.45201856620348, and loss is:31.22380773772584\n",
      "When time is :94, get best_k:25.03756138659342 best_b:-105.65201856620348, and loss is:29.806087725817317\n",
      "When time is :95, get best_k:24.83756138659342 best_b:-105.85201856620348, and loss is:28.399606546591848\n",
      "When time is :96, get best_k:24.637561386593422 best_b:-106.05201856620349, and loss is:26.996348443825063\n",
      "When time is :97, get best_k:24.437561386593423 best_b:-106.25201856620349, and loss is:25.598853026315595\n",
      "When time is :98, get best_k:24.237561386593423 best_b:-106.45201856620349, and loss is:24.210750500215134\n",
      "When time is :99, get best_k:24.037561386593424 best_b:-106.6520185662035, and loss is:22.831316466209547\n",
      "When time is :100, get best_k:23.837561386593425 best_b:-106.8520185662035, and loss is:21.473614522112587\n",
      "When time is :101, get best_k:23.637561386593426 best_b:-107.0520185662035, and loss is:20.13448064655237\n",
      "When time is :102, get best_k:23.437561386593426 best_b:-107.2520185662035, and loss is:18.80511896807458\n",
      "When time is :103, get best_k:23.237561386593427 best_b:-107.4520185662035, and loss is:17.506719067209538\n",
      "When time is :104, get best_k:23.037561386593428 best_b:-107.65201856620351, and loss is:16.219337824143214\n",
      "When time is :105, get best_k:22.83756138659343 best_b:-107.85201856620351, and loss is:14.943108996353972\n",
      "When time is :106, get best_k:22.63756138659343 best_b:-108.05201856620351, and loss is:13.683557890940568\n",
      "When time is :107, get best_k:22.43756138659343 best_b:-108.25201856620352, and loss is:12.475166467542243\n",
      "When time is :108, get best_k:22.23756138659343 best_b:-108.45201856620352, and loss is:11.34990084930677\n",
      "When time is :109, get best_k:22.03756138659343 best_b:-108.65201856620352, and loss is:10.325751412387218\n",
      "When time is :110, get best_k:21.837561386593432 best_b:-108.85201856620353, and loss is:9.429619775729828\n",
      "When time is :111, get best_k:21.637561386593433 best_b:-109.05201856620353, and loss is:8.691020914760035\n",
      "When time is :112, get best_k:21.437561386593433 best_b:-109.25201856620353, and loss is:8.139633613219775\n",
      "When time is :113, get best_k:21.237561386593434 best_b:-109.45201856620353, and loss is:7.76067400956896\n",
      "When time is :114, get best_k:21.037561386593435 best_b:-109.65201856620354, and loss is:7.54343824277975\n",
      "When time is :115, get best_k:20.837561386593435 best_b:-109.85201856620354, and loss is:7.505500895058657\n"
     ]
    }
   ],
   "source": [
    "supervised_learning_function_1(2500, 0.2)"
   ]
  },
  {
   "cell_type": "markdown",
   "metadata": {},
   "source": [
    "* #### Gradient Descent to get optimal *k* and *b*"
   ]
  },
  {
   "cell_type": "markdown",
   "metadata": {},
   "source": [
    "Next Lesson Homework"
   ]
  },
  {
   "cell_type": "markdown",
   "metadata": {},
   "source": [
    "* #### Try different Loss function and learning rate.\n",
    "\n",
    "For example, you can change the loss function: $Loss = \\frac{1}{n} sum({y_i - \\hat{y_i}})^2$ to $Loss = \\frac{1}{n} sum(|{y_i - \\hat{y_i}}|)$\n",
    "\n",
    "And you can change the learning rate and observe the performance."
   ]
  },
  {
   "cell_type": "code",
   "execution_count": 16,
   "metadata": {},
   "outputs": [],
   "source": [
    "def loss_function(y, y_hat):\n",
    "    \"\"\"a new loss function\"\"\"\n",
    "    return sum(abs(y_i - y_hat_i) for y_i, y_hat_i in zip(list(y), list(y_hat))) / len(list(y))"
   ]
  },
  {
   "cell_type": "code",
   "execution_count": 79,
   "metadata": {},
   "outputs": [],
   "source": [
    "def supervised_learning_function_2(times, scalar):\n",
    "    \"\"\"\n",
    "    times: 次数\n",
    "    scalar：步长\n",
    "    \"\"\"\n",
    "    min_loss = float('inf') #正无穷\n",
    "    best_k = random.random() * 200 - 100\n",
    "    best_b = random.random() * 200 - 100\n",
    "    \n",
    "    # 方向\n",
    "    direction = [  (+1, -1),(+1, +1),(-1, +1),(-1, -1)]\n",
    "\n",
    "    current_direction = random.choice(direction)\n",
    "\n",
    "    for i in range(times):\n",
    "        k_direction, b_direction = current_direction\n",
    "\n",
    "        current_k, current_b = best_k + k_direction * scalar, best_b + b_direction * scalar\n",
    "\n",
    "        price_by_random_k_and_b = [price(r, current_k, current_b) for r in X_rm] #y_hat\n",
    "\n",
    "        current_loss = loss(Y, price_by_random_k_and_b)\n",
    "\n",
    "        if current_loss < min_loss:\n",
    "            min_loss = current_loss\n",
    "\n",
    "            best_k, best_b = current_k, current_b\n",
    "            current_direction = current_direction\n",
    "            print(\"When time is :%s, get best_k:%s best_b:%s, and loss is:%s\" % (i, best_k, best_b, min_loss))\n",
    "        else:\n",
    "            current_direction = random.choice(direction) # 缺点：随机取方向"
   ]
  },
  {
   "cell_type": "code",
   "execution_count": 80,
   "metadata": {},
   "outputs": [
    {
     "name": "stdout",
     "output_type": "stream",
     "text": [
      "When time is :0, get best_k:-23.803600733569656 best_b:-80.83789378631253, and loss is:252.9676278234072\n",
      "When time is :3, get best_k:-23.503600733569655 best_b:-80.53789378631254, and loss is:250.7822375072016\n",
      "When time is :4, get best_k:-23.203600733569655 best_b:-80.23789378631254, and loss is:248.5968471909958\n",
      "When time is :5, get best_k:-22.903600733569654 best_b:-79.93789378631254, and loss is:246.41145687479042\n",
      "When time is :6, get best_k:-22.603600733569653 best_b:-79.63789378631255, and loss is:244.22606655858505\n",
      "When time is :7, get best_k:-22.303600733569652 best_b:-79.33789378631255, and loss is:242.0406762423795\n",
      "When time is :8, get best_k:-22.00360073356965 best_b:-79.03789378631255, and loss is:239.85528592617402\n",
      "When time is :9, get best_k:-21.70360073356965 best_b:-78.73789378631255, and loss is:237.66989560996848\n",
      "When time is :10, get best_k:-21.40360073356965 best_b:-78.43789378631256, and loss is:235.48450529376285\n",
      "When time is :11, get best_k:-21.10360073356965 best_b:-78.13789378631256, and loss is:233.29911497755734\n",
      "When time is :12, get best_k:-20.80360073356965 best_b:-77.83789378631256, and loss is:231.11372466135168\n",
      "When time is :13, get best_k:-20.503600733569648 best_b:-77.53789378631257, and loss is:228.92833434514614\n",
      "When time is :14, get best_k:-20.203600733569647 best_b:-77.23789378631257, and loss is:226.74294402894054\n",
      "When time is :15, get best_k:-19.903600733569647 best_b:-76.93789378631257, and loss is:224.55755371273497\n",
      "When time is :16, get best_k:-19.603600733569646 best_b:-76.63789378631257, and loss is:222.3721633965297\n",
      "When time is :17, get best_k:-19.303600733569645 best_b:-76.33789378631258, and loss is:220.1867730803241\n",
      "When time is :18, get best_k:-19.003600733569645 best_b:-76.03789378631258, and loss is:218.00138276411843\n",
      "When time is :19, get best_k:-18.703600733569644 best_b:-75.73789378631258, and loss is:215.81599244791278\n",
      "When time is :20, get best_k:-18.403600733569643 best_b:-75.43789378631259, and loss is:213.63060213170743\n",
      "When time is :21, get best_k:-18.103600733569643 best_b:-75.13789378631259, and loss is:211.44521181550212\n",
      "When time is :22, get best_k:-17.803600733569642 best_b:-74.83789378631259, and loss is:209.25982149929658\n",
      "When time is :23, get best_k:-17.50360073356964 best_b:-74.5378937863126, and loss is:207.07443118309095\n",
      "When time is :24, get best_k:-17.20360073356964 best_b:-74.2378937863126, and loss is:204.8890408668853\n",
      "When time is :25, get best_k:-16.90360073356964 best_b:-73.9378937863126, and loss is:202.70365055068007\n",
      "When time is :26, get best_k:-16.60360073356964 best_b:-73.6378937863126, and loss is:200.51826023447472\n",
      "When time is :27, get best_k:-16.30360073356964 best_b:-73.3378937863126, and loss is:198.33286991826878\n",
      "When time is :28, get best_k:-16.003600733569638 best_b:-73.03789378631261, and loss is:196.14747960206304\n",
      "When time is :29, get best_k:-15.703600733569637 best_b:-72.73789378631261, and loss is:193.96208928585773\n",
      "When time is :30, get best_k:-15.403600733569636 best_b:-72.43789378631261, and loss is:191.77669896965236\n",
      "When time is :31, get best_k:-15.103600733569635 best_b:-72.13789378631262, and loss is:189.59130865344633\n",
      "When time is :32, get best_k:-14.803600733569635 best_b:-71.83789378631262, and loss is:187.40591833724122\n",
      "When time is :33, get best_k:-14.503600733569634 best_b:-71.53789378631262, and loss is:185.2205280210356\n",
      "When time is :34, get best_k:-14.203600733569633 best_b:-71.23789378631263, and loss is:183.03513770483002\n",
      "When time is :35, get best_k:-13.903600733569633 best_b:-70.93789378631263, and loss is:180.8497473886245\n",
      "When time is :36, get best_k:-13.603600733569632 best_b:-70.63789378631263, and loss is:178.6643570724189\n",
      "When time is :37, get best_k:-13.303600733569631 best_b:-70.33789378631263, and loss is:176.47896675621334\n",
      "When time is :38, get best_k:-13.00360073356963 best_b:-70.03789378631264, and loss is:174.29357644000805\n",
      "When time is :39, get best_k:-12.70360073356963 best_b:-69.73789378631264, and loss is:172.10818612380237\n",
      "When time is :40, get best_k:-12.403600733569629 best_b:-69.43789378631264, and loss is:169.92279580759677\n",
      "When time is :41, get best_k:-12.103600733569628 best_b:-69.13789378631265, and loss is:167.73740549139114\n",
      "When time is :42, get best_k:-11.803600733569628 best_b:-68.83789378631265, and loss is:165.55201517518546\n",
      "When time is :43, get best_k:-11.503600733569627 best_b:-68.53789378631265, and loss is:163.36662485898006\n",
      "When time is :44, get best_k:-11.203600733569626 best_b:-68.23789378631265, and loss is:161.18123454277446\n",
      "When time is :45, get best_k:-10.903600733569625 best_b:-67.93789378631266, and loss is:158.99584422656912\n",
      "When time is :46, get best_k:-10.603600733569625 best_b:-67.63789378631266, and loss is:156.8104539103637\n",
      "When time is :47, get best_k:-10.303600733569624 best_b:-67.33789378631266, and loss is:154.62506359415806\n",
      "When time is :48, get best_k:-10.003600733569623 best_b:-67.03789378631267, and loss is:152.4396732779524\n",
      "When time is :49, get best_k:-9.703600733569623 best_b:-66.73789378631267, and loss is:150.25428296174692\n",
      "When time is :50, get best_k:-9.403600733569622 best_b:-66.43789378631267, and loss is:148.06889264554135\n",
      "When time is :51, get best_k:-9.103600733569621 best_b:-66.13789378631267, and loss is:145.8835023293357\n",
      "When time is :52, get best_k:-8.80360073356962 best_b:-65.83789378631268, and loss is:143.6981120131305\n",
      "When time is :53, get best_k:-8.50360073356962 best_b:-65.53789378631268, and loss is:141.51272169692479\n",
      "When time is :54, get best_k:-8.203600733569619 best_b:-65.23789378631268, and loss is:139.32733138071922\n",
      "When time is :55, get best_k:-7.903600733569619 best_b:-64.93789378631269, and loss is:137.14194106451376\n",
      "When time is :56, get best_k:-7.603600733569619 best_b:-64.63789378631269, and loss is:134.9565507483082\n",
      "When time is :57, get best_k:-7.30360073356962 best_b:-64.33789378631269, and loss is:132.7711604321028\n",
      "When time is :58, get best_k:-7.00360073356962 best_b:-64.0378937863127, and loss is:130.58577011589716\n",
      "When time is :59, get best_k:-6.70360073356962 best_b:-63.737893786312696, and loss is:128.40037979969162\n",
      "When time is :60, get best_k:-6.40360073356962 best_b:-63.4378937863127, and loss is:126.21498948348612\n",
      "When time is :61, get best_k:-6.10360073356962 best_b:-63.1378937863127, and loss is:124.02959916728058\n",
      "When time is :62, get best_k:-5.8036007335696205 best_b:-62.837893786312705, and loss is:121.84420885107495\n",
      "When time is :63, get best_k:-5.503600733569621 best_b:-62.53789378631271, and loss is:119.6588185348694\n",
      "When time is :64, get best_k:-5.203600733569621 best_b:-62.23789378631271, and loss is:117.47342821866394\n",
      "When time is :65, get best_k:-4.903600733569621 best_b:-61.93789378631271, and loss is:115.28803790245846\n",
      "When time is :66, get best_k:-4.603600733569621 best_b:-61.637893786312716, and loss is:113.10264758625283\n",
      "When time is :67, get best_k:-4.303600733569621 best_b:-61.33789378631272, and loss is:110.91725727004733\n",
      "When time is :68, get best_k:-4.0036007335696215 best_b:-61.03789378631272, and loss is:108.73186695384179\n",
      "When time is :69, get best_k:-3.7036007335696217 best_b:-60.737893786312725, and loss is:106.54647663763639\n",
      "When time is :70, get best_k:-3.403600733569622 best_b:-60.43789378631273, and loss is:104.3610863214308\n",
      "When time is :71, get best_k:-3.103600733569622 best_b:-60.13789378631273, and loss is:102.17569600522522\n",
      "When time is :72, get best_k:-2.8036007335696222 best_b:-59.83789378631273, and loss is:99.99030568901976\n",
      "When time is :73, get best_k:-2.5036007335696224 best_b:-59.537893786312736, and loss is:97.80491537281412\n",
      "When time is :74, get best_k:-2.2036007335696226 best_b:-59.23789378631274, and loss is:95.61952505660858\n",
      "When time is :75, get best_k:-1.9036007335696226 best_b:-58.93789378631274, and loss is:93.43413474040311\n",
      "When time is :76, get best_k:-1.6036007335696225 best_b:-58.637893786312745, and loss is:91.24874442419775\n",
      "When time is :77, get best_k:-1.3036007335696225 best_b:-58.33789378631275, and loss is:89.06335410799213\n",
      "When time is :78, get best_k:-1.0036007335696224 best_b:-58.03789378631275, and loss is:86.87796379178661\n",
      "When time is :79, get best_k:-0.7036007335696224 best_b:-57.73789378631275, and loss is:84.69257347558096\n",
      "When time is :80, get best_k:-0.4036007335696224 best_b:-57.437893786312756, and loss is:82.50718315937549\n",
      "When time is :81, get best_k:-0.1036007335696224 best_b:-57.13789378631276, and loss is:80.32179284317\n",
      "When time is :82, get best_k:0.19639926643037758 best_b:-56.83789378631276, and loss is:78.13640252696445\n",
      "When time is :83, get best_k:0.4963992664303776 best_b:-56.537893786312765, and loss is:75.95101221075885\n",
      "When time is :84, get best_k:0.7963992664303776 best_b:-56.23789378631277, and loss is:73.76562189455333\n",
      "When time is :85, get best_k:1.0963992664303777 best_b:-55.93789378631277, and loss is:71.58023157834783\n",
      "When time is :86, get best_k:1.3963992664303777 best_b:-55.63789378631277, and loss is:69.39484126214224\n",
      "When time is :87, get best_k:1.6963992664303778 best_b:-55.337893786312776, and loss is:67.20945094593678\n",
      "When time is :88, get best_k:1.9963992664303778 best_b:-55.03789378631278, and loss is:65.02406062973122\n",
      "When time is :89, get best_k:2.296399266430378 best_b:-54.73789378631278, and loss is:62.83867031352568\n",
      "When time is :90, get best_k:2.5963992664303777 best_b:-54.437893786312785, and loss is:60.65327999732013\n",
      "When time is :91, get best_k:2.8963992664303775 best_b:-54.13789378631279, and loss is:58.46788968111466\n",
      "When time is :92, get best_k:3.1963992664303773 best_b:-53.83789378631279, and loss is:56.28249936490913\n",
      "When time is :93, get best_k:3.496399266430377 best_b:-53.53789378631279, and loss is:54.09710904870356\n",
      "When time is :94, get best_k:3.796399266430377 best_b:-53.237893786312796, and loss is:51.91171873249801\n",
      "When time is :95, get best_k:4.096399266430377 best_b:-52.9378937863128, and loss is:49.72632841629253\n",
      "When time is :96, get best_k:4.396399266430377 best_b:-52.6378937863128, and loss is:47.54093810008701\n",
      "When time is :97, get best_k:4.696399266430377 best_b:-52.337893786312804, and loss is:45.35554778388146\n",
      "When time is :98, get best_k:4.996399266430377 best_b:-52.03789378631281, and loss is:43.170157467675956\n",
      "When time is :99, get best_k:5.2963992664303765 best_b:-51.73789378631281, and loss is:40.98476715147042\n",
      "When time is :100, get best_k:5.596399266430376 best_b:-51.43789378631281, and loss is:38.799376835264866\n",
      "When time is :101, get best_k:5.896399266430376 best_b:-51.137893786312816, and loss is:36.61398651905934\n",
      "When time is :102, get best_k:6.196399266430376 best_b:-50.83789378631282, and loss is:34.42859620285381\n",
      "When time is :103, get best_k:6.496399266430376 best_b:-50.53789378631282, and loss is:32.24320588664828\n",
      "When time is :104, get best_k:6.796399266430376 best_b:-50.237893786312824, and loss is:30.05781557044277\n",
      "When time is :105, get best_k:7.096399266430375 best_b:-49.93789378631283, and loss is:27.872425254237218\n",
      "When time is :106, get best_k:7.396399266430375 best_b:-49.63789378631283, and loss is:25.687034938031715\n",
      "When time is :107, get best_k:7.696399266430375 best_b:-49.33789378631283, and loss is:23.50164462182616\n",
      "When time is :108, get best_k:7.996399266430375 best_b:-49.037893786312836, and loss is:21.316254305620642\n",
      "When time is :109, get best_k:8.296399266430376 best_b:-48.73789378631284, and loss is:19.139689198156457\n",
      "When time is :110, get best_k:8.596399266430376 best_b:-48.43789378631284, and loss is:16.986529518749276\n",
      "When time is :111, get best_k:8.896399266430377 best_b:-48.137893786312844, and loss is:14.860116198210328\n",
      "When time is :112, get best_k:9.196399266430378 best_b:-47.83789378631285, and loss is:12.788494474996522\n",
      "When time is :113, get best_k:9.496399266430378 best_b:-47.53789378631285, and loss is:10.818993130907192\n",
      "When time is :114, get best_k:9.79639926643038 best_b:-47.23789378631285, and loss is:8.990096175645755\n",
      "When time is :115, get best_k:10.09639926643038 best_b:-46.937893786312856, and loss is:7.336706261416658\n",
      "When time is :116, get best_k:10.39639926643038 best_b:-46.63789378631286, and loss is:5.925722341201673\n",
      "When time is :117, get best_k:10.696399266430381 best_b:-46.33789378631286, and loss is:4.824913990585202\n",
      "When time is :118, get best_k:10.996399266430382 best_b:-46.037893786312864, and loss is:4.484056237229206\n"
     ]
    }
   ],
   "source": [
    "supervised_learning_function_1(2000, 0.3)"
   ]
  },
  {
   "cell_type": "markdown",
   "metadata": {},
   "source": [
    "***"
   ]
  },
  {
   "cell_type": "markdown",
   "metadata": {},
   "source": [
    "## 2. Answer following questions:\n",
    "\n",
    "\n",
    "###### 1. Why do we need machine learning methods instead of creating a complicated formula?\n"
   ]
  },
  {
   "cell_type": "markdown",
   "metadata": {},
   "source": [
    "Ans : 1.构造一个复杂的函数是比较难 2. 数据不断在变化，对于新的数据，给定函数得到的结果一般来说不准确"
   ]
  },
  {
   "cell_type": "markdown",
   "metadata": {},
   "source": [
    "###### 2.  Wha't's the disadvantages of `the 1st Random Choosen` methods in our course? "
   ]
  },
  {
   "cell_type": "markdown",
   "metadata": {},
   "source": [
    "Ans: 随机的k,b构造的函数所得到的的结果好坏都是随机的，没有优化的方向"
   ]
  },
  {
   "cell_type": "markdown",
   "metadata": {},
   "source": [
    "###### 3. Is the `2nd method supervised direction` better than 1st one?  What's the disadvantages of `the 2nd supversied directin` method? "
   ]
  },
  {
   "cell_type": "markdown",
   "metadata": {},
   "source": [
    "Ans: 第二种方法好于第一种方法，缺点：1.多元或者多变量函数，方向组合变的更大更复杂 2.对于min_loss条件不成立时，direction取随机也是无优化方向的"
   ]
  },
  {
   "cell_type": "markdown",
   "metadata": {},
   "source": [
    "###### 4. Why do we use `Derivative / Gredient` to fit a target function? "
   ]
  },
  {
   "cell_type": "markdown",
   "metadata": {},
   "source": [
    "Ans: 待补充。。。"
   ]
  },
  {
   "cell_type": "markdown",
   "metadata": {},
   "source": [
    "###### 5. In the words 'Gredient Descent', what's the `Gredient` and what's the `Descent`?"
   ]
  },
  {
   "cell_type": "markdown",
   "metadata": {},
   "source": [
    "Ans: 待补充。。。"
   ]
  },
  {
   "cell_type": "markdown",
   "metadata": {},
   "source": [
    "###### 6. What's the advantages of `the 3rd gradient descent method` compared to the previous methods?"
   ]
  },
  {
   "cell_type": "markdown",
   "metadata": {},
   "source": [
    "Ans: 待补充。。。"
   ]
  },
  {
   "cell_type": "markdown",
   "metadata": {},
   "source": [
    "###### 7. Using the simple words to describe: What's the machine leanring."
   ]
  },
  {
   "cell_type": "markdown",
   "metadata": {},
   "source": [
    "Ans: 待补充。。。"
   ]
  },
  {
   "cell_type": "markdown",
   "metadata": {},
   "source": [
    "## 3. Finish the search problem"
   ]
  },
  {
   "cell_type": "markdown",
   "metadata": {},
   "source": [
    "Please using the search policy to implement an agent. This agent receives two input, one is @param start station and the other is @param destination. Your agent should give the optimal route based on Beijing Subway system. "
   ]
  },
  {
   "cell_type": "markdown",
   "metadata": {},
   "source": [
    "> Deadline: 2019-July-13\n",
    "\n",
    ">Submit: Submit the source code and result to github. \n",
    "\n"
   ]
  },
  {
   "cell_type": "markdown",
   "metadata": {},
   "source": [
    "![](https://timgsa.baidu.com/timg?image&quality=80&size=b9999_10000&sec=1562414356407&di=b57814aafd215bb8b8d9d8cd37c573d6&imgtype=0&src=http%3A%2F%2Fcli.clewm.net%2Ffile%2F2015%2F03%2F24%2F174ed60082b8422ac0636cfd3efb9e7f.jpg)"
   ]
  },
  {
   "cell_type": "markdown",
   "metadata": {},
   "source": [
    "#### Dataflow: "
   ]
  },
  {
   "cell_type": "markdown",
   "metadata": {},
   "source": [
    "##### 1.\tGet data from web page.\n",
    "\n",
    "> a.\tGet web page source from: https://baike.baidu.com/item/%E5%8C%97%E4%BA%AC%E5%9C%B0%E9%93%81/408485\n",
    "\n",
    "> b.\tYou may need @package **requests**[https://2.python-requests.org/en/master/] page to get the response via url\n",
    "\n",
    "> c.\tYou may need save the page source to file system.\n",
    "\n",
    "> d.\tThe target of this step is to get station information of all the subway lines;\n",
    "\n",
    "> e.\tYou may need install @package beautiful soup[https://www.crummy.com/software/BeautifulSoup/bs4/doc/]  to get the url information, or just use > Regular Expression to get the url.  Our recommendation is that using the Regular Expression and BeautiflSoup both. \n",
    "\n",
    "> f.\tYou may need BFS to get all the related page url from one url. \n",
    "Question: Why do we use BFS to traverse web page (or someone said, build a web spider)?  Can DFS do this job? which is better? "
   ]
  },
  {
   "cell_type": "code",
   "execution_count": null,
   "metadata": {},
   "outputs": [],
   "source": []
  },
  {
   "cell_type": "markdown",
   "metadata": {},
   "source": [
    "##### 2.\tPreprocessing data from page source.\n",
    "\n",
    "> a.\tBased on the page source gotten from url. You may need some more preprocessing of the page. \n",
    "\n",
    "> b.\tthe Regular Expression you may need to process the text information.\n",
    "\n",
    "> c.\tYou may need @package networkx, @package matplotlib to visualize data. \n",
    "\n",
    "> d.\tYou should build a dictionary or graph which could represent the connection information of Beijing subway routes. \n",
    "\n",
    "> e.\tYou may need the defaultdict, set data structures to implement this procedure. "
   ]
  },
  {
   "cell_type": "markdown",
   "metadata": {},
   "source": [
    "##### 3. Build the search agent\n",
    "\n",
    "> Build the search agent based on the graph we build.\n",
    "\n",
    "for example, when you run: \n",
    "\n",
    "```python\n",
    ">>> search('奥体中心', '天安门') \n",
    "```\n",
    "you need get the result: \n",
    "\n",
    "奥体中心-> A -> B -> C -> ... -> 天安门\n",
    "\n"
   ]
  },
  {
   "cell_type": "markdown",
   "metadata": {},
   "source": [
    "## （Optional）Create different policies for transfer system.\n"
   ]
  },
  {
   "cell_type": "markdown",
   "metadata": {},
   "source": [
    "以下部门为可选部分，请酌情完成。 并不要求全部同学完成。"
   ]
  },
  {
   "cell_type": "markdown",
   "metadata": {},
   "source": [
    "As much as you can to use the already implemented search agent. You just need to define the **is_goal()**, **get_successor()**, **strategy()** three functions. \n",
    "\n",
    "> a.\tDefine different policies for transfer system. \n",
    "\n",
    "> b.\tSuch as Shortest Path Priority（路程最短优先）, Minimum Transfer Priority(最少换乘优先), Comprehensive Priority(综合优先)\n",
    "\n",
    "> c.\tImplement Continuous transfer. Based on the Agent you implemented, please add this feature: Besides the @param start and @param destination two stations, add some more stations, we called @param by_way, it means, our path should from the start and end, but also include the  @param by_way stations. \n",
    "\n",
    "e.g \n",
    "```\n",
    "1. Input:  start=A,  destination=B, by_way=[C] \n",
    "    Output: [A, … .., C, …. B]\n",
    "2. Input: start=A, destination=B, by_way=[C, D, E]\n",
    "    Output: [A … C … E … D … B]  \n",
    "    # based on your policy, the E station could be reached firstly. \n",
    "![image.png](attachment:image.png)\n",
    "```"
   ]
  },
  {
   "cell_type": "markdown",
   "metadata": {},
   "source": [
    "##### 5.\tTest your result with commercial applications. \n",
    "\n",
    "将你的结果和高德地图或者百度地图进行比较，如果有不同，请分析原因\n"
   ]
  },
  {
   "cell_type": "markdown",
   "metadata": {},
   "source": [
    "恭喜，完成本次课程，你对常用的人工智能方法以及有一定的了解了。基于规则的，基于概率模型的，基于搜索的，基于机器学习的。 可以说，我们现在通常见到的方法都能够归属到这几类方法中。 这就是**人工智能**，并没有很难是吧？ 继续加油！"
   ]
  },
  {
   "cell_type": "markdown",
   "metadata": {},
   "source": [
    "![](https://timgsa.baidu.com/timg?image&quality=80&size=b9999_10000&sec=1562415163815&di=4b29a2a863a8285212033760f288ed7a&imgtype=0&src=http%3A%2F%2F5b0988e595225.cdn.sohucs.com%2Fimages%2F20180710%2F8704194a1d7f46a383ddc29d40c9bca5.jpeg)"
   ]
  }
 ],
 "metadata": {
  "kernelspec": {
   "display_name": "Python 3",
   "language": "python",
   "name": "python3"
  },
  "language_info": {
   "codemirror_mode": {
    "name": "ipython",
    "version": 3
   },
   "file_extension": ".py",
   "mimetype": "text/x-python",
   "name": "python",
   "nbconvert_exporter": "python",
   "pygments_lexer": "ipython3",
   "version": "3.7.3"
  }
 },
 "nbformat": 4,
 "nbformat_minor": 2
}
